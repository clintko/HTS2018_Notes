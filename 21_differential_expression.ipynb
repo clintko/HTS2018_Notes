{
 "cells": [
  {
   "cell_type": "markdown",
   "metadata": {},
   "source": [
    "# Outline"
   ]
  },
  {
   "cell_type": "markdown",
   "metadata": {},
   "source": [
    "- DE genes\n",
    "- GO enrichment"
   ]
  },
  {
   "cell_type": "markdown",
   "metadata": {},
   "source": [
    "# Set environment"
   ]
  },
  {
   "cell_type": "code",
   "execution_count": 8,
   "metadata": {
    "scrolled": true
   },
   "outputs": [],
   "source": [
    "source(\"config_path.R\")\n",
    "source(\"util_path.R\")"
   ]
  },
  {
   "cell_type": "markdown",
   "metadata": {},
   "source": [
    "## 01 data"
   ]
  },
  {
   "cell_type": "code",
   "execution_count": 5,
   "metadata": {},
   "outputs": [],
   "source": [
    "#attach(file.path(OUTDIR, \"HTS-GroupB-DESeq.RData\"))\n",
    "attach(file.path(OUTDIR, \"HTS-GroupAll-DESeq.RData\"))"
   ]
  },
  {
   "cell_type": "markdown",
   "metadata": {},
   "source": [
    "## 02 GO terms"
   ]
  },
  {
   "cell_type": "code",
   "execution_count": 4,
   "metadata": {},
   "outputs": [],
   "source": [
    "attach(file.path(OUTDIR, \"HTS-GO-Info.RData\"))"
   ]
  },
  {
   "cell_type": "markdown",
   "metadata": {},
   "source": [
    "# A quick example"
   ]
  },
  {
   "cell_type": "code",
   "execution_count": 129,
   "metadata": {},
   "outputs": [
    {
     "data": {
      "text/html": [
       "2543"
      ],
      "text/latex": [
       "2543"
      ],
      "text/markdown": [
       "2543"
      ],
      "text/plain": [
       "[1] 2543"
      ]
     },
     "metadata": {},
     "output_type": "display_data"
    }
   ],
   "source": [
    "gset_all <- unlist(gset_go_bp)\n",
    "length(gset_all)"
   ]
  },
  {
   "cell_type": "code",
   "execution_count": 143,
   "metadata": {},
   "outputs": [
    {
     "name": "stdout",
     "output_type": "stream",
     "text": [
      " [1] \"CNAG_00057\" \"CNAG_00121\" \"CNAG_00373\" \"CNAG_00393\" \"CNAG_00596\"\n",
      " [6] \"CNAG_00623\" \"CNAG_00663\" \"CNAG_00684\" \"CNAG_00696\" \"CNAG_00799\"\n",
      "[11] \"CNAG_00827\" \"CNAG_00939\" \"CNAG_01155\" \"CNAG_01216\" \"CNAG_01230\"\n",
      "[16] \"CNAG_01239\" \"CNAG_01651\" \"CNAG_01675\" \"CNAG_01745\" \"CNAG_01758\"\n",
      "[21] \"CNAG_01984\" \"CNAG_02062\" \"CNAG_02133\" \"CNAG_02225\" \"CNAG_02230\"\n",
      "[26] \"CNAG_02351\" \"CNAG_02445\" \"CNAG_02588\" \"CNAG_02598\" \"CNAG_02834\"\n",
      "[31] \"CNAG_03146\" \"CNAG_03225\" \"CNAG_03247\" \"CNAG_03266\" \"CNAG_03412\"\n",
      "[36] \"CNAG_03769\" \"CNAG_04025\" \"CNAG_04033\" \"CNAG_04065\" \"CNAG_04245\"\n",
      "[41] \"CNAG_04526\" \"CNAG_04631\" \"CNAG_04874\" \"CNAG_05138\" \"CNAG_05243\"\n",
      "[46] \"CNAG_05369\" \"CNAG_05411\" \"CNAG_05471\" \"CNAG_05480\" \"CNAG_05607\"\n",
      "[51] \"CNAG_05652\" \"CNAG_05766\" \"CNAG_05799\" \"CNAG_05803\" \"CNAG_05913\"\n",
      "[56] \"CNAG_06260\" \"CNAG_06291\" \"CNAG_06313\" \"CNAG_06336\" \"CNAG_06515\"\n",
      "[61] \"CNAG_06593\" \"CNAG_06659\" \"CNAG_06666\" \"CNAG_06770\" \"CNAG_06923\"\n",
      "[66] \"CNAG_06924\" \"CNAG_06931\" \"CNAG_06936\" \"CNAG_06985\" \"CNAG_07559\"\n",
      "[71] \"CNAG_07600\" \"CNAG_07707\" \"CNAG_07976\"\n",
      "       \n",
      "        FALSE TRUE\n",
      "  FALSE  2146   53\n",
      "  TRUE    324   20\n",
      "\n",
      "\tFisher's Exact Test for Count Data\n",
      "\n",
      "data:  tab\n",
      "p-value = 0.00111\n",
      "alternative hypothesis: true odds ratio is greater than 1\n",
      "95 percent confidence interval:\n",
      " 1.529922      Inf\n",
      "sample estimates:\n",
      "odds ratio \n",
      "  2.498168 \n",
      "\n"
     ]
    }
   ],
   "source": [
    "gset  <- gset_go_bp[[\"GO:0005975 | carbohydrate metabolic process\"]]\n",
    "print(gset)\n",
    "tab   <- table(gset_all %in% exp_dw$row, gset_all %in% gset)\n",
    "print(tab)\n",
    "test  <- fisher.test(tab, alternative = \"greater\")\n",
    "#res   <- c(name, test$estimate, test$p.value)\n",
    "print(test)"
   ]
  },
  {
   "cell_type": "markdown",
   "metadata": {},
   "source": [
    "# GO enrichment analysis"
   ]
  },
  {
   "cell_type": "code",
   "execution_count": 14,
   "metadata": {},
   "outputs": [],
   "source": [
    "enrichment <- function(ddsres, pvalue, lfc, mygeneset){\n",
    "    tmp    <- ddsres\n",
    "    #tmp    <- tmp %>% filter(padj < 0.05, abs(log2FoldChange) > 1)\n",
    "    tmp    <- tmp %>% filter(padj < 0.05)\n",
    "    exp_up <- tmp %>% filter(log2FoldChange > 0)\n",
    "    exp_dw <- tmp %>% filter(log2FoldChange < 0)\n",
    "    \n",
    "    cat(\"\\n\", \n",
    "        \"#gene up:  \", nrow(exp_up), \"\\n\", \n",
    "        \"#gene down:\", nrow(exp_dw), \"\\n\")\n",
    "    \n",
    "    gset_all <- unlist(mygeneset)\n",
    "    cat(\"\", \"#gene in reference:\", length(gset_all))\n",
    "    \n",
    "    out <- list()\n",
    "    tmp <- sapply(names(mygeneset), function(name){\n",
    "        gset  <- mygeneset[[name]]\n",
    "        tab   <- table(gset_all %in% exp_up$row, gset_all %in% gset)\n",
    "        test  <- fisher.test(tab, alternative = \"greater\")\n",
    "        res   <- c(name, test$estimate, test$p.value)\n",
    "        names(res) <- c('name', 'esitmate', 'pvalue')\n",
    "        return(res)\n",
    "    })\n",
    "    out$greater <- as.tibble(t(tmp)) %>% \n",
    "        mutate(padj = p.adjust(pvalue, \"BH\")) %>% \n",
    "        filter(padj < 0.05)\n",
    "    \n",
    "    \n",
    "    \n",
    "    tmp <- sapply(names(mygeneset), function(name){\n",
    "        gset  <- mygeneset[[name]]\n",
    "        tab   <- table(gset_all %in% exp_dw$row, gset_all %in% gset)\n",
    "        test  <- fisher.test(tab, alternative = \"greater\")\n",
    "        res   <- c(name, test$estimate, test$p.value)\n",
    "        names(res) <- c('name', 'esitmate', 'pvalue')\n",
    "        return(res)\n",
    "    })\n",
    "    \n",
    "    out$less <- as.tibble(t(tmp)) %>% \n",
    "        mutate(padj = p.adjust(pvalue, \"BH\")) %>% \n",
    "        filter(padj < 0.05)\n",
    "    \n",
    "    \n",
    "    return(out)\n",
    "    \n",
    "}"
   ]
  },
  {
   "cell_type": "markdown",
   "metadata": {},
   "source": [
    "res_media_h99,  res_media_mar,\n",
    "res_strain_ypd, res_strain_tc,"
   ]
  },
  {
   "cell_type": "markdown",
   "metadata": {},
   "source": [
    "## 01 YPD -> TC in H99"
   ]
  },
  {
   "cell_type": "code",
   "execution_count": 15,
   "metadata": {},
   "outputs": [
    {
     "name": "stdout",
     "output_type": "stream",
     "text": [
      "\n",
      " #gene up:   2410 \n",
      " #gene down: 3455 \n",
      " #gene in reference: 2543\n",
      " #gene up:   2410 \n",
      " #gene down: 3455 \n",
      " #gene in reference: 3322\n",
      " #gene up:   2410 \n",
      " #gene down: 3455 \n",
      " #gene in reference: 1362"
     ]
    }
   ],
   "source": [
    "res <- res_media_h99\n",
    "go_media_h99 <- list()\n",
    "\n",
    "go_media_h99$bp <- enrichment(res, 0.05, 1, gset_go_bp)\n",
    "go_media_h99$fc <- enrichment(res, 0.05, 1, gset_go_fc)\n",
    "go_media_h99$cc <- enrichment(res, 0.05, 1, gset_go_cc)"
   ]
  },
  {
   "cell_type": "markdown",
   "metadata": {},
   "source": [
    "## 02 YPD -> TC in mar1d"
   ]
  },
  {
   "cell_type": "code",
   "execution_count": 16,
   "metadata": {},
   "outputs": [
    {
     "name": "stdout",
     "output_type": "stream",
     "text": [
      "\n",
      " #gene up:   2561 \n",
      " #gene down: 3752 \n",
      " #gene in reference: 2543\n",
      " #gene up:   2561 \n",
      " #gene down: 3752 \n",
      " #gene in reference: 3322\n",
      " #gene up:   2561 \n",
      " #gene down: 3752 \n",
      " #gene in reference: 1362"
     ]
    }
   ],
   "source": [
    "res <- res_media_mar\n",
    "go_media_mar <- list()\n",
    "\n",
    "go_media_mar$bp <- enrichment(res, 0.05, 1, gset_go_bp)\n",
    "go_media_mar$fc <- enrichment(res, 0.05, 1, gset_go_fc)\n",
    "go_media_mar$cc <- enrichment(res, 0.05, 1, gset_go_cc)"
   ]
  },
  {
   "cell_type": "markdown",
   "metadata": {},
   "source": [
    "## 03 H99 vs mar1d in YPD"
   ]
  },
  {
   "cell_type": "code",
   "execution_count": 17,
   "metadata": {},
   "outputs": [
    {
     "name": "stdout",
     "output_type": "stream",
     "text": [
      "\n",
      " #gene up:   2057 \n",
      " #gene down: 2455 \n",
      " #gene in reference: 2543\n",
      " #gene up:   2057 \n",
      " #gene down: 2455 \n",
      " #gene in reference: 3322\n",
      " #gene up:   2057 \n",
      " #gene down: 2455 \n",
      " #gene in reference: 1362"
     ]
    }
   ],
   "source": [
    "res <- res_strain_ypd\n",
    "go_strain_ypd <- list()\n",
    "\n",
    "go_strain_ypd$bp <- enrichment(res, 0.05, 1, gset_go_bp)\n",
    "go_strain_ypd$fc <- enrichment(res, 0.05, 1, gset_go_fc)\n",
    "go_strain_ypd$cc <- enrichment(res, 0.05, 1, gset_go_cc)"
   ]
  },
  {
   "cell_type": "markdown",
   "metadata": {},
   "source": [
    "## 04 H99 vs mar1d in TC# Strain TC"
   ]
  },
  {
   "cell_type": "code",
   "execution_count": 18,
   "metadata": {},
   "outputs": [
    {
     "name": "stdout",
     "output_type": "stream",
     "text": [
      "\n",
      " #gene up:   1992 \n",
      " #gene down: 2115 \n",
      " #gene in reference: 2543\n",
      " #gene up:   1992 \n",
      " #gene down: 2115 \n",
      " #gene in reference: 3322\n",
      " #gene up:   1992 \n",
      " #gene down: 2115 \n",
      " #gene in reference: 1362"
     ]
    }
   ],
   "source": [
    "res <- res_strain_tc\n",
    "go_strain_tc <- list()\n",
    "\n",
    "go_strain_tc$bp <- enrichment(res, 0.05, 1, gset_go_bp)\n",
    "go_strain_tc$fc <- enrichment(res, 0.05, 1, gset_go_fc)\n",
    "go_strain_tc$cc <- enrichment(res, 0.05, 1, gset_go_cc)"
   ]
  },
  {
   "cell_type": "markdown",
   "metadata": {},
   "source": [
    "# Compare"
   ]
  },
  {
   "cell_type": "code",
   "execution_count": 23,
   "metadata": {},
   "outputs": [
    {
     "data": {
      "text/html": [
       "<table>\n",
       "<thead><tr><th scope=col>name</th></tr></thead>\n",
       "<tbody>\n",
       "\t<tr><td>GO:0006351 | transcription, DNA-templated          </td></tr>\n",
       "\t<tr><td>GO:0006364 | rRNA processing                       </td></tr>\n",
       "\t<tr><td>GO:0006396 | RNA processing                        </td></tr>\n",
       "\t<tr><td>GO:0006412 | translation                           </td></tr>\n",
       "\t<tr><td>GO:0006413 | translational initiation              </td></tr>\n",
       "\t<tr><td>GO:0006414 | translational elongation              </td></tr>\n",
       "\t<tr><td>GO:0006457 | protein folding                       </td></tr>\n",
       "\t<tr><td>GO:0008033 | tRNA processing                       </td></tr>\n",
       "\t<tr><td>GO:0015986 | ATP synthesis coupled proton transport</td></tr>\n",
       "\t<tr><td>GO:0044267 | cellular protein metabolic process    </td></tr>\n",
       "</tbody>\n",
       "</table>\n"
      ],
      "text/latex": [
       "\\begin{tabular}{r|l}\n",
       " name\\\\\n",
       "\\hline\n",
       "\t GO:0006351 \\textbar{} transcription, DNA-templated          \\\\\n",
       "\t GO:0006364 \\textbar{} rRNA processing                       \\\\\n",
       "\t GO:0006396 \\textbar{} RNA processing                        \\\\\n",
       "\t GO:0006412 \\textbar{} translation                           \\\\\n",
       "\t GO:0006413 \\textbar{} translational initiation              \\\\\n",
       "\t GO:0006414 \\textbar{} translational elongation              \\\\\n",
       "\t GO:0006457 \\textbar{} protein folding                       \\\\\n",
       "\t GO:0008033 \\textbar{} tRNA processing                       \\\\\n",
       "\t GO:0015986 \\textbar{} ATP synthesis coupled proton transport\\\\\n",
       "\t GO:0044267 \\textbar{} cellular protein metabolic process    \\\\\n",
       "\\end{tabular}\n"
      ],
      "text/markdown": [
       "\n",
       "name | \n",
       "|---|---|---|---|---|---|---|---|---|---|\n",
       "| GO:0006351 | transcription, DNA-templated           | \n",
       "| GO:0006364 | rRNA processing                        | \n",
       "| GO:0006396 | RNA processing                         | \n",
       "| GO:0006412 | translation                            | \n",
       "| GO:0006413 | translational initiation               | \n",
       "| GO:0006414 | translational elongation               | \n",
       "| GO:0006457 | protein folding                        | \n",
       "| GO:0008033 | tRNA processing                        | \n",
       "| GO:0015986 | ATP synthesis coupled proton transport | \n",
       "| GO:0044267 | cellular protein metabolic process     | \n",
       "\n",
       "\n"
      ],
      "text/plain": [
       "   name                                               \n",
       "1  GO:0006351 | transcription, DNA-templated          \n",
       "2  GO:0006364 | rRNA processing                       \n",
       "3  GO:0006396 | RNA processing                        \n",
       "4  GO:0006412 | translation                           \n",
       "5  GO:0006413 | translational initiation              \n",
       "6  GO:0006414 | translational elongation              \n",
       "7  GO:0006457 | protein folding                       \n",
       "8  GO:0008033 | tRNA processing                       \n",
       "9  GO:0015986 | ATP synthesis coupled proton transport\n",
       "10 GO:0044267 | cellular protein metabolic process    "
      ]
     },
     "metadata": {},
     "output_type": "display_data"
    },
    {
     "data": {
      "text/html": [
       "<table>\n",
       "<thead><tr><th scope=col>name</th></tr></thead>\n",
       "<tbody>\n",
       "\t<tr><td>GO:0005975 | carbohydrate metabolic process</td></tr>\n",
       "\t<tr><td>GO:0055085 | transmembrane transport       </td></tr>\n",
       "</tbody>\n",
       "</table>\n"
      ],
      "text/latex": [
       "\\begin{tabular}{r|l}\n",
       " name\\\\\n",
       "\\hline\n",
       "\t GO:0005975 \\textbar{} carbohydrate metabolic process\\\\\n",
       "\t GO:0055085 \\textbar{} transmembrane transport       \\\\\n",
       "\\end{tabular}\n"
      ],
      "text/markdown": [
       "\n",
       "name | \n",
       "|---|---|\n",
       "| GO:0005975 | carbohydrate metabolic process | \n",
       "| GO:0055085 | transmembrane transport        | \n",
       "\n",
       "\n"
      ],
      "text/plain": [
       "  name                                       \n",
       "1 GO:0005975 | carbohydrate metabolic process\n",
       "2 GO:0055085 | transmembrane transport       "
      ]
     },
     "metadata": {},
     "output_type": "display_data"
    },
    {
     "data": {
      "text/html": [
       "<table>\n",
       "<thead><tr><th scope=col>name</th></tr></thead>\n",
       "<tbody>\n",
       "\t<tr><td>GO:0005622 | intracellular           </td></tr>\n",
       "\t<tr><td>GO:0005737 | cytoplasm               </td></tr>\n",
       "\t<tr><td>GO:0005739 | mitochondrion           </td></tr>\n",
       "\t<tr><td>GO:0005840 | ribosome                </td></tr>\n",
       "\t<tr><td>GO:0015934 | large ribosomal subunit </td></tr>\n",
       "\t<tr><td>GO:0032040 | small-subunit processome</td></tr>\n",
       "</tbody>\n",
       "</table>\n"
      ],
      "text/latex": [
       "\\begin{tabular}{r|l}\n",
       " name\\\\\n",
       "\\hline\n",
       "\t GO:0005622 \\textbar{} intracellular           \\\\\n",
       "\t GO:0005737 \\textbar{} cytoplasm               \\\\\n",
       "\t GO:0005739 \\textbar{} mitochondrion           \\\\\n",
       "\t GO:0005840 \\textbar{} ribosome                \\\\\n",
       "\t GO:0015934 \\textbar{} large ribosomal subunit \\\\\n",
       "\t GO:0032040 \\textbar{} small-subunit processome\\\\\n",
       "\\end{tabular}\n"
      ],
      "text/markdown": [
       "\n",
       "name | \n",
       "|---|---|---|---|---|---|\n",
       "| GO:0005622 | intracellular            | \n",
       "| GO:0005737 | cytoplasm                | \n",
       "| GO:0005739 | mitochondrion            | \n",
       "| GO:0005840 | ribosome                 | \n",
       "| GO:0015934 | large ribosomal subunit  | \n",
       "| GO:0032040 | small-subunit processome | \n",
       "\n",
       "\n"
      ],
      "text/plain": [
       "  name                                 \n",
       "1 GO:0005622 | intracellular           \n",
       "2 GO:0005737 | cytoplasm               \n",
       "3 GO:0005739 | mitochondrion           \n",
       "4 GO:0005840 | ribosome                \n",
       "5 GO:0015934 | large ribosomal subunit \n",
       "6 GO:0032040 | small-subunit processome"
      ]
     },
     "metadata": {},
     "output_type": "display_data"
    },
    {
     "data": {
      "text/html": [
       "<table>\n",
       "<thead><tr><th scope=col>name</th></tr></thead>\n",
       "<tbody>\n",
       "\t<tr><td>GO:0005783 | endoplasmic reticulum         </td></tr>\n",
       "\t<tr><td>GO:0016020 | membrane                      </td></tr>\n",
       "\t<tr><td>GO:0016021 | integral component of membrane</td></tr>\n",
       "</tbody>\n",
       "</table>\n"
      ],
      "text/latex": [
       "\\begin{tabular}{r|l}\n",
       " name\\\\\n",
       "\\hline\n",
       "\t GO:0005783 \\textbar{} endoplasmic reticulum         \\\\\n",
       "\t GO:0016020 \\textbar{} membrane                      \\\\\n",
       "\t GO:0016021 \\textbar{} integral component of membrane\\\\\n",
       "\\end{tabular}\n"
      ],
      "text/markdown": [
       "\n",
       "name | \n",
       "|---|---|---|\n",
       "| GO:0005783 | endoplasmic reticulum          | \n",
       "| GO:0016020 | membrane                       | \n",
       "| GO:0016021 | integral component of membrane | \n",
       "\n",
       "\n"
      ],
      "text/plain": [
       "  name                                       \n",
       "1 GO:0005783 | endoplasmic reticulum         \n",
       "2 GO:0016020 | membrane                      \n",
       "3 GO:0016021 | integral component of membrane"
      ]
     },
     "metadata": {},
     "output_type": "display_data"
    }
   ],
   "source": [
    "res <- go_media_h99\n",
    "res$bp$greater %>% select(name)\n",
    "res$bp$less    %>% select(name)\n",
    "res$cc$greater %>% select(name)\n",
    "res$cc$less    %>% select(name)"
   ]
  },
  {
   "cell_type": "code",
   "execution_count": 24,
   "metadata": {},
   "outputs": [
    {
     "data": {
      "text/html": [
       "<table>\n",
       "<thead><tr><th scope=col>name</th></tr></thead>\n",
       "<tbody>\n",
       "\t<tr><td>GO:0006351 | transcription, DNA-templated</td></tr>\n",
       "\t<tr><td>GO:0006364 | rRNA processing             </td></tr>\n",
       "\t<tr><td>GO:0006412 | translation                 </td></tr>\n",
       "\t<tr><td>GO:0006413 | translational initiation    </td></tr>\n",
       "\t<tr><td>GO:0006414 | translational elongation    </td></tr>\n",
       "\t<tr><td>GO:0008033 | tRNA processing             </td></tr>\n",
       "</tbody>\n",
       "</table>\n"
      ],
      "text/latex": [
       "\\begin{tabular}{r|l}\n",
       " name\\\\\n",
       "\\hline\n",
       "\t GO:0006351 \\textbar{} transcription, DNA-templated\\\\\n",
       "\t GO:0006364 \\textbar{} rRNA processing             \\\\\n",
       "\t GO:0006412 \\textbar{} translation                 \\\\\n",
       "\t GO:0006413 \\textbar{} translational initiation    \\\\\n",
       "\t GO:0006414 \\textbar{} translational elongation    \\\\\n",
       "\t GO:0008033 \\textbar{} tRNA processing             \\\\\n",
       "\\end{tabular}\n"
      ],
      "text/markdown": [
       "\n",
       "name | \n",
       "|---|---|---|---|---|---|\n",
       "| GO:0006351 | transcription, DNA-templated | \n",
       "| GO:0006364 | rRNA processing              | \n",
       "| GO:0006412 | translation                  | \n",
       "| GO:0006413 | translational initiation     | \n",
       "| GO:0006414 | translational elongation     | \n",
       "| GO:0008033 | tRNA processing              | \n",
       "\n",
       "\n"
      ],
      "text/plain": [
       "  name                                     \n",
       "1 GO:0006351 | transcription, DNA-templated\n",
       "2 GO:0006364 | rRNA processing             \n",
       "3 GO:0006412 | translation                 \n",
       "4 GO:0006413 | translational initiation    \n",
       "5 GO:0006414 | translational elongation    \n",
       "6 GO:0008033 | tRNA processing             "
      ]
     },
     "metadata": {},
     "output_type": "display_data"
    },
    {
     "data": {
      "text/html": [
       "<table>\n",
       "<thead><tr><th scope=col>name</th></tr></thead>\n",
       "<tbody>\n",
       "\t<tr><td>GO:0005975 | carbohydrate metabolic process</td></tr>\n",
       "\t<tr><td>GO:0008152 | metabolic process             </td></tr>\n",
       "\t<tr><td>GO:0055085 | transmembrane transport       </td></tr>\n",
       "</tbody>\n",
       "</table>\n"
      ],
      "text/latex": [
       "\\begin{tabular}{r|l}\n",
       " name\\\\\n",
       "\\hline\n",
       "\t GO:0005975 \\textbar{} carbohydrate metabolic process\\\\\n",
       "\t GO:0008152 \\textbar{} metabolic process             \\\\\n",
       "\t GO:0055085 \\textbar{} transmembrane transport       \\\\\n",
       "\\end{tabular}\n"
      ],
      "text/markdown": [
       "\n",
       "name | \n",
       "|---|---|---|\n",
       "| GO:0005975 | carbohydrate metabolic process | \n",
       "| GO:0008152 | metabolic process              | \n",
       "| GO:0055085 | transmembrane transport        | \n",
       "\n",
       "\n"
      ],
      "text/plain": [
       "  name                                       \n",
       "1 GO:0005975 | carbohydrate metabolic process\n",
       "2 GO:0008152 | metabolic process             \n",
       "3 GO:0055085 | transmembrane transport       "
      ]
     },
     "metadata": {},
     "output_type": "display_data"
    },
    {
     "data": {
      "text/html": [
       "<table>\n",
       "<thead><tr><th scope=col>name</th></tr></thead>\n",
       "<tbody>\n",
       "\t<tr><td>GO:0005622 | intracellular               </td></tr>\n",
       "\t<tr><td>GO:0005737 | cytoplasm                   </td></tr>\n",
       "\t<tr><td>GO:0005743 | mitochondrial inner membrane</td></tr>\n",
       "\t<tr><td>GO:0005840 | ribosome                    </td></tr>\n",
       "\t<tr><td>GO:0015934 | large ribosomal subunit     </td></tr>\n",
       "\t<tr><td>GO:0032040 | small-subunit processome    </td></tr>\n",
       "</tbody>\n",
       "</table>\n"
      ],
      "text/latex": [
       "\\begin{tabular}{r|l}\n",
       " name\\\\\n",
       "\\hline\n",
       "\t GO:0005622 \\textbar{} intracellular               \\\\\n",
       "\t GO:0005737 \\textbar{} cytoplasm                   \\\\\n",
       "\t GO:0005743 \\textbar{} mitochondrial inner membrane\\\\\n",
       "\t GO:0005840 \\textbar{} ribosome                    \\\\\n",
       "\t GO:0015934 \\textbar{} large ribosomal subunit     \\\\\n",
       "\t GO:0032040 \\textbar{} small-subunit processome    \\\\\n",
       "\\end{tabular}\n"
      ],
      "text/markdown": [
       "\n",
       "name | \n",
       "|---|---|---|---|---|---|\n",
       "| GO:0005622 | intracellular                | \n",
       "| GO:0005737 | cytoplasm                    | \n",
       "| GO:0005743 | mitochondrial inner membrane | \n",
       "| GO:0005840 | ribosome                     | \n",
       "| GO:0015934 | large ribosomal subunit      | \n",
       "| GO:0032040 | small-subunit processome     | \n",
       "\n",
       "\n"
      ],
      "text/plain": [
       "  name                                     \n",
       "1 GO:0005622 | intracellular               \n",
       "2 GO:0005737 | cytoplasm                   \n",
       "3 GO:0005743 | mitochondrial inner membrane\n",
       "4 GO:0005840 | ribosome                    \n",
       "5 GO:0015934 | large ribosomal subunit     \n",
       "6 GO:0032040 | small-subunit processome    "
      ]
     },
     "metadata": {},
     "output_type": "display_data"
    },
    {
     "data": {
      "text/html": [
       "<table>\n",
       "<thead><tr><th scope=col>name</th></tr></thead>\n",
       "<tbody>\n",
       "\t<tr><td>GO:0016020 | membrane                      </td></tr>\n",
       "\t<tr><td>GO:0016021 | integral component of membrane</td></tr>\n",
       "</tbody>\n",
       "</table>\n"
      ],
      "text/latex": [
       "\\begin{tabular}{r|l}\n",
       " name\\\\\n",
       "\\hline\n",
       "\t GO:0016020 \\textbar{} membrane                      \\\\\n",
       "\t GO:0016021 \\textbar{} integral component of membrane\\\\\n",
       "\\end{tabular}\n"
      ],
      "text/markdown": [
       "\n",
       "name | \n",
       "|---|---|\n",
       "| GO:0016020 | membrane                       | \n",
       "| GO:0016021 | integral component of membrane | \n",
       "\n",
       "\n"
      ],
      "text/plain": [
       "  name                                       \n",
       "1 GO:0016020 | membrane                      \n",
       "2 GO:0016021 | integral component of membrane"
      ]
     },
     "metadata": {},
     "output_type": "display_data"
    }
   ],
   "source": [
    "res <- go_media_mar\n",
    "res$bp$greater %>% select(name)\n",
    "res$bp$less    %>% select(name)\n",
    "res$cc$greater %>% select(name)\n",
    "res$cc$less    %>% select(name)"
   ]
  },
  {
   "cell_type": "code",
   "execution_count": 26,
   "metadata": {},
   "outputs": [
    {
     "data": {
      "text/html": [
       "<table>\n",
       "<thead><tr><th scope=col>name</th></tr></thead>\n",
       "<tbody>\n",
       "\t<tr><td>GO:0005975 | carbohydrate metabolic process</td></tr>\n",
       "</tbody>\n",
       "</table>\n"
      ],
      "text/latex": [
       "\\begin{tabular}{r|l}\n",
       " name\\\\\n",
       "\\hline\n",
       "\t GO:0005975 \\textbar{} carbohydrate metabolic process\\\\\n",
       "\\end{tabular}\n"
      ],
      "text/markdown": [
       "\n",
       "name | \n",
       "|---|\n",
       "| GO:0005975 | carbohydrate metabolic process | \n",
       "\n",
       "\n"
      ],
      "text/plain": [
       "  name                                       \n",
       "1 GO:0005975 | carbohydrate metabolic process"
      ]
     },
     "metadata": {},
     "output_type": "display_data"
    },
    {
     "data": {
      "text/html": [
       "<table>\n",
       "<thead><tr><th scope=col>name</th></tr></thead>\n",
       "<tbody>\n",
       "\t<tr><td>GO:0006260 | DNA replication</td></tr>\n",
       "\t<tr><td>GO:0006364 | rRNA processing</td></tr>\n",
       "\t<tr><td>GO:0008033 | tRNA processing</td></tr>\n",
       "</tbody>\n",
       "</table>\n"
      ],
      "text/latex": [
       "\\begin{tabular}{r|l}\n",
       " name\\\\\n",
       "\\hline\n",
       "\t GO:0006260 \\textbar{} DNA replication\\\\\n",
       "\t GO:0006364 \\textbar{} rRNA processing\\\\\n",
       "\t GO:0008033 \\textbar{} tRNA processing\\\\\n",
       "\\end{tabular}\n"
      ],
      "text/markdown": [
       "\n",
       "name | \n",
       "|---|---|---|\n",
       "| GO:0006260 | DNA replication | \n",
       "| GO:0006364 | rRNA processing | \n",
       "| GO:0008033 | tRNA processing | \n",
       "\n",
       "\n"
      ],
      "text/plain": [
       "  name                        \n",
       "1 GO:0006260 | DNA replication\n",
       "2 GO:0006364 | rRNA processing\n",
       "3 GO:0008033 | tRNA processing"
      ]
     },
     "metadata": {},
     "output_type": "display_data"
    },
    {
     "data": {
      "text/html": [
       "<table>\n",
       "<thead><tr><th scope=col>name</th></tr></thead>\n",
       "<tbody>\n",
       "</tbody>\n",
       "</table>\n"
      ],
      "text/latex": [
       "\\begin{tabular}{r|l}\n",
       " name\\\\\n",
       "\\hline\n",
       "\\end{tabular}\n"
      ],
      "text/markdown": [
       "\n",
       "name | \n",
       "||\n",
       "\n",
       "\n"
      ],
      "text/plain": [
       "     name"
      ]
     },
     "metadata": {},
     "output_type": "display_data"
    },
    {
     "data": {
      "text/html": [
       "<table>\n",
       "<thead><tr><th scope=col>name</th></tr></thead>\n",
       "<tbody>\n",
       "</tbody>\n",
       "</table>\n"
      ],
      "text/latex": [
       "\\begin{tabular}{r|l}\n",
       " name\\\\\n",
       "\\hline\n",
       "\\end{tabular}\n"
      ],
      "text/markdown": [
       "\n",
       "name | \n",
       "||\n",
       "\n",
       "\n"
      ],
      "text/plain": [
       "     name"
      ]
     },
     "metadata": {},
     "output_type": "display_data"
    }
   ],
   "source": [
    "res <- go_strain_ypd\n",
    "res$bp$greater %>% select(name)\n",
    "res$bp$less    %>% select(name)\n",
    "res$cc$greater %>% select(name)\n",
    "res$cc$less    %>% select(name)"
   ]
  },
  {
   "cell_type": "code",
   "execution_count": 22,
   "metadata": {},
   "outputs": [
    {
     "data": {
      "text/html": [
       "<table>\n",
       "<thead><tr><th scope=col>name</th></tr></thead>\n",
       "<tbody>\n",
       "\t<tr><td>GO:0006886 | intracellular protein transport</td></tr>\n",
       "</tbody>\n",
       "</table>\n"
      ],
      "text/latex": [
       "\\begin{tabular}{r|l}\n",
       " name\\\\\n",
       "\\hline\n",
       "\t GO:0006886 \\textbar{} intracellular protein transport\\\\\n",
       "\\end{tabular}\n"
      ],
      "text/markdown": [
       "\n",
       "name | \n",
       "|---|\n",
       "| GO:0006886 | intracellular protein transport | \n",
       "\n",
       "\n"
      ],
      "text/plain": [
       "  name                                        \n",
       "1 GO:0006886 | intracellular protein transport"
      ]
     },
     "metadata": {},
     "output_type": "display_data"
    },
    {
     "data": {
      "text/html": [
       "<table>\n",
       "<thead><tr><th scope=col>name</th></tr></thead>\n",
       "<tbody>\n",
       "\t<tr><td>GO:0006260 | DNA replication</td></tr>\n",
       "\t<tr><td>GO:0006364 | rRNA processing</td></tr>\n",
       "</tbody>\n",
       "</table>\n"
      ],
      "text/latex": [
       "\\begin{tabular}{r|l}\n",
       " name\\\\\n",
       "\\hline\n",
       "\t GO:0006260 \\textbar{} DNA replication\\\\\n",
       "\t GO:0006364 \\textbar{} rRNA processing\\\\\n",
       "\\end{tabular}\n"
      ],
      "text/markdown": [
       "\n",
       "name | \n",
       "|---|---|\n",
       "| GO:0006260 | DNA replication | \n",
       "| GO:0006364 | rRNA processing | \n",
       "\n",
       "\n"
      ],
      "text/plain": [
       "  name                        \n",
       "1 GO:0006260 | DNA replication\n",
       "2 GO:0006364 | rRNA processing"
      ]
     },
     "metadata": {},
     "output_type": "display_data"
    },
    {
     "data": {
      "text/html": [
       "<table>\n",
       "<thead><tr><th scope=col>name</th></tr></thead>\n",
       "<tbody>\n",
       "\t<tr><td>GO:0016021 | integral component of membrane</td></tr>\n",
       "</tbody>\n",
       "</table>\n"
      ],
      "text/latex": [
       "\\begin{tabular}{r|l}\n",
       " name\\\\\n",
       "\\hline\n",
       "\t GO:0016021 \\textbar{} integral component of membrane\\\\\n",
       "\\end{tabular}\n"
      ],
      "text/markdown": [
       "\n",
       "name | \n",
       "|---|\n",
       "| GO:0016021 | integral component of membrane | \n",
       "\n",
       "\n"
      ],
      "text/plain": [
       "  name                                       \n",
       "1 GO:0016021 | integral component of membrane"
      ]
     },
     "metadata": {},
     "output_type": "display_data"
    },
    {
     "data": {
      "text/html": [
       "<table>\n",
       "<thead><tr><th scope=col>name</th></tr></thead>\n",
       "<tbody>\n",
       "</tbody>\n",
       "</table>\n"
      ],
      "text/latex": [
       "\\begin{tabular}{r|l}\n",
       " name\\\\\n",
       "\\hline\n",
       "\\end{tabular}\n"
      ],
      "text/markdown": [
       "\n",
       "name | \n",
       "||\n",
       "\n",
       "\n"
      ],
      "text/plain": [
       "     name"
      ]
     },
     "metadata": {},
     "output_type": "display_data"
    }
   ],
   "source": [
    "res <- go_strain_tc\n",
    "res$bp$greater %>% select(name)\n",
    "res$bp$less    %>% select(name)\n",
    "res$cc$greater %>% select(name)\n",
    "res$cc$less    %>% select(name)"
   ]
  },
  {
   "cell_type": "markdown",
   "metadata": {},
   "source": [
    "# visualization"
   ]
  },
  {
   "cell_type": "code",
   "execution_count": 1,
   "metadata": {},
   "outputs": [
    {
     "name": "stderr",
     "output_type": "stream",
     "text": [
      "Loading tidyverse: ggplot2\n",
      "Loading tidyverse: tibble\n",
      "Loading tidyverse: tidyr\n",
      "Loading tidyverse: readr\n",
      "Loading tidyverse: purrr\n",
      "Loading tidyverse: dplyr\n",
      "Conflicts with tidy packages ---------------------------------------------------\n",
      "filter(): dplyr, stats\n",
      "lag():    dplyr, stats\n",
      "Loading required package: S4Vectors\n",
      "Loading required package: stats4\n",
      "Loading required package: BiocGenerics\n",
      "Loading required package: parallel\n",
      "\n",
      "Attaching package: ‘BiocGenerics’\n",
      "\n",
      "The following objects are masked from ‘package:parallel’:\n",
      "\n",
      "    clusterApply, clusterApplyLB, clusterCall, clusterEvalQ,\n",
      "    clusterExport, clusterMap, parApply, parCapply, parLapply,\n",
      "    parLapplyLB, parRapply, parSapply, parSapplyLB\n",
      "\n",
      "The following objects are masked from ‘package:dplyr’:\n",
      "\n",
      "    combine, intersect, setdiff, union\n",
      "\n",
      "The following objects are masked from ‘package:stats’:\n",
      "\n",
      "    IQR, mad, sd, var, xtabs\n",
      "\n",
      "The following objects are masked from ‘package:base’:\n",
      "\n",
      "    anyDuplicated, append, as.data.frame, cbind, colMeans, colnames,\n",
      "    colSums, do.call, duplicated, eval, evalq, Filter, Find, get, grep,\n",
      "    grepl, intersect, is.unsorted, lapply, lengths, Map, mapply, match,\n",
      "    mget, order, paste, pmax, pmax.int, pmin, pmin.int, Position, rank,\n",
      "    rbind, Reduce, rowMeans, rownames, rowSums, sapply, setdiff, sort,\n",
      "    table, tapply, union, unique, unsplit, which, which.max, which.min\n",
      "\n",
      "\n",
      "Attaching package: ‘S4Vectors’\n",
      "\n",
      "The following objects are masked from ‘package:dplyr’:\n",
      "\n",
      "    first, rename\n",
      "\n",
      "The following object is masked from ‘package:tidyr’:\n",
      "\n",
      "    expand\n",
      "\n",
      "The following object is masked from ‘package:base’:\n",
      "\n",
      "    expand.grid\n",
      "\n",
      "Loading required package: IRanges\n",
      "\n",
      "Attaching package: ‘IRanges’\n",
      "\n",
      "The following objects are masked from ‘package:dplyr’:\n",
      "\n",
      "    collapse, desc, slice\n",
      "\n",
      "The following object is masked from ‘package:purrr’:\n",
      "\n",
      "    reduce\n",
      "\n",
      "Loading required package: GenomicRanges\n",
      "Loading required package: GenomeInfoDb\n",
      "Loading required package: SummarizedExperiment\n",
      "Loading required package: Biobase\n",
      "Welcome to Bioconductor\n",
      "\n",
      "    Vignettes contain introductory material; view with\n",
      "    'browseVignettes()'. To cite Bioconductor, see\n",
      "    'citation(\"Biobase\")', and for packages 'citation(\"pkgname\")'.\n",
      "\n",
      "Loading required package: DelayedArray\n",
      "Loading required package: matrixStats\n",
      "\n",
      "Attaching package: ‘matrixStats’\n",
      "\n",
      "The following objects are masked from ‘package:Biobase’:\n",
      "\n",
      "    anyMissing, rowMedians\n",
      "\n",
      "The following object is masked from ‘package:dplyr’:\n",
      "\n",
      "    count\n",
      "\n",
      "\n",
      "Attaching package: ‘DelayedArray’\n",
      "\n",
      "The following objects are masked from ‘package:matrixStats’:\n",
      "\n",
      "    colMaxs, colMins, colRanges, rowMaxs, rowMins, rowRanges\n",
      "\n",
      "The following object is masked from ‘package:base’:\n",
      "\n",
      "    apply\n",
      "\n",
      "\n",
      "Attaching package: ‘plotly’\n",
      "\n",
      "The following object is masked from ‘package:IRanges’:\n",
      "\n",
      "    slice\n",
      "\n",
      "The following object is masked from ‘package:S4Vectors’:\n",
      "\n",
      "    rename\n",
      "\n",
      "The following object is masked from ‘package:ggplot2’:\n",
      "\n",
      "    last_plot\n",
      "\n",
      "The following object is masked from ‘package:stats’:\n",
      "\n",
      "    filter\n",
      "\n",
      "The following object is masked from ‘package:graphics’:\n",
      "\n",
      "    layout\n",
      "\n"
     ]
    }
   ],
   "source": [
    "source(\"config_path.R\")\n",
    "source(\"util_path.R\")"
   ]
  },
  {
   "cell_type": "code",
   "execution_count": 2,
   "metadata": {},
   "outputs": [],
   "source": [
    "attach(file.path(OUTDIR, \"HTS-GroupAll-DESeq.RData\"))"
   ]
  },
  {
   "cell_type": "code",
   "execution_count": 5,
   "metadata": {},
   "outputs": [
    {
     "data": {
      "text/html": [
       "<table>\n",
       "<thead><tr><th></th><th scope=col>Media</th><th scope=col>Strain</th></tr></thead>\n",
       "<tbody>\n",
       "\t<tr><th scope=row>A_1</th><td>YPD</td><td>H99</td></tr>\n",
       "\t<tr><th scope=row>A_13</th><td>TC </td><td>H99</td></tr>\n",
       "\t<tr><th scope=row>A_14</th><td>TC </td><td>H99</td></tr>\n",
       "\t<tr><th scope=row>A_15</th><td>TC </td><td>H99</td></tr>\n",
       "\t<tr><th scope=row>A_2</th><td>YPD</td><td>H99</td></tr>\n",
       "\t<tr><th scope=row>A_3</th><td>YPD</td><td>H99</td></tr>\n",
       "</tbody>\n",
       "</table>\n"
      ],
      "text/latex": [
       "\\begin{tabular}{r|ll}\n",
       "  & Media & Strain\\\\\n",
       "\\hline\n",
       "\tA\\_1 & YPD & H99\\\\\n",
       "\tA\\_13 & TC  & H99\\\\\n",
       "\tA\\_14 & TC  & H99\\\\\n",
       "\tA\\_15 & TC  & H99\\\\\n",
       "\tA\\_2 & YPD & H99\\\\\n",
       "\tA\\_3 & YPD & H99\\\\\n",
       "\\end{tabular}\n"
      ],
      "text/markdown": [
       "\n",
       "| <!--/--> | Media | Strain | \n",
       "|---|---|---|---|---|---|\n",
       "| A_1 | YPD | H99 | \n",
       "| A_13 | TC  | H99 | \n",
       "| A_14 | TC  | H99 | \n",
       "| A_15 | TC  | H99 | \n",
       "| A_2 | YPD | H99 | \n",
       "| A_3 | YPD | H99 | \n",
       "\n",
       "\n"
      ],
      "text/plain": [
       "     Media Strain\n",
       "A_1  YPD   H99   \n",
       "A_13 TC    H99   \n",
       "A_14 TC    H99   \n",
       "A_15 TC    H99   \n",
       "A_2  YPD   H99   \n",
       "A_3  YPD   H99   "
      ]
     },
     "metadata": {},
     "output_type": "display_data"
    }
   ],
   "source": [
    "annodf <- as.data.frame(colData(rlgexp)[,c(\"Media\", \"Strain\")])\n",
    "head(annodf)"
   ]
  },
  {
   "cell_type": "markdown",
   "metadata": {},
   "source": []
  },
  {
   "cell_type": "code",
   "execution_count": 31,
   "metadata": {},
   "outputs": [
    {
     "data": {
      "text/html": [
       "<ol class=list-inline>\n",
       "\t<li>'CNAG_03007'</li>\n",
       "\t<li>'CNAG_06672'</li>\n",
       "\t<li>'CNAG_05075'</li>\n",
       "\t<li>'CNAG_04459'</li>\n",
       "\t<li>'CNAG_00813'</li>\n",
       "\t<li>'CNAG_01368'</li>\n",
       "</ol>\n"
      ],
      "text/latex": [
       "\\begin{enumerate*}\n",
       "\\item 'CNAG\\_03007'\n",
       "\\item 'CNAG\\_06672'\n",
       "\\item 'CNAG\\_05075'\n",
       "\\item 'CNAG\\_04459'\n",
       "\\item 'CNAG\\_00813'\n",
       "\\item 'CNAG\\_01368'\n",
       "\\end{enumerate*}\n"
      ],
      "text/markdown": [
       "1. 'CNAG_03007'\n",
       "2. 'CNAG_06672'\n",
       "3. 'CNAG_05075'\n",
       "4. 'CNAG_04459'\n",
       "5. 'CNAG_00813'\n",
       "6. 'CNAG_01368'\n",
       "\n",
       "\n"
      ],
      "text/plain": [
       "[1] \"CNAG_03007\" \"CNAG_06672\" \"CNAG_05075\" \"CNAG_04459\" \"CNAG_00813\"\n",
       "[6] \"CNAG_01368\""
      ]
     },
     "metadata": {},
     "output_type": "display_data"
    },
    {
     "data": {
      "text/html": [
       "<ol class=list-inline>\n",
       "\t<li>'A_1'</li>\n",
       "\t<li>'A_2'</li>\n",
       "\t<li>'A_3'</li>\n",
       "\t<li>'B_26'</li>\n",
       "\t<li>'B_27'</li>\n",
       "\t<li>'B_4'</li>\n",
       "\t<li>'C_10'</li>\n",
       "\t<li>'C_11'</li>\n",
       "\t<li>'C_9'</li>\n",
       "\t<li>'D_12'</li>\n",
       "\t<li>'D_35'</li>\n",
       "\t<li>'D_36'</li>\n",
       "\t<li>'E_1'</li>\n",
       "\t<li>'E_2'</li>\n",
       "\t<li>'E_3'</li>\n",
       "\t<li>'F_26'</li>\n",
       "\t<li>'F_4'</li>\n",
       "\t<li>'G_10'</li>\n",
       "\t<li>'G_11'</li>\n",
       "\t<li>'G_9'</li>\n",
       "\t<li>'H_12'</li>\n",
       "\t<li>'H_35'</li>\n",
       "\t<li>'H_36'</li>\n",
       "</ol>\n"
      ],
      "text/latex": [
       "\\begin{enumerate*}\n",
       "\\item 'A\\_1'\n",
       "\\item 'A\\_2'\n",
       "\\item 'A\\_3'\n",
       "\\item 'B\\_26'\n",
       "\\item 'B\\_27'\n",
       "\\item 'B\\_4'\n",
       "\\item 'C\\_10'\n",
       "\\item 'C\\_11'\n",
       "\\item 'C\\_9'\n",
       "\\item 'D\\_12'\n",
       "\\item 'D\\_35'\n",
       "\\item 'D\\_36'\n",
       "\\item 'E\\_1'\n",
       "\\item 'E\\_2'\n",
       "\\item 'E\\_3'\n",
       "\\item 'F\\_26'\n",
       "\\item 'F\\_4'\n",
       "\\item 'G\\_10'\n",
       "\\item 'G\\_11'\n",
       "\\item 'G\\_9'\n",
       "\\item 'H\\_12'\n",
       "\\item 'H\\_35'\n",
       "\\item 'H\\_36'\n",
       "\\end{enumerate*}\n"
      ],
      "text/markdown": [
       "1. 'A_1'\n",
       "2. 'A_2'\n",
       "3. 'A_3'\n",
       "4. 'B_26'\n",
       "5. 'B_27'\n",
       "6. 'B_4'\n",
       "7. 'C_10'\n",
       "8. 'C_11'\n",
       "9. 'C_9'\n",
       "10. 'D_12'\n",
       "11. 'D_35'\n",
       "12. 'D_36'\n",
       "13. 'E_1'\n",
       "14. 'E_2'\n",
       "15. 'E_3'\n",
       "16. 'F_26'\n",
       "17. 'F_4'\n",
       "18. 'G_10'\n",
       "19. 'G_11'\n",
       "20. 'G_9'\n",
       "21. 'H_12'\n",
       "22. 'H_35'\n",
       "23. 'H_36'\n",
       "\n",
       "\n"
      ],
      "text/plain": [
       " [1] \"A_1\"  \"A_2\"  \"A_3\"  \"B_26\" \"B_27\" \"B_4\"  \"C_10\" \"C_11\" \"C_9\"  \"D_12\"\n",
       "[11] \"D_35\" \"D_36\" \"E_1\"  \"E_2\"  \"E_3\"  \"F_26\" \"F_4\"  \"G_10\" \"G_11\" \"G_9\" \n",
       "[21] \"H_12\" \"H_35\" \"H_36\""
      ]
     },
     "metadata": {},
     "output_type": "display_data"
    }
   ],
   "source": [
    "res <- res_strain_ypd\n",
    "res <- res %>% filter(padj < 0.05) %>% arrange(log2FoldChange)\n",
    "genelst <- res$row\n",
    "head(genelst)\n",
    "\n",
    "tmp <- annodf[annodf$Media == \"YPD\",]\n",
    "rownames(tmp)"
   ]
  },
  {
   "cell_type": "code",
   "execution_count": 32,
   "metadata": {},
   "outputs": [
    {
     "data": {
      "image/png": "[encoded data removed]",
      "text/plain": [
       "plot without title"
      ]
     },
     "metadata": {},
     "output_type": "display_data"
    }
   ],
   "source": [
    "options(repr.plot.width=7, repr.plot.height=7)\n",
    "pheatmap(assay(rlgexp)[genelst, rownames(tmp)],\n",
    "         scale = \"row\",\n",
    "         annotation_col = annodf,\n",
    "         cluster_rows = FALSE,\n",
    "         cluster_cols = TRUE,\n",
    "        show_rownames = FALSE)"
   ]
  },
  {
   "cell_type": "markdown",
   "metadata": {},
   "source": []
  },
  {
   "cell_type": "code",
   "execution_count": 26,
   "metadata": {},
   "outputs": [
    {
     "data": {
      "text/html": [
       "<ol class=list-inline>\n",
       "\t<li>'CNAG_01500'</li>\n",
       "\t<li>'CNAG_04459'</li>\n",
       "\t<li>'CNAG_04585'</li>\n",
       "\t<li>'CNAG_02489'</li>\n",
       "\t<li>'CNAG_01965'</li>\n",
       "\t<li>'CNAG_02984'</li>\n",
       "</ol>\n"
      ],
      "text/latex": [
       "\\begin{enumerate*}\n",
       "\\item 'CNAG\\_01500'\n",
       "\\item 'CNAG\\_04459'\n",
       "\\item 'CNAG\\_04585'\n",
       "\\item 'CNAG\\_02489'\n",
       "\\item 'CNAG\\_01965'\n",
       "\\item 'CNAG\\_02984'\n",
       "\\end{enumerate*}\n"
      ],
      "text/markdown": [
       "1. 'CNAG_01500'\n",
       "2. 'CNAG_04459'\n",
       "3. 'CNAG_04585'\n",
       "4. 'CNAG_02489'\n",
       "5. 'CNAG_01965'\n",
       "6. 'CNAG_02984'\n",
       "\n",
       "\n"
      ],
      "text/plain": [
       "[1] \"CNAG_01500\" \"CNAG_04459\" \"CNAG_04585\" \"CNAG_02489\" \"CNAG_01965\"\n",
       "[6] \"CNAG_02984\""
      ]
     },
     "metadata": {},
     "output_type": "display_data"
    },
    {
     "data": {
      "text/html": [
       "<ol class=list-inline>\n",
       "\t<li>'A_13'</li>\n",
       "\t<li>'A_14'</li>\n",
       "\t<li>'A_15'</li>\n",
       "\t<li>'B_16'</li>\n",
       "\t<li>'B_38'</li>\n",
       "\t<li>'B_40'</li>\n",
       "\t<li>'C_21'</li>\n",
       "\t<li>'C_22'</li>\n",
       "\t<li>'C_23'</li>\n",
       "\t<li>'D_24'</li>\n",
       "\t<li>'D_45'</li>\n",
       "\t<li>'D_47'</li>\n",
       "\t<li>'E_13'</li>\n",
       "\t<li>'E_14'</li>\n",
       "\t<li>'E_15'</li>\n",
       "\t<li>'F_38'</li>\n",
       "\t<li>'F_40'</li>\n",
       "\t<li>'G_21'</li>\n",
       "\t<li>'G_22'</li>\n",
       "\t<li>'G_23'</li>\n",
       "\t<li>'H_24'</li>\n",
       "\t<li>'H_45'</li>\n",
       "\t<li>'H_47'</li>\n",
       "</ol>\n"
      ],
      "text/latex": [
       "\\begin{enumerate*}\n",
       "\\item 'A\\_13'\n",
       "\\item 'A\\_14'\n",
       "\\item 'A\\_15'\n",
       "\\item 'B\\_16'\n",
       "\\item 'B\\_38'\n",
       "\\item 'B\\_40'\n",
       "\\item 'C\\_21'\n",
       "\\item 'C\\_22'\n",
       "\\item 'C\\_23'\n",
       "\\item 'D\\_24'\n",
       "\\item 'D\\_45'\n",
       "\\item 'D\\_47'\n",
       "\\item 'E\\_13'\n",
       "\\item 'E\\_14'\n",
       "\\item 'E\\_15'\n",
       "\\item 'F\\_38'\n",
       "\\item 'F\\_40'\n",
       "\\item 'G\\_21'\n",
       "\\item 'G\\_22'\n",
       "\\item 'G\\_23'\n",
       "\\item 'H\\_24'\n",
       "\\item 'H\\_45'\n",
       "\\item 'H\\_47'\n",
       "\\end{enumerate*}\n"
      ],
      "text/markdown": [
       "1. 'A_13'\n",
       "2. 'A_14'\n",
       "3. 'A_15'\n",
       "4. 'B_16'\n",
       "5. 'B_38'\n",
       "6. 'B_40'\n",
       "7. 'C_21'\n",
       "8. 'C_22'\n",
       "9. 'C_23'\n",
       "10. 'D_24'\n",
       "11. 'D_45'\n",
       "12. 'D_47'\n",
       "13. 'E_13'\n",
       "14. 'E_14'\n",
       "15. 'E_15'\n",
       "16. 'F_38'\n",
       "17. 'F_40'\n",
       "18. 'G_21'\n",
       "19. 'G_22'\n",
       "20. 'G_23'\n",
       "21. 'H_24'\n",
       "22. 'H_45'\n",
       "23. 'H_47'\n",
       "\n",
       "\n"
      ],
      "text/plain": [
       " [1] \"A_13\" \"A_14\" \"A_15\" \"B_16\" \"B_38\" \"B_40\" \"C_21\" \"C_22\" \"C_23\" \"D_24\"\n",
       "[11] \"D_45\" \"D_47\" \"E_13\" \"E_14\" \"E_15\" \"F_38\" \"F_40\" \"G_21\" \"G_22\" \"G_23\"\n",
       "[21] \"H_24\" \"H_45\" \"H_47\""
      ]
     },
     "metadata": {},
     "output_type": "display_data"
    }
   ],
   "source": [
    "res <- res_strain_tc\n",
    "res <- res %>% filter(padj < 0.05) %>% arrange(log2FoldChange)\n",
    "genelst <- res$row\n",
    "head(genelst)\n",
    "\n",
    "tmp <- annodf[annodf$Media == \"TC\",]\n",
    "rownames(tmp)"
   ]
  },
  {
   "cell_type": "code",
   "execution_count": 28,
   "metadata": {},
   "outputs": [
    {
     "data": {
      "image/png": "[encoded data removed]",
      "text/plain": [
       "plot without title"
      ]
     },
     "metadata": {},
     "output_type": "display_data"
    }
   ],
   "source": [
    "options(repr.plot.width=7, repr.plot.height=7)\n",
    "pheatmap(assay(rlgexp)[genelst, rownames(tmp)],\n",
    "         scale = \"row\",\n",
    "         annotation_col = annodf,\n",
    "         cluster_rows = FALSE,\n",
    "         cluster_cols = TRUE,\n",
    "        show_rownames = FALSE)"
   ]
  },
  {
   "cell_type": "code",
   "execution_count": null,
   "metadata": {},
   "outputs": [],
   "source": []
  },
  {
   "cell_type": "code",
   "execution_count": null,
   "metadata": {},
   "outputs": [],
   "source": []
  },
  {
   "cell_type": "markdown",
   "metadata": {},
   "source": [
    "# A quick example"
   ]
  },
  {
   "cell_type": "code",
   "execution_count": null,
   "metadata": {},
   "outputs": [],
   "source": []
  },
  {
   "cell_type": "code",
   "execution_count": null,
   "metadata": {},
   "outputs": [],
   "source": []
  },
  {
   "cell_type": "code",
   "execution_count": 31,
   "metadata": {},
   "outputs": [
    {
     "name": "stdout",
     "output_type": "stream",
     "text": [
      " #gene up:   699 \n",
      " #gene down: 323 \n",
      " #gene in reference: 2870"
     ]
    },
    {
     "data": {
      "text/html": [
       "<table>\n",
       "<thead><tr><th scope=col>name</th><th scope=col>esitmate</th><th scope=col>pvalue</th><th scope=col>padj</th></tr></thead>\n",
       "<tbody>\n",
       "\t<tr><td>GO:0055085 | transmembrane transport</td><td>3.92309800166543                    </td><td>3.32039052448533e-11                </td><td>2.115089e-08                        </td></tr>\n",
       "</tbody>\n",
       "</table>\n"
      ],
      "text/latex": [
       "\\begin{tabular}{r|llll}\n",
       " name & esitmate & pvalue & padj\\\\\n",
       "\\hline\n",
       "\t GO:0055085 \\textbar{} transmembrane transport & 3.92309800166543                               & 3.32039052448533e-11                           & 2.115089e-08                                  \\\\\n",
       "\\end{tabular}\n"
      ],
      "text/markdown": [
       "\n",
       "name | esitmate | pvalue | padj | \n",
       "|---|\n",
       "| GO:0055085 | transmembrane transport | 3.92309800166543                     | 3.32039052448533e-11                 | 2.115089e-08                         | \n",
       "\n",
       "\n"
      ],
      "text/plain": [
       "  name                                 esitmate         pvalue              \n",
       "1 GO:0055085 | transmembrane transport 3.92309800166543 3.32039052448533e-11\n",
       "  padj        \n",
       "1 2.115089e-08"
      ]
     },
     "metadata": {},
     "output_type": "display_data"
    },
    {
     "data": {
      "text/html": [
       "<table>\n",
       "<thead><tr><th scope=col>name</th><th scope=col>esitmate</th><th scope=col>pvalue</th><th scope=col>padj</th></tr></thead>\n",
       "<tbody>\n",
       "\t<tr><td>GO:0000737, GO:0006259 | DNA catabolic process, endonucleolytic, DNA metabolic process</td><td>Inf                                                                                   </td><td>1.33119357909903e-05                                                                  </td><td>0.008479703                                                                           </td></tr>\n",
       "</tbody>\n",
       "</table>\n"
      ],
      "text/latex": [
       "\\begin{tabular}{r|llll}\n",
       " name & esitmate & pvalue & padj\\\\\n",
       "\\hline\n",
       "\t GO:0000737, GO:0006259 \\textbar{} DNA catabolic process, endonucleolytic, DNA metabolic process & Inf                                                                                              & 1.33119357909903e-05                                                                             & 0.008479703                                                                                     \\\\\n",
       "\\end{tabular}\n"
      ],
      "text/markdown": [
       "\n",
       "name | esitmate | pvalue | padj | \n",
       "|---|\n",
       "| GO:0000737, GO:0006259 | DNA catabolic process, endonucleolytic, DNA metabolic process | Inf                                                                                    | 1.33119357909903e-05                                                                   | 0.008479703                                                                            | \n",
       "\n",
       "\n"
      ],
      "text/plain": [
       "  name                                                                                  \n",
       "1 GO:0000737, GO:0006259 | DNA catabolic process, endonucleolytic, DNA metabolic process\n",
       "  esitmate pvalue               padj       \n",
       "1 Inf      1.33119357909903e-05 0.008479703"
      ]
     },
     "metadata": {},
     "output_type": "display_data"
    }
   ],
   "source": [
    "tmp <- enrichment(res_strain_ypd, 0.05, 1, gset_go_cne_h99)\n",
    "tmp$greater\n",
    "tmp$less"
   ]
  },
  {
   "cell_type": "code",
   "execution_count": null,
   "metadata": {},
   "outputs": [],
   "source": []
  },
  {
   "cell_type": "code",
   "execution_count": null,
   "metadata": {},
   "outputs": [],
   "source": []
  },
  {
   "cell_type": "code",
   "execution_count": null,
   "metadata": {},
   "outputs": [],
   "source": []
  },
  {
   "cell_type": "code",
   "execution_count": null,
   "metadata": {},
   "outputs": [],
   "source": []
  },
  {
   "cell_type": "code",
   "execution_count": 16,
   "metadata": {},
   "outputs": [
    {
     "name": "stdout",
     "output_type": "stream",
     "text": [
      "[1] 726\n",
      "[1] 1348\n"
     ]
    },
    {
     "data": {
      "text/html": [
       "<table>\n",
       "<thead><tr><th scope=col>row</th><th scope=col>baseMean</th><th scope=col>log2FoldChange</th><th scope=col>lfcSE</th><th scope=col>stat</th><th scope=col>pvalue</th><th scope=col>padj</th></tr></thead>\n",
       "<tbody>\n",
       "\t<tr><td>CNAG_04548  </td><td>  0.973307  </td><td> 2.344794   </td><td>0.9133805   </td><td>  2.567160  </td><td>1.025352e-02</td><td>1.559469e-02</td></tr>\n",
       "\t<tr><td>CNAG_12001  </td><td> 11.520565  </td><td>-1.867888   </td><td>0.2184486   </td><td> -8.550697  </td><td>1.223470e-17</td><td>5.614865e-17</td></tr>\n",
       "\t<tr><td>CNAG_00011  </td><td> 75.746674  </td><td>-1.667821   </td><td>0.1241048   </td><td>-13.438813  </td><td>3.581334e-41</td><td>5.664766e-40</td></tr>\n",
       "\t<tr><td>CNAG_00015  </td><td> 28.427100  </td><td>-2.820591   </td><td>0.2294769   </td><td>-12.291392  </td><td>1.007558e-34</td><td>1.125866e-33</td></tr>\n",
       "\t<tr><td>CNAG_12002  </td><td>  5.382538  </td><td>-1.350085   </td><td>0.3914057   </td><td> -3.449325  </td><td>5.619907e-04</td><td>9.897720e-04</td></tr>\n",
       "\t<tr><td>CNAG_00019  </td><td>362.277895  </td><td> 1.199309   </td><td>0.0829932   </td><td> 14.450686  </td><td>2.482006e-47</td><td>5.631871e-46</td></tr>\n",
       "</tbody>\n",
       "</table>\n"
      ],
      "text/latex": [
       "\\begin{tabular}{r|lllllll}\n",
       " row & baseMean & log2FoldChange & lfcSE & stat & pvalue & padj\\\\\n",
       "\\hline\n",
       "\t CNAG\\_04548 &   0.973307   &  2.344794    & 0.9133805    &   2.567160   & 1.025352e-02 & 1.559469e-02\\\\\n",
       "\t CNAG\\_12001 &  11.520565   & -1.867888    & 0.2184486    &  -8.550697   & 1.223470e-17 & 5.614865e-17\\\\\n",
       "\t CNAG\\_00011 &  75.746674   & -1.667821    & 0.1241048    & -13.438813   & 3.581334e-41 & 5.664766e-40\\\\\n",
       "\t CNAG\\_00015 &  28.427100   & -2.820591    & 0.2294769    & -12.291392   & 1.007558e-34 & 1.125866e-33\\\\\n",
       "\t CNAG\\_12002 &   5.382538   & -1.350085    & 0.3914057    &  -3.449325   & 5.619907e-04 & 9.897720e-04\\\\\n",
       "\t CNAG\\_00019 & 362.277895   &  1.199309    & 0.0829932    &  14.450686   & 2.482006e-47 & 5.631871e-46\\\\\n",
       "\\end{tabular}\n"
      ],
      "text/markdown": [
       "\n",
       "row | baseMean | log2FoldChange | lfcSE | stat | pvalue | padj | \n",
       "|---|---|---|---|---|---|\n",
       "| CNAG_04548   |   0.973307   |  2.344794    | 0.9133805    |   2.567160   | 1.025352e-02 | 1.559469e-02 | \n",
       "| CNAG_12001   |  11.520565   | -1.867888    | 0.2184486    |  -8.550697   | 1.223470e-17 | 5.614865e-17 | \n",
       "| CNAG_00011   |  75.746674   | -1.667821    | 0.1241048    | -13.438813   | 3.581334e-41 | 5.664766e-40 | \n",
       "| CNAG_00015   |  28.427100   | -2.820591    | 0.2294769    | -12.291392   | 1.007558e-34 | 1.125866e-33 | \n",
       "| CNAG_12002   |   5.382538   | -1.350085    | 0.3914057    |  -3.449325   | 5.619907e-04 | 9.897720e-04 | \n",
       "| CNAG_00019   | 362.277895   |  1.199309    | 0.0829932    |  14.450686   | 2.482006e-47 | 5.631871e-46 | \n",
       "\n",
       "\n"
      ],
      "text/plain": [
       "  row        baseMean   log2FoldChange lfcSE     stat       pvalue      \n",
       "1 CNAG_04548   0.973307  2.344794      0.9133805   2.567160 1.025352e-02\n",
       "2 CNAG_12001  11.520565 -1.867888      0.2184486  -8.550697 1.223470e-17\n",
       "3 CNAG_00011  75.746674 -1.667821      0.1241048 -13.438813 3.581334e-41\n",
       "4 CNAG_00015  28.427100 -2.820591      0.2294769 -12.291392 1.007558e-34\n",
       "5 CNAG_12002   5.382538 -1.350085      0.3914057  -3.449325 5.619907e-04\n",
       "6 CNAG_00019 362.277895  1.199309      0.0829932  14.450686 2.482006e-47\n",
       "  padj        \n",
       "1 1.559469e-02\n",
       "2 5.614865e-17\n",
       "3 5.664766e-40\n",
       "4 1.125866e-33\n",
       "5 9.897720e-04\n",
       "6 5.631871e-46"
      ]
     },
     "metadata": {},
     "output_type": "display_data"
    }
   ],
   "source": [
    "tmp <- res_media_h99 %>% filter(padj < 0.05, abs(log2FoldChange) > 1)\n",
    "exp_up <- tmp %>% filter(log2FoldChange > 0)\n",
    "exp_dw <- tmp %>% filter(log2FoldChange < 0)\n",
    "\n",
    "print(nrow(exp_up))\n",
    "print(nrow(exp_dw))\n",
    "head(tmp)"
   ]
  },
  {
   "cell_type": "markdown",
   "metadata": {},
   "source": [
    "### a quick try"
   ]
  },
  {
   "cell_type": "code",
   "execution_count": 28,
   "metadata": {},
   "outputs": [
    {
     "data": {
      "text/plain": [
       "       \n",
       "        FALSE TRUE\n",
       "  FALSE  2342   37\n",
       "  TRUE    468   23"
      ]
     },
     "metadata": {},
     "output_type": "display_data"
    }
   ],
   "source": [
    "tab <- table(gset_all %in% exp_up$row, gset_all %in% gset) \n",
    "tab"
   ]
  },
  {
   "cell_type": "code",
   "execution_count": 13,
   "metadata": {},
   "outputs": [
    {
     "data": {
      "text/html": [
       "<ol class=list-inline>\n",
       "\t<li>'p.value'</li>\n",
       "\t<li>'conf.int'</li>\n",
       "\t<li>'estimate'</li>\n",
       "\t<li>'null.value'</li>\n",
       "\t<li>'alternative'</li>\n",
       "\t<li>'method'</li>\n",
       "\t<li>'data.name'</li>\n",
       "</ol>\n"
      ],
      "text/latex": [
       "\\begin{enumerate*}\n",
       "\\item 'p.value'\n",
       "\\item 'conf.int'\n",
       "\\item 'estimate'\n",
       "\\item 'null.value'\n",
       "\\item 'alternative'\n",
       "\\item 'method'\n",
       "\\item 'data.name'\n",
       "\\end{enumerate*}\n"
      ],
      "text/markdown": [
       "1. 'p.value'\n",
       "2. 'conf.int'\n",
       "3. 'estimate'\n",
       "4. 'null.value'\n",
       "5. 'alternative'\n",
       "6. 'method'\n",
       "7. 'data.name'\n",
       "\n",
       "\n"
      ],
      "text/plain": [
       "[1] \"p.value\"     \"conf.int\"    \"estimate\"    \"null.value\"  \"alternative\"\n",
       "[6] \"method\"      \"data.name\"  "
      ]
     },
     "metadata": {},
     "output_type": "display_data"
    },
    {
     "data": {
      "text/plain": [
       "\n",
       "\tFisher's Exact Test for Count Data\n",
       "\n",
       "data:  tab\n",
       "p-value = 0.09218\n",
       "alternative hypothesis: true odds ratio is greater than 1\n",
       "95 percent confidence interval:\n",
       " 0.8560916       Inf\n",
       "sample estimates:\n",
       "odds ratio \n",
       "  1.929225 \n"
      ]
     },
     "metadata": {},
     "output_type": "display_data"
    }
   ],
   "source": [
    "res <- fisher.test(tab, alternative = \"greater\")\n",
    "names(res)\n",
    "res"
   ]
  },
  {
   "cell_type": "code",
   "execution_count": 14,
   "metadata": {},
   "outputs": [
    {
     "name": "stdout",
     "output_type": "stream",
     "text": [
      "[1] 0.09217503\n",
      "odds ratio \n",
      "         1 \n",
      "odds ratio \n",
      "  1.929225 \n"
     ]
    }
   ],
   "source": [
    "print(res$p.value)\n",
    "print(res$null.value)\n",
    "print(res$estimate)"
   ]
  },
  {
   "cell_type": "markdown",
   "metadata": {},
   "source": [
    "### GO enrichment"
   ]
  },
  {
   "cell_type": "code",
   "execution_count": 43,
   "metadata": {},
   "outputs": [],
   "source": [
    "res_enrich_go_YPD <- list()\n",
    "\n",
    "res <- sapply(names(gset_go_cne_h99), function(name){\n",
    "    gset  <- gset_go_cne_h99[[name]]\n",
    "    tab   <- table(gset_all %in% exp_up$row, gset_all %in% gset)\n",
    "    test  <- fisher.test(tab, alternative = \"greater\")\n",
    "    res   <- c(name, test$estimate, test$p.value)\n",
    "    names(res) <- c('name', 'esitmate', 'pvalue')\n",
    "    return(res)\n",
    "})\n",
    "\n",
    "res <- as.tibble(t(res)) %>% \n",
    "    mutate(padj = p.adjust(pvalue, \"BH\")) %>% \n",
    "    filter(padj < 0.05)\n",
    "\n",
    "res_enrich_go_YPD$up <- res\n",
    "#######################################################################\n",
    "res <- sapply(names(gset_go_cne_h99), function(name){\n",
    "    gset  <- gset_go_cne_h99[[name]]\n",
    "    tab   <- table(gset_all %in% exp_dw$row, gset_all %in% gset)\n",
    "    test  <- fisher.test(tab, alternative = \"greater\")\n",
    "    res   <- c(name, test$estimate, test$p.value)\n",
    "    names(res) <- c('name', 'esitmate', 'pvalue')\n",
    "    return(res)\n",
    "})\n",
    "\n",
    "res <- as.tibble(t(res)) %>% \n",
    "    mutate(padj = p.adjust(pvalue, \"BH\")) %>% \n",
    "    filter(padj < 0.05)\n",
    "\n",
    "res_enrich_go_YPD$dw <- res"
   ]
  },
  {
   "cell_type": "code",
   "execution_count": 44,
   "metadata": {},
   "outputs": [
    {
     "data": {
      "text/html": [
       "<table>\n",
       "<thead><tr><th scope=col>name</th><th scope=col>esitmate</th><th scope=col>pvalue</th><th scope=col>padj</th></tr></thead>\n",
       "<tbody>\n",
       "\t<tr><td>GO:0005975 | carbohydrate metabolic process</td><td>3.10909692287215                           </td><td>6.19894446029213e-05                       </td><td>1.974364e-02                               </td></tr>\n",
       "\t<tr><td>GO:0006012 | galactose metabolic process   </td><td>Inf                                        </td><td>0.000144091958225686                       </td><td>3.059553e-02                               </td></tr>\n",
       "\t<tr><td>GO:0055085 | transmembrane transport       </td><td>2.32734993166745                           </td><td>5.96133750892924e-08                       </td><td>3.797372e-05                               </td></tr>\n",
       "</tbody>\n",
       "</table>\n"
      ],
      "text/latex": [
       "\\begin{tabular}{r|llll}\n",
       " name & esitmate & pvalue & padj\\\\\n",
       "\\hline\n",
       "\t GO:0005975 \\textbar{} carbohydrate metabolic process & 3.10909692287215                                      & 6.19894446029213e-05                                  & 1.974364e-02                                         \\\\\n",
       "\t GO:0006012 \\textbar{} galactose metabolic process    & Inf                                                   & 0.000144091958225686                                  & 3.059553e-02                                         \\\\\n",
       "\t GO:0055085 \\textbar{} transmembrane transport        & 2.32734993166745                                      & 5.96133750892924e-08                                  & 3.797372e-05                                         \\\\\n",
       "\\end{tabular}\n"
      ],
      "text/markdown": [
       "\n",
       "name | esitmate | pvalue | padj | \n",
       "|---|---|---|\n",
       "| GO:0005975 | carbohydrate metabolic process | 3.10909692287215                            | 6.19894446029213e-05                        | 1.974364e-02                                | \n",
       "| GO:0006012 | galactose metabolic process    | Inf                                         | 0.000144091958225686                        | 3.059553e-02                                | \n",
       "| GO:0055085 | transmembrane transport        | 2.32734993166745                            | 5.96133750892924e-08                        | 3.797372e-05                                | \n",
       "\n",
       "\n"
      ],
      "text/plain": [
       "  name                                        esitmate        \n",
       "1 GO:0005975 | carbohydrate metabolic process 3.10909692287215\n",
       "2 GO:0006012 | galactose metabolic process    Inf             \n",
       "3 GO:0055085 | transmembrane transport        2.32734993166745\n",
       "  pvalue               padj        \n",
       "1 6.19894446029213e-05 1.974364e-02\n",
       "2 0.000144091958225686 3.059553e-02\n",
       "3 5.96133750892924e-08 3.797372e-05"
      ]
     },
     "metadata": {},
     "output_type": "display_data"
    }
   ],
   "source": [
    "res_enrich_go_YPD$up"
   ]
  },
  {
   "cell_type": "code",
   "execution_count": 45,
   "metadata": {},
   "outputs": [
    {
     "data": {
      "text/html": [
       "<table>\n",
       "<thead><tr><th scope=col>name</th><th scope=col>esitmate</th><th scope=col>pvalue</th><th scope=col>padj</th></tr></thead>\n",
       "<tbody>\n",
       "\t<tr><td>GO:0006260 | DNA replication                                         </td><td>11.0597242236748                                                     </td><td>4.8794477281841e-07                                                  </td><td>1.554104e-04                                                         </td></tr>\n",
       "\t<tr><td>GO:0006351 | transcription, DNA-templated                            </td><td>3.6888864062951                                                      </td><td>0.000169692625351238                                                 </td><td>2.702355e-02                                                         </td></tr>\n",
       "\t<tr><td>GO:0006364 | rRNA processing                                         </td><td>Inf                                                                  </td><td>5.73616345201686e-09                                                 </td><td>3.653936e-06                                                         </td></tr>\n",
       "\t<tr><td>GO:0042254 | ribosome biogenesis                                     </td><td>36.1791084042652                                                     </td><td>0.00014600623673806                                                  </td><td>2.702355e-02                                                         </td></tr>\n",
       "\t<tr><td>GO:0055114, GO:0008033 | oxidation-reduction process, tRNA processing</td><td>Inf                                                                  </td><td>0.000222907133133553                                                 </td><td>2.839837e-02                                                         </td></tr>\n",
       "</tbody>\n",
       "</table>\n"
      ],
      "text/latex": [
       "\\begin{tabular}{r|llll}\n",
       " name & esitmate & pvalue & padj\\\\\n",
       "\\hline\n",
       "\t GO:0006260 \\textbar{} DNA replication                                          & 11.0597242236748                                                                & 4.8794477281841e-07                                                             & 1.554104e-04                                                                   \\\\\n",
       "\t GO:0006351 \\textbar{} transcription, DNA-templated                             & 3.6888864062951                                                                 & 0.000169692625351238                                                            & 2.702355e-02                                                                   \\\\\n",
       "\t GO:0006364 \\textbar{} rRNA processing                                          & Inf                                                                             & 5.73616345201686e-09                                                            & 3.653936e-06                                                                   \\\\\n",
       "\t GO:0042254 \\textbar{} ribosome biogenesis                                      & 36.1791084042652                                                                & 0.00014600623673806                                                             & 2.702355e-02                                                                   \\\\\n",
       "\t GO:0055114, GO:0008033 \\textbar{} oxidation-reduction process, tRNA processing & Inf                                                                             & 0.000222907133133553                                                            & 2.839837e-02                                                                   \\\\\n",
       "\\end{tabular}\n"
      ],
      "text/markdown": [
       "\n",
       "name | esitmate | pvalue | padj | \n",
       "|---|---|---|---|---|\n",
       "| GO:0006260 | DNA replication                                          | 11.0597242236748                                                      | 4.8794477281841e-07                                                   | 1.554104e-04                                                          | \n",
       "| GO:0006351 | transcription, DNA-templated                             | 3.6888864062951                                                       | 0.000169692625351238                                                  | 2.702355e-02                                                          | \n",
       "| GO:0006364 | rRNA processing                                          | Inf                                                                   | 5.73616345201686e-09                                                  | 3.653936e-06                                                          | \n",
       "| GO:0042254 | ribosome biogenesis                                      | 36.1791084042652                                                      | 0.00014600623673806                                                   | 2.702355e-02                                                          | \n",
       "| GO:0055114, GO:0008033 | oxidation-reduction process, tRNA processing | Inf                                                                   | 0.000222907133133553                                                  | 2.839837e-02                                                          | \n",
       "\n",
       "\n"
      ],
      "text/plain": [
       "  name                                                                 \n",
       "1 GO:0006260 | DNA replication                                         \n",
       "2 GO:0006351 | transcription, DNA-templated                            \n",
       "3 GO:0006364 | rRNA processing                                         \n",
       "4 GO:0042254 | ribosome biogenesis                                     \n",
       "5 GO:0055114, GO:0008033 | oxidation-reduction process, tRNA processing\n",
       "  esitmate         pvalue               padj        \n",
       "1 11.0597242236748 4.8794477281841e-07  1.554104e-04\n",
       "2 3.6888864062951  0.000169692625351238 2.702355e-02\n",
       "3 Inf              5.73616345201686e-09 3.653936e-06\n",
       "4 36.1791084042652 0.00014600623673806  2.702355e-02\n",
       "5 Inf              0.000222907133133553 2.839837e-02"
      ]
     },
     "metadata": {},
     "output_type": "display_data"
    }
   ],
   "source": [
    "res_enrich_go_YPD$dw"
   ]
  },
  {
   "cell_type": "markdown",
   "metadata": {},
   "source": [
    "## 02 Under TC"
   ]
  },
  {
   "cell_type": "code",
   "execution_count": 46,
   "metadata": {},
   "outputs": [
    {
     "name": "stdout",
     "output_type": "stream",
     "text": [
      "[1] 891\n",
      "[1] 753\n"
     ]
    },
    {
     "data": {
      "text/html": [
       "<table>\n",
       "<thead><tr><th scope=col>row</th><th scope=col>baseMean</th><th scope=col>log2FoldChange</th><th scope=col>lfcSE</th><th scope=col>stat</th><th scope=col>pvalue</th><th scope=col>padj</th></tr></thead>\n",
       "<tbody>\n",
       "\t<tr><td>CNAG_00002  </td><td> 69.22420   </td><td> 0.5304340  </td><td>0.07086820  </td><td> 7.484796   </td><td>7.165814e-14</td><td>1.297172e-12</td></tr>\n",
       "\t<tr><td>CNAG_12001  </td><td> 11.52057   </td><td> 0.8159986  </td><td>0.13569625  </td><td> 6.013420   </td><td>1.816492e-09</td><td>1.710653e-08</td></tr>\n",
       "\t<tr><td>CNAG_00011  </td><td> 75.74667   </td><td> 1.0381881  </td><td>0.09856834  </td><td>10.532673   </td><td>6.107509e-26</td><td>3.395242e-24</td></tr>\n",
       "\t<tr><td>CNAG_00012  </td><td>174.56368   </td><td>-0.5573392  </td><td>0.07677173  </td><td>-7.259694   </td><td>3.879674e-13</td><td>6.245815e-12</td></tr>\n",
       "\t<tr><td>CNAG_00019  </td><td>362.27790   </td><td>-0.5558368  </td><td>0.07752878  </td><td>-7.169425   </td><td>7.531355e-13</td><td>1.159743e-11</td></tr>\n",
       "\t<tr><td>CNAG_12004  </td><td>  2.14219   </td><td> 2.0462249  </td><td>0.36749558  </td><td> 5.568026   </td><td>2.576417e-08</td><td>2.012121e-07</td></tr>\n",
       "</tbody>\n",
       "</table>\n"
      ],
      "text/latex": [
       "\\begin{tabular}{r|lllllll}\n",
       " row & baseMean & log2FoldChange & lfcSE & stat & pvalue & padj\\\\\n",
       "\\hline\n",
       "\t CNAG\\_00002 &  69.22420    &  0.5304340   & 0.07086820   &  7.484796    & 7.165814e-14 & 1.297172e-12\\\\\n",
       "\t CNAG\\_12001 &  11.52057    &  0.8159986   & 0.13569625   &  6.013420    & 1.816492e-09 & 1.710653e-08\\\\\n",
       "\t CNAG\\_00011 &  75.74667    &  1.0381881   & 0.09856834   & 10.532673    & 6.107509e-26 & 3.395242e-24\\\\\n",
       "\t CNAG\\_00012 & 174.56368    & -0.5573392   & 0.07677173   & -7.259694    & 3.879674e-13 & 6.245815e-12\\\\\n",
       "\t CNAG\\_00019 & 362.27790    & -0.5558368   & 0.07752878   & -7.169425    & 7.531355e-13 & 1.159743e-11\\\\\n",
       "\t CNAG\\_12004 &   2.14219    &  2.0462249   & 0.36749558   &  5.568026    & 2.576417e-08 & 2.012121e-07\\\\\n",
       "\\end{tabular}\n"
      ],
      "text/markdown": [
       "\n",
       "row | baseMean | log2FoldChange | lfcSE | stat | pvalue | padj | \n",
       "|---|---|---|---|---|---|\n",
       "| CNAG_00002   |  69.22420    |  0.5304340   | 0.07086820   |  7.484796    | 7.165814e-14 | 1.297172e-12 | \n",
       "| CNAG_12001   |  11.52057    |  0.8159986   | 0.13569625   |  6.013420    | 1.816492e-09 | 1.710653e-08 | \n",
       "| CNAG_00011   |  75.74667    |  1.0381881   | 0.09856834   | 10.532673    | 6.107509e-26 | 3.395242e-24 | \n",
       "| CNAG_00012   | 174.56368    | -0.5573392   | 0.07677173   | -7.259694    | 3.879674e-13 | 6.245815e-12 | \n",
       "| CNAG_00019   | 362.27790    | -0.5558368   | 0.07752878   | -7.169425    | 7.531355e-13 | 1.159743e-11 | \n",
       "| CNAG_12004   |   2.14219    |  2.0462249   | 0.36749558   |  5.568026    | 2.576417e-08 | 2.012121e-07 | \n",
       "\n",
       "\n"
      ],
      "text/plain": [
       "  row        baseMean  log2FoldChange lfcSE      stat      pvalue      \n",
       "1 CNAG_00002  69.22420  0.5304340     0.07086820  7.484796 7.165814e-14\n",
       "2 CNAG_12001  11.52057  0.8159986     0.13569625  6.013420 1.816492e-09\n",
       "3 CNAG_00011  75.74667  1.0381881     0.09856834 10.532673 6.107509e-26\n",
       "4 CNAG_00012 174.56368 -0.5573392     0.07677173 -7.259694 3.879674e-13\n",
       "5 CNAG_00019 362.27790 -0.5558368     0.07752878 -7.169425 7.531355e-13\n",
       "6 CNAG_12004   2.14219  2.0462249     0.36749558  5.568026 2.576417e-08\n",
       "  padj        \n",
       "1 1.297172e-12\n",
       "2 1.710653e-08\n",
       "3 3.395242e-24\n",
       "4 6.245815e-12\n",
       "5 1.159743e-11\n",
       "6 2.012121e-07"
      ]
     },
     "metadata": {},
     "output_type": "display_data"
    }
   ],
   "source": [
    "tmp <- res_Strain_TC %>% filter(padj < 0.05, abs(log2FoldChange) > 0.5)\n",
    "exp_up <- tmp %>% filter(log2FoldChange > 0)\n",
    "exp_dw <- tmp %>% filter(log2FoldChange < 0)\n",
    "\n",
    "print(nrow(exp_up))\n",
    "print(nrow(exp_dw))\n",
    "head(tmp)"
   ]
  },
  {
   "cell_type": "markdown",
   "metadata": {},
   "source": [
    "### GO enrichment"
   ]
  },
  {
   "cell_type": "code",
   "execution_count": 47,
   "metadata": {},
   "outputs": [],
   "source": [
    "res_enrich_go_TC <- list()\n",
    "\n",
    "res <- sapply(names(gset_go_cne_h99), function(name){\n",
    "    gset  <- gset_go_cne_h99[[name]]\n",
    "    tab   <- table(gset_all %in% exp_up$row, gset_all %in% gset)\n",
    "    test  <- fisher.test(tab, alternative = \"greater\")\n",
    "    res   <- c(name, test$estimate, test$p.value)\n",
    "    names(res) <- c('name', 'esitmate', 'pvalue')\n",
    "    return(res)\n",
    "})\n",
    "\n",
    "res <- as.tibble(t(res)) %>% \n",
    "    mutate(padj = p.adjust(pvalue, \"BH\")) %>% \n",
    "    filter(padj < 0.05)\n",
    "\n",
    "res_enrich_go_TC$up <- res\n",
    "#######################################################################\n",
    "res <- sapply(names(gset_go_cne_h99), function(name){\n",
    "    gset  <- gset_go_cne_h99[[name]]\n",
    "    tab   <- table(gset_all %in% exp_dw$row, gset_all %in% gset)\n",
    "    test  <- fisher.test(tab, alternative = \"greater\")\n",
    "    res   <- c(name, test$estimate, test$p.value)\n",
    "    names(res) <- c('name', 'esitmate', 'pvalue')\n",
    "    return(res)\n",
    "})\n",
    "\n",
    "res <- as.tibble(t(res)) %>% \n",
    "    mutate(padj = p.adjust(pvalue, \"BH\")) %>% \n",
    "    filter(padj < 0.05)\n",
    "\n",
    "res_enrich_go_TC$dw <- res"
   ]
  },
  {
   "cell_type": "code",
   "execution_count": 48,
   "metadata": {},
   "outputs": [
    {
     "data": {
      "text/html": [
       "<table>\n",
       "<thead><tr><th scope=col>name</th><th scope=col>esitmate</th><th scope=col>pvalue</th><th scope=col>padj</th></tr></thead>\n",
       "<tbody>\n",
       "\t<tr><td>GO:0035434 | copper ion transmembrane transport</td><td>47.8781915403914                               </td><td>4.32035245994907e-05                           </td><td>1.376032e-02                                   </td></tr>\n",
       "\t<tr><td>GO:0055085 | transmembrane transport           </td><td>3.00090632691812                               </td><td>2.49389173502682e-09                           </td><td>1.588609e-06                                   </td></tr>\n",
       "</tbody>\n",
       "</table>\n"
      ],
      "text/latex": [
       "\\begin{tabular}{r|llll}\n",
       " name & esitmate & pvalue & padj\\\\\n",
       "\\hline\n",
       "\t GO:0035434 \\textbar{} copper ion transmembrane transport & 47.8781915403914                                          & 4.32035245994907e-05                                      & 1.376032e-02                                             \\\\\n",
       "\t GO:0055085 \\textbar{} transmembrane transport            & 3.00090632691812                                          & 2.49389173502682e-09                                      & 1.588609e-06                                             \\\\\n",
       "\\end{tabular}\n"
      ],
      "text/markdown": [
       "\n",
       "name | esitmate | pvalue | padj | \n",
       "|---|---|\n",
       "| GO:0035434 | copper ion transmembrane transport | 47.8781915403914                                | 4.32035245994907e-05                            | 1.376032e-02                                    | \n",
       "| GO:0055085 | transmembrane transport            | 3.00090632691812                                | 2.49389173502682e-09                            | 1.588609e-06                                    | \n",
       "\n",
       "\n"
      ],
      "text/plain": [
       "  name                                            esitmate        \n",
       "1 GO:0035434 | copper ion transmembrane transport 47.8781915403914\n",
       "2 GO:0055085 | transmembrane transport            3.00090632691812\n",
       "  pvalue               padj        \n",
       "1 4.32035245994907e-05 1.376032e-02\n",
       "2 2.49389173502682e-09 1.588609e-06"
      ]
     },
     "metadata": {},
     "output_type": "display_data"
    }
   ],
   "source": [
    "res_enrich_go_TC$up"
   ]
  },
  {
   "cell_type": "code",
   "execution_count": 49,
   "metadata": {},
   "outputs": [
    {
     "data": {
      "text/html": [
       "<table>\n",
       "<thead><tr><th scope=col>name</th><th scope=col>esitmate</th><th scope=col>pvalue</th><th scope=col>padj</th></tr></thead>\n",
       "<tbody>\n",
       "\t<tr><td>GO:0006260 | DNA replication                                         </td><td>11.0597242236748                                                     </td><td>4.8794477281841e-07                                                  </td><td>1.554104e-04                                                         </td></tr>\n",
       "\t<tr><td>GO:0006351 | transcription, DNA-templated                            </td><td>3.6888864062951                                                      </td><td>0.000169692625351238                                                 </td><td>2.702355e-02                                                         </td></tr>\n",
       "\t<tr><td>GO:0006364 | rRNA processing                                         </td><td>Inf                                                                  </td><td>5.73616345201686e-09                                                 </td><td>3.653936e-06                                                         </td></tr>\n",
       "\t<tr><td>GO:0042254 | ribosome biogenesis                                     </td><td>36.1791084042652                                                     </td><td>0.00014600623673806                                                  </td><td>2.702355e-02                                                         </td></tr>\n",
       "\t<tr><td>GO:0055114, GO:0008033 | oxidation-reduction process, tRNA processing</td><td>Inf                                                                  </td><td>0.000222907133133553                                                 </td><td>2.839837e-02                                                         </td></tr>\n",
       "</tbody>\n",
       "</table>\n"
      ],
      "text/latex": [
       "\\begin{tabular}{r|llll}\n",
       " name & esitmate & pvalue & padj\\\\\n",
       "\\hline\n",
       "\t GO:0006260 \\textbar{} DNA replication                                          & 11.0597242236748                                                                & 4.8794477281841e-07                                                             & 1.554104e-04                                                                   \\\\\n",
       "\t GO:0006351 \\textbar{} transcription, DNA-templated                             & 3.6888864062951                                                                 & 0.000169692625351238                                                            & 2.702355e-02                                                                   \\\\\n",
       "\t GO:0006364 \\textbar{} rRNA processing                                          & Inf                                                                             & 5.73616345201686e-09                                                            & 3.653936e-06                                                                   \\\\\n",
       "\t GO:0042254 \\textbar{} ribosome biogenesis                                      & 36.1791084042652                                                                & 0.00014600623673806                                                             & 2.702355e-02                                                                   \\\\\n",
       "\t GO:0055114, GO:0008033 \\textbar{} oxidation-reduction process, tRNA processing & Inf                                                                             & 0.000222907133133553                                                            & 2.839837e-02                                                                   \\\\\n",
       "\\end{tabular}\n"
      ],
      "text/markdown": [
       "\n",
       "name | esitmate | pvalue | padj | \n",
       "|---|---|---|---|---|\n",
       "| GO:0006260 | DNA replication                                          | 11.0597242236748                                                      | 4.8794477281841e-07                                                   | 1.554104e-04                                                          | \n",
       "| GO:0006351 | transcription, DNA-templated                             | 3.6888864062951                                                       | 0.000169692625351238                                                  | 2.702355e-02                                                          | \n",
       "| GO:0006364 | rRNA processing                                          | Inf                                                                   | 5.73616345201686e-09                                                  | 3.653936e-06                                                          | \n",
       "| GO:0042254 | ribosome biogenesis                                      | 36.1791084042652                                                      | 0.00014600623673806                                                   | 2.702355e-02                                                          | \n",
       "| GO:0055114, GO:0008033 | oxidation-reduction process, tRNA processing | Inf                                                                   | 0.000222907133133553                                                  | 2.839837e-02                                                          | \n",
       "\n",
       "\n"
      ],
      "text/plain": [
       "  name                                                                 \n",
       "1 GO:0006260 | DNA replication                                         \n",
       "2 GO:0006351 | transcription, DNA-templated                            \n",
       "3 GO:0006364 | rRNA processing                                         \n",
       "4 GO:0042254 | ribosome biogenesis                                     \n",
       "5 GO:0055114, GO:0008033 | oxidation-reduction process, tRNA processing\n",
       "  esitmate         pvalue               padj        \n",
       "1 11.0597242236748 4.8794477281841e-07  1.554104e-04\n",
       "2 3.6888864062951  0.000169692625351238 2.702355e-02\n",
       "3 Inf              5.73616345201686e-09 3.653936e-06\n",
       "4 36.1791084042652 0.00014600623673806  2.702355e-02\n",
       "5 Inf              0.000222907133133553 2.839837e-02"
      ]
     },
     "metadata": {},
     "output_type": "display_data"
    }
   ],
   "source": [
    "res_enrich_go_YPD$dw"
   ]
  }
 ],
 "metadata": {
  "kernelspec": {
   "display_name": "R",
   "language": "R",
   "name": "ir"
  },
  "language_info": {
   "codemirror_mode": "r",
   "file_extension": ".r",
   "mimetype": "text/x-r-source",
   "name": "R",
   "pygments_lexer": "r",
   "version": "3.4.1"
  }
 },
 "nbformat": 4,
 "nbformat_minor": 2
}
