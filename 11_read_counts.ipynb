{
 "cells": [
  {
   "cell_type": "markdown",
   "metadata": {},
   "source": [
    "# Set environment"
   ]
  },
  {
   "cell_type": "code",
   "execution_count": 1,
   "metadata": {
    "scrolled": true
   },
   "outputs": [
    {
     "name": "stderr",
     "output_type": "stream",
     "text": [
      "Loading tidyverse: ggplot2\n",
      "Loading tidyverse: tibble\n",
      "Loading tidyverse: tidyr\n",
      "Loading tidyverse: readr\n",
      "Loading tidyverse: purrr\n",
      "Loading tidyverse: dplyr\n",
      "Conflicts with tidy packages ---------------------------------------------------\n",
      "filter(): dplyr, stats\n",
      "lag():    dplyr, stats\n",
      "\n",
      "Attaching package: ‘foreach’\n",
      "\n",
      "The following objects are masked from ‘package:purrr’:\n",
      "\n",
      "    accumulate, when\n",
      "\n",
      "Loading required package: S4Vectors\n",
      "Loading required package: stats4\n",
      "Loading required package: BiocGenerics\n",
      "Loading required package: parallel\n",
      "\n",
      "Attaching package: ‘BiocGenerics’\n",
      "\n",
      "The following objects are masked from ‘package:parallel’:\n",
      "\n",
      "    clusterApply, clusterApplyLB, clusterCall, clusterEvalQ,\n",
      "    clusterExport, clusterMap, parApply, parCapply, parLapply,\n",
      "    parLapplyLB, parRapply, parSapply, parSapplyLB\n",
      "\n",
      "The following objects are masked from ‘package:dplyr’:\n",
      "\n",
      "    combine, intersect, setdiff, union\n",
      "\n",
      "The following objects are masked from ‘package:stats’:\n",
      "\n",
      "    IQR, mad, sd, var, xtabs\n",
      "\n",
      "The following objects are masked from ‘package:base’:\n",
      "\n",
      "    anyDuplicated, append, as.data.frame, cbind, colMeans, colnames,\n",
      "    colSums, do.call, duplicated, eval, evalq, Filter, Find, get, grep,\n",
      "    grepl, intersect, is.unsorted, lapply, lengths, Map, mapply, match,\n",
      "    mget, order, paste, pmax, pmax.int, pmin, pmin.int, Position, rank,\n",
      "    rbind, Reduce, rowMeans, rownames, rowSums, sapply, setdiff, sort,\n",
      "    table, tapply, union, unique, unsplit, which, which.max, which.min\n",
      "\n",
      "\n",
      "Attaching package: ‘S4Vectors’\n",
      "\n",
      "The following objects are masked from ‘package:dplyr’:\n",
      "\n",
      "    first, rename\n",
      "\n",
      "The following object is masked from ‘package:tidyr’:\n",
      "\n",
      "    expand\n",
      "\n",
      "The following object is masked from ‘package:base’:\n",
      "\n",
      "    expand.grid\n",
      "\n",
      "Loading required package: IRanges\n",
      "\n",
      "Attaching package: ‘IRanges’\n",
      "\n",
      "The following objects are masked from ‘package:dplyr’:\n",
      "\n",
      "    collapse, desc, slice\n",
      "\n",
      "The following object is masked from ‘package:purrr’:\n",
      "\n",
      "    reduce\n",
      "\n",
      "Loading required package: GenomicRanges\n",
      "Loading required package: GenomeInfoDb\n",
      "Loading required package: SummarizedExperiment\n",
      "Loading required package: Biobase\n",
      "Welcome to Bioconductor\n",
      "\n",
      "    Vignettes contain introductory material; view with\n",
      "    'browseVignettes()'. To cite Bioconductor, see\n",
      "    'citation(\"Biobase\")', and for packages 'citation(\"pkgname\")'.\n",
      "\n",
      "Loading required package: DelayedArray\n",
      "Loading required package: matrixStats\n",
      "\n",
      "Attaching package: ‘matrixStats’\n",
      "\n",
      "The following objects are masked from ‘package:Biobase’:\n",
      "\n",
      "    anyMissing, rowMedians\n",
      "\n",
      "The following object is masked from ‘package:dplyr’:\n",
      "\n",
      "    count\n",
      "\n",
      "\n",
      "Attaching package: ‘DelayedArray’\n",
      "\n",
      "The following objects are masked from ‘package:matrixStats’:\n",
      "\n",
      "    colMaxs, colMins, colRanges, rowMaxs, rowMins, rowRanges\n",
      "\n",
      "The following object is masked from ‘package:base’:\n",
      "\n",
      "    apply\n",
      "\n",
      "\n",
      "Attaching package: ‘limma’\n",
      "\n",
      "The following object is masked from ‘package:DESeq2’:\n",
      "\n",
      "    plotMA\n",
      "\n",
      "The following object is masked from ‘package:BiocGenerics’:\n",
      "\n",
      "    plotMA\n",
      "\n",
      "\n",
      "Attaching package: ‘gridExtra’\n",
      "\n",
      "The following object is masked from ‘package:Biobase’:\n",
      "\n",
      "    combine\n",
      "\n",
      "The following object is masked from ‘package:BiocGenerics’:\n",
      "\n",
      "    combine\n",
      "\n",
      "The following object is masked from ‘package:dplyr’:\n",
      "\n",
      "    combine\n",
      "\n",
      "\n",
      "---------------------\n",
      "Welcome to dendextend version 1.8.0\n",
      "Type citation('dendextend') for how to cite the package.\n",
      "\n",
      "Type browseVignettes(package = 'dendextend') for the package vignette.\n",
      "The github page is: https://github.com/talgalili/dendextend/\n",
      "\n",
      "Suggestions and bug-reports can be submitted at: https://github.com/talgalili/dendextend/issues\n",
      "Or contact: <tal.galili@gmail.com>\n",
      "\n",
      "\tTo suppress this message use:  suppressPackageStartupMessages(library(dendextend))\n",
      "---------------------\n",
      "\n",
      "\n",
      "Attaching package: ‘dendextend’\n",
      "\n",
      "The following object is masked from ‘package:stats’:\n",
      "\n",
      "    cutree\n",
      "\n",
      "\n",
      "Attaching package: ‘plotly’\n",
      "\n",
      "The following object is masked from ‘package:IRanges’:\n",
      "\n",
      "    slice\n",
      "\n",
      "The following object is masked from ‘package:S4Vectors’:\n",
      "\n",
      "    rename\n",
      "\n",
      "The following object is masked from ‘package:ggplot2’:\n",
      "\n",
      "    last_plot\n",
      "\n",
      "The following object is masked from ‘package:stats’:\n",
      "\n",
      "    filter\n",
      "\n",
      "The following object is masked from ‘package:graphics’:\n",
      "\n",
      "    layout\n",
      "\n"
     ]
    }
   ],
   "source": [
    "source(\"config_deseq.R\")"
   ]
  },
  {
   "cell_type": "markdown",
   "metadata": {},
   "source": [
    "get the files from the star count files"
   ]
  },
  {
   "cell_type": "code",
   "execution_count": 2,
   "metadata": {},
   "outputs": [
    {
     "name": "stdout",
     "output_type": "stream",
     "text": [
      " [1] \"B_16_S26_L001_R1_short_introns_ReadsPerGene.out.tab\"\n",
      " [2] \"B_16_S26_L002_R1_short_introns_ReadsPerGene.out.tab\"\n",
      " [3] \"B_16_S26_L003_R1_short_introns_ReadsPerGene.out.tab\"\n",
      " [4] \"B_16_S26_L004_R1_short_introns_ReadsPerGene.out.tab\"\n",
      " [5] \"B_26_S10_L001_R1_short_introns_ReadsPerGene.out.tab\"\n",
      " [6] \"B_26_S10_L002_R1_short_introns_ReadsPerGene.out.tab\"\n",
      " [7] \"B_26_S10_L003_R1_short_introns_ReadsPerGene.out.tab\"\n",
      " [8] \"B_26_S10_L004_R1_short_introns_ReadsPerGene.out.tab\"\n",
      " [9] \"B_27_S18_L001_R1_short_introns_ReadsPerGene.out.tab\"\n",
      "[10] \"B_27_S18_L002_R1_short_introns_ReadsPerGene.out.tab\"\n",
      "[11] \"B_27_S18_L003_R1_short_introns_ReadsPerGene.out.tab\"\n",
      "[12] \"B_27_S18_L004_R1_short_introns_ReadsPerGene.out.tab\"\n",
      "[13] \"B_38_S34_L001_R1_short_introns_ReadsPerGene.out.tab\"\n",
      "[14] \"B_38_S34_L002_R1_short_introns_ReadsPerGene.out.tab\"\n",
      "[15] \"B_38_S34_L003_R1_short_introns_ReadsPerGene.out.tab\"\n",
      "[16] \"B_38_S34_L004_R1_short_introns_ReadsPerGene.out.tab\"\n",
      "[17] \"B_4_S2_L001_R1_short_introns_ReadsPerGene.out.tab\"  \n",
      "[18] \"B_4_S2_L002_R1_short_introns_ReadsPerGene.out.tab\"  \n",
      "[19] \"B_4_S2_L003_R1_short_introns_ReadsPerGene.out.tab\"  \n",
      "[20] \"B_4_S2_L004_R1_short_introns_ReadsPerGene.out.tab\"  \n",
      "[21] \"B_40_S42_L001_R1_short_introns_ReadsPerGene.out.tab\"\n",
      "[22] \"B_40_S42_L002_R1_short_introns_ReadsPerGene.out.tab\"\n",
      "[23] \"B_40_S42_L003_R1_short_introns_ReadsPerGene.out.tab\"\n",
      "[24] \"B_40_S42_L004_R1_short_introns_ReadsPerGene.out.tab\"\n"
     ]
    }
   ],
   "source": [
    "# get files of all star output files\n",
    "files <- list.files(DATDIR)\n",
    "\n",
    "# get files from group B\n",
    "outfiles <- grep(\"ReadsPerGene.out.tab$\", files, value = TRUE)\n",
    "print(outfiles)"
   ]
  },
  {
   "cell_type": "markdown",
   "metadata": {},
   "source": [
    "# Import data"
   ]
  },
  {
   "cell_type": "markdown",
   "metadata": {},
   "source": [
    "## 01 Metadata"
   ]
  },
  {
   "cell_type": "code",
   "execution_count": 3,
   "metadata": {},
   "outputs": [
    {
     "name": "stderr",
     "output_type": "stream",
     "text": [
      "Parsed with column specification:\n",
      "cols(\n",
      "  label = col_character(),\n",
      "  rna_sample_num = col_integer(),\n",
      "  media = col_character(),\n",
      "  Strain = col_character(),\n",
      "  replicate = col_integer(),\n",
      "  experiment_person = col_character(),\n",
      "  group = col_character(),\n",
      "  rin = col_double(),\n",
      "  concentration_fold_difference = col_double(),\n",
      "  `i7 primer` = col_character(),\n",
      "  `i5 primer` = col_character(),\n",
      "  `i7 index` = col_character(),\n",
      "  `i5 index` = col_character(),\n",
      "  `ng/ul` = col_integer()\n",
      ")\n"
     ]
    }
   ],
   "source": [
    "mtdf <- readr::read_csv(METADTFILE)\n",
    "mtdf <- mtdf %>% rename(Label = label, Media = media)"
   ]
  },
  {
   "cell_type": "code",
   "execution_count": 4,
   "metadata": {},
   "outputs": [
    {
     "data": {
      "text/html": [
       "<table>\n",
       "<thead><tr><th scope=col>Label</th><th scope=col>rna_sample_num</th><th scope=col>Media</th><th scope=col>Strain</th><th scope=col>replicate</th><th scope=col>experiment_person</th><th scope=col>group</th><th scope=col>rin</th><th scope=col>concentration_fold_difference</th><th scope=col>i7 primer</th><th scope=col>i5 primer</th><th scope=col>i7 index</th><th scope=col>i5 index</th><th scope=col>ng/ul</th></tr></thead>\n",
       "<tbody>\n",
       "\t<tr><td>A_1     </td><td> 1      </td><td>YPD     </td><td>H99     </td><td>1       </td><td>expA    </td><td>A       </td><td>10.0    </td><td>3.640919</td><td>i707    </td><td>i501    </td><td>CTGAAGCT</td><td>AGGCTATA</td><td> 620    </td></tr>\n",
       "\t<tr><td>A_2     </td><td> 2      </td><td>YPD     </td><td>H99     </td><td>2       </td><td>expA    </td><td>A       </td><td>10.0    </td><td>1.342821</td><td>i708    </td><td>i501    </td><td>TAATGCGC</td><td>AGGCTATA</td><td>2120    </td></tr>\n",
       "\t<tr><td>A_3     </td><td> 3      </td><td>YPD     </td><td>H99     </td><td>3       </td><td>expA    </td><td>A       </td><td>10.0    </td><td>1.983167</td><td>i709    </td><td>i501    </td><td>CGGCTATG</td><td>AGGCTATA</td><td>1500    </td></tr>\n",
       "\t<tr><td>A_13    </td><td>13      </td><td>TC      </td><td>H99     </td><td>1       </td><td>expA    </td><td>A       </td><td>10.0    </td><td>1.953762</td><td>i710    </td><td>i501    </td><td>TCCGCGAA</td><td>AGGCTATA</td><td>1430    </td></tr>\n",
       "\t<tr><td>A_14    </td><td>14      </td><td>TC      </td><td>H99     </td><td>2       </td><td>expA    </td><td>A       </td><td>10.0    </td><td>1.569444</td><td>i711    </td><td>i501    </td><td>TCTCGCGC</td><td>AGGCTATA</td><td>1710    </td></tr>\n",
       "\t<tr><td>A_15    </td><td>15      </td><td>TC      </td><td>H99     </td><td>3       </td><td>expA    </td><td>A       </td><td> 9.9    </td><td>2.847186</td><td>i712    </td><td>i501    </td><td>AGCGATAG</td><td>AGGCTATA</td><td> 970    </td></tr>\n",
       "</tbody>\n",
       "</table>\n"
      ],
      "text/latex": [
       "\\begin{tabular}{r|llllllllllllll}\n",
       " Label & rna\\_sample\\_num & Media & Strain & replicate & experiment\\_person & group & rin & concentration\\_fold\\_difference & i7 primer & i5 primer & i7 index & i5 index & ng/ul\\\\\n",
       "\\hline\n",
       "\t A\\_1    &  1       & YPD      & H99      & 1        & expA     & A        & 10.0     & 3.640919 & i707     & i501     & CTGAAGCT & AGGCTATA &  620    \\\\\n",
       "\t A\\_2    &  2       & YPD      & H99      & 2        & expA     & A        & 10.0     & 1.342821 & i708     & i501     & TAATGCGC & AGGCTATA & 2120    \\\\\n",
       "\t A\\_3    &  3       & YPD      & H99      & 3        & expA     & A        & 10.0     & 1.983167 & i709     & i501     & CGGCTATG & AGGCTATA & 1500    \\\\\n",
       "\t A\\_13   & 13       & TC       & H99      & 1        & expA     & A        & 10.0     & 1.953762 & i710     & i501     & TCCGCGAA & AGGCTATA & 1430    \\\\\n",
       "\t A\\_14   & 14       & TC       & H99      & 2        & expA     & A        & 10.0     & 1.569444 & i711     & i501     & TCTCGCGC & AGGCTATA & 1710    \\\\\n",
       "\t A\\_15   & 15       & TC       & H99      & 3        & expA     & A        &  9.9     & 2.847186 & i712     & i501     & AGCGATAG & AGGCTATA &  970    \\\\\n",
       "\\end{tabular}\n"
      ],
      "text/markdown": [
       "\n",
       "Label | rna_sample_num | Media | Strain | replicate | experiment_person | group | rin | concentration_fold_difference | i7 primer | i5 primer | i7 index | i5 index | ng/ul | \n",
       "|---|---|---|---|---|---|\n",
       "| A_1      |  1       | YPD      | H99      | 1        | expA     | A        | 10.0     | 3.640919 | i707     | i501     | CTGAAGCT | AGGCTATA |  620     | \n",
       "| A_2      |  2       | YPD      | H99      | 2        | expA     | A        | 10.0     | 1.342821 | i708     | i501     | TAATGCGC | AGGCTATA | 2120     | \n",
       "| A_3      |  3       | YPD      | H99      | 3        | expA     | A        | 10.0     | 1.983167 | i709     | i501     | CGGCTATG | AGGCTATA | 1500     | \n",
       "| A_13     | 13       | TC       | H99      | 1        | expA     | A        | 10.0     | 1.953762 | i710     | i501     | TCCGCGAA | AGGCTATA | 1430     | \n",
       "| A_14     | 14       | TC       | H99      | 2        | expA     | A        | 10.0     | 1.569444 | i711     | i501     | TCTCGCGC | AGGCTATA | 1710     | \n",
       "| A_15     | 15       | TC       | H99      | 3        | expA     | A        |  9.9     | 2.847186 | i712     | i501     | AGCGATAG | AGGCTATA |  970     | \n",
       "\n",
       "\n"
      ],
      "text/plain": [
       "  Label rna_sample_num Media Strain replicate experiment_person group rin \n",
       "1 A_1    1             YPD   H99    1         expA              A     10.0\n",
       "2 A_2    2             YPD   H99    2         expA              A     10.0\n",
       "3 A_3    3             YPD   H99    3         expA              A     10.0\n",
       "4 A_13  13             TC    H99    1         expA              A     10.0\n",
       "5 A_14  14             TC    H99    2         expA              A     10.0\n",
       "6 A_15  15             TC    H99    3         expA              A      9.9\n",
       "  concentration_fold_difference i7 primer i5 primer i7 index i5 index ng/ul\n",
       "1 3.640919                      i707      i501      CTGAAGCT AGGCTATA  620 \n",
       "2 1.342821                      i708      i501      TAATGCGC AGGCTATA 2120 \n",
       "3 1.983167                      i709      i501      CGGCTATG AGGCTATA 1500 \n",
       "4 1.953762                      i710      i501      TCCGCGAA AGGCTATA 1430 \n",
       "5 1.569444                      i711      i501      TCTCGCGC AGGCTATA 1710 \n",
       "6 2.847186                      i712      i501      AGCGATAG AGGCTATA  970 "
      ]
     },
     "metadata": {},
     "output_type": "display_data"
    }
   ],
   "source": [
    "head(mtdf)"
   ]
  },
  {
   "cell_type": "markdown",
   "metadata": {},
   "source": [
    "## 02 Read in the count data output from STAR"
   ]
  },
  {
   "cell_type": "markdown",
   "metadata": {},
   "source": [
    "### Get a glance of the count data"
   ]
  },
  {
   "cell_type": "code",
   "execution_count": 5,
   "metadata": {},
   "outputs": [
    {
     "data": {
      "text/html": [
       "<ol>\n",
       "\t<li><ol class=list-inline>\n",
       "\t<li>'N_unmapped'</li>\n",
       "\t<li>'9159'</li>\n",
       "\t<li>'9159'</li>\n",
       "\t<li>'9159'</li>\n",
       "</ol>\n",
       "</li>\n",
       "\t<li><ol class=list-inline>\n",
       "\t<li>'N_multimapping'</li>\n",
       "\t<li>'470249'</li>\n",
       "\t<li>'470249'</li>\n",
       "\t<li>'470249'</li>\n",
       "</ol>\n",
       "</li>\n",
       "\t<li><ol class=list-inline>\n",
       "\t<li>'N_noFeature'</li>\n",
       "\t<li>'469318'</li>\n",
       "\t<li>'2453101'</li>\n",
       "\t<li>'476341'</li>\n",
       "</ol>\n",
       "</li>\n",
       "\t<li><ol class=list-inline>\n",
       "\t<li>'N_ambiguous'</li>\n",
       "\t<li>'74495'</li>\n",
       "\t<li>'212'</li>\n",
       "\t<li>'423'</li>\n",
       "</ol>\n",
       "</li>\n",
       "\t<li><ol class=list-inline>\n",
       "\t<li>'CNAG_04548'</li>\n",
       "\t<li>'0'</li>\n",
       "\t<li>'0'</li>\n",
       "\t<li>'0'</li>\n",
       "</ol>\n",
       "</li>\n",
       "\t<li><ol class=list-inline>\n",
       "\t<li>'CNAG_07303'</li>\n",
       "\t<li>'0'</li>\n",
       "\t<li>'0'</li>\n",
       "\t<li>'0'</li>\n",
       "</ol>\n",
       "</li>\n",
       "\t<li><ol class=list-inline>\n",
       "\t<li>'CNAG_07304'</li>\n",
       "\t<li>'4'</li>\n",
       "\t<li>'0'</li>\n",
       "\t<li>'4'</li>\n",
       "</ol>\n",
       "</li>\n",
       "\t<li><ol class=list-inline>\n",
       "\t<li>'CNAG_00001'</li>\n",
       "\t<li>'0'</li>\n",
       "\t<li>'0'</li>\n",
       "\t<li>'0'</li>\n",
       "</ol>\n",
       "</li>\n",
       "\t<li><ol class=list-inline>\n",
       "\t<li>'CNAG_07305'</li>\n",
       "\t<li>'0'</li>\n",
       "\t<li>'0'</li>\n",
       "\t<li>'0'</li>\n",
       "</ol>\n",
       "</li>\n",
       "\t<li><ol class=list-inline>\n",
       "\t<li>'CNAG_00002'</li>\n",
       "\t<li>'25'</li>\n",
       "\t<li>'0'</li>\n",
       "\t<li>'25'</li>\n",
       "</ol>\n",
       "</li>\n",
       "</ol>\n"
      ],
      "text/latex": [
       "\\begin{enumerate}\n",
       "\\item \\begin{enumerate*}\n",
       "\\item 'N\\_unmapped'\n",
       "\\item '9159'\n",
       "\\item '9159'\n",
       "\\item '9159'\n",
       "\\end{enumerate*}\n",
       "\n",
       "\\item \\begin{enumerate*}\n",
       "\\item 'N\\_multimapping'\n",
       "\\item '470249'\n",
       "\\item '470249'\n",
       "\\item '470249'\n",
       "\\end{enumerate*}\n",
       "\n",
       "\\item \\begin{enumerate*}\n",
       "\\item 'N\\_noFeature'\n",
       "\\item '469318'\n",
       "\\item '2453101'\n",
       "\\item '476341'\n",
       "\\end{enumerate*}\n",
       "\n",
       "\\item \\begin{enumerate*}\n",
       "\\item 'N\\_ambiguous'\n",
       "\\item '74495'\n",
       "\\item '212'\n",
       "\\item '423'\n",
       "\\end{enumerate*}\n",
       "\n",
       "\\item \\begin{enumerate*}\n",
       "\\item 'CNAG\\_04548'\n",
       "\\item '0'\n",
       "\\item '0'\n",
       "\\item '0'\n",
       "\\end{enumerate*}\n",
       "\n",
       "\\item \\begin{enumerate*}\n",
       "\\item 'CNAG\\_07303'\n",
       "\\item '0'\n",
       "\\item '0'\n",
       "\\item '0'\n",
       "\\end{enumerate*}\n",
       "\n",
       "\\item \\begin{enumerate*}\n",
       "\\item 'CNAG\\_07304'\n",
       "\\item '4'\n",
       "\\item '0'\n",
       "\\item '4'\n",
       "\\end{enumerate*}\n",
       "\n",
       "\\item \\begin{enumerate*}\n",
       "\\item 'CNAG\\_00001'\n",
       "\\item '0'\n",
       "\\item '0'\n",
       "\\item '0'\n",
       "\\end{enumerate*}\n",
       "\n",
       "\\item \\begin{enumerate*}\n",
       "\\item 'CNAG\\_07305'\n",
       "\\item '0'\n",
       "\\item '0'\n",
       "\\item '0'\n",
       "\\end{enumerate*}\n",
       "\n",
       "\\item \\begin{enumerate*}\n",
       "\\item 'CNAG\\_00002'\n",
       "\\item '25'\n",
       "\\item '0'\n",
       "\\item '25'\n",
       "\\end{enumerate*}\n",
       "\n",
       "\\end{enumerate}\n"
      ],
      "text/markdown": [
       "1. 1. 'N_unmapped'\n",
       "2. '9159'\n",
       "3. '9159'\n",
       "4. '9159'\n",
       "\n",
       "\n",
       "\n",
       "2. 1. 'N_multimapping'\n",
       "2. '470249'\n",
       "3. '470249'\n",
       "4. '470249'\n",
       "\n",
       "\n",
       "\n",
       "3. 1. 'N_noFeature'\n",
       "2. '469318'\n",
       "3. '2453101'\n",
       "4. '476341'\n",
       "\n",
       "\n",
       "\n",
       "4. 1. 'N_ambiguous'\n",
       "2. '74495'\n",
       "3. '212'\n",
       "4. '423'\n",
       "\n",
       "\n",
       "\n",
       "5. 1. 'CNAG_04548'\n",
       "2. '0'\n",
       "3. '0'\n",
       "4. '0'\n",
       "\n",
       "\n",
       "\n",
       "6. 1. 'CNAG_07303'\n",
       "2. '0'\n",
       "3. '0'\n",
       "4. '0'\n",
       "\n",
       "\n",
       "\n",
       "7. 1. 'CNAG_07304'\n",
       "2. '4'\n",
       "3. '0'\n",
       "4. '4'\n",
       "\n",
       "\n",
       "\n",
       "8. 1. 'CNAG_00001'\n",
       "2. '0'\n",
       "3. '0'\n",
       "4. '0'\n",
       "\n",
       "\n",
       "\n",
       "9. 1. 'CNAG_07305'\n",
       "2. '0'\n",
       "3. '0'\n",
       "4. '0'\n",
       "\n",
       "\n",
       "\n",
       "10. 1. 'CNAG_00002'\n",
       "2. '25'\n",
       "3. '0'\n",
       "4. '25'\n",
       "\n",
       "\n",
       "\n",
       "\n",
       "\n"
      ],
      "text/plain": [
       "[[1]]\n",
       "[1] \"N_unmapped\" \"9159\"       \"9159\"       \"9159\"      \n",
       "\n",
       "[[2]]\n",
       "[1] \"N_multimapping\" \"470249\"         \"470249\"         \"470249\"        \n",
       "\n",
       "[[3]]\n",
       "[1] \"N_noFeature\" \"469318\"      \"2453101\"     \"476341\"     \n",
       "\n",
       "[[4]]\n",
       "[1] \"N_ambiguous\" \"74495\"       \"212\"         \"423\"        \n",
       "\n",
       "[[5]]\n",
       "[1] \"CNAG_04548\" \"0\"          \"0\"          \"0\"         \n",
       "\n",
       "[[6]]\n",
       "[1] \"CNAG_07303\" \"0\"          \"0\"          \"0\"         \n",
       "\n",
       "[[7]]\n",
       "[1] \"CNAG_07304\" \"4\"          \"0\"          \"4\"         \n",
       "\n",
       "[[8]]\n",
       "[1] \"CNAG_00001\" \"0\"          \"0\"          \"0\"         \n",
       "\n",
       "[[9]]\n",
       "[1] \"CNAG_07305\" \"0\"          \"0\"          \"0\"         \n",
       "\n",
       "[[10]]\n",
       "[1] \"CNAG_00002\" \"25\"         \"0\"          \"25\"        \n"
      ]
     },
     "metadata": {},
     "output_type": "display_data"
    }
   ],
   "source": [
    "cmdstr <- paste(\"head\", file.path(DATDIR, outfiles[1]))\n",
    "cmdout <- system(cmdstr, intern = TRUE)\n",
    "str_split(cmdout, pattern = \"\\t\")"
   ]
  },
  {
   "cell_type": "markdown",
   "metadata": {},
   "source": [
    "### Construct a matrix that gathers all the count files"
   ]
  },
  {
   "cell_type": "code",
   "execution_count": 6,
   "metadata": {},
   "outputs": [],
   "source": [
    "mycombine <- function(df1, df2) {\n",
    "    # Combine two data frames by gene names\n",
    "    #\n",
    "    # Args:\n",
    "    #   df1 (Dataframe): the first count data\n",
    "    #   df2 (Dataframe): the second count data\n",
    "    #\n",
    "    # Returns:\n",
    "    #   (Dataframe) The combined data frame of df1 and df2\n",
    "    full_join(df1, df2, by = \"gene\")\n",
    "}\n",
    "\n",
    "myfile <- function(filedir, filename) {\n",
    "    # Get the absolute paths of a file\n",
    "    #\n",
    "    # Args:\n",
    "    #   filedir  (Character): the directory of the folder\n",
    "    #   filename (Character): the filename\n",
    "    #\n",
    "    # Returns:\n",
    "    #   (Character) the directory of the input file\n",
    "    file.path(filedir, filename)\n",
    "}\n",
    "\n",
    "# Data type for each column\n",
    "coltypes <- list(col_character(), col_integer(), col_integer(), col_integer())"
   ]
  },
  {
   "cell_type": "markdown",
   "metadata": {},
   "source": [
    "read the count files and combine them"
   ]
  },
  {
   "cell_type": "code",
   "execution_count": 7,
   "metadata": {},
   "outputs": [],
   "source": [
    "out <- foreach(outfile = outfiles, .combine = mycombine) %do% {\n",
    "    \n",
    "    # get a directory of each count file\n",
    "    cntfile <- file.path(DATDIR, outfile)\n",
    "    \n",
    "    # read in the count file\n",
    "    readr::read_tsv(cntfile, col_names = FALSE, col_types = coltypes) %>%\n",
    "        dplyr::select(X1, X4) %>% # get the 1st and 4th columns\n",
    "            dplyr::rename_(.dots=setNames(names(.), c(\"gene\", outfile)))\n",
    "}"
   ]
  },
  {
   "cell_type": "markdown",
   "metadata": {},
   "source": [
    "check output"
   ]
  },
  {
   "cell_type": "code",
   "execution_count": 8,
   "metadata": {},
   "outputs": [
    {
     "data": {
      "text/html": [
       "<ol class=list-inline>\n",
       "\t<li>8501</li>\n",
       "\t<li>25</li>\n",
       "</ol>\n"
      ],
      "text/latex": [
       "\\begin{enumerate*}\n",
       "\\item 8501\n",
       "\\item 25\n",
       "\\end{enumerate*}\n"
      ],
      "text/markdown": [
       "1. 8501\n",
       "2. 25\n",
       "\n",
       "\n"
      ],
      "text/plain": [
       "[1] 8501   25"
      ]
     },
     "metadata": {},
     "output_type": "display_data"
    }
   ],
   "source": [
    "dim(out)"
   ]
  },
  {
   "cell_type": "code",
   "execution_count": 9,
   "metadata": {},
   "outputs": [
    {
     "data": {
      "text/html": [
       "<table>\n",
       "<thead><tr><th scope=col>gene</th><th scope=col>B_16_S26_L001_R1_short_introns_ReadsPerGene.out.tab</th><th scope=col>B_16_S26_L002_R1_short_introns_ReadsPerGene.out.tab</th><th scope=col>B_16_S26_L003_R1_short_introns_ReadsPerGene.out.tab</th><th scope=col>B_16_S26_L004_R1_short_introns_ReadsPerGene.out.tab</th><th scope=col>B_26_S10_L001_R1_short_introns_ReadsPerGene.out.tab</th><th scope=col>B_26_S10_L002_R1_short_introns_ReadsPerGene.out.tab</th><th scope=col>B_26_S10_L003_R1_short_introns_ReadsPerGene.out.tab</th><th scope=col>B_26_S10_L004_R1_short_introns_ReadsPerGene.out.tab</th><th scope=col>B_27_S18_L001_R1_short_introns_ReadsPerGene.out.tab</th><th scope=col>⋯</th><th scope=col>B_38_S34_L003_R1_short_introns_ReadsPerGene.out.tab</th><th scope=col>B_38_S34_L004_R1_short_introns_ReadsPerGene.out.tab</th><th scope=col>B_4_S2_L001_R1_short_introns_ReadsPerGene.out.tab</th><th scope=col>B_4_S2_L002_R1_short_introns_ReadsPerGene.out.tab</th><th scope=col>B_4_S2_L003_R1_short_introns_ReadsPerGene.out.tab</th><th scope=col>B_4_S2_L004_R1_short_introns_ReadsPerGene.out.tab</th><th scope=col>B_40_S42_L001_R1_short_introns_ReadsPerGene.out.tab</th><th scope=col>B_40_S42_L002_R1_short_introns_ReadsPerGene.out.tab</th><th scope=col>B_40_S42_L003_R1_short_introns_ReadsPerGene.out.tab</th><th scope=col>B_40_S42_L004_R1_short_introns_ReadsPerGene.out.tab</th></tr></thead>\n",
       "<tbody>\n",
       "\t<tr><td>N_unmapped    </td><td>  9159        </td><td>  8626        </td><td>  9416        </td><td>  9032        </td><td> 12335        </td><td> 11855        </td><td> 12603        </td><td> 12128        </td><td>135943        </td><td>⋯             </td><td>  21011       </td><td>  20597       </td><td>1017930       </td><td>998404        </td><td>1023777       </td><td>1006517       </td><td> 36532        </td><td> 35255        </td><td> 36591        </td><td> 36122        </td></tr>\n",
       "\t<tr><td>N_multimapping</td><td>470249        </td><td>463192        </td><td>469193        </td><td>463449        </td><td>988897        </td><td>975103        </td><td>986675        </td><td>975201        </td><td>235122        </td><td>⋯             </td><td> 160959       </td><td> 159614       </td><td> 610733       </td><td>601446        </td><td> 612603       </td><td> 599896       </td><td>130184        </td><td>128521        </td><td>130261        </td><td>128961        </td></tr>\n",
       "\t<tr><td>N_noFeature   </td><td>476341        </td><td>469769        </td><td>479098        </td><td>475947        </td><td>205465        </td><td>203273        </td><td>206116        </td><td>206384        </td><td>858777        </td><td>⋯             </td><td>1044240       </td><td>1040103       </td><td> 962478       </td><td>947034        </td><td> 967261       </td><td> 952797       </td><td>802513        </td><td>795515        </td><td>803866        </td><td>797623        </td></tr>\n",
       "\t<tr><td>N_ambiguous   </td><td>   423        </td><td>   427        </td><td>   411        </td><td>   449        </td><td>   223        </td><td>   191        </td><td>   215        </td><td>   202        </td><td>   920        </td><td>⋯             </td><td>   1382       </td><td>   1286       </td><td>    162       </td><td>   136        </td><td>    151       </td><td>    172       </td><td>  1232        </td><td>  1250        </td><td>  1386        </td><td>  1349        </td></tr>\n",
       "\t<tr><td>CNAG_04548    </td><td>     0        </td><td>     0        </td><td>     0        </td><td>     0        </td><td>     0        </td><td>     0        </td><td>     0        </td><td>     0        </td><td>     0        </td><td>⋯             </td><td>      1       </td><td>      0       </td><td>      0       </td><td>     0        </td><td>      0       </td><td>      0       </td><td>     0        </td><td>     0        </td><td>     1        </td><td>     0        </td></tr>\n",
       "\t<tr><td>CNAG_07303    </td><td>     0        </td><td>     0        </td><td>     0        </td><td>     0        </td><td>     0        </td><td>     0        </td><td>     0        </td><td>     0        </td><td>     0        </td><td>⋯             </td><td>      0       </td><td>      0       </td><td>      0       </td><td>     0        </td><td>      0       </td><td>      0       </td><td>     0        </td><td>     0        </td><td>     0        </td><td>     0        </td></tr>\n",
       "\t<tr><td>CNAG_07304    </td><td>     4        </td><td>     5        </td><td>     6        </td><td>     2        </td><td>     2        </td><td>     0        </td><td>     0        </td><td>     0        </td><td>     2        </td><td>⋯             </td><td>      0       </td><td>      5       </td><td>      1       </td><td>     1        </td><td>      0       </td><td>      1       </td><td>     5        </td><td>     5        </td><td>     9        </td><td>     6        </td></tr>\n",
       "\t<tr><td>CNAG_00001    </td><td>     0        </td><td>     0        </td><td>     0        </td><td>     0        </td><td>     0        </td><td>     0        </td><td>     0        </td><td>     0        </td><td>     0        </td><td>⋯             </td><td>      0       </td><td>      0       </td><td>      0       </td><td>     0        </td><td>      0       </td><td>      0       </td><td>     0        </td><td>     0        </td><td>     0        </td><td>     0        </td></tr>\n",
       "\t<tr><td>CNAG_07305    </td><td>     0        </td><td>     0        </td><td>     1        </td><td>     0        </td><td>     0        </td><td>     0        </td><td>     0        </td><td>     0        </td><td>     0        </td><td>⋯             </td><td>      0       </td><td>      0       </td><td>      0       </td><td>     0        </td><td>      0       </td><td>      0       </td><td>     1        </td><td>     0        </td><td>     0        </td><td>     1        </td></tr>\n",
       "\t<tr><td>CNAG_00002    </td><td>    25        </td><td>    20        </td><td>    17        </td><td>    30        </td><td>     5        </td><td>     3        </td><td>     2        </td><td>     1        </td><td>    22        </td><td>⋯             </td><td>     41       </td><td>     52       </td><td>      4       </td><td>     7        </td><td>      7       </td><td>      9       </td><td>    55        </td><td>    46        </td><td>    59        </td><td>    54        </td></tr>\n",
       "</tbody>\n",
       "</table>\n"
      ],
      "text/latex": [
       "\\begin{tabular}{r|lllllllllllllllllllllllll}\n",
       " gene & B\\_16\\_S26\\_L001\\_R1\\_short\\_introns\\_ReadsPerGene.out.tab & B\\_16\\_S26\\_L002\\_R1\\_short\\_introns\\_ReadsPerGene.out.tab & B\\_16\\_S26\\_L003\\_R1\\_short\\_introns\\_ReadsPerGene.out.tab & B\\_16\\_S26\\_L004\\_R1\\_short\\_introns\\_ReadsPerGene.out.tab & B\\_26\\_S10\\_L001\\_R1\\_short\\_introns\\_ReadsPerGene.out.tab & B\\_26\\_S10\\_L002\\_R1\\_short\\_introns\\_ReadsPerGene.out.tab & B\\_26\\_S10\\_L003\\_R1\\_short\\_introns\\_ReadsPerGene.out.tab & B\\_26\\_S10\\_L004\\_R1\\_short\\_introns\\_ReadsPerGene.out.tab & B\\_27\\_S18\\_L001\\_R1\\_short\\_introns\\_ReadsPerGene.out.tab & ⋯ & B\\_38\\_S34\\_L003\\_R1\\_short\\_introns\\_ReadsPerGene.out.tab & B\\_38\\_S34\\_L004\\_R1\\_short\\_introns\\_ReadsPerGene.out.tab & B\\_4\\_S2\\_L001\\_R1\\_short\\_introns\\_ReadsPerGene.out.tab & B\\_4\\_S2\\_L002\\_R1\\_short\\_introns\\_ReadsPerGene.out.tab & B\\_4\\_S2\\_L003\\_R1\\_short\\_introns\\_ReadsPerGene.out.tab & B\\_4\\_S2\\_L004\\_R1\\_short\\_introns\\_ReadsPerGene.out.tab & B\\_40\\_S42\\_L001\\_R1\\_short\\_introns\\_ReadsPerGene.out.tab & B\\_40\\_S42\\_L002\\_R1\\_short\\_introns\\_ReadsPerGene.out.tab & B\\_40\\_S42\\_L003\\_R1\\_short\\_introns\\_ReadsPerGene.out.tab & B\\_40\\_S42\\_L004\\_R1\\_short\\_introns\\_ReadsPerGene.out.tab\\\\\n",
       "\\hline\n",
       "\t N\\_unmapped     &   9159           &   8626           &   9416           &   9032           &  12335           &  11855           &  12603           &  12128           & 135943           & ⋯                &   21011          &   20597          & 1017930          & 998404           & 1023777          & 1006517          &  36532           &  35255           &  36591           &  36122          \\\\\n",
       "\t N\\_multimapping & 470249           & 463192           & 469193           & 463449           & 988897           & 975103           & 986675           & 975201           & 235122           & ⋯                &  160959          &  159614          &  610733          & 601446           &  612603          &  599896          & 130184           & 128521           & 130261           & 128961          \\\\\n",
       "\t N\\_noFeature    & 476341           & 469769           & 479098           & 475947           & 205465           & 203273           & 206116           & 206384           & 858777           & ⋯                & 1044240          & 1040103          &  962478          & 947034           &  967261          &  952797          & 802513           & 795515           & 803866           & 797623          \\\\\n",
       "\t N\\_ambiguous    &    423           &    427           &    411           &    449           &    223           &    191           &    215           &    202           &    920           & ⋯                &    1382          &    1286          &     162          &    136           &     151          &     172          &   1232           &   1250           &   1386           &   1349          \\\\\n",
       "\t CNAG\\_04548     &      0           &      0           &      0           &      0           &      0           &      0           &      0           &      0           &      0           & ⋯                &       1          &       0          &       0          &      0           &       0          &       0          &      0           &      0           &      1           &      0          \\\\\n",
       "\t CNAG\\_07303     &      0           &      0           &      0           &      0           &      0           &      0           &      0           &      0           &      0           & ⋯                &       0          &       0          &       0          &      0           &       0          &       0          &      0           &      0           &      0           &      0          \\\\\n",
       "\t CNAG\\_07304     &      4           &      5           &      6           &      2           &      2           &      0           &      0           &      0           &      2           & ⋯                &       0          &       5          &       1          &      1           &       0          &       1          &      5           &      5           &      9           &      6          \\\\\n",
       "\t CNAG\\_00001     &      0           &      0           &      0           &      0           &      0           &      0           &      0           &      0           &      0           & ⋯                &       0          &       0          &       0          &      0           &       0          &       0          &      0           &      0           &      0           &      0          \\\\\n",
       "\t CNAG\\_07305     &      0           &      0           &      1           &      0           &      0           &      0           &      0           &      0           &      0           & ⋯                &       0          &       0          &       0          &      0           &       0          &       0          &      1           &      0           &      0           &      1          \\\\\n",
       "\t CNAG\\_00002     &     25           &     20           &     17           &     30           &      5           &      3           &      2           &      1           &     22           & ⋯                &      41          &      52          &       4          &      7           &       7          &       9          &     55           &     46           &     59           &     54          \\\\\n",
       "\\end{tabular}\n"
      ],
      "text/markdown": [
       "\n",
       "gene | B_16_S26_L001_R1_short_introns_ReadsPerGene.out.tab | B_16_S26_L002_R1_short_introns_ReadsPerGene.out.tab | B_16_S26_L003_R1_short_introns_ReadsPerGene.out.tab | B_16_S26_L004_R1_short_introns_ReadsPerGene.out.tab | B_26_S10_L001_R1_short_introns_ReadsPerGene.out.tab | B_26_S10_L002_R1_short_introns_ReadsPerGene.out.tab | B_26_S10_L003_R1_short_introns_ReadsPerGene.out.tab | B_26_S10_L004_R1_short_introns_ReadsPerGene.out.tab | B_27_S18_L001_R1_short_introns_ReadsPerGene.out.tab | ⋯ | B_38_S34_L003_R1_short_introns_ReadsPerGene.out.tab | B_38_S34_L004_R1_short_introns_ReadsPerGene.out.tab | B_4_S2_L001_R1_short_introns_ReadsPerGene.out.tab | B_4_S2_L002_R1_short_introns_ReadsPerGene.out.tab | B_4_S2_L003_R1_short_introns_ReadsPerGene.out.tab | B_4_S2_L004_R1_short_introns_ReadsPerGene.out.tab | B_40_S42_L001_R1_short_introns_ReadsPerGene.out.tab | B_40_S42_L002_R1_short_introns_ReadsPerGene.out.tab | B_40_S42_L003_R1_short_introns_ReadsPerGene.out.tab | B_40_S42_L004_R1_short_introns_ReadsPerGene.out.tab | \n",
       "|---|---|---|---|---|---|---|---|---|---|\n",
       "| N_unmapped     |   9159         |   8626         |   9416         |   9032         |  12335         |  11855         |  12603         |  12128         | 135943         | ⋯              |   21011        |   20597        | 1017930        | 998404         | 1023777        | 1006517        |  36532         |  35255         |  36591         |  36122         | \n",
       "| N_multimapping | 470249         | 463192         | 469193         | 463449         | 988897         | 975103         | 986675         | 975201         | 235122         | ⋯              |  160959        |  159614        |  610733        | 601446         |  612603        |  599896        | 130184         | 128521         | 130261         | 128961         | \n",
       "| N_noFeature    | 476341         | 469769         | 479098         | 475947         | 205465         | 203273         | 206116         | 206384         | 858777         | ⋯              | 1044240        | 1040103        |  962478        | 947034         |  967261        |  952797        | 802513         | 795515         | 803866         | 797623         | \n",
       "| N_ambiguous    |    423         |    427         |    411         |    449         |    223         |    191         |    215         |    202         |    920         | ⋯              |    1382        |    1286        |     162        |    136         |     151        |     172        |   1232         |   1250         |   1386         |   1349         | \n",
       "| CNAG_04548     |      0         |      0         |      0         |      0         |      0         |      0         |      0         |      0         |      0         | ⋯              |       1        |       0        |       0        |      0         |       0        |       0        |      0         |      0         |      1         |      0         | \n",
       "| CNAG_07303     |      0         |      0         |      0         |      0         |      0         |      0         |      0         |      0         |      0         | ⋯              |       0        |       0        |       0        |      0         |       0        |       0        |      0         |      0         |      0         |      0         | \n",
       "| CNAG_07304     |      4         |      5         |      6         |      2         |      2         |      0         |      0         |      0         |      2         | ⋯              |       0        |       5        |       1        |      1         |       0        |       1        |      5         |      5         |      9         |      6         | \n",
       "| CNAG_00001     |      0         |      0         |      0         |      0         |      0         |      0         |      0         |      0         |      0         | ⋯              |       0        |       0        |       0        |      0         |       0        |       0        |      0         |      0         |      0         |      0         | \n",
       "| CNAG_07305     |      0         |      0         |      1         |      0         |      0         |      0         |      0         |      0         |      0         | ⋯              |       0        |       0        |       0        |      0         |       0        |       0        |      1         |      0         |      0         |      1         | \n",
       "| CNAG_00002     |     25         |     20         |     17         |     30         |      5         |      3         |      2         |      1         |     22         | ⋯              |      41        |      52        |       4        |      7         |       7        |       9        |     55         |     46         |     59         |     54         | \n",
       "\n",
       "\n"
      ],
      "text/plain": [
       "   gene           B_16_S26_L001_R1_short_introns_ReadsPerGene.out.tab\n",
       "1  N_unmapped       9159                                             \n",
       "2  N_multimapping 470249                                             \n",
       "3  N_noFeature    476341                                             \n",
       "4  N_ambiguous       423                                             \n",
       "5  CNAG_04548          0                                             \n",
       "6  CNAG_07303          0                                             \n",
       "7  CNAG_07304          4                                             \n",
       "8  CNAG_00001          0                                             \n",
       "9  CNAG_07305          0                                             \n",
       "10 CNAG_00002         25                                             \n",
       "   B_16_S26_L002_R1_short_introns_ReadsPerGene.out.tab\n",
       "1    8626                                             \n",
       "2  463192                                             \n",
       "3  469769                                             \n",
       "4     427                                             \n",
       "5       0                                             \n",
       "6       0                                             \n",
       "7       5                                             \n",
       "8       0                                             \n",
       "9       0                                             \n",
       "10     20                                             \n",
       "   B_16_S26_L003_R1_short_introns_ReadsPerGene.out.tab\n",
       "1    9416                                             \n",
       "2  469193                                             \n",
       "3  479098                                             \n",
       "4     411                                             \n",
       "5       0                                             \n",
       "6       0                                             \n",
       "7       6                                             \n",
       "8       0                                             \n",
       "9       1                                             \n",
       "10     17                                             \n",
       "   B_16_S26_L004_R1_short_introns_ReadsPerGene.out.tab\n",
       "1    9032                                             \n",
       "2  463449                                             \n",
       "3  475947                                             \n",
       "4     449                                             \n",
       "5       0                                             \n",
       "6       0                                             \n",
       "7       2                                             \n",
       "8       0                                             \n",
       "9       0                                             \n",
       "10     30                                             \n",
       "   B_26_S10_L001_R1_short_introns_ReadsPerGene.out.tab\n",
       "1   12335                                             \n",
       "2  988897                                             \n",
       "3  205465                                             \n",
       "4     223                                             \n",
       "5       0                                             \n",
       "6       0                                             \n",
       "7       2                                             \n",
       "8       0                                             \n",
       "9       0                                             \n",
       "10      5                                             \n",
       "   B_26_S10_L002_R1_short_introns_ReadsPerGene.out.tab\n",
       "1   11855                                             \n",
       "2  975103                                             \n",
       "3  203273                                             \n",
       "4     191                                             \n",
       "5       0                                             \n",
       "6       0                                             \n",
       "7       0                                             \n",
       "8       0                                             \n",
       "9       0                                             \n",
       "10      3                                             \n",
       "   B_26_S10_L003_R1_short_introns_ReadsPerGene.out.tab\n",
       "1   12603                                             \n",
       "2  986675                                             \n",
       "3  206116                                             \n",
       "4     215                                             \n",
       "5       0                                             \n",
       "6       0                                             \n",
       "7       0                                             \n",
       "8       0                                             \n",
       "9       0                                             \n",
       "10      2                                             \n",
       "   B_26_S10_L004_R1_short_introns_ReadsPerGene.out.tab\n",
       "1   12128                                             \n",
       "2  975201                                             \n",
       "3  206384                                             \n",
       "4     202                                             \n",
       "5       0                                             \n",
       "6       0                                             \n",
       "7       0                                             \n",
       "8       0                                             \n",
       "9       0                                             \n",
       "10      1                                             \n",
       "   B_27_S18_L001_R1_short_introns_ReadsPerGene.out.tab ⋯\n",
       "1  135943                                              ⋯\n",
       "2  235122                                              ⋯\n",
       "3  858777                                              ⋯\n",
       "4     920                                              ⋯\n",
       "5       0                                              ⋯\n",
       "6       0                                              ⋯\n",
       "7       2                                              ⋯\n",
       "8       0                                              ⋯\n",
       "9       0                                              ⋯\n",
       "10     22                                              ⋯\n",
       "   B_38_S34_L003_R1_short_introns_ReadsPerGene.out.tab\n",
       "1    21011                                            \n",
       "2   160959                                            \n",
       "3  1044240                                            \n",
       "4     1382                                            \n",
       "5        1                                            \n",
       "6        0                                            \n",
       "7        0                                            \n",
       "8        0                                            \n",
       "9        0                                            \n",
       "10      41                                            \n",
       "   B_38_S34_L004_R1_short_introns_ReadsPerGene.out.tab\n",
       "1    20597                                            \n",
       "2   159614                                            \n",
       "3  1040103                                            \n",
       "4     1286                                            \n",
       "5        0                                            \n",
       "6        0                                            \n",
       "7        5                                            \n",
       "8        0                                            \n",
       "9        0                                            \n",
       "10      52                                            \n",
       "   B_4_S2_L001_R1_short_introns_ReadsPerGene.out.tab\n",
       "1  1017930                                          \n",
       "2   610733                                          \n",
       "3   962478                                          \n",
       "4      162                                          \n",
       "5        0                                          \n",
       "6        0                                          \n",
       "7        1                                          \n",
       "8        0                                          \n",
       "9        0                                          \n",
       "10       4                                          \n",
       "   B_4_S2_L002_R1_short_introns_ReadsPerGene.out.tab\n",
       "1  998404                                           \n",
       "2  601446                                           \n",
       "3  947034                                           \n",
       "4     136                                           \n",
       "5       0                                           \n",
       "6       0                                           \n",
       "7       1                                           \n",
       "8       0                                           \n",
       "9       0                                           \n",
       "10      7                                           \n",
       "   B_4_S2_L003_R1_short_introns_ReadsPerGene.out.tab\n",
       "1  1023777                                          \n",
       "2   612603                                          \n",
       "3   967261                                          \n",
       "4      151                                          \n",
       "5        0                                          \n",
       "6        0                                          \n",
       "7        0                                          \n",
       "8        0                                          \n",
       "9        0                                          \n",
       "10       7                                          \n",
       "   B_4_S2_L004_R1_short_introns_ReadsPerGene.out.tab\n",
       "1  1006517                                          \n",
       "2   599896                                          \n",
       "3   952797                                          \n",
       "4      172                                          \n",
       "5        0                                          \n",
       "6        0                                          \n",
       "7        1                                          \n",
       "8        0                                          \n",
       "9        0                                          \n",
       "10       9                                          \n",
       "   B_40_S42_L001_R1_short_introns_ReadsPerGene.out.tab\n",
       "1   36532                                             \n",
       "2  130184                                             \n",
       "3  802513                                             \n",
       "4    1232                                             \n",
       "5       0                                             \n",
       "6       0                                             \n",
       "7       5                                             \n",
       "8       0                                             \n",
       "9       1                                             \n",
       "10     55                                             \n",
       "   B_40_S42_L002_R1_short_introns_ReadsPerGene.out.tab\n",
       "1   35255                                             \n",
       "2  128521                                             \n",
       "3  795515                                             \n",
       "4    1250                                             \n",
       "5       0                                             \n",
       "6       0                                             \n",
       "7       5                                             \n",
       "8       0                                             \n",
       "9       0                                             \n",
       "10     46                                             \n",
       "   B_40_S42_L003_R1_short_introns_ReadsPerGene.out.tab\n",
       "1   36591                                             \n",
       "2  130261                                             \n",
       "3  803866                                             \n",
       "4    1386                                             \n",
       "5       1                                             \n",
       "6       0                                             \n",
       "7       9                                             \n",
       "8       0                                             \n",
       "9       0                                             \n",
       "10     59                                             \n",
       "   B_40_S42_L004_R1_short_introns_ReadsPerGene.out.tab\n",
       "1   36122                                             \n",
       "2  128961                                             \n",
       "3  797623                                             \n",
       "4    1349                                             \n",
       "5       0                                             \n",
       "6       0                                             \n",
       "7       6                                             \n",
       "8       0                                             \n",
       "9       1                                             \n",
       "10     54                                             "
      ]
     },
     "metadata": {},
     "output_type": "display_data"
    }
   ],
   "source": [
    "head(out, 10)"
   ]
  },
  {
   "cell_type": "markdown",
   "metadata": {},
   "source": [
    "# Arrange the results from the count files"
   ]
  },
  {
   "cell_type": "markdown",
   "metadata": {},
   "source": [
    "## 01 split the summary features (first four rows) from the gene counts"
   ]
  },
  {
   "cell_type": "markdown",
   "metadata": {},
   "source": [
    "Summary features (first four rows)"
   ]
  },
  {
   "cell_type": "code",
   "execution_count": 10,
   "metadata": {},
   "outputs": [
    {
     "data": {
      "text/html": [
       "<table>\n",
       "<thead><tr><th scope=col>expid</th><th scope=col>namb</th><th scope=col>nmulti</th><th scope=col>nnofeat</th><th scope=col>nunmap</th></tr></thead>\n",
       "<tbody>\n",
       "\t<tr><td>B_16_S26_L001_R1_short_introns_ReadsPerGene.out.tab</td><td>423                                                </td><td>470249                                             </td><td>476341                                             </td><td> 9159                                              </td></tr>\n",
       "\t<tr><td>B_16_S26_L002_R1_short_introns_ReadsPerGene.out.tab</td><td>427                                                </td><td>463192                                             </td><td>469769                                             </td><td> 8626                                              </td></tr>\n",
       "\t<tr><td>B_16_S26_L003_R1_short_introns_ReadsPerGene.out.tab</td><td>411                                                </td><td>469193                                             </td><td>479098                                             </td><td> 9416                                              </td></tr>\n",
       "\t<tr><td>B_16_S26_L004_R1_short_introns_ReadsPerGene.out.tab</td><td>449                                                </td><td>463449                                             </td><td>475947                                             </td><td> 9032                                              </td></tr>\n",
       "\t<tr><td>B_26_S10_L001_R1_short_introns_ReadsPerGene.out.tab</td><td>223                                                </td><td>988897                                             </td><td>205465                                             </td><td>12335                                              </td></tr>\n",
       "\t<tr><td>B_26_S10_L002_R1_short_introns_ReadsPerGene.out.tab</td><td>191                                                </td><td>975103                                             </td><td>203273                                             </td><td>11855                                              </td></tr>\n",
       "</tbody>\n",
       "</table>\n"
      ],
      "text/latex": [
       "\\begin{tabular}{r|lllll}\n",
       " expid & namb & nmulti & nnofeat & nunmap\\\\\n",
       "\\hline\n",
       "\t B\\_16\\_S26\\_L001\\_R1\\_short\\_introns\\_ReadsPerGene.out.tab & 423                                                               & 470249                                                            & 476341                                                            &  9159                                                            \\\\\n",
       "\t B\\_16\\_S26\\_L002\\_R1\\_short\\_introns\\_ReadsPerGene.out.tab & 427                                                               & 463192                                                            & 469769                                                            &  8626                                                            \\\\\n",
       "\t B\\_16\\_S26\\_L003\\_R1\\_short\\_introns\\_ReadsPerGene.out.tab & 411                                                               & 469193                                                            & 479098                                                            &  9416                                                            \\\\\n",
       "\t B\\_16\\_S26\\_L004\\_R1\\_short\\_introns\\_ReadsPerGene.out.tab & 449                                                               & 463449                                                            & 475947                                                            &  9032                                                            \\\\\n",
       "\t B\\_26\\_S10\\_L001\\_R1\\_short\\_introns\\_ReadsPerGene.out.tab & 223                                                               & 988897                                                            & 205465                                                            & 12335                                                            \\\\\n",
       "\t B\\_26\\_S10\\_L002\\_R1\\_short\\_introns\\_ReadsPerGene.out.tab & 191                                                               & 975103                                                            & 203273                                                            & 11855                                                            \\\\\n",
       "\\end{tabular}\n"
      ],
      "text/markdown": [
       "\n",
       "expid | namb | nmulti | nnofeat | nunmap | \n",
       "|---|---|---|---|---|---|\n",
       "| B_16_S26_L001_R1_short_introns_ReadsPerGene.out.tab | 423                                                 | 470249                                              | 476341                                              |  9159                                               | \n",
       "| B_16_S26_L002_R1_short_introns_ReadsPerGene.out.tab | 427                                                 | 463192                                              | 469769                                              |  8626                                               | \n",
       "| B_16_S26_L003_R1_short_introns_ReadsPerGene.out.tab | 411                                                 | 469193                                              | 479098                                              |  9416                                               | \n",
       "| B_16_S26_L004_R1_short_introns_ReadsPerGene.out.tab | 449                                                 | 463449                                              | 475947                                              |  9032                                               | \n",
       "| B_26_S10_L001_R1_short_introns_ReadsPerGene.out.tab | 223                                                 | 988897                                              | 205465                                              | 12335                                               | \n",
       "| B_26_S10_L002_R1_short_introns_ReadsPerGene.out.tab | 191                                                 | 975103                                              | 203273                                              | 11855                                               | \n",
       "\n",
       "\n"
      ],
      "text/plain": [
       "  expid                                               namb nmulti nnofeat\n",
       "1 B_16_S26_L001_R1_short_introns_ReadsPerGene.out.tab 423  470249 476341 \n",
       "2 B_16_S26_L002_R1_short_introns_ReadsPerGene.out.tab 427  463192 469769 \n",
       "3 B_16_S26_L003_R1_short_introns_ReadsPerGene.out.tab 411  469193 479098 \n",
       "4 B_16_S26_L004_R1_short_introns_ReadsPerGene.out.tab 449  463449 475947 \n",
       "5 B_26_S10_L001_R1_short_introns_ReadsPerGene.out.tab 223  988897 205465 \n",
       "6 B_26_S10_L002_R1_short_introns_ReadsPerGene.out.tab 191  975103 203273 \n",
       "  nunmap\n",
       "1  9159 \n",
       "2  8626 \n",
       "3  9416 \n",
       "4  9032 \n",
       "5 12335 \n",
       "6 11855 "
      ]
     },
     "metadata": {},
     "output_type": "display_data"
    }
   ],
   "source": [
    "### Gather and spread the first four rows\n",
    "nmisc <- out %>%\n",
    "    dplyr::slice(1:4) %>%\n",
    "    gather(expid, value, -gene) %>% \n",
    "    spread(gene, value) %>%\n",
    "    rename_(.dots = setNames(names(.), c(\"expid\", \"namb\", \"nmulti\", \"nnofeat\",\"nunmap\")))\n",
    "\n",
    "nmisc %>% head"
   ]
  },
  {
   "cell_type": "markdown",
   "metadata": {},
   "source": [
    "gene counts (remove the first four rows)"
   ]
  },
  {
   "cell_type": "code",
   "execution_count": 11,
   "metadata": {},
   "outputs": [
    {
     "name": "stderr",
     "output_type": "stream",
     "text": [
      "Warning message:\n",
      "“Setting row names on a tibble is deprecated.”"
     ]
    }
   ],
   "source": [
    "### remove the first four rows\n",
    "dat <- out %>% dplyr::slice(-(1:4))\n",
    "\n",
    "### convert from biological format to statistical format\n",
    "genecounts <- dat %>% \n",
    "    column_to_rownames(\"gene\") %>% \n",
    "    t %>% as.data.frame %>% \n",
    "    rownames_to_column(\"expid\")"
   ]
  },
  {
   "cell_type": "code",
   "execution_count": 12,
   "metadata": {},
   "outputs": [
    {
     "data": {
      "text/html": [
       "<table>\n",
       "<thead><tr><th scope=col>expid</th><th scope=col>CNAG_04548</th><th scope=col>CNAG_07303</th><th scope=col>CNAG_07304</th><th scope=col>CNAG_00001</th><th scope=col>CNAG_07305</th></tr></thead>\n",
       "<tbody>\n",
       "\t<tr><td>B_16_S26_L001_R1_short_introns_ReadsPerGene.out.tab</td><td>0                                                  </td><td>0                                                  </td><td>4                                                  </td><td>0                                                  </td><td>0                                                  </td></tr>\n",
       "\t<tr><td>B_16_S26_L002_R1_short_introns_ReadsPerGene.out.tab</td><td>0                                                  </td><td>0                                                  </td><td>5                                                  </td><td>0                                                  </td><td>0                                                  </td></tr>\n",
       "\t<tr><td>B_16_S26_L003_R1_short_introns_ReadsPerGene.out.tab</td><td>0                                                  </td><td>0                                                  </td><td>6                                                  </td><td>0                                                  </td><td>1                                                  </td></tr>\n",
       "\t<tr><td>B_16_S26_L004_R1_short_introns_ReadsPerGene.out.tab</td><td>0                                                  </td><td>0                                                  </td><td>2                                                  </td><td>0                                                  </td><td>0                                                  </td></tr>\n",
       "\t<tr><td>B_26_S10_L001_R1_short_introns_ReadsPerGene.out.tab</td><td>0                                                  </td><td>0                                                  </td><td>2                                                  </td><td>0                                                  </td><td>0                                                  </td></tr>\n",
       "\t<tr><td>B_26_S10_L002_R1_short_introns_ReadsPerGene.out.tab</td><td>0                                                  </td><td>0                                                  </td><td>0                                                  </td><td>0                                                  </td><td>0                                                  </td></tr>\n",
       "</tbody>\n",
       "</table>\n"
      ],
      "text/latex": [
       "\\begin{tabular}{r|llllll}\n",
       " expid & CNAG\\_04548 & CNAG\\_07303 & CNAG\\_07304 & CNAG\\_00001 & CNAG\\_07305\\\\\n",
       "\\hline\n",
       "\t B\\_16\\_S26\\_L001\\_R1\\_short\\_introns\\_ReadsPerGene.out.tab & 0                                                                 & 0                                                                 & 4                                                                 & 0                                                                 & 0                                                                \\\\\n",
       "\t B\\_16\\_S26\\_L002\\_R1\\_short\\_introns\\_ReadsPerGene.out.tab & 0                                                                 & 0                                                                 & 5                                                                 & 0                                                                 & 0                                                                \\\\\n",
       "\t B\\_16\\_S26\\_L003\\_R1\\_short\\_introns\\_ReadsPerGene.out.tab & 0                                                                 & 0                                                                 & 6                                                                 & 0                                                                 & 1                                                                \\\\\n",
       "\t B\\_16\\_S26\\_L004\\_R1\\_short\\_introns\\_ReadsPerGene.out.tab & 0                                                                 & 0                                                                 & 2                                                                 & 0                                                                 & 0                                                                \\\\\n",
       "\t B\\_26\\_S10\\_L001\\_R1\\_short\\_introns\\_ReadsPerGene.out.tab & 0                                                                 & 0                                                                 & 2                                                                 & 0                                                                 & 0                                                                \\\\\n",
       "\t B\\_26\\_S10\\_L002\\_R1\\_short\\_introns\\_ReadsPerGene.out.tab & 0                                                                 & 0                                                                 & 0                                                                 & 0                                                                 & 0                                                                \\\\\n",
       "\\end{tabular}\n"
      ],
      "text/markdown": [
       "\n",
       "expid | CNAG_04548 | CNAG_07303 | CNAG_07304 | CNAG_00001 | CNAG_07305 | \n",
       "|---|---|---|---|---|---|\n",
       "| B_16_S26_L001_R1_short_introns_ReadsPerGene.out.tab | 0                                                   | 0                                                   | 4                                                   | 0                                                   | 0                                                   | \n",
       "| B_16_S26_L002_R1_short_introns_ReadsPerGene.out.tab | 0                                                   | 0                                                   | 5                                                   | 0                                                   | 0                                                   | \n",
       "| B_16_S26_L003_R1_short_introns_ReadsPerGene.out.tab | 0                                                   | 0                                                   | 6                                                   | 0                                                   | 1                                                   | \n",
       "| B_16_S26_L004_R1_short_introns_ReadsPerGene.out.tab | 0                                                   | 0                                                   | 2                                                   | 0                                                   | 0                                                   | \n",
       "| B_26_S10_L001_R1_short_introns_ReadsPerGene.out.tab | 0                                                   | 0                                                   | 2                                                   | 0                                                   | 0                                                   | \n",
       "| B_26_S10_L002_R1_short_introns_ReadsPerGene.out.tab | 0                                                   | 0                                                   | 0                                                   | 0                                                   | 0                                                   | \n",
       "\n",
       "\n"
      ],
      "text/plain": [
       "  expid                                               CNAG_04548 CNAG_07303\n",
       "1 B_16_S26_L001_R1_short_introns_ReadsPerGene.out.tab 0          0         \n",
       "2 B_16_S26_L002_R1_short_introns_ReadsPerGene.out.tab 0          0         \n",
       "3 B_16_S26_L003_R1_short_introns_ReadsPerGene.out.tab 0          0         \n",
       "4 B_16_S26_L004_R1_short_introns_ReadsPerGene.out.tab 0          0         \n",
       "5 B_26_S10_L001_R1_short_introns_ReadsPerGene.out.tab 0          0         \n",
       "6 B_26_S10_L002_R1_short_introns_ReadsPerGene.out.tab 0          0         \n",
       "  CNAG_07304 CNAG_00001 CNAG_07305\n",
       "1 4          0          0         \n",
       "2 5          0          0         \n",
       "3 6          0          1         \n",
       "4 2          0          0         \n",
       "5 2          0          0         \n",
       "6 0          0          0         "
      ]
     },
     "metadata": {},
     "output_type": "display_data"
    }
   ],
   "source": [
    "genecounts[1:6, 1:6]"
   ]
  },
  {
   "cell_type": "markdown",
   "metadata": {},
   "source": [
    "## 02 Summarize the results"
   ]
  },
  {
   "cell_type": "code",
   "execution_count": 13,
   "metadata": {},
   "outputs": [
    {
     "data": {
      "text/html": [
       "<table>\n",
       "<thead><tr><th scope=col>expid</th><th scope=col>ngenemap</th></tr></thead>\n",
       "<tbody>\n",
       "\t<tr><td>B_16_S26_L001_R1_short_introns_ReadsPerGene.out.tab</td><td>2057403                                            </td></tr>\n",
       "\t<tr><td>B_16_S26_L002_R1_short_introns_ReadsPerGene.out.tab</td><td>2027400                                            </td></tr>\n",
       "\t<tr><td>B_16_S26_L003_R1_short_introns_ReadsPerGene.out.tab</td><td>2065911                                            </td></tr>\n",
       "\t<tr><td>B_16_S26_L004_R1_short_introns_ReadsPerGene.out.tab</td><td>2041357                                            </td></tr>\n",
       "\t<tr><td>B_26_S10_L001_R1_short_introns_ReadsPerGene.out.tab</td><td>1844575                                            </td></tr>\n",
       "\t<tr><td>B_26_S10_L002_R1_short_introns_ReadsPerGene.out.tab</td><td>1817849                                            </td></tr>\n",
       "</tbody>\n",
       "</table>\n"
      ],
      "text/latex": [
       "\\begin{tabular}{r|ll}\n",
       " expid & ngenemap\\\\\n",
       "\\hline\n",
       "\t B\\_16\\_S26\\_L001\\_R1\\_short\\_introns\\_ReadsPerGene.out.tab & 2057403                                                          \\\\\n",
       "\t B\\_16\\_S26\\_L002\\_R1\\_short\\_introns\\_ReadsPerGene.out.tab & 2027400                                                          \\\\\n",
       "\t B\\_16\\_S26\\_L003\\_R1\\_short\\_introns\\_ReadsPerGene.out.tab & 2065911                                                          \\\\\n",
       "\t B\\_16\\_S26\\_L004\\_R1\\_short\\_introns\\_ReadsPerGene.out.tab & 2041357                                                          \\\\\n",
       "\t B\\_26\\_S10\\_L001\\_R1\\_short\\_introns\\_ReadsPerGene.out.tab & 1844575                                                          \\\\\n",
       "\t B\\_26\\_S10\\_L002\\_R1\\_short\\_introns\\_ReadsPerGene.out.tab & 1817849                                                          \\\\\n",
       "\\end{tabular}\n"
      ],
      "text/markdown": [
       "\n",
       "expid | ngenemap | \n",
       "|---|---|---|---|---|---|\n",
       "| B_16_S26_L001_R1_short_introns_ReadsPerGene.out.tab | 2057403                                             | \n",
       "| B_16_S26_L002_R1_short_introns_ReadsPerGene.out.tab | 2027400                                             | \n",
       "| B_16_S26_L003_R1_short_introns_ReadsPerGene.out.tab | 2065911                                             | \n",
       "| B_16_S26_L004_R1_short_introns_ReadsPerGene.out.tab | 2041357                                             | \n",
       "| B_26_S10_L001_R1_short_introns_ReadsPerGene.out.tab | 1844575                                             | \n",
       "| B_26_S10_L002_R1_short_introns_ReadsPerGene.out.tab | 1817849                                             | \n",
       "\n",
       "\n"
      ],
      "text/plain": [
       "  expid                                               ngenemap\n",
       "1 B_16_S26_L001_R1_short_introns_ReadsPerGene.out.tab 2057403 \n",
       "2 B_16_S26_L002_R1_short_introns_ReadsPerGene.out.tab 2027400 \n",
       "3 B_16_S26_L003_R1_short_introns_ReadsPerGene.out.tab 2065911 \n",
       "4 B_16_S26_L004_R1_short_introns_ReadsPerGene.out.tab 2041357 \n",
       "5 B_26_S10_L001_R1_short_introns_ReadsPerGene.out.tab 1844575 \n",
       "6 B_26_S10_L002_R1_short_introns_ReadsPerGene.out.tab 1817849 "
      ]
     },
     "metadata": {},
     "output_type": "display_data"
    }
   ],
   "source": [
    "### Sum across the rows for a total gene count variable\n",
    "ngene <- genecounts %>%    \n",
    "    mutate(ngenemap = rowSums(.[-1])) %>%\n",
    "    select(expid, ngenemap)\n",
    "\n",
    "head(ngene)"
   ]
  },
  {
   "cell_type": "code",
   "execution_count": 14,
   "metadata": {},
   "outputs": [
    {
     "data": {
      "text/html": [
       "<table>\n",
       "<thead><tr><th scope=col>expid</th><th scope=col>namb</th><th scope=col>nmulti</th><th scope=col>nnofeat</th><th scope=col>nunmap</th></tr></thead>\n",
       "<tbody>\n",
       "\t<tr><td>B_16_S26_L001_R1_short_introns_ReadsPerGene.out.tab</td><td>423                                                </td><td>470249                                             </td><td>476341                                             </td><td> 9159                                              </td></tr>\n",
       "\t<tr><td>B_16_S26_L002_R1_short_introns_ReadsPerGene.out.tab</td><td>427                                                </td><td>463192                                             </td><td>469769                                             </td><td> 8626                                              </td></tr>\n",
       "\t<tr><td>B_16_S26_L003_R1_short_introns_ReadsPerGene.out.tab</td><td>411                                                </td><td>469193                                             </td><td>479098                                             </td><td> 9416                                              </td></tr>\n",
       "\t<tr><td>B_16_S26_L004_R1_short_introns_ReadsPerGene.out.tab</td><td>449                                                </td><td>463449                                             </td><td>475947                                             </td><td> 9032                                              </td></tr>\n",
       "\t<tr><td>B_26_S10_L001_R1_short_introns_ReadsPerGene.out.tab</td><td>223                                                </td><td>988897                                             </td><td>205465                                             </td><td>12335                                              </td></tr>\n",
       "\t<tr><td>B_26_S10_L002_R1_short_introns_ReadsPerGene.out.tab</td><td>191                                                </td><td>975103                                             </td><td>203273                                             </td><td>11855                                              </td></tr>\n",
       "</tbody>\n",
       "</table>\n"
      ],
      "text/latex": [
       "\\begin{tabular}{r|lllll}\n",
       " expid & namb & nmulti & nnofeat & nunmap\\\\\n",
       "\\hline\n",
       "\t B\\_16\\_S26\\_L001\\_R1\\_short\\_introns\\_ReadsPerGene.out.tab & 423                                                               & 470249                                                            & 476341                                                            &  9159                                                            \\\\\n",
       "\t B\\_16\\_S26\\_L002\\_R1\\_short\\_introns\\_ReadsPerGene.out.tab & 427                                                               & 463192                                                            & 469769                                                            &  8626                                                            \\\\\n",
       "\t B\\_16\\_S26\\_L003\\_R1\\_short\\_introns\\_ReadsPerGene.out.tab & 411                                                               & 469193                                                            & 479098                                                            &  9416                                                            \\\\\n",
       "\t B\\_16\\_S26\\_L004\\_R1\\_short\\_introns\\_ReadsPerGene.out.tab & 449                                                               & 463449                                                            & 475947                                                            &  9032                                                            \\\\\n",
       "\t B\\_26\\_S10\\_L001\\_R1\\_short\\_introns\\_ReadsPerGene.out.tab & 223                                                               & 988897                                                            & 205465                                                            & 12335                                                            \\\\\n",
       "\t B\\_26\\_S10\\_L002\\_R1\\_short\\_introns\\_ReadsPerGene.out.tab & 191                                                               & 975103                                                            & 203273                                                            & 11855                                                            \\\\\n",
       "\\end{tabular}\n"
      ],
      "text/markdown": [
       "\n",
       "expid | namb | nmulti | nnofeat | nunmap | \n",
       "|---|---|---|---|---|---|\n",
       "| B_16_S26_L001_R1_short_introns_ReadsPerGene.out.tab | 423                                                 | 470249                                              | 476341                                              |  9159                                               | \n",
       "| B_16_S26_L002_R1_short_introns_ReadsPerGene.out.tab | 427                                                 | 463192                                              | 469769                                              |  8626                                               | \n",
       "| B_16_S26_L003_R1_short_introns_ReadsPerGene.out.tab | 411                                                 | 469193                                              | 479098                                              |  9416                                               | \n",
       "| B_16_S26_L004_R1_short_introns_ReadsPerGene.out.tab | 449                                                 | 463449                                              | 475947                                              |  9032                                               | \n",
       "| B_26_S10_L001_R1_short_introns_ReadsPerGene.out.tab | 223                                                 | 988897                                              | 205465                                              | 12335                                               | \n",
       "| B_26_S10_L002_R1_short_introns_ReadsPerGene.out.tab | 191                                                 | 975103                                              | 203273                                              | 11855                                               | \n",
       "\n",
       "\n"
      ],
      "text/plain": [
       "  expid                                               namb nmulti nnofeat\n",
       "1 B_16_S26_L001_R1_short_introns_ReadsPerGene.out.tab 423  470249 476341 \n",
       "2 B_16_S26_L002_R1_short_introns_ReadsPerGene.out.tab 427  463192 469769 \n",
       "3 B_16_S26_L003_R1_short_introns_ReadsPerGene.out.tab 411  469193 479098 \n",
       "4 B_16_S26_L004_R1_short_introns_ReadsPerGene.out.tab 449  463449 475947 \n",
       "5 B_26_S10_L001_R1_short_introns_ReadsPerGene.out.tab 223  988897 205465 \n",
       "6 B_26_S10_L002_R1_short_introns_ReadsPerGene.out.tab 191  975103 203273 \n",
       "  nunmap\n",
       "1  9159 \n",
       "2  8626 \n",
       "3  9416 \n",
       "4  9032 \n",
       "5 12335 \n",
       "6 11855 "
      ]
     },
     "metadata": {},
     "output_type": "display_data"
    }
   ],
   "source": [
    "### Recall the summary features gotten from the count files\n",
    "head(nmisc)"
   ]
  },
  {
   "cell_type": "code",
   "execution_count": 15,
   "metadata": {},
   "outputs": [
    {
     "data": {
      "text/html": [
       "<table>\n",
       "<thead><tr><th scope=col>expid</th><th scope=col>ngenemap</th><th scope=col>namb</th><th scope=col>nmulti</th><th scope=col>nnofeat</th><th scope=col>nunmap</th><th scope=col>depth</th><th scope=col>prop.gene</th><th scope=col>prop.nofeat</th><th scope=col>prop.unique</th></tr></thead>\n",
       "<tbody>\n",
       "\t<tr><td>B_16_S26_L001_R1_short_introns_ReadsPerGene.out.tab</td><td>2057403                                            </td><td> 423                                               </td><td>470249                                             </td><td> 476341                                            </td><td>   9159                                            </td><td>3013575                                            </td><td>0.6827117                                          </td><td>0.15806509                                         </td><td>0.8407768                                          </td></tr>\n",
       "\t<tr><td>B_16_S26_L002_R1_short_introns_ReadsPerGene.out.tab</td><td>2027400                                            </td><td> 427                                               </td><td>463192                                             </td><td> 469769                                            </td><td>   8626                                            </td><td>2969414                                            </td><td>0.6827610                                          </td><td>0.15820259                                         </td><td>0.8409636                                          </td></tr>\n",
       "\t<tr><td>B_16_S26_L003_R1_short_introns_ReadsPerGene.out.tab</td><td>2065911                                            </td><td> 411                                               </td><td>469193                                             </td><td> 479098                                            </td><td>   9416                                            </td><td>3024029                                            </td><td>0.6831651                                          </td><td>0.15843036                                         </td><td>0.8415954                                          </td></tr>\n",
       "\t<tr><td>B_16_S26_L004_R1_short_introns_ReadsPerGene.out.tab</td><td>2041357                                            </td><td> 449                                               </td><td>463449                                             </td><td> 475947                                            </td><td>   9032                                            </td><td>2990234                                            </td><td>0.6826747                                          </td><td>0.15916714                                         </td><td>0.8418418                                          </td></tr>\n",
       "\t<tr><td>B_26_S10_L001_R1_short_introns_ReadsPerGene.out.tab</td><td>1844575                                            </td><td> 223                                               </td><td>988897                                             </td><td> 205465                                            </td><td>  12335                                            </td><td>3051495                                            </td><td>0.6044824                                          </td><td>0.06733257                                         </td><td>0.6718150                                          </td></tr>\n",
       "\t<tr><td>B_26_S10_L002_R1_short_introns_ReadsPerGene.out.tab</td><td>1817849                                            </td><td> 191                                               </td><td>975103                                             </td><td> 203273                                            </td><td>  11855                                            </td><td>3008271                                            </td><td>0.6042837                                          </td><td>0.06757137                                         </td><td>0.6718550                                          </td></tr>\n",
       "\t<tr><td>B_26_S10_L003_R1_short_introns_ReadsPerGene.out.tab</td><td>1852562                                            </td><td> 215                                               </td><td>986675                                             </td><td> 206116                                            </td><td>  12603                                            </td><td>3058171                                            </td><td>0.6057745                                          </td><td>0.06739845                                         </td><td>0.6731730                                          </td></tr>\n",
       "\t<tr><td>B_26_S10_L004_R1_short_introns_ReadsPerGene.out.tab</td><td>1832915                                            </td><td> 202                                               </td><td>975201                                             </td><td> 206384                                            </td><td>  12128                                            </td><td>3026830                                            </td><td>0.6055560                                          </td><td>0.06818487                                         </td><td>0.6737408                                          </td></tr>\n",
       "\t<tr><td>B_27_S18_L001_R1_short_introns_ReadsPerGene.out.tab</td><td>1547064                                            </td><td> 920                                               </td><td>235122                                             </td><td> 858777                                            </td><td> 135943                                            </td><td>2777826                                            </td><td>0.5569334                                          </td><td>0.30915435                                         </td><td>0.8660877                                          </td></tr>\n",
       "\t<tr><td>B_27_S18_L002_R1_short_introns_ReadsPerGene.out.tab</td><td>1525294                                            </td><td> 961                                               </td><td>232656                                             </td><td> 851671                                            </td><td> 134465                                            </td><td>2745047                                            </td><td>0.5556531                                          </td><td>0.31025735                                         </td><td>0.8659105                                          </td></tr>\n",
       "\t<tr><td>B_27_S18_L003_R1_short_introns_ReadsPerGene.out.tab</td><td>1552057                                            </td><td> 979                                               </td><td>235656                                             </td><td> 861996                                            </td><td> 136793                                            </td><td>2787481                                            </td><td>0.5567955                                          </td><td>0.30923834                                         </td><td>0.8660339                                          </td></tr>\n",
       "\t<tr><td>B_27_S18_L004_R1_short_introns_ReadsPerGene.out.tab</td><td>1530223                                            </td><td> 989                                               </td><td>232671                                             </td><td> 856313                                            </td><td> 135500                                            </td><td>2755696                                            </td><td>0.5552946                                          </td><td>0.31074291                                         </td><td>0.8660375                                          </td></tr>\n",
       "\t<tr><td>B_38_S34_L001_R1_short_introns_ReadsPerGene.out.tab</td><td>1677245                                            </td><td>1403                                               </td><td>160735                                             </td><td>1040336                                            </td><td>  20735                                            </td><td>2900454                                            </td><td>0.5782698                                          </td><td>0.35868040                                         </td><td>0.9369502                                          </td></tr>\n",
       "\t<tr><td>B_38_S34_L002_R1_short_introns_ReadsPerGene.out.tab</td><td>1654308                                            </td><td>1373                                               </td><td>159079                                             </td><td>1031678                                            </td><td>  20100                                            </td><td>2866538                                            </td><td>0.5771101                                          </td><td>0.35990383                                         </td><td>0.9370139                                          </td></tr>\n",
       "\t<tr><td>B_38_S34_L003_R1_short_introns_ReadsPerGene.out.tab</td><td>1679303                                            </td><td>1382                                               </td><td>160959                                             </td><td>1044240                                            </td><td>  21011                                            </td><td>2906895                                            </td><td>0.5776965                                          </td><td>0.35922866                                         </td><td>0.9369251                                          </td></tr>\n",
       "\t<tr><td>B_38_S34_L004_R1_short_introns_ReadsPerGene.out.tab</td><td>1661592                                            </td><td>1286                                               </td><td>159614                                             </td><td>1040103                                            </td><td>  20597                                            </td><td>2883192                                            </td><td>0.5763029                                          </td><td>0.36074705                                         </td><td>0.9370500                                          </td></tr>\n",
       "\t<tr><td>B_4_S2_L001_R1_short_introns_ReadsPerGene.out.tab  </td><td> 505444                                            </td><td> 162                                               </td><td>610733                                             </td><td> 962478                                            </td><td>1017930                                            </td><td>3096747                                            </td><td>0.1632177                                          </td><td>0.31080292                                         </td><td>0.4740206                                          </td></tr>\n",
       "\t<tr><td>B_4_S2_L002_R1_short_introns_ReadsPerGene.out.tab  </td><td> 494793                                            </td><td> 136                                               </td><td>601446                                             </td><td> 947034                                            </td><td> 998404                                            </td><td>3041813                                            </td><td>0.1626638                                          </td><td>0.31133867                                         </td><td>0.4740025                                          </td></tr>\n",
       "\t<tr><td>B_4_S2_L003_R1_short_introns_ReadsPerGene.out.tab  </td><td> 508549                                            </td><td> 151                                               </td><td>612603                                             </td><td> 967261                                            </td><td>1023777                                            </td><td>3112341                                            </td><td>0.1633976                                          </td><td>0.31078246                                         </td><td>0.4741800                                          </td></tr>\n",
       "\t<tr><td>B_4_S2_L004_R1_short_introns_ReadsPerGene.out.tab  </td><td> 498548                                            </td><td> 172                                               </td><td>599896                                             </td><td> 952797                                            </td><td>1006517                                            </td><td>3057930                                            </td><td>0.1630345                                          </td><td>0.31158234                                         </td><td>0.4746168                                          </td></tr>\n",
       "\t<tr><td>B_40_S42_L001_R1_short_introns_ReadsPerGene.out.tab</td><td>1824904                                            </td><td>1232                                               </td><td>130184                                             </td><td> 802513                                            </td><td>  36532                                            </td><td>2795365                                            </td><td>0.6528321                                          </td><td>0.28708702                                         </td><td>0.9399191                                          </td></tr>\n",
       "\t<tr><td>B_40_S42_L002_R1_short_introns_ReadsPerGene.out.tab</td><td>1795656                                            </td><td>1250                                               </td><td>128521                                             </td><td> 795515                                            </td><td>  35255                                            </td><td>2756197                                            </td><td>0.6514977                                          </td><td>0.28862777                                         </td><td>0.9401255                                          </td></tr>\n",
       "\t<tr><td>B_40_S42_L003_R1_short_introns_ReadsPerGene.out.tab</td><td>1826892                                            </td><td>1386                                               </td><td>130261                                             </td><td> 803866                                            </td><td>  36591                                            </td><td>2798996                                            </td><td>0.6526955                                          </td><td>0.28719798                                         </td><td>0.9398934                                          </td></tr>\n",
       "\t<tr><td>B_40_S42_L004_R1_short_introns_ReadsPerGene.out.tab</td><td>1797172                                            </td><td>1349                                               </td><td>128961                                             </td><td> 797623                                            </td><td>  36122                                            </td><td>2761227                                            </td><td>0.6508599                                          </td><td>0.28886542                                         </td><td>0.9397253                                          </td></tr>\n",
       "</tbody>\n",
       "</table>\n"
      ],
      "text/latex": [
       "\\begin{tabular}{r|llllllllll}\n",
       " expid & ngenemap & namb & nmulti & nnofeat & nunmap & depth & prop.gene & prop.nofeat & prop.unique\\\\\n",
       "\\hline\n",
       "\t B\\_16\\_S26\\_L001\\_R1\\_short\\_introns\\_ReadsPerGene.out.tab & 2057403                                                           &  423                                                              & 470249                                                            &  476341                                                           &    9159                                                           & 3013575                                                           & 0.6827117                                                         & 0.15806509                                                        & 0.8407768                                                        \\\\\n",
       "\t B\\_16\\_S26\\_L002\\_R1\\_short\\_introns\\_ReadsPerGene.out.tab & 2027400                                                           &  427                                                              & 463192                                                            &  469769                                                           &    8626                                                           & 2969414                                                           & 0.6827610                                                         & 0.15820259                                                        & 0.8409636                                                        \\\\\n",
       "\t B\\_16\\_S26\\_L003\\_R1\\_short\\_introns\\_ReadsPerGene.out.tab & 2065911                                                           &  411                                                              & 469193                                                            &  479098                                                           &    9416                                                           & 3024029                                                           & 0.6831651                                                         & 0.15843036                                                        & 0.8415954                                                        \\\\\n",
       "\t B\\_16\\_S26\\_L004\\_R1\\_short\\_introns\\_ReadsPerGene.out.tab & 2041357                                                           &  449                                                              & 463449                                                            &  475947                                                           &    9032                                                           & 2990234                                                           & 0.6826747                                                         & 0.15916714                                                        & 0.8418418                                                        \\\\\n",
       "\t B\\_26\\_S10\\_L001\\_R1\\_short\\_introns\\_ReadsPerGene.out.tab & 1844575                                                           &  223                                                              & 988897                                                            &  205465                                                           &   12335                                                           & 3051495                                                           & 0.6044824                                                         & 0.06733257                                                        & 0.6718150                                                        \\\\\n",
       "\t B\\_26\\_S10\\_L002\\_R1\\_short\\_introns\\_ReadsPerGene.out.tab & 1817849                                                           &  191                                                              & 975103                                                            &  203273                                                           &   11855                                                           & 3008271                                                           & 0.6042837                                                         & 0.06757137                                                        & 0.6718550                                                        \\\\\n",
       "\t B\\_26\\_S10\\_L003\\_R1\\_short\\_introns\\_ReadsPerGene.out.tab & 1852562                                                           &  215                                                              & 986675                                                            &  206116                                                           &   12603                                                           & 3058171                                                           & 0.6057745                                                         & 0.06739845                                                        & 0.6731730                                                        \\\\\n",
       "\t B\\_26\\_S10\\_L004\\_R1\\_short\\_introns\\_ReadsPerGene.out.tab & 1832915                                                           &  202                                                              & 975201                                                            &  206384                                                           &   12128                                                           & 3026830                                                           & 0.6055560                                                         & 0.06818487                                                        & 0.6737408                                                        \\\\\n",
       "\t B\\_27\\_S18\\_L001\\_R1\\_short\\_introns\\_ReadsPerGene.out.tab & 1547064                                                           &  920                                                              & 235122                                                            &  858777                                                           &  135943                                                           & 2777826                                                           & 0.5569334                                                         & 0.30915435                                                        & 0.8660877                                                        \\\\\n",
       "\t B\\_27\\_S18\\_L002\\_R1\\_short\\_introns\\_ReadsPerGene.out.tab & 1525294                                                           &  961                                                              & 232656                                                            &  851671                                                           &  134465                                                           & 2745047                                                           & 0.5556531                                                         & 0.31025735                                                        & 0.8659105                                                        \\\\\n",
       "\t B\\_27\\_S18\\_L003\\_R1\\_short\\_introns\\_ReadsPerGene.out.tab & 1552057                                                           &  979                                                              & 235656                                                            &  861996                                                           &  136793                                                           & 2787481                                                           & 0.5567955                                                         & 0.30923834                                                        & 0.8660339                                                        \\\\\n",
       "\t B\\_27\\_S18\\_L004\\_R1\\_short\\_introns\\_ReadsPerGene.out.tab & 1530223                                                           &  989                                                              & 232671                                                            &  856313                                                           &  135500                                                           & 2755696                                                           & 0.5552946                                                         & 0.31074291                                                        & 0.8660375                                                        \\\\\n",
       "\t B\\_38\\_S34\\_L001\\_R1\\_short\\_introns\\_ReadsPerGene.out.tab & 1677245                                                           & 1403                                                              & 160735                                                            & 1040336                                                           &   20735                                                           & 2900454                                                           & 0.5782698                                                         & 0.35868040                                                        & 0.9369502                                                        \\\\\n",
       "\t B\\_38\\_S34\\_L002\\_R1\\_short\\_introns\\_ReadsPerGene.out.tab & 1654308                                                           & 1373                                                              & 159079                                                            & 1031678                                                           &   20100                                                           & 2866538                                                           & 0.5771101                                                         & 0.35990383                                                        & 0.9370139                                                        \\\\\n",
       "\t B\\_38\\_S34\\_L003\\_R1\\_short\\_introns\\_ReadsPerGene.out.tab & 1679303                                                           & 1382                                                              & 160959                                                            & 1044240                                                           &   21011                                                           & 2906895                                                           & 0.5776965                                                         & 0.35922866                                                        & 0.9369251                                                        \\\\\n",
       "\t B\\_38\\_S34\\_L004\\_R1\\_short\\_introns\\_ReadsPerGene.out.tab & 1661592                                                           & 1286                                                              & 159614                                                            & 1040103                                                           &   20597                                                           & 2883192                                                           & 0.5763029                                                         & 0.36074705                                                        & 0.9370500                                                        \\\\\n",
       "\t B\\_4\\_S2\\_L001\\_R1\\_short\\_introns\\_ReadsPerGene.out.tab   &  505444                                                           &  162                                                              & 610733                                                            &  962478                                                           & 1017930                                                           & 3096747                                                           & 0.1632177                                                         & 0.31080292                                                        & 0.4740206                                                        \\\\\n",
       "\t B\\_4\\_S2\\_L002\\_R1\\_short\\_introns\\_ReadsPerGene.out.tab   &  494793                                                           &  136                                                              & 601446                                                            &  947034                                                           &  998404                                                           & 3041813                                                           & 0.1626638                                                         & 0.31133867                                                        & 0.4740025                                                        \\\\\n",
       "\t B\\_4\\_S2\\_L003\\_R1\\_short\\_introns\\_ReadsPerGene.out.tab   &  508549                                                           &  151                                                              & 612603                                                            &  967261                                                           & 1023777                                                           & 3112341                                                           & 0.1633976                                                         & 0.31078246                                                        & 0.4741800                                                        \\\\\n",
       "\t B\\_4\\_S2\\_L004\\_R1\\_short\\_introns\\_ReadsPerGene.out.tab   &  498548                                                           &  172                                                              & 599896                                                            &  952797                                                           & 1006517                                                           & 3057930                                                           & 0.1630345                                                         & 0.31158234                                                        & 0.4746168                                                        \\\\\n",
       "\t B\\_40\\_S42\\_L001\\_R1\\_short\\_introns\\_ReadsPerGene.out.tab & 1824904                                                           & 1232                                                              & 130184                                                            &  802513                                                           &   36532                                                           & 2795365                                                           & 0.6528321                                                         & 0.28708702                                                        & 0.9399191                                                        \\\\\n",
       "\t B\\_40\\_S42\\_L002\\_R1\\_short\\_introns\\_ReadsPerGene.out.tab & 1795656                                                           & 1250                                                              & 128521                                                            &  795515                                                           &   35255                                                           & 2756197                                                           & 0.6514977                                                         & 0.28862777                                                        & 0.9401255                                                        \\\\\n",
       "\t B\\_40\\_S42\\_L003\\_R1\\_short\\_introns\\_ReadsPerGene.out.tab & 1826892                                                           & 1386                                                              & 130261                                                            &  803866                                                           &   36591                                                           & 2798996                                                           & 0.6526955                                                         & 0.28719798                                                        & 0.9398934                                                        \\\\\n",
       "\t B\\_40\\_S42\\_L004\\_R1\\_short\\_introns\\_ReadsPerGene.out.tab & 1797172                                                           & 1349                                                              & 128961                                                            &  797623                                                           &   36122                                                           & 2761227                                                           & 0.6508599                                                         & 0.28886542                                                        & 0.9397253                                                        \\\\\n",
       "\\end{tabular}\n"
      ],
      "text/markdown": [
       "\n",
       "expid | ngenemap | namb | nmulti | nnofeat | nunmap | depth | prop.gene | prop.nofeat | prop.unique | \n",
       "|---|---|---|---|---|---|---|---|---|---|---|---|---|---|---|---|---|---|---|---|---|---|---|---|\n",
       "| B_16_S26_L001_R1_short_introns_ReadsPerGene.out.tab | 2057403                                             |  423                                                | 470249                                              |  476341                                             |    9159                                             | 3013575                                             | 0.6827117                                           | 0.15806509                                          | 0.8407768                                           | \n",
       "| B_16_S26_L002_R1_short_introns_ReadsPerGene.out.tab | 2027400                                             |  427                                                | 463192                                              |  469769                                             |    8626                                             | 2969414                                             | 0.6827610                                           | 0.15820259                                          | 0.8409636                                           | \n",
       "| B_16_S26_L003_R1_short_introns_ReadsPerGene.out.tab | 2065911                                             |  411                                                | 469193                                              |  479098                                             |    9416                                             | 3024029                                             | 0.6831651                                           | 0.15843036                                          | 0.8415954                                           | \n",
       "| B_16_S26_L004_R1_short_introns_ReadsPerGene.out.tab | 2041357                                             |  449                                                | 463449                                              |  475947                                             |    9032                                             | 2990234                                             | 0.6826747                                           | 0.15916714                                          | 0.8418418                                           | \n",
       "| B_26_S10_L001_R1_short_introns_ReadsPerGene.out.tab | 1844575                                             |  223                                                | 988897                                              |  205465                                             |   12335                                             | 3051495                                             | 0.6044824                                           | 0.06733257                                          | 0.6718150                                           | \n",
       "| B_26_S10_L002_R1_short_introns_ReadsPerGene.out.tab | 1817849                                             |  191                                                | 975103                                              |  203273                                             |   11855                                             | 3008271                                             | 0.6042837                                           | 0.06757137                                          | 0.6718550                                           | \n",
       "| B_26_S10_L003_R1_short_introns_ReadsPerGene.out.tab | 1852562                                             |  215                                                | 986675                                              |  206116                                             |   12603                                             | 3058171                                             | 0.6057745                                           | 0.06739845                                          | 0.6731730                                           | \n",
       "| B_26_S10_L004_R1_short_introns_ReadsPerGene.out.tab | 1832915                                             |  202                                                | 975201                                              |  206384                                             |   12128                                             | 3026830                                             | 0.6055560                                           | 0.06818487                                          | 0.6737408                                           | \n",
       "| B_27_S18_L001_R1_short_introns_ReadsPerGene.out.tab | 1547064                                             |  920                                                | 235122                                              |  858777                                             |  135943                                             | 2777826                                             | 0.5569334                                           | 0.30915435                                          | 0.8660877                                           | \n",
       "| B_27_S18_L002_R1_short_introns_ReadsPerGene.out.tab | 1525294                                             |  961                                                | 232656                                              |  851671                                             |  134465                                             | 2745047                                             | 0.5556531                                           | 0.31025735                                          | 0.8659105                                           | \n",
       "| B_27_S18_L003_R1_short_introns_ReadsPerGene.out.tab | 1552057                                             |  979                                                | 235656                                              |  861996                                             |  136793                                             | 2787481                                             | 0.5567955                                           | 0.30923834                                          | 0.8660339                                           | \n",
       "| B_27_S18_L004_R1_short_introns_ReadsPerGene.out.tab | 1530223                                             |  989                                                | 232671                                              |  856313                                             |  135500                                             | 2755696                                             | 0.5552946                                           | 0.31074291                                          | 0.8660375                                           | \n",
       "| B_38_S34_L001_R1_short_introns_ReadsPerGene.out.tab | 1677245                                             | 1403                                                | 160735                                              | 1040336                                             |   20735                                             | 2900454                                             | 0.5782698                                           | 0.35868040                                          | 0.9369502                                           | \n",
       "| B_38_S34_L002_R1_short_introns_ReadsPerGene.out.tab | 1654308                                             | 1373                                                | 159079                                              | 1031678                                             |   20100                                             | 2866538                                             | 0.5771101                                           | 0.35990383                                          | 0.9370139                                           | \n",
       "| B_38_S34_L003_R1_short_introns_ReadsPerGene.out.tab | 1679303                                             | 1382                                                | 160959                                              | 1044240                                             |   21011                                             | 2906895                                             | 0.5776965                                           | 0.35922866                                          | 0.9369251                                           | \n",
       "| B_38_S34_L004_R1_short_introns_ReadsPerGene.out.tab | 1661592                                             | 1286                                                | 159614                                              | 1040103                                             |   20597                                             | 2883192                                             | 0.5763029                                           | 0.36074705                                          | 0.9370500                                           | \n",
       "| B_4_S2_L001_R1_short_introns_ReadsPerGene.out.tab   |  505444                                             |  162                                                | 610733                                              |  962478                                             | 1017930                                             | 3096747                                             | 0.1632177                                           | 0.31080292                                          | 0.4740206                                           | \n",
       "| B_4_S2_L002_R1_short_introns_ReadsPerGene.out.tab   |  494793                                             |  136                                                | 601446                                              |  947034                                             |  998404                                             | 3041813                                             | 0.1626638                                           | 0.31133867                                          | 0.4740025                                           | \n",
       "| B_4_S2_L003_R1_short_introns_ReadsPerGene.out.tab   |  508549                                             |  151                                                | 612603                                              |  967261                                             | 1023777                                             | 3112341                                             | 0.1633976                                           | 0.31078246                                          | 0.4741800                                           | \n",
       "| B_4_S2_L004_R1_short_introns_ReadsPerGene.out.tab   |  498548                                             |  172                                                | 599896                                              |  952797                                             | 1006517                                             | 3057930                                             | 0.1630345                                           | 0.31158234                                          | 0.4746168                                           | \n",
       "| B_40_S42_L001_R1_short_introns_ReadsPerGene.out.tab | 1824904                                             | 1232                                                | 130184                                              |  802513                                             |   36532                                             | 2795365                                             | 0.6528321                                           | 0.28708702                                          | 0.9399191                                           | \n",
       "| B_40_S42_L002_R1_short_introns_ReadsPerGene.out.tab | 1795656                                             | 1250                                                | 128521                                              |  795515                                             |   35255                                             | 2756197                                             | 0.6514977                                           | 0.28862777                                          | 0.9401255                                           | \n",
       "| B_40_S42_L003_R1_short_introns_ReadsPerGene.out.tab | 1826892                                             | 1386                                                | 130261                                              |  803866                                             |   36591                                             | 2798996                                             | 0.6526955                                           | 0.28719798                                          | 0.9398934                                           | \n",
       "| B_40_S42_L004_R1_short_introns_ReadsPerGene.out.tab | 1797172                                             | 1349                                                | 128961                                              |  797623                                             |   36122                                             | 2761227                                             | 0.6508599                                           | 0.28886542                                          | 0.9397253                                           | \n",
       "\n",
       "\n"
      ],
      "text/plain": [
       "   expid                                               ngenemap namb nmulti\n",
       "1  B_16_S26_L001_R1_short_introns_ReadsPerGene.out.tab 2057403   423 470249\n",
       "2  B_16_S26_L002_R1_short_introns_ReadsPerGene.out.tab 2027400   427 463192\n",
       "3  B_16_S26_L003_R1_short_introns_ReadsPerGene.out.tab 2065911   411 469193\n",
       "4  B_16_S26_L004_R1_short_introns_ReadsPerGene.out.tab 2041357   449 463449\n",
       "5  B_26_S10_L001_R1_short_introns_ReadsPerGene.out.tab 1844575   223 988897\n",
       "6  B_26_S10_L002_R1_short_introns_ReadsPerGene.out.tab 1817849   191 975103\n",
       "7  B_26_S10_L003_R1_short_introns_ReadsPerGene.out.tab 1852562   215 986675\n",
       "8  B_26_S10_L004_R1_short_introns_ReadsPerGene.out.tab 1832915   202 975201\n",
       "9  B_27_S18_L001_R1_short_introns_ReadsPerGene.out.tab 1547064   920 235122\n",
       "10 B_27_S18_L002_R1_short_introns_ReadsPerGene.out.tab 1525294   961 232656\n",
       "11 B_27_S18_L003_R1_short_introns_ReadsPerGene.out.tab 1552057   979 235656\n",
       "12 B_27_S18_L004_R1_short_introns_ReadsPerGene.out.tab 1530223   989 232671\n",
       "13 B_38_S34_L001_R1_short_introns_ReadsPerGene.out.tab 1677245  1403 160735\n",
       "14 B_38_S34_L002_R1_short_introns_ReadsPerGene.out.tab 1654308  1373 159079\n",
       "15 B_38_S34_L003_R1_short_introns_ReadsPerGene.out.tab 1679303  1382 160959\n",
       "16 B_38_S34_L004_R1_short_introns_ReadsPerGene.out.tab 1661592  1286 159614\n",
       "17 B_4_S2_L001_R1_short_introns_ReadsPerGene.out.tab    505444   162 610733\n",
       "18 B_4_S2_L002_R1_short_introns_ReadsPerGene.out.tab    494793   136 601446\n",
       "19 B_4_S2_L003_R1_short_introns_ReadsPerGene.out.tab    508549   151 612603\n",
       "20 B_4_S2_L004_R1_short_introns_ReadsPerGene.out.tab    498548   172 599896\n",
       "21 B_40_S42_L001_R1_short_introns_ReadsPerGene.out.tab 1824904  1232 130184\n",
       "22 B_40_S42_L002_R1_short_introns_ReadsPerGene.out.tab 1795656  1250 128521\n",
       "23 B_40_S42_L003_R1_short_introns_ReadsPerGene.out.tab 1826892  1386 130261\n",
       "24 B_40_S42_L004_R1_short_introns_ReadsPerGene.out.tab 1797172  1349 128961\n",
       "   nnofeat nunmap  depth   prop.gene prop.nofeat prop.unique\n",
       "1   476341    9159 3013575 0.6827117 0.15806509  0.8407768  \n",
       "2   469769    8626 2969414 0.6827610 0.15820259  0.8409636  \n",
       "3   479098    9416 3024029 0.6831651 0.15843036  0.8415954  \n",
       "4   475947    9032 2990234 0.6826747 0.15916714  0.8418418  \n",
       "5   205465   12335 3051495 0.6044824 0.06733257  0.6718150  \n",
       "6   203273   11855 3008271 0.6042837 0.06757137  0.6718550  \n",
       "7   206116   12603 3058171 0.6057745 0.06739845  0.6731730  \n",
       "8   206384   12128 3026830 0.6055560 0.06818487  0.6737408  \n",
       "9   858777  135943 2777826 0.5569334 0.30915435  0.8660877  \n",
       "10  851671  134465 2745047 0.5556531 0.31025735  0.8659105  \n",
       "11  861996  136793 2787481 0.5567955 0.30923834  0.8660339  \n",
       "12  856313  135500 2755696 0.5552946 0.31074291  0.8660375  \n",
       "13 1040336   20735 2900454 0.5782698 0.35868040  0.9369502  \n",
       "14 1031678   20100 2866538 0.5771101 0.35990383  0.9370139  \n",
       "15 1044240   21011 2906895 0.5776965 0.35922866  0.9369251  \n",
       "16 1040103   20597 2883192 0.5763029 0.36074705  0.9370500  \n",
       "17  962478 1017930 3096747 0.1632177 0.31080292  0.4740206  \n",
       "18  947034  998404 3041813 0.1626638 0.31133867  0.4740025  \n",
       "19  967261 1023777 3112341 0.1633976 0.31078246  0.4741800  \n",
       "20  952797 1006517 3057930 0.1630345 0.31158234  0.4746168  \n",
       "21  802513   36532 2795365 0.6528321 0.28708702  0.9399191  \n",
       "22  795515   35255 2756197 0.6514977 0.28862777  0.9401255  \n",
       "23  803866   36591 2798996 0.6526955 0.28719798  0.9398934  \n",
       "24  797623   36122 2761227 0.6508599 0.28886542  0.9397253  "
      ]
     },
     "metadata": {},
     "output_type": "display_data"
    }
   ],
   "source": [
    "### Merge in the 4 misc counts and add summaries\n",
    "mapresults <- ngene %>%\n",
    "    full_join(nmisc, by = \"expid\") %>%\n",
    "    mutate(depth       = as.integer(ngenemap + namb + nmulti + nnofeat + nunmap)) %>%\n",
    "    mutate(prop.gene   = ngenemap / depth) %>%\n",
    "    mutate(prop.nofeat = nnofeat / depth) %>%\n",
    "    mutate(prop.unique = (ngenemap + nnofeat) / depth)\n",
    "\n",
    "mapresults"
   ]
  },
  {
   "cell_type": "markdown",
   "metadata": {},
   "source": [
    "# Summarize lanes for each sample"
   ]
  },
  {
   "cell_type": "markdown",
   "metadata": {},
   "source": [
    "## 01 Combine the summary results with the metadata from all lanes"
   ]
  },
  {
   "cell_type": "markdown",
   "metadata": {},
   "source": [
    "Recall the information we have from metadata"
   ]
  },
  {
   "cell_type": "code",
   "execution_count": 16,
   "metadata": {},
   "outputs": [
    {
     "data": {
      "text/html": [
       "<table>\n",
       "<thead><tr><th scope=col>Label</th><th scope=col>rna_sample_num</th><th scope=col>Media</th><th scope=col>Strain</th><th scope=col>replicate</th><th scope=col>experiment_person</th><th scope=col>group</th><th scope=col>rin</th><th scope=col>concentration_fold_difference</th><th scope=col>i7 primer</th><th scope=col>i5 primer</th><th scope=col>i7 index</th><th scope=col>i5 index</th><th scope=col>ng/ul</th></tr></thead>\n",
       "<tbody>\n",
       "\t<tr><td>A_1     </td><td> 1      </td><td>YPD     </td><td>H99     </td><td>1       </td><td>expA    </td><td>A       </td><td>10.0    </td><td>3.640919</td><td>i707    </td><td>i501    </td><td>CTGAAGCT</td><td>AGGCTATA</td><td> 620    </td></tr>\n",
       "\t<tr><td>A_2     </td><td> 2      </td><td>YPD     </td><td>H99     </td><td>2       </td><td>expA    </td><td>A       </td><td>10.0    </td><td>1.342821</td><td>i708    </td><td>i501    </td><td>TAATGCGC</td><td>AGGCTATA</td><td>2120    </td></tr>\n",
       "\t<tr><td>A_3     </td><td> 3      </td><td>YPD     </td><td>H99     </td><td>3       </td><td>expA    </td><td>A       </td><td>10.0    </td><td>1.983167</td><td>i709    </td><td>i501    </td><td>CGGCTATG</td><td>AGGCTATA</td><td>1500    </td></tr>\n",
       "\t<tr><td>A_13    </td><td>13      </td><td>TC      </td><td>H99     </td><td>1       </td><td>expA    </td><td>A       </td><td>10.0    </td><td>1.953762</td><td>i710    </td><td>i501    </td><td>TCCGCGAA</td><td>AGGCTATA</td><td>1430    </td></tr>\n",
       "\t<tr><td>A_14    </td><td>14      </td><td>TC      </td><td>H99     </td><td>2       </td><td>expA    </td><td>A       </td><td>10.0    </td><td>1.569444</td><td>i711    </td><td>i501    </td><td>TCTCGCGC</td><td>AGGCTATA</td><td>1710    </td></tr>\n",
       "\t<tr><td>A_15    </td><td>15      </td><td>TC      </td><td>H99     </td><td>3       </td><td>expA    </td><td>A       </td><td> 9.9    </td><td>2.847186</td><td>i712    </td><td>i501    </td><td>AGCGATAG</td><td>AGGCTATA</td><td> 970    </td></tr>\n",
       "</tbody>\n",
       "</table>\n"
      ],
      "text/latex": [
       "\\begin{tabular}{r|llllllllllllll}\n",
       " Label & rna\\_sample\\_num & Media & Strain & replicate & experiment\\_person & group & rin & concentration\\_fold\\_difference & i7 primer & i5 primer & i7 index & i5 index & ng/ul\\\\\n",
       "\\hline\n",
       "\t A\\_1    &  1       & YPD      & H99      & 1        & expA     & A        & 10.0     & 3.640919 & i707     & i501     & CTGAAGCT & AGGCTATA &  620    \\\\\n",
       "\t A\\_2    &  2       & YPD      & H99      & 2        & expA     & A        & 10.0     & 1.342821 & i708     & i501     & TAATGCGC & AGGCTATA & 2120    \\\\\n",
       "\t A\\_3    &  3       & YPD      & H99      & 3        & expA     & A        & 10.0     & 1.983167 & i709     & i501     & CGGCTATG & AGGCTATA & 1500    \\\\\n",
       "\t A\\_13   & 13       & TC       & H99      & 1        & expA     & A        & 10.0     & 1.953762 & i710     & i501     & TCCGCGAA & AGGCTATA & 1430    \\\\\n",
       "\t A\\_14   & 14       & TC       & H99      & 2        & expA     & A        & 10.0     & 1.569444 & i711     & i501     & TCTCGCGC & AGGCTATA & 1710    \\\\\n",
       "\t A\\_15   & 15       & TC       & H99      & 3        & expA     & A        &  9.9     & 2.847186 & i712     & i501     & AGCGATAG & AGGCTATA &  970    \\\\\n",
       "\\end{tabular}\n"
      ],
      "text/markdown": [
       "\n",
       "Label | rna_sample_num | Media | Strain | replicate | experiment_person | group | rin | concentration_fold_difference | i7 primer | i5 primer | i7 index | i5 index | ng/ul | \n",
       "|---|---|---|---|---|---|\n",
       "| A_1      |  1       | YPD      | H99      | 1        | expA     | A        | 10.0     | 3.640919 | i707     | i501     | CTGAAGCT | AGGCTATA |  620     | \n",
       "| A_2      |  2       | YPD      | H99      | 2        | expA     | A        | 10.0     | 1.342821 | i708     | i501     | TAATGCGC | AGGCTATA | 2120     | \n",
       "| A_3      |  3       | YPD      | H99      | 3        | expA     | A        | 10.0     | 1.983167 | i709     | i501     | CGGCTATG | AGGCTATA | 1500     | \n",
       "| A_13     | 13       | TC       | H99      | 1        | expA     | A        | 10.0     | 1.953762 | i710     | i501     | TCCGCGAA | AGGCTATA | 1430     | \n",
       "| A_14     | 14       | TC       | H99      | 2        | expA     | A        | 10.0     | 1.569444 | i711     | i501     | TCTCGCGC | AGGCTATA | 1710     | \n",
       "| A_15     | 15       | TC       | H99      | 3        | expA     | A        |  9.9     | 2.847186 | i712     | i501     | AGCGATAG | AGGCTATA |  970     | \n",
       "\n",
       "\n"
      ],
      "text/plain": [
       "  Label rna_sample_num Media Strain replicate experiment_person group rin \n",
       "1 A_1    1             YPD   H99    1         expA              A     10.0\n",
       "2 A_2    2             YPD   H99    2         expA              A     10.0\n",
       "3 A_3    3             YPD   H99    3         expA              A     10.0\n",
       "4 A_13  13             TC    H99    1         expA              A     10.0\n",
       "5 A_14  14             TC    H99    2         expA              A     10.0\n",
       "6 A_15  15             TC    H99    3         expA              A      9.9\n",
       "  concentration_fold_difference i7 primer i5 primer i7 index i5 index ng/ul\n",
       "1 3.640919                      i707      i501      CTGAAGCT AGGCTATA  620 \n",
       "2 1.342821                      i708      i501      TAATGCGC AGGCTATA 2120 \n",
       "3 1.983167                      i709      i501      CGGCTATG AGGCTATA 1500 \n",
       "4 1.953762                      i710      i501      TCCGCGAA AGGCTATA 1430 \n",
       "5 1.569444                      i711      i501      TCTCGCGC AGGCTATA 1710 \n",
       "6 2.847186                      i712      i501      AGCGATAG AGGCTATA  970 "
      ]
     },
     "metadata": {},
     "output_type": "display_data"
    }
   ],
   "source": [
    "head(mtdf)"
   ]
  },
  {
   "cell_type": "markdown",
   "metadata": {},
   "source": [
    "Check the label of samples"
   ]
  },
  {
   "cell_type": "code",
   "execution_count": 17,
   "metadata": {},
   "outputs": [
    {
     "data": {
      "text/html": [
       "<ol class=list-inline>\n",
       "\t<li>'B_16_S26'</li>\n",
       "\t<li>'B_26_S10'</li>\n",
       "\t<li>'B_27_S18'</li>\n",
       "\t<li>'B_38_S34'</li>\n",
       "\t<li>'B_4_S2'</li>\n",
       "\t<li>'B_40_S42'</li>\n",
       "</ol>\n"
      ],
      "text/latex": [
       "\\begin{enumerate*}\n",
       "\\item 'B\\_16\\_S26'\n",
       "\\item 'B\\_26\\_S10'\n",
       "\\item 'B\\_27\\_S18'\n",
       "\\item 'B\\_38\\_S34'\n",
       "\\item 'B\\_4\\_S2'\n",
       "\\item 'B\\_40\\_S42'\n",
       "\\end{enumerate*}\n"
      ],
      "text/markdown": [
       "1. 'B_16_S26'\n",
       "2. 'B_26_S10'\n",
       "3. 'B_27_S18'\n",
       "4. 'B_38_S34'\n",
       "5. 'B_4_S2'\n",
       "6. 'B_40_S42'\n",
       "\n",
       "\n"
      ],
      "text/plain": [
       "[1] \"B_16_S26\" \"B_26_S10\" \"B_27_S18\" \"B_38_S34\" \"B_4_S2\"   \"B_40_S42\""
      ]
     },
     "metadata": {},
     "output_type": "display_data"
    }
   ],
   "source": [
    "mapresults$expid %>% str_extract(., \"^B_\\\\d*_\\\\w\\\\d*\") %>% unique %>% sort"
   ]
  },
  {
   "cell_type": "code",
   "execution_count": 18,
   "metadata": {},
   "outputs": [
    {
     "data": {
      "text/html": [
       "<ol class=list-inline>\n",
       "\t<li>'B_16'</li>\n",
       "\t<li>'B_26'</li>\n",
       "\t<li>'B_27'</li>\n",
       "\t<li>'B_38'</li>\n",
       "\t<li>'B_4'</li>\n",
       "\t<li>'B_40'</li>\n",
       "</ol>\n"
      ],
      "text/latex": [
       "\\begin{enumerate*}\n",
       "\\item 'B\\_16'\n",
       "\\item 'B\\_26'\n",
       "\\item 'B\\_27'\n",
       "\\item 'B\\_38'\n",
       "\\item 'B\\_4'\n",
       "\\item 'B\\_40'\n",
       "\\end{enumerate*}\n"
      ],
      "text/markdown": [
       "1. 'B_16'\n",
       "2. 'B_26'\n",
       "3. 'B_27'\n",
       "4. 'B_38'\n",
       "5. 'B_4'\n",
       "6. 'B_40'\n",
       "\n",
       "\n"
      ],
      "text/plain": [
       "[1] \"B_16\" \"B_26\" \"B_27\" \"B_38\" \"B_4\"  \"B_40\""
      ]
     },
     "metadata": {},
     "output_type": "display_data"
    }
   ],
   "source": [
    "mtdf$Label %>% str_extract(., \"^B_\\\\d*\") %>% na.omit %>% sort"
   ]
  },
  {
   "cell_type": "markdown",
   "metadata": {},
   "source": [
    "Store the regular expresssion pattern"
   ]
  },
  {
   "cell_type": "code",
   "execution_count": 19,
   "metadata": {},
   "outputs": [],
   "source": [
    "myregex <- \"^B_\\\\d*\""
   ]
  },
  {
   "cell_type": "markdown",
   "metadata": {},
   "source": [
    "Add \"Label\" to map results and join with metadata"
   ]
  },
  {
   "cell_type": "code",
   "execution_count": 20,
   "metadata": {},
   "outputs": [
    {
     "data": {
      "text/html": [
       "<table>\n",
       "<thead><tr><th scope=col>expid</th><th scope=col>ngenemap</th><th scope=col>namb</th><th scope=col>nmulti</th><th scope=col>nnofeat</th><th scope=col>nunmap</th><th scope=col>depth</th><th scope=col>prop.gene</th><th scope=col>prop.nofeat</th><th scope=col>prop.unique</th><th scope=col>⋯</th><th scope=col>replicate</th><th scope=col>experiment_person</th><th scope=col>group</th><th scope=col>rin</th><th scope=col>concentration_fold_difference</th><th scope=col>i7 primer</th><th scope=col>i5 primer</th><th scope=col>i7 index</th><th scope=col>i5 index</th><th scope=col>ng/ul</th></tr></thead>\n",
       "<tbody>\n",
       "\t<tr><td>B_16_S26_L001_R1_short_introns_ReadsPerGene.out.tab</td><td>2057403                                            </td><td>423                                                </td><td>470249                                             </td><td>476341                                             </td><td> 9159                                              </td><td>3013575                                            </td><td>0.6827117                                          </td><td>0.15806509                                         </td><td>0.8407768                                          </td><td>⋯                                                  </td><td>4                                                  </td><td>expA                                               </td><td>B                                                  </td><td>10                                                 </td><td>3.009533                                           </td><td>i710                                               </td><td>i502                                               </td><td>TCCGCGAA                                           </td><td>GCCTCTAT                                           </td><td> 920                                               </td></tr>\n",
       "\t<tr><td>B_16_S26_L002_R1_short_introns_ReadsPerGene.out.tab</td><td>2027400                                            </td><td>427                                                </td><td>463192                                             </td><td>469769                                             </td><td> 8626                                              </td><td>2969414                                            </td><td>0.6827610                                          </td><td>0.15820259                                         </td><td>0.8409636                                          </td><td>⋯                                                  </td><td>4                                                  </td><td>expA                                               </td><td>B                                                  </td><td>10                                                 </td><td>3.009533                                           </td><td>i710                                               </td><td>i502                                               </td><td>TCCGCGAA                                           </td><td>GCCTCTAT                                           </td><td> 920                                               </td></tr>\n",
       "\t<tr><td>B_16_S26_L003_R1_short_introns_ReadsPerGene.out.tab</td><td>2065911                                            </td><td>411                                                </td><td>469193                                             </td><td>479098                                             </td><td> 9416                                              </td><td>3024029                                            </td><td>0.6831651                                          </td><td>0.15843036                                         </td><td>0.8415954                                          </td><td>⋯                                                  </td><td>4                                                  </td><td>expA                                               </td><td>B                                                  </td><td>10                                                 </td><td>3.009533                                           </td><td>i710                                               </td><td>i502                                               </td><td>TCCGCGAA                                           </td><td>GCCTCTAT                                           </td><td> 920                                               </td></tr>\n",
       "\t<tr><td>B_16_S26_L004_R1_short_introns_ReadsPerGene.out.tab</td><td>2041357                                            </td><td>449                                                </td><td>463449                                             </td><td>475947                                             </td><td> 9032                                              </td><td>2990234                                            </td><td>0.6826747                                          </td><td>0.15916714                                         </td><td>0.8418418                                          </td><td>⋯                                                  </td><td>4                                                  </td><td>expA                                               </td><td>B                                                  </td><td>10                                                 </td><td>3.009533                                           </td><td>i710                                               </td><td>i502                                               </td><td>TCCGCGAA                                           </td><td>GCCTCTAT                                           </td><td> 920                                               </td></tr>\n",
       "\t<tr><td>B_26_S10_L001_R1_short_introns_ReadsPerGene.out.tab</td><td>1844575                                            </td><td>223                                                </td><td>988897                                             </td><td>205465                                             </td><td>12335                                              </td><td>3051495                                            </td><td>0.6044824                                          </td><td>0.06733257                                         </td><td>0.6718150                                          </td><td>⋯                                                  </td><td>8                                                  </td><td>expB                                               </td><td>B                                                  </td><td>10                                                 </td><td>2.758416                                           </td><td>i708                                               </td><td>i502                                               </td><td>TAATGCGC                                           </td><td>GCCTCTAT                                           </td><td>1010                                               </td></tr>\n",
       "\t<tr><td>B_26_S10_L002_R1_short_introns_ReadsPerGene.out.tab</td><td>1817849                                            </td><td>191                                                </td><td>975103                                             </td><td>203273                                             </td><td>11855                                              </td><td>3008271                                            </td><td>0.6042837                                          </td><td>0.06757137                                         </td><td>0.6718550                                          </td><td>⋯                                                  </td><td>8                                                  </td><td>expB                                               </td><td>B                                                  </td><td>10                                                 </td><td>2.758416                                           </td><td>i708                                               </td><td>i502                                               </td><td>TAATGCGC                                           </td><td>GCCTCTAT                                           </td><td>1010                                               </td></tr>\n",
       "</tbody>\n",
       "</table>\n"
      ],
      "text/latex": [
       "\\begin{tabular}{r|llllllllllllllllllllllll}\n",
       " expid & ngenemap & namb & nmulti & nnofeat & nunmap & depth & prop.gene & prop.nofeat & prop.unique & ⋯ & replicate & experiment\\_person & group & rin & concentration\\_fold\\_difference & i7 primer & i5 primer & i7 index & i5 index & ng/ul\\\\\n",
       "\\hline\n",
       "\t B\\_16\\_S26\\_L001\\_R1\\_short\\_introns\\_ReadsPerGene.out.tab & 2057403                                                           & 423                                                               & 470249                                                            & 476341                                                            &  9159                                                             & 3013575                                                           & 0.6827117                                                         & 0.15806509                                                        & 0.8407768                                                         & ⋯                                                                 & 4                                                                 & expA                                                              & B                                                                 & 10                                                                & 3.009533                                                          & i710                                                              & i502                                                              & TCCGCGAA                                                          & GCCTCTAT                                                          &  920                                                             \\\\\n",
       "\t B\\_16\\_S26\\_L002\\_R1\\_short\\_introns\\_ReadsPerGene.out.tab & 2027400                                                           & 427                                                               & 463192                                                            & 469769                                                            &  8626                                                             & 2969414                                                           & 0.6827610                                                         & 0.15820259                                                        & 0.8409636                                                         & ⋯                                                                 & 4                                                                 & expA                                                              & B                                                                 & 10                                                                & 3.009533                                                          & i710                                                              & i502                                                              & TCCGCGAA                                                          & GCCTCTAT                                                          &  920                                                             \\\\\n",
       "\t B\\_16\\_S26\\_L003\\_R1\\_short\\_introns\\_ReadsPerGene.out.tab & 2065911                                                           & 411                                                               & 469193                                                            & 479098                                                            &  9416                                                             & 3024029                                                           & 0.6831651                                                         & 0.15843036                                                        & 0.8415954                                                         & ⋯                                                                 & 4                                                                 & expA                                                              & B                                                                 & 10                                                                & 3.009533                                                          & i710                                                              & i502                                                              & TCCGCGAA                                                          & GCCTCTAT                                                          &  920                                                             \\\\\n",
       "\t B\\_16\\_S26\\_L004\\_R1\\_short\\_introns\\_ReadsPerGene.out.tab & 2041357                                                           & 449                                                               & 463449                                                            & 475947                                                            &  9032                                                             & 2990234                                                           & 0.6826747                                                         & 0.15916714                                                        & 0.8418418                                                         & ⋯                                                                 & 4                                                                 & expA                                                              & B                                                                 & 10                                                                & 3.009533                                                          & i710                                                              & i502                                                              & TCCGCGAA                                                          & GCCTCTAT                                                          &  920                                                             \\\\\n",
       "\t B\\_26\\_S10\\_L001\\_R1\\_short\\_introns\\_ReadsPerGene.out.tab & 1844575                                                           & 223                                                               & 988897                                                            & 205465                                                            & 12335                                                             & 3051495                                                           & 0.6044824                                                         & 0.06733257                                                        & 0.6718150                                                         & ⋯                                                                 & 8                                                                 & expB                                                              & B                                                                 & 10                                                                & 2.758416                                                          & i708                                                              & i502                                                              & TAATGCGC                                                          & GCCTCTAT                                                          & 1010                                                             \\\\\n",
       "\t B\\_26\\_S10\\_L002\\_R1\\_short\\_introns\\_ReadsPerGene.out.tab & 1817849                                                           & 191                                                               & 975103                                                            & 203273                                                            & 11855                                                             & 3008271                                                           & 0.6042837                                                         & 0.06757137                                                        & 0.6718550                                                         & ⋯                                                                 & 8                                                                 & expB                                                              & B                                                                 & 10                                                                & 2.758416                                                          & i708                                                              & i502                                                              & TAATGCGC                                                          & GCCTCTAT                                                          & 1010                                                             \\\\\n",
       "\\end{tabular}\n"
      ],
      "text/markdown": [
       "\n",
       "expid | ngenemap | namb | nmulti | nnofeat | nunmap | depth | prop.gene | prop.nofeat | prop.unique | ⋯ | replicate | experiment_person | group | rin | concentration_fold_difference | i7 primer | i5 primer | i7 index | i5 index | ng/ul | \n",
       "|---|---|---|---|---|---|\n",
       "| B_16_S26_L001_R1_short_introns_ReadsPerGene.out.tab | 2057403                                             | 423                                                 | 470249                                              | 476341                                              |  9159                                               | 3013575                                             | 0.6827117                                           | 0.15806509                                          | 0.8407768                                           | ⋯                                                   | 4                                                   | expA                                                | B                                                   | 10                                                  | 3.009533                                            | i710                                                | i502                                                | TCCGCGAA                                            | GCCTCTAT                                            |  920                                                | \n",
       "| B_16_S26_L002_R1_short_introns_ReadsPerGene.out.tab | 2027400                                             | 427                                                 | 463192                                              | 469769                                              |  8626                                               | 2969414                                             | 0.6827610                                           | 0.15820259                                          | 0.8409636                                           | ⋯                                                   | 4                                                   | expA                                                | B                                                   | 10                                                  | 3.009533                                            | i710                                                | i502                                                | TCCGCGAA                                            | GCCTCTAT                                            |  920                                                | \n",
       "| B_16_S26_L003_R1_short_introns_ReadsPerGene.out.tab | 2065911                                             | 411                                                 | 469193                                              | 479098                                              |  9416                                               | 3024029                                             | 0.6831651                                           | 0.15843036                                          | 0.8415954                                           | ⋯                                                   | 4                                                   | expA                                                | B                                                   | 10                                                  | 3.009533                                            | i710                                                | i502                                                | TCCGCGAA                                            | GCCTCTAT                                            |  920                                                | \n",
       "| B_16_S26_L004_R1_short_introns_ReadsPerGene.out.tab | 2041357                                             | 449                                                 | 463449                                              | 475947                                              |  9032                                               | 2990234                                             | 0.6826747                                           | 0.15916714                                          | 0.8418418                                           | ⋯                                                   | 4                                                   | expA                                                | B                                                   | 10                                                  | 3.009533                                            | i710                                                | i502                                                | TCCGCGAA                                            | GCCTCTAT                                            |  920                                                | \n",
       "| B_26_S10_L001_R1_short_introns_ReadsPerGene.out.tab | 1844575                                             | 223                                                 | 988897                                              | 205465                                              | 12335                                               | 3051495                                             | 0.6044824                                           | 0.06733257                                          | 0.6718150                                           | ⋯                                                   | 8                                                   | expB                                                | B                                                   | 10                                                  | 2.758416                                            | i708                                                | i502                                                | TAATGCGC                                            | GCCTCTAT                                            | 1010                                                | \n",
       "| B_26_S10_L002_R1_short_introns_ReadsPerGene.out.tab | 1817849                                             | 191                                                 | 975103                                              | 203273                                              | 11855                                               | 3008271                                             | 0.6042837                                           | 0.06757137                                          | 0.6718550                                           | ⋯                                                   | 8                                                   | expB                                                | B                                                   | 10                                                  | 2.758416                                            | i708                                                | i502                                                | TAATGCGC                                            | GCCTCTAT                                            | 1010                                                | \n",
       "\n",
       "\n"
      ],
      "text/plain": [
       "  expid                                               ngenemap namb nmulti\n",
       "1 B_16_S26_L001_R1_short_introns_ReadsPerGene.out.tab 2057403  423  470249\n",
       "2 B_16_S26_L002_R1_short_introns_ReadsPerGene.out.tab 2027400  427  463192\n",
       "3 B_16_S26_L003_R1_short_introns_ReadsPerGene.out.tab 2065911  411  469193\n",
       "4 B_16_S26_L004_R1_short_introns_ReadsPerGene.out.tab 2041357  449  463449\n",
       "5 B_26_S10_L001_R1_short_introns_ReadsPerGene.out.tab 1844575  223  988897\n",
       "6 B_26_S10_L002_R1_short_introns_ReadsPerGene.out.tab 1817849  191  975103\n",
       "  nnofeat nunmap depth   prop.gene prop.nofeat prop.unique ⋯ replicate\n",
       "1 476341   9159  3013575 0.6827117 0.15806509  0.8407768   ⋯ 4        \n",
       "2 469769   8626  2969414 0.6827610 0.15820259  0.8409636   ⋯ 4        \n",
       "3 479098   9416  3024029 0.6831651 0.15843036  0.8415954   ⋯ 4        \n",
       "4 475947   9032  2990234 0.6826747 0.15916714  0.8418418   ⋯ 4        \n",
       "5 205465  12335  3051495 0.6044824 0.06733257  0.6718150   ⋯ 8        \n",
       "6 203273  11855  3008271 0.6042837 0.06757137  0.6718550   ⋯ 8        \n",
       "  experiment_person group rin concentration_fold_difference i7 primer i5 primer\n",
       "1 expA              B     10  3.009533                      i710      i502     \n",
       "2 expA              B     10  3.009533                      i710      i502     \n",
       "3 expA              B     10  3.009533                      i710      i502     \n",
       "4 expA              B     10  3.009533                      i710      i502     \n",
       "5 expB              B     10  2.758416                      i708      i502     \n",
       "6 expB              B     10  2.758416                      i708      i502     \n",
       "  i7 index i5 index ng/ul\n",
       "1 TCCGCGAA GCCTCTAT  920 \n",
       "2 TCCGCGAA GCCTCTAT  920 \n",
       "3 TCCGCGAA GCCTCTAT  920 \n",
       "4 TCCGCGAA GCCTCTAT  920 \n",
       "5 TAATGCGC GCCTCTAT 1010 \n",
       "6 TAATGCGC GCCTCTAT 1010 "
      ]
     },
     "metadata": {},
     "output_type": "display_data"
    }
   ],
   "source": [
    "annomapres <- mapresults %>%\n",
    "    mutate(Label = str_extract(expid, myregex)) %>%\n",
    "    left_join(., mtdf, by = \"Label\")\n",
    "\n",
    "head(annomapres)"
   ]
  },
  {
   "cell_type": "markdown",
   "metadata": {},
   "source": [
    "summarize results from all lanes"
   ]
  },
  {
   "cell_type": "code",
   "execution_count": 21,
   "metadata": {},
   "outputs": [
    {
     "data": {
      "text/html": [
       "<ol class=list-inline>\n",
       "\t<li>'expid'</li>\n",
       "\t<li>'ngenemap'</li>\n",
       "\t<li>'namb'</li>\n",
       "\t<li>'nmulti'</li>\n",
       "\t<li>'nnofeat'</li>\n",
       "\t<li>'nunmap'</li>\n",
       "\t<li>'depth'</li>\n",
       "\t<li>'prop.gene'</li>\n",
       "\t<li>'prop.nofeat'</li>\n",
       "\t<li>'prop.unique'</li>\n",
       "\t<li>'Label'</li>\n",
       "\t<li>'rna_sample_num'</li>\n",
       "\t<li>'Media'</li>\n",
       "\t<li>'Strain'</li>\n",
       "\t<li>'replicate'</li>\n",
       "\t<li>'experiment_person'</li>\n",
       "\t<li>'group'</li>\n",
       "\t<li>'rin'</li>\n",
       "\t<li>'concentration_fold_difference'</li>\n",
       "\t<li>'i7 primer'</li>\n",
       "\t<li>'i5 primer'</li>\n",
       "\t<li>'i7 index'</li>\n",
       "\t<li>'i5 index'</li>\n",
       "\t<li>'ng/ul'</li>\n",
       "</ol>\n"
      ],
      "text/latex": [
       "\\begin{enumerate*}\n",
       "\\item 'expid'\n",
       "\\item 'ngenemap'\n",
       "\\item 'namb'\n",
       "\\item 'nmulti'\n",
       "\\item 'nnofeat'\n",
       "\\item 'nunmap'\n",
       "\\item 'depth'\n",
       "\\item 'prop.gene'\n",
       "\\item 'prop.nofeat'\n",
       "\\item 'prop.unique'\n",
       "\\item 'Label'\n",
       "\\item 'rna\\_sample\\_num'\n",
       "\\item 'Media'\n",
       "\\item 'Strain'\n",
       "\\item 'replicate'\n",
       "\\item 'experiment\\_person'\n",
       "\\item 'group'\n",
       "\\item 'rin'\n",
       "\\item 'concentration\\_fold\\_difference'\n",
       "\\item 'i7 primer'\n",
       "\\item 'i5 primer'\n",
       "\\item 'i7 index'\n",
       "\\item 'i5 index'\n",
       "\\item 'ng/ul'\n",
       "\\end{enumerate*}\n"
      ],
      "text/markdown": [
       "1. 'expid'\n",
       "2. 'ngenemap'\n",
       "3. 'namb'\n",
       "4. 'nmulti'\n",
       "5. 'nnofeat'\n",
       "6. 'nunmap'\n",
       "7. 'depth'\n",
       "8. 'prop.gene'\n",
       "9. 'prop.nofeat'\n",
       "10. 'prop.unique'\n",
       "11. 'Label'\n",
       "12. 'rna_sample_num'\n",
       "13. 'Media'\n",
       "14. 'Strain'\n",
       "15. 'replicate'\n",
       "16. 'experiment_person'\n",
       "17. 'group'\n",
       "18. 'rin'\n",
       "19. 'concentration_fold_difference'\n",
       "20. 'i7 primer'\n",
       "21. 'i5 primer'\n",
       "22. 'i7 index'\n",
       "23. 'i5 index'\n",
       "24. 'ng/ul'\n",
       "\n",
       "\n"
      ],
      "text/plain": [
       " [1] \"expid\"                         \"ngenemap\"                     \n",
       " [3] \"namb\"                          \"nmulti\"                       \n",
       " [5] \"nnofeat\"                       \"nunmap\"                       \n",
       " [7] \"depth\"                         \"prop.gene\"                    \n",
       " [9] \"prop.nofeat\"                   \"prop.unique\"                  \n",
       "[11] \"Label\"                         \"rna_sample_num\"               \n",
       "[13] \"Media\"                         \"Strain\"                       \n",
       "[15] \"replicate\"                     \"experiment_person\"            \n",
       "[17] \"group\"                         \"rin\"                          \n",
       "[19] \"concentration_fold_difference\" \"i7 primer\"                    \n",
       "[21] \"i5 primer\"                     \"i7 index\"                     \n",
       "[23] \"i5 index\"                      \"ng/ul\"                        "
      ]
     },
     "metadata": {},
     "output_type": "display_data"
    }
   ],
   "source": [
    "colnames(annomapres)"
   ]
  },
  {
   "cell_type": "code",
   "execution_count": 22,
   "metadata": {},
   "outputs": [],
   "source": [
    "grpvars <- vars(Label, Strain, Media, experiment_person)\n",
    "sumvars <- vars(prop.gene, prop.nofeat, prop.unique, depth)\n",
    "\n",
    "annomapres0 <- annomapres %>%\n",
    "    group_by_at(grpvars) %>%\n",
    "    summarize_at(sumvars, mean)"
   ]
  },
  {
   "cell_type": "code",
   "execution_count": 24,
   "metadata": {},
   "outputs": [
    {
     "data": {
      "text/html": [
       "<table>\n",
       "<thead><tr><th scope=col>Label</th><th scope=col>Strain</th><th scope=col>Media</th><th scope=col>experiment_person</th><th scope=col>prop.gene</th><th scope=col>prop.nofeat</th><th scope=col>prop.unique</th><th scope=col>depth</th></tr></thead>\n",
       "<tbody>\n",
       "\t<tr><td>B_16      </td><td>H99       </td><td>TC        </td><td>expA      </td><td>0.6828281 </td><td>0.15846630</td><td>0.8412944 </td><td>2999313   </td></tr>\n",
       "\t<tr><td>B_26      </td><td>H99       </td><td>YPD       </td><td>expB      </td><td>0.6050241 </td><td>0.06762182</td><td>0.6726459 </td><td>3036192   </td></tr>\n",
       "\t<tr><td>B_27      </td><td>H99       </td><td>YPD       </td><td>expB      </td><td>0.5561692 </td><td>0.30984824</td><td>0.8660174 </td><td>2766512   </td></tr>\n",
       "\t<tr><td>B_38      </td><td>H99       </td><td>TC        </td><td>expB      </td><td>0.5773448 </td><td>0.35963998</td><td>0.9369848 </td><td>2889270   </td></tr>\n",
       "\t<tr><td>B_4       </td><td>H99       </td><td>YPD       </td><td>expA      </td><td>0.1630784 </td><td>0.31112660</td><td>0.4742050 </td><td>3077208   </td></tr>\n",
       "\t<tr><td>B_40      </td><td>H99       </td><td>TC        </td><td>expB      </td><td>0.6519713 </td><td>0.28794455</td><td>0.9399158 </td><td>2777946   </td></tr>\n",
       "</tbody>\n",
       "</table>\n"
      ],
      "text/latex": [
       "\\begin{tabular}{r|llllllll}\n",
       " Label & Strain & Media & experiment\\_person & prop.gene & prop.nofeat & prop.unique & depth\\\\\n",
       "\\hline\n",
       "\t B\\_16     & H99        & TC         & expA       & 0.6828281  & 0.15846630 & 0.8412944  & 2999313   \\\\\n",
       "\t B\\_26     & H99        & YPD        & expB       & 0.6050241  & 0.06762182 & 0.6726459  & 3036192   \\\\\n",
       "\t B\\_27     & H99        & YPD        & expB       & 0.5561692  & 0.30984824 & 0.8660174  & 2766512   \\\\\n",
       "\t B\\_38     & H99        & TC         & expB       & 0.5773448  & 0.35963998 & 0.9369848  & 2889270   \\\\\n",
       "\t B\\_4      & H99        & YPD        & expA       & 0.1630784  & 0.31112660 & 0.4742050  & 3077208   \\\\\n",
       "\t B\\_40     & H99        & TC         & expB       & 0.6519713  & 0.28794455 & 0.9399158  & 2777946   \\\\\n",
       "\\end{tabular}\n"
      ],
      "text/markdown": [
       "\n",
       "Label | Strain | Media | experiment_person | prop.gene | prop.nofeat | prop.unique | depth | \n",
       "|---|---|---|---|---|---|\n",
       "| B_16       | H99        | TC         | expA       | 0.6828281  | 0.15846630 | 0.8412944  | 2999313    | \n",
       "| B_26       | H99        | YPD        | expB       | 0.6050241  | 0.06762182 | 0.6726459  | 3036192    | \n",
       "| B_27       | H99        | YPD        | expB       | 0.5561692  | 0.30984824 | 0.8660174  | 2766512    | \n",
       "| B_38       | H99        | TC         | expB       | 0.5773448  | 0.35963998 | 0.9369848  | 2889270    | \n",
       "| B_4        | H99        | YPD        | expA       | 0.1630784  | 0.31112660 | 0.4742050  | 3077208    | \n",
       "| B_40       | H99        | TC         | expB       | 0.6519713  | 0.28794455 | 0.9399158  | 2777946    | \n",
       "\n",
       "\n"
      ],
      "text/plain": [
       "  Label Strain Media experiment_person prop.gene prop.nofeat prop.unique\n",
       "1 B_16  H99    TC    expA              0.6828281 0.15846630  0.8412944  \n",
       "2 B_26  H99    YPD   expB              0.6050241 0.06762182  0.6726459  \n",
       "3 B_27  H99    YPD   expB              0.5561692 0.30984824  0.8660174  \n",
       "4 B_38  H99    TC    expB              0.5773448 0.35963998  0.9369848  \n",
       "5 B_4   H99    YPD   expA              0.1630784 0.31112660  0.4742050  \n",
       "6 B_40  H99    TC    expB              0.6519713 0.28794455  0.9399158  \n",
       "  depth  \n",
       "1 2999313\n",
       "2 3036192\n",
       "3 2766512\n",
       "4 2889270\n",
       "5 3077208\n",
       "6 2777946"
      ]
     },
     "metadata": {},
     "output_type": "display_data"
    }
   ],
   "source": [
    "annomapres0"
   ]
  },
  {
   "cell_type": "markdown",
   "metadata": {},
   "source": [
    "## 02 Combine the count for each sample from all lanes"
   ]
  },
  {
   "cell_type": "markdown",
   "metadata": {},
   "source": [
    "Add \"Label\" to genecounts"
   ]
  },
  {
   "cell_type": "code",
   "execution_count": 25,
   "metadata": {},
   "outputs": [],
   "source": [
    "annogenecnts <- genecounts %>% mutate(Label = str_extract(expid, myregex))"
   ]
  },
  {
   "cell_type": "code",
   "execution_count": 26,
   "metadata": {},
   "outputs": [
    {
     "data": {
      "text/html": [
       "<table>\n",
       "<thead><tr><th scope=col>expid</th><th scope=col>CNAG_04548</th><th scope=col>CNAG_07303</th><th scope=col>CNAG_07304</th><th scope=col>Label</th></tr></thead>\n",
       "<tbody>\n",
       "\t<tr><td>B_16_S26_L001_R1_short_introns_ReadsPerGene.out.tab</td><td>0                                                  </td><td>0                                                  </td><td>4                                                  </td><td>B_16                                               </td></tr>\n",
       "\t<tr><td>B_16_S26_L002_R1_short_introns_ReadsPerGene.out.tab</td><td>0                                                  </td><td>0                                                  </td><td>5                                                  </td><td>B_16                                               </td></tr>\n",
       "\t<tr><td>B_16_S26_L003_R1_short_introns_ReadsPerGene.out.tab</td><td>0                                                  </td><td>0                                                  </td><td>6                                                  </td><td>B_16                                               </td></tr>\n",
       "\t<tr><td>B_16_S26_L004_R1_short_introns_ReadsPerGene.out.tab</td><td>0                                                  </td><td>0                                                  </td><td>2                                                  </td><td>B_16                                               </td></tr>\n",
       "\t<tr><td>B_26_S10_L001_R1_short_introns_ReadsPerGene.out.tab</td><td>0                                                  </td><td>0                                                  </td><td>2                                                  </td><td>B_26                                               </td></tr>\n",
       "\t<tr><td>B_26_S10_L002_R1_short_introns_ReadsPerGene.out.tab</td><td>0                                                  </td><td>0                                                  </td><td>0                                                  </td><td>B_26                                               </td></tr>\n",
       "</tbody>\n",
       "</table>\n"
      ],
      "text/latex": [
       "\\begin{tabular}{r|lllll}\n",
       " expid & CNAG\\_04548 & CNAG\\_07303 & CNAG\\_07304 & Label\\\\\n",
       "\\hline\n",
       "\t B\\_16\\_S26\\_L001\\_R1\\_short\\_introns\\_ReadsPerGene.out.tab & 0                                                                 & 0                                                                 & 4                                                                 & B\\_16                                                           \\\\\n",
       "\t B\\_16\\_S26\\_L002\\_R1\\_short\\_introns\\_ReadsPerGene.out.tab & 0                                                                 & 0                                                                 & 5                                                                 & B\\_16                                                           \\\\\n",
       "\t B\\_16\\_S26\\_L003\\_R1\\_short\\_introns\\_ReadsPerGene.out.tab & 0                                                                 & 0                                                                 & 6                                                                 & B\\_16                                                           \\\\\n",
       "\t B\\_16\\_S26\\_L004\\_R1\\_short\\_introns\\_ReadsPerGene.out.tab & 0                                                                 & 0                                                                 & 2                                                                 & B\\_16                                                           \\\\\n",
       "\t B\\_26\\_S10\\_L001\\_R1\\_short\\_introns\\_ReadsPerGene.out.tab & 0                                                                 & 0                                                                 & 2                                                                 & B\\_26                                                           \\\\\n",
       "\t B\\_26\\_S10\\_L002\\_R1\\_short\\_introns\\_ReadsPerGene.out.tab & 0                                                                 & 0                                                                 & 0                                                                 & B\\_26                                                           \\\\\n",
       "\\end{tabular}\n"
      ],
      "text/markdown": [
       "\n",
       "expid | CNAG_04548 | CNAG_07303 | CNAG_07304 | Label | \n",
       "|---|---|---|---|---|---|\n",
       "| B_16_S26_L001_R1_short_introns_ReadsPerGene.out.tab | 0                                                   | 0                                                   | 4                                                   | B_16                                                | \n",
       "| B_16_S26_L002_R1_short_introns_ReadsPerGene.out.tab | 0                                                   | 0                                                   | 5                                                   | B_16                                                | \n",
       "| B_16_S26_L003_R1_short_introns_ReadsPerGene.out.tab | 0                                                   | 0                                                   | 6                                                   | B_16                                                | \n",
       "| B_16_S26_L004_R1_short_introns_ReadsPerGene.out.tab | 0                                                   | 0                                                   | 2                                                   | B_16                                                | \n",
       "| B_26_S10_L001_R1_short_introns_ReadsPerGene.out.tab | 0                                                   | 0                                                   | 2                                                   | B_26                                                | \n",
       "| B_26_S10_L002_R1_short_introns_ReadsPerGene.out.tab | 0                                                   | 0                                                   | 0                                                   | B_26                                                | \n",
       "\n",
       "\n"
      ],
      "text/plain": [
       "  expid                                               CNAG_04548 CNAG_07303\n",
       "1 B_16_S26_L001_R1_short_introns_ReadsPerGene.out.tab 0          0         \n",
       "2 B_16_S26_L002_R1_short_introns_ReadsPerGene.out.tab 0          0         \n",
       "3 B_16_S26_L003_R1_short_introns_ReadsPerGene.out.tab 0          0         \n",
       "4 B_16_S26_L004_R1_short_introns_ReadsPerGene.out.tab 0          0         \n",
       "5 B_26_S10_L001_R1_short_introns_ReadsPerGene.out.tab 0          0         \n",
       "6 B_26_S10_L002_R1_short_introns_ReadsPerGene.out.tab 0          0         \n",
       "  CNAG_07304 Label\n",
       "1 4          B_16 \n",
       "2 5          B_16 \n",
       "3 6          B_16 \n",
       "4 2          B_16 \n",
       "5 2          B_26 \n",
       "6 0          B_26 "
      ]
     },
     "metadata": {},
     "output_type": "display_data"
    }
   ],
   "source": [
    "head(annogenecnts[1:6, c(1:4, ncol(annogenecnts))])"
   ]
  },
  {
   "cell_type": "markdown",
   "metadata": {},
   "source": [
    "convert from statistical format to biological format"
   ]
  },
  {
   "cell_type": "code",
   "execution_count": 27,
   "metadata": {},
   "outputs": [
    {
     "name": "stderr",
     "output_type": "stream",
     "text": [
      "Warning message:\n",
      "“Setting row names on a tibble is deprecated.”"
     ]
    }
   ],
   "source": [
    "### summarize all the lane by sum\n",
    "dat <- annogenecnts %>%\n",
    "    select(-expid) %>%\n",
    "    group_by(Label) %>%\n",
    "    summarize_all(sum)\n",
    "\n",
    "### put the first column to the rownames for transpose\n",
    "dat <- dat %>% column_to_rownames(\"Label\") \n",
    "\n",
    "### transpose\n",
    "dat <- dat %>% t %>% as.data.frame\n",
    "\n",
    "### add the gene name from row name to the first column\n",
    "dat <- dat %>% rownames_to_column(\"gene\")\n",
    "\n",
    "annogenecnts0 <- dat"
   ]
  },
  {
   "cell_type": "code",
   "execution_count": 28,
   "metadata": {},
   "outputs": [
    {
     "data": {
      "text/html": [
       "<table>\n",
       "<thead><tr><th scope=col>gene</th><th scope=col>B_16</th><th scope=col>B_26</th><th scope=col>B_27</th><th scope=col>B_38</th><th scope=col>B_4</th><th scope=col>B_40</th></tr></thead>\n",
       "<tbody>\n",
       "\t<tr><td>CNAG_04548</td><td> 0        </td><td> 0        </td><td> 0        </td><td>  1       </td><td> 0        </td><td>  1       </td></tr>\n",
       "\t<tr><td>CNAG_07303</td><td> 0        </td><td> 0        </td><td> 0        </td><td>  0       </td><td> 0        </td><td>  0       </td></tr>\n",
       "\t<tr><td>CNAG_07304</td><td>17        </td><td> 2        </td><td> 7        </td><td> 15       </td><td> 3        </td><td> 25       </td></tr>\n",
       "\t<tr><td>CNAG_00001</td><td> 0        </td><td> 0        </td><td> 0        </td><td>  0       </td><td> 0        </td><td>  0       </td></tr>\n",
       "\t<tr><td>CNAG_07305</td><td> 1        </td><td> 0        </td><td> 0        </td><td>  1       </td><td> 0        </td><td>  2       </td></tr>\n",
       "\t<tr><td>CNAG_00002</td><td>92        </td><td>11        </td><td>98        </td><td>173       </td><td>27        </td><td>214       </td></tr>\n",
       "</tbody>\n",
       "</table>\n"
      ],
      "text/latex": [
       "\\begin{tabular}{r|lllllll}\n",
       " gene & B\\_16 & B\\_26 & B\\_27 & B\\_38 & B\\_4 & B\\_40\\\\\n",
       "\\hline\n",
       "\t CNAG\\_04548 &  0           &  0           &  0           &   1          &  0           &   1         \\\\\n",
       "\t CNAG\\_07303 &  0           &  0           &  0           &   0          &  0           &   0         \\\\\n",
       "\t CNAG\\_07304 & 17           &  2           &  7           &  15          &  3           &  25         \\\\\n",
       "\t CNAG\\_00001 &  0           &  0           &  0           &   0          &  0           &   0         \\\\\n",
       "\t CNAG\\_07305 &  1           &  0           &  0           &   1          &  0           &   2         \\\\\n",
       "\t CNAG\\_00002 & 92           & 11           & 98           & 173          & 27           & 214         \\\\\n",
       "\\end{tabular}\n"
      ],
      "text/markdown": [
       "\n",
       "gene | B_16 | B_26 | B_27 | B_38 | B_4 | B_40 | \n",
       "|---|---|---|---|---|---|\n",
       "| CNAG_04548 |  0         |  0         |  0         |   1        |  0         |   1        | \n",
       "| CNAG_07303 |  0         |  0         |  0         |   0        |  0         |   0        | \n",
       "| CNAG_07304 | 17         |  2         |  7         |  15        |  3         |  25        | \n",
       "| CNAG_00001 |  0         |  0         |  0         |   0        |  0         |   0        | \n",
       "| CNAG_07305 |  1         |  0         |  0         |   1        |  0         |   2        | \n",
       "| CNAG_00002 | 92         | 11         | 98         | 173        | 27         | 214        | \n",
       "\n",
       "\n"
      ],
      "text/plain": [
       "  gene       B_16 B_26 B_27 B_38 B_4 B_40\n",
       "1 CNAG_04548  0    0    0     1   0    1 \n",
       "2 CNAG_07303  0    0    0     0   0    0 \n",
       "3 CNAG_07304 17    2    7    15   3   25 \n",
       "4 CNAG_00001  0    0    0     0   0    0 \n",
       "5 CNAG_07305  1    0    0     1   0    2 \n",
       "6 CNAG_00002 92   11   98   173  27  214 "
      ]
     },
     "metadata": {},
     "output_type": "display_data"
    }
   ],
   "source": [
    "head(annogenecnts0)"
   ]
  },
  {
   "cell_type": "markdown",
   "metadata": {},
   "source": [
    "# Store the results"
   ]
  },
  {
   "cell_type": "code",
   "execution_count": 29,
   "metadata": {},
   "outputs": [
    {
     "name": "stdout",
     "output_type": "stream",
     "text": [
      "/shared_space/TA_clint/analysis_output/out"
     ]
    }
   ],
   "source": [
    "cat(OUTDIR)"
   ]
  },
  {
   "cell_type": "code",
   "execution_count": 30,
   "metadata": {},
   "outputs": [
    {
     "data": {
      "text/html": [
       "<strong>/shared_space/TA_clint/analysis_output/out/HTS-GroupB-Annotated-STAR-counts.RData:</strong> '1f5046c21ea870ac409bd157d8edbc4c'"
      ],
      "text/latex": [
       "\\textbf{/shared\\textbackslash{}\\_space/TA\\textbackslash{}\\_clint/analysis\\textbackslash{}\\_output/out/HTS-GroupB-Annotated-STAR-counts.RData:} '1f5046c21ea870ac409bd157d8edbc4c'"
      ],
      "text/markdown": [
       "**/shared_space/TA_clint/analysis_output/out/HTS-GroupB-Annotated-STAR-counts.RData:** '1f5046c21ea870ac409bd157d8edbc4c'"
      ],
      "text/plain": [
       "/shared_space/TA_clint/analysis_output/out/HTS-GroupB-Annotated-STAR-counts.RData \n",
       "                                               \"1f5046c21ea870ac409bd157d8edbc4c\" "
      ]
     },
     "metadata": {},
     "output_type": "display_data"
    }
   ],
   "source": [
    "outfile <- file.path(OUTDIR, \"HTS-GroupB-Annotated-STAR-counts.RData\")\n",
    "save(mtdf, annogenecnts0, annomapres0, annogenecnts, annomapres, file = outfile)\n",
    "tools::md5sum(outfile)"
   ]
  },
  {
   "cell_type": "markdown",
   "metadata": {},
   "source": [
    "# Visualizing the summary features for each sample"
   ]
  },
  {
   "cell_type": "code",
   "execution_count": 50,
   "metadata": {},
   "outputs": [],
   "source": [
    "### Figures for mapping results\n",
    "options(repr.plot.width = 9, repr.plot.height = 4)\n",
    "mygeom <-  geom_point(position = position_jitter(w = 0.3, h = 0))\n",
    "mypal <- scale_colour_manual(name=\"\",  values =brewer.pal(3,\"Set1\"))\n",
    "mytheme <-  theme(axis.text.x = element_text(angle = 90, hjust = 1)) + theme_bw()\n",
    "myfacet <- facet_grid(Strain~ Media, drop=TRUE, scales=\"free_x\", space=\"free\")"
   ]
  },
  {
   "cell_type": "code",
   "execution_count": 41,
   "metadata": {},
   "outputs": [
    {
     "data": {
      "text/html": [
       "<table>\n",
       "<thead><tr><th scope=col>Label</th><th scope=col>rna_sample_num</th><th scope=col>Media</th><th scope=col>Strain</th><th scope=col>replicate</th><th scope=col>experiment_person</th><th scope=col>group</th><th scope=col>rin</th><th scope=col>concentration_fold_difference</th><th scope=col>i7 primer</th><th scope=col>i5 primer</th><th scope=col>i7 index</th><th scope=col>i5 index</th><th scope=col>ng/ul</th></tr></thead>\n",
       "<tbody>\n",
       "\t<tr><td>B_4     </td><td> 4      </td><td>YPD     </td><td>H99     </td><td> 4      </td><td>expA    </td><td>B       </td><td>10.0    </td><td>2.047081</td><td>i707    </td><td>i502    </td><td>CTGAAGCT</td><td>GCCTCTAT</td><td>1490    </td></tr>\n",
       "\t<tr><td>B_26    </td><td>26      </td><td>YPD     </td><td>H99     </td><td> 8      </td><td>expB    </td><td>B       </td><td>10.0    </td><td>2.758416</td><td>i708    </td><td>i502    </td><td>TAATGCGC</td><td>GCCTCTAT</td><td>1010    </td></tr>\n",
       "\t<tr><td>B_27    </td><td>27      </td><td>YPD     </td><td>H99     </td><td> 9      </td><td>expB    </td><td>B       </td><td>10.0    </td><td>3.569259</td><td>i709    </td><td>i502    </td><td>CGGCTATG</td><td>GCCTCTAT</td><td> 270    </td></tr>\n",
       "\t<tr><td>B_16    </td><td>16      </td><td>TC      </td><td>H99     </td><td> 4      </td><td>expA    </td><td>B       </td><td>10.0    </td><td>3.009533</td><td>i710    </td><td>i502    </td><td>TCCGCGAA</td><td>GCCTCTAT</td><td> 920    </td></tr>\n",
       "\t<tr><td>B_38    </td><td>38      </td><td>TC      </td><td>H99     </td><td> 8      </td><td>expB    </td><td>B       </td><td> 9.3    </td><td>2.438115</td><td>i711    </td><td>i502    </td><td>TCTCGCGC</td><td>GCCTCTAT</td><td> 244    </td></tr>\n",
       "\t<tr><td>B_40    </td><td>40      </td><td>TC      </td><td>H99     </td><td>10      </td><td>expB    </td><td>B       </td><td> 9.9    </td><td>3.636538</td><td>i712    </td><td>i502    </td><td>AGCGATAG</td><td>GCCTCTAT</td><td> 520    </td></tr>\n",
       "</tbody>\n",
       "</table>\n"
      ],
      "text/latex": [
       "\\begin{tabular}{r|llllllllllllll}\n",
       " Label & rna\\_sample\\_num & Media & Strain & replicate & experiment\\_person & group & rin & concentration\\_fold\\_difference & i7 primer & i5 primer & i7 index & i5 index & ng/ul\\\\\n",
       "\\hline\n",
       "\t B\\_4    &  4       & YPD      & H99      &  4       & expA     & B        & 10.0     & 2.047081 & i707     & i502     & CTGAAGCT & GCCTCTAT & 1490    \\\\\n",
       "\t B\\_26   & 26       & YPD      & H99      &  8       & expB     & B        & 10.0     & 2.758416 & i708     & i502     & TAATGCGC & GCCTCTAT & 1010    \\\\\n",
       "\t B\\_27   & 27       & YPD      & H99      &  9       & expB     & B        & 10.0     & 3.569259 & i709     & i502     & CGGCTATG & GCCTCTAT &  270    \\\\\n",
       "\t B\\_16   & 16       & TC       & H99      &  4       & expA     & B        & 10.0     & 3.009533 & i710     & i502     & TCCGCGAA & GCCTCTAT &  920    \\\\\n",
       "\t B\\_38   & 38       & TC       & H99      &  8       & expB     & B        &  9.3     & 2.438115 & i711     & i502     & TCTCGCGC & GCCTCTAT &  244    \\\\\n",
       "\t B\\_40   & 40       & TC       & H99      & 10       & expB     & B        &  9.9     & 3.636538 & i712     & i502     & AGCGATAG & GCCTCTAT &  520    \\\\\n",
       "\\end{tabular}\n"
      ],
      "text/markdown": [
       "\n",
       "Label | rna_sample_num | Media | Strain | replicate | experiment_person | group | rin | concentration_fold_difference | i7 primer | i5 primer | i7 index | i5 index | ng/ul | \n",
       "|---|---|---|---|---|---|\n",
       "| B_4      |  4       | YPD      | H99      |  4       | expA     | B        | 10.0     | 2.047081 | i707     | i502     | CTGAAGCT | GCCTCTAT | 1490     | \n",
       "| B_26     | 26       | YPD      | H99      |  8       | expB     | B        | 10.0     | 2.758416 | i708     | i502     | TAATGCGC | GCCTCTAT | 1010     | \n",
       "| B_27     | 27       | YPD      | H99      |  9       | expB     | B        | 10.0     | 3.569259 | i709     | i502     | CGGCTATG | GCCTCTAT |  270     | \n",
       "| B_16     | 16       | TC       | H99      |  4       | expA     | B        | 10.0     | 3.009533 | i710     | i502     | TCCGCGAA | GCCTCTAT |  920     | \n",
       "| B_38     | 38       | TC       | H99      |  8       | expB     | B        |  9.3     | 2.438115 | i711     | i502     | TCTCGCGC | GCCTCTAT |  244     | \n",
       "| B_40     | 40       | TC       | H99      | 10       | expB     | B        |  9.9     | 3.636538 | i712     | i502     | AGCGATAG | GCCTCTAT |  520     | \n",
       "\n",
       "\n"
      ],
      "text/plain": [
       "  Label rna_sample_num Media Strain replicate experiment_person group rin \n",
       "1 B_4    4             YPD   H99     4        expA              B     10.0\n",
       "2 B_26  26             YPD   H99     8        expB              B     10.0\n",
       "3 B_27  27             YPD   H99     9        expB              B     10.0\n",
       "4 B_16  16             TC    H99     4        expA              B     10.0\n",
       "5 B_38  38             TC    H99     8        expB              B      9.3\n",
       "6 B_40  40             TC    H99    10        expB              B      9.9\n",
       "  concentration_fold_difference i7 primer i5 primer i7 index i5 index ng/ul\n",
       "1 2.047081                      i707      i502      CTGAAGCT GCCTCTAT 1490 \n",
       "2 2.758416                      i708      i502      TAATGCGC GCCTCTAT 1010 \n",
       "3 3.569259                      i709      i502      CGGCTATG GCCTCTAT  270 \n",
       "4 3.009533                      i710      i502      TCCGCGAA GCCTCTAT  920 \n",
       "5 2.438115                      i711      i502      TCTCGCGC GCCTCTAT  244 \n",
       "6 3.636538                      i712      i502      AGCGATAG GCCTCTAT  520 "
      ]
     },
     "metadata": {},
     "output_type": "display_data"
    }
   ],
   "source": [
    "mtdf[grepl(\"^B\", mtdf$Label),]"
   ]
  },
  {
   "cell_type": "markdown",
   "metadata": {},
   "source": [
    "### Show the fraction of unique mapped reads among all reads (prop.unique)"
   ]
  },
  {
   "cell_type": "code",
   "execution_count": 35,
   "metadata": {},
   "outputs": [
    {
     "data": {
      "image/png": "[encoded data removed]",
      "text/plain": [
       "plot without title"
      ]
     },
     "metadata": {},
     "output_type": "display_data"
    }
   ],
   "source": [
    "p1 <- ggplot(annomapres, \n",
    "             aes(x = factor(Label), \n",
    "                 y = prop.unique, \n",
    "                 shape = Strain, \n",
    "                 color = Media)) +\n",
    "        myfacet + \n",
    "        mygeom + \n",
    "        mytheme + \n",
    "        mypal\n",
    "\n",
    "print(p1)"
   ]
  },
  {
   "cell_type": "markdown",
   "metadata": {},
   "source": [
    "### Show the fraction of reads mapped to genes (prop.gene)"
   ]
  },
  {
   "cell_type": "code",
   "execution_count": 43,
   "metadata": {},
   "outputs": [
    {
     "data": {
      "image/png": "[encoded data removed]",
      "text/plain": [
       "plot without title"
      ]
     },
     "metadata": {},
     "output_type": "display_data"
    }
   ],
   "source": [
    "p2 <- ggplot(annomapres, \n",
    "             aes(x = Label, \n",
    "                 y = prop.gene, \n",
    "                 shape = Strain, \n",
    "                 color = Media)) +\n",
    "        myfacet +\n",
    "        mygeom +\n",
    "        mytheme + \n",
    "        mypal\n",
    "  \n",
    "print(p2)"
   ]
  },
  {
   "cell_type": "markdown",
   "metadata": {},
   "source": [
    "### Show the fraction of reads categorized as \"no feature\" (prop.nofeat)"
   ]
  },
  {
   "cell_type": "code",
   "execution_count": 45,
   "metadata": {},
   "outputs": [
    {
     "data": {
      "image/png": "[encoded data removed]",
      "text/plain": [
       "plot without title"
      ]
     },
     "metadata": {},
     "output_type": "display_data"
    }
   ],
   "source": [
    "p3 <- ggplot(annomapres, \n",
    "             aes(x = Label, \n",
    "                 y = prop.nofeat, \n",
    "                 shape = Strain, \n",
    "                 color = Media))+\n",
    "        myfacet +\n",
    "        mygeom + \n",
    "        mytheme + \n",
    "        mypal\n",
    "\n",
    "print(p3)"
   ]
  },
  {
   "cell_type": "markdown",
   "metadata": {},
   "source": [
    "### Show the number of all the reads in each sample \n",
    "(Note: depth = ngenemap + namb + nmulti + nnofeat + nunmap)"
   ]
  },
  {
   "cell_type": "code",
   "execution_count": 51,
   "metadata": {},
   "outputs": [
    {
     "data": {
      "image/png": "[encoded data removed]",
      "text/plain": [
       "plot without title"
      ]
     },
     "metadata": {},
     "output_type": "display_data"
    }
   ],
   "source": [
    "p4 <- ggplot(annomapres, \n",
    "             aes(x = Label, \n",
    "                 y = depth, \n",
    "                 shape = Strain, \n",
    "                 color = Media))+\n",
    "        myfacet +\n",
    "        mygeom +\n",
    "        mytheme +\n",
    "        mypal\n",
    "\n",
    "print(p4)"
   ]
  },
  {
   "cell_type": "markdown",
   "metadata": {},
   "source": [
    "### Store the plots"
   ]
  },
  {
   "cell_type": "code",
   "execution_count": 47,
   "metadata": {},
   "outputs": [],
   "source": [
    "png(file.path(IMGDIR, \"p1.png\"), height = 480 * 1, width = 480 * 2)\n",
    "plot(p1)\n",
    "graphics.off()\n",
    "\n",
    "png(file.path(IMGDIR, \"p2.png\"), height = 480 * 1, width = 480 * 2)\n",
    "plot(p2)\n",
    "graphics.off()\n",
    "\n",
    "png(file.path(IMGDIR, \"p3.png\"), height = 480 * 1, width = 480 * 2)\n",
    "plot(p3)\n",
    "graphics.off()\n",
    "\n",
    "png(file.path(IMGDIR, \"p4.png\"), height = 480 * 1, width = 480 * 2)\n",
    "plot(p4)\n",
    "graphics.off()"
   ]
  },
  {
   "cell_type": "code",
   "execution_count": 48,
   "metadata": {},
   "outputs": [
    {
     "data": {
      "text/html": [
       "<ol class=list-inline>\n",
       "\t<li>'p1.png'</li>\n",
       "\t<li>'p2.png'</li>\n",
       "\t<li>'p3.png'</li>\n",
       "\t<li>'p4.png'</li>\n",
       "</ol>\n"
      ],
      "text/latex": [
       "\\begin{enumerate*}\n",
       "\\item 'p1.png'\n",
       "\\item 'p2.png'\n",
       "\\item 'p3.png'\n",
       "\\item 'p4.png'\n",
       "\\end{enumerate*}\n"
      ],
      "text/markdown": [
       "1. 'p1.png'\n",
       "2. 'p2.png'\n",
       "3. 'p3.png'\n",
       "4. 'p4.png'\n",
       "\n",
       "\n"
      ],
      "text/plain": [
       "[1] \"p1.png\" \"p2.png\" \"p3.png\" \"p4.png\""
      ]
     },
     "metadata": {},
     "output_type": "display_data"
    }
   ],
   "source": [
    "dir(IMGDIR)"
   ]
  },
  {
   "cell_type": "markdown",
   "metadata": {},
   "source": [
    "# The End"
   ]
  },
  {
   "cell_type": "code",
   "execution_count": 49,
   "metadata": {},
   "outputs": [
    {
     "data": {
      "text/plain": [
       "R version 3.4.1 (2017-06-30)\n",
       "Platform: x86_64-pc-linux-gnu (64-bit)\n",
       "Running under: Debian GNU/Linux 8 (jessie)\n",
       "\n",
       "Matrix products: default\n",
       "BLAS: /opt/conda/lib/R/lib/libRblas.so\n",
       "LAPACK: /opt/conda/lib/R/lib/libRlapack.so\n",
       "\n",
       "locale:\n",
       " [1] LC_CTYPE=en_US.UTF-8       LC_NUMERIC=C              \n",
       " [3] LC_TIME=en_US.UTF-8        LC_COLLATE=en_US.UTF-8    \n",
       " [5] LC_MONETARY=en_US.UTF-8    LC_MESSAGES=en_US.UTF-8   \n",
       " [7] LC_PAPER=en_US.UTF-8       LC_NAME=C                 \n",
       " [9] LC_ADDRESS=C               LC_TELEPHONE=C            \n",
       "[11] LC_MEASUREMENT=en_US.UTF-8 LC_IDENTIFICATION=C       \n",
       "\n",
       "attached base packages:\n",
       " [1] tools     parallel  stats4    stats     graphics  grDevices utils    \n",
       " [8] datasets  methods   base     \n",
       "\n",
       "other attached packages:\n",
       " [1] bindrcpp_0.2               plotly_4.8.0              \n",
       " [3] dendextend_1.8.0           gridExtra_2.3             \n",
       " [5] RColorBrewer_1.1-2         qvalue_2.10.0             \n",
       " [7] limma_3.34.9               DESeq2_1.18.1             \n",
       " [9] SummarizedExperiment_1.8.0 DelayedArray_0.4.1        \n",
       "[11] matrixStats_0.53.1         Biobase_2.38.0            \n",
       "[13] GenomicRanges_1.30.3       GenomeInfoDb_1.14.0       \n",
       "[15] IRanges_2.12.0             S4Vectors_0.16.0          \n",
       "[17] BiocGenerics_0.24.0        haven_1.1.1               \n",
       "[19] stringr_1.3.0              foreach_1.4.4             \n",
       "[21] dplyr_0.7.4                purrr_0.2.4               \n",
       "[23] readr_1.1.1                tidyr_0.8.1               \n",
       "[25] tibble_1.4.2               ggplot2_3.0.0             \n",
       "[27] tidyverse_1.1.1           \n",
       "\n",
       "loaded via a namespace (and not attached):\n",
       "  [1] colorspace_1.3-2        class_7.3-14            modeltools_0.2-22      \n",
       "  [4] mclust_5.4.1            IRdisplay_0.4.4         htmlTable_1.9          \n",
       "  [7] XVector_0.18.0          base64enc_0.1-3         flexmix_2.3-14         \n",
       " [10] bit64_0.9-5             mvtnorm_1.0-8           AnnotationDbi_1.40.0   \n",
       " [13] lubridate_1.7.4         xml2_1.2.0              codetools_0.2-15       \n",
       " [16] splines_3.4.1           mnormt_1.5-5            robustbase_0.92-7      \n",
       " [19] geneplotter_1.56.0      knitr_1.20              IRkernel_0.8.11        \n",
       " [22] Formula_1.2-1           jsonlite_1.5            broom_0.4.4            \n",
       " [25] annotate_1.56.0         kernlab_0.9-25          cluster_2.0.6          \n",
       " [28] compiler_3.4.1          httr_1.3.1              backports_1.1.2        \n",
       " [31] assertthat_0.2.0        Matrix_1.2-14           lazyeval_0.2.1         \n",
       " [34] acepack_1.4.1           htmltools_0.3.6         gtable_0.2.0           \n",
       " [37] glue_1.2.0              GenomeInfoDbData_0.99.0 reshape2_1.4.3         \n",
       " [40] Rcpp_0.12.15            trimcluster_0.1-2.1     cellranger_1.1.0       \n",
       " [43] nlme_3.1-131            fpc_2.1-11.1            iterators_1.0.9        \n",
       " [46] psych_1.8.4             rvest_0.3.2             XML_3.98-1.11          \n",
       " [49] DEoptimR_1.0-8          MASS_7.3-48             zlibbioc_1.24.0        \n",
       " [52] scales_0.5.0            hms_0.3                 memoise_1.1.0          \n",
       " [55] rpart_4.1-13            latticeExtra_0.6-28     stringi_1.1.7          \n",
       " [58] RSQLite_2.0             genefilter_1.60.0       checkmate_1.8.5        \n",
       " [61] BiocParallel_1.12.0     repr_0.15.0             prabclus_2.2-6         \n",
       " [64] rlang_0.2.1             pkgconfig_2.0.1         bitops_1.0-6           \n",
       " [67] evaluate_0.10.1         lattice_0.20-34         bindr_0.1.1            \n",
       " [70] labeling_0.3            htmlwidgets_1.2         tidyselect_0.2.4       \n",
       " [73] bit_1.1-12              plyr_1.8.4              magrittr_1.5           \n",
       " [76] R6_2.2.2                Hmisc_4.0-3             pbdZMQ_0.3-2           \n",
       " [79] DBI_1.0.0               pillar_1.2.2            whisker_0.3-2          \n",
       " [82] foreign_0.8-67          withr_2.1.1             survival_2.40-1        \n",
       " [85] RCurl_1.95-4.8          nnet_7.3-12             modelr_0.1.2           \n",
       " [88] crayon_1.3.4            uuid_0.1-2              viridis_0.5.1          \n",
       " [91] locfit_1.5-9.1          grid_3.4.1              readxl_1.1.0           \n",
       " [94] data.table_1.10.4       blob_1.1.1              forcats_0.3.0          \n",
       " [97] diptest_0.75-7          digest_0.6.15           xtable_1.8-2           \n",
       "[100] munsell_0.5.0           viridisLite_0.3.0      "
      ]
     },
     "metadata": {},
     "output_type": "display_data"
    }
   ],
   "source": [
    "sessionInfo()"
   ]
  }
 ],
 "metadata": {
  "kernelspec": {
   "display_name": "R",
   "language": "R",
   "name": "ir"
  },
  "language_info": {
   "codemirror_mode": "r",
   "file_extension": ".r",
   "mimetype": "text/x-r-source",
   "name": "R",
   "pygments_lexer": "r",
   "version": "3.4.1"
  }
 },
 "nbformat": 4,
 "nbformat_minor": 2
}
