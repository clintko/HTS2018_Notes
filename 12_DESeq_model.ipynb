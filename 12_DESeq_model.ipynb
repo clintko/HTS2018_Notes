{
 "cells": [
  {
   "cell_type": "markdown",
   "metadata": {},
   "source": [
    "# Set environment"
   ]
  },
  {
   "cell_type": "code",
   "execution_count": 11,
   "metadata": {
    "scrolled": true
   },
   "outputs": [],
   "source": [
    "source(\"config_deseq.R\")\n",
    "source(\"util_deseq.R\")"
   ]
  },
  {
   "cell_type": "markdown",
   "metadata": {},
   "source": [
    "# Import data"
   ]
  },
  {
   "cell_type": "code",
   "execution_count": 2,
   "metadata": {},
   "outputs": [],
   "source": [
    "# import RData (annomapres0, annogenecnts0)\n",
    "attach(file.path(OUTDIR, \"HTS-GroupB-Annotated-STAR-counts.RData\"))"
   ]
  },
  {
   "cell_type": "markdown",
   "metadata": {},
   "source": [
    "Prepare columnData DataFrame and countData (matrix object)\n",
    "- columnData --- metadata\n",
    "- countData  --- count matrix"
   ]
  },
  {
   "cell_type": "code",
   "execution_count": 5,
   "metadata": {},
   "outputs": [
    {
     "data": {
      "text/plain": [
       "DataFrame with 3 rows and 3 columns\n",
       "           Label      Strain       Media\n",
       "     <character> <character> <character>\n",
       "B_16        B_16         H99          TC\n",
       "B_26        B_26         H99         YPD\n",
       "B_27        B_27         H99         YPD"
      ]
     },
     "metadata": {},
     "output_type": "display_data"
    }
   ],
   "source": [
    "# columnData --- metadata\n",
    "columnData <- annomapres0 %>% DataFrame\n",
    "rownames(columnData) <- columnData[[\"Label\"]]\n",
    "\n",
    "head(columnData[, c(\"Label\", \"Strain\", \"Media\")], 3)"
   ]
  },
  {
   "cell_type": "code",
   "execution_count": 7,
   "metadata": {},
   "outputs": [
    {
     "data": {
      "text/html": [
       "<table>\n",
       "<thead><tr><th></th><th scope=col>B_16</th><th scope=col>B_26</th><th scope=col>B_27</th><th scope=col>B_38</th><th scope=col>B_4</th><th scope=col>B_40</th></tr></thead>\n",
       "<tbody>\n",
       "\t<tr><th scope=row>CNAG_04548</th><td> 0</td><td>0 </td><td>0 </td><td> 1</td><td>0 </td><td> 1</td></tr>\n",
       "\t<tr><th scope=row>CNAG_07303</th><td> 0</td><td>0 </td><td>0 </td><td> 0</td><td>0 </td><td> 0</td></tr>\n",
       "\t<tr><th scope=row>CNAG_07304</th><td>17</td><td>2 </td><td>7 </td><td>15</td><td>3 </td><td>25</td></tr>\n",
       "</tbody>\n",
       "</table>\n"
      ],
      "text/latex": [
       "\\begin{tabular}{r|llllll}\n",
       "  & B\\_16 & B\\_26 & B\\_27 & B\\_38 & B\\_4 & B\\_40\\\\\n",
       "\\hline\n",
       "\tCNAG\\_04548 &  0 & 0  & 0  &  1 & 0  &  1\\\\\n",
       "\tCNAG\\_07303 &  0 & 0  & 0  &  0 & 0  &  0\\\\\n",
       "\tCNAG\\_07304 & 17 & 2  & 7  & 15 & 3  & 25\\\\\n",
       "\\end{tabular}\n"
      ],
      "text/markdown": [
       "\n",
       "| <!--/--> | B_16 | B_26 | B_27 | B_38 | B_4 | B_40 | \n",
       "|---|---|---|\n",
       "| CNAG_04548 |  0 | 0  | 0  |  1 | 0  |  1 | \n",
       "| CNAG_07303 |  0 | 0  | 0  |  0 | 0  |  0 | \n",
       "| CNAG_07304 | 17 | 2  | 7  | 15 | 3  | 25 | \n",
       "\n",
       "\n"
      ],
      "text/plain": [
       "           B_16 B_26 B_27 B_38 B_4 B_40\n",
       "CNAG_04548  0   0    0     1   0    1  \n",
       "CNAG_07303  0   0    0     0   0    0  \n",
       "CNAG_07304 17   2    7    15   3   25  "
      ]
     },
     "metadata": {},
     "output_type": "display_data"
    }
   ],
   "source": [
    "# countData  --- count matrix\n",
    "annogenecnts0 %>%\n",
    "    dplyr::select(as.character(c(\"gene\", columnData[[\"Label\"]]))) %>%\n",
    "    as.data.frame %>%\n",
    "    column_to_rownames(\"gene\") %>%\n",
    "    as.matrix ->\n",
    "    countData\n",
    "\n",
    "head(countData, 3)"
   ]
  },
  {
   "cell_type": "markdown",
   "metadata": {},
   "source": [
    "Explicitly checking to make sure the column names of count matrix are the same as the rownames of the metadata."
   ]
  },
  {
   "cell_type": "code",
   "execution_count": 8,
   "metadata": {},
   "outputs": [
    {
     "data": {
      "text/html": [
       "TRUE"
      ],
      "text/latex": [
       "TRUE"
      ],
      "text/markdown": [
       "TRUE"
      ],
      "text/plain": [
       "[1] TRUE"
      ]
     },
     "metadata": {},
     "output_type": "display_data"
    }
   ],
   "source": [
    "identical(rownames(columnData), colnames(countData))"
   ]
  },
  {
   "cell_type": "markdown",
   "metadata": {},
   "source": [
    "# Make DESeq object on the basis of the counts\n"
   ]
  },
  {
   "cell_type": "code",
   "execution_count": 14,
   "metadata": {},
   "outputs": [
    {
     "name": "stderr",
     "output_type": "stream",
     "text": [
      "Warning message in DESeqDataSet(se, design = design, ignoreRank):\n",
      "“some variables in design formula are characters, converting to factors”estimating size factors\n",
      "estimating dispersions\n",
      "gene-wise dispersion estimates\n",
      "mean-dispersion relationship\n",
      "final dispersion estimates\n",
      "fitting model and testing\n"
     ]
    }
   ],
   "source": [
    "dds <- DESeqDataSetFromMatrix(\n",
    "    countData,    # Count matrix\n",
    "    columnData,   # metadata\n",
    "    ~ Media)      # design formula\n",
    "dds <- DESeq(dds)"
   ]
  },
  {
   "cell_type": "code",
   "execution_count": 15,
   "metadata": {},
   "outputs": [],
   "source": [
    "res_media <- results(dds, contrast = c(\"Media\", \"YPD\", \"TC\"), tidy = TRUE)"
   ]
  },
  {
   "cell_type": "code",
   "execution_count": 16,
   "metadata": {},
   "outputs": [],
   "source": [
    "rlgexp <- DESeq2::rlog(dds, blind = TRUE)\n",
    "vstexp <- DESeq2::vst(dds, blind=TRUE)\n",
    "vomexp <- limma::voom(counts(dds))"
   ]
  },
  {
   "cell_type": "code",
   "execution_count": 24,
   "metadata": {},
   "outputs": [],
   "source": [
    "gene_exp <- list()\n",
    "gene_exp$cnt_unnorm <- counts(dds, normalize = FALSE)\n",
    "gene_exp$cnt_norm   <- counts(dds, normalize = TRUE)\n",
    "gene_exp$rlg        <- assay(rlgexp)\n",
    "gene_exp$vst        <- assay(vstexp)\n",
    "gene_exp$vom        <- vomexp$E"
   ]
  },
  {
   "cell_type": "code",
   "execution_count": 22,
   "metadata": {},
   "outputs": [
    {
     "data": {
      "text/html": [
       "<table>\n",
       "<thead><tr><th></th><th scope=col>B_16</th><th scope=col>B_26</th><th scope=col>B_27</th><th scope=col>B_38</th><th scope=col>B_4</th><th scope=col>B_40</th></tr></thead>\n",
       "<tbody>\n",
       "\t<tr><th scope=row>CNAG_04548</th><td> 0 </td><td> 0 </td><td> 0 </td><td>  1</td><td> 0 </td><td>  1</td></tr>\n",
       "\t<tr><th scope=row>CNAG_07303</th><td> 0 </td><td> 0 </td><td> 0 </td><td>  0</td><td> 0 </td><td>  0</td></tr>\n",
       "\t<tr><th scope=row>CNAG_07304</th><td>17 </td><td> 2 </td><td> 7 </td><td> 15</td><td> 3 </td><td> 25</td></tr>\n",
       "\t<tr><th scope=row>CNAG_00001</th><td> 0 </td><td> 0 </td><td> 0 </td><td>  0</td><td> 0 </td><td>  0</td></tr>\n",
       "\t<tr><th scope=row>CNAG_07305</th><td> 1 </td><td> 0 </td><td> 0 </td><td>  1</td><td> 0 </td><td>  2</td></tr>\n",
       "\t<tr><th scope=row>CNAG_00002</th><td>92 </td><td>11 </td><td>98 </td><td>173</td><td>27 </td><td>214</td></tr>\n",
       "</tbody>\n",
       "</table>\n"
      ],
      "text/latex": [
       "\\begin{tabular}{r|llllll}\n",
       "  & B\\_16 & B\\_26 & B\\_27 & B\\_38 & B\\_4 & B\\_40\\\\\n",
       "\\hline\n",
       "\tCNAG\\_04548 &  0  &  0  &  0  &   1 &  0  &   1\\\\\n",
       "\tCNAG\\_07303 &  0  &  0  &  0  &   0 &  0  &   0\\\\\n",
       "\tCNAG\\_07304 & 17  &  2  &  7  &  15 &  3  &  25\\\\\n",
       "\tCNAG\\_00001 &  0  &  0  &  0  &   0 &  0  &   0\\\\\n",
       "\tCNAG\\_07305 &  1  &  0  &  0  &   1 &  0  &   2\\\\\n",
       "\tCNAG\\_00002 & 92  & 11  & 98  & 173 & 27  & 214\\\\\n",
       "\\end{tabular}\n"
      ],
      "text/markdown": [
       "\n",
       "| <!--/--> | B_16 | B_26 | B_27 | B_38 | B_4 | B_40 | \n",
       "|---|---|---|---|---|---|\n",
       "| CNAG_04548 |  0  |  0  |  0  |   1 |  0  |   1 | \n",
       "| CNAG_07303 |  0  |  0  |  0  |   0 |  0  |   0 | \n",
       "| CNAG_07304 | 17  |  2  |  7  |  15 |  3  |  25 | \n",
       "| CNAG_00001 |  0  |  0  |  0  |   0 |  0  |   0 | \n",
       "| CNAG_07305 |  1  |  0  |  0  |   1 |  0  |   2 | \n",
       "| CNAG_00002 | 92  | 11  | 98  | 173 | 27  | 214 | \n",
       "\n",
       "\n"
      ],
      "text/plain": [
       "           B_16 B_26 B_27 B_38 B_4 B_40\n",
       "CNAG_04548  0    0    0     1   0    1 \n",
       "CNAG_07303  0    0    0     0   0    0 \n",
       "CNAG_07304 17    2    7    15   3   25 \n",
       "CNAG_00001  0    0    0     0   0    0 \n",
       "CNAG_07305  1    0    0     1   0    2 \n",
       "CNAG_00002 92   11   98   173  27  214 "
      ]
     },
     "metadata": {},
     "output_type": "display_data"
    }
   ],
   "source": [
    "head(counts(dds, normalize = FALSE))"
   ]
  },
  {
   "cell_type": "code",
   "execution_count": 23,
   "metadata": {},
   "outputs": [
    {
     "data": {
      "text/html": [
       "<table>\n",
       "<thead><tr><th></th><th scope=col>B_16</th><th scope=col>B_26</th><th scope=col>B_27</th><th scope=col>B_38</th><th scope=col>B_4</th><th scope=col>B_40</th></tr></thead>\n",
       "<tbody>\n",
       "\t<tr><th scope=row>CNAG_04548</th><td> 0.0000000</td><td> 0.000000 </td><td> 0.000000 </td><td> 0.4728795</td><td> 0.000000 </td><td> 0.4043448</td></tr>\n",
       "\t<tr><th scope=row>CNAG_07303</th><td> 0.0000000</td><td> 0.000000 </td><td> 0.000000 </td><td> 0.0000000</td><td> 0.000000 </td><td> 0.0000000</td></tr>\n",
       "\t<tr><th scope=row>CNAG_07304</th><td>11.6400540</td><td> 9.257546 </td><td> 5.269246 </td><td> 7.0931921</td><td> 6.215348 </td><td>10.1086193</td></tr>\n",
       "\t<tr><th scope=row>CNAG_00001</th><td> 0.0000000</td><td> 0.000000 </td><td> 0.000000 </td><td> 0.0000000</td><td> 0.000000 </td><td> 0.0000000</td></tr>\n",
       "\t<tr><th scope=row>CNAG_07305</th><td> 0.6847091</td><td> 0.000000 </td><td> 0.000000 </td><td> 0.4728795</td><td> 0.000000 </td><td> 0.8086895</td></tr>\n",
       "\t<tr><th scope=row>CNAG_00002</th><td>62.9932335</td><td>50.916503 </td><td>73.769451 </td><td>81.8081489</td><td>55.938134 </td><td>86.5297811</td></tr>\n",
       "</tbody>\n",
       "</table>\n"
      ],
      "text/latex": [
       "\\begin{tabular}{r|llllll}\n",
       "  & B\\_16 & B\\_26 & B\\_27 & B\\_38 & B\\_4 & B\\_40\\\\\n",
       "\\hline\n",
       "\tCNAG\\_04548 &  0.0000000 &  0.000000  &  0.000000  &  0.4728795 &  0.000000  &  0.4043448\\\\\n",
       "\tCNAG\\_07303 &  0.0000000 &  0.000000  &  0.000000  &  0.0000000 &  0.000000  &  0.0000000\\\\\n",
       "\tCNAG\\_07304 & 11.6400540 &  9.257546  &  5.269246  &  7.0931921 &  6.215348  & 10.1086193\\\\\n",
       "\tCNAG\\_00001 &  0.0000000 &  0.000000  &  0.000000  &  0.0000000 &  0.000000  &  0.0000000\\\\\n",
       "\tCNAG\\_07305 &  0.6847091 &  0.000000  &  0.000000  &  0.4728795 &  0.000000  &  0.8086895\\\\\n",
       "\tCNAG\\_00002 & 62.9932335 & 50.916503  & 73.769451  & 81.8081489 & 55.938134  & 86.5297811\\\\\n",
       "\\end{tabular}\n"
      ],
      "text/markdown": [
       "\n",
       "| <!--/--> | B_16 | B_26 | B_27 | B_38 | B_4 | B_40 | \n",
       "|---|---|---|---|---|---|\n",
       "| CNAG_04548 |  0.0000000 |  0.000000  |  0.000000  |  0.4728795 |  0.000000  |  0.4043448 | \n",
       "| CNAG_07303 |  0.0000000 |  0.000000  |  0.000000  |  0.0000000 |  0.000000  |  0.0000000 | \n",
       "| CNAG_07304 | 11.6400540 |  9.257546  |  5.269246  |  7.0931921 |  6.215348  | 10.1086193 | \n",
       "| CNAG_00001 |  0.0000000 |  0.000000  |  0.000000  |  0.0000000 |  0.000000  |  0.0000000 | \n",
       "| CNAG_07305 |  0.6847091 |  0.000000  |  0.000000  |  0.4728795 |  0.000000  |  0.8086895 | \n",
       "| CNAG_00002 | 62.9932335 | 50.916503  | 73.769451  | 81.8081489 | 55.938134  | 86.5297811 | \n",
       "\n",
       "\n"
      ],
      "text/plain": [
       "           B_16       B_26      B_27      B_38       B_4       B_40      \n",
       "CNAG_04548  0.0000000  0.000000  0.000000  0.4728795  0.000000  0.4043448\n",
       "CNAG_07303  0.0000000  0.000000  0.000000  0.0000000  0.000000  0.0000000\n",
       "CNAG_07304 11.6400540  9.257546  5.269246  7.0931921  6.215348 10.1086193\n",
       "CNAG_00001  0.0000000  0.000000  0.000000  0.0000000  0.000000  0.0000000\n",
       "CNAG_07305  0.6847091  0.000000  0.000000  0.4728795  0.000000  0.8086895\n",
       "CNAG_00002 62.9932335 50.916503 73.769451 81.8081489 55.938134 86.5297811"
      ]
     },
     "metadata": {},
     "output_type": "display_data"
    }
   ],
   "source": [
    "head(counts(dds, normalize = TRUE))"
   ]
  },
  {
   "cell_type": "code",
   "execution_count": 17,
   "metadata": {},
   "outputs": [
    {
     "data": {
      "text/html": [
       "<table>\n",
       "<thead><tr><th></th><th scope=col>B_16</th><th scope=col>B_26</th><th scope=col>B_27</th><th scope=col>B_38</th><th scope=col>B_4</th><th scope=col>B_40</th></tr></thead>\n",
       "<tbody>\n",
       "\t<tr><th scope=row>CNAG_04548</th><td>-1.6289503</td><td>-1.5935662</td><td>-1.6271962</td><td>-1.6027501</td><td>-1.608450 </td><td>-1.6066883</td></tr>\n",
       "\t<tr><th scope=row>CNAG_07303</th><td> 0.0000000</td><td> 0.0000000</td><td> 0.0000000</td><td> 0.0000000</td><td> 0.000000 </td><td> 0.0000000</td></tr>\n",
       "\t<tr><th scope=row>CNAG_07304</th><td> 3.1974297</td><td> 3.0605279</td><td> 2.8606279</td><td> 2.9650419</td><td> 2.939717 </td><td> 3.1309772</td></tr>\n",
       "\t<tr><th scope=row>CNAG_00001</th><td> 0.0000000</td><td> 0.0000000</td><td> 0.0000000</td><td> 0.0000000</td><td> 0.000000 </td><td> 0.0000000</td></tr>\n",
       "\t<tr><th scope=row>CNAG_07305</th><td>-0.9381458</td><td>-0.9328742</td><td>-0.9886682</td><td>-0.9538661</td><td>-0.961156 </td><td>-0.9276377</td></tr>\n",
       "\t<tr><th scope=row>CNAG_00002</th><td> 6.0329642</td><td> 5.9112167</td><td> 6.1540185</td><td> 6.2366997</td><td> 5.953809 </td><td> 6.2820662</td></tr>\n",
       "</tbody>\n",
       "</table>\n"
      ],
      "text/latex": [
       "\\begin{tabular}{r|llllll}\n",
       "  & B\\_16 & B\\_26 & B\\_27 & B\\_38 & B\\_4 & B\\_40\\\\\n",
       "\\hline\n",
       "\tCNAG\\_04548 & -1.6289503 & -1.5935662 & -1.6271962 & -1.6027501 & -1.608450  & -1.6066883\\\\\n",
       "\tCNAG\\_07303 &  0.0000000 &  0.0000000 &  0.0000000 &  0.0000000 &  0.000000  &  0.0000000\\\\\n",
       "\tCNAG\\_07304 &  3.1974297 &  3.0605279 &  2.8606279 &  2.9650419 &  2.939717  &  3.1309772\\\\\n",
       "\tCNAG\\_00001 &  0.0000000 &  0.0000000 &  0.0000000 &  0.0000000 &  0.000000  &  0.0000000\\\\\n",
       "\tCNAG\\_07305 & -0.9381458 & -0.9328742 & -0.9886682 & -0.9538661 & -0.961156  & -0.9276377\\\\\n",
       "\tCNAG\\_00002 &  6.0329642 &  5.9112167 &  6.1540185 &  6.2366997 &  5.953809  &  6.2820662\\\\\n",
       "\\end{tabular}\n"
      ],
      "text/markdown": [
       "\n",
       "| <!--/--> | B_16 | B_26 | B_27 | B_38 | B_4 | B_40 | \n",
       "|---|---|---|---|---|---|\n",
       "| CNAG_04548 | -1.6289503 | -1.5935662 | -1.6271962 | -1.6027501 | -1.608450  | -1.6066883 | \n",
       "| CNAG_07303 |  0.0000000 |  0.0000000 |  0.0000000 |  0.0000000 |  0.000000  |  0.0000000 | \n",
       "| CNAG_07304 |  3.1974297 |  3.0605279 |  2.8606279 |  2.9650419 |  2.939717  |  3.1309772 | \n",
       "| CNAG_00001 |  0.0000000 |  0.0000000 |  0.0000000 |  0.0000000 |  0.000000  |  0.0000000 | \n",
       "| CNAG_07305 | -0.9381458 | -0.9328742 | -0.9886682 | -0.9538661 | -0.961156  | -0.9276377 | \n",
       "| CNAG_00002 |  6.0329642 |  5.9112167 |  6.1540185 |  6.2366997 |  5.953809  |  6.2820662 | \n",
       "\n",
       "\n"
      ],
      "text/plain": [
       "           B_16       B_26       B_27       B_38       B_4       B_40      \n",
       "CNAG_04548 -1.6289503 -1.5935662 -1.6271962 -1.6027501 -1.608450 -1.6066883\n",
       "CNAG_07303  0.0000000  0.0000000  0.0000000  0.0000000  0.000000  0.0000000\n",
       "CNAG_07304  3.1974297  3.0605279  2.8606279  2.9650419  2.939717  3.1309772\n",
       "CNAG_00001  0.0000000  0.0000000  0.0000000  0.0000000  0.000000  0.0000000\n",
       "CNAG_07305 -0.9381458 -0.9328742 -0.9886682 -0.9538661 -0.961156 -0.9276377\n",
       "CNAG_00002  6.0329642  5.9112167  6.1540185  6.2366997  5.953809  6.2820662"
      ]
     },
     "metadata": {},
     "output_type": "display_data"
    }
   ],
   "source": [
    "head(assay(rlgexp))"
   ]
  },
  {
   "cell_type": "code",
   "execution_count": 18,
   "metadata": {},
   "outputs": [
    {
     "data": {
      "text/html": [
       "<table>\n",
       "<thead><tr><th></th><th scope=col>B_16</th><th scope=col>B_26</th><th scope=col>B_27</th><th scope=col>B_38</th><th scope=col>B_4</th><th scope=col>B_40</th></tr></thead>\n",
       "<tbody>\n",
       "\t<tr><th scope=row>CNAG_04548</th><td>2.744768</td><td>2.744768</td><td>2.744768</td><td>3.126846</td><td>2.744768</td><td>3.098224</td></tr>\n",
       "\t<tr><th scope=row>CNAG_07303</th><td>2.744768</td><td>2.744768</td><td>2.744768</td><td>2.744768</td><td>2.744768</td><td>2.744768</td></tr>\n",
       "\t<tr><th scope=row>CNAG_07304</th><td>4.529873</td><td>4.355311</td><td>3.985338</td><td>4.170189</td><td>4.085267</td><td>4.420647</td></tr>\n",
       "\t<tr><th scope=row>CNAG_00001</th><td>2.744768</td><td>2.744768</td><td>2.744768</td><td>2.744768</td><td>2.744768</td><td>2.744768</td></tr>\n",
       "\t<tr><th scope=row>CNAG_07305</th><td>3.203931</td><td>2.744768</td><td>2.744768</td><td>3.126846</td><td>2.744768</td><td>3.243396</td></tr>\n",
       "\t<tr><th scope=row>CNAG_00002</th><td>6.244244</td><td>5.991316</td><td>6.437238</td><td>6.565895</td><td>6.102022</td><td>6.636390</td></tr>\n",
       "</tbody>\n",
       "</table>\n"
      ],
      "text/latex": [
       "\\begin{tabular}{r|llllll}\n",
       "  & B\\_16 & B\\_26 & B\\_27 & B\\_38 & B\\_4 & B\\_40\\\\\n",
       "\\hline\n",
       "\tCNAG\\_04548 & 2.744768 & 2.744768 & 2.744768 & 3.126846 & 2.744768 & 3.098224\\\\\n",
       "\tCNAG\\_07303 & 2.744768 & 2.744768 & 2.744768 & 2.744768 & 2.744768 & 2.744768\\\\\n",
       "\tCNAG\\_07304 & 4.529873 & 4.355311 & 3.985338 & 4.170189 & 4.085267 & 4.420647\\\\\n",
       "\tCNAG\\_00001 & 2.744768 & 2.744768 & 2.744768 & 2.744768 & 2.744768 & 2.744768\\\\\n",
       "\tCNAG\\_07305 & 3.203931 & 2.744768 & 2.744768 & 3.126846 & 2.744768 & 3.243396\\\\\n",
       "\tCNAG\\_00002 & 6.244244 & 5.991316 & 6.437238 & 6.565895 & 6.102022 & 6.636390\\\\\n",
       "\\end{tabular}\n"
      ],
      "text/markdown": [
       "\n",
       "| <!--/--> | B_16 | B_26 | B_27 | B_38 | B_4 | B_40 | \n",
       "|---|---|---|---|---|---|\n",
       "| CNAG_04548 | 2.744768 | 2.744768 | 2.744768 | 3.126846 | 2.744768 | 3.098224 | \n",
       "| CNAG_07303 | 2.744768 | 2.744768 | 2.744768 | 2.744768 | 2.744768 | 2.744768 | \n",
       "| CNAG_07304 | 4.529873 | 4.355311 | 3.985338 | 4.170189 | 4.085267 | 4.420647 | \n",
       "| CNAG_00001 | 2.744768 | 2.744768 | 2.744768 | 2.744768 | 2.744768 | 2.744768 | \n",
       "| CNAG_07305 | 3.203931 | 2.744768 | 2.744768 | 3.126846 | 2.744768 | 3.243396 | \n",
       "| CNAG_00002 | 6.244244 | 5.991316 | 6.437238 | 6.565895 | 6.102022 | 6.636390 | \n",
       "\n",
       "\n"
      ],
      "text/plain": [
       "           B_16     B_26     B_27     B_38     B_4      B_40    \n",
       "CNAG_04548 2.744768 2.744768 2.744768 3.126846 2.744768 3.098224\n",
       "CNAG_07303 2.744768 2.744768 2.744768 2.744768 2.744768 2.744768\n",
       "CNAG_07304 4.529873 4.355311 3.985338 4.170189 4.085267 4.420647\n",
       "CNAG_00001 2.744768 2.744768 2.744768 2.744768 2.744768 2.744768\n",
       "CNAG_07305 3.203931 2.744768 2.744768 3.126846 2.744768 3.243396\n",
       "CNAG_00002 6.244244 5.991316 6.437238 6.565895 6.102022 6.636390"
      ]
     },
     "metadata": {},
     "output_type": "display_data"
    }
   ],
   "source": [
    "head(assay(vstexp))"
   ]
  },
  {
   "cell_type": "code",
   "execution_count": 20,
   "metadata": {},
   "outputs": [
    {
     "data": {
      "text/html": [
       "<table>\n",
       "<thead><tr><th></th><th scope=col>B_16</th><th scope=col>B_26</th><th scope=col>B_27</th><th scope=col>B_38</th><th scope=col>B_4</th><th scope=col>B_40</th></tr></thead>\n",
       "<tbody>\n",
       "\t<tr><th scope=row>CNAG_04548</th><td>-4.034228 </td><td>-3.8773324</td><td>-3.6216742</td><td>-2.153254 </td><td>-2.0052814</td><td>-2.271949 </td></tr>\n",
       "\t<tr><th scope=row>CNAG_07303</th><td>-4.034228 </td><td>-3.8773324</td><td>-3.6216742</td><td>-3.738216 </td><td>-2.0052814</td><td>-3.856911 </td></tr>\n",
       "\t<tr><th scope=row>CNAG_07304</th><td> 1.095055 </td><td>-1.5554043</td><td> 0.2852164</td><td> 1.215980 </td><td> 0.8020735</td><td> 1.815514 </td></tr>\n",
       "\t<tr><th scope=row>CNAG_00001</th><td>-4.034228 </td><td>-3.8773324</td><td>-3.6216742</td><td>-3.738216 </td><td>-2.0052814</td><td>-3.856911 </td></tr>\n",
       "\t<tr><th scope=row>CNAG_07305</th><td>-2.449266 </td><td>-3.8773324</td><td>-3.6216742</td><td>-2.153254 </td><td>-2.0052814</td><td>-1.534983 </td></tr>\n",
       "\t<tr><th scope=row>CNAG_00002</th><td> 3.497153 </td><td> 0.6462296</td><td> 4.0003776</td><td> 4.700575 </td><td> 3.7760783</td><td> 4.887923 </td></tr>\n",
       "</tbody>\n",
       "</table>\n"
      ],
      "text/latex": [
       "\\begin{tabular}{r|llllll}\n",
       "  & B\\_16 & B\\_26 & B\\_27 & B\\_38 & B\\_4 & B\\_40\\\\\n",
       "\\hline\n",
       "\tCNAG\\_04548 & -4.034228  & -3.8773324 & -3.6216742 & -2.153254  & -2.0052814 & -2.271949 \\\\\n",
       "\tCNAG\\_07303 & -4.034228  & -3.8773324 & -3.6216742 & -3.738216  & -2.0052814 & -3.856911 \\\\\n",
       "\tCNAG\\_07304 &  1.095055  & -1.5554043 &  0.2852164 &  1.215980  &  0.8020735 &  1.815514 \\\\\n",
       "\tCNAG\\_00001 & -4.034228  & -3.8773324 & -3.6216742 & -3.738216  & -2.0052814 & -3.856911 \\\\\n",
       "\tCNAG\\_07305 & -2.449266  & -3.8773324 & -3.6216742 & -2.153254  & -2.0052814 & -1.534983 \\\\\n",
       "\tCNAG\\_00002 &  3.497153  &  0.6462296 &  4.0003776 &  4.700575  &  3.7760783 &  4.887923 \\\\\n",
       "\\end{tabular}\n"
      ],
      "text/markdown": [
       "\n",
       "| <!--/--> | B_16 | B_26 | B_27 | B_38 | B_4 | B_40 | \n",
       "|---|---|---|---|---|---|\n",
       "| CNAG_04548 | -4.034228  | -3.8773324 | -3.6216742 | -2.153254  | -2.0052814 | -2.271949  | \n",
       "| CNAG_07303 | -4.034228  | -3.8773324 | -3.6216742 | -3.738216  | -2.0052814 | -3.856911  | \n",
       "| CNAG_07304 |  1.095055  | -1.5554043 |  0.2852164 |  1.215980  |  0.8020735 |  1.815514  | \n",
       "| CNAG_00001 | -4.034228  | -3.8773324 | -3.6216742 | -3.738216  | -2.0052814 | -3.856911  | \n",
       "| CNAG_07305 | -2.449266  | -3.8773324 | -3.6216742 | -2.153254  | -2.0052814 | -1.534983  | \n",
       "| CNAG_00002 |  3.497153  |  0.6462296 |  4.0003776 |  4.700575  |  3.7760783 |  4.887923  | \n",
       "\n",
       "\n"
      ],
      "text/plain": [
       "           B_16      B_26       B_27       B_38      B_4        B_40     \n",
       "CNAG_04548 -4.034228 -3.8773324 -3.6216742 -2.153254 -2.0052814 -2.271949\n",
       "CNAG_07303 -4.034228 -3.8773324 -3.6216742 -3.738216 -2.0052814 -3.856911\n",
       "CNAG_07304  1.095055 -1.5554043  0.2852164  1.215980  0.8020735  1.815514\n",
       "CNAG_00001 -4.034228 -3.8773324 -3.6216742 -3.738216 -2.0052814 -3.856911\n",
       "CNAG_07305 -2.449266 -3.8773324 -3.6216742 -2.153254 -2.0052814 -1.534983\n",
       "CNAG_00002  3.497153  0.6462296  4.0003776  4.700575  3.7760783  4.887923"
      ]
     },
     "metadata": {},
     "output_type": "display_data"
    }
   ],
   "source": [
    "head(vomexp$E)"
   ]
  },
  {
   "cell_type": "markdown",
   "metadata": {},
   "source": [
    "# Dendrogram (Hierachical Clustering)"
   ]
  },
  {
   "cell_type": "code",
   "execution_count": 42,
   "metadata": {},
   "outputs": [],
   "source": [
    "mydend <- lapply(gene_exp, function(mat){\n",
    "    # construct the dendrogram\n",
    "    mydend <- mat %>% t() %>% dist %>%\n",
    "    hclust(method = \"complete\") %>%\n",
    "    as.dendrogram\n",
    "    \n",
    "    return(mydend)\n",
    "})  "
   ]
  },
  {
   "cell_type": "code",
   "execution_count": 47,
   "metadata": {},
   "outputs": [
    {
     "data": {
      "image/png": "[encoded data removed]",
      "text/plain": [
       "Plot with title “vom”"
      ]
     },
     "metadata": {},
     "output_type": "display_data"
    }
   ],
   "source": [
    "options(repr.plot.width = 8, repr.plot.height = 6)\n",
    "par(mfrow = c(3, 2))\n",
    "for (name in names(mydend)){\n",
    "    dend <- mydend[[name]]\n",
    "    plot(dendplot(dend, columnData, \"Media\", \"Strain\", \"Media\"),\n",
    "        main = name)\n",
    "    \n",
    "}\n",
    "par(mfrow = c(1, 1))"
   ]
  },
  {
   "cell_type": "markdown",
   "metadata": {},
   "source": [
    "# Dimensional Reduction (PCA)"
   ]
  },
  {
   "cell_type": "code",
   "execution_count": 62,
   "metadata": {},
   "outputs": [
    {
     "data": {
      "text/html": [
       "<table>\n",
       "<thead><tr><th scope=col>Label</th><th scope=col>Strain</th><th scope=col>Media</th><th scope=col>experiment_person</th><th scope=col>prop.gene</th><th scope=col>prop.nofeat</th><th scope=col>prop.unique</th><th scope=col>depth</th></tr></thead>\n",
       "<tbody>\n",
       "\t<tr><td>B_16      </td><td>H99       </td><td>TC        </td><td>expA      </td><td>0.6828281 </td><td>0.15846630</td><td>0.8412944 </td><td>2999313   </td></tr>\n",
       "\t<tr><td>B_26      </td><td>H99       </td><td>YPD       </td><td>expB      </td><td>0.6050241 </td><td>0.06762182</td><td>0.6726459 </td><td>3036192   </td></tr>\n",
       "\t<tr><td>B_27      </td><td>H99       </td><td>YPD       </td><td>expB      </td><td>0.5561692 </td><td>0.30984824</td><td>0.8660174 </td><td>2766512   </td></tr>\n",
       "\t<tr><td>B_38      </td><td>H99       </td><td>TC        </td><td>expB      </td><td>0.5773448 </td><td>0.35963998</td><td>0.9369848 </td><td>2889270   </td></tr>\n",
       "\t<tr><td>B_4       </td><td>H99       </td><td>YPD       </td><td>expA      </td><td>0.1630784 </td><td>0.31112660</td><td>0.4742050 </td><td>3077208   </td></tr>\n",
       "\t<tr><td>B_40      </td><td>H99       </td><td>TC        </td><td>expB      </td><td>0.6519713 </td><td>0.28794455</td><td>0.9399158 </td><td>2777946   </td></tr>\n",
       "</tbody>\n",
       "</table>\n"
      ],
      "text/latex": [
       "\\begin{tabular}{r|llllllll}\n",
       " Label & Strain & Media & experiment\\_person & prop.gene & prop.nofeat & prop.unique & depth\\\\\n",
       "\\hline\n",
       "\t B\\_16     & H99        & TC         & expA       & 0.6828281  & 0.15846630 & 0.8412944  & 2999313   \\\\\n",
       "\t B\\_26     & H99        & YPD        & expB       & 0.6050241  & 0.06762182 & 0.6726459  & 3036192   \\\\\n",
       "\t B\\_27     & H99        & YPD        & expB       & 0.5561692  & 0.30984824 & 0.8660174  & 2766512   \\\\\n",
       "\t B\\_38     & H99        & TC         & expB       & 0.5773448  & 0.35963998 & 0.9369848  & 2889270   \\\\\n",
       "\t B\\_4      & H99        & YPD        & expA       & 0.1630784  & 0.31112660 & 0.4742050  & 3077208   \\\\\n",
       "\t B\\_40     & H99        & TC         & expB       & 0.6519713  & 0.28794455 & 0.9399158  & 2777946   \\\\\n",
       "\\end{tabular}\n"
      ],
      "text/markdown": [
       "\n",
       "Label | Strain | Media | experiment_person | prop.gene | prop.nofeat | prop.unique | depth | \n",
       "|---|---|---|---|---|---|\n",
       "| B_16       | H99        | TC         | expA       | 0.6828281  | 0.15846630 | 0.8412944  | 2999313    | \n",
       "| B_26       | H99        | YPD        | expB       | 0.6050241  | 0.06762182 | 0.6726459  | 3036192    | \n",
       "| B_27       | H99        | YPD        | expB       | 0.5561692  | 0.30984824 | 0.8660174  | 2766512    | \n",
       "| B_38       | H99        | TC         | expB       | 0.5773448  | 0.35963998 | 0.9369848  | 2889270    | \n",
       "| B_4        | H99        | YPD        | expA       | 0.1630784  | 0.31112660 | 0.4742050  | 3077208    | \n",
       "| B_40       | H99        | TC         | expB       | 0.6519713  | 0.28794455 | 0.9399158  | 2777946    | \n",
       "\n",
       "\n"
      ],
      "text/plain": [
       "  Label Strain Media experiment_person prop.gene prop.nofeat prop.unique\n",
       "1 B_16  H99    TC    expA              0.6828281 0.15846630  0.8412944  \n",
       "2 B_26  H99    YPD   expB              0.6050241 0.06762182  0.6726459  \n",
       "3 B_27  H99    YPD   expB              0.5561692 0.30984824  0.8660174  \n",
       "4 B_38  H99    TC    expB              0.5773448 0.35963998  0.9369848  \n",
       "5 B_4   H99    YPD   expA              0.1630784 0.31112660  0.4742050  \n",
       "6 B_40  H99    TC    expB              0.6519713 0.28794455  0.9399158  \n",
       "  depth  \n",
       "1 2999313\n",
       "2 3036192\n",
       "3 2766512\n",
       "4 2889270\n",
       "5 3077208\n",
       "6 2777946"
      ]
     },
     "metadata": {},
     "output_type": "display_data"
    }
   ],
   "source": [
    "annomapres0"
   ]
  },
  {
   "cell_type": "code",
   "execution_count": 72,
   "metadata": {},
   "outputs": [],
   "source": [
    "### plotting theme\n",
    "### from http://huboqiang.cn/2016/03/03/RscatterPlotPCA\n",
    "theme<-theme(panel.background = element_blank(),panel.border=element_rect(fill=NA),panel.grid.major = element_blank(),panel.grid.minor = element_blank(),strip.background=element_blank(),axis.text.x=element_text(colour=\"black\"),axis.text.y=element_text(colour=\"black\"),axis.ticks=element_line(colour=\"black\"),plot.margin=unit(c(1,1,1,1),\"line\"))\n",
    "\n",
    "###\n",
    "gps <- lapply(names(gene_exp), function(name){\n",
    "    #\n",
    "    mat <- gene_exp[[name]]\n",
    "    \n",
    "    #\n",
    "    df_pca <- prcomp(t(mat))\n",
    "    df_out <- as.data.frame(df_pca$x)\n",
    "    df_out <- df_out %>% rownames_to_column(\"Label\")\n",
    "\n",
    "    #\n",
    "    df_out <- annomapres0 %>% \n",
    "        as.data.frame %>%\n",
    "        select(Label, Media) %>% \n",
    "        left_join(df_out, ., by = \"Label\")\n",
    "    \n",
    "    #\n",
    "    percentage <- round(df_pca$sdev / sum(df_pca$sdev) * 100, 2)\n",
    "    percentage <- paste(c(\"PC1\", \"PC2\"), \"(\", paste(as.character(percentage), \"%\", \" )\", sep=\"\") )\n",
    "\n",
    "    #\n",
    "    gp <- ggplot(df_out, aes(x = PC1, y = PC2, color = Media))\n",
    "    gp <- gp + geom_point() + theme + xlab(percentage[1]) + ylab(percentage[2]) + ggtitle(name)\n",
    "    return(gp)\n",
    "})"
   ]
  },
  {
   "cell_type": "code",
   "execution_count": 80,
   "metadata": {},
   "outputs": [
    {
     "data": {
      "image/png": "[encoded data removed]",
      "text/plain": [
       "plot without title"
      ]
     },
     "metadata": {},
     "output_type": "display_data"
    }
   ],
   "source": [
    "options(repr.plot.width = 9, repr.plot.height = 9)\n",
    "grid.arrange(\n",
    "    gps[[1]], gps[[2]], \n",
    "    gps[[3]], gps[[4]],\n",
    "    gps[[5]],\n",
    "    ncol = 2)"
   ]
  },
  {
   "cell_type": "markdown",
   "metadata": {},
   "source": [
    "# Store the results"
   ]
  },
  {
   "cell_type": "code",
   "execution_count": 81,
   "metadata": {},
   "outputs": [
    {
     "data": {
      "text/html": [
       "<strong>/shared_space/TA_clint/analysis_output/out/HTS-GroupB-DESeq.RData:</strong> 'b21933f18011b46d4882c76f8638b6f4'"
      ],
      "text/latex": [
       "\\textbf{/shared\\textbackslash{}\\_space/TA\\textbackslash{}\\_clint/analysis\\textbackslash{}\\_output/out/HTS-GroupB-DESeq.RData:} 'b21933f18011b46d4882c76f8638b6f4'"
      ],
      "text/markdown": [
       "**/shared_space/TA_clint/analysis_output/out/HTS-GroupB-DESeq.RData:** 'b21933f18011b46d4882c76f8638b6f4'"
      ],
      "text/plain": [
       "/shared_space/TA_clint/analysis_output/out/HTS-GroupB-DESeq.RData \n",
       "                               \"b21933f18011b46d4882c76f8638b6f4\" "
      ]
     },
     "metadata": {},
     "output_type": "display_data"
    }
   ],
   "source": [
    "outfile <- file.path(OUTDIR, \"HTS-GroupB-DESeq.RData\")\n",
    "\n",
    "save(dds, res_media, \n",
    "     rlgexp, vstexp, vomexp,\n",
    "     gene_exp, \n",
    "     file = outfile)\n",
    "\n",
    "tools::md5sum(outfile)"
   ]
  },
  {
   "cell_type": "markdown",
   "metadata": {},
   "source": [
    "# The end"
   ]
  },
  {
   "cell_type": "code",
   "execution_count": null,
   "metadata": {},
   "outputs": [],
   "source": []
  },
  {
   "cell_type": "code",
   "execution_count": null,
   "metadata": {},
   "outputs": [],
   "source": []
  },
  {
   "cell_type": "code",
   "execution_count": null,
   "metadata": {},
   "outputs": [],
   "source": []
  }
 ],
 "metadata": {
  "kernelspec": {
   "display_name": "R",
   "language": "R",
   "name": "ir"
  },
  "language_info": {
   "codemirror_mode": "r",
   "file_extension": ".r",
   "mimetype": "text/x-r-source",
   "name": "R",
   "pygments_lexer": "r",
   "version": "3.4.1"
  }
 },
 "nbformat": 4,
 "nbformat_minor": 2
}
