{
 "cells": [
  {
   "cell_type": "markdown",
   "metadata": {},
   "source": [
    "# Set environment"
   ]
  },
  {
   "cell_type": "code",
   "execution_count": 28,
   "metadata": {},
   "outputs": [],
   "source": [
    "source config_star.sh"
   ]
  },
  {
   "cell_type": "code",
   "execution_count": 2,
   "metadata": {},
   "outputs": [
    {
     "name": "stdout",
     "output_type": "stream",
     "text": [
      "/shared_space/TA_clint:\n",
      "\u001b[0m\u001b[01;34mcount_out\u001b[0m  \u001b[01;34mgenome\u001b[0m  \u001b[01;34mmyinfo\u001b[0m  \u001b[01;34mqc_output\u001b[0m  \u001b[01;34mstar_out\u001b[0m  \u001b[01;34mtrimmed_fastqs\u001b[0m\n",
      "\n",
      "/shared_space/TA_clint/count_out:\n",
      "\n",
      "/shared_space/TA_clint/genome:\n",
      "chrLength.txt\n",
      "chrNameLength.txt\n",
      "chrName.txt\n",
      "chrStart.txt\n",
      "Cryptococcus_neoformans_var_grubii_h99.CNA3.39.gtf\n",
      "Cryptococcus_neoformans_var_grubii_h99.CNA3.dna.toplevel.fa\n",
      "exonGeTrInfo.tab\n",
      "exonInfo.tab\n",
      "geneInfo.tab\n",
      "Genome\n",
      "genomeParameters.txt\n",
      "SA\n",
      "SAindex\n",
      "sjdbInfo.txt\n",
      "sjdbList.fromGTF.out.tab\n",
      "sjdbList.out.tab\n",
      "transcriptInfo.tab\n",
      "\n",
      "/shared_space/TA_clint/myinfo:\n",
      "neb_e7600_adapters.fasta\n",
      "\n",
      "/shared_space/TA_clint/qc_output:\n",
      "\n",
      "/shared_space/TA_clint/star_out:\n",
      "genomeLog.out\n",
      "\n",
      "/shared_space/TA_clint/trimmed_fastqs:\n"
     ]
    }
   ],
   "source": [
    "ls -R $CUROUT"
   ]
  },
  {
   "cell_type": "markdown",
   "metadata": {},
   "source": [
    "# Check input file"
   ]
  },
  {
   "cell_type": "code",
   "execution_count": 3,
   "metadata": {},
   "outputs": [
    {
     "name": "stdout",
     "output_type": "stream",
     "text": [
      "B_16_S26_L001_R1_001.fastq.gz\n",
      "B_16_S26_L002_R1_001.fastq.gz\n",
      "B_16_S26_L003_R1_001.fastq.gz\n",
      "B_16_S26_L004_R1_001.fastq.gz\n",
      "B_26_S10_L001_R1_001.fastq.gz\n",
      "B_26_S10_L002_R1_001.fastq.gz\n",
      "B_26_S10_L003_R1_001.fastq.gz\n",
      "B_26_S10_L004_R1_001.fastq.gz\n",
      "B_27_S18_L001_R1_001.fastq.gz\n",
      "B_27_S18_L002_R1_001.fastq.gz\n",
      "B_27_S18_L003_R1_001.fastq.gz\n",
      "B_27_S18_L004_R1_001.fastq.gz\n",
      "B_38_S34_L001_R1_001.fastq.gz\n",
      "B_38_S34_L002_R1_001.fastq.gz\n",
      "B_38_S34_L003_R1_001.fastq.gz\n",
      "B_38_S34_L004_R1_001.fastq.gz\n",
      "B_40_S42_L001_R1_001.fastq.gz\n",
      "B_40_S42_L002_R1_001.fastq.gz\n",
      "B_40_S42_L003_R1_001.fastq.gz\n",
      "B_40_S42_L004_R1_001.fastq.gz\n",
      "B_4_S2_L001_R1_001.fastq.gz\n",
      "B_4_S2_L002_R1_001.fastq.gz\n",
      "B_4_S2_L003_R1_001.fastq.gz\n",
      "B_4_S2_L004_R1_001.fastq.gz\n"
     ]
    }
   ],
   "source": [
    "ls $RAW_FASTQS | grep ^B"
   ]
  },
  {
   "cell_type": "markdown",
   "metadata": {},
   "source": [
    "# Fastqc"
   ]
  },
  {
   "cell_type": "code",
   "execution_count": 5,
   "metadata": {},
   "outputs": [
    {
     "name": "stdout",
     "output_type": "stream",
     "text": [
      "Started analysis of B_16_S26_L001_R1_001.fastq.gz\n",
      "Approx 5% complete for B_16_S26_L001_R1_001.fastq.gz\n",
      "Approx 10% complete for B_16_S26_L001_R1_001.fastq.gz\n",
      "Approx 15% complete for B_16_S26_L001_R1_001.fastq.gz\n",
      "Approx 20% complete for B_16_S26_L001_R1_001.fastq.gz\n",
      "Approx 25% complete for B_16_S26_L001_R1_001.fastq.gz\n",
      "Approx 30% complete for B_16_S26_L001_R1_001.fastq.gz\n",
      "Approx 35% complete for B_16_S26_L001_R1_001.fastq.gz\n",
      "Approx 40% complete for B_16_S26_L001_R1_001.fastq.gz\n",
      "Approx 45% complete for B_16_S26_L001_R1_001.fastq.gz\n",
      "Approx 50% complete for B_16_S26_L001_R1_001.fastq.gz\n",
      "Approx 55% complete for B_16_S26_L001_R1_001.fastq.gz\n",
      "Approx 60% complete for B_16_S26_L001_R1_001.fastq.gz\n",
      "Approx 65% complete for B_16_S26_L001_R1_001.fastq.gz\n",
      "Approx 70% complete for B_16_S26_L001_R1_001.fastq.gz\n",
      "Approx 75% complete for B_16_S26_L001_R1_001.fastq.gz\n",
      "Approx 80% complete for B_16_S26_L001_R1_001.fastq.gz\n",
      "Approx 85% complete for B_16_S26_L001_R1_001.fastq.gz\n",
      "Approx 90% complete for B_16_S26_L001_R1_001.fastq.gz\n",
      "Approx 95% complete for B_16_S26_L001_R1_001.fastq.gz\n",
      "Analysis complete for B_16_S26_L001_R1_001.fastq.gz\n"
     ]
    }
   ],
   "source": [
    "fastqc --extract $RAW_FASTQS/B_16_S26_L001_R1_001.fastq.gz -o $QC"
   ]
  },
  {
   "cell_type": "markdown",
   "metadata": {},
   "source": [
    "# Trimming"
   ]
  },
  {
   "cell_type": "code",
   "execution_count": 8,
   "metadata": {},
   "outputs": [
    {
     "name": "stdout",
     "output_type": "stream",
     "text": [
      "/data/hts2018_course/Granek_5003_180726A5\n",
      "/shared_space/TA_clint/myinfo/neb_e7600_adapters.fasta\n",
      "/shared_space/TA_clint/trimmed_fastqs\n"
     ]
    }
   ],
   "source": [
    "echo $RAW_FASTQS\n",
    "echo $ADAPTERS\n",
    "echo $TRIMMED"
   ]
  },
  {
   "cell_type": "code",
   "execution_count": 9,
   "metadata": {},
   "outputs": [
    {
     "name": "stdout",
     "output_type": "stream",
     "text": [
      "Command Line: /shared_space/TA_clint/myinfo/neb_e7600_adapters.fasta /data/hts2018_course/Granek_5003_180726A5/B_16_S26_L001_R1_001.fastq.gz -q 20 -x 0.5 -o /shared_space/TA_clint/trimmed_fastqs/B_16_S26_L001_R1_001.trim.fastq.gz\n",
      "Scale used: 2.2\n",
      "Phred: 33\n",
      "Threshold used: 751 out of 300000\n",
      "Files: 1\n",
      "Total reads: 3013575\n",
      "Too short after clip: 0\n",
      "Trimmed 289890 reads by an average of 1.24 bases on quality < 20\n"
     ]
    }
   ],
   "source": [
    "fastq-mcf $ADAPTERS \\\n",
    "    $RAW_FASTQS/B_16_S26_L001_R1_001.fastq.gz \\\n",
    "    -q 20 -x 0.5 \\\n",
    "    -o $TRIMMED/B_16_S26_L001_R1_001.trim.fastq.gz"
   ]
  },
  {
   "cell_type": "code",
   "execution_count": 10,
   "metadata": {},
   "outputs": [
    {
     "name": "stdout",
     "output_type": "stream",
     "text": [
      "\u001b[0m\u001b[01;31mB_16_S26_L001_R1_001.trim.fastq.gz\u001b[0m\n"
     ]
    }
   ],
   "source": [
    "ls $TRIMMED"
   ]
  },
  {
   "cell_type": "markdown",
   "metadata": {},
   "source": [
    "# Mapping"
   ]
  },
  {
   "cell_type": "markdown",
   "metadata": {},
   "source": [
    "```\n",
    "STAR \\\n",
    "    --runMode           alignReads  \\\n",
    "    --twopassMode       None        \\\n",
    "    --genomeDir         $GENOME_DIR \\\n",
    "    --readFilesIn       $TRIMMED/${FASTQ_BASE}_001.trim.fastq.gz \\\n",
    "    --readFilesCommand  gunzip -c                                \\\n",
    "    --outFileNamePrefix ${STAR_OUT}/${FASTQ_BASE}_short_introns_ \\\n",
    "    --quantMode         GeneCounts              \\\n",
    "    --outSAMtype        BAM SortedByCoordinate  \\\n",
    "    --alignIntronMax    5000                    \\\n",
    "    --outSJfilterIntronMaxVsReadN 500 1000 2000\n",
    "```"
   ]
  },
  {
   "cell_type": "markdown",
   "metadata": {},
   "source": [
    "**Check the input**"
   ]
  },
  {
   "cell_type": "code",
   "execution_count": 15,
   "metadata": {},
   "outputs": [
    {
     "name": "stdout",
     "output_type": "stream",
     "text": [
      "/shared_space/TA_clint/genome\n",
      "/shared_space/TA_clint/trimmed_fastqs\n",
      "/shared_space/TA_clint/star_out\n"
     ]
    }
   ],
   "source": [
    "echo $GENOME_DIR\n",
    "echo $TRIMMED\n",
    "echo ${STAR_OUT}"
   ]
  },
  {
   "cell_type": "markdown",
   "metadata": {},
   "source": [
    "**Mapping**"
   ]
  },
  {
   "cell_type": "code",
   "execution_count": 16,
   "metadata": {},
   "outputs": [
    {
     "name": "stdout",
     "output_type": "stream",
     "text": [
      "Aug 04 22:12:55 ..... started STAR run\n",
      "Aug 04 22:12:55 ..... loading genome\n",
      "Aug 04 22:12:55 ..... started mapping\n",
      "Aug 04 22:13:49 ..... started sorting BAM\n",
      "Aug 04 22:14:00 ..... finished successfully\n"
     ]
    }
   ],
   "source": [
    "STAR \\\n",
    "    --runMode           alignReads  \\\n",
    "    --twopassMode       None        \\\n",
    "    --genomeDir         $GENOME_DIR \\\n",
    "    --readFilesIn       $TRIMMED/B_16_S26_L001_R1_001.trim.fastq.gz \\\n",
    "    --readFilesCommand  gunzip -c                                   \\\n",
    "    --outFileNamePrefix ${STAR_OUT}/B_16_S26_L001_R1_short_introns_ \\\n",
    "    --quantMode         GeneCounts              \\\n",
    "    --outSAMtype        BAM SortedByCoordinate  \\\n",
    "    --alignIntronMax    5000                    \\\n",
    "    --outSJfilterIntronMaxVsReadN 500 1000 2000"
   ]
  },
  {
   "cell_type": "markdown",
   "metadata": {},
   "source": [
    "**Check the output**"
   ]
  },
  {
   "cell_type": "code",
   "execution_count": 18,
   "metadata": {},
   "outputs": [
    {
     "name": "stdout",
     "output_type": "stream",
     "text": [
      "/shared_space/TA_clint/star_out/B_16_S26_L001_R1_short_introns_Aligned.sortedByCoord.out.bam\n",
      "/shared_space/TA_clint/star_out/B_16_S26_L001_R1_short_introns_Log.final.out\n",
      "/shared_space/TA_clint/star_out/B_16_S26_L001_R1_short_introns_Log.out\n",
      "/shared_space/TA_clint/star_out/B_16_S26_L001_R1_short_introns_Log.progress.out\n",
      "/shared_space/TA_clint/star_out/B_16_S26_L001_R1_short_introns_ReadsPerGene.out.tab\n",
      "/shared_space/TA_clint/star_out/B_16_S26_L001_R1_short_introns_SJ.out.tab\n"
     ]
    }
   ],
   "source": [
    "ls ${STAR_OUT}/B_16_S26_L001_R1_short_introns_*"
   ]
  },
  {
   "cell_type": "markdown",
   "metadata": {},
   "source": [
    "**Check log file**"
   ]
  },
  {
   "cell_type": "code",
   "execution_count": 19,
   "metadata": {},
   "outputs": [
    {
     "name": "stdout",
     "output_type": "stream",
     "text": [
      "                                 Started job on |\tAug 04 22:12:55\n",
      "                             Started mapping on |\tAug 04 22:12:55\n",
      "                                    Finished on |\tAug 04 22:14:00\n",
      "       Mapping speed, Million of reads per hour |\t166.91\n",
      "\n",
      "                          Number of input reads |\t3013575\n",
      "                      Average input read length |\t75\n",
      "                                    UNIQUE READS:\n",
      "                   Uniquely mapped reads number |\t2534167\n",
      "                        Uniquely mapped reads % |\t84.09%\n",
      "                          Average mapped length |\t75.71\n",
      "                       Number of splices: Total |\t169824\n",
      "            Number of splices: Annotated (sjdb) |\t165336\n",
      "                       Number of splices: GT/AG |\t166855\n",
      "                       Number of splices: GC/AG |\t2183\n",
      "                       Number of splices: AT/AC |\t38\n",
      "               Number of splices: Non-canonical |\t748\n",
      "                      Mismatch rate per base, % |\t0.20%\n",
      "                         Deletion rate per base |\t0.01%\n",
      "                        Deletion average length |\t1.32\n",
      "                        Insertion rate per base |\t0.00%\n",
      "                       Insertion average length |\t1.08\n",
      "                             MULTI-MAPPING READS:\n",
      "        Number of reads mapped to multiple loci |\t470249\n",
      "             % of reads mapped to multiple loci |\t15.60%\n",
      "        Number of reads mapped to too many loci |\t195\n",
      "             % of reads mapped to too many loci |\t0.01%\n",
      "                                  UNMAPPED READS:\n",
      "       % of reads unmapped: too many mismatches |\t0.00%\n",
      "                 % of reads unmapped: too short |\t0.30%\n",
      "                     % of reads unmapped: other |\t0.00%\n",
      "                                  CHIMERIC READS:\n",
      "                       Number of chimeric reads |\t0\n",
      "                            % of chimeric reads |\t0.00%\n"
     ]
    }
   ],
   "source": [
    "cat ${STAR_OUT}/B_16_S26_L001_R1_short_introns_Log.final.out"
   ]
  },
  {
   "cell_type": "markdown",
   "metadata": {},
   "source": [
    "**Check count file**"
   ]
  },
  {
   "cell_type": "code",
   "execution_count": 38,
   "metadata": {},
   "outputs": [
    {
     "name": "stdout",
     "output_type": "stream",
     "text": [
      "1\t7627\t7684\t2\t2\t1\t0\t1\t23\n",
      "1\t9247\t9310\t2\t2\t1\t4\t3\t36\n",
      "1\t10455\t10506\t1\t3\t0\t0\t1\t18\n",
      "1\t11574\t11637\t2\t2\t0\t0\t2\t32\n",
      "1\t12904\t12991\t1\t1\t1\t2\t0\t37\n",
      "1\t13077\t13136\t1\t1\t1\t4\t0\t36\n",
      "1\t13256\t13310\t1\t1\t1\t2\t0\t12\n",
      "1\t13480\t13530\t1\t1\t1\t4\t0\t31\n",
      "1\t15437\t15492\t2\t2\t1\t1\t0\t37\n",
      "1\t15621\t15670\t2\t2\t1\t1\t0\t7\n"
     ]
    }
   ],
   "source": [
    "head ${STAR_OUT}/B_16_S26_L001_R1_short_introns_SJ.out.tab"
   ]
  },
  {
   "cell_type": "code",
   "execution_count": 36,
   "metadata": {},
   "outputs": [
    {
     "name": "stdout",
     "output_type": "stream",
     "text": [
      "N_unmapped\t9159\t9159\t9159\n",
      "N_multimapping\t470249\t470249\t470249\n",
      "N_noFeature\t469318\t2453101\t476341\n",
      "N_ambiguous\t74495\t212\t423\n",
      "CNAG_04548\t0\t0\t0\n",
      "CNAG_07303\t0\t0\t0\n",
      "CNAG_07304\t4\t0\t4\n",
      "CNAG_00001\t0\t0\t0\n",
      "CNAG_07305\t0\t0\t0\n",
      "CNAG_00002\t25\t0\t25\n"
     ]
    }
   ],
   "source": [
    "head ${STAR_OUT}/B_16_S26_L001_R1_short_introns_ReadsPerGene.out.tab"
   ]
  },
  {
   "cell_type": "markdown",
   "metadata": {},
   "source": [
    "# IGV visualization"
   ]
  },
  {
   "cell_type": "markdown",
   "metadata": {},
   "source": [
    "**Check the input**"
   ]
  },
  {
   "cell_type": "code",
   "execution_count": 21,
   "metadata": {},
   "outputs": [
    {
     "name": "stdout",
     "output_type": "stream",
     "text": [
      "/shared_space/TA_clint/star_out/B_16_S26_L001_R1_short_introns_Aligned.sortedByCoord.out.bam\n"
     ]
    }
   ],
   "source": [
    "ls ${STAR_OUT}/*.bam*"
   ]
  },
  {
   "cell_type": "markdown",
   "metadata": {},
   "source": [
    "**Sort index**"
   ]
  },
  {
   "cell_type": "code",
   "execution_count": 23,
   "metadata": {},
   "outputs": [
    {
     "name": "stdout",
     "output_type": "stream",
     "text": [
      "/shared_space/TA_clint/star_out/B_16_S26_L001_R1_short_introns_Aligned.sortedByCoord.out.bam\n"
     ]
    }
   ],
   "source": [
    "for BAM in ${STAR_OUT}/*_Aligned.sortedByCoord.out.bam\n",
    "    do\n",
    "        echo $BAM\n",
    "        samtools index $BAM\n",
    "    done"
   ]
  },
  {
   "cell_type": "markdown",
   "metadata": {},
   "source": [
    "**Check the output**"
   ]
  },
  {
   "cell_type": "code",
   "execution_count": 24,
   "metadata": {},
   "outputs": [
    {
     "name": "stdout",
     "output_type": "stream",
     "text": [
      "/shared_space/TA_clint/star_out/B_16_S26_L001_R1_short_introns_Aligned.sortedByCoord.out.bam\n",
      "/shared_space/TA_clint/star_out/B_16_S26_L001_R1_short_introns_Aligned.sortedByCoord.out.bam.bai\n"
     ]
    }
   ],
   "source": [
    "ls ${STAR_OUT}/*.bam*"
   ]
  },
  {
   "cell_type": "markdown",
   "metadata": {},
   "source": [
    "**Prepare for downloading**"
   ]
  },
  {
   "cell_type": "markdown",
   "metadata": {},
   "source": [
    "create soft link"
   ]
  },
  {
   "cell_type": "code",
   "execution_count": 27,
   "metadata": {},
   "outputs": [],
   "source": [
    "ln -s ${STAR_OUT}/*.bam* $GTF $FASTA $IGV_DIR"
   ]
  },
  {
   "cell_type": "markdown",
   "metadata": {},
   "source": [
    "check directories"
   ]
  },
  {
   "cell_type": "code",
   "execution_count": 37,
   "metadata": {},
   "outputs": [
    {
     "name": "stdout",
     "output_type": "stream",
     "text": [
      "/home/jovyan/work/scratch/TA_clint/igv\n",
      "/shared_space/TA_clint\n"
     ]
    }
   ],
   "source": [
    "echo $IGV_DIR\n",
    "echo $CUROUT"
   ]
  },
  {
   "cell_type": "markdown",
   "metadata": {},
   "source": [
    "tar the files"
   ]
  },
  {
   "cell_type": "code",
   "execution_count": 35,
   "metadata": {},
   "outputs": [
    {
     "name": "stdout",
     "output_type": "stream",
     "text": [
      "igv/\n",
      "igv/B_16_S26_L001_R1_short_introns_Aligned.sortedByCoord.out.bam\n",
      "igv/Cryptococcus_neoformans_var_grubii_h99.CNA3.39.gtf\n",
      "igv/Cryptococcus_neoformans_var_grubii_h99.CNA3.dna.toplevel.fa\n",
      "igv/B_16_S26_L001_R1_short_introns_Aligned.sortedByCoord.out.bam.bai\n"
     ]
    }
   ],
   "source": [
    "tar --dereference \\\n",
    "    --create \\\n",
    "    --gzip \\\n",
    "    --verbose \\\n",
    "    --file $OUTDIR/stuff_for_igv.tgz \\\n",
    "    --directory $OUTDIR \\\n",
    "    $(basename $IGV_DIR)"
   ]
  }
 ],
 "metadata": {
  "kernelspec": {
   "display_name": "Bash",
   "language": "bash",
   "name": "bash"
  },
  "language_info": {
   "codemirror_mode": "shell",
   "file_extension": ".sh",
   "mimetype": "text/x-sh",
   "name": "bash"
  }
 },
 "nbformat": 4,
 "nbformat_minor": 2
}
