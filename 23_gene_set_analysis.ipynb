{
 "cells": [
  {
   "cell_type": "markdown",
   "metadata": {},
   "source": [
    "# Set environment"
   ]
  },
  {
   "cell_type": "code",
   "execution_count": 80,
   "metadata": {
    "scrolled": true
   },
   "outputs": [],
   "source": [
    "source(\"config_path.R\")"
   ]
  },
  {
   "cell_type": "markdown",
   "metadata": {},
   "source": [
    "# Import data"
   ]
  },
  {
   "cell_type": "markdown",
   "metadata": {},
   "source": [
    "## 01 Count data"
   ]
  },
  {
   "cell_type": "code",
   "execution_count": 81,
   "metadata": {},
   "outputs": [
    {
     "name": "stderr",
     "output_type": "stream",
     "text": [
      "The following objects are masked from file:/shared_space/TA_clint/analysis_output/out/HTS-GroupAll-DESeq.RData (pos = 3):\n",
      "\n",
      "    columnData, columnData_rmF, countData, countData_rm0F, dds,\n",
      "    gene_exp, res_media_h99, res_media_h992, res_media_mar,\n",
      "    res_media_mar2, res_strain_tc, res_strain_tc2, res_strain_ypd,\n",
      "    res_strain_ypd2, rlgexp, vomexp, vstexp\n",
      "\n",
      "The following objects are masked from file:/shared_space/TA_clint/analysis_output/out/HTS-GroupAll-DESeq.RData (pos = 6):\n",
      "\n",
      "    columnData, countData, dds, gene_exp, res_media_h99, res_media_mar,\n",
      "    res_strain_tc, res_strain_ypd, rlgexp, vomexp, vstexp\n",
      "\n"
     ]
    }
   ],
   "source": [
    "attach(file.path(OUTDIR, \"HTS-GroupAll-DESeq.RData\"))"
   ]
  },
  {
   "cell_type": "markdown",
   "metadata": {},
   "source": [
    "## 02 Read in the pathway genesets of cne h99"
   ]
  },
  {
   "cell_type": "markdown",
   "metadata": {},
   "source": [
    "The data is downloaded from [FungiDB](http://fungidb.org) with [this strategy](http://fungidb.org/fungidb/im.do?s=b7b27b78af2797b1)."
   ]
  },
  {
   "cell_type": "code",
   "execution_count": 82,
   "metadata": {},
   "outputs": [
    {
     "name": "stderr",
     "output_type": "stream",
     "text": [
      "Warning message:\n",
      "“Missing column names filled in: 'X5' [5]”Parsed with column specification:\n",
      "cols(\n",
      "  `[Pathway Id]` = col_character(),\n",
      "  `[Pathway]` = col_character(),\n",
      "  `[Genes]` = col_character(),\n",
      "  `[Pathway Source]` = col_character(),\n",
      "  X5 = col_character()\n",
      ")\n"
     ]
    },
    {
     "data": {
      "text/html": [
       "<table>\n",
       "<thead><tr><th scope=col>id</th><th scope=col>name</th><th scope=col>gene</th><th scope=col>source</th></tr></thead>\n",
       "<tbody>\n",
       "\t<tr><td>ec00010                                                                                                                                                                                                                                                                                                                                                                                                                                                </td><td>Glycolysis / Gluconeogenesis                                                                                                                                                                                                                                                                                                                                                                                                                           </td><td>CNAG_00038 | CNAG_00057 | CNAG_00515 | CNAG_00735 | CNAG_00797 | CNAG_01078 | CNAG_01120 | CNAG_01675 | CNAG_01820 | CNAG_01955 | CNAG_02035 | CNAG_02377 | CNAG_02489 | CNAG_02736 | CNAG_02903 | CNAG_03072 | CNAG_03358 | CNAG_03916 | CNAG_04217 | CNAG_04523 | CNAG_04659 | CNAG_04676 | CNAG_05059 | CNAG_05113 | CNAG_06035 | CNAG_06313 | CNAG_06628 | CNAG_06699 | CNAG_06770 | CNAG_07004 | CNAG_07316 | CNAG_07559 | CNAG_07660 | CNAG_07745</td><td>KEGG                                                                                                                                                                                                                                                                                                                                                                                                                                                   </td></tr>\n",
       "\t<tr><td>ec00020                                                                                                                                                                                                                                                                                                                                                                                                                                                </td><td>Citrate cycle (TCA cycle)                                                                                                                                                                                                                                                                                                                                                                                                                              </td><td>CNAG_00061 | CNAG_00747 | CNAG_01120 | CNAG_01264 | CNAG_01657 | CNAG_01680 | CNAG_02736 | CNAG_03225 | CNAG_03226 | CNAG_03266 | CNAG_03375 | CNAG_03596 | CNAG_03674 | CNAG_03920 | CNAG_04189 | CNAG_04217 | CNAG_04468 | CNAG_04535 | CNAG_04640 | CNAG_05059 | CNAG_05236 | CNAG_05907 | CNAG_07004 | CNAG_07356 | CNAG_07363 | CNAG_07660 | CNAG_07851 | CNAG_07944                                                                              </td><td>KEGG                                                                                                                                                                                                                                                                                                                                                                                                                                                   </td></tr>\n",
       "</tbody>\n",
       "</table>\n"
      ],
      "text/latex": [
       "\\begin{tabular}{r|llll}\n",
       " id & name & gene & source\\\\\n",
       "\\hline\n",
       "\t ec00010                                                                                                                                                                                                                                                                                                                                                                                                                                                                                                                                                                                                                                                                                                                                                                                                                                                               & Glycolysis / Gluconeogenesis                                                                                                                                                                                                                                                                                                                                                                                                                                                                                                                                                                                                                                                                                                                                                                                                                                          & CNAG\\_00038 \\textbar{} CNAG\\_00057 \\textbar{} CNAG\\_00515 \\textbar{} CNAG\\_00735 \\textbar{} CNAG\\_00797 \\textbar{} CNAG\\_01078 \\textbar{} CNAG\\_01120 \\textbar{} CNAG\\_01675 \\textbar{} CNAG\\_01820 \\textbar{} CNAG\\_01955 \\textbar{} CNAG\\_02035 \\textbar{} CNAG\\_02377 \\textbar{} CNAG\\_02489 \\textbar{} CNAG\\_02736 \\textbar{} CNAG\\_02903 \\textbar{} CNAG\\_03072 \\textbar{} CNAG\\_03358 \\textbar{} CNAG\\_03916 \\textbar{} CNAG\\_04217 \\textbar{} CNAG\\_04523 \\textbar{} CNAG\\_04659 \\textbar{} CNAG\\_04676 \\textbar{} CNAG\\_05059 \\textbar{} CNAG\\_05113 \\textbar{} CNAG\\_06035 \\textbar{} CNAG\\_06313 \\textbar{} CNAG\\_06628 \\textbar{} CNAG\\_06699 \\textbar{} CNAG\\_06770 \\textbar{} CNAG\\_07004 \\textbar{} CNAG\\_07316 \\textbar{} CNAG\\_07559 \\textbar{} CNAG\\_07660 \\textbar{} CNAG\\_07745 & KEGG                                                                                                                                                                                                                                                                                                                                                                                                                                                                                                                                                                                                                                                                                                                                                                                                                                                                 \\\\\n",
       "\t ec00020                                                                                                                                                                                                                                                                                                                                                                                                                                                                                                                                                                                                                                                                                                                                                                                       & Citrate cycle (TCA cycle)                                                                                                                                                                                                                                                                                                                                                                                                                                                                                                                                                                                                                                                                                                                                                                     & CNAG\\_00061 \\textbar{} CNAG\\_00747 \\textbar{} CNAG\\_01120 \\textbar{} CNAG\\_01264 \\textbar{} CNAG\\_01657 \\textbar{} CNAG\\_01680 \\textbar{} CNAG\\_02736 \\textbar{} CNAG\\_03225 \\textbar{} CNAG\\_03226 \\textbar{} CNAG\\_03266 \\textbar{} CNAG\\_03375 \\textbar{} CNAG\\_03596 \\textbar{} CNAG\\_03674 \\textbar{} CNAG\\_03920 \\textbar{} CNAG\\_04189 \\textbar{} CNAG\\_04217 \\textbar{} CNAG\\_04468 \\textbar{} CNAG\\_04535 \\textbar{} CNAG\\_04640 \\textbar{} CNAG\\_05059 \\textbar{} CNAG\\_05236 \\textbar{} CNAG\\_05907 \\textbar{} CNAG\\_07004 \\textbar{} CNAG\\_07356 \\textbar{} CNAG\\_07363 \\textbar{} CNAG\\_07660 \\textbar{} CNAG\\_07851 \\textbar{} CNAG\\_07944                                                                               & KEGG                                                                                                                                                                                                                                                                                                                                                                                                                                                                                                                                                                                                                                                                                                                                                                                         \\\\\n",
       "\\end{tabular}\n"
      ],
      "text/markdown": [
       "\n",
       "id | name | gene | source | \n",
       "|---|---|\n",
       "| ec00010                                                                                                                                                                                                                                                                                                                                                                                                                                                 | Glycolysis / Gluconeogenesis                                                                                                                                                                                                                                                                                                                                                                                                                            | CNAG_00038 | CNAG_00057 | CNAG_00515 | CNAG_00735 | CNAG_00797 | CNAG_01078 | CNAG_01120 | CNAG_01675 | CNAG_01820 | CNAG_01955 | CNAG_02035 | CNAG_02377 | CNAG_02489 | CNAG_02736 | CNAG_02903 | CNAG_03072 | CNAG_03358 | CNAG_03916 | CNAG_04217 | CNAG_04523 | CNAG_04659 | CNAG_04676 | CNAG_05059 | CNAG_05113 | CNAG_06035 | CNAG_06313 | CNAG_06628 | CNAG_06699 | CNAG_06770 | CNAG_07004 | CNAG_07316 | CNAG_07559 | CNAG_07660 | CNAG_07745 | KEGG                                                                                                                                                                                                                                                                                                                                                                                                                                                    | \n",
       "| ec00020                                                                                                                                                                                                                                                                                                                                                                                                                                                 | Citrate cycle (TCA cycle)                                                                                                                                                                                                                                                                                                                                                                                                                               | CNAG_00061 | CNAG_00747 | CNAG_01120 | CNAG_01264 | CNAG_01657 | CNAG_01680 | CNAG_02736 | CNAG_03225 | CNAG_03226 | CNAG_03266 | CNAG_03375 | CNAG_03596 | CNAG_03674 | CNAG_03920 | CNAG_04189 | CNAG_04217 | CNAG_04468 | CNAG_04535 | CNAG_04640 | CNAG_05059 | CNAG_05236 | CNAG_05907 | CNAG_07004 | CNAG_07356 | CNAG_07363 | CNAG_07660 | CNAG_07851 | CNAG_07944                                                                               | KEGG                                                                                                                                                                                                                                                                                                                                                                                                                                                    | \n",
       "\n",
       "\n"
      ],
      "text/plain": [
       "  id      name                        \n",
       "1 ec00010 Glycolysis / Gluconeogenesis\n",
       "2 ec00020 Citrate cycle (TCA cycle)   \n",
       "  gene                                                                                                                                                                                                                                                                                                                                                                                                                                                   \n",
       "1 CNAG_00038 | CNAG_00057 | CNAG_00515 | CNAG_00735 | CNAG_00797 | CNAG_01078 | CNAG_01120 | CNAG_01675 | CNAG_01820 | CNAG_01955 | CNAG_02035 | CNAG_02377 | CNAG_02489 | CNAG_02736 | CNAG_02903 | CNAG_03072 | CNAG_03358 | CNAG_03916 | CNAG_04217 | CNAG_04523 | CNAG_04659 | CNAG_04676 | CNAG_05059 | CNAG_05113 | CNAG_06035 | CNAG_06313 | CNAG_06628 | CNAG_06699 | CNAG_06770 | CNAG_07004 | CNAG_07316 | CNAG_07559 | CNAG_07660 | CNAG_07745\n",
       "2 CNAG_00061 | CNAG_00747 | CNAG_01120 | CNAG_01264 | CNAG_01657 | CNAG_01680 | CNAG_02736 | CNAG_03225 | CNAG_03226 | CNAG_03266 | CNAG_03375 | CNAG_03596 | CNAG_03674 | CNAG_03920 | CNAG_04189 | CNAG_04217 | CNAG_04468 | CNAG_04535 | CNAG_04640 | CNAG_05059 | CNAG_05236 | CNAG_05907 | CNAG_07004 | CNAG_07356 | CNAG_07363 | CNAG_07660 | CNAG_07851 | CNAG_07944                                                                              \n",
       "  source\n",
       "1 KEGG  \n",
       "2 KEGG  "
      ]
     },
     "metadata": {},
     "output_type": "display_data"
    }
   ],
   "source": [
    "### read in the data\n",
    "tmp <- read_tsv(file.path(INFODIR, \"pathway_cne_h99_fromFungidb.txt\"), col_names = TRUE)\n",
    "tmp <- tmp %>% dplyr::select(-X5)\n",
    "\n",
    "### change the column name\n",
    "colnames(tmp) <- c(\"id\", \"name\", \"gene\", \"source\")\n",
    "dat_pathway_cne_h99 <- tmp\n",
    "\n",
    "### show the first two rows\n",
    "head(dat_pathway_cne_h99, 2)"
   ]
  },
  {
   "cell_type": "code",
   "execution_count": 4,
   "metadata": {},
   "outputs": [],
   "source": [
    "#dat_pathway_cne_h99_kegg <- dat_pathway_cne_h99 %>% dplyr::filter(source == \"KEGG\")"
   ]
  },
  {
   "cell_type": "markdown",
   "metadata": {},
   "source": [
    "# pathway gene sets"
   ]
  },
  {
   "cell_type": "code",
   "execution_count": 83,
   "metadata": {},
   "outputs": [
    {
     "data": {
      "text/html": [
       "<table>\n",
       "<thead><tr><th scope=col>label</th><th scope=col>gene</th></tr></thead>\n",
       "<tbody>\n",
       "\t<tr><td>ec00010 | Glycolysis / Gluconeogenesis                                                                                                                                                                                                                                                                                                                                                                                                                 </td><td>CNAG_00038 | CNAG_00057 | CNAG_00515 | CNAG_00735 | CNAG_00797 | CNAG_01078 | CNAG_01120 | CNAG_01675 | CNAG_01820 | CNAG_01955 | CNAG_02035 | CNAG_02377 | CNAG_02489 | CNAG_02736 | CNAG_02903 | CNAG_03072 | CNAG_03358 | CNAG_03916 | CNAG_04217 | CNAG_04523 | CNAG_04659 | CNAG_04676 | CNAG_05059 | CNAG_05113 | CNAG_06035 | CNAG_06313 | CNAG_06628 | CNAG_06699 | CNAG_06770 | CNAG_07004 | CNAG_07316 | CNAG_07559 | CNAG_07660 | CNAG_07745</td></tr>\n",
       "\t<tr><td>ec00020 | Citrate cycle (TCA cycle)                                                                                                                                                                                                                                                                                                                                                                                                                    </td><td>CNAG_00061 | CNAG_00747 | CNAG_01120 | CNAG_01264 | CNAG_01657 | CNAG_01680 | CNAG_02736 | CNAG_03225 | CNAG_03226 | CNAG_03266 | CNAG_03375 | CNAG_03596 | CNAG_03674 | CNAG_03920 | CNAG_04189 | CNAG_04217 | CNAG_04468 | CNAG_04535 | CNAG_04640 | CNAG_05059 | CNAG_05236 | CNAG_05907 | CNAG_07004 | CNAG_07356 | CNAG_07363 | CNAG_07660 | CNAG_07851 | CNAG_07944                                                                              </td></tr>\n",
       "</tbody>\n",
       "</table>\n"
      ],
      "text/latex": [
       "\\begin{tabular}{r|ll}\n",
       " label & gene\\\\\n",
       "\\hline\n",
       "\t ec00010 \\textbar{} Glycolysis / Gluconeogenesis                                                                                                                                                                                                                                                                                                                                                                                                                                                                                                                                                                                                                                                                                                                                                                                                                      & CNAG\\_00038 \\textbar{} CNAG\\_00057 \\textbar{} CNAG\\_00515 \\textbar{} CNAG\\_00735 \\textbar{} CNAG\\_00797 \\textbar{} CNAG\\_01078 \\textbar{} CNAG\\_01120 \\textbar{} CNAG\\_01675 \\textbar{} CNAG\\_01820 \\textbar{} CNAG\\_01955 \\textbar{} CNAG\\_02035 \\textbar{} CNAG\\_02377 \\textbar{} CNAG\\_02489 \\textbar{} CNAG\\_02736 \\textbar{} CNAG\\_02903 \\textbar{} CNAG\\_03072 \\textbar{} CNAG\\_03358 \\textbar{} CNAG\\_03916 \\textbar{} CNAG\\_04217 \\textbar{} CNAG\\_04523 \\textbar{} CNAG\\_04659 \\textbar{} CNAG\\_04676 \\textbar{} CNAG\\_05059 \\textbar{} CNAG\\_05113 \\textbar{} CNAG\\_06035 \\textbar{} CNAG\\_06313 \\textbar{} CNAG\\_06628 \\textbar{} CNAG\\_06699 \\textbar{} CNAG\\_06770 \\textbar{} CNAG\\_07004 \\textbar{} CNAG\\_07316 \\textbar{} CNAG\\_07559 \\textbar{} CNAG\\_07660 \\textbar{} CNAG\\_07745\\\\\n",
       "\t ec00020 \\textbar{} Citrate cycle (TCA cycle)                                                                                                                                                                                                                                                                                                                                                                                                                                                                                                                                                                                                                                                                                                                                                 & CNAG\\_00061 \\textbar{} CNAG\\_00747 \\textbar{} CNAG\\_01120 \\textbar{} CNAG\\_01264 \\textbar{} CNAG\\_01657 \\textbar{} CNAG\\_01680 \\textbar{} CNAG\\_02736 \\textbar{} CNAG\\_03225 \\textbar{} CNAG\\_03226 \\textbar{} CNAG\\_03266 \\textbar{} CNAG\\_03375 \\textbar{} CNAG\\_03596 \\textbar{} CNAG\\_03674 \\textbar{} CNAG\\_03920 \\textbar{} CNAG\\_04189 \\textbar{} CNAG\\_04217 \\textbar{} CNAG\\_04468 \\textbar{} CNAG\\_04535 \\textbar{} CNAG\\_04640 \\textbar{} CNAG\\_05059 \\textbar{} CNAG\\_05236 \\textbar{} CNAG\\_05907 \\textbar{} CNAG\\_07004 \\textbar{} CNAG\\_07356 \\textbar{} CNAG\\_07363 \\textbar{} CNAG\\_07660 \\textbar{} CNAG\\_07851 \\textbar{} CNAG\\_07944                                                                              \\\\\n",
       "\\end{tabular}\n"
      ],
      "text/markdown": [
       "\n",
       "label | gene | \n",
       "|---|---|\n",
       "| ec00010 | Glycolysis / Gluconeogenesis                                                                                                                                                                                                                                                                                                                                                                                                                  | CNAG_00038 | CNAG_00057 | CNAG_00515 | CNAG_00735 | CNAG_00797 | CNAG_01078 | CNAG_01120 | CNAG_01675 | CNAG_01820 | CNAG_01955 | CNAG_02035 | CNAG_02377 | CNAG_02489 | CNAG_02736 | CNAG_02903 | CNAG_03072 | CNAG_03358 | CNAG_03916 | CNAG_04217 | CNAG_04523 | CNAG_04659 | CNAG_04676 | CNAG_05059 | CNAG_05113 | CNAG_06035 | CNAG_06313 | CNAG_06628 | CNAG_06699 | CNAG_06770 | CNAG_07004 | CNAG_07316 | CNAG_07559 | CNAG_07660 | CNAG_07745 | \n",
       "| ec00020 | Citrate cycle (TCA cycle)                                                                                                                                                                                                                                                                                                                                                                                                                     | CNAG_00061 | CNAG_00747 | CNAG_01120 | CNAG_01264 | CNAG_01657 | CNAG_01680 | CNAG_02736 | CNAG_03225 | CNAG_03226 | CNAG_03266 | CNAG_03375 | CNAG_03596 | CNAG_03674 | CNAG_03920 | CNAG_04189 | CNAG_04217 | CNAG_04468 | CNAG_04535 | CNAG_04640 | CNAG_05059 | CNAG_05236 | CNAG_05907 | CNAG_07004 | CNAG_07356 | CNAG_07363 | CNAG_07660 | CNAG_07851 | CNAG_07944                                                                               | \n",
       "\n",
       "\n"
      ],
      "text/plain": [
       "  label                                 \n",
       "1 ec00010 | Glycolysis / Gluconeogenesis\n",
       "2 ec00020 | Citrate cycle (TCA cycle)   \n",
       "  gene                                                                                                                                                                                                                                                                                                                                                                                                                                                   \n",
       "1 CNAG_00038 | CNAG_00057 | CNAG_00515 | CNAG_00735 | CNAG_00797 | CNAG_01078 | CNAG_01120 | CNAG_01675 | CNAG_01820 | CNAG_01955 | CNAG_02035 | CNAG_02377 | CNAG_02489 | CNAG_02736 | CNAG_02903 | CNAG_03072 | CNAG_03358 | CNAG_03916 | CNAG_04217 | CNAG_04523 | CNAG_04659 | CNAG_04676 | CNAG_05059 | CNAG_05113 | CNAG_06035 | CNAG_06313 | CNAG_06628 | CNAG_06699 | CNAG_06770 | CNAG_07004 | CNAG_07316 | CNAG_07559 | CNAG_07660 | CNAG_07745\n",
       "2 CNAG_00061 | CNAG_00747 | CNAG_01120 | CNAG_01264 | CNAG_01657 | CNAG_01680 | CNAG_02736 | CNAG_03225 | CNAG_03226 | CNAG_03266 | CNAG_03375 | CNAG_03596 | CNAG_03674 | CNAG_03920 | CNAG_04189 | CNAG_04217 | CNAG_04468 | CNAG_04535 | CNAG_04640 | CNAG_05059 | CNAG_05236 | CNAG_05907 | CNAG_07004 | CNAG_07356 | CNAG_07363 | CNAG_07660 | CNAG_07851 | CNAG_07944                                                                              "
      ]
     },
     "metadata": {},
     "output_type": "display_data"
    }
   ],
   "source": [
    "### arrange the data frame\n",
    "dat <- dat_pathway_cne_h99\n",
    "dat <- dat %>% dplyr::select(-source)              # we don't need the column source\n",
    "dat <- dat %>% unite(label, id, name, sep = \" | \") # combine the column id and name\n",
    "head(dat, 2)"
   ]
  },
  {
   "cell_type": "code",
   "execution_count": 84,
   "metadata": {},
   "outputs": [
    {
     "data": {
      "text/html": [
       "<dl>\n",
       "\t<dt>$`ec00010 | Glycolysis / Gluconeogenesis`</dt>\n",
       "\t\t<dd><ol class=list-inline>\n",
       "\t<li>'CNAG_00038'</li>\n",
       "\t<li>'CNAG_00057'</li>\n",
       "\t<li>'CNAG_00515'</li>\n",
       "\t<li>'CNAG_00735'</li>\n",
       "\t<li>'CNAG_00797'</li>\n",
       "\t<li>'CNAG_01078'</li>\n",
       "\t<li>'CNAG_01120'</li>\n",
       "\t<li>'CNAG_01675'</li>\n",
       "\t<li>'CNAG_01820'</li>\n",
       "\t<li>'CNAG_01955'</li>\n",
       "\t<li>'CNAG_02035'</li>\n",
       "\t<li>'CNAG_02377'</li>\n",
       "\t<li>'CNAG_02489'</li>\n",
       "\t<li>'CNAG_02736'</li>\n",
       "\t<li>'CNAG_02903'</li>\n",
       "\t<li>'CNAG_03072'</li>\n",
       "\t<li>'CNAG_03358'</li>\n",
       "\t<li>'CNAG_03916'</li>\n",
       "\t<li>'CNAG_04217'</li>\n",
       "\t<li>'CNAG_04523'</li>\n",
       "\t<li>'CNAG_04659'</li>\n",
       "\t<li>'CNAG_04676'</li>\n",
       "\t<li>'CNAG_05059'</li>\n",
       "\t<li>'CNAG_05113'</li>\n",
       "\t<li>'CNAG_06035'</li>\n",
       "\t<li>'CNAG_06313'</li>\n",
       "\t<li>'CNAG_06628'</li>\n",
       "\t<li>'CNAG_06699'</li>\n",
       "\t<li>'CNAG_06770'</li>\n",
       "\t<li>'CNAG_07004'</li>\n",
       "\t<li>'CNAG_07316'</li>\n",
       "\t<li>'CNAG_07559'</li>\n",
       "\t<li>'CNAG_07660'</li>\n",
       "\t<li>'CNAG_07745'</li>\n",
       "</ol>\n",
       "</dd>\n",
       "\t<dt>$`ec00020 | Citrate cycle (TCA cycle)`</dt>\n",
       "\t\t<dd><ol class=list-inline>\n",
       "\t<li>'CNAG_00061'</li>\n",
       "\t<li>'CNAG_00747'</li>\n",
       "\t<li>'CNAG_01120'</li>\n",
       "\t<li>'CNAG_01264'</li>\n",
       "\t<li>'CNAG_01657'</li>\n",
       "\t<li>'CNAG_01680'</li>\n",
       "\t<li>'CNAG_02736'</li>\n",
       "\t<li>'CNAG_03225'</li>\n",
       "\t<li>'CNAG_03226'</li>\n",
       "\t<li>'CNAG_03266'</li>\n",
       "\t<li>'CNAG_03375'</li>\n",
       "\t<li>'CNAG_03596'</li>\n",
       "\t<li>'CNAG_03674'</li>\n",
       "\t<li>'CNAG_03920'</li>\n",
       "\t<li>'CNAG_04189'</li>\n",
       "\t<li>'CNAG_04217'</li>\n",
       "\t<li>'CNAG_04468'</li>\n",
       "\t<li>'CNAG_04535'</li>\n",
       "\t<li>'CNAG_04640'</li>\n",
       "\t<li>'CNAG_05059'</li>\n",
       "\t<li>'CNAG_05236'</li>\n",
       "\t<li>'CNAG_05907'</li>\n",
       "\t<li>'CNAG_07004'</li>\n",
       "\t<li>'CNAG_07356'</li>\n",
       "\t<li>'CNAG_07363'</li>\n",
       "\t<li>'CNAG_07660'</li>\n",
       "\t<li>'CNAG_07851'</li>\n",
       "\t<li>'CNAG_07944'</li>\n",
       "</ol>\n",
       "</dd>\n",
       "</dl>\n"
      ],
      "text/latex": [
       "\\begin{description}\n",
       "\\item[\\$`ec00010 \\textbar{} Glycolysis / Gluconeogenesis`] \\begin{enumerate*}\n",
       "\\item 'CNAG\\_00038'\n",
       "\\item 'CNAG\\_00057'\n",
       "\\item 'CNAG\\_00515'\n",
       "\\item 'CNAG\\_00735'\n",
       "\\item 'CNAG\\_00797'\n",
       "\\item 'CNAG\\_01078'\n",
       "\\item 'CNAG\\_01120'\n",
       "\\item 'CNAG\\_01675'\n",
       "\\item 'CNAG\\_01820'\n",
       "\\item 'CNAG\\_01955'\n",
       "\\item 'CNAG\\_02035'\n",
       "\\item 'CNAG\\_02377'\n",
       "\\item 'CNAG\\_02489'\n",
       "\\item 'CNAG\\_02736'\n",
       "\\item 'CNAG\\_02903'\n",
       "\\item 'CNAG\\_03072'\n",
       "\\item 'CNAG\\_03358'\n",
       "\\item 'CNAG\\_03916'\n",
       "\\item 'CNAG\\_04217'\n",
       "\\item 'CNAG\\_04523'\n",
       "\\item 'CNAG\\_04659'\n",
       "\\item 'CNAG\\_04676'\n",
       "\\item 'CNAG\\_05059'\n",
       "\\item 'CNAG\\_05113'\n",
       "\\item 'CNAG\\_06035'\n",
       "\\item 'CNAG\\_06313'\n",
       "\\item 'CNAG\\_06628'\n",
       "\\item 'CNAG\\_06699'\n",
       "\\item 'CNAG\\_06770'\n",
       "\\item 'CNAG\\_07004'\n",
       "\\item 'CNAG\\_07316'\n",
       "\\item 'CNAG\\_07559'\n",
       "\\item 'CNAG\\_07660'\n",
       "\\item 'CNAG\\_07745'\n",
       "\\end{enumerate*}\n",
       "\n",
       "\\item[\\$`ec00020 \\textbar{} Citrate cycle (TCA cycle)`] \\begin{enumerate*}\n",
       "\\item 'CNAG\\_00061'\n",
       "\\item 'CNAG\\_00747'\n",
       "\\item 'CNAG\\_01120'\n",
       "\\item 'CNAG\\_01264'\n",
       "\\item 'CNAG\\_01657'\n",
       "\\item 'CNAG\\_01680'\n",
       "\\item 'CNAG\\_02736'\n",
       "\\item 'CNAG\\_03225'\n",
       "\\item 'CNAG\\_03226'\n",
       "\\item 'CNAG\\_03266'\n",
       "\\item 'CNAG\\_03375'\n",
       "\\item 'CNAG\\_03596'\n",
       "\\item 'CNAG\\_03674'\n",
       "\\item 'CNAG\\_03920'\n",
       "\\item 'CNAG\\_04189'\n",
       "\\item 'CNAG\\_04217'\n",
       "\\item 'CNAG\\_04468'\n",
       "\\item 'CNAG\\_04535'\n",
       "\\item 'CNAG\\_04640'\n",
       "\\item 'CNAG\\_05059'\n",
       "\\item 'CNAG\\_05236'\n",
       "\\item 'CNAG\\_05907'\n",
       "\\item 'CNAG\\_07004'\n",
       "\\item 'CNAG\\_07356'\n",
       "\\item 'CNAG\\_07363'\n",
       "\\item 'CNAG\\_07660'\n",
       "\\item 'CNAG\\_07851'\n",
       "\\item 'CNAG\\_07944'\n",
       "\\end{enumerate*}\n",
       "\n",
       "\\end{description}\n"
      ],
      "text/markdown": [
       "$`ec00010 | Glycolysis / Gluconeogenesis`\n",
       ":   1. 'CNAG_00038'\n",
       "2. 'CNAG_00057'\n",
       "3. 'CNAG_00515'\n",
       "4. 'CNAG_00735'\n",
       "5. 'CNAG_00797'\n",
       "6. 'CNAG_01078'\n",
       "7. 'CNAG_01120'\n",
       "8. 'CNAG_01675'\n",
       "9. 'CNAG_01820'\n",
       "10. 'CNAG_01955'\n",
       "11. 'CNAG_02035'\n",
       "12. 'CNAG_02377'\n",
       "13. 'CNAG_02489'\n",
       "14. 'CNAG_02736'\n",
       "15. 'CNAG_02903'\n",
       "16. 'CNAG_03072'\n",
       "17. 'CNAG_03358'\n",
       "18. 'CNAG_03916'\n",
       "19. 'CNAG_04217'\n",
       "20. 'CNAG_04523'\n",
       "21. 'CNAG_04659'\n",
       "22. 'CNAG_04676'\n",
       "23. 'CNAG_05059'\n",
       "24. 'CNAG_05113'\n",
       "25. 'CNAG_06035'\n",
       "26. 'CNAG_06313'\n",
       "27. 'CNAG_06628'\n",
       "28. 'CNAG_06699'\n",
       "29. 'CNAG_06770'\n",
       "30. 'CNAG_07004'\n",
       "31. 'CNAG_07316'\n",
       "32. 'CNAG_07559'\n",
       "33. 'CNAG_07660'\n",
       "34. 'CNAG_07745'\n",
       "\n",
       "\n",
       "\n",
       "$`ec00020 | Citrate cycle (TCA cycle)`\n",
       ":   1. 'CNAG_00061'\n",
       "2. 'CNAG_00747'\n",
       "3. 'CNAG_01120'\n",
       "4. 'CNAG_01264'\n",
       "5. 'CNAG_01657'\n",
       "6. 'CNAG_01680'\n",
       "7. 'CNAG_02736'\n",
       "8. 'CNAG_03225'\n",
       "9. 'CNAG_03226'\n",
       "10. 'CNAG_03266'\n",
       "11. 'CNAG_03375'\n",
       "12. 'CNAG_03596'\n",
       "13. 'CNAG_03674'\n",
       "14. 'CNAG_03920'\n",
       "15. 'CNAG_04189'\n",
       "16. 'CNAG_04217'\n",
       "17. 'CNAG_04468'\n",
       "18. 'CNAG_04535'\n",
       "19. 'CNAG_04640'\n",
       "20. 'CNAG_05059'\n",
       "21. 'CNAG_05236'\n",
       "22. 'CNAG_05907'\n",
       "23. 'CNAG_07004'\n",
       "24. 'CNAG_07356'\n",
       "25. 'CNAG_07363'\n",
       "26. 'CNAG_07660'\n",
       "27. 'CNAG_07851'\n",
       "28. 'CNAG_07944'\n",
       "\n",
       "\n",
       "\n",
       "\n",
       "\n"
      ],
      "text/plain": [
       "$`ec00010 | Glycolysis / Gluconeogenesis`\n",
       " [1] \"CNAG_00038\" \"CNAG_00057\" \"CNAG_00515\" \"CNAG_00735\" \"CNAG_00797\"\n",
       " [6] \"CNAG_01078\" \"CNAG_01120\" \"CNAG_01675\" \"CNAG_01820\" \"CNAG_01955\"\n",
       "[11] \"CNAG_02035\" \"CNAG_02377\" \"CNAG_02489\" \"CNAG_02736\" \"CNAG_02903\"\n",
       "[16] \"CNAG_03072\" \"CNAG_03358\" \"CNAG_03916\" \"CNAG_04217\" \"CNAG_04523\"\n",
       "[21] \"CNAG_04659\" \"CNAG_04676\" \"CNAG_05059\" \"CNAG_05113\" \"CNAG_06035\"\n",
       "[26] \"CNAG_06313\" \"CNAG_06628\" \"CNAG_06699\" \"CNAG_06770\" \"CNAG_07004\"\n",
       "[31] \"CNAG_07316\" \"CNAG_07559\" \"CNAG_07660\" \"CNAG_07745\"\n",
       "\n",
       "$`ec00020 | Citrate cycle (TCA cycle)`\n",
       " [1] \"CNAG_00061\" \"CNAG_00747\" \"CNAG_01120\" \"CNAG_01264\" \"CNAG_01657\"\n",
       " [6] \"CNAG_01680\" \"CNAG_02736\" \"CNAG_03225\" \"CNAG_03226\" \"CNAG_03266\"\n",
       "[11] \"CNAG_03375\" \"CNAG_03596\" \"CNAG_03674\" \"CNAG_03920\" \"CNAG_04189\"\n",
       "[16] \"CNAG_04217\" \"CNAG_04468\" \"CNAG_04535\" \"CNAG_04640\" \"CNAG_05059\"\n",
       "[21] \"CNAG_05236\" \"CNAG_05907\" \"CNAG_07004\" \"CNAG_07356\" \"CNAG_07363\"\n",
       "[26] \"CNAG_07660\" \"CNAG_07851\" \"CNAG_07944\"\n"
      ]
     },
     "metadata": {},
     "output_type": "display_data"
    }
   ],
   "source": [
    "### use str_split to create a list of gene vector\n",
    "lst <- str_split(dat$gene, \"\\\\|\")\n",
    "lst <- lapply(lst, trimws)\n",
    "\n",
    "### assign the pathway name to as the name of the list\n",
    "names(lst) <- dat$label\n",
    "genesets_cne_h99 <- lst\n",
    "\n",
    "### print the results\n",
    "head(genesets_cne_h99, 2)"
   ]
  },
  {
   "cell_type": "markdown",
   "metadata": {},
   "source": [
    "# Gene set analysis"
   ]
  },
  {
   "cell_type": "code",
   "execution_count": 7,
   "metadata": {},
   "outputs": [
    {
     "data": {
      "text/html": [
       "<table>\n",
       "<thead><tr><th></th><th scope=col>A_1</th><th scope=col>A_13</th><th scope=col>A_14</th><th scope=col>A_15</th><th scope=col>A_2</th><th scope=col>A_3</th><th scope=col>B_16</th><th scope=col>B_26</th><th scope=col>B_27</th><th scope=col>B_38</th><th scope=col>⋯</th><th scope=col>G_21</th><th scope=col>G_22</th><th scope=col>G_23</th><th scope=col>G_9</th><th scope=col>H_12</th><th scope=col>H_24</th><th scope=col>H_35</th><th scope=col>H_36</th><th scope=col>H_45</th><th scope=col>H_47</th></tr></thead>\n",
       "<tbody>\n",
       "\t<tr><th scope=row>CNAG_04548</th><td>-0.435914755 </td><td>-0.5274616   </td><td>-0.49034692  </td><td>-0.52654796  </td><td>-0.01818156  </td><td>-0.48860416  </td><td>-0.7122624   </td><td>-0.52744665  </td><td>-0.7102732   </td><td>-0.5933108   </td><td>⋯            </td><td>-0.75721308  </td><td>-0.4911104   </td><td>-0.67904396  </td><td>-7.167824e-01</td><td>-0.72331627  </td><td>-0.58085664  </td><td>-0.3862673   </td><td>-0.2198443   </td><td>-0.4485733   </td><td>-0.6957191   </td></tr>\n",
       "\t<tr><th scope=row>CNAG_07304</th><td> 3.510385611 </td><td> 3.2608655   </td><td> 3.77666300  </td><td> 3.63165025  </td><td> 3.45968273  </td><td> 3.78346071  </td><td> 3.6004613   </td><td> 3.45357394  </td><td> 3.0966625   </td><td> 3.2877154   </td><td>⋯            </td><td> 3.82366668  </td><td> 3.6500694   </td><td> 4.18447867  </td><td> 3.709058e+00</td><td> 3.60820859  </td><td> 3.69199963  </td><td> 3.2994106   </td><td> 3.4888412   </td><td> 3.8258849   </td><td> 3.7629578   </td></tr>\n",
       "\t<tr><th scope=row>CNAG_07305</th><td> 0.005886359 </td><td>-0.0781567   </td><td>-0.04408418  </td><td>-0.07731794  </td><td>-0.01312995  </td><td>-0.04248427  </td><td>-0.1019522   </td><td>-0.07814297  </td><td>-0.2273109   </td><td>-0.1444827   </td><td>⋯            </td><td> 0.09878146  </td><td>-0.1583978   </td><td>-0.03876293  </td><td>-6.897348e-05</td><td> 0.07780108  </td><td> 0.05205749  </td><td>-0.1497903   </td><td>-0.1358253   </td><td> 0.1351662   </td><td>-0.0714855   </td></tr>\n",
       "</tbody>\n",
       "</table>\n"
      ],
      "text/latex": [
       "\\begin{tabular}{r|llllllllllllllllllllllllllllllllllllllllllllllll}\n",
       "  & A\\_1 & A\\_13 & A\\_14 & A\\_15 & A\\_2 & A\\_3 & B\\_16 & B\\_26 & B\\_27 & B\\_38 & ⋯ & G\\_21 & G\\_22 & G\\_23 & G\\_9 & H\\_12 & H\\_24 & H\\_35 & H\\_36 & H\\_45 & H\\_47\\\\\n",
       "\\hline\n",
       "\tCNAG\\_04548 & -0.435914755  & -0.5274616    & -0.49034692   & -0.52654796   & -0.01818156   & -0.48860416   & -0.7122624    & -0.52744665   & -0.7102732    & -0.5933108    & ⋯             & -0.75721308   & -0.4911104    & -0.67904396   & -7.167824e-01 & -0.72331627   & -0.58085664   & -0.3862673    & -0.2198443    & -0.4485733    & -0.6957191   \\\\\n",
       "\tCNAG\\_07304 &  3.510385611  &  3.2608655    &  3.77666300   &  3.63165025   &  3.45968273   &  3.78346071   &  3.6004613    &  3.45357394   &  3.0966625    &  3.2877154    & ⋯             &  3.82366668   &  3.6500694    &  4.18447867   &  3.709058e+00 &  3.60820859   &  3.69199963   &  3.2994106    &  3.4888412    &  3.8258849    &  3.7629578   \\\\\n",
       "\tCNAG\\_07305 &  0.005886359  & -0.0781567    & -0.04408418   & -0.07731794   & -0.01312995   & -0.04248427   & -0.1019522    & -0.07814297   & -0.2273109    & -0.1444827    & ⋯             &  0.09878146   & -0.1583978    & -0.03876293   & -6.897348e-05 &  0.07780108   &  0.05205749   & -0.1497903    & -0.1358253    &  0.1351662    & -0.0714855   \\\\\n",
       "\\end{tabular}\n"
      ],
      "text/markdown": [
       "\n",
       "| <!--/--> | A_1 | A_13 | A_14 | A_15 | A_2 | A_3 | B_16 | B_26 | B_27 | B_38 | ⋯ | G_21 | G_22 | G_23 | G_9 | H_12 | H_24 | H_35 | H_36 | H_45 | H_47 | \n",
       "|---|---|---|\n",
       "| CNAG_04548 | -0.435914755  | -0.5274616    | -0.49034692   | -0.52654796   | -0.01818156   | -0.48860416   | -0.7122624    | -0.52744665   | -0.7102732    | -0.5933108    | ⋯             | -0.75721308   | -0.4911104    | -0.67904396   | -7.167824e-01 | -0.72331627   | -0.58085664   | -0.3862673    | -0.2198443    | -0.4485733    | -0.6957191    | \n",
       "| CNAG_07304 |  3.510385611  |  3.2608655    |  3.77666300   |  3.63165025   |  3.45968273   |  3.78346071   |  3.6004613    |  3.45357394   |  3.0966625    |  3.2877154    | ⋯             |  3.82366668   |  3.6500694    |  4.18447867   |  3.709058e+00 |  3.60820859   |  3.69199963   |  3.2994106    |  3.4888412    |  3.8258849    |  3.7629578    | \n",
       "| CNAG_07305 |  0.005886359  | -0.0781567    | -0.04408418   | -0.07731794   | -0.01312995   | -0.04248427   | -0.1019522    | -0.07814297   | -0.2273109    | -0.1444827    | ⋯             |  0.09878146   | -0.1583978    | -0.03876293   | -6.897348e-05 |  0.07780108   |  0.05205749   | -0.1497903    | -0.1358253    |  0.1351662    | -0.0714855    | \n",
       "\n",
       "\n"
      ],
      "text/plain": [
       "           A_1          A_13       A_14        A_15        A_2        \n",
       "CNAG_04548 -0.435914755 -0.5274616 -0.49034692 -0.52654796 -0.01818156\n",
       "CNAG_07304  3.510385611  3.2608655  3.77666300  3.63165025  3.45968273\n",
       "CNAG_07305  0.005886359 -0.0781567 -0.04408418 -0.07731794 -0.01312995\n",
       "           A_3         B_16       B_26        B_27       B_38       ⋯\n",
       "CNAG_04548 -0.48860416 -0.7122624 -0.52744665 -0.7102732 -0.5933108 ⋯\n",
       "CNAG_07304  3.78346071  3.6004613  3.45357394  3.0966625  3.2877154 ⋯\n",
       "CNAG_07305 -0.04248427 -0.1019522 -0.07814297 -0.2273109 -0.1444827 ⋯\n",
       "           G_21        G_22       G_23        G_9           H_12       \n",
       "CNAG_04548 -0.75721308 -0.4911104 -0.67904396 -7.167824e-01 -0.72331627\n",
       "CNAG_07304  3.82366668  3.6500694  4.18447867  3.709058e+00  3.60820859\n",
       "CNAG_07305  0.09878146 -0.1583978 -0.03876293 -6.897348e-05  0.07780108\n",
       "           H_24        H_35       H_36       H_45       H_47      \n",
       "CNAG_04548 -0.58085664 -0.3862673 -0.2198443 -0.4485733 -0.6957191\n",
       "CNAG_07304  3.69199963  3.2994106  3.4888412  3.8258849  3.7629578\n",
       "CNAG_07305  0.05205749 -0.1497903 -0.1358253  0.1351662 -0.0714855"
      ]
     },
     "metadata": {},
     "output_type": "display_data"
    }
   ],
   "source": [
    "head(assay(rlgexp), 3)"
   ]
  },
  {
   "cell_type": "code",
   "execution_count": 8,
   "metadata": {},
   "outputs": [
    {
     "data": {
      "text/plain": [
       "DataFrame with 48 rows and 11 columns\n",
       "           Label   Strain    Media experiment_person prop.gene prop.nofeat\n",
       "     <character> <factor> <factor>       <character> <numeric>   <numeric>\n",
       "A_1          A_1      H99      YPD              expA 0.6151899  0.03635624\n",
       "A_13        A_13      H99       TC              expA 0.6476637  0.05793771\n",
       "A_14        A_14      H99       TC              expA 0.6270156  0.05659609\n",
       "A_15        A_15      H99       TC              expA 0.6237729  0.06518918\n",
       "A_2          A_2      H99      YPD              expA 0.6145219  0.04734133\n",
       "...          ...      ...      ...               ...       ...         ...\n",
       "H_24        H_24    mar1d       TC              expA 0.6046012   0.3328785\n",
       "H_35        H_35    mar1d      YPD              expB 0.5728180   0.3446321\n",
       "H_36        H_36    mar1d      YPD              expB 0.7068354   0.2421607\n",
       "H_45        H_45    mar1d       TC              expB 0.5427842   0.3771188\n",
       "H_47        H_47    mar1d       TC              expB 0.5127968   0.4197518\n",
       "     prop.unique     depth    Group sizeFactor replaceable\n",
       "       <numeric> <numeric> <factor>  <numeric>   <logical>\n",
       "A_1    0.6515461   3109312   YPDH99 0.08860543        TRUE\n",
       "A_13   0.7056015   2436038    TCH99 0.20425810        TRUE\n",
       "A_14   0.6836117   2802332    TCH99 0.14558838        TRUE\n",
       "A_15   0.6889621   2449520    TCH99 0.20256262        TRUE\n",
       "A_2    0.6618632   2809212   YPDH99 0.10703659        TRUE\n",
       "...          ...       ...      ...        ...         ...\n",
       "H_24   0.9374797 2060578.5  TCmar1d  1.7082312        TRUE\n",
       "H_35   0.9174501  815897.2 YPDmar1d  0.4162370        TRUE\n",
       "H_36   0.9489961 2653638.8 YPDmar1d  1.7245226        TRUE\n",
       "H_45   0.9199030 1318655.5  TCmar1d  0.7195648        TRUE\n",
       "H_47   0.9325486 2037627.0  TCmar1d  1.0424348        TRUE"
      ]
     },
     "metadata": {},
     "output_type": "display_data"
    }
   ],
   "source": [
    "colData(rlgexp)"
   ]
  },
  {
   "cell_type": "markdown",
   "metadata": {},
   "source": [
    "## 01 YPD -> TC in H99"
   ]
  },
  {
   "cell_type": "code",
   "execution_count": 85,
   "metadata": {},
   "outputs": [],
   "source": [
    "rld <- rlgexp\n",
    "gageres_media_h99 <- gage::gage(\n",
    "    assay(rld),\n",
    "    gsets = genesets_cne_h99,\n",
    "    use.fold = FALSE,\n",
    "                      \n",
    "    ### reference condition or phenotype \n",
    "    ### (i.e. the control group) \n",
    "    ref  = which(colData(rld)[[\"Group\"]] == \"YPDH99\"), \n",
    "    \n",
    "    ### a numeric vector of column numbers for \n",
    "    ### the target condition or phenotype \n",
    "    ### (i.e.the experiment group)\n",
    "    samp = which(colData(rld)[[\"Group\"]] == \"TCH99\"),\n",
    "    compare = \"unpaired\",\n",
    "                        \n",
    "    ### he effective gene set size, \n",
    "    ### i.e. the number of genes included in the gene set test\n",
    "    set.size = c(10, 500),\n",
    "                      \n",
    "    ### provide two sided test \"greater\" & \"less\"\n",
    "    same.dir = TRUE)"
   ]
  },
  {
   "cell_type": "markdown",
   "metadata": {},
   "source": [
    "## 02 YPD -> TC in mar1d"
   ]
  },
  {
   "cell_type": "code",
   "execution_count": 86,
   "metadata": {},
   "outputs": [],
   "source": [
    "rld <- rlgexp\n",
    "gageres_media_mar <- gage::gage(\n",
    "    assay(rld),\n",
    "    gsets = genesets_cne_h99,\n",
    "    use.fold = FALSE,\n",
    "                      \n",
    "    ### reference condition or phenotype \n",
    "    ### (i.e. the control group) \n",
    "    ref  = which(colData(rld)[[\"Group\"]] == \"YPDmar1d\"), \n",
    "    \n",
    "    ### a numeric vector of column numbers for \n",
    "    ### the target condition or phenotype \n",
    "    ### (i.e.the experiment group)\n",
    "    samp = which(colData(rld)[[\"Group\"]] == \"TCmar1d\"),\n",
    "    compare = \"unpaired\",\n",
    "                        \n",
    "    ### he effective gene set size, \n",
    "    ### i.e. the number of genes included in the gene set test\n",
    "    set.size = c(10, 500),\n",
    "                      \n",
    "    ### provide two sided test \"greater\" & \"less\"\n",
    "    same.dir = TRUE)"
   ]
  },
  {
   "cell_type": "markdown",
   "metadata": {},
   "source": [
    "## 03 H99 vs mar1d in YPD"
   ]
  },
  {
   "cell_type": "code",
   "execution_count": 87,
   "metadata": {},
   "outputs": [],
   "source": [
    "rld <- rlgexp\n",
    "gageres_strain_ypd <- gage::gage(\n",
    "    assay(rld),\n",
    "    gsets = genesets_cne_h99,\n",
    "    use.fold = FALSE,\n",
    "                      \n",
    "    ### reference condition or phenotype \n",
    "    ### (i.e. the control group) \n",
    "    ref  = which(colData(rld)[[\"Group\"]] == \"YPDH99\"), \n",
    "    \n",
    "    ### a numeric vector of column numbers for \n",
    "    ### the target condition or phenotype \n",
    "    ### (i.e.the experiment group)\n",
    "    samp = which(colData(rld)[[\"Group\"]] == \"YPDmar1d\"),\n",
    "    compare = \"unpaired\",\n",
    "                        \n",
    "    ### he effective gene set size, \n",
    "    ### i.e. the number of genes included in the gene set test\n",
    "    set.size = c(10, 500),\n",
    "                      \n",
    "    ### provide two sided test \"greater\" & \"less\"\n",
    "    same.dir = TRUE)"
   ]
  },
  {
   "cell_type": "markdown",
   "metadata": {},
   "source": [
    "## 04 H99 vs mar1d in TC"
   ]
  },
  {
   "cell_type": "code",
   "execution_count": 88,
   "metadata": {},
   "outputs": [],
   "source": [
    "rld <- rlgexp\n",
    "gageres_strain_tc <- gage::gage(\n",
    "    assay(rld),\n",
    "    gsets = genesets_cne_h99,\n",
    "    use.fold = FALSE,\n",
    "                      \n",
    "    ### reference condition or phenotype \n",
    "    ### (i.e. the control group) \n",
    "    ref  = which(colData(rld)[[\"Group\"]] == \"TCH99\"), \n",
    "    \n",
    "    ### a numeric vector of column numbers for \n",
    "    ### the target condition or phenotype \n",
    "    ### (i.e.the experiment group)\n",
    "    samp = which(colData(rld)[[\"Group\"]] == \"TCmar1d\"),\n",
    "    compare = \"unpaired\",\n",
    "                        \n",
    "    ### he effective gene set size, \n",
    "    ### i.e. the number of genes included in the gene set test\n",
    "    set.size = c(10, 500),\n",
    "                      \n",
    "    ### provide two sided test \"greater\" & \"less\"\n",
    "    same.dir = TRUE)"
   ]
  },
  {
   "cell_type": "markdown",
   "metadata": {},
   "source": [
    "# Store the results"
   ]
  },
  {
   "cell_type": "code",
   "execution_count": 89,
   "metadata": {},
   "outputs": [
    {
     "data": {
      "text/html": [
       "<strong>/shared_space/TA_clint/analysis_output/out/HTS-GroupAll-gage.RData:</strong> 'f52d577446d5e516f336f8787a3f03ff'"
      ],
      "text/latex": [
       "\\textbf{/shared\\textbackslash{}\\_space/TA\\textbackslash{}\\_clint/analysis\\textbackslash{}\\_output/out/HTS-GroupAll-gage.RData:} 'f52d577446d5e516f336f8787a3f03ff'"
      ],
      "text/markdown": [
       "**/shared_space/TA_clint/analysis_output/out/HTS-GroupAll-gage.RData:** 'f52d577446d5e516f336f8787a3f03ff'"
      ],
      "text/plain": [
       "/shared_space/TA_clint/analysis_output/out/HTS-GroupAll-gage.RData \n",
       "                                \"f52d577446d5e516f336f8787a3f03ff\" "
      ]
     },
     "metadata": {},
     "output_type": "display_data"
    }
   ],
   "source": [
    "#outfile <- file.path(OUTDIR, \"HTS-GroupB-DESeq.RData\")\n",
    "outfile <- file.path(OUTDIR, \"HTS-GroupAll-gage.RData\")\n",
    "\n",
    "save(gageres_media_h99,\n",
    "     gageres_media_mar,\n",
    "     gageres_strain_ypd,\n",
    "     gageres_strain_tc,\n",
    "     genesets_cne_h99,\n",
    "     file = outfile)\n",
    "\n",
    "tools::md5sum(outfile)"
   ]
  },
  {
   "cell_type": "markdown",
   "metadata": {},
   "source": [
    "-----"
   ]
  },
  {
   "cell_type": "markdown",
   "metadata": {},
   "source": [
    "# Another section"
   ]
  },
  {
   "cell_type": "code",
   "execution_count": 2,
   "metadata": {},
   "outputs": [],
   "source": [
    "attach(file.path(OUTDIR, \"HTS-GroupAll-gage.RData\"))"
   ]
  },
  {
   "cell_type": "code",
   "execution_count": 1,
   "metadata": {
    "scrolled": true
   },
   "outputs": [
    {
     "name": "stderr",
     "output_type": "stream",
     "text": [
      "Loading tidyverse: ggplot2\n",
      "Loading tidyverse: tibble\n",
      "Loading tidyverse: tidyr\n",
      "Loading tidyverse: readr\n",
      "Loading tidyverse: purrr\n",
      "Loading tidyverse: dplyr\n",
      "Conflicts with tidy packages ---------------------------------------------------\n",
      "filter(): dplyr, stats\n",
      "lag():    dplyr, stats\n",
      "Loading required package: S4Vectors\n",
      "Loading required package: stats4\n",
      "Loading required package: BiocGenerics\n",
      "Loading required package: parallel\n",
      "\n",
      "Attaching package: ‘BiocGenerics’\n",
      "\n",
      "The following objects are masked from ‘package:parallel’:\n",
      "\n",
      "    clusterApply, clusterApplyLB, clusterCall, clusterEvalQ,\n",
      "    clusterExport, clusterMap, parApply, parCapply, parLapply,\n",
      "    parLapplyLB, parRapply, parSapply, parSapplyLB\n",
      "\n",
      "The following objects are masked from ‘package:dplyr’:\n",
      "\n",
      "    combine, intersect, setdiff, union\n",
      "\n",
      "The following objects are masked from ‘package:stats’:\n",
      "\n",
      "    IQR, mad, sd, var, xtabs\n",
      "\n",
      "The following objects are masked from ‘package:base’:\n",
      "\n",
      "    anyDuplicated, append, as.data.frame, cbind, colMeans, colnames,\n",
      "    colSums, do.call, duplicated, eval, evalq, Filter, Find, get, grep,\n",
      "    grepl, intersect, is.unsorted, lapply, lengths, Map, mapply, match,\n",
      "    mget, order, paste, pmax, pmax.int, pmin, pmin.int, Position, rank,\n",
      "    rbind, Reduce, rowMeans, rownames, rowSums, sapply, setdiff, sort,\n",
      "    table, tapply, union, unique, unsplit, which, which.max, which.min\n",
      "\n",
      "\n",
      "Attaching package: ‘S4Vectors’\n",
      "\n",
      "The following objects are masked from ‘package:dplyr’:\n",
      "\n",
      "    first, rename\n",
      "\n",
      "The following object is masked from ‘package:tidyr’:\n",
      "\n",
      "    expand\n",
      "\n",
      "The following object is masked from ‘package:base’:\n",
      "\n",
      "    expand.grid\n",
      "\n",
      "Loading required package: IRanges\n",
      "\n",
      "Attaching package: ‘IRanges’\n",
      "\n",
      "The following objects are masked from ‘package:dplyr’:\n",
      "\n",
      "    collapse, desc, slice\n",
      "\n",
      "The following object is masked from ‘package:purrr’:\n",
      "\n",
      "    reduce\n",
      "\n",
      "Loading required package: GenomicRanges\n",
      "Loading required package: GenomeInfoDb\n",
      "Loading required package: SummarizedExperiment\n",
      "Loading required package: Biobase\n",
      "Welcome to Bioconductor\n",
      "\n",
      "    Vignettes contain introductory material; view with\n",
      "    'browseVignettes()'. To cite Bioconductor, see\n",
      "    'citation(\"Biobase\")', and for packages 'citation(\"pkgname\")'.\n",
      "\n",
      "Loading required package: DelayedArray\n",
      "Loading required package: matrixStats\n",
      "\n",
      "Attaching package: ‘matrixStats’\n",
      "\n",
      "The following objects are masked from ‘package:Biobase’:\n",
      "\n",
      "    anyMissing, rowMedians\n",
      "\n",
      "The following object is masked from ‘package:dplyr’:\n",
      "\n",
      "    count\n",
      "\n",
      "\n",
      "Attaching package: ‘DelayedArray’\n",
      "\n",
      "The following objects are masked from ‘package:matrixStats’:\n",
      "\n",
      "    colMaxs, colMins, colRanges, rowMaxs, rowMins, rowRanges\n",
      "\n",
      "The following object is masked from ‘package:base’:\n",
      "\n",
      "    apply\n",
      "\n",
      "\n",
      "Attaching package: ‘plotly’\n",
      "\n",
      "The following object is masked from ‘package:IRanges’:\n",
      "\n",
      "    slice\n",
      "\n",
      "The following object is masked from ‘package:S4Vectors’:\n",
      "\n",
      "    rename\n",
      "\n",
      "The following object is masked from ‘package:ggplot2’:\n",
      "\n",
      "    last_plot\n",
      "\n",
      "The following object is masked from ‘package:stats’:\n",
      "\n",
      "    filter\n",
      "\n",
      "The following object is masked from ‘package:graphics’:\n",
      "\n",
      "    layout\n",
      "\n"
     ]
    }
   ],
   "source": [
    "source(\"config_path.R\")"
   ]
  },
  {
   "cell_type": "code",
   "execution_count": 3,
   "metadata": {},
   "outputs": [
    {
     "data": {
      "text/html": [
       "<table>\n",
       "<thead><tr><th scope=col>name</th><th scope=col>p.geomean</th><th scope=col>stat.mean</th><th scope=col>p.val</th><th scope=col>q.val</th><th scope=col>set.size</th><th scope=col>exp1</th></tr></thead>\n",
       "<tbody>\n",
       "\t<tr><td>ec00053 | Ascorbate and aldarate metabolism                         </td><td>0.0000531879                                                        </td><td>3.955418                                                            </td><td>0.0000531879                                                        </td><td>0.01565848                                                          </td><td>100                                                                 </td><td>0.0000531879                                                        </td></tr>\n",
       "\t<tr><td>PWY-7734 | quinoxaline-2-carboxylate biosynthesis                   </td><td>0.0001108136                                                        </td><td>3.834143                                                            </td><td>0.0001108136                                                        </td><td>0.01565848                                                          </td><td> 51                                                                 </td><td>0.0001108136                                                        </td></tr>\n",
       "\t<tr><td>ec00051 | Fructose and mannose metabolism                           </td><td>0.0001641801                                                        </td><td>3.655732                                                            </td><td>0.0001641801                                                        </td><td>0.01565848                                                          </td><td>103                                                                 </td><td>0.0001641801                                                        </td></tr>\n",
       "\t<tr><td>PWY-5257 | superpathway of pentose and pentitol degradation         </td><td>0.0001887791                                                        </td><td>3.664700                                                            </td><td>0.0001887791                                                        </td><td>0.01565848                                                          </td><td> 58                                                                 </td><td>0.0001887791                                                        </td></tr>\n",
       "\t<tr><td>SUCROSEUTIL2-PWY | sucrose degradation VII (sucrose 3-dehydrogenase)</td><td>0.0002262420                                                        </td><td>3.632852                                                            </td><td>0.0002262420                                                        </td><td>0.01565848                                                          </td><td> 49                                                                 </td><td>0.0002262420                                                        </td></tr>\n",
       "\t<tr><td>PWY-1121 | suberin monomers biosynthesis                            </td><td>0.0002741080                                                        </td><td>3.581155                                                            </td><td>0.0002741080                                                        </td><td>0.01565848                                                          </td><td> 48                                                                 </td><td>0.0002741080                                                        </td></tr>\n",
       "</tbody>\n",
       "</table>\n"
      ],
      "text/latex": [
       "\\begin{tabular}{r|lllllll}\n",
       " name & p.geomean & stat.mean & p.val & q.val & set.size & exp1\\\\\n",
       "\\hline\n",
       "\t ec00053 \\textbar{} Ascorbate and aldarate metabolism                          & 0.0000531879                                                                   & 3.955418                                                                       & 0.0000531879                                                                   & 0.01565848                                                                     & 100                                                                            & 0.0000531879                                                                  \\\\\n",
       "\t PWY-7734 \\textbar{} quinoxaline-2-carboxylate biosynthesis                    & 0.0001108136                                                                   & 3.834143                                                                       & 0.0001108136                                                                   & 0.01565848                                                                     &  51                                                                            & 0.0001108136                                                                  \\\\\n",
       "\t ec00051 \\textbar{} Fructose and mannose metabolism                            & 0.0001641801                                                                   & 3.655732                                                                       & 0.0001641801                                                                   & 0.01565848                                                                     & 103                                                                            & 0.0001641801                                                                  \\\\\n",
       "\t PWY-5257 \\textbar{} superpathway of pentose and pentitol degradation          & 0.0001887791                                                                   & 3.664700                                                                       & 0.0001887791                                                                   & 0.01565848                                                                     &  58                                                                            & 0.0001887791                                                                  \\\\\n",
       "\t SUCROSEUTIL2-PWY \\textbar{} sucrose degradation VII (sucrose 3-dehydrogenase) & 0.0002262420                                                                   & 3.632852                                                                       & 0.0002262420                                                                   & 0.01565848                                                                     &  49                                                                            & 0.0002262420                                                                  \\\\\n",
       "\t PWY-1121 \\textbar{} suberin monomers biosynthesis                             & 0.0002741080                                                                   & 3.581155                                                                       & 0.0002741080                                                                   & 0.01565848                                                                     &  48                                                                            & 0.0002741080                                                                  \\\\\n",
       "\\end{tabular}\n"
      ],
      "text/markdown": [
       "\n",
       "name | p.geomean | stat.mean | p.val | q.val | set.size | exp1 | \n",
       "|---|---|---|---|---|---|\n",
       "| ec00053 | Ascorbate and aldarate metabolism                          | 0.0000531879                                                         | 3.955418                                                             | 0.0000531879                                                         | 0.01565848                                                           | 100                                                                  | 0.0000531879                                                         | \n",
       "| PWY-7734 | quinoxaline-2-carboxylate biosynthesis                    | 0.0001108136                                                         | 3.834143                                                             | 0.0001108136                                                         | 0.01565848                                                           |  51                                                                  | 0.0001108136                                                         | \n",
       "| ec00051 | Fructose and mannose metabolism                            | 0.0001641801                                                         | 3.655732                                                             | 0.0001641801                                                         | 0.01565848                                                           | 103                                                                  | 0.0001641801                                                         | \n",
       "| PWY-5257 | superpathway of pentose and pentitol degradation          | 0.0001887791                                                         | 3.664700                                                             | 0.0001887791                                                         | 0.01565848                                                           |  58                                                                  | 0.0001887791                                                         | \n",
       "| SUCROSEUTIL2-PWY | sucrose degradation VII (sucrose 3-dehydrogenase) | 0.0002262420                                                         | 3.632852                                                             | 0.0002262420                                                         | 0.01565848                                                           |  49                                                                  | 0.0002262420                                                         | \n",
       "| PWY-1121 | suberin monomers biosynthesis                             | 0.0002741080                                                         | 3.581155                                                             | 0.0002741080                                                         | 0.01565848                                                           |  48                                                                  | 0.0002741080                                                         | \n",
       "\n",
       "\n"
      ],
      "text/plain": [
       "  name                                                                \n",
       "1 ec00053 | Ascorbate and aldarate metabolism                         \n",
       "2 PWY-7734 | quinoxaline-2-carboxylate biosynthesis                   \n",
       "3 ec00051 | Fructose and mannose metabolism                           \n",
       "4 PWY-5257 | superpathway of pentose and pentitol degradation         \n",
       "5 SUCROSEUTIL2-PWY | sucrose degradation VII (sucrose 3-dehydrogenase)\n",
       "6 PWY-1121 | suberin monomers biosynthesis                            \n",
       "  p.geomean    stat.mean p.val        q.val      set.size exp1        \n",
       "1 0.0000531879 3.955418  0.0000531879 0.01565848 100      0.0000531879\n",
       "2 0.0001108136 3.834143  0.0001108136 0.01565848  51      0.0001108136\n",
       "3 0.0001641801 3.655732  0.0001641801 0.01565848 103      0.0001641801\n",
       "4 0.0001887791 3.664700  0.0001887791 0.01565848  58      0.0001887791\n",
       "5 0.0002262420 3.632852  0.0002262420 0.01565848  49      0.0002262420\n",
       "6 0.0002741080 3.581155  0.0002741080 0.01565848  48      0.0002741080"
      ]
     },
     "metadata": {},
     "output_type": "display_data"
    }
   ],
   "source": [
    "gageres_media_h99$greater %>% as.data.frame %>% rownames_to_column(\"name\") %>% head"
   ]
  },
  {
   "cell_type": "code",
   "execution_count": 5,
   "metadata": {},
   "outputs": [],
   "source": [
    "great_media_h99  <- gageres_media_h99[[\"greater\"]]  %>% as.data.frame %>% rownames_to_column(\"name\") %>% filter(q.val < 0.05)\n",
    "great_media_mar  <- gageres_media_mar[[\"greater\"]]  %>% as.data.frame %>% rownames_to_column(\"name\") %>% filter(q.val < 0.05)\n",
    "great_strain_ypd <- gageres_strain_ypd[[\"greater\"]] %>% as.data.frame %>% rownames_to_column(\"name\") %>% filter(q.val < 0.05)\n",
    "great_strain_tc  <- gageres_strain_tc[[\"greater\"]]  %>% as.data.frame %>% rownames_to_column(\"name\") %>% filter(q.val < 0.05)"
   ]
  },
  {
   "cell_type": "code",
   "execution_count": 111,
   "metadata": {},
   "outputs": [
    {
     "data": {
      "text/html": [
       "124"
      ],
      "text/latex": [
       "124"
      ],
      "text/markdown": [
       "124"
      ],
      "text/plain": [
       "[1] 124"
      ]
     },
     "metadata": {},
     "output_type": "display_data"
    },
    {
     "data": {
      "text/html": [
       "146"
      ],
      "text/latex": [
       "146"
      ],
      "text/markdown": [
       "146"
      ],
      "text/plain": [
       "[1] 146"
      ]
     },
     "metadata": {},
     "output_type": "display_data"
    },
    {
     "data": {
      "text/html": [
       "91"
      ],
      "text/latex": [
       "91"
      ],
      "text/markdown": [
       "91"
      ],
      "text/plain": [
       "[1] 91"
      ]
     },
     "metadata": {},
     "output_type": "display_data"
    },
    {
     "data": {
      "text/html": [
       "0"
      ],
      "text/latex": [
       "0"
      ],
      "text/markdown": [
       "0"
      ],
      "text/plain": [
       "[1] 0"
      ]
     },
     "metadata": {},
     "output_type": "display_data"
    }
   ],
   "source": [
    "great_media_h99 %>% nrow\n",
    "great_media_mar %>% nrow\n",
    "great_strain_ypd%>% nrow\n",
    "great_strain_tc%>% nrow"
   ]
  },
  {
   "cell_type": "code",
   "execution_count": null,
   "metadata": {},
   "outputs": [],
   "source": [
    "intersect(great_media_h99, great_media_h99)\n",
    "setdiff(great_media_h99, great_media_h99)\n",
    "setdiff(great_media_h99, great_media_h99)"
   ]
  },
  {
   "cell_type": "code",
   "execution_count": 112,
   "metadata": {},
   "outputs": [],
   "source": [
    "less_media_h99  <- gageres_media_h99[[\"less\"]]  %>% as.data.frame %>% rownames_to_column(\"name\") %>% filter(q.val < 0.05)\n",
    "less_media_mar  <- gageres_media_mar[[\"less\"]]  %>% as.data.frame %>% rownames_to_column(\"name\") %>% filter(q.val < 0.05)\n",
    "less_strain_ypd <- gageres_strain_ypd[[\"less\"]] %>% as.data.frame %>% rownames_to_column(\"name\") %>% filter(q.val < 0.05)\n",
    "less_strain_tc  <- gageres_strain_tc[[\"less\"]]  %>% as.data.frame %>% rownames_to_column(\"name\") %>% filter(q.val < 0.05)"
   ]
  },
  {
   "cell_type": "code",
   "execution_count": 113,
   "metadata": {},
   "outputs": [
    {
     "data": {
      "text/html": [
       "72"
      ],
      "text/latex": [
       "72"
      ],
      "text/markdown": [
       "72"
      ],
      "text/plain": [
       "[1] 72"
      ]
     },
     "metadata": {},
     "output_type": "display_data"
    },
    {
     "data": {
      "text/html": [
       "103"
      ],
      "text/latex": [
       "103"
      ],
      "text/markdown": [
       "103"
      ],
      "text/plain": [
       "[1] 103"
      ]
     },
     "metadata": {},
     "output_type": "display_data"
    },
    {
     "data": {
      "text/html": [
       "0"
      ],
      "text/latex": [
       "0"
      ],
      "text/markdown": [
       "0"
      ],
      "text/plain": [
       "[1] 0"
      ]
     },
     "metadata": {},
     "output_type": "display_data"
    },
    {
     "data": {
      "text/html": [
       "0"
      ],
      "text/latex": [
       "0"
      ],
      "text/markdown": [
       "0"
      ],
      "text/plain": [
       "[1] 0"
      ]
     },
     "metadata": {},
     "output_type": "display_data"
    }
   ],
   "source": [
    "less_media_h99 %>% nrow\n",
    "less_media_mar %>% nrow\n",
    "less_strain_ypd%>% nrow\n",
    "less_strain_tc%>% nrow"
   ]
  },
  {
   "cell_type": "code",
   "execution_count": null,
   "metadata": {},
   "outputs": [],
   "source": []
  },
  {
   "cell_type": "code",
   "execution_count": null,
   "metadata": {},
   "outputs": [],
   "source": []
  },
  {
   "cell_type": "code",
   "execution_count": null,
   "metadata": {},
   "outputs": [],
   "source": []
  },
  {
   "cell_type": "code",
   "execution_count": null,
   "metadata": {},
   "outputs": [],
   "source": []
  },
  {
   "cell_type": "code",
   "execution_count": 115,
   "metadata": {},
   "outputs": [
    {
     "data": {
      "text/html": [
       "<ol class=list-inline>\n",
       "\t<li>'PWY-7483 | elloramycin biosynthesis'</li>\n",
       "\t<li>'PWY-7485 | tetracenomycin C biosynthesis'</li>\n",
       "\t<li>'PWY-7653 | griseofulvin biosynthesis'</li>\n",
       "\t<li>'PWY-5209 | methyl-coenzyme M oxidation to CO&lt;sub&gt;2&lt;/sub&gt;'</li>\n",
       "\t<li>'PWY-5059 | pinobanksin biosynthesis'</li>\n",
       "\t<li>'PWY-7235 | superpathway of ubiquinol-6 biosynthesis (eukaryotic)'</li>\n",
       "\t<li>'PWY-7230 | ubiquinol-6 biosynthesis from 4-aminobenzoate (eukaryotic)'</li>\n",
       "\t<li>'PWY-7233 | ubiquinol-6 bypass biosynthesis (eukaryotic)'</li>\n",
       "\t<li>'PWY-7298 | nevadensin biosynthesis'</li>\n",
       "\t<li>'PWY-5305 | bixin biosynthesis'</li>\n",
       "\t<li>'PWY-6339 | syringate degradation'</li>\n",
       "\t<li>'PWY-7659 | viridicatumtoxin biosynthesis'</li>\n",
       "\t<li>'PWY-5290 | secologanin and strictosidine biosynthesis'</li>\n",
       "\t<li>'PWY-6978 | plastoquinol-9 biosynthesis II'</li>\n",
       "\t<li>'PWY-5287 | sanguinarine and macarpine biosynthesis'</li>\n",
       "\t<li>'PWY-5773 | gossypol biosynthesis'</li>\n",
       "\t<li>'PWY-601 | glucosinolate biosynthesis from tryptophan'</li>\n",
       "\t<li>'PWY-7325 | salvigenin biosynthesis'</li>\n",
       "\t<li>'PWY-7607 | meleagrin biosynthesis'</li>\n",
       "\t<li>'PWY-7608 | neoxaline biosynthesis'</li>\n",
       "\t<li>'PWY-7629 | yatein biosynthesis II'</li>\n",
       "\t<li>'PWY-7739 | aucuparin biosynthesis'</li>\n",
       "\t<li>'PWY-6736 | sulfur volatiles biosynthesis'</li>\n",
       "\t<li>'ec00340 | Histidine metabolism'</li>\n",
       "\t<li>'PWY-7826 | &lt;i&gt;Amaryllidacea&lt;/i&gt; alkaloids biosynthesis'</li>\n",
       "\t<li>'ERGOSTEROL-SYN-PWY | superpathway of ergosterol biosynthesis I'</li>\n",
       "\t<li>'PWY0-162 | superpathway of pyrimidine ribonucleotides &lt;i&gt;de novo&lt;/i&gt; biosynthesis'</li>\n",
       "\t<li>'PWY-5975 | furaneol biosynthesis'</li>\n",
       "\t<li>'PWY-7735 | echinomycin and triostin A biosynthesis'</li>\n",
       "\t<li>'PWY-7737 | thiocoraline biosynthesis'</li>\n",
       "\t<li>'PWY-7517 | brassicicene C biosynthesis'</li>\n",
       "\t<li>'PWY-6126 | superpathway of adenosine nucleotides &lt;i&gt;de novo&lt;/i&gt; biosynthesis II'</li>\n",
       "\t<li>'PWY-7229 | superpathway of adenosine nucleotides &lt;i&gt;de novo&lt;/i&gt; biosynthesis I'</li>\n",
       "</ol>\n"
      ],
      "text/latex": [
       "\\begin{enumerate*}\n",
       "\\item 'PWY-7483 \\textbar{} elloramycin biosynthesis'\n",
       "\\item 'PWY-7485 \\textbar{} tetracenomycin C biosynthesis'\n",
       "\\item 'PWY-7653 \\textbar{} griseofulvin biosynthesis'\n",
       "\\item 'PWY-5209 \\textbar{} methyl-coenzyme M oxidation to CO<sub>2</sub>'\n",
       "\\item 'PWY-5059 \\textbar{} pinobanksin biosynthesis'\n",
       "\\item 'PWY-7235 \\textbar{} superpathway of ubiquinol-6 biosynthesis (eukaryotic)'\n",
       "\\item 'PWY-7230 \\textbar{} ubiquinol-6 biosynthesis from 4-aminobenzoate (eukaryotic)'\n",
       "\\item 'PWY-7233 \\textbar{} ubiquinol-6 bypass biosynthesis (eukaryotic)'\n",
       "\\item 'PWY-7298 \\textbar{} nevadensin biosynthesis'\n",
       "\\item 'PWY-5305 \\textbar{} bixin biosynthesis'\n",
       "\\item 'PWY-6339 \\textbar{} syringate degradation'\n",
       "\\item 'PWY-7659 \\textbar{} viridicatumtoxin biosynthesis'\n",
       "\\item 'PWY-5290 \\textbar{} secologanin and strictosidine biosynthesis'\n",
       "\\item 'PWY-6978 \\textbar{} plastoquinol-9 biosynthesis II'\n",
       "\\item 'PWY-5287 \\textbar{} sanguinarine and macarpine biosynthesis'\n",
       "\\item 'PWY-5773 \\textbar{} gossypol biosynthesis'\n",
       "\\item 'PWY-601 \\textbar{} glucosinolate biosynthesis from tryptophan'\n",
       "\\item 'PWY-7325 \\textbar{} salvigenin biosynthesis'\n",
       "\\item 'PWY-7607 \\textbar{} meleagrin biosynthesis'\n",
       "\\item 'PWY-7608 \\textbar{} neoxaline biosynthesis'\n",
       "\\item 'PWY-7629 \\textbar{} yatein biosynthesis II'\n",
       "\\item 'PWY-7739 \\textbar{} aucuparin biosynthesis'\n",
       "\\item 'PWY-6736 \\textbar{} sulfur volatiles biosynthesis'\n",
       "\\item 'ec00340 \\textbar{} Histidine metabolism'\n",
       "\\item 'PWY-7826 \\textbar{} <i>Amaryllidacea</i> alkaloids biosynthesis'\n",
       "\\item 'ERGOSTEROL-SYN-PWY \\textbar{} superpathway of ergosterol biosynthesis I'\n",
       "\\item 'PWY0-162 \\textbar{} superpathway of pyrimidine ribonucleotides <i>de novo</i> biosynthesis'\n",
       "\\item 'PWY-5975 \\textbar{} furaneol biosynthesis'\n",
       "\\item 'PWY-7735 \\textbar{} echinomycin and triostin A biosynthesis'\n",
       "\\item 'PWY-7737 \\textbar{} thiocoraline biosynthesis'\n",
       "\\item 'PWY-7517 \\textbar{} brassicicene C biosynthesis'\n",
       "\\item 'PWY-6126 \\textbar{} superpathway of adenosine nucleotides <i>de novo</i> biosynthesis II'\n",
       "\\item 'PWY-7229 \\textbar{} superpathway of adenosine nucleotides <i>de novo</i> biosynthesis I'\n",
       "\\end{enumerate*}\n"
      ],
      "text/markdown": [
       "1. 'PWY-7483 | elloramycin biosynthesis'\n",
       "2. 'PWY-7485 | tetracenomycin C biosynthesis'\n",
       "3. 'PWY-7653 | griseofulvin biosynthesis'\n",
       "4. 'PWY-5209 | methyl-coenzyme M oxidation to CO&lt;sub&gt;2&lt;/sub&gt;'\n",
       "5. 'PWY-5059 | pinobanksin biosynthesis'\n",
       "6. 'PWY-7235 | superpathway of ubiquinol-6 biosynthesis (eukaryotic)'\n",
       "7. 'PWY-7230 | ubiquinol-6 biosynthesis from 4-aminobenzoate (eukaryotic)'\n",
       "8. 'PWY-7233 | ubiquinol-6 bypass biosynthesis (eukaryotic)'\n",
       "9. 'PWY-7298 | nevadensin biosynthesis'\n",
       "10. 'PWY-5305 | bixin biosynthesis'\n",
       "11. 'PWY-6339 | syringate degradation'\n",
       "12. 'PWY-7659 | viridicatumtoxin biosynthesis'\n",
       "13. 'PWY-5290 | secologanin and strictosidine biosynthesis'\n",
       "14. 'PWY-6978 | plastoquinol-9 biosynthesis II'\n",
       "15. 'PWY-5287 | sanguinarine and macarpine biosynthesis'\n",
       "16. 'PWY-5773 | gossypol biosynthesis'\n",
       "17. 'PWY-601 | glucosinolate biosynthesis from tryptophan'\n",
       "18. 'PWY-7325 | salvigenin biosynthesis'\n",
       "19. 'PWY-7607 | meleagrin biosynthesis'\n",
       "20. 'PWY-7608 | neoxaline biosynthesis'\n",
       "21. 'PWY-7629 | yatein biosynthesis II'\n",
       "22. 'PWY-7739 | aucuparin biosynthesis'\n",
       "23. 'PWY-6736 | sulfur volatiles biosynthesis'\n",
       "24. 'ec00340 | Histidine metabolism'\n",
       "25. 'PWY-7826 | &lt;i&gt;Amaryllidacea&lt;/i&gt; alkaloids biosynthesis'\n",
       "26. 'ERGOSTEROL-SYN-PWY | superpathway of ergosterol biosynthesis I'\n",
       "27. 'PWY0-162 | superpathway of pyrimidine ribonucleotides &lt;i&gt;de novo&lt;/i&gt; biosynthesis'\n",
       "28. 'PWY-5975 | furaneol biosynthesis'\n",
       "29. 'PWY-7735 | echinomycin and triostin A biosynthesis'\n",
       "30. 'PWY-7737 | thiocoraline biosynthesis'\n",
       "31. 'PWY-7517 | brassicicene C biosynthesis'\n",
       "32. 'PWY-6126 | superpathway of adenosine nucleotides &lt;i&gt;de novo&lt;/i&gt; biosynthesis II'\n",
       "33. 'PWY-7229 | superpathway of adenosine nucleotides &lt;i&gt;de novo&lt;/i&gt; biosynthesis I'\n",
       "\n",
       "\n"
      ],
      "text/plain": [
       " [1] \"PWY-7483 | elloramycin biosynthesis\"                                              \n",
       " [2] \"PWY-7485 | tetracenomycin C biosynthesis\"                                         \n",
       " [3] \"PWY-7653 | griseofulvin biosynthesis\"                                             \n",
       " [4] \"PWY-5209 | methyl-coenzyme M oxidation to CO<sub>2</sub>\"                         \n",
       " [5] \"PWY-5059 | pinobanksin biosynthesis\"                                              \n",
       " [6] \"PWY-7235 | superpathway of ubiquinol-6 biosynthesis (eukaryotic)\"                 \n",
       " [7] \"PWY-7230 | ubiquinol-6 biosynthesis from 4-aminobenzoate (eukaryotic)\"            \n",
       " [8] \"PWY-7233 | ubiquinol-6 bypass biosynthesis (eukaryotic)\"                          \n",
       " [9] \"PWY-7298 | nevadensin biosynthesis\"                                               \n",
       "[10] \"PWY-5305 | bixin biosynthesis\"                                                    \n",
       "[11] \"PWY-6339 | syringate degradation\"                                                 \n",
       "[12] \"PWY-7659 | viridicatumtoxin biosynthesis\"                                         \n",
       "[13] \"PWY-5290 | secologanin and strictosidine biosynthesis\"                            \n",
       "[14] \"PWY-6978 | plastoquinol-9 biosynthesis II\"                                        \n",
       "[15] \"PWY-5287 | sanguinarine and macarpine biosynthesis\"                               \n",
       "[16] \"PWY-5773 | gossypol biosynthesis\"                                                 \n",
       "[17] \"PWY-601 | glucosinolate biosynthesis from tryptophan\"                             \n",
       "[18] \"PWY-7325 | salvigenin biosynthesis\"                                               \n",
       "[19] \"PWY-7607 | meleagrin biosynthesis\"                                                \n",
       "[20] \"PWY-7608 | neoxaline biosynthesis\"                                                \n",
       "[21] \"PWY-7629 | yatein biosynthesis II\"                                                \n",
       "[22] \"PWY-7739 | aucuparin biosynthesis\"                                                \n",
       "[23] \"PWY-6736 | sulfur volatiles biosynthesis\"                                         \n",
       "[24] \"ec00340 | Histidine metabolism\"                                                   \n",
       "[25] \"PWY-7826 | <i>Amaryllidacea</i> alkaloids biosynthesis\"                           \n",
       "[26] \"ERGOSTEROL-SYN-PWY | superpathway of ergosterol biosynthesis I\"                   \n",
       "[27] \"PWY0-162 | superpathway of pyrimidine ribonucleotides <i>de novo</i> biosynthesis\"\n",
       "[28] \"PWY-5975 | furaneol biosynthesis\"                                                 \n",
       "[29] \"PWY-7735 | echinomycin and triostin A biosynthesis\"                               \n",
       "[30] \"PWY-7737 | thiocoraline biosynthesis\"                                             \n",
       "[31] \"PWY-7517 | brassicicene C biosynthesis\"                                           \n",
       "[32] \"PWY-6126 | superpathway of adenosine nucleotides <i>de novo</i> biosynthesis II\"  \n",
       "[33] \"PWY-7229 | superpathway of adenosine nucleotides <i>de novo</i> biosynthesis I\"   "
      ]
     },
     "metadata": {},
     "output_type": "display_data"
    }
   ],
   "source": [
    "setdiff(less_media_mar$name, less_media_h99$name)"
   ]
  },
  {
   "cell_type": "code",
   "execution_count": 114,
   "metadata": {},
   "outputs": [
    {
     "data": {
      "text/html": [
       "<ol class=list-inline>\n",
       "\t<li>'PWY-3001 | superpathway of L-isoleucine biosynthesis I'</li>\n",
       "\t<li>'ARG+POLYAMINE-SYN | superpathway of arginine and polyamine biosynthesis'</li>\n",
       "</ol>\n"
      ],
      "text/latex": [
       "\\begin{enumerate*}\n",
       "\\item 'PWY-3001 \\textbar{} superpathway of L-isoleucine biosynthesis I'\n",
       "\\item 'ARG+POLYAMINE-SYN \\textbar{} superpathway of arginine and polyamine biosynthesis'\n",
       "\\end{enumerate*}\n"
      ],
      "text/markdown": [
       "1. 'PWY-3001 | superpathway of L-isoleucine biosynthesis I'\n",
       "2. 'ARG+POLYAMINE-SYN | superpathway of arginine and polyamine biosynthesis'\n",
       "\n",
       "\n"
      ],
      "text/plain": [
       "[1] \"PWY-3001 | superpathway of L-isoleucine biosynthesis I\"                 \n",
       "[2] \"ARG+POLYAMINE-SYN | superpathway of arginine and polyamine biosynthesis\""
      ]
     },
     "metadata": {},
     "output_type": "display_data"
    }
   ],
   "source": [
    "setdiff(less_media_h99$name, less_media_mar$name)"
   ]
  },
  {
   "cell_type": "code",
   "execution_count": null,
   "metadata": {},
   "outputs": [],
   "source": []
  },
  {
   "cell_type": "code",
   "execution_count": 4,
   "metadata": {},
   "outputs": [
    {
     "ename": "ERROR",
     "evalue": "Error in parse(text = x, srcfile = src): <text>:1:2: unexpected assignment\n1:  <-\n     ^\n",
     "output_type": "error",
     "traceback": [
      "Error in parse(text = x, srcfile = src): <text>:1:2: unexpected assignment\n1:  <-\n     ^\nTraceback:\n"
     ]
    }
   ],
   "source": [
    " <- gageres_media_h99[[\"less\"]]  %>% as.data.frame %>% rownames_to_column(\"name\") %>% filter(p.val < 0.05)\n",
    "tmp2 <- gageres_media_mar[[\"less\"]]  %>% as.data.frame %>% rownames_to_column(\"name\") %>% filter(p.val < 0.05)\n",
    "less_strain_ypd <- gageres_strain_ypd[[\"less\"]] %>% as.data.frame %>% rownames_to_column(\"name\") %>% filter(p.val < 0.05)\n",
    "less_strain_tc  <- gageres_strain_tc[[\"less\"]]  %>% as.data.frame %>% rownames_to_column(\"name\") %>% filter(p.val < 0.05)"
   ]
  },
  {
   "cell_type": "code",
   "execution_count": 109,
   "metadata": {},
   "outputs": [
    {
     "data": {
      "text/html": [
       "<table>\n",
       "<thead><tr><th></th><th scope=col>p.geomean</th><th scope=col>stat.mean</th><th scope=col>p.val</th><th scope=col>q.val</th><th scope=col>set.size</th><th scope=col>exp1</th></tr></thead>\n",
       "<tbody>\n",
       "\t<tr><th scope=row>PWY-6848 | rutin degradation</th><td>0.006328451</td><td>-2.572474  </td><td>0.006328451</td><td>0.4794867  </td><td> 31        </td><td>0.006328451</td></tr>\n",
       "\t<tr><th scope=row>PWY-7018 | paromomycin biosynthesis</th><td>0.007485135</td><td>-2.485476  </td><td>0.007485135</td><td>0.4794867  </td><td> 42        </td><td>0.007485135</td></tr>\n",
       "\t<tr><th scope=row>ec00051 | Fructose and mannose metabolism</th><td>0.007499368</td><td>-2.453300  </td><td>0.007499368</td><td>0.4794867  </td><td>103        </td><td>0.007499368</td></tr>\n",
       "\t<tr><th scope=row>PWY-6527 | stachyose degradation</th><td>0.007587231</td><td>-2.526977  </td><td>0.007587231</td><td>0.4794867  </td><td> 23        </td><td>0.007587231</td></tr>\n",
       "\t<tr><th scope=row>ec00561 | Glycerolipid metabolism</th><td>0.008605073</td><td>-2.438642  </td><td>0.008605073</td><td>0.4794867  </td><td> 37        </td><td>0.008605073</td></tr>\n",
       "\t<tr><th scope=row>ec00500 | Starch and sucrose metabolism</th><td>0.012177318</td><td>-2.300193  </td><td>0.012177318</td><td>0.4794867  </td><td> 41        </td><td>0.012177318</td></tr>\n",
       "</tbody>\n",
       "</table>\n"
      ],
      "text/latex": [
       "\\begin{tabular}{r|llllll}\n",
       "  & p.geomean & stat.mean & p.val & q.val & set.size & exp1\\\\\n",
       "\\hline\n",
       "\tPWY-6848 \\textbar{} rutin degradation & 0.006328451 & -2.572474   & 0.006328451 & 0.4794867   &  31         & 0.006328451\\\\\n",
       "\tPWY-7018 \\textbar{} paromomycin biosynthesis & 0.007485135 & -2.485476   & 0.007485135 & 0.4794867   &  42         & 0.007485135\\\\\n",
       "\tec00051 \\textbar{} Fructose and mannose metabolism & 0.007499368 & -2.453300   & 0.007499368 & 0.4794867   & 103         & 0.007499368\\\\\n",
       "\tPWY-6527 \\textbar{} stachyose degradation & 0.007587231 & -2.526977   & 0.007587231 & 0.4794867   &  23         & 0.007587231\\\\\n",
       "\tec00561 \\textbar{} Glycerolipid metabolism & 0.008605073 & -2.438642   & 0.008605073 & 0.4794867   &  37         & 0.008605073\\\\\n",
       "\tec00500 \\textbar{} Starch and sucrose metabolism & 0.012177318 & -2.300193   & 0.012177318 & 0.4794867   &  41         & 0.012177318\\\\\n",
       "\\end{tabular}\n"
      ],
      "text/markdown": [
       "\n",
       "| <!--/--> | p.geomean | stat.mean | p.val | q.val | set.size | exp1 | \n",
       "|---|---|---|---|---|---|\n",
       "| PWY-6848 | rutin degradation | 0.006328451 | -2.572474   | 0.006328451 | 0.4794867   |  31         | 0.006328451 | \n",
       "| PWY-7018 | paromomycin biosynthesis | 0.007485135 | -2.485476   | 0.007485135 | 0.4794867   |  42         | 0.007485135 | \n",
       "| ec00051 | Fructose and mannose metabolism | 0.007499368 | -2.453300   | 0.007499368 | 0.4794867   | 103         | 0.007499368 | \n",
       "| PWY-6527 | stachyose degradation | 0.007587231 | -2.526977   | 0.007587231 | 0.4794867   |  23         | 0.007587231 | \n",
       "| ec00561 | Glycerolipid metabolism | 0.008605073 | -2.438642   | 0.008605073 | 0.4794867   |  37         | 0.008605073 | \n",
       "| ec00500 | Starch and sucrose metabolism | 0.012177318 | -2.300193   | 0.012177318 | 0.4794867   |  41         | 0.012177318 | \n",
       "\n",
       "\n"
      ],
      "text/plain": [
       "                                          p.geomean   stat.mean p.val      \n",
       "PWY-6848 | rutin degradation              0.006328451 -2.572474 0.006328451\n",
       "PWY-7018 | paromomycin biosynthesis       0.007485135 -2.485476 0.007485135\n",
       "ec00051 | Fructose and mannose metabolism 0.007499368 -2.453300 0.007499368\n",
       "PWY-6527 | stachyose degradation          0.007587231 -2.526977 0.007587231\n",
       "ec00561 | Glycerolipid metabolism         0.008605073 -2.438642 0.008605073\n",
       "ec00500 | Starch and sucrose metabolism   0.012177318 -2.300193 0.012177318\n",
       "                                          q.val     set.size exp1       \n",
       "PWY-6848 | rutin degradation              0.4794867  31      0.006328451\n",
       "PWY-7018 | paromomycin biosynthesis       0.4794867  42      0.007485135\n",
       "ec00051 | Fructose and mannose metabolism 0.4794867 103      0.007499368\n",
       "PWY-6527 | stachyose degradation          0.4794867  23      0.007587231\n",
       "ec00561 | Glycerolipid metabolism         0.4794867  37      0.008605073\n",
       "ec00500 | Starch and sucrose metabolism   0.4794867  41      0.012177318"
      ]
     },
     "metadata": {},
     "output_type": "display_data"
    }
   ],
   "source": [
    "head(gageres_strain_ypd[[\"less\"]])"
   ]
  },
  {
   "cell_type": "code",
   "execution_count": 106,
   "metadata": {},
   "outputs": [
    {
     "data": {
      "image/png": "[encoded data removed]",
      "text/plain": [
       "plot without title"
      ]
     },
     "metadata": {},
     "output_type": "display_data"
    }
   ],
   "source": [
    "tmp <- tmp3 %>% mutate(neglog10pval = -log10(p.val)) %>% arrange(desc(neglog10pval))\n",
    "tmp$name <- factor(tmp$name, levels = tmp$name)\n",
    "gp <- ggplot(tmp, aes(x = name, y = neglog10pval)) + geom_bar(stat=\"identity\") + scale_y_reverse() + coord_flip() + theme_bw() + labs(x = \"-log10(p value)\")\n",
    "print(gp)"
   ]
  },
  {
   "cell_type": "code",
   "execution_count": 94,
   "metadata": {},
   "outputs": [
    {
     "data": {
      "text/html": [
       "<table>\n",
       "<thead><tr><th scope=col>name</th><th scope=col>p.geomean</th><th scope=col>stat.mean</th><th scope=col>p.val</th><th scope=col>q.val</th><th scope=col>set.size</th><th scope=col>exp1</th></tr></thead>\n",
       "<tbody>\n",
       "\t<tr><td>PWY-6848 | rutin degradation                                         </td><td>0.006328451                                                          </td><td>-2.572474                                                            </td><td>0.006328451                                                          </td><td>0.4794867                                                            </td><td> 31                                                                  </td><td>0.006328451                                                          </td></tr>\n",
       "\t<tr><td>PWY-7018 | paromomycin biosynthesis                                  </td><td>0.007485135                                                          </td><td>-2.485476                                                            </td><td>0.007485135                                                          </td><td>0.4794867                                                            </td><td> 42                                                                  </td><td>0.007485135                                                          </td></tr>\n",
       "\t<tr><td>ec00051 | Fructose and mannose metabolism                            </td><td>0.007499368                                                          </td><td>-2.453300                                                            </td><td>0.007499368                                                          </td><td>0.4794867                                                            </td><td>103                                                                  </td><td>0.007499368                                                          </td></tr>\n",
       "\t<tr><td>PWY-6527 | stachyose degradation                                     </td><td>0.007587231                                                          </td><td>-2.526977                                                            </td><td>0.007587231                                                          </td><td>0.4794867                                                            </td><td> 23                                                                  </td><td>0.007587231                                                          </td></tr>\n",
       "\t<tr><td>ec00561 | Glycerolipid metabolism                                    </td><td>0.008605073                                                          </td><td>-2.438642                                                            </td><td>0.008605073                                                          </td><td>0.4794867                                                            </td><td> 37                                                                  </td><td>0.008605073                                                          </td></tr>\n",
       "\t<tr><td>ec00500 | Starch and sucrose metabolism                              </td><td>0.012177318                                                          </td><td>-2.300193                                                            </td><td>0.012177318                                                          </td><td>0.4794867                                                            </td><td> 41                                                                  </td><td>0.012177318                                                          </td></tr>\n",
       "\t<tr><td>PWY-6906 | chitin derivatives degradation                            </td><td>0.013011827                                                          </td><td>-2.344862                                                            </td><td>0.013011827                                                          </td><td>0.4794867                                                            </td><td> 16                                                                  </td><td>0.013011827                                                          </td></tr>\n",
       "\t<tr><td>ec00760 | Nicotinate and nicotinamide metabolism                     </td><td>0.013294381                                                          </td><td>-2.262702                                                            </td><td>0.013294381                                                          </td><td>0.4794867                                                            </td><td> 38                                                                  </td><td>0.013294381                                                          </td></tr>\n",
       "\t<tr><td>ec00982 | Drug metabolism - cytochrome P450                          </td><td>0.014026814                                                          </td><td>-2.271897                                                            </td><td>0.014026814                                                          </td><td>0.4794867                                                            </td><td> 23                                                                  </td><td>0.014026814                                                          </td></tr>\n",
       "\t<tr><td>PWY-7118 | chitin degradation to ethanol                             </td><td>0.017209084                                                          </td><td>-2.209652                                                            </td><td>0.017209084                                                          </td><td>0.4794867                                                            </td><td> 17                                                                  </td><td>0.017209084                                                          </td></tr>\n",
       "\t<tr><td>PWY-7294 | xylose degradation IV                                     </td><td>0.017344487                                                          </td><td>-2.190877                                                            </td><td>0.017344487                                                          </td><td>0.4794867                                                            </td><td> 20                                                                  </td><td>0.017344487                                                          </td></tr>\n",
       "\t<tr><td>PWY-7771 | butachlor degradation                                     </td><td>0.017882814                                                          </td><td>-2.163150                                                            </td><td>0.017882814                                                          </td><td>0.4794867                                                            </td><td> 24                                                                  </td><td>0.017882814                                                          </td></tr>\n",
       "\t<tr><td>PWY-7139 | sesaminol glucoside biosynthesis                          </td><td>0.019022363                                                          </td><td>-2.096805                                                            </td><td>0.019022363                                                          </td><td>0.4794867                                                            </td><td> 63                                                                  </td><td>0.019022363                                                          </td></tr>\n",
       "\t<tr><td>ec00980 | Metabolism of xenobiotics by cytochrome P450               </td><td>0.019661485                                                          </td><td>-2.118642                                                            </td><td>0.019661485                                                          </td><td>0.4794867                                                            </td><td> 25                                                                  </td><td>0.019661485                                                          </td></tr>\n",
       "\t<tr><td>PWY-6855 | chitin degradation I (archaea)                            </td><td>0.022431537                                                          </td><td>-2.060965                                                            </td><td>0.022431537                                                          </td><td>0.4794867                                                            </td><td> 27                                                                  </td><td>0.022431537                                                          </td></tr>\n",
       "\t<tr><td>PWY0-301 | L-ascorbate degradation I (bacterial, anaerobic)          </td><td>0.023852132                                                          </td><td>-2.054471                                                            </td><td>0.023852132                                                          </td><td>0.4794867                                                            </td><td> 18                                                                  </td><td>0.023852132                                                          </td></tr>\n",
       "\t<tr><td>PWY-6317 | D-galactose degradation I (Leloir pathway)                </td><td>0.025162694                                                          </td><td>-2.111714                                                            </td><td>0.025162694                                                          </td><td>0.4794867                                                            </td><td> 10                                                                  </td><td>0.025162694                                                          </td></tr>\n",
       "\t<tr><td>PWY66-422 | D-galactose degradation V (Leloir pathway)               </td><td>0.025162694                                                          </td><td>-2.111714                                                            </td><td>0.025162694                                                          </td><td>0.4794867                                                            </td><td> 10                                                                  </td><td>0.025162694                                                          </td></tr>\n",
       "\t<tr><td>PWY-6415 | L-ascorbate biosynthesis V                                </td><td>0.025428973                                                          </td><td>-2.021137                                                            </td><td>0.025428973                                                          </td><td>0.4794867                                                            </td><td> 19                                                                  </td><td>0.025428973                                                          </td></tr>\n",
       "\t<tr><td>PWY-7074 | phenylethanol glycoconjugate biosynthesis                 </td><td>0.025529191                                                          </td><td>-1.995454                                                            </td><td>0.025529191                                                          </td><td>0.4794867                                                            </td><td> 29                                                                  </td><td>0.025529191                                                          </td></tr>\n",
       "\t<tr><td>PWY-7491 | podophyllotoxin glucosides metabolism                     </td><td>0.025529191                                                          </td><td>-1.995454                                                            </td><td>0.025529191                                                          </td><td>0.4794867                                                            </td><td> 29                                                                  </td><td>0.025529191                                                          </td></tr>\n",
       "\t<tr><td>PWY-5784 | indole-3-acetate conjugate biosynthesis II                </td><td>0.027894856                                                          </td><td>-1.957156                                                            </td><td>0.027894856                                                          </td><td>0.4794867                                                            </td><td> 27                                                                  </td><td>0.027894856                                                          </td></tr>\n",
       "\t<tr><td>PWY-6368 | 3-phosphoinositide degradation                            </td><td>0.028519060                                                          </td><td>-1.980756                                                            </td><td>0.028519060                                                          </td><td>0.4794867                                                            </td><td> 16                                                                  </td><td>0.028519060                                                          </td></tr>\n",
       "\t<tr><td>CYCLOHEXANOL-OXIDATION-PWY | cyclohexanol degradation                </td><td>0.030513314                                                          </td><td>-1.946391                                                            </td><td>0.030513314                                                          </td><td>0.4794867                                                            </td><td> 16                                                                  </td><td>0.030513314                                                          </td></tr>\n",
       "\t<tr><td>PWY-1921 | indole-3-acetate activation II                            </td><td>0.030513314                                                          </td><td>-1.946391                                                            </td><td>0.030513314                                                          </td><td>0.4794867                                                            </td><td> 16                                                                  </td><td>0.030513314                                                          </td></tr>\n",
       "\t<tr><td>PWY-5835 | geranyl acetate biosynthesis                              </td><td>0.030513314                                                          </td><td>-1.946391                                                            </td><td>0.030513314                                                          </td><td>0.4794867                                                            </td><td> 16                                                                  </td><td>0.030513314                                                          </td></tr>\n",
       "\t<tr><td>PWY-6429 | ricinoleate biosynthesis                                  </td><td>0.030513314                                                          </td><td>-1.946391                                                            </td><td>0.030513314                                                          </td><td>0.4794867                                                            </td><td> 16                                                                  </td><td>0.030513314                                                          </td></tr>\n",
       "\t<tr><td>PWY-6558 | heparan sulfate biosynthesis (late stages)                </td><td>0.030513314                                                          </td><td>-1.946391                                                            </td><td>0.030513314                                                          </td><td>0.4794867                                                            </td><td> 16                                                                  </td><td>0.030513314                                                          </td></tr>\n",
       "\t<tr><td>PWY-6564 | heparan sulfate biosynthesis                              </td><td>0.030513314                                                          </td><td>-1.946391                                                            </td><td>0.030513314                                                          </td><td>0.4794867                                                            </td><td> 16                                                                  </td><td>0.030513314                                                          </td></tr>\n",
       "\t<tr><td>PWY-6760 | xylose degradation III                                    </td><td>0.030513314                                                          </td><td>-1.946391                                                            </td><td>0.030513314                                                          </td><td>0.4794867                                                            </td><td> 16                                                                  </td><td>0.030513314                                                          </td></tr>\n",
       "\t<tr><td>PWY-7002 | 4-hydroxyacetophenone degradation                         </td><td>0.030513314                                                          </td><td>-1.946391                                                            </td><td>0.030513314                                                          </td><td>0.4794867                                                            </td><td> 16                                                                  </td><td>0.030513314                                                          </td></tr>\n",
       "\t<tr><td>PWY-7367 | phosphatidylcholine resynthesis via glycerophosphocholine </td><td>0.030513314                                                          </td><td>-1.946391                                                            </td><td>0.030513314                                                          </td><td>0.4794867                                                            </td><td> 16                                                                  </td><td>0.030513314                                                          </td></tr>\n",
       "\t<tr><td>PWY-7521 | 3-(4-sulfophenyl)butanoate degradation                    </td><td>0.031412891                                                          </td><td>-1.908797                                                            </td><td>0.031412891                                                          </td><td>0.4794867                                                            </td><td> 23                                                                  </td><td>0.031412891                                                          </td></tr>\n",
       "\t<tr><td>PWY-7712 | deoxynivalenol biosynthesis                               </td><td>0.031412891                                                          </td><td>-1.908797                                                            </td><td>0.031412891                                                          </td><td>0.4794867                                                            </td><td> 23                                                                  </td><td>0.031412891                                                          </td></tr>\n",
       "\t<tr><td>ec00053 | Ascorbate and aldarate metabolism                          </td><td>0.031920264                                                          </td><td>-1.863732                                                            </td><td>0.031920264                                                          </td><td>0.4794867                                                            </td><td>100                                                                  </td><td>0.031920264                                                          </td></tr>\n",
       "\t<tr><td>ec00052 | Galactose metabolism                                       </td><td>0.034423802                                                          </td><td>-1.872218                                                            </td><td>0.034423802                                                          </td><td>0.4794867                                                            </td><td> 22                                                                  </td><td>0.034423802                                                          </td></tr>\n",
       "\t<tr><td>PWY-6352 | 3-phosphoinositide biosynthesis                           </td><td>0.034839412                                                          </td><td>-1.870175                                                            </td><td>0.034839412                                                          </td><td>0.4794867                                                            </td><td> 19                                                                  </td><td>0.034839412                                                          </td></tr>\n",
       "\t<tr><td>PWY-7384 | anaerobic energy metabolism (invertebrates, mitochondrial)</td><td>0.037149351                                                          </td><td>-1.883329                                                            </td><td>0.037149351                                                          </td><td>0.4794867                                                            </td><td> 11                                                                  </td><td>0.037149351                                                          </td></tr>\n",
       "\t<tr><td>PWY-7119 | sphingolipid recycling and degradation (yeast)            </td><td>0.042850351                                                          </td><td>-1.773917                                                            </td><td>0.042850351                                                          </td><td>0.4794867                                                            </td><td> 17                                                                  </td><td>0.042850351                                                          </td></tr>\n",
       "\t<tr><td>PWY-3081 | L-lysine biosynthesis V                                   </td><td>0.043797780                                                          </td><td>-1.775319                                                            </td><td>0.043797780                                                          </td><td>0.4794867                                                            </td><td> 14                                                                  </td><td>0.043797780                                                          </td></tr>\n",
       "\t<tr><td>PWY-5469 | sesamin biosynthesis                                      </td><td>0.044463615                                                          </td><td>-1.716865                                                            </td><td>0.044463615                                                          </td><td>0.4794867                                                            </td><td> 54                                                                  </td><td>0.044463615                                                          </td></tr>\n",
       "\t<tr><td>PWY-6371 | superpathway of inositol phosphate compounds              </td><td>0.044754381                                                          </td><td>-1.725520                                                            </td><td>0.044754381                                                          </td><td>0.4794867                                                            </td><td> 32                                                                  </td><td>0.044754381                                                          </td></tr>\n",
       "\t<tr><td>ec00830 | Retinol metabolism                                         </td><td>0.049689623                                                          </td><td>-1.659042                                                            </td><td>0.049689623                                                          </td><td>0.4794867                                                            </td><td> 70                                                                  </td><td>0.049689623                                                          </td></tr>\n",
       "</tbody>\n",
       "</table>\n"
      ],
      "text/latex": [
       "\\begin{tabular}{r|lllllll}\n",
       " name & p.geomean & stat.mean & p.val & q.val & set.size & exp1\\\\\n",
       "\\hline\n",
       "\t PWY-6848 \\textbar{} rutin degradation                                          & 0.006328451                                                                     & -2.572474                                                                       & 0.006328451                                                                     & 0.4794867                                                                       &  31                                                                             & 0.006328451                                                                    \\\\\n",
       "\t PWY-7018 \\textbar{} paromomycin biosynthesis                                   & 0.007485135                                                                     & -2.485476                                                                       & 0.007485135                                                                     & 0.4794867                                                                       &  42                                                                             & 0.007485135                                                                    \\\\\n",
       "\t ec00051 \\textbar{} Fructose and mannose metabolism                             & 0.007499368                                                                     & -2.453300                                                                       & 0.007499368                                                                     & 0.4794867                                                                       & 103                                                                             & 0.007499368                                                                    \\\\\n",
       "\t PWY-6527 \\textbar{} stachyose degradation                                      & 0.007587231                                                                     & -2.526977                                                                       & 0.007587231                                                                     & 0.4794867                                                                       &  23                                                                             & 0.007587231                                                                    \\\\\n",
       "\t ec00561 \\textbar{} Glycerolipid metabolism                                     & 0.008605073                                                                     & -2.438642                                                                       & 0.008605073                                                                     & 0.4794867                                                                       &  37                                                                             & 0.008605073                                                                    \\\\\n",
       "\t ec00500 \\textbar{} Starch and sucrose metabolism                               & 0.012177318                                                                     & -2.300193                                                                       & 0.012177318                                                                     & 0.4794867                                                                       &  41                                                                             & 0.012177318                                                                    \\\\\n",
       "\t PWY-6906 \\textbar{} chitin derivatives degradation                             & 0.013011827                                                                     & -2.344862                                                                       & 0.013011827                                                                     & 0.4794867                                                                       &  16                                                                             & 0.013011827                                                                    \\\\\n",
       "\t ec00760 \\textbar{} Nicotinate and nicotinamide metabolism                      & 0.013294381                                                                     & -2.262702                                                                       & 0.013294381                                                                     & 0.4794867                                                                       &  38                                                                             & 0.013294381                                                                    \\\\\n",
       "\t ec00982 \\textbar{} Drug metabolism - cytochrome P450                           & 0.014026814                                                                     & -2.271897                                                                       & 0.014026814                                                                     & 0.4794867                                                                       &  23                                                                             & 0.014026814                                                                    \\\\\n",
       "\t PWY-7118 \\textbar{} chitin degradation to ethanol                              & 0.017209084                                                                     & -2.209652                                                                       & 0.017209084                                                                     & 0.4794867                                                                       &  17                                                                             & 0.017209084                                                                    \\\\\n",
       "\t PWY-7294 \\textbar{} xylose degradation IV                                      & 0.017344487                                                                     & -2.190877                                                                       & 0.017344487                                                                     & 0.4794867                                                                       &  20                                                                             & 0.017344487                                                                    \\\\\n",
       "\t PWY-7771 \\textbar{} butachlor degradation                                      & 0.017882814                                                                     & -2.163150                                                                       & 0.017882814                                                                     & 0.4794867                                                                       &  24                                                                             & 0.017882814                                                                    \\\\\n",
       "\t PWY-7139 \\textbar{} sesaminol glucoside biosynthesis                           & 0.019022363                                                                     & -2.096805                                                                       & 0.019022363                                                                     & 0.4794867                                                                       &  63                                                                             & 0.019022363                                                                    \\\\\n",
       "\t ec00980 \\textbar{} Metabolism of xenobiotics by cytochrome P450                & 0.019661485                                                                     & -2.118642                                                                       & 0.019661485                                                                     & 0.4794867                                                                       &  25                                                                             & 0.019661485                                                                    \\\\\n",
       "\t PWY-6855 \\textbar{} chitin degradation I (archaea)                             & 0.022431537                                                                     & -2.060965                                                                       & 0.022431537                                                                     & 0.4794867                                                                       &  27                                                                             & 0.022431537                                                                    \\\\\n",
       "\t PWY0-301 \\textbar{} L-ascorbate degradation I (bacterial, anaerobic)           & 0.023852132                                                                     & -2.054471                                                                       & 0.023852132                                                                     & 0.4794867                                                                       &  18                                                                             & 0.023852132                                                                    \\\\\n",
       "\t PWY-6317 \\textbar{} D-galactose degradation I (Leloir pathway)                 & 0.025162694                                                                     & -2.111714                                                                       & 0.025162694                                                                     & 0.4794867                                                                       &  10                                                                             & 0.025162694                                                                    \\\\\n",
       "\t PWY66-422 \\textbar{} D-galactose degradation V (Leloir pathway)                & 0.025162694                                                                     & -2.111714                                                                       & 0.025162694                                                                     & 0.4794867                                                                       &  10                                                                             & 0.025162694                                                                    \\\\\n",
       "\t PWY-6415 \\textbar{} L-ascorbate biosynthesis V                                 & 0.025428973                                                                     & -2.021137                                                                       & 0.025428973                                                                     & 0.4794867                                                                       &  19                                                                             & 0.025428973                                                                    \\\\\n",
       "\t PWY-7074 \\textbar{} phenylethanol glycoconjugate biosynthesis                  & 0.025529191                                                                     & -1.995454                                                                       & 0.025529191                                                                     & 0.4794867                                                                       &  29                                                                             & 0.025529191                                                                    \\\\\n",
       "\t PWY-7491 \\textbar{} podophyllotoxin glucosides metabolism                      & 0.025529191                                                                     & -1.995454                                                                       & 0.025529191                                                                     & 0.4794867                                                                       &  29                                                                             & 0.025529191                                                                    \\\\\n",
       "\t PWY-5784 \\textbar{} indole-3-acetate conjugate biosynthesis II                 & 0.027894856                                                                     & -1.957156                                                                       & 0.027894856                                                                     & 0.4794867                                                                       &  27                                                                             & 0.027894856                                                                    \\\\\n",
       "\t PWY-6368 \\textbar{} 3-phosphoinositide degradation                             & 0.028519060                                                                     & -1.980756                                                                       & 0.028519060                                                                     & 0.4794867                                                                       &  16                                                                             & 0.028519060                                                                    \\\\\n",
       "\t CYCLOHEXANOL-OXIDATION-PWY \\textbar{} cyclohexanol degradation                 & 0.030513314                                                                     & -1.946391                                                                       & 0.030513314                                                                     & 0.4794867                                                                       &  16                                                                             & 0.030513314                                                                    \\\\\n",
       "\t PWY-1921 \\textbar{} indole-3-acetate activation II                             & 0.030513314                                                                     & -1.946391                                                                       & 0.030513314                                                                     & 0.4794867                                                                       &  16                                                                             & 0.030513314                                                                    \\\\\n",
       "\t PWY-5835 \\textbar{} geranyl acetate biosynthesis                               & 0.030513314                                                                     & -1.946391                                                                       & 0.030513314                                                                     & 0.4794867                                                                       &  16                                                                             & 0.030513314                                                                    \\\\\n",
       "\t PWY-6429 \\textbar{} ricinoleate biosynthesis                                   & 0.030513314                                                                     & -1.946391                                                                       & 0.030513314                                                                     & 0.4794867                                                                       &  16                                                                             & 0.030513314                                                                    \\\\\n",
       "\t PWY-6558 \\textbar{} heparan sulfate biosynthesis (late stages)                 & 0.030513314                                                                     & -1.946391                                                                       & 0.030513314                                                                     & 0.4794867                                                                       &  16                                                                             & 0.030513314                                                                    \\\\\n",
       "\t PWY-6564 \\textbar{} heparan sulfate biosynthesis                               & 0.030513314                                                                     & -1.946391                                                                       & 0.030513314                                                                     & 0.4794867                                                                       &  16                                                                             & 0.030513314                                                                    \\\\\n",
       "\t PWY-6760 \\textbar{} xylose degradation III                                     & 0.030513314                                                                     & -1.946391                                                                       & 0.030513314                                                                     & 0.4794867                                                                       &  16                                                                             & 0.030513314                                                                    \\\\\n",
       "\t PWY-7002 \\textbar{} 4-hydroxyacetophenone degradation                          & 0.030513314                                                                     & -1.946391                                                                       & 0.030513314                                                                     & 0.4794867                                                                       &  16                                                                             & 0.030513314                                                                    \\\\\n",
       "\t PWY-7367 \\textbar{} phosphatidylcholine resynthesis via glycerophosphocholine  & 0.030513314                                                                     & -1.946391                                                                       & 0.030513314                                                                     & 0.4794867                                                                       &  16                                                                             & 0.030513314                                                                    \\\\\n",
       "\t PWY-7521 \\textbar{} 3-(4-sulfophenyl)butanoate degradation                     & 0.031412891                                                                     & -1.908797                                                                       & 0.031412891                                                                     & 0.4794867                                                                       &  23                                                                             & 0.031412891                                                                    \\\\\n",
       "\t PWY-7712 \\textbar{} deoxynivalenol biosynthesis                                & 0.031412891                                                                     & -1.908797                                                                       & 0.031412891                                                                     & 0.4794867                                                                       &  23                                                                             & 0.031412891                                                                    \\\\\n",
       "\t ec00053 \\textbar{} Ascorbate and aldarate metabolism                           & 0.031920264                                                                     & -1.863732                                                                       & 0.031920264                                                                     & 0.4794867                                                                       & 100                                                                             & 0.031920264                                                                    \\\\\n",
       "\t ec00052 \\textbar{} Galactose metabolism                                        & 0.034423802                                                                     & -1.872218                                                                       & 0.034423802                                                                     & 0.4794867                                                                       &  22                                                                             & 0.034423802                                                                    \\\\\n",
       "\t PWY-6352 \\textbar{} 3-phosphoinositide biosynthesis                            & 0.034839412                                                                     & -1.870175                                                                       & 0.034839412                                                                     & 0.4794867                                                                       &  19                                                                             & 0.034839412                                                                    \\\\\n",
       "\t PWY-7384 \\textbar{} anaerobic energy metabolism (invertebrates, mitochondrial) & 0.037149351                                                                     & -1.883329                                                                       & 0.037149351                                                                     & 0.4794867                                                                       &  11                                                                             & 0.037149351                                                                    \\\\\n",
       "\t PWY-7119 \\textbar{} sphingolipid recycling and degradation (yeast)             & 0.042850351                                                                     & -1.773917                                                                       & 0.042850351                                                                     & 0.4794867                                                                       &  17                                                                             & 0.042850351                                                                    \\\\\n",
       "\t PWY-3081 \\textbar{} L-lysine biosynthesis V                                    & 0.043797780                                                                     & -1.775319                                                                       & 0.043797780                                                                     & 0.4794867                                                                       &  14                                                                             & 0.043797780                                                                    \\\\\n",
       "\t PWY-5469 \\textbar{} sesamin biosynthesis                                       & 0.044463615                                                                     & -1.716865                                                                       & 0.044463615                                                                     & 0.4794867                                                                       &  54                                                                             & 0.044463615                                                                    \\\\\n",
       "\t PWY-6371 \\textbar{} superpathway of inositol phosphate compounds               & 0.044754381                                                                     & -1.725520                                                                       & 0.044754381                                                                     & 0.4794867                                                                       &  32                                                                             & 0.044754381                                                                    \\\\\n",
       "\t ec00830 \\textbar{} Retinol metabolism                                          & 0.049689623                                                                     & -1.659042                                                                       & 0.049689623                                                                     & 0.4794867                                                                       &  70                                                                             & 0.049689623                                                                    \\\\\n",
       "\\end{tabular}\n"
      ],
      "text/markdown": [
       "\n",
       "name | p.geomean | stat.mean | p.val | q.val | set.size | exp1 | \n",
       "|---|---|---|---|---|---|---|---|---|---|---|---|---|---|---|---|---|---|---|---|---|---|---|---|---|---|---|---|---|---|---|---|---|---|---|---|---|---|---|---|---|---|---|\n",
       "| PWY-6848 | rutin degradation                                          | 0.006328451                                                           | -2.572474                                                             | 0.006328451                                                           | 0.4794867                                                             |  31                                                                   | 0.006328451                                                           | \n",
       "| PWY-7018 | paromomycin biosynthesis                                   | 0.007485135                                                           | -2.485476                                                             | 0.007485135                                                           | 0.4794867                                                             |  42                                                                   | 0.007485135                                                           | \n",
       "| ec00051 | Fructose and mannose metabolism                             | 0.007499368                                                           | -2.453300                                                             | 0.007499368                                                           | 0.4794867                                                             | 103                                                                   | 0.007499368                                                           | \n",
       "| PWY-6527 | stachyose degradation                                      | 0.007587231                                                           | -2.526977                                                             | 0.007587231                                                           | 0.4794867                                                             |  23                                                                   | 0.007587231                                                           | \n",
       "| ec00561 | Glycerolipid metabolism                                     | 0.008605073                                                           | -2.438642                                                             | 0.008605073                                                           | 0.4794867                                                             |  37                                                                   | 0.008605073                                                           | \n",
       "| ec00500 | Starch and sucrose metabolism                               | 0.012177318                                                           | -2.300193                                                             | 0.012177318                                                           | 0.4794867                                                             |  41                                                                   | 0.012177318                                                           | \n",
       "| PWY-6906 | chitin derivatives degradation                             | 0.013011827                                                           | -2.344862                                                             | 0.013011827                                                           | 0.4794867                                                             |  16                                                                   | 0.013011827                                                           | \n",
       "| ec00760 | Nicotinate and nicotinamide metabolism                      | 0.013294381                                                           | -2.262702                                                             | 0.013294381                                                           | 0.4794867                                                             |  38                                                                   | 0.013294381                                                           | \n",
       "| ec00982 | Drug metabolism - cytochrome P450                           | 0.014026814                                                           | -2.271897                                                             | 0.014026814                                                           | 0.4794867                                                             |  23                                                                   | 0.014026814                                                           | \n",
       "| PWY-7118 | chitin degradation to ethanol                              | 0.017209084                                                           | -2.209652                                                             | 0.017209084                                                           | 0.4794867                                                             |  17                                                                   | 0.017209084                                                           | \n",
       "| PWY-7294 | xylose degradation IV                                      | 0.017344487                                                           | -2.190877                                                             | 0.017344487                                                           | 0.4794867                                                             |  20                                                                   | 0.017344487                                                           | \n",
       "| PWY-7771 | butachlor degradation                                      | 0.017882814                                                           | -2.163150                                                             | 0.017882814                                                           | 0.4794867                                                             |  24                                                                   | 0.017882814                                                           | \n",
       "| PWY-7139 | sesaminol glucoside biosynthesis                           | 0.019022363                                                           | -2.096805                                                             | 0.019022363                                                           | 0.4794867                                                             |  63                                                                   | 0.019022363                                                           | \n",
       "| ec00980 | Metabolism of xenobiotics by cytochrome P450                | 0.019661485                                                           | -2.118642                                                             | 0.019661485                                                           | 0.4794867                                                             |  25                                                                   | 0.019661485                                                           | \n",
       "| PWY-6855 | chitin degradation I (archaea)                             | 0.022431537                                                           | -2.060965                                                             | 0.022431537                                                           | 0.4794867                                                             |  27                                                                   | 0.022431537                                                           | \n",
       "| PWY0-301 | L-ascorbate degradation I (bacterial, anaerobic)           | 0.023852132                                                           | -2.054471                                                             | 0.023852132                                                           | 0.4794867                                                             |  18                                                                   | 0.023852132                                                           | \n",
       "| PWY-6317 | D-galactose degradation I (Leloir pathway)                 | 0.025162694                                                           | -2.111714                                                             | 0.025162694                                                           | 0.4794867                                                             |  10                                                                   | 0.025162694                                                           | \n",
       "| PWY66-422 | D-galactose degradation V (Leloir pathway)                | 0.025162694                                                           | -2.111714                                                             | 0.025162694                                                           | 0.4794867                                                             |  10                                                                   | 0.025162694                                                           | \n",
       "| PWY-6415 | L-ascorbate biosynthesis V                                 | 0.025428973                                                           | -2.021137                                                             | 0.025428973                                                           | 0.4794867                                                             |  19                                                                   | 0.025428973                                                           | \n",
       "| PWY-7074 | phenylethanol glycoconjugate biosynthesis                  | 0.025529191                                                           | -1.995454                                                             | 0.025529191                                                           | 0.4794867                                                             |  29                                                                   | 0.025529191                                                           | \n",
       "| PWY-7491 | podophyllotoxin glucosides metabolism                      | 0.025529191                                                           | -1.995454                                                             | 0.025529191                                                           | 0.4794867                                                             |  29                                                                   | 0.025529191                                                           | \n",
       "| PWY-5784 | indole-3-acetate conjugate biosynthesis II                 | 0.027894856                                                           | -1.957156                                                             | 0.027894856                                                           | 0.4794867                                                             |  27                                                                   | 0.027894856                                                           | \n",
       "| PWY-6368 | 3-phosphoinositide degradation                             | 0.028519060                                                           | -1.980756                                                             | 0.028519060                                                           | 0.4794867                                                             |  16                                                                   | 0.028519060                                                           | \n",
       "| CYCLOHEXANOL-OXIDATION-PWY | cyclohexanol degradation                 | 0.030513314                                                           | -1.946391                                                             | 0.030513314                                                           | 0.4794867                                                             |  16                                                                   | 0.030513314                                                           | \n",
       "| PWY-1921 | indole-3-acetate activation II                             | 0.030513314                                                           | -1.946391                                                             | 0.030513314                                                           | 0.4794867                                                             |  16                                                                   | 0.030513314                                                           | \n",
       "| PWY-5835 | geranyl acetate biosynthesis                               | 0.030513314                                                           | -1.946391                                                             | 0.030513314                                                           | 0.4794867                                                             |  16                                                                   | 0.030513314                                                           | \n",
       "| PWY-6429 | ricinoleate biosynthesis                                   | 0.030513314                                                           | -1.946391                                                             | 0.030513314                                                           | 0.4794867                                                             |  16                                                                   | 0.030513314                                                           | \n",
       "| PWY-6558 | heparan sulfate biosynthesis (late stages)                 | 0.030513314                                                           | -1.946391                                                             | 0.030513314                                                           | 0.4794867                                                             |  16                                                                   | 0.030513314                                                           | \n",
       "| PWY-6564 | heparan sulfate biosynthesis                               | 0.030513314                                                           | -1.946391                                                             | 0.030513314                                                           | 0.4794867                                                             |  16                                                                   | 0.030513314                                                           | \n",
       "| PWY-6760 | xylose degradation III                                     | 0.030513314                                                           | -1.946391                                                             | 0.030513314                                                           | 0.4794867                                                             |  16                                                                   | 0.030513314                                                           | \n",
       "| PWY-7002 | 4-hydroxyacetophenone degradation                          | 0.030513314                                                           | -1.946391                                                             | 0.030513314                                                           | 0.4794867                                                             |  16                                                                   | 0.030513314                                                           | \n",
       "| PWY-7367 | phosphatidylcholine resynthesis via glycerophosphocholine  | 0.030513314                                                           | -1.946391                                                             | 0.030513314                                                           | 0.4794867                                                             |  16                                                                   | 0.030513314                                                           | \n",
       "| PWY-7521 | 3-(4-sulfophenyl)butanoate degradation                     | 0.031412891                                                           | -1.908797                                                             | 0.031412891                                                           | 0.4794867                                                             |  23                                                                   | 0.031412891                                                           | \n",
       "| PWY-7712 | deoxynivalenol biosynthesis                                | 0.031412891                                                           | -1.908797                                                             | 0.031412891                                                           | 0.4794867                                                             |  23                                                                   | 0.031412891                                                           | \n",
       "| ec00053 | Ascorbate and aldarate metabolism                           | 0.031920264                                                           | -1.863732                                                             | 0.031920264                                                           | 0.4794867                                                             | 100                                                                   | 0.031920264                                                           | \n",
       "| ec00052 | Galactose metabolism                                        | 0.034423802                                                           | -1.872218                                                             | 0.034423802                                                           | 0.4794867                                                             |  22                                                                   | 0.034423802                                                           | \n",
       "| PWY-6352 | 3-phosphoinositide biosynthesis                            | 0.034839412                                                           | -1.870175                                                             | 0.034839412                                                           | 0.4794867                                                             |  19                                                                   | 0.034839412                                                           | \n",
       "| PWY-7384 | anaerobic energy metabolism (invertebrates, mitochondrial) | 0.037149351                                                           | -1.883329                                                             | 0.037149351                                                           | 0.4794867                                                             |  11                                                                   | 0.037149351                                                           | \n",
       "| PWY-7119 | sphingolipid recycling and degradation (yeast)             | 0.042850351                                                           | -1.773917                                                             | 0.042850351                                                           | 0.4794867                                                             |  17                                                                   | 0.042850351                                                           | \n",
       "| PWY-3081 | L-lysine biosynthesis V                                    | 0.043797780                                                           | -1.775319                                                             | 0.043797780                                                           | 0.4794867                                                             |  14                                                                   | 0.043797780                                                           | \n",
       "| PWY-5469 | sesamin biosynthesis                                       | 0.044463615                                                           | -1.716865                                                             | 0.044463615                                                           | 0.4794867                                                             |  54                                                                   | 0.044463615                                                           | \n",
       "| PWY-6371 | superpathway of inositol phosphate compounds               | 0.044754381                                                           | -1.725520                                                             | 0.044754381                                                           | 0.4794867                                                             |  32                                                                   | 0.044754381                                                           | \n",
       "| ec00830 | Retinol metabolism                                          | 0.049689623                                                           | -1.659042                                                             | 0.049689623                                                           | 0.4794867                                                             |  70                                                                   | 0.049689623                                                           | \n",
       "\n",
       "\n"
      ],
      "text/plain": [
       "   name                                                                 \n",
       "1  PWY-6848 | rutin degradation                                         \n",
       "2  PWY-7018 | paromomycin biosynthesis                                  \n",
       "3  ec00051 | Fructose and mannose metabolism                            \n",
       "4  PWY-6527 | stachyose degradation                                     \n",
       "5  ec00561 | Glycerolipid metabolism                                    \n",
       "6  ec00500 | Starch and sucrose metabolism                              \n",
       "7  PWY-6906 | chitin derivatives degradation                            \n",
       "8  ec00760 | Nicotinate and nicotinamide metabolism                     \n",
       "9  ec00982 | Drug metabolism - cytochrome P450                          \n",
       "10 PWY-7118 | chitin degradation to ethanol                             \n",
       "11 PWY-7294 | xylose degradation IV                                     \n",
       "12 PWY-7771 | butachlor degradation                                     \n",
       "13 PWY-7139 | sesaminol glucoside biosynthesis                          \n",
       "14 ec00980 | Metabolism of xenobiotics by cytochrome P450               \n",
       "15 PWY-6855 | chitin degradation I (archaea)                            \n",
       "16 PWY0-301 | L-ascorbate degradation I (bacterial, anaerobic)          \n",
       "17 PWY-6317 | D-galactose degradation I (Leloir pathway)                \n",
       "18 PWY66-422 | D-galactose degradation V (Leloir pathway)               \n",
       "19 PWY-6415 | L-ascorbate biosynthesis V                                \n",
       "20 PWY-7074 | phenylethanol glycoconjugate biosynthesis                 \n",
       "21 PWY-7491 | podophyllotoxin glucosides metabolism                     \n",
       "22 PWY-5784 | indole-3-acetate conjugate biosynthesis II                \n",
       "23 PWY-6368 | 3-phosphoinositide degradation                            \n",
       "24 CYCLOHEXANOL-OXIDATION-PWY | cyclohexanol degradation                \n",
       "25 PWY-1921 | indole-3-acetate activation II                            \n",
       "26 PWY-5835 | geranyl acetate biosynthesis                              \n",
       "27 PWY-6429 | ricinoleate biosynthesis                                  \n",
       "28 PWY-6558 | heparan sulfate biosynthesis (late stages)                \n",
       "29 PWY-6564 | heparan sulfate biosynthesis                              \n",
       "30 PWY-6760 | xylose degradation III                                    \n",
       "31 PWY-7002 | 4-hydroxyacetophenone degradation                         \n",
       "32 PWY-7367 | phosphatidylcholine resynthesis via glycerophosphocholine \n",
       "33 PWY-7521 | 3-(4-sulfophenyl)butanoate degradation                    \n",
       "34 PWY-7712 | deoxynivalenol biosynthesis                               \n",
       "35 ec00053 | Ascorbate and aldarate metabolism                          \n",
       "36 ec00052 | Galactose metabolism                                       \n",
       "37 PWY-6352 | 3-phosphoinositide biosynthesis                           \n",
       "38 PWY-7384 | anaerobic energy metabolism (invertebrates, mitochondrial)\n",
       "39 PWY-7119 | sphingolipid recycling and degradation (yeast)            \n",
       "40 PWY-3081 | L-lysine biosynthesis V                                   \n",
       "41 PWY-5469 | sesamin biosynthesis                                      \n",
       "42 PWY-6371 | superpathway of inositol phosphate compounds              \n",
       "43 ec00830 | Retinol metabolism                                         \n",
       "   p.geomean   stat.mean p.val       q.val     set.size exp1       \n",
       "1  0.006328451 -2.572474 0.006328451 0.4794867  31      0.006328451\n",
       "2  0.007485135 -2.485476 0.007485135 0.4794867  42      0.007485135\n",
       "3  0.007499368 -2.453300 0.007499368 0.4794867 103      0.007499368\n",
       "4  0.007587231 -2.526977 0.007587231 0.4794867  23      0.007587231\n",
       "5  0.008605073 -2.438642 0.008605073 0.4794867  37      0.008605073\n",
       "6  0.012177318 -2.300193 0.012177318 0.4794867  41      0.012177318\n",
       "7  0.013011827 -2.344862 0.013011827 0.4794867  16      0.013011827\n",
       "8  0.013294381 -2.262702 0.013294381 0.4794867  38      0.013294381\n",
       "9  0.014026814 -2.271897 0.014026814 0.4794867  23      0.014026814\n",
       "10 0.017209084 -2.209652 0.017209084 0.4794867  17      0.017209084\n",
       "11 0.017344487 -2.190877 0.017344487 0.4794867  20      0.017344487\n",
       "12 0.017882814 -2.163150 0.017882814 0.4794867  24      0.017882814\n",
       "13 0.019022363 -2.096805 0.019022363 0.4794867  63      0.019022363\n",
       "14 0.019661485 -2.118642 0.019661485 0.4794867  25      0.019661485\n",
       "15 0.022431537 -2.060965 0.022431537 0.4794867  27      0.022431537\n",
       "16 0.023852132 -2.054471 0.023852132 0.4794867  18      0.023852132\n",
       "17 0.025162694 -2.111714 0.025162694 0.4794867  10      0.025162694\n",
       "18 0.025162694 -2.111714 0.025162694 0.4794867  10      0.025162694\n",
       "19 0.025428973 -2.021137 0.025428973 0.4794867  19      0.025428973\n",
       "20 0.025529191 -1.995454 0.025529191 0.4794867  29      0.025529191\n",
       "21 0.025529191 -1.995454 0.025529191 0.4794867  29      0.025529191\n",
       "22 0.027894856 -1.957156 0.027894856 0.4794867  27      0.027894856\n",
       "23 0.028519060 -1.980756 0.028519060 0.4794867  16      0.028519060\n",
       "24 0.030513314 -1.946391 0.030513314 0.4794867  16      0.030513314\n",
       "25 0.030513314 -1.946391 0.030513314 0.4794867  16      0.030513314\n",
       "26 0.030513314 -1.946391 0.030513314 0.4794867  16      0.030513314\n",
       "27 0.030513314 -1.946391 0.030513314 0.4794867  16      0.030513314\n",
       "28 0.030513314 -1.946391 0.030513314 0.4794867  16      0.030513314\n",
       "29 0.030513314 -1.946391 0.030513314 0.4794867  16      0.030513314\n",
       "30 0.030513314 -1.946391 0.030513314 0.4794867  16      0.030513314\n",
       "31 0.030513314 -1.946391 0.030513314 0.4794867  16      0.030513314\n",
       "32 0.030513314 -1.946391 0.030513314 0.4794867  16      0.030513314\n",
       "33 0.031412891 -1.908797 0.031412891 0.4794867  23      0.031412891\n",
       "34 0.031412891 -1.908797 0.031412891 0.4794867  23      0.031412891\n",
       "35 0.031920264 -1.863732 0.031920264 0.4794867 100      0.031920264\n",
       "36 0.034423802 -1.872218 0.034423802 0.4794867  22      0.034423802\n",
       "37 0.034839412 -1.870175 0.034839412 0.4794867  19      0.034839412\n",
       "38 0.037149351 -1.883329 0.037149351 0.4794867  11      0.037149351\n",
       "39 0.042850351 -1.773917 0.042850351 0.4794867  17      0.042850351\n",
       "40 0.043797780 -1.775319 0.043797780 0.4794867  14      0.043797780\n",
       "41 0.044463615 -1.716865 0.044463615 0.4794867  54      0.044463615\n",
       "42 0.044754381 -1.725520 0.044754381 0.4794867  32      0.044754381\n",
       "43 0.049689623 -1.659042 0.049689623 0.4794867  70      0.049689623"
      ]
     },
     "metadata": {},
     "output_type": "display_data"
    }
   ],
   "source": [
    "tmp3 "
   ]
  },
  {
   "cell_type": "code",
   "execution_count": 93,
   "metadata": {},
   "outputs": [
    {
     "data": {
      "text/html": [
       "<ol class=list-inline>\n",
       "\t<li>'PWY-7018 | paromomycin biosynthesis'</li>\n",
       "\t<li>'PWY-7294 | xylose degradation IV'</li>\n",
       "\t<li>'PWY-7139 | sesaminol glucoside biosynthesis'</li>\n",
       "\t<li>'PWY-6855 | chitin degradation I (archaea)'</li>\n",
       "\t<li>'PWY-7074 | phenylethanol glycoconjugate biosynthesis'</li>\n",
       "\t<li>'PWY-7491 | podophyllotoxin glucosides metabolism'</li>\n",
       "\t<li>'PWY-5784 | indole-3-acetate conjugate biosynthesis II'</li>\n",
       "\t<li>'PWY-7521 | 3-(4-sulfophenyl)butanoate degradation'</li>\n",
       "\t<li>'PWY-7712 | deoxynivalenol biosynthesis'</li>\n",
       "\t<li>'PWY-7384 | anaerobic energy metabolism (invertebrates, mitochondrial)'</li>\n",
       "\t<li>'PWY-5469 | sesamin biosynthesis'</li>\n",
       "</ol>\n"
      ],
      "text/latex": [
       "\\begin{enumerate*}\n",
       "\\item 'PWY-7018 \\textbar{} paromomycin biosynthesis'\n",
       "\\item 'PWY-7294 \\textbar{} xylose degradation IV'\n",
       "\\item 'PWY-7139 \\textbar{} sesaminol glucoside biosynthesis'\n",
       "\\item 'PWY-6855 \\textbar{} chitin degradation I (archaea)'\n",
       "\\item 'PWY-7074 \\textbar{} phenylethanol glycoconjugate biosynthesis'\n",
       "\\item 'PWY-7491 \\textbar{} podophyllotoxin glucosides metabolism'\n",
       "\\item 'PWY-5784 \\textbar{} indole-3-acetate conjugate biosynthesis II'\n",
       "\\item 'PWY-7521 \\textbar{} 3-(4-sulfophenyl)butanoate degradation'\n",
       "\\item 'PWY-7712 \\textbar{} deoxynivalenol biosynthesis'\n",
       "\\item 'PWY-7384 \\textbar{} anaerobic energy metabolism (invertebrates, mitochondrial)'\n",
       "\\item 'PWY-5469 \\textbar{} sesamin biosynthesis'\n",
       "\\end{enumerate*}\n"
      ],
      "text/markdown": [
       "1. 'PWY-7018 | paromomycin biosynthesis'\n",
       "2. 'PWY-7294 | xylose degradation IV'\n",
       "3. 'PWY-7139 | sesaminol glucoside biosynthesis'\n",
       "4. 'PWY-6855 | chitin degradation I (archaea)'\n",
       "5. 'PWY-7074 | phenylethanol glycoconjugate biosynthesis'\n",
       "6. 'PWY-7491 | podophyllotoxin glucosides metabolism'\n",
       "7. 'PWY-5784 | indole-3-acetate conjugate biosynthesis II'\n",
       "8. 'PWY-7521 | 3-(4-sulfophenyl)butanoate degradation'\n",
       "9. 'PWY-7712 | deoxynivalenol biosynthesis'\n",
       "10. 'PWY-7384 | anaerobic energy metabolism (invertebrates, mitochondrial)'\n",
       "11. 'PWY-5469 | sesamin biosynthesis'\n",
       "\n",
       "\n"
      ],
      "text/plain": [
       " [1] \"PWY-7018 | paromomycin biosynthesis\"                                  \n",
       " [2] \"PWY-7294 | xylose degradation IV\"                                     \n",
       " [3] \"PWY-7139 | sesaminol glucoside biosynthesis\"                          \n",
       " [4] \"PWY-6855 | chitin degradation I (archaea)\"                            \n",
       " [5] \"PWY-7074 | phenylethanol glycoconjugate biosynthesis\"                 \n",
       " [6] \"PWY-7491 | podophyllotoxin glucosides metabolism\"                     \n",
       " [7] \"PWY-5784 | indole-3-acetate conjugate biosynthesis II\"                \n",
       " [8] \"PWY-7521 | 3-(4-sulfophenyl)butanoate degradation\"                    \n",
       " [9] \"PWY-7712 | deoxynivalenol biosynthesis\"                               \n",
       "[10] \"PWY-7384 | anaerobic energy metabolism (invertebrates, mitochondrial)\"\n",
       "[11] \"PWY-5469 | sesamin biosynthesis\"                                      "
      ]
     },
     "metadata": {},
     "output_type": "display_data"
    }
   ],
   "source": [
    "intersect(tmp3$name, tmp4$name)"
   ]
  },
  {
   "cell_type": "code",
   "execution_count": 20,
   "metadata": {},
   "outputs": [
    {
     "name": "stdout",
     "output_type": "stream",
     "text": [
      " [1] \"ALL-CHORISMATE-PWY | superpathway of chorismate metabolism\"                                               \n",
      " [2] \"ec00360 | Phenylalanine metabolism\"                                                                       \n",
      " [3] \"ec00624 | Polycyclic aromatic hydrocarbon degradation\"                                                    \n",
      " [4] \"ec00627 | Aminobenzoate degradation\"                                                                      \n",
      " [5] \"ec00941 | Flavonoid biosynthesis\"                                                                         \n",
      " [6] \"ec00945 | Stilbenoid, diarylheptanoid and gingerol biosynthesis\"                                          \n",
      " [7] \"P105-PWY | TCA cycle IV (2-oxoglutarate decarboxylase)\"                                                   \n",
      " [8] \"PWY-5910 | superpathway of geranylgeranyldiphosphate biosynthesis I (via mevalonate)\"                     \n",
      " [9] \"PWY-6969 | TCA cycle V (2-oxoglutarate:ferredoxin oxidoreductase)\"                                        \n",
      "[10] \"PWY-7149 | superpathway of polymethylated quercetin/quercetagetin glucoside biosynthesis (Chrysosplenium)\"\n",
      "[11] \"PWY-7150 | polymethylated quercetin glucoside biosynthesis I - quercetin series (Chrysosplenium)\"         \n",
      "[12] \"PWY-7151 | polymethylated quercetin glucoside biosynthesis II - quercetagetin series (Chrysosplenium)\"    \n",
      "[13] \"PWY-7156 | superpathway of ergosterol biosynthesis II\"                                                    \n",
      "[14] \"PWY-7157 | eupatolitin 3-<i>O</i>-glucoside biosynthesis\"                                                 \n",
      "[15] \"PWY-7609 | superpathway of roquefortine, meleagrin and neoxaline biosynthesis\"                            \n",
      "[16] \"PWY-7668 | apicidin F biosynthesis\"                                                                       \n",
      "[17] \"PWY-7669 | equisetin biosynthesis\"                                                                        \n",
      "[18] \"PWY-7673 | fusarin C biosynthesis\"                                                                        \n",
      "[19] \"PWY66-5 | superpathway of cholesterol biosynthesis\"                                                       \n",
      "[20] \"TCA-GLYOX-BYPASS | superpathway of glyoxylate bypass and TCA\"                                             \n"
     ]
    }
   ],
   "source": [
    "print(setdiff(tmp2$name, tmp1$name) %>% sort)"
   ]
  },
  {
   "cell_type": "code",
   "execution_count": null,
   "metadata": {},
   "outputs": [],
   "source": [
    "print(setdiff(tmp4$name, tmp3$name) %>% sort)"
   ]
  },
  {
   "cell_type": "code",
   "execution_count": null,
   "metadata": {},
   "outputs": [],
   "source": []
  },
  {
   "cell_type": "markdown",
   "metadata": {},
   "source": [
    "-----"
   ]
  },
  {
   "cell_type": "code",
   "execution_count": 33,
   "metadata": {},
   "outputs": [
    {
     "data": {
      "text/html": [
       "<table>\n",
       "<thead><tr><th></th><th scope=col>p.geomean</th><th scope=col>stat.mean</th><th scope=col>p.val</th><th scope=col>q.val</th><th scope=col>set.size</th><th scope=col>exp1</th></tr></thead>\n",
       "<tbody>\n",
       "\t<tr><th scope=row>ec00230 | Purine metabolism</th><td>3.337399e-06</td><td>4.616580    </td><td>3.337399e-06</td><td>0.002833452 </td><td>118         </td><td>3.337399e-06</td></tr>\n",
       "\t<tr><th scope=row>PRPP-PWY | superpathway of histidine, purine, and pyrimidine biosynthesis</th><td>1.143999e-05</td><td>4.439905    </td><td>1.143999e-05</td><td>0.004856276 </td><td> 52         </td><td>1.143999e-05</td></tr>\n",
       "\t<tr><th scope=row>PWY-7653 | griseofulvin biosynthesis</th><td>4.017730e-05</td><td>4.071243    </td><td>4.017730e-05</td><td>0.011370175 </td><td> 68         </td><td>4.017730e-05</td></tr>\n",
       "\t<tr><th scope=row>PWY-5209 | methyl-coenzyme M oxidation to CO&lt;sub&gt;2&lt;/sub&gt;</th><td>6.941471e-05</td><td>3.930436    </td><td>6.941471e-05</td><td>0.014733273 </td><td> 65         </td><td>6.941471e-05</td></tr>\n",
       "\t<tr><th scope=row>PWY-5059 | pinobanksin biosynthesis</th><td>1.826725e-04</td><td>3.669988    </td><td>1.826725e-04</td><td>0.020521246 </td><td> 61         </td><td>1.826725e-04</td></tr>\n",
       "\t<tr><th scope=row>PWY-7735 | echinomycin and triostin A biosynthesis</th><td>1.895738e-04</td><td>3.615598    </td><td>1.895738e-04</td><td>0.020521246 </td><td>103         </td><td>1.895738e-04</td></tr>\n",
       "</tbody>\n",
       "</table>\n"
      ],
      "text/latex": [
       "\\begin{tabular}{r|llllll}\n",
       "  & p.geomean & stat.mean & p.val & q.val & set.size & exp1\\\\\n",
       "\\hline\n",
       "\tec00230 \\textbar{} Purine metabolism & 3.337399e-06 & 4.616580     & 3.337399e-06 & 0.002833452  & 118          & 3.337399e-06\\\\\n",
       "\tPRPP-PWY \\textbar{} superpathway of histidine, purine, and pyrimidine biosynthesis & 1.143999e-05 & 4.439905     & 1.143999e-05 & 0.004856276  &  52          & 1.143999e-05\\\\\n",
       "\tPWY-7653 \\textbar{} griseofulvin biosynthesis & 4.017730e-05 & 4.071243     & 4.017730e-05 & 0.011370175  &  68          & 4.017730e-05\\\\\n",
       "\tPWY-5209 \\textbar{} methyl-coenzyme M oxidation to CO<sub>2</sub> & 6.941471e-05 & 3.930436     & 6.941471e-05 & 0.014733273  &  65          & 6.941471e-05\\\\\n",
       "\tPWY-5059 \\textbar{} pinobanksin biosynthesis & 1.826725e-04 & 3.669988     & 1.826725e-04 & 0.020521246  &  61          & 1.826725e-04\\\\\n",
       "\tPWY-7735 \\textbar{} echinomycin and triostin A biosynthesis & 1.895738e-04 & 3.615598     & 1.895738e-04 & 0.020521246  & 103          & 1.895738e-04\\\\\n",
       "\\end{tabular}\n"
      ],
      "text/markdown": [
       "\n",
       "| <!--/--> | p.geomean | stat.mean | p.val | q.val | set.size | exp1 | \n",
       "|---|---|---|---|---|---|\n",
       "| ec00230 | Purine metabolism | 3.337399e-06 | 4.616580     | 3.337399e-06 | 0.002833452  | 118          | 3.337399e-06 | \n",
       "| PRPP-PWY | superpathway of histidine, purine, and pyrimidine biosynthesis | 1.143999e-05 | 4.439905     | 1.143999e-05 | 0.004856276  |  52          | 1.143999e-05 | \n",
       "| PWY-7653 | griseofulvin biosynthesis | 4.017730e-05 | 4.071243     | 4.017730e-05 | 0.011370175  |  68          | 4.017730e-05 | \n",
       "| PWY-5209 | methyl-coenzyme M oxidation to CO<sub>2</sub> | 6.941471e-05 | 3.930436     | 6.941471e-05 | 0.014733273  |  65          | 6.941471e-05 | \n",
       "| PWY-5059 | pinobanksin biosynthesis | 1.826725e-04 | 3.669988     | 1.826725e-04 | 0.020521246  |  61          | 1.826725e-04 | \n",
       "| PWY-7735 | echinomycin and triostin A biosynthesis | 1.895738e-04 | 3.615598     | 1.895738e-04 | 0.020521246  | 103          | 1.895738e-04 | \n",
       "\n",
       "\n"
      ],
      "text/plain": [
       "                                                                          p.geomean   \n",
       "ec00230 | Purine metabolism                                               3.337399e-06\n",
       "PRPP-PWY | superpathway of histidine, purine, and pyrimidine biosynthesis 1.143999e-05\n",
       "PWY-7653 | griseofulvin biosynthesis                                      4.017730e-05\n",
       "PWY-5209 | methyl-coenzyme M oxidation to CO<sub>2</sub>                  6.941471e-05\n",
       "PWY-5059 | pinobanksin biosynthesis                                       1.826725e-04\n",
       "PWY-7735 | echinomycin and triostin A biosynthesis                        1.895738e-04\n",
       "                                                                          stat.mean\n",
       "ec00230 | Purine metabolism                                               4.616580 \n",
       "PRPP-PWY | superpathway of histidine, purine, and pyrimidine biosynthesis 4.439905 \n",
       "PWY-7653 | griseofulvin biosynthesis                                      4.071243 \n",
       "PWY-5209 | methyl-coenzyme M oxidation to CO<sub>2</sub>                  3.930436 \n",
       "PWY-5059 | pinobanksin biosynthesis                                       3.669988 \n",
       "PWY-7735 | echinomycin and triostin A biosynthesis                        3.615598 \n",
       "                                                                          p.val       \n",
       "ec00230 | Purine metabolism                                               3.337399e-06\n",
       "PRPP-PWY | superpathway of histidine, purine, and pyrimidine biosynthesis 1.143999e-05\n",
       "PWY-7653 | griseofulvin biosynthesis                                      4.017730e-05\n",
       "PWY-5209 | methyl-coenzyme M oxidation to CO<sub>2</sub>                  6.941471e-05\n",
       "PWY-5059 | pinobanksin biosynthesis                                       1.826725e-04\n",
       "PWY-7735 | echinomycin and triostin A biosynthesis                        1.895738e-04\n",
       "                                                                          q.val      \n",
       "ec00230 | Purine metabolism                                               0.002833452\n",
       "PRPP-PWY | superpathway of histidine, purine, and pyrimidine biosynthesis 0.004856276\n",
       "PWY-7653 | griseofulvin biosynthesis                                      0.011370175\n",
       "PWY-5209 | methyl-coenzyme M oxidation to CO<sub>2</sub>                  0.014733273\n",
       "PWY-5059 | pinobanksin biosynthesis                                       0.020521246\n",
       "PWY-7735 | echinomycin and triostin A biosynthesis                        0.020521246\n",
       "                                                                          set.size\n",
       "ec00230 | Purine metabolism                                               118     \n",
       "PRPP-PWY | superpathway of histidine, purine, and pyrimidine biosynthesis  52     \n",
       "PWY-7653 | griseofulvin biosynthesis                                       68     \n",
       "PWY-5209 | methyl-coenzyme M oxidation to CO<sub>2</sub>                   65     \n",
       "PWY-5059 | pinobanksin biosynthesis                                        61     \n",
       "PWY-7735 | echinomycin and triostin A biosynthesis                        103     \n",
       "                                                                          exp1        \n",
       "ec00230 | Purine metabolism                                               3.337399e-06\n",
       "PRPP-PWY | superpathway of histidine, purine, and pyrimidine biosynthesis 1.143999e-05\n",
       "PWY-7653 | griseofulvin biosynthesis                                      4.017730e-05\n",
       "PWY-5209 | methyl-coenzyme M oxidation to CO<sub>2</sub>                  6.941471e-05\n",
       "PWY-5059 | pinobanksin biosynthesis                                       1.826725e-04\n",
       "PWY-7735 | echinomycin and triostin A biosynthesis                        1.895738e-04"
      ]
     },
     "metadata": {},
     "output_type": "display_data"
    }
   ],
   "source": [
    "head(gageres_strain_ypd[[\"greater\"]])"
   ]
  },
  {
   "cell_type": "code",
   "execution_count": 73,
   "metadata": {},
   "outputs": [],
   "source": [
    "tmp3 <- gageres_strain_ypd[[\"greater\"]] %>% \n",
    "    as.data.frame %>% \n",
    "    rownames_to_column(\"name\") %>% \n",
    "    filter(p.val < 0.05) %>%\n",
    "    arrange(p.val)\n",
    "tmp4 <- gageres_strain_tc[[\"greater\"]]  %>% \n",
    "    as.data.frame %>% \n",
    "    rownames_to_column(\"name\") %>% \n",
    "    filter(p.val < 0.05) %>%\n",
    "    arrange(p.val)"
   ]
  },
  {
   "cell_type": "code",
   "execution_count": 63,
   "metadata": {},
   "outputs": [
    {
     "data": {
      "text/html": [
       "232"
      ],
      "text/latex": [
       "232"
      ],
      "text/markdown": [
       "232"
      ],
      "text/plain": [
       "[1] 232"
      ]
     },
     "metadata": {},
     "output_type": "display_data"
    },
    {
     "data": {
      "text/html": [
       "187"
      ],
      "text/latex": [
       "187"
      ],
      "text/markdown": [
       "187"
      ],
      "text/plain": [
       "[1] 187"
      ]
     },
     "metadata": {},
     "output_type": "display_data"
    }
   ],
   "source": [
    "tmp3 %>% nrow\n",
    "tmp4 %>% nrow"
   ]
  },
  {
   "cell_type": "code",
   "execution_count": null,
   "metadata": {},
   "outputs": [],
   "source": []
  },
  {
   "cell_type": "code",
   "execution_count": 64,
   "metadata": {},
   "outputs": [
    {
     "data": {
      "text/html": [
       "99"
      ],
      "text/latex": [
       "99"
      ],
      "text/markdown": [
       "99"
      ],
      "text/plain": [
       "[1] 99"
      ]
     },
     "metadata": {},
     "output_type": "display_data"
    },
    {
     "data": {
      "text/html": [
       "133"
      ],
      "text/latex": [
       "133"
      ],
      "text/markdown": [
       "133"
      ],
      "text/plain": [
       "[1] 133"
      ]
     },
     "metadata": {},
     "output_type": "display_data"
    },
    {
     "data": {
      "text/html": [
       "88"
      ],
      "text/latex": [
       "88"
      ],
      "text/markdown": [
       "88"
      ],
      "text/plain": [
       "[1] 88"
      ]
     },
     "metadata": {},
     "output_type": "display_data"
    }
   ],
   "source": [
    "intersect(tmp4$name, tmp3$name) %>% length\n",
    "setdiff(tmp3$name, tmp4$name) %>% length\n",
    "setdiff(tmp4$name, tmp3$name) %>% length"
   ]
  },
  {
   "cell_type": "code",
   "execution_count": 66,
   "metadata": {},
   "outputs": [
    {
     "data": {
      "text/html": [
       "<ol class=list-inline>\n",
       "\t<li>'ec00230 | Purine metabolism'</li>\n",
       "\t<li>'PWY-6407 | yersiniabactin biosynthesis'</li>\n",
       "\t<li>'PWY-6408 | pyochelin biosynthesis'</li>\n",
       "\t<li>'PWY-6640 | salicylate degradation IV'</li>\n",
       "\t<li>'ec00627 | Aminobenzoate degradation'</li>\n",
       "\t<li>'PWY-7659 | viridicatumtoxin biosynthesis'</li>\n",
       "\t<li>'PWY-7706 | dapdiamides biosynthesis'</li>\n",
       "\t<li>'PWY-7673 | fusarin C biosynthesis'</li>\n",
       "\t<li>'PWY-6515 | phloridzin biosynthesis'</li>\n",
       "\t<li>'PWY-5184 | toluene degradation VI (anaerobic)'</li>\n",
       "\t<li>'ERGOSTEROL-SYN-PWY | superpathway of ergosterol biosynthesis I'</li>\n",
       "\t<li>'PWY1-3 | polyhydroxybutanoate biosynthesis'</li>\n",
       "\t<li>'PWY-7656 | &lt;i&gt;Spodoptera littoralis&lt;/i&gt; pheromone biosynthesis'</li>\n",
       "\t<li>'ec00942 | Anthocyanin biosynthesis'</li>\n",
       "\t<li>'PWY-7517 | brassicicene C biosynthesis'</li>\n",
       "\t<li>'PWY-5846 | colchicine biosynthesis'</li>\n",
       "\t<li>'PWY-7317 | superpathway of dTDP-glucose-derived O-antigen building blocks biosynthesis'</li>\n",
       "\t<li>'PWY-5965 | fatty acid biosynthesis initiation III'</li>\n",
       "\t<li>'PWY-5290 | secologanin and strictosidine biosynthesis'</li>\n",
       "\t<li>'PWY-5287 | sanguinarine and macarpine biosynthesis'</li>\n",
       "\t<li>'PWY-5773 | gossypol biosynthesis'</li>\n",
       "\t<li>'PWY-601 | glucosinolate biosynthesis from tryptophan'</li>\n",
       "\t<li>'PWY-7325 | salvigenin biosynthesis'</li>\n",
       "\t<li>'PWY-7607 | meleagrin biosynthesis'</li>\n",
       "\t<li>'PWY-7608 | neoxaline biosynthesis'</li>\n",
       "\t<li>'PWY-7629 | yatein biosynthesis II'</li>\n",
       "\t<li>'PWY-7739 | aucuparin biosynthesis'</li>\n",
       "\t<li>'FASYN-INITIAL-PWY | superpathway of fatty acid biosynthesis initiation (E. coli)'</li>\n",
       "\t<li>'PWY-6978 | plastoquinol-9 biosynthesis II'</li>\n",
       "\t<li>'PWY-7230 | ubiquinol-6 biosynthesis from 4-aminobenzoate (eukaryotic)'</li>\n",
       "\t<li>'PWY-7233 | ubiquinol-6 bypass biosynthesis (eukaryotic)'</li>\n",
       "\t<li>'PWY-7402 | benzoate fermentation (to acetate and cyclohexane carboxylate)'</li>\n",
       "\t<li>'PWY0-162 | superpathway of pyrimidine ribonucleotides &lt;i&gt;de novo&lt;/i&gt; biosynthesis'</li>\n",
       "\t<li>'PWY-7601 | arachidonate biosynthesis IV (8-detaturase, lower eukaryotes)'</li>\n",
       "\t<li>'PWY-7602 | icosapentaenoate biosynthesis V (8-desaturase, lower eukaryotes)'</li>\n",
       "\t<li>'PWY-7465 | 3,3\\'-thiodipropanoate degradation'</li>\n",
       "\t<li>'PWY-7382 | lipoate biosynthesis and incorporation (yeast)'</li>\n",
       "\t<li>'ec00624 | Polycyclic aromatic hydrocarbon degradation'</li>\n",
       "\t<li>'PWY-7401 | crotonate fermentation (to acetate and cyclohexane carboxylate)'</li>\n",
       "\t<li>'PWY-7235 | superpathway of ubiquinol-6 biosynthesis (eukaryotic)'</li>\n",
       "\t<li>'CENTBENZCOA-PWY | benzoyl-CoA degradation II (anaerobic)'</li>\n",
       "\t<li>'KDO-NAGLIPASYN-PWY | superpathway of (Kdo)&lt;SUB&gt;2&lt;/SUB&gt;-lipid A biosynthesis'</li>\n",
       "\t<li>'P321-PWY | benzoyl-CoA degradation III (anaerobic)'</li>\n",
       "\t<li>'PWY-4801 | aloesone biosynthesis I'</li>\n",
       "\t<li>'PWY-4922 | 6-methoxymellein biosynthesis'</li>\n",
       "\t<li>'PWY-5307 | gentiodelphin biosynthesis'</li>\n",
       "\t<li>'PWY-5437 | L-threonine degradation I'</li>\n",
       "\t<li>'PWY-5475 | pentagalloylglucose biosynthesis'</li>\n",
       "\t<li>'PWY-5477 | gallotannin biosynthesis'</li>\n",
       "\t<li>'PWY-5478 | superpathway of hydrolyzable tannin biosynthesis'</li>\n",
       "\t<li>'PWY-5794 | malonate degradation I (biotin-independent)'</li>\n",
       "\t<li>'PWY-5984 | rifamycin B biosynthesis'</li>\n",
       "\t<li>'PWY-6039 | chlorogenic acid biosynthesis I'</li>\n",
       "\t<li>'PWY-6056 | dimethylsulfoniopropanoate degradation II (cleavage)'</li>\n",
       "\t<li>'PWY-6312 | barbaloin biosynthesis'</li>\n",
       "\t<li>'PWY-6314 | plumbagin biosynthesis'</li>\n",
       "\t<li>'PWY-6316 | aromatic polyketides biosynthesis'</li>\n",
       "\t<li>'PWY-6320 | phaselate biosynthesis'</li>\n",
       "\t<li>'PWY-6373 | acrylate degradation'</li>\n",
       "\t<li>'PWY-6673 | caffeoylglucarate biosynthesis'</li>\n",
       "\t<li>'PWY-6818 | ornithine lipid biosynthesis'</li>\n",
       "\t<li>'PWY-6930 | phenolic malonylglucosides biosynthesis'</li>\n",
       "\t<li>'PWY-7029 | terminal olefins biosynthesis II'</li>\n",
       "\t<li>'PWY-7050 | icosapentaenoate biosynthesis IV (bacteria)'</li>\n",
       "\t<li>'PWY-7168 | flavonol acylglucoside biosynthesis I - kaempferol derivatives'</li>\n",
       "\t<li>'PWY-7172 | flavonol acylglucoside biosynthesis III - quercetin derivatives'</li>\n",
       "\t<li>'PWY-7261 | anthocyanidin 3-malylglucoside biosynthesis (acyl-glucose dependent)'</li>\n",
       "\t<li>'PWY-7265 | lampranthin biosynthesis'</li>\n",
       "\t<li>'PWY-7280 | ternatin C3 biosynthesis'</li>\n",
       "\t<li>'PWY-7318 | dTDP-3-acetamido-3,6-dideoxy-&amp;alpha;-D-glucose biosynthesis'</li>\n",
       "\t<li>'PWY-7448 | galloylated catechin biosynthesis'</li>\n",
       "\t<li>'PWY-7452 | cyanidin dimalonylglucoside biosynthesis'</li>\n",
       "\t<li>'PWY-7460 | 2-&lt;i&gt;O&lt;/i&gt;-acetyl-3-&lt;i&gt;O&lt;/i&gt;-&lt;i&gt;trans&lt;/i&gt;-coutarate biosynthesis'</li>\n",
       "\t<li>'PWY-7461 | hydroxycinnamate sugar acid ester biosynthesis'</li>\n",
       "\t<li>'PWY-7474 | avenacin A-2 biosynthesis'</li>\n",
       "\t<li>'PWY-7583 | arachidonate biosynthesis II (bacteria)'</li>\n",
       "\t<li>'PWY-7585 | docosahexaenoate biosynthesis II (bacteria)'</li>\n",
       "\t<li>'PWY-7672 | fusaric acid biosynthesis'</li>\n",
       "\t<li>'PWY-7679 | anthocyanidin acylglucoside and acylsambubioside biosynthesis'</li>\n",
       "\t<li>'PWY-7688 | dTDP-D-ravidosamine and dTDP-4-acetyl-D-ravidosamine biosynthesis'</li>\n",
       "\t<li>'PWY-7696 | citreoisocoumarin and bikisocoumarin biosynthesis'</li>\n",
       "\t<li>'PWY-7716 | penicillin G and penicillin V biosynthesis'</li>\n",
       "\t<li>'PWY-7746 | mycobacterial sulfolipid biosynthesis'</li>\n",
       "\t<li>'PWY-84 | resveratrol biosynthesis'</li>\n",
       "\t<li>'PWY-7668 | apicidin F biosynthesis'</li>\n",
       "\t<li>'PWY-6339 | syringate degradation'</li>\n",
       "\t<li>'PWY-7609 | superpathway of roquefortine, meleagrin and neoxaline biosynthesis'</li>\n",
       "\t<li>'PWY-5981 | CDP-diacylglycerol biosynthesis III'</li>\n",
       "\t<li>'PWY-7727 | docosahexaenoate biosynthesis IV (4-desaturase, mammals)'</li>\n",
       "\t<li>'PWY-7728 | (4Z,7Z,10Z,13Z,16Z)-docosa-4,7,10,13,16-pentaenoate biosynthesis II (4-desaturase)'</li>\n",
       "\t<li>'PWY-7470 | phosphatidylcholine biosynthesis VII'</li>\n",
       "\t<li>'ec00061 | Fatty acid biosynthesis'</li>\n",
       "\t<li>'PWY-5353 | arachidonate biosynthesis I (6-desaturase, lower eukaryotes)'</li>\n",
       "\t<li>'PWY-6958 | icosapentaenoate biosynthesis I (lower eukaryotes)'</li>\n",
       "\t<li>'PWY-7053 | docosahexaenoate biosynthesis I (lower eukaryotes)'</li>\n",
       "\t<li>'BENZCOA-PWY | anaerobic aromatic compound degradation (&lt;i&gt;Thauera aromatica&lt;/i&gt;)'</li>\n",
       "\t<li>'PWY66-5 | superpathway of cholesterol biosynthesis'</li>\n",
       "\t<li>'PWY-7135 | emetine biosynthesis'</li>\n",
       "\t<li>'PWY-6432 | curcuminoid biosynthesis'</li>\n",
       "\t<li>'PWY-6383 | mono-&lt;i&gt;trans&lt;/i&gt;, poly-&lt;i&gt;cis&lt;/i&gt; decaprenyl phosphate biosynthesis'</li>\n",
       "\t<li>'PWY-6799 | fatty acid biosynthesis (plant mitochondria)'</li>\n",
       "\t<li>'PWY-6679 | jadomycin biosynthesis'</li>\n",
       "\t<li>'ec00522 | Biosynthesis of 12-, 14- and 16-membered macrolides'</li>\n",
       "\t<li>'PWY-7156 | superpathway of ergosterol biosynthesis II'</li>\n",
       "\t<li>'ec00380 | Tryptophan metabolism'</li>\n",
       "\t<li>'PWY-7569 | arginomycin biosynthesis'</li>\n",
       "\t<li>'PWY-7570 | blasticidin S biosynthesis'</li>\n",
       "\t<li>'PWY-6346 | staurosporine biosynthesis'</li>\n",
       "\t<li>'ec00904 | Diterpenoid biosynthesis'</li>\n",
       "\t<li>'FOLSYN-PWY | superpathway of tetrahydrofolate biosynthesis and salvage'</li>\n",
       "\t<li>'ec01051 | Biosynthesis of ansamycins'</li>\n",
       "\t<li>'PWY-6146 | &lt;i&gt;Methanobacterium thermoautotrophicum&lt;/i&gt; biosynthetic metabolism'</li>\n",
       "\t<li>'PWY-5105 | hesperitin glycoside biosynthesis'</li>\n",
       "\t<li>'PWY-7055 | daphnetin modification'</li>\n",
       "\t<li>'PWY-7058 | esculetin modification'</li>\n",
       "\t<li>'ec00940 | Phenylpropanoid biosynthesis'</li>\n",
       "\t<li>'ec00642 | Ethylbenzene degradation'</li>\n",
       "\t<li>'PWY-7661 | protein &lt;I&gt;N&lt;/i&gt;-glycosylation (&lt;i&gt;Haloferax volcanii&lt;/i&gt;)'</li>\n",
       "\t<li>'PWY-5910 | superpathway of geranylgeranyldiphosphate biosynthesis I (via mevalonate)'</li>\n",
       "\t<li>'PWY-7250 | [2Fe-2S] iron-sulfur cluster biosynthesis'</li>\n",
       "\t<li>'PWY-6126 | superpathway of adenosine nucleotides &lt;i&gt;de novo&lt;/i&gt; biosynthesis II'</li>\n",
       "\t<li>'PWY-7229 | superpathway of adenosine nucleotides &lt;i&gt;de novo&lt;/i&gt; biosynthesis I'</li>\n",
       "\t<li>'PWY-7149 | superpathway of polymethylated quercetin/quercetagetin glucoside biosynthesis (Chrysosplenium)'</li>\n",
       "\t<li>'PWY-7150 | polymethylated quercetin glucoside biosynthesis I - quercetin series (Chrysosplenium)'</li>\n",
       "\t<li>'PWY-7151 | polymethylated quercetin glucoside biosynthesis II - quercetagetin series (Chrysosplenium)'</li>\n",
       "\t<li>'ec00945 | Stilbenoid, diarylheptanoid and gingerol biosynthesis'</li>\n",
       "\t<li>'PWY-7045 | mithramycin biosynthesis'</li>\n",
       "\t<li>'PWY0-881 | superpathway of fatty acid biosynthesis I (E. coli)'</li>\n",
       "\t<li>'PWY-7419 | FR-900098 and FR-33289 antibiotics biosynthesis'</li>\n",
       "\t<li>'ec00790 | Folate biosynthesis'</li>\n",
       "\t<li>'ARGSYN-PWY | L-arginine biosynthesis I (via L-ornithine)'</li>\n",
       "\t<li>'ec00130 | Ubiquinone and other terpenoid-quinone biosynthesis'</li>\n",
       "\t<li>'PWY-7219 | adenosine ribonucleotides &lt;i&gt;de novo&lt;/i&gt; biosynthesis'</li>\n",
       "</ol>\n"
      ],
      "text/latex": [
       "\\begin{enumerate*}\n",
       "\\item 'ec00230 \\textbar{} Purine metabolism'\n",
       "\\item 'PWY-6407 \\textbar{} yersiniabactin biosynthesis'\n",
       "\\item 'PWY-6408 \\textbar{} pyochelin biosynthesis'\n",
       "\\item 'PWY-6640 \\textbar{} salicylate degradation IV'\n",
       "\\item 'ec00627 \\textbar{} Aminobenzoate degradation'\n",
       "\\item 'PWY-7659 \\textbar{} viridicatumtoxin biosynthesis'\n",
       "\\item 'PWY-7706 \\textbar{} dapdiamides biosynthesis'\n",
       "\\item 'PWY-7673 \\textbar{} fusarin C biosynthesis'\n",
       "\\item 'PWY-6515 \\textbar{} phloridzin biosynthesis'\n",
       "\\item 'PWY-5184 \\textbar{} toluene degradation VI (anaerobic)'\n",
       "\\item 'ERGOSTEROL-SYN-PWY \\textbar{} superpathway of ergosterol biosynthesis I'\n",
       "\\item 'PWY1-3 \\textbar{} polyhydroxybutanoate biosynthesis'\n",
       "\\item 'PWY-7656 \\textbar{} <i>Spodoptera littoralis</i> pheromone biosynthesis'\n",
       "\\item 'ec00942 \\textbar{} Anthocyanin biosynthesis'\n",
       "\\item 'PWY-7517 \\textbar{} brassicicene C biosynthesis'\n",
       "\\item 'PWY-5846 \\textbar{} colchicine biosynthesis'\n",
       "\\item 'PWY-7317 \\textbar{} superpathway of dTDP-glucose-derived O-antigen building blocks biosynthesis'\n",
       "\\item 'PWY-5965 \\textbar{} fatty acid biosynthesis initiation III'\n",
       "\\item 'PWY-5290 \\textbar{} secologanin and strictosidine biosynthesis'\n",
       "\\item 'PWY-5287 \\textbar{} sanguinarine and macarpine biosynthesis'\n",
       "\\item 'PWY-5773 \\textbar{} gossypol biosynthesis'\n",
       "\\item 'PWY-601 \\textbar{} glucosinolate biosynthesis from tryptophan'\n",
       "\\item 'PWY-7325 \\textbar{} salvigenin biosynthesis'\n",
       "\\item 'PWY-7607 \\textbar{} meleagrin biosynthesis'\n",
       "\\item 'PWY-7608 \\textbar{} neoxaline biosynthesis'\n",
       "\\item 'PWY-7629 \\textbar{} yatein biosynthesis II'\n",
       "\\item 'PWY-7739 \\textbar{} aucuparin biosynthesis'\n",
       "\\item 'FASYN-INITIAL-PWY \\textbar{} superpathway of fatty acid biosynthesis initiation (E. coli)'\n",
       "\\item 'PWY-6978 \\textbar{} plastoquinol-9 biosynthesis II'\n",
       "\\item 'PWY-7230 \\textbar{} ubiquinol-6 biosynthesis from 4-aminobenzoate (eukaryotic)'\n",
       "\\item 'PWY-7233 \\textbar{} ubiquinol-6 bypass biosynthesis (eukaryotic)'\n",
       "\\item 'PWY-7402 \\textbar{} benzoate fermentation (to acetate and cyclohexane carboxylate)'\n",
       "\\item 'PWY0-162 \\textbar{} superpathway of pyrimidine ribonucleotides <i>de novo</i> biosynthesis'\n",
       "\\item 'PWY-7601 \\textbar{} arachidonate biosynthesis IV (8-detaturase, lower eukaryotes)'\n",
       "\\item 'PWY-7602 \\textbar{} icosapentaenoate biosynthesis V (8-desaturase, lower eukaryotes)'\n",
       "\\item 'PWY-7465 \\textbar{} 3,3\\textbackslash{}'-thiodipropanoate degradation'\n",
       "\\item 'PWY-7382 \\textbar{} lipoate biosynthesis and incorporation (yeast)'\n",
       "\\item 'ec00624 \\textbar{} Polycyclic aromatic hydrocarbon degradation'\n",
       "\\item 'PWY-7401 \\textbar{} crotonate fermentation (to acetate and cyclohexane carboxylate)'\n",
       "\\item 'PWY-7235 \\textbar{} superpathway of ubiquinol-6 biosynthesis (eukaryotic)'\n",
       "\\item 'CENTBENZCOA-PWY \\textbar{} benzoyl-CoA degradation II (anaerobic)'\n",
       "\\item 'KDO-NAGLIPASYN-PWY \\textbar{} superpathway of (Kdo)<SUB>2</SUB>-lipid A biosynthesis'\n",
       "\\item 'P321-PWY \\textbar{} benzoyl-CoA degradation III (anaerobic)'\n",
       "\\item 'PWY-4801 \\textbar{} aloesone biosynthesis I'\n",
       "\\item 'PWY-4922 \\textbar{} 6-methoxymellein biosynthesis'\n",
       "\\item 'PWY-5307 \\textbar{} gentiodelphin biosynthesis'\n",
       "\\item 'PWY-5437 \\textbar{} L-threonine degradation I'\n",
       "\\item 'PWY-5475 \\textbar{} pentagalloylglucose biosynthesis'\n",
       "\\item 'PWY-5477 \\textbar{} gallotannin biosynthesis'\n",
       "\\item 'PWY-5478 \\textbar{} superpathway of hydrolyzable tannin biosynthesis'\n",
       "\\item 'PWY-5794 \\textbar{} malonate degradation I (biotin-independent)'\n",
       "\\item 'PWY-5984 \\textbar{} rifamycin B biosynthesis'\n",
       "\\item 'PWY-6039 \\textbar{} chlorogenic acid biosynthesis I'\n",
       "\\item 'PWY-6056 \\textbar{} dimethylsulfoniopropanoate degradation II (cleavage)'\n",
       "\\item 'PWY-6312 \\textbar{} barbaloin biosynthesis'\n",
       "\\item 'PWY-6314 \\textbar{} plumbagin biosynthesis'\n",
       "\\item 'PWY-6316 \\textbar{} aromatic polyketides biosynthesis'\n",
       "\\item 'PWY-6320 \\textbar{} phaselate biosynthesis'\n",
       "\\item 'PWY-6373 \\textbar{} acrylate degradation'\n",
       "\\item 'PWY-6673 \\textbar{} caffeoylglucarate biosynthesis'\n",
       "\\item 'PWY-6818 \\textbar{} ornithine lipid biosynthesis'\n",
       "\\item 'PWY-6930 \\textbar{} phenolic malonylglucosides biosynthesis'\n",
       "\\item 'PWY-7029 \\textbar{} terminal olefins biosynthesis II'\n",
       "\\item 'PWY-7050 \\textbar{} icosapentaenoate biosynthesis IV (bacteria)'\n",
       "\\item 'PWY-7168 \\textbar{} flavonol acylglucoside biosynthesis I - kaempferol derivatives'\n",
       "\\item 'PWY-7172 \\textbar{} flavonol acylglucoside biosynthesis III - quercetin derivatives'\n",
       "\\item 'PWY-7261 \\textbar{} anthocyanidin 3-malylglucoside biosynthesis (acyl-glucose dependent)'\n",
       "\\item 'PWY-7265 \\textbar{} lampranthin biosynthesis'\n",
       "\\item 'PWY-7280 \\textbar{} ternatin C3 biosynthesis'\n",
       "\\item 'PWY-7318 \\textbar{} dTDP-3-acetamido-3,6-dideoxy-\\&alpha;-D-glucose biosynthesis'\n",
       "\\item 'PWY-7448 \\textbar{} galloylated catechin biosynthesis'\n",
       "\\item 'PWY-7452 \\textbar{} cyanidin dimalonylglucoside biosynthesis'\n",
       "\\item 'PWY-7460 \\textbar{} 2-<i>O</i>-acetyl-3-<i>O</i>-<i>trans</i>-coutarate biosynthesis'\n",
       "\\item 'PWY-7461 \\textbar{} hydroxycinnamate sugar acid ester biosynthesis'\n",
       "\\item 'PWY-7474 \\textbar{} avenacin A-2 biosynthesis'\n",
       "\\item 'PWY-7583 \\textbar{} arachidonate biosynthesis II (bacteria)'\n",
       "\\item 'PWY-7585 \\textbar{} docosahexaenoate biosynthesis II (bacteria)'\n",
       "\\item 'PWY-7672 \\textbar{} fusaric acid biosynthesis'\n",
       "\\item 'PWY-7679 \\textbar{} anthocyanidin acylglucoside and acylsambubioside biosynthesis'\n",
       "\\item 'PWY-7688 \\textbar{} dTDP-D-ravidosamine and dTDP-4-acetyl-D-ravidosamine biosynthesis'\n",
       "\\item 'PWY-7696 \\textbar{} citreoisocoumarin and bikisocoumarin biosynthesis'\n",
       "\\item 'PWY-7716 \\textbar{} penicillin G and penicillin V biosynthesis'\n",
       "\\item 'PWY-7746 \\textbar{} mycobacterial sulfolipid biosynthesis'\n",
       "\\item 'PWY-84 \\textbar{} resveratrol biosynthesis'\n",
       "\\item 'PWY-7668 \\textbar{} apicidin F biosynthesis'\n",
       "\\item 'PWY-6339 \\textbar{} syringate degradation'\n",
       "\\item 'PWY-7609 \\textbar{} superpathway of roquefortine, meleagrin and neoxaline biosynthesis'\n",
       "\\item 'PWY-5981 \\textbar{} CDP-diacylglycerol biosynthesis III'\n",
       "\\item 'PWY-7727 \\textbar{} docosahexaenoate biosynthesis IV (4-desaturase, mammals)'\n",
       "\\item 'PWY-7728 \\textbar{} (4Z,7Z,10Z,13Z,16Z)-docosa-4,7,10,13,16-pentaenoate biosynthesis II (4-desaturase)'\n",
       "\\item 'PWY-7470 \\textbar{} phosphatidylcholine biosynthesis VII'\n",
       "\\item 'ec00061 \\textbar{} Fatty acid biosynthesis'\n",
       "\\item 'PWY-5353 \\textbar{} arachidonate biosynthesis I (6-desaturase, lower eukaryotes)'\n",
       "\\item 'PWY-6958 \\textbar{} icosapentaenoate biosynthesis I (lower eukaryotes)'\n",
       "\\item 'PWY-7053 \\textbar{} docosahexaenoate biosynthesis I (lower eukaryotes)'\n",
       "\\item 'BENZCOA-PWY \\textbar{} anaerobic aromatic compound degradation (<i>Thauera aromatica</i>)'\n",
       "\\item 'PWY66-5 \\textbar{} superpathway of cholesterol biosynthesis'\n",
       "\\item 'PWY-7135 \\textbar{} emetine biosynthesis'\n",
       "\\item 'PWY-6432 \\textbar{} curcuminoid biosynthesis'\n",
       "\\item 'PWY-6383 \\textbar{} mono-<i>trans</i>, poly-<i>cis</i> decaprenyl phosphate biosynthesis'\n",
       "\\item 'PWY-6799 \\textbar{} fatty acid biosynthesis (plant mitochondria)'\n",
       "\\item 'PWY-6679 \\textbar{} jadomycin biosynthesis'\n",
       "\\item 'ec00522 \\textbar{} Biosynthesis of 12-, 14- and 16-membered macrolides'\n",
       "\\item 'PWY-7156 \\textbar{} superpathway of ergosterol biosynthesis II'\n",
       "\\item 'ec00380 \\textbar{} Tryptophan metabolism'\n",
       "\\item 'PWY-7569 \\textbar{} arginomycin biosynthesis'\n",
       "\\item 'PWY-7570 \\textbar{} blasticidin S biosynthesis'\n",
       "\\item 'PWY-6346 \\textbar{} staurosporine biosynthesis'\n",
       "\\item 'ec00904 \\textbar{} Diterpenoid biosynthesis'\n",
       "\\item 'FOLSYN-PWY \\textbar{} superpathway of tetrahydrofolate biosynthesis and salvage'\n",
       "\\item 'ec01051 \\textbar{} Biosynthesis of ansamycins'\n",
       "\\item 'PWY-6146 \\textbar{} <i>Methanobacterium thermoautotrophicum</i> biosynthetic metabolism'\n",
       "\\item 'PWY-5105 \\textbar{} hesperitin glycoside biosynthesis'\n",
       "\\item 'PWY-7055 \\textbar{} daphnetin modification'\n",
       "\\item 'PWY-7058 \\textbar{} esculetin modification'\n",
       "\\item 'ec00940 \\textbar{} Phenylpropanoid biosynthesis'\n",
       "\\item 'ec00642 \\textbar{} Ethylbenzene degradation'\n",
       "\\item 'PWY-7661 \\textbar{} protein <I>N</i>-glycosylation (<i>Haloferax volcanii</i>)'\n",
       "\\item 'PWY-5910 \\textbar{} superpathway of geranylgeranyldiphosphate biosynthesis I (via mevalonate)'\n",
       "\\item 'PWY-7250 \\textbar{} {[}2Fe-2S{]} iron-sulfur cluster biosynthesis'\n",
       "\\item 'PWY-6126 \\textbar{} superpathway of adenosine nucleotides <i>de novo</i> biosynthesis II'\n",
       "\\item 'PWY-7229 \\textbar{} superpathway of adenosine nucleotides <i>de novo</i> biosynthesis I'\n",
       "\\item 'PWY-7149 \\textbar{} superpathway of polymethylated quercetin/quercetagetin glucoside biosynthesis (Chrysosplenium)'\n",
       "\\item 'PWY-7150 \\textbar{} polymethylated quercetin glucoside biosynthesis I - quercetin series (Chrysosplenium)'\n",
       "\\item 'PWY-7151 \\textbar{} polymethylated quercetin glucoside biosynthesis II - quercetagetin series (Chrysosplenium)'\n",
       "\\item 'ec00945 \\textbar{} Stilbenoid, diarylheptanoid and gingerol biosynthesis'\n",
       "\\item 'PWY-7045 \\textbar{} mithramycin biosynthesis'\n",
       "\\item 'PWY0-881 \\textbar{} superpathway of fatty acid biosynthesis I (E. coli)'\n",
       "\\item 'PWY-7419 \\textbar{} FR-900098 and FR-33289 antibiotics biosynthesis'\n",
       "\\item 'ec00790 \\textbar{} Folate biosynthesis'\n",
       "\\item 'ARGSYN-PWY \\textbar{} L-arginine biosynthesis I (via L-ornithine)'\n",
       "\\item 'ec00130 \\textbar{} Ubiquinone and other terpenoid-quinone biosynthesis'\n",
       "\\item 'PWY-7219 \\textbar{} adenosine ribonucleotides <i>de novo</i> biosynthesis'\n",
       "\\end{enumerate*}\n"
      ],
      "text/markdown": [
       "1. 'ec00230 | Purine metabolism'\n",
       "2. 'PWY-6407 | yersiniabactin biosynthesis'\n",
       "3. 'PWY-6408 | pyochelin biosynthesis'\n",
       "4. 'PWY-6640 | salicylate degradation IV'\n",
       "5. 'ec00627 | Aminobenzoate degradation'\n",
       "6. 'PWY-7659 | viridicatumtoxin biosynthesis'\n",
       "7. 'PWY-7706 | dapdiamides biosynthesis'\n",
       "8. 'PWY-7673 | fusarin C biosynthesis'\n",
       "9. 'PWY-6515 | phloridzin biosynthesis'\n",
       "10. 'PWY-5184 | toluene degradation VI (anaerobic)'\n",
       "11. 'ERGOSTEROL-SYN-PWY | superpathway of ergosterol biosynthesis I'\n",
       "12. 'PWY1-3 | polyhydroxybutanoate biosynthesis'\n",
       "13. 'PWY-7656 | &lt;i&gt;Spodoptera littoralis&lt;/i&gt; pheromone biosynthesis'\n",
       "14. 'ec00942 | Anthocyanin biosynthesis'\n",
       "15. 'PWY-7517 | brassicicene C biosynthesis'\n",
       "16. 'PWY-5846 | colchicine biosynthesis'\n",
       "17. 'PWY-7317 | superpathway of dTDP-glucose-derived O-antigen building blocks biosynthesis'\n",
       "18. 'PWY-5965 | fatty acid biosynthesis initiation III'\n",
       "19. 'PWY-5290 | secologanin and strictosidine biosynthesis'\n",
       "20. 'PWY-5287 | sanguinarine and macarpine biosynthesis'\n",
       "21. 'PWY-5773 | gossypol biosynthesis'\n",
       "22. 'PWY-601 | glucosinolate biosynthesis from tryptophan'\n",
       "23. 'PWY-7325 | salvigenin biosynthesis'\n",
       "24. 'PWY-7607 | meleagrin biosynthesis'\n",
       "25. 'PWY-7608 | neoxaline biosynthesis'\n",
       "26. 'PWY-7629 | yatein biosynthesis II'\n",
       "27. 'PWY-7739 | aucuparin biosynthesis'\n",
       "28. 'FASYN-INITIAL-PWY | superpathway of fatty acid biosynthesis initiation (E. coli)'\n",
       "29. 'PWY-6978 | plastoquinol-9 biosynthesis II'\n",
       "30. 'PWY-7230 | ubiquinol-6 biosynthesis from 4-aminobenzoate (eukaryotic)'\n",
       "31. 'PWY-7233 | ubiquinol-6 bypass biosynthesis (eukaryotic)'\n",
       "32. 'PWY-7402 | benzoate fermentation (to acetate and cyclohexane carboxylate)'\n",
       "33. 'PWY0-162 | superpathway of pyrimidine ribonucleotides &lt;i&gt;de novo&lt;/i&gt; biosynthesis'\n",
       "34. 'PWY-7601 | arachidonate biosynthesis IV (8-detaturase, lower eukaryotes)'\n",
       "35. 'PWY-7602 | icosapentaenoate biosynthesis V (8-desaturase, lower eukaryotes)'\n",
       "36. 'PWY-7465 | 3,3\\'-thiodipropanoate degradation'\n",
       "37. 'PWY-7382 | lipoate biosynthesis and incorporation (yeast)'\n",
       "38. 'ec00624 | Polycyclic aromatic hydrocarbon degradation'\n",
       "39. 'PWY-7401 | crotonate fermentation (to acetate and cyclohexane carboxylate)'\n",
       "40. 'PWY-7235 | superpathway of ubiquinol-6 biosynthesis (eukaryotic)'\n",
       "41. 'CENTBENZCOA-PWY | benzoyl-CoA degradation II (anaerobic)'\n",
       "42. 'KDO-NAGLIPASYN-PWY | superpathway of (Kdo)&lt;SUB&gt;2&lt;/SUB&gt;-lipid A biosynthesis'\n",
       "43. 'P321-PWY | benzoyl-CoA degradation III (anaerobic)'\n",
       "44. 'PWY-4801 | aloesone biosynthesis I'\n",
       "45. 'PWY-4922 | 6-methoxymellein biosynthesis'\n",
       "46. 'PWY-5307 | gentiodelphin biosynthesis'\n",
       "47. 'PWY-5437 | L-threonine degradation I'\n",
       "48. 'PWY-5475 | pentagalloylglucose biosynthesis'\n",
       "49. 'PWY-5477 | gallotannin biosynthesis'\n",
       "50. 'PWY-5478 | superpathway of hydrolyzable tannin biosynthesis'\n",
       "51. 'PWY-5794 | malonate degradation I (biotin-independent)'\n",
       "52. 'PWY-5984 | rifamycin B biosynthesis'\n",
       "53. 'PWY-6039 | chlorogenic acid biosynthesis I'\n",
       "54. 'PWY-6056 | dimethylsulfoniopropanoate degradation II (cleavage)'\n",
       "55. 'PWY-6312 | barbaloin biosynthesis'\n",
       "56. 'PWY-6314 | plumbagin biosynthesis'\n",
       "57. 'PWY-6316 | aromatic polyketides biosynthesis'\n",
       "58. 'PWY-6320 | phaselate biosynthesis'\n",
       "59. 'PWY-6373 | acrylate degradation'\n",
       "60. 'PWY-6673 | caffeoylglucarate biosynthesis'\n",
       "61. 'PWY-6818 | ornithine lipid biosynthesis'\n",
       "62. 'PWY-6930 | phenolic malonylglucosides biosynthesis'\n",
       "63. 'PWY-7029 | terminal olefins biosynthesis II'\n",
       "64. 'PWY-7050 | icosapentaenoate biosynthesis IV (bacteria)'\n",
       "65. 'PWY-7168 | flavonol acylglucoside biosynthesis I - kaempferol derivatives'\n",
       "66. 'PWY-7172 | flavonol acylglucoside biosynthesis III - quercetin derivatives'\n",
       "67. 'PWY-7261 | anthocyanidin 3-malylglucoside biosynthesis (acyl-glucose dependent)'\n",
       "68. 'PWY-7265 | lampranthin biosynthesis'\n",
       "69. 'PWY-7280 | ternatin C3 biosynthesis'\n",
       "70. 'PWY-7318 | dTDP-3-acetamido-3,6-dideoxy-&amp;alpha;-D-glucose biosynthesis'\n",
       "71. 'PWY-7448 | galloylated catechin biosynthesis'\n",
       "72. 'PWY-7452 | cyanidin dimalonylglucoside biosynthesis'\n",
       "73. 'PWY-7460 | 2-&lt;i&gt;O&lt;/i&gt;-acetyl-3-&lt;i&gt;O&lt;/i&gt;-&lt;i&gt;trans&lt;/i&gt;-coutarate biosynthesis'\n",
       "74. 'PWY-7461 | hydroxycinnamate sugar acid ester biosynthesis'\n",
       "75. 'PWY-7474 | avenacin A-2 biosynthesis'\n",
       "76. 'PWY-7583 | arachidonate biosynthesis II (bacteria)'\n",
       "77. 'PWY-7585 | docosahexaenoate biosynthesis II (bacteria)'\n",
       "78. 'PWY-7672 | fusaric acid biosynthesis'\n",
       "79. 'PWY-7679 | anthocyanidin acylglucoside and acylsambubioside biosynthesis'\n",
       "80. 'PWY-7688 | dTDP-D-ravidosamine and dTDP-4-acetyl-D-ravidosamine biosynthesis'\n",
       "81. 'PWY-7696 | citreoisocoumarin and bikisocoumarin biosynthesis'\n",
       "82. 'PWY-7716 | penicillin G and penicillin V biosynthesis'\n",
       "83. 'PWY-7746 | mycobacterial sulfolipid biosynthesis'\n",
       "84. 'PWY-84 | resveratrol biosynthesis'\n",
       "85. 'PWY-7668 | apicidin F biosynthesis'\n",
       "86. 'PWY-6339 | syringate degradation'\n",
       "87. 'PWY-7609 | superpathway of roquefortine, meleagrin and neoxaline biosynthesis'\n",
       "88. 'PWY-5981 | CDP-diacylglycerol biosynthesis III'\n",
       "89. 'PWY-7727 | docosahexaenoate biosynthesis IV (4-desaturase, mammals)'\n",
       "90. 'PWY-7728 | (4Z,7Z,10Z,13Z,16Z)-docosa-4,7,10,13,16-pentaenoate biosynthesis II (4-desaturase)'\n",
       "91. 'PWY-7470 | phosphatidylcholine biosynthesis VII'\n",
       "92. 'ec00061 | Fatty acid biosynthesis'\n",
       "93. 'PWY-5353 | arachidonate biosynthesis I (6-desaturase, lower eukaryotes)'\n",
       "94. 'PWY-6958 | icosapentaenoate biosynthesis I (lower eukaryotes)'\n",
       "95. 'PWY-7053 | docosahexaenoate biosynthesis I (lower eukaryotes)'\n",
       "96. 'BENZCOA-PWY | anaerobic aromatic compound degradation (&lt;i&gt;Thauera aromatica&lt;/i&gt;)'\n",
       "97. 'PWY66-5 | superpathway of cholesterol biosynthesis'\n",
       "98. 'PWY-7135 | emetine biosynthesis'\n",
       "99. 'PWY-6432 | curcuminoid biosynthesis'\n",
       "100. 'PWY-6383 | mono-&lt;i&gt;trans&lt;/i&gt;, poly-&lt;i&gt;cis&lt;/i&gt; decaprenyl phosphate biosynthesis'\n",
       "101. 'PWY-6799 | fatty acid biosynthesis (plant mitochondria)'\n",
       "102. 'PWY-6679 | jadomycin biosynthesis'\n",
       "103. 'ec00522 | Biosynthesis of 12-, 14- and 16-membered macrolides'\n",
       "104. 'PWY-7156 | superpathway of ergosterol biosynthesis II'\n",
       "105. 'ec00380 | Tryptophan metabolism'\n",
       "106. 'PWY-7569 | arginomycin biosynthesis'\n",
       "107. 'PWY-7570 | blasticidin S biosynthesis'\n",
       "108. 'PWY-6346 | staurosporine biosynthesis'\n",
       "109. 'ec00904 | Diterpenoid biosynthesis'\n",
       "110. 'FOLSYN-PWY | superpathway of tetrahydrofolate biosynthesis and salvage'\n",
       "111. 'ec01051 | Biosynthesis of ansamycins'\n",
       "112. 'PWY-6146 | &lt;i&gt;Methanobacterium thermoautotrophicum&lt;/i&gt; biosynthetic metabolism'\n",
       "113. 'PWY-5105 | hesperitin glycoside biosynthesis'\n",
       "114. 'PWY-7055 | daphnetin modification'\n",
       "115. 'PWY-7058 | esculetin modification'\n",
       "116. 'ec00940 | Phenylpropanoid biosynthesis'\n",
       "117. 'ec00642 | Ethylbenzene degradation'\n",
       "118. 'PWY-7661 | protein &lt;I&gt;N&lt;/i&gt;-glycosylation (&lt;i&gt;Haloferax volcanii&lt;/i&gt;)'\n",
       "119. 'PWY-5910 | superpathway of geranylgeranyldiphosphate biosynthesis I (via mevalonate)'\n",
       "120. 'PWY-7250 | [2Fe-2S] iron-sulfur cluster biosynthesis'\n",
       "121. 'PWY-6126 | superpathway of adenosine nucleotides &lt;i&gt;de novo&lt;/i&gt; biosynthesis II'\n",
       "122. 'PWY-7229 | superpathway of adenosine nucleotides &lt;i&gt;de novo&lt;/i&gt; biosynthesis I'\n",
       "123. 'PWY-7149 | superpathway of polymethylated quercetin/quercetagetin glucoside biosynthesis (Chrysosplenium)'\n",
       "124. 'PWY-7150 | polymethylated quercetin glucoside biosynthesis I - quercetin series (Chrysosplenium)'\n",
       "125. 'PWY-7151 | polymethylated quercetin glucoside biosynthesis II - quercetagetin series (Chrysosplenium)'\n",
       "126. 'ec00945 | Stilbenoid, diarylheptanoid and gingerol biosynthesis'\n",
       "127. 'PWY-7045 | mithramycin biosynthesis'\n",
       "128. 'PWY0-881 | superpathway of fatty acid biosynthesis I (E. coli)'\n",
       "129. 'PWY-7419 | FR-900098 and FR-33289 antibiotics biosynthesis'\n",
       "130. 'ec00790 | Folate biosynthesis'\n",
       "131. 'ARGSYN-PWY | L-arginine biosynthesis I (via L-ornithine)'\n",
       "132. 'ec00130 | Ubiquinone and other terpenoid-quinone biosynthesis'\n",
       "133. 'PWY-7219 | adenosine ribonucleotides &lt;i&gt;de novo&lt;/i&gt; biosynthesis'\n",
       "\n",
       "\n"
      ],
      "text/plain": [
       "  [1] \"ec00230 | Purine metabolism\"                                                                              \n",
       "  [2] \"PWY-6407 | yersiniabactin biosynthesis\"                                                                   \n",
       "  [3] \"PWY-6408 | pyochelin biosynthesis\"                                                                        \n",
       "  [4] \"PWY-6640 | salicylate degradation IV\"                                                                     \n",
       "  [5] \"ec00627 | Aminobenzoate degradation\"                                                                      \n",
       "  [6] \"PWY-7659 | viridicatumtoxin biosynthesis\"                                                                 \n",
       "  [7] \"PWY-7706 | dapdiamides biosynthesis\"                                                                      \n",
       "  [8] \"PWY-7673 | fusarin C biosynthesis\"                                                                        \n",
       "  [9] \"PWY-6515 | phloridzin biosynthesis\"                                                                       \n",
       " [10] \"PWY-5184 | toluene degradation VI (anaerobic)\"                                                            \n",
       " [11] \"ERGOSTEROL-SYN-PWY | superpathway of ergosterol biosynthesis I\"                                           \n",
       " [12] \"PWY1-3 | polyhydroxybutanoate biosynthesis\"                                                               \n",
       " [13] \"PWY-7656 | <i>Spodoptera littoralis</i> pheromone biosynthesis\"                                           \n",
       " [14] \"ec00942 | Anthocyanin biosynthesis\"                                                                       \n",
       " [15] \"PWY-7517 | brassicicene C biosynthesis\"                                                                   \n",
       " [16] \"PWY-5846 | colchicine biosynthesis\"                                                                       \n",
       " [17] \"PWY-7317 | superpathway of dTDP-glucose-derived O-antigen building blocks biosynthesis\"                   \n",
       " [18] \"PWY-5965 | fatty acid biosynthesis initiation III\"                                                        \n",
       " [19] \"PWY-5290 | secologanin and strictosidine biosynthesis\"                                                    \n",
       " [20] \"PWY-5287 | sanguinarine and macarpine biosynthesis\"                                                       \n",
       " [21] \"PWY-5773 | gossypol biosynthesis\"                                                                         \n",
       " [22] \"PWY-601 | glucosinolate biosynthesis from tryptophan\"                                                     \n",
       " [23] \"PWY-7325 | salvigenin biosynthesis\"                                                                       \n",
       " [24] \"PWY-7607 | meleagrin biosynthesis\"                                                                        \n",
       " [25] \"PWY-7608 | neoxaline biosynthesis\"                                                                        \n",
       " [26] \"PWY-7629 | yatein biosynthesis II\"                                                                        \n",
       " [27] \"PWY-7739 | aucuparin biosynthesis\"                                                                        \n",
       " [28] \"FASYN-INITIAL-PWY | superpathway of fatty acid biosynthesis initiation (E. coli)\"                         \n",
       " [29] \"PWY-6978 | plastoquinol-9 biosynthesis II\"                                                                \n",
       " [30] \"PWY-7230 | ubiquinol-6 biosynthesis from 4-aminobenzoate (eukaryotic)\"                                    \n",
       " [31] \"PWY-7233 | ubiquinol-6 bypass biosynthesis (eukaryotic)\"                                                  \n",
       " [32] \"PWY-7402 | benzoate fermentation (to acetate and cyclohexane carboxylate)\"                                \n",
       " [33] \"PWY0-162 | superpathway of pyrimidine ribonucleotides <i>de novo</i> biosynthesis\"                        \n",
       " [34] \"PWY-7601 | arachidonate biosynthesis IV (8-detaturase, lower eukaryotes)\"                                 \n",
       " [35] \"PWY-7602 | icosapentaenoate biosynthesis V (8-desaturase, lower eukaryotes)\"                              \n",
       " [36] \"PWY-7465 | 3,3'-thiodipropanoate degradation\"                                                             \n",
       " [37] \"PWY-7382 | lipoate biosynthesis and incorporation (yeast)\"                                                \n",
       " [38] \"ec00624 | Polycyclic aromatic hydrocarbon degradation\"                                                    \n",
       " [39] \"PWY-7401 | crotonate fermentation (to acetate and cyclohexane carboxylate)\"                               \n",
       " [40] \"PWY-7235 | superpathway of ubiquinol-6 biosynthesis (eukaryotic)\"                                         \n",
       " [41] \"CENTBENZCOA-PWY | benzoyl-CoA degradation II (anaerobic)\"                                                 \n",
       " [42] \"KDO-NAGLIPASYN-PWY | superpathway of (Kdo)<SUB>2</SUB>-lipid A biosynthesis\"                              \n",
       " [43] \"P321-PWY | benzoyl-CoA degradation III (anaerobic)\"                                                       \n",
       " [44] \"PWY-4801 | aloesone biosynthesis I\"                                                                       \n",
       " [45] \"PWY-4922 | 6-methoxymellein biosynthesis\"                                                                 \n",
       " [46] \"PWY-5307 | gentiodelphin biosynthesis\"                                                                    \n",
       " [47] \"PWY-5437 | L-threonine degradation I\"                                                                     \n",
       " [48] \"PWY-5475 | pentagalloylglucose biosynthesis\"                                                              \n",
       " [49] \"PWY-5477 | gallotannin biosynthesis\"                                                                      \n",
       " [50] \"PWY-5478 | superpathway of hydrolyzable tannin biosynthesis\"                                              \n",
       " [51] \"PWY-5794 | malonate degradation I (biotin-independent)\"                                                   \n",
       " [52] \"PWY-5984 | rifamycin B biosynthesis\"                                                                      \n",
       " [53] \"PWY-6039 | chlorogenic acid biosynthesis I\"                                                               \n",
       " [54] \"PWY-6056 | dimethylsulfoniopropanoate degradation II (cleavage)\"                                          \n",
       " [55] \"PWY-6312 | barbaloin biosynthesis\"                                                                        \n",
       " [56] \"PWY-6314 | plumbagin biosynthesis\"                                                                        \n",
       " [57] \"PWY-6316 | aromatic polyketides biosynthesis\"                                                             \n",
       " [58] \"PWY-6320 | phaselate biosynthesis\"                                                                        \n",
       " [59] \"PWY-6373 | acrylate degradation\"                                                                          \n",
       " [60] \"PWY-6673 | caffeoylglucarate biosynthesis\"                                                                \n",
       " [61] \"PWY-6818 | ornithine lipid biosynthesis\"                                                                  \n",
       " [62] \"PWY-6930 | phenolic malonylglucosides biosynthesis\"                                                       \n",
       " [63] \"PWY-7029 | terminal olefins biosynthesis II\"                                                              \n",
       " [64] \"PWY-7050 | icosapentaenoate biosynthesis IV (bacteria)\"                                                   \n",
       " [65] \"PWY-7168 | flavonol acylglucoside biosynthesis I - kaempferol derivatives\"                                \n",
       " [66] \"PWY-7172 | flavonol acylglucoside biosynthesis III - quercetin derivatives\"                               \n",
       " [67] \"PWY-7261 | anthocyanidin 3-malylglucoside biosynthesis (acyl-glucose dependent)\"                          \n",
       " [68] \"PWY-7265 | lampranthin biosynthesis\"                                                                      \n",
       " [69] \"PWY-7280 | ternatin C3 biosynthesis\"                                                                      \n",
       " [70] \"PWY-7318 | dTDP-3-acetamido-3,6-dideoxy-&alpha;-D-glucose biosynthesis\"                                   \n",
       " [71] \"PWY-7448 | galloylated catechin biosynthesis\"                                                             \n",
       " [72] \"PWY-7452 | cyanidin dimalonylglucoside biosynthesis\"                                                      \n",
       " [73] \"PWY-7460 | 2-<i>O</i>-acetyl-3-<i>O</i>-<i>trans</i>-coutarate biosynthesis\"                              \n",
       " [74] \"PWY-7461 | hydroxycinnamate sugar acid ester biosynthesis\"                                                \n",
       " [75] \"PWY-7474 | avenacin A-2 biosynthesis\"                                                                     \n",
       " [76] \"PWY-7583 | arachidonate biosynthesis II (bacteria)\"                                                       \n",
       " [77] \"PWY-7585 | docosahexaenoate biosynthesis II (bacteria)\"                                                   \n",
       " [78] \"PWY-7672 | fusaric acid biosynthesis\"                                                                     \n",
       " [79] \"PWY-7679 | anthocyanidin acylglucoside and acylsambubioside biosynthesis\"                                 \n",
       " [80] \"PWY-7688 | dTDP-D-ravidosamine and dTDP-4-acetyl-D-ravidosamine biosynthesis\"                             \n",
       " [81] \"PWY-7696 | citreoisocoumarin and bikisocoumarin biosynthesis\"                                             \n",
       " [82] \"PWY-7716 | penicillin G and penicillin V biosynthesis\"                                                    \n",
       " [83] \"PWY-7746 | mycobacterial sulfolipid biosynthesis\"                                                         \n",
       " [84] \"PWY-84 | resveratrol biosynthesis\"                                                                        \n",
       " [85] \"PWY-7668 | apicidin F biosynthesis\"                                                                       \n",
       " [86] \"PWY-6339 | syringate degradation\"                                                                         \n",
       " [87] \"PWY-7609 | superpathway of roquefortine, meleagrin and neoxaline biosynthesis\"                            \n",
       " [88] \"PWY-5981 | CDP-diacylglycerol biosynthesis III\"                                                           \n",
       " [89] \"PWY-7727 | docosahexaenoate biosynthesis IV (4-desaturase, mammals)\"                                      \n",
       " [90] \"PWY-7728 | (4Z,7Z,10Z,13Z,16Z)-docosa-4,7,10,13,16-pentaenoate biosynthesis II (4-desaturase)\"            \n",
       " [91] \"PWY-7470 | phosphatidylcholine biosynthesis VII\"                                                          \n",
       " [92] \"ec00061 | Fatty acid biosynthesis\"                                                                        \n",
       " [93] \"PWY-5353 | arachidonate biosynthesis I (6-desaturase, lower eukaryotes)\"                                  \n",
       " [94] \"PWY-6958 | icosapentaenoate biosynthesis I (lower eukaryotes)\"                                            \n",
       " [95] \"PWY-7053 | docosahexaenoate biosynthesis I (lower eukaryotes)\"                                            \n",
       " [96] \"BENZCOA-PWY | anaerobic aromatic compound degradation (<i>Thauera aromatica</i>)\"                         \n",
       " [97] \"PWY66-5 | superpathway of cholesterol biosynthesis\"                                                       \n",
       " [98] \"PWY-7135 | emetine biosynthesis\"                                                                          \n",
       " [99] \"PWY-6432 | curcuminoid biosynthesis\"                                                                      \n",
       "[100] \"PWY-6383 | mono-<i>trans</i>, poly-<i>cis</i> decaprenyl phosphate biosynthesis\"                          \n",
       "[101] \"PWY-6799 | fatty acid biosynthesis (plant mitochondria)\"                                                  \n",
       "[102] \"PWY-6679 | jadomycin biosynthesis\"                                                                        \n",
       "[103] \"ec00522 | Biosynthesis of 12-, 14- and 16-membered macrolides\"                                            \n",
       "[104] \"PWY-7156 | superpathway of ergosterol biosynthesis II\"                                                    \n",
       "[105] \"ec00380 | Tryptophan metabolism\"                                                                          \n",
       "[106] \"PWY-7569 | arginomycin biosynthesis\"                                                                      \n",
       "[107] \"PWY-7570 | blasticidin S biosynthesis\"                                                                    \n",
       "[108] \"PWY-6346 | staurosporine biosynthesis\"                                                                    \n",
       "[109] \"ec00904 | Diterpenoid biosynthesis\"                                                                       \n",
       "[110] \"FOLSYN-PWY | superpathway of tetrahydrofolate biosynthesis and salvage\"                                   \n",
       "[111] \"ec01051 | Biosynthesis of ansamycins\"                                                                     \n",
       "[112] \"PWY-6146 | <i>Methanobacterium thermoautotrophicum</i> biosynthetic metabolism\"                           \n",
       "[113] \"PWY-5105 | hesperitin glycoside biosynthesis\"                                                             \n",
       "[114] \"PWY-7055 | daphnetin modification\"                                                                        \n",
       "[115] \"PWY-7058 | esculetin modification\"                                                                        \n",
       "[116] \"ec00940 | Phenylpropanoid biosynthesis\"                                                                   \n",
       "[117] \"ec00642 | Ethylbenzene degradation\"                                                                       \n",
       "[118] \"PWY-7661 | protein <I>N</i>-glycosylation (<i>Haloferax volcanii</i>)\"                                    \n",
       "[119] \"PWY-5910 | superpathway of geranylgeranyldiphosphate biosynthesis I (via mevalonate)\"                     \n",
       "[120] \"PWY-7250 | [2Fe-2S] iron-sulfur cluster biosynthesis\"                                                     \n",
       "[121] \"PWY-6126 | superpathway of adenosine nucleotides <i>de novo</i> biosynthesis II\"                          \n",
       "[122] \"PWY-7229 | superpathway of adenosine nucleotides <i>de novo</i> biosynthesis I\"                           \n",
       "[123] \"PWY-7149 | superpathway of polymethylated quercetin/quercetagetin glucoside biosynthesis (Chrysosplenium)\"\n",
       "[124] \"PWY-7150 | polymethylated quercetin glucoside biosynthesis I - quercetin series (Chrysosplenium)\"         \n",
       "[125] \"PWY-7151 | polymethylated quercetin glucoside biosynthesis II - quercetagetin series (Chrysosplenium)\"    \n",
       "[126] \"ec00945 | Stilbenoid, diarylheptanoid and gingerol biosynthesis\"                                          \n",
       "[127] \"PWY-7045 | mithramycin biosynthesis\"                                                                      \n",
       "[128] \"PWY0-881 | superpathway of fatty acid biosynthesis I (E. coli)\"                                           \n",
       "[129] \"PWY-7419 | FR-900098 and FR-33289 antibiotics biosynthesis\"                                               \n",
       "[130] \"ec00790 | Folate biosynthesis\"                                                                            \n",
       "[131] \"ARGSYN-PWY | L-arginine biosynthesis I (via L-ornithine)\"                                                 \n",
       "[132] \"ec00130 | Ubiquinone and other terpenoid-quinone biosynthesis\"                                            \n",
       "[133] \"PWY-7219 | adenosine ribonucleotides <i>de novo</i> biosynthesis\"                                         "
      ]
     },
     "metadata": {},
     "output_type": "display_data"
    }
   ],
   "source": [
    "setdiff(tmp3$name, tmp4$name)"
   ]
  },
  {
   "cell_type": "code",
   "execution_count": 67,
   "metadata": {},
   "outputs": [
    {
     "name": "stdout",
     "output_type": "stream",
     "text": [
      "[1] \"----\"\n"
     ]
    }
   ],
   "source": [
    "print(\"----\")"
   ]
  },
  {
   "cell_type": "code",
   "execution_count": 77,
   "metadata": {},
   "outputs": [],
   "source": [
    "tmp3 <- gageres_strain_ypd[[\"less\"]] %>% \n",
    "    as.data.frame %>% \n",
    "    rownames_to_column(\"name\") %>% \n",
    "    filter(p.val < 0.05) %>%\n",
    "    arrange(p.val)\n",
    "tmp4 <- gageres_strain_tc[[\"less\"]]  %>% \n",
    "    as.data.frame %>% \n",
    "    rownames_to_column(\"name\") %>% \n",
    "    filter(p.val < 0.05) %>%\n",
    "    arrange(p.val)"
   ]
  },
  {
   "cell_type": "code",
   "execution_count": null,
   "metadata": {},
   "outputs": [],
   "source": []
  },
  {
   "cell_type": "code",
   "execution_count": 78,
   "metadata": {},
   "outputs": [
    {
     "data": {
      "text/html": [
       "11"
      ],
      "text/latex": [
       "11"
      ],
      "text/markdown": [
       "11"
      ],
      "text/plain": [
       "[1] 11"
      ]
     },
     "metadata": {},
     "output_type": "display_data"
    },
    {
     "data": {
      "text/html": [
       "32"
      ],
      "text/latex": [
       "32"
      ],
      "text/markdown": [
       "32"
      ],
      "text/plain": [
       "[1] 32"
      ]
     },
     "metadata": {},
     "output_type": "display_data"
    },
    {
     "data": {
      "text/html": [
       "13"
      ],
      "text/latex": [
       "13"
      ],
      "text/markdown": [
       "13"
      ],
      "text/plain": [
       "[1] 13"
      ]
     },
     "metadata": {},
     "output_type": "display_data"
    }
   ],
   "source": [
    "intersect(tmp4$name, tmp3$name) %>% length\n",
    "setdiff(tmp3$name, tmp4$name) %>% length\n",
    "setdiff(tmp4$name, tmp3$name) %>% length"
   ]
  },
  {
   "cell_type": "code",
   "execution_count": 79,
   "metadata": {},
   "outputs": [
    {
     "data": {
      "text/html": [
       "<ol class=list-inline>\n",
       "\t<li>'PWY-7384 | anaerobic energy metabolism (invertebrates, mitochondrial)'</li>\n",
       "\t<li>'PWY-7294 | xylose degradation IV'</li>\n",
       "\t<li>'PWY-7521 | 3-(4-sulfophenyl)butanoate degradation'</li>\n",
       "\t<li>'PWY-7712 | deoxynivalenol biosynthesis'</li>\n",
       "\t<li>'PWY-6855 | chitin degradation I (archaea)'</li>\n",
       "\t<li>'PWY-7139 | sesaminol glucoside biosynthesis'</li>\n",
       "\t<li>'PWY-5784 | indole-3-acetate conjugate biosynthesis II'</li>\n",
       "\t<li>'PWY-5469 | sesamin biosynthesis'</li>\n",
       "\t<li>'PWY-7018 | paromomycin biosynthesis'</li>\n",
       "\t<li>'PWY-7074 | phenylethanol glycoconjugate biosynthesis'</li>\n",
       "\t<li>'PWY-7491 | podophyllotoxin glucosides metabolism'</li>\n",
       "</ol>\n"
      ],
      "text/latex": [
       "\\begin{enumerate*}\n",
       "\\item 'PWY-7384 \\textbar{} anaerobic energy metabolism (invertebrates, mitochondrial)'\n",
       "\\item 'PWY-7294 \\textbar{} xylose degradation IV'\n",
       "\\item 'PWY-7521 \\textbar{} 3-(4-sulfophenyl)butanoate degradation'\n",
       "\\item 'PWY-7712 \\textbar{} deoxynivalenol biosynthesis'\n",
       "\\item 'PWY-6855 \\textbar{} chitin degradation I (archaea)'\n",
       "\\item 'PWY-7139 \\textbar{} sesaminol glucoside biosynthesis'\n",
       "\\item 'PWY-5784 \\textbar{} indole-3-acetate conjugate biosynthesis II'\n",
       "\\item 'PWY-5469 \\textbar{} sesamin biosynthesis'\n",
       "\\item 'PWY-7018 \\textbar{} paromomycin biosynthesis'\n",
       "\\item 'PWY-7074 \\textbar{} phenylethanol glycoconjugate biosynthesis'\n",
       "\\item 'PWY-7491 \\textbar{} podophyllotoxin glucosides metabolism'\n",
       "\\end{enumerate*}\n"
      ],
      "text/markdown": [
       "1. 'PWY-7384 | anaerobic energy metabolism (invertebrates, mitochondrial)'\n",
       "2. 'PWY-7294 | xylose degradation IV'\n",
       "3. 'PWY-7521 | 3-(4-sulfophenyl)butanoate degradation'\n",
       "4. 'PWY-7712 | deoxynivalenol biosynthesis'\n",
       "5. 'PWY-6855 | chitin degradation I (archaea)'\n",
       "6. 'PWY-7139 | sesaminol glucoside biosynthesis'\n",
       "7. 'PWY-5784 | indole-3-acetate conjugate biosynthesis II'\n",
       "8. 'PWY-5469 | sesamin biosynthesis'\n",
       "9. 'PWY-7018 | paromomycin biosynthesis'\n",
       "10. 'PWY-7074 | phenylethanol glycoconjugate biosynthesis'\n",
       "11. 'PWY-7491 | podophyllotoxin glucosides metabolism'\n",
       "\n",
       "\n"
      ],
      "text/plain": [
       " [1] \"PWY-7384 | anaerobic energy metabolism (invertebrates, mitochondrial)\"\n",
       " [2] \"PWY-7294 | xylose degradation IV\"                                     \n",
       " [3] \"PWY-7521 | 3-(4-sulfophenyl)butanoate degradation\"                    \n",
       " [4] \"PWY-7712 | deoxynivalenol biosynthesis\"                               \n",
       " [5] \"PWY-6855 | chitin degradation I (archaea)\"                            \n",
       " [6] \"PWY-7139 | sesaminol glucoside biosynthesis\"                          \n",
       " [7] \"PWY-5784 | indole-3-acetate conjugate biosynthesis II\"                \n",
       " [8] \"PWY-5469 | sesamin biosynthesis\"                                      \n",
       " [9] \"PWY-7018 | paromomycin biosynthesis\"                                  \n",
       "[10] \"PWY-7074 | phenylethanol glycoconjugate biosynthesis\"                 \n",
       "[11] \"PWY-7491 | podophyllotoxin glucosides metabolism\"                     "
      ]
     },
     "metadata": {},
     "output_type": "display_data"
    }
   ],
   "source": [
    "intersect(tmp4$name, tmp3$name)"
   ]
  },
  {
   "cell_type": "code",
   "execution_count": 71,
   "metadata": {},
   "outputs": [
    {
     "data": {
      "text/html": [
       "<ol class=list-inline>\n",
       "\t<li>'PWY-6848 | rutin degradation'</li>\n",
       "\t<li>'ec00051 | Fructose and mannose metabolism'</li>\n",
       "\t<li>'PWY-6527 | stachyose degradation'</li>\n",
       "\t<li>'ec00561 | Glycerolipid metabolism'</li>\n",
       "\t<li>'ec00500 | Starch and sucrose metabolism'</li>\n",
       "\t<li>'PWY-6906 | chitin derivatives degradation'</li>\n",
       "\t<li>'ec00760 | Nicotinate and nicotinamide metabolism'</li>\n",
       "\t<li>'ec00982 | Drug metabolism - cytochrome P450'</li>\n",
       "\t<li>'PWY-7118 | chitin degradation to ethanol'</li>\n",
       "\t<li>'PWY-7771 | butachlor degradation'</li>\n",
       "\t<li>'ec00980 | Metabolism of xenobiotics by cytochrome P450'</li>\n",
       "\t<li>'PWY0-301 | L-ascorbate degradation I (bacterial, anaerobic)'</li>\n",
       "\t<li>'PWY-6317 | D-galactose degradation I (Leloir pathway)'</li>\n",
       "\t<li>'PWY66-422 | D-galactose degradation V (Leloir pathway)'</li>\n",
       "\t<li>'PWY-6415 | L-ascorbate biosynthesis V'</li>\n",
       "\t<li>'PWY-6368 | 3-phosphoinositide degradation'</li>\n",
       "\t<li>'CYCLOHEXANOL-OXIDATION-PWY | cyclohexanol degradation'</li>\n",
       "\t<li>'PWY-1921 | indole-3-acetate activation II'</li>\n",
       "\t<li>'PWY-5835 | geranyl acetate biosynthesis'</li>\n",
       "\t<li>'PWY-6429 | ricinoleate biosynthesis'</li>\n",
       "\t<li>'PWY-6558 | heparan sulfate biosynthesis (late stages)'</li>\n",
       "\t<li>'PWY-6564 | heparan sulfate biosynthesis'</li>\n",
       "\t<li>'PWY-6760 | xylose degradation III'</li>\n",
       "\t<li>'PWY-7002 | 4-hydroxyacetophenone degradation'</li>\n",
       "\t<li>'PWY-7367 | phosphatidylcholine resynthesis via glycerophosphocholine'</li>\n",
       "\t<li>'ec00053 | Ascorbate and aldarate metabolism'</li>\n",
       "\t<li>'ec00052 | Galactose metabolism'</li>\n",
       "\t<li>'PWY-6352 | 3-phosphoinositide biosynthesis'</li>\n",
       "\t<li>'PWY-7119 | sphingolipid recycling and degradation (yeast)'</li>\n",
       "\t<li>'PWY-3081 | L-lysine biosynthesis V'</li>\n",
       "\t<li>'PWY-6371 | superpathway of inositol phosphate compounds'</li>\n",
       "\t<li>'ec00830 | Retinol metabolism'</li>\n",
       "</ol>\n"
      ],
      "text/latex": [
       "\\begin{enumerate*}\n",
       "\\item 'PWY-6848 \\textbar{} rutin degradation'\n",
       "\\item 'ec00051 \\textbar{} Fructose and mannose metabolism'\n",
       "\\item 'PWY-6527 \\textbar{} stachyose degradation'\n",
       "\\item 'ec00561 \\textbar{} Glycerolipid metabolism'\n",
       "\\item 'ec00500 \\textbar{} Starch and sucrose metabolism'\n",
       "\\item 'PWY-6906 \\textbar{} chitin derivatives degradation'\n",
       "\\item 'ec00760 \\textbar{} Nicotinate and nicotinamide metabolism'\n",
       "\\item 'ec00982 \\textbar{} Drug metabolism - cytochrome P450'\n",
       "\\item 'PWY-7118 \\textbar{} chitin degradation to ethanol'\n",
       "\\item 'PWY-7771 \\textbar{} butachlor degradation'\n",
       "\\item 'ec00980 \\textbar{} Metabolism of xenobiotics by cytochrome P450'\n",
       "\\item 'PWY0-301 \\textbar{} L-ascorbate degradation I (bacterial, anaerobic)'\n",
       "\\item 'PWY-6317 \\textbar{} D-galactose degradation I (Leloir pathway)'\n",
       "\\item 'PWY66-422 \\textbar{} D-galactose degradation V (Leloir pathway)'\n",
       "\\item 'PWY-6415 \\textbar{} L-ascorbate biosynthesis V'\n",
       "\\item 'PWY-6368 \\textbar{} 3-phosphoinositide degradation'\n",
       "\\item 'CYCLOHEXANOL-OXIDATION-PWY \\textbar{} cyclohexanol degradation'\n",
       "\\item 'PWY-1921 \\textbar{} indole-3-acetate activation II'\n",
       "\\item 'PWY-5835 \\textbar{} geranyl acetate biosynthesis'\n",
       "\\item 'PWY-6429 \\textbar{} ricinoleate biosynthesis'\n",
       "\\item 'PWY-6558 \\textbar{} heparan sulfate biosynthesis (late stages)'\n",
       "\\item 'PWY-6564 \\textbar{} heparan sulfate biosynthesis'\n",
       "\\item 'PWY-6760 \\textbar{} xylose degradation III'\n",
       "\\item 'PWY-7002 \\textbar{} 4-hydroxyacetophenone degradation'\n",
       "\\item 'PWY-7367 \\textbar{} phosphatidylcholine resynthesis via glycerophosphocholine'\n",
       "\\item 'ec00053 \\textbar{} Ascorbate and aldarate metabolism'\n",
       "\\item 'ec00052 \\textbar{} Galactose metabolism'\n",
       "\\item 'PWY-6352 \\textbar{} 3-phosphoinositide biosynthesis'\n",
       "\\item 'PWY-7119 \\textbar{} sphingolipid recycling and degradation (yeast)'\n",
       "\\item 'PWY-3081 \\textbar{} L-lysine biosynthesis V'\n",
       "\\item 'PWY-6371 \\textbar{} superpathway of inositol phosphate compounds'\n",
       "\\item 'ec00830 \\textbar{} Retinol metabolism'\n",
       "\\end{enumerate*}\n"
      ],
      "text/markdown": [
       "1. 'PWY-6848 | rutin degradation'\n",
       "2. 'ec00051 | Fructose and mannose metabolism'\n",
       "3. 'PWY-6527 | stachyose degradation'\n",
       "4. 'ec00561 | Glycerolipid metabolism'\n",
       "5. 'ec00500 | Starch and sucrose metabolism'\n",
       "6. 'PWY-6906 | chitin derivatives degradation'\n",
       "7. 'ec00760 | Nicotinate and nicotinamide metabolism'\n",
       "8. 'ec00982 | Drug metabolism - cytochrome P450'\n",
       "9. 'PWY-7118 | chitin degradation to ethanol'\n",
       "10. 'PWY-7771 | butachlor degradation'\n",
       "11. 'ec00980 | Metabolism of xenobiotics by cytochrome P450'\n",
       "12. 'PWY0-301 | L-ascorbate degradation I (bacterial, anaerobic)'\n",
       "13. 'PWY-6317 | D-galactose degradation I (Leloir pathway)'\n",
       "14. 'PWY66-422 | D-galactose degradation V (Leloir pathway)'\n",
       "15. 'PWY-6415 | L-ascorbate biosynthesis V'\n",
       "16. 'PWY-6368 | 3-phosphoinositide degradation'\n",
       "17. 'CYCLOHEXANOL-OXIDATION-PWY | cyclohexanol degradation'\n",
       "18. 'PWY-1921 | indole-3-acetate activation II'\n",
       "19. 'PWY-5835 | geranyl acetate biosynthesis'\n",
       "20. 'PWY-6429 | ricinoleate biosynthesis'\n",
       "21. 'PWY-6558 | heparan sulfate biosynthesis (late stages)'\n",
       "22. 'PWY-6564 | heparan sulfate biosynthesis'\n",
       "23. 'PWY-6760 | xylose degradation III'\n",
       "24. 'PWY-7002 | 4-hydroxyacetophenone degradation'\n",
       "25. 'PWY-7367 | phosphatidylcholine resynthesis via glycerophosphocholine'\n",
       "26. 'ec00053 | Ascorbate and aldarate metabolism'\n",
       "27. 'ec00052 | Galactose metabolism'\n",
       "28. 'PWY-6352 | 3-phosphoinositide biosynthesis'\n",
       "29. 'PWY-7119 | sphingolipid recycling and degradation (yeast)'\n",
       "30. 'PWY-3081 | L-lysine biosynthesis V'\n",
       "31. 'PWY-6371 | superpathway of inositol phosphate compounds'\n",
       "32. 'ec00830 | Retinol metabolism'\n",
       "\n",
       "\n"
      ],
      "text/plain": [
       " [1] \"PWY-6848 | rutin degradation\"                                        \n",
       " [2] \"ec00051 | Fructose and mannose metabolism\"                           \n",
       " [3] \"PWY-6527 | stachyose degradation\"                                    \n",
       " [4] \"ec00561 | Glycerolipid metabolism\"                                   \n",
       " [5] \"ec00500 | Starch and sucrose metabolism\"                             \n",
       " [6] \"PWY-6906 | chitin derivatives degradation\"                           \n",
       " [7] \"ec00760 | Nicotinate and nicotinamide metabolism\"                    \n",
       " [8] \"ec00982 | Drug metabolism - cytochrome P450\"                         \n",
       " [9] \"PWY-7118 | chitin degradation to ethanol\"                            \n",
       "[10] \"PWY-7771 | butachlor degradation\"                                    \n",
       "[11] \"ec00980 | Metabolism of xenobiotics by cytochrome P450\"              \n",
       "[12] \"PWY0-301 | L-ascorbate degradation I (bacterial, anaerobic)\"         \n",
       "[13] \"PWY-6317 | D-galactose degradation I (Leloir pathway)\"               \n",
       "[14] \"PWY66-422 | D-galactose degradation V (Leloir pathway)\"              \n",
       "[15] \"PWY-6415 | L-ascorbate biosynthesis V\"                               \n",
       "[16] \"PWY-6368 | 3-phosphoinositide degradation\"                           \n",
       "[17] \"CYCLOHEXANOL-OXIDATION-PWY | cyclohexanol degradation\"               \n",
       "[18] \"PWY-1921 | indole-3-acetate activation II\"                           \n",
       "[19] \"PWY-5835 | geranyl acetate biosynthesis\"                             \n",
       "[20] \"PWY-6429 | ricinoleate biosynthesis\"                                 \n",
       "[21] \"PWY-6558 | heparan sulfate biosynthesis (late stages)\"               \n",
       "[22] \"PWY-6564 | heparan sulfate biosynthesis\"                             \n",
       "[23] \"PWY-6760 | xylose degradation III\"                                   \n",
       "[24] \"PWY-7002 | 4-hydroxyacetophenone degradation\"                        \n",
       "[25] \"PWY-7367 | phosphatidylcholine resynthesis via glycerophosphocholine\"\n",
       "[26] \"ec00053 | Ascorbate and aldarate metabolism\"                         \n",
       "[27] \"ec00052 | Galactose metabolism\"                                      \n",
       "[28] \"PWY-6352 | 3-phosphoinositide biosynthesis\"                          \n",
       "[29] \"PWY-7119 | sphingolipid recycling and degradation (yeast)\"           \n",
       "[30] \"PWY-3081 | L-lysine biosynthesis V\"                                  \n",
       "[31] \"PWY-6371 | superpathway of inositol phosphate compounds\"             \n",
       "[32] \"ec00830 | Retinol metabolism\"                                        "
      ]
     },
     "metadata": {},
     "output_type": "display_data"
    }
   ],
   "source": [
    "setdiff(tmp3$name, tmp4$name)"
   ]
  },
  {
   "cell_type": "code",
   "execution_count": 70,
   "metadata": {},
   "outputs": [
    {
     "data": {
      "text/html": [
       "<ol class=list-inline>\n",
       "\t<li>'PWY-6602 | C-glycosylflavone biosynthesis I'</li>\n",
       "\t<li>'PWY-7188 | C-glycosylflavone biosynthesis II'</li>\n",
       "\t<li>'PWY-7189 | C-glycosylflavone biosynthesis III'</li>\n",
       "\t<li>'PWY-5161 | 6\\'-deoxychalcone metabolism'</li>\n",
       "\t<li>'PWY-6266 | superpathway of flavones and derivatives biosynthesis'</li>\n",
       "\t<li>'PWY-7212 | baicalein metabolism'</li>\n",
       "\t<li>'PWY0-1517 | sedoheptulose bisphosphate bypass'</li>\n",
       "\t<li>'PWY-2229 | superpathway of pterocarpan biosynthesis (via formononetin)'</li>\n",
       "\t<li>'PWY-2467 | pisatin biosynthesis'</li>\n",
       "\t<li>'PWY-5061 | 6,7,4\\'-trihydroxyisoflavone biosynthesis'</li>\n",
       "\t<li>'PWY-6763 | salicortin biosynthesis'</li>\n",
       "\t<li>'ec00900 | Terpenoid backbone biosynthesis'</li>\n",
       "\t<li>'PWY-7430 | indole degradation to anthranil and anthranilate'</li>\n",
       "</ol>\n"
      ],
      "text/latex": [
       "\\begin{enumerate*}\n",
       "\\item 'PWY-6602 \\textbar{} C-glycosylflavone biosynthesis I'\n",
       "\\item 'PWY-7188 \\textbar{} C-glycosylflavone biosynthesis II'\n",
       "\\item 'PWY-7189 \\textbar{} C-glycosylflavone biosynthesis III'\n",
       "\\item 'PWY-5161 \\textbar{} 6\\textbackslash{}'-deoxychalcone metabolism'\n",
       "\\item 'PWY-6266 \\textbar{} superpathway of flavones and derivatives biosynthesis'\n",
       "\\item 'PWY-7212 \\textbar{} baicalein metabolism'\n",
       "\\item 'PWY0-1517 \\textbar{} sedoheptulose bisphosphate bypass'\n",
       "\\item 'PWY-2229 \\textbar{} superpathway of pterocarpan biosynthesis (via formononetin)'\n",
       "\\item 'PWY-2467 \\textbar{} pisatin biosynthesis'\n",
       "\\item 'PWY-5061 \\textbar{} 6,7,4\\textbackslash{}'-trihydroxyisoflavone biosynthesis'\n",
       "\\item 'PWY-6763 \\textbar{} salicortin biosynthesis'\n",
       "\\item 'ec00900 \\textbar{} Terpenoid backbone biosynthesis'\n",
       "\\item 'PWY-7430 \\textbar{} indole degradation to anthranil and anthranilate'\n",
       "\\end{enumerate*}\n"
      ],
      "text/markdown": [
       "1. 'PWY-6602 | C-glycosylflavone biosynthesis I'\n",
       "2. 'PWY-7188 | C-glycosylflavone biosynthesis II'\n",
       "3. 'PWY-7189 | C-glycosylflavone biosynthesis III'\n",
       "4. 'PWY-5161 | 6\\'-deoxychalcone metabolism'\n",
       "5. 'PWY-6266 | superpathway of flavones and derivatives biosynthesis'\n",
       "6. 'PWY-7212 | baicalein metabolism'\n",
       "7. 'PWY0-1517 | sedoheptulose bisphosphate bypass'\n",
       "8. 'PWY-2229 | superpathway of pterocarpan biosynthesis (via formononetin)'\n",
       "9. 'PWY-2467 | pisatin biosynthesis'\n",
       "10. 'PWY-5061 | 6,7,4\\'-trihydroxyisoflavone biosynthesis'\n",
       "11. 'PWY-6763 | salicortin biosynthesis'\n",
       "12. 'ec00900 | Terpenoid backbone biosynthesis'\n",
       "13. 'PWY-7430 | indole degradation to anthranil and anthranilate'\n",
       "\n",
       "\n"
      ],
      "text/plain": [
       " [1] \"PWY-6602 | C-glycosylflavone biosynthesis I\"                           \n",
       " [2] \"PWY-7188 | C-glycosylflavone biosynthesis II\"                          \n",
       " [3] \"PWY-7189 | C-glycosylflavone biosynthesis III\"                         \n",
       " [4] \"PWY-5161 | 6'-deoxychalcone metabolism\"                                \n",
       " [5] \"PWY-6266 | superpathway of flavones and derivatives biosynthesis\"      \n",
       " [6] \"PWY-7212 | baicalein metabolism\"                                       \n",
       " [7] \"PWY0-1517 | sedoheptulose bisphosphate bypass\"                         \n",
       " [8] \"PWY-2229 | superpathway of pterocarpan biosynthesis (via formononetin)\"\n",
       " [9] \"PWY-2467 | pisatin biosynthesis\"                                       \n",
       "[10] \"PWY-5061 | 6,7,4'-trihydroxyisoflavone biosynthesis\"                   \n",
       "[11] \"PWY-6763 | salicortin biosynthesis\"                                    \n",
       "[12] \"ec00900 | Terpenoid backbone biosynthesis\"                             \n",
       "[13] \"PWY-7430 | indole degradation to anthranil and anthranilate\"           "
      ]
     },
     "metadata": {},
     "output_type": "display_data"
    }
   ],
   "source": [
    "setdiff(tmp4$name, tmp3$name)"
   ]
  },
  {
   "cell_type": "markdown",
   "metadata": {},
   "source": [
    "# Store the results"
   ]
  },
  {
   "cell_type": "code",
   "execution_count": null,
   "metadata": {},
   "outputs": [],
   "source": [
    "outfile <- file.path(OUTDIR, \"res_gage_strain.RData\")\n",
    "save(gageres_Strain_YPD, \n",
    "     gageres_Strain_TC,\n",
    "     file = outfile)"
   ]
  },
  {
   "cell_type": "code",
   "execution_count": null,
   "metadata": {},
   "outputs": [],
   "source": []
  },
  {
   "cell_type": "code",
   "execution_count": 17,
   "metadata": {},
   "outputs": [
    {
     "data": {
      "text/html": [
       "<ol class=list-inline>\n",
       "\t<li>'greater'</li>\n",
       "\t<li>'less'</li>\n",
       "\t<li>'stats'</li>\n",
       "</ol>\n"
      ],
      "text/latex": [
       "\\begin{enumerate*}\n",
       "\\item 'greater'\n",
       "\\item 'less'\n",
       "\\item 'stats'\n",
       "\\end{enumerate*}\n"
      ],
      "text/markdown": [
       "1. 'greater'\n",
       "2. 'less'\n",
       "3. 'stats'\n",
       "\n",
       "\n"
      ],
      "text/plain": [
       "[1] \"greater\" \"less\"    \"stats\"  "
      ]
     },
     "metadata": {},
     "output_type": "display_data"
    }
   ],
   "source": [
    "names(gageres_Strain_YPD)"
   ]
  },
  {
   "cell_type": "markdown",
   "metadata": {},
   "source": [
    "#"
   ]
  },
  {
   "cell_type": "code",
   "execution_count": 18,
   "metadata": {},
   "outputs": [
    {
     "data": {
      "text/html": [
       "<ol class=list-inline>\n",
       "\t<li>1860</li>\n",
       "\t<li>6</li>\n",
       "</ol>\n"
      ],
      "text/latex": [
       "\\begin{enumerate*}\n",
       "\\item 1860\n",
       "\\item 6\n",
       "\\end{enumerate*}\n"
      ],
      "text/markdown": [
       "1. 1860\n",
       "2. 6\n",
       "\n",
       "\n"
      ],
      "text/plain": [
       "[1] 1860    6"
      ]
     },
     "metadata": {},
     "output_type": "display_data"
    }
   ],
   "source": [
    "dim(gageres_Strain_YPD$less)"
   ]
  },
  {
   "cell_type": "code",
   "execution_count": 19,
   "metadata": {},
   "outputs": [
    {
     "data": {
      "text/html": [
       "<table>\n",
       "<thead><tr><th></th><th scope=col>p.geomean</th><th scope=col>stat.mean</th><th scope=col>p.val</th><th scope=col>q.val</th><th scope=col>set.size</th><th scope=col>exp1</th></tr></thead>\n",
       "<tbody>\n",
       "\t<tr><th scope=row>ec00230 | Purine metabolism</th><td>3.645936e-06</td><td>4.595210    </td><td>3.645936e-06</td><td>0.001705114 </td><td>118         </td><td>3.645936e-06</td></tr>\n",
       "\t<tr><th scope=row>PRPP-PWY | superpathway of histidine, purine, and pyrimidine biosynthesis</th><td>4.016758e-06</td><td>4.704012    </td><td>4.016758e-06</td><td>0.001705114 </td><td> 52         </td><td>4.016758e-06</td></tr>\n",
       "\t<tr><th scope=row>PWY-7653 | griseofulvin biosynthesis</th><td>3.663564e-05</td><td>4.095077    </td><td>3.663564e-05</td><td>0.010367886 </td><td> 68         </td><td>3.663564e-05</td></tr>\n",
       "\t<tr><th scope=row>PWY-5209 | methyl-coenzyme M oxidation to CO&lt;sub&gt;2&lt;/sub&gt;</th><td>5.119700e-05</td><td>4.011661    </td><td>5.119700e-05</td><td>0.010866562 </td><td> 65         </td><td>5.119700e-05</td></tr>\n",
       "\t<tr><th scope=row>PWY-5059 | pinobanksin biosynthesis</th><td>1.431551e-04</td><td>3.738606    </td><td>1.431551e-04</td><td>0.015907028 </td><td> 61         </td><td>1.431551e-04</td></tr>\n",
       "\t<tr><th scope=row>PWY-7735 | echinomycin and triostin A biosynthesis</th><td>1.538789e-04</td><td>3.672865    </td><td>1.538789e-04</td><td>0.015907028 </td><td>103         </td><td>1.538789e-04</td></tr>\n",
       "</tbody>\n",
       "</table>\n"
      ],
      "text/latex": [
       "\\begin{tabular}{r|llllll}\n",
       "  & p.geomean & stat.mean & p.val & q.val & set.size & exp1\\\\\n",
       "\\hline\n",
       "\tec00230 \\textbar{} Purine metabolism & 3.645936e-06 & 4.595210     & 3.645936e-06 & 0.001705114  & 118          & 3.645936e-06\\\\\n",
       "\tPRPP-PWY \\textbar{} superpathway of histidine, purine, and pyrimidine biosynthesis & 4.016758e-06 & 4.704012     & 4.016758e-06 & 0.001705114  &  52          & 4.016758e-06\\\\\n",
       "\tPWY-7653 \\textbar{} griseofulvin biosynthesis & 3.663564e-05 & 4.095077     & 3.663564e-05 & 0.010367886  &  68          & 3.663564e-05\\\\\n",
       "\tPWY-5209 \\textbar{} methyl-coenzyme M oxidation to CO<sub>2</sub> & 5.119700e-05 & 4.011661     & 5.119700e-05 & 0.010866562  &  65          & 5.119700e-05\\\\\n",
       "\tPWY-5059 \\textbar{} pinobanksin biosynthesis & 1.431551e-04 & 3.738606     & 1.431551e-04 & 0.015907028  &  61          & 1.431551e-04\\\\\n",
       "\tPWY-7735 \\textbar{} echinomycin and triostin A biosynthesis & 1.538789e-04 & 3.672865     & 1.538789e-04 & 0.015907028  & 103          & 1.538789e-04\\\\\n",
       "\\end{tabular}\n"
      ],
      "text/markdown": [
       "\n",
       "| <!--/--> | p.geomean | stat.mean | p.val | q.val | set.size | exp1 | \n",
       "|---|---|---|---|---|---|\n",
       "| ec00230 | Purine metabolism | 3.645936e-06 | 4.595210     | 3.645936e-06 | 0.001705114  | 118          | 3.645936e-06 | \n",
       "| PRPP-PWY | superpathway of histidine, purine, and pyrimidine biosynthesis | 4.016758e-06 | 4.704012     | 4.016758e-06 | 0.001705114  |  52          | 4.016758e-06 | \n",
       "| PWY-7653 | griseofulvin biosynthesis | 3.663564e-05 | 4.095077     | 3.663564e-05 | 0.010367886  |  68          | 3.663564e-05 | \n",
       "| PWY-5209 | methyl-coenzyme M oxidation to CO<sub>2</sub> | 5.119700e-05 | 4.011661     | 5.119700e-05 | 0.010866562  |  65          | 5.119700e-05 | \n",
       "| PWY-5059 | pinobanksin biosynthesis | 1.431551e-04 | 3.738606     | 1.431551e-04 | 0.015907028  |  61          | 1.431551e-04 | \n",
       "| PWY-7735 | echinomycin and triostin A biosynthesis | 1.538789e-04 | 3.672865     | 1.538789e-04 | 0.015907028  | 103          | 1.538789e-04 | \n",
       "\n",
       "\n"
      ],
      "text/plain": [
       "                                                                          p.geomean   \n",
       "ec00230 | Purine metabolism                                               3.645936e-06\n",
       "PRPP-PWY | superpathway of histidine, purine, and pyrimidine biosynthesis 4.016758e-06\n",
       "PWY-7653 | griseofulvin biosynthesis                                      3.663564e-05\n",
       "PWY-5209 | methyl-coenzyme M oxidation to CO<sub>2</sub>                  5.119700e-05\n",
       "PWY-5059 | pinobanksin biosynthesis                                       1.431551e-04\n",
       "PWY-7735 | echinomycin and triostin A biosynthesis                        1.538789e-04\n",
       "                                                                          stat.mean\n",
       "ec00230 | Purine metabolism                                               4.595210 \n",
       "PRPP-PWY | superpathway of histidine, purine, and pyrimidine biosynthesis 4.704012 \n",
       "PWY-7653 | griseofulvin biosynthesis                                      4.095077 \n",
       "PWY-5209 | methyl-coenzyme M oxidation to CO<sub>2</sub>                  4.011661 \n",
       "PWY-5059 | pinobanksin biosynthesis                                       3.738606 \n",
       "PWY-7735 | echinomycin and triostin A biosynthesis                        3.672865 \n",
       "                                                                          p.val       \n",
       "ec00230 | Purine metabolism                                               3.645936e-06\n",
       "PRPP-PWY | superpathway of histidine, purine, and pyrimidine biosynthesis 4.016758e-06\n",
       "PWY-7653 | griseofulvin biosynthesis                                      3.663564e-05\n",
       "PWY-5209 | methyl-coenzyme M oxidation to CO<sub>2</sub>                  5.119700e-05\n",
       "PWY-5059 | pinobanksin biosynthesis                                       1.431551e-04\n",
       "PWY-7735 | echinomycin and triostin A biosynthesis                        1.538789e-04\n",
       "                                                                          q.val      \n",
       "ec00230 | Purine metabolism                                               0.001705114\n",
       "PRPP-PWY | superpathway of histidine, purine, and pyrimidine biosynthesis 0.001705114\n",
       "PWY-7653 | griseofulvin biosynthesis                                      0.010367886\n",
       "PWY-5209 | methyl-coenzyme M oxidation to CO<sub>2</sub>                  0.010866562\n",
       "PWY-5059 | pinobanksin biosynthesis                                       0.015907028\n",
       "PWY-7735 | echinomycin and triostin A biosynthesis                        0.015907028\n",
       "                                                                          set.size\n",
       "ec00230 | Purine metabolism                                               118     \n",
       "PRPP-PWY | superpathway of histidine, purine, and pyrimidine biosynthesis  52     \n",
       "PWY-7653 | griseofulvin biosynthesis                                       68     \n",
       "PWY-5209 | methyl-coenzyme M oxidation to CO<sub>2</sub>                   65     \n",
       "PWY-5059 | pinobanksin biosynthesis                                        61     \n",
       "PWY-7735 | echinomycin and triostin A biosynthesis                        103     \n",
       "                                                                          exp1        \n",
       "ec00230 | Purine metabolism                                               3.645936e-06\n",
       "PRPP-PWY | superpathway of histidine, purine, and pyrimidine biosynthesis 4.016758e-06\n",
       "PWY-7653 | griseofulvin biosynthesis                                      3.663564e-05\n",
       "PWY-5209 | methyl-coenzyme M oxidation to CO<sub>2</sub>                  5.119700e-05\n",
       "PWY-5059 | pinobanksin biosynthesis                                       1.431551e-04\n",
       "PWY-7735 | echinomycin and triostin A biosynthesis                        1.538789e-04"
      ]
     },
     "metadata": {},
     "output_type": "display_data"
    }
   ],
   "source": [
    "head(gageres_Strain_YPD$greater)"
   ]
  },
  {
   "cell_type": "code",
   "execution_count": 20,
   "metadata": {},
   "outputs": [
    {
     "data": {
      "text/html": [
       "<table>\n",
       "<thead><tr><th scope=col>pathway</th><th scope=col>p.geomean</th><th scope=col>stat.mean</th><th scope=col>p.val</th><th scope=col>q.val</th><th scope=col>set.size</th><th scope=col>exp1</th></tr></thead>\n",
       "<tbody>\n",
       "\t<tr><td>ec00230 | Purine metabolism                                              </td><td>3.645936e-06                                                             </td><td>4.595210                                                                 </td><td>3.645936e-06                                                             </td><td>0.001705114                                                              </td><td>118                                                                      </td><td>3.645936e-06                                                             </td></tr>\n",
       "\t<tr><td>PRPP-PWY | superpathway of histidine, purine, and pyrimidine biosynthesis</td><td>4.016758e-06                                                             </td><td>4.704012                                                                 </td><td>4.016758e-06                                                             </td><td>0.001705114                                                              </td><td> 52                                                                      </td><td>4.016758e-06                                                             </td></tr>\n",
       "\t<tr><td>PWY-7653 | griseofulvin biosynthesis                                     </td><td>3.663564e-05                                                             </td><td>4.095077                                                                 </td><td>3.663564e-05                                                             </td><td>0.010367886                                                              </td><td> 68                                                                      </td><td>3.663564e-05                                                             </td></tr>\n",
       "\t<tr><td><span style=white-space:pre-wrap>PWY-5209 | methyl-coenzyme M oxidation to CO&lt;sub&gt;2&lt;/sub&gt;                 </span></td><td>5.119700e-05                                                                                                                 </td><td>4.011661                                                                                                                     </td><td>5.119700e-05                                                                                                                 </td><td>0.010866562                                                                                                                  </td><td> 65                                                                                                                          </td><td>5.119700e-05                                                                                                                 </td></tr>\n",
       "\t<tr><td>PWY-5059 | pinobanksin biosynthesis                                      </td><td>1.431551e-04                                                             </td><td>3.738606                                                                 </td><td>1.431551e-04                                                             </td><td>0.015907028                                                              </td><td> 61                                                                      </td><td>1.431551e-04                                                             </td></tr>\n",
       "\t<tr><td>PWY-7735 | echinomycin and triostin A biosynthesis                       </td><td>1.538789e-04                                                             </td><td>3.672865                                                                 </td><td>1.538789e-04                                                             </td><td>0.015907028                                                              </td><td>103                                                                      </td><td>1.538789e-04                                                             </td></tr>\n",
       "</tbody>\n",
       "</table>\n"
      ],
      "text/latex": [
       "\\begin{tabular}{r|lllllll}\n",
       " pathway & p.geomean & stat.mean & p.val & q.val & set.size & exp1\\\\\n",
       "\\hline\n",
       "\t ec00230 \\textbar{} Purine metabolism                                               & 3.645936e-06                                                                        & 4.595210                                                                            & 3.645936e-06                                                                        & 0.001705114                                                                         & 118                                                                                 & 3.645936e-06                                                                       \\\\\n",
       "\t PRPP-PWY \\textbar{} superpathway of histidine, purine, and pyrimidine biosynthesis & 4.016758e-06                                                                        & 4.704012                                                                            & 4.016758e-06                                                                        & 0.001705114                                                                         &  52                                                                                 & 4.016758e-06                                                                       \\\\\n",
       "\t PWY-7653 \\textbar{} griseofulvin biosynthesis                                      & 3.663564e-05                                                                        & 4.095077                                                                            & 3.663564e-05                                                                        & 0.010367886                                                                         &  68                                                                                 & 3.663564e-05                                                                       \\\\\n",
       "\t PWY-5209 \\textbar{} methyl-coenzyme M oxidation to CO<sub>2</sub>                  & 5.119700e-05                                                                        & 4.011661                                                                            & 5.119700e-05                                                                        & 0.010866562                                                                         &  65                                                                                 & 5.119700e-05                                                                       \\\\\n",
       "\t PWY-5059 \\textbar{} pinobanksin biosynthesis                                       & 1.431551e-04                                                                        & 3.738606                                                                            & 1.431551e-04                                                                        & 0.015907028                                                                         &  61                                                                                 & 1.431551e-04                                                                       \\\\\n",
       "\t PWY-7735 \\textbar{} echinomycin and triostin A biosynthesis                        & 1.538789e-04                                                                        & 3.672865                                                                            & 1.538789e-04                                                                        & 0.015907028                                                                         & 103                                                                                 & 1.538789e-04                                                                       \\\\\n",
       "\\end{tabular}\n"
      ],
      "text/markdown": [
       "\n",
       "pathway | p.geomean | stat.mean | p.val | q.val | set.size | exp1 | \n",
       "|---|---|---|---|---|---|\n",
       "| ec00230 | Purine metabolism                                               | 3.645936e-06                                                              | 4.595210                                                                  | 3.645936e-06                                                              | 0.001705114                                                               | 118                                                                       | 3.645936e-06                                                              | \n",
       "| PRPP-PWY | superpathway of histidine, purine, and pyrimidine biosynthesis | 4.016758e-06                                                              | 4.704012                                                                  | 4.016758e-06                                                              | 0.001705114                                                               |  52                                                                       | 4.016758e-06                                                              | \n",
       "| PWY-7653 | griseofulvin biosynthesis                                      | 3.663564e-05                                                              | 4.095077                                                                  | 3.663564e-05                                                              | 0.010367886                                                               |  68                                                                       | 3.663564e-05                                                              | \n",
       "| PWY-5209 | methyl-coenzyme M oxidation to CO<sub>2</sub>                  | 5.119700e-05                                                              | 4.011661                                                                  | 5.119700e-05                                                              | 0.010866562                                                               |  65                                                                       | 5.119700e-05                                                              | \n",
       "| PWY-5059 | pinobanksin biosynthesis                                       | 1.431551e-04                                                              | 3.738606                                                                  | 1.431551e-04                                                              | 0.015907028                                                               |  61                                                                       | 1.431551e-04                                                              | \n",
       "| PWY-7735 | echinomycin and triostin A biosynthesis                        | 1.538789e-04                                                              | 3.672865                                                                  | 1.538789e-04                                                              | 0.015907028                                                               | 103                                                                       | 1.538789e-04                                                              | \n",
       "\n",
       "\n"
      ],
      "text/plain": [
       "  pathway                                                                  \n",
       "1 ec00230 | Purine metabolism                                              \n",
       "2 PRPP-PWY | superpathway of histidine, purine, and pyrimidine biosynthesis\n",
       "3 PWY-7653 | griseofulvin biosynthesis                                     \n",
       "4 PWY-5209 | methyl-coenzyme M oxidation to CO<sub>2</sub>                 \n",
       "5 PWY-5059 | pinobanksin biosynthesis                                      \n",
       "6 PWY-7735 | echinomycin and triostin A biosynthesis                       \n",
       "  p.geomean    stat.mean p.val        q.val       set.size exp1        \n",
       "1 3.645936e-06 4.595210  3.645936e-06 0.001705114 118      3.645936e-06\n",
       "2 4.016758e-06 4.704012  4.016758e-06 0.001705114  52      4.016758e-06\n",
       "3 3.663564e-05 4.095077  3.663564e-05 0.010367886  68      3.663564e-05\n",
       "4 5.119700e-05 4.011661  5.119700e-05 0.010866562  65      5.119700e-05\n",
       "5 1.431551e-04 3.738606  1.431551e-04 0.015907028  61      1.431551e-04\n",
       "6 1.538789e-04 3.672865  1.538789e-04 0.015907028 103      1.538789e-04"
      ]
     },
     "metadata": {},
     "output_type": "display_data"
    }
   ],
   "source": [
    "dat <- gageres_Strain_YPD$greater %>% \n",
    "    as.data.frame %>% \n",
    "    rownames_to_column(\"pathway\") %>%\n",
    "    filter(p.val < 0.01)\n",
    "head(dat)"
   ]
  },
  {
   "cell_type": "code",
   "execution_count": 47,
   "metadata": {},
   "outputs": [
    {
     "data": {
      "text/html": [
       "<ol class=list-inline>\n",
       "\t<li>'ec00520 | Amino sugar and nucleotide sugar metabolism'</li>\n",
       "\t<li>'PWY-7734 | quinoxaline-2-carboxylate biosynthesis'</li>\n",
       "\t<li>'ec00053 | Ascorbate and aldarate metabolism'</li>\n",
       "\t<li>'PWY-5257 | superpathway of pentose and pentitol degradation'</li>\n",
       "\t<li>'SUCROSEUTIL2-PWY | sucrose degradation VII (sucrose 3-dehydrogenase)'</li>\n",
       "\t<li>'ec00051 | Fructose and mannose metabolism'</li>\n",
       "</ol>\n"
      ],
      "text/latex": [
       "\\begin{enumerate*}\n",
       "\\item 'ec00520 \\textbar{} Amino sugar and nucleotide sugar metabolism'\n",
       "\\item 'PWY-7734 \\textbar{} quinoxaline-2-carboxylate biosynthesis'\n",
       "\\item 'ec00053 \\textbar{} Ascorbate and aldarate metabolism'\n",
       "\\item 'PWY-5257 \\textbar{} superpathway of pentose and pentitol degradation'\n",
       "\\item 'SUCROSEUTIL2-PWY \\textbar{} sucrose degradation VII (sucrose 3-dehydrogenase)'\n",
       "\\item 'ec00051 \\textbar{} Fructose and mannose metabolism'\n",
       "\\end{enumerate*}\n"
      ],
      "text/markdown": [
       "1. 'ec00520 | Amino sugar and nucleotide sugar metabolism'\n",
       "2. 'PWY-7734 | quinoxaline-2-carboxylate biosynthesis'\n",
       "3. 'ec00053 | Ascorbate and aldarate metabolism'\n",
       "4. 'PWY-5257 | superpathway of pentose and pentitol degradation'\n",
       "5. 'SUCROSEUTIL2-PWY | sucrose degradation VII (sucrose 3-dehydrogenase)'\n",
       "6. 'ec00051 | Fructose and mannose metabolism'\n",
       "\n",
       "\n"
      ],
      "text/plain": [
       "[1] \"ec00520 | Amino sugar and nucleotide sugar metabolism\"               \n",
       "[2] \"PWY-7734 | quinoxaline-2-carboxylate biosynthesis\"                   \n",
       "[3] \"ec00053 | Ascorbate and aldarate metabolism\"                         \n",
       "[4] \"PWY-5257 | superpathway of pentose and pentitol degradation\"         \n",
       "[5] \"SUCROSEUTIL2-PWY | sucrose degradation VII (sucrose 3-dehydrogenase)\"\n",
       "[6] \"ec00051 | Fructose and mannose metabolism\"                           "
      ]
     },
     "metadata": {},
     "output_type": "display_data"
    }
   ],
   "source": [
    "head(dat$pathway)"
   ]
  },
  {
   "cell_type": "code",
   "execution_count": 150,
   "metadata": {},
   "outputs": [],
   "source": [
    "require(scales, quietly = TRUE)\n",
    "require(visNetwork, quietly = TRUE)"
   ]
  },
  {
   "cell_type": "code",
   "execution_count": 37,
   "metadata": {},
   "outputs": [],
   "source": [
    "get_jaccard <- function(x, y){\n",
    "    set_union <- union(x, y)\n",
    "    set_inter <- intersect(x, y)\n",
    "    return(length(set_inter) / length(set_union))\n",
    "}"
   ]
  },
  {
   "cell_type": "code",
   "execution_count": 153,
   "metadata": {
    "scrolled": false
   },
   "outputs": [
    {
     "data": {
      "text/html": [
       "<table>\n",
       "<tbody>\n",
       "\t<tr><td>1</td><td>2</td></tr>\n",
       "\t<tr><td>1</td><td>3</td></tr>\n",
       "\t<tr><td>1</td><td>4</td></tr>\n",
       "\t<tr><td>1</td><td>5</td></tr>\n",
       "\t<tr><td>1</td><td>6</td></tr>\n",
       "\t<tr><td>1</td><td>7</td></tr>\n",
       "</tbody>\n",
       "</table>\n"
      ],
      "text/latex": [
       "\\begin{tabular}{ll}\n",
       "\t 1 & 2\\\\\n",
       "\t 1 & 3\\\\\n",
       "\t 1 & 4\\\\\n",
       "\t 1 & 5\\\\\n",
       "\t 1 & 6\\\\\n",
       "\t 1 & 7\\\\\n",
       "\\end{tabular}\n"
      ],
      "text/markdown": [
       "\n",
       "| 1 | 2 | \n",
       "| 1 | 3 | \n",
       "| 1 | 4 | \n",
       "| 1 | 5 | \n",
       "| 1 | 6 | \n",
       "| 1 | 7 | \n",
       "\n",
       "\n"
      ],
      "text/plain": [
       "     [,1] [,2]\n",
       "[1,] 1    2   \n",
       "[2,] 1    3   \n",
       "[3,] 1    4   \n",
       "[4,] 1    5   \n",
       "[5,] 1    6   \n",
       "[6,] 1    7   "
      ]
     },
     "metadata": {},
     "output_type": "display_data"
    }
   ],
   "source": [
    "pathname <- dat$pathway[1:100]\n",
    "nodes <- data.frame(\n",
    "    id = 1:length(pathname), \n",
    "    label = pathname,\n",
    "    value = sapply(pathname, function(x){\n",
    "        length(genesets_cne_h99[[x]])\n",
    "    }) # end sapply\n",
    ") # end data.frame\n",
    "\n",
    "idx_pair <- combn(1:length(pathname), 2, simplify = TRUE)\n",
    "idx_pair <- t(idx_pair)\n",
    "head(idx_pair)"
   ]
  },
  {
   "cell_type": "code",
   "execution_count": 174,
   "metadata": {},
   "outputs": [],
   "source": [
    "edges <- as.data.frame(idx_pair)\n",
    "colnames(edges)[1:2] <- c(\"from\", \"to\")\n",
    "\n",
    "edges$dist_jaccard <- apply(idx_pair, 1, function(idx){\n",
    "    name01 <- pathname[idx[1]]\n",
    "    name02 <- pathname[idx[2]]\n",
    "    get_jaccard(\n",
    "        genesets_cne_h99[[name01]],\n",
    "        genesets_cne_h99[[name02]])\n",
    "})\n",
    "\n",
    "edges <- edges %>% \n",
    "    mutate(prop   = rank(dist_jaccard) / n()) %>%\n",
    "    filter(prop > 0.9)\n",
    "\n",
    "edges <- edges %>%\n",
    "    mutate(width  = rescale(dist_jaccard,  to = c(1, 10))) %>%\n",
    "    mutate(length = 1 / (width + 1) + 1)"
   ]
  },
  {
   "cell_type": "code",
   "execution_count": 175,
   "metadata": {},
   "outputs": [
    {
     "data": {
      "text/html": [
       "612"
      ],
      "text/latex": [
       "612"
      ],
      "text/markdown": [
       "612"
      ],
      "text/plain": [
       "[1] 612"
      ]
     },
     "metadata": {},
     "output_type": "display_data"
    }
   ],
   "source": [
    "nrow(edges)"
   ]
  },
  {
   "cell_type": "code",
   "execution_count": 167,
   "metadata": {},
   "outputs": [
    {
     "data": {
      "text/html": [
       "<table>\n",
       "<thead><tr><th></th><th scope=col>id</th><th scope=col>label</th><th scope=col>value</th></tr></thead>\n",
       "<tbody>\n",
       "\t<tr><th scope=row>ec00520 | Amino sugar and nucleotide sugar metabolism</th><td>1                                                                   </td><td>ec00520 | Amino sugar and nucleotide sugar metabolism               </td><td> 86                                                                 </td></tr>\n",
       "\t<tr><th scope=row>PWY-7734 | quinoxaline-2-carboxylate biosynthesis</th><td>2                                                                   </td><td>PWY-7734 | quinoxaline-2-carboxylate biosynthesis                   </td><td> 51                                                                 </td></tr>\n",
       "\t<tr><th scope=row>ec00053 | Ascorbate and aldarate metabolism</th><td>3                                                                   </td><td>ec00053 | Ascorbate and aldarate metabolism                         </td><td>100                                                                 </td></tr>\n",
       "\t<tr><th scope=row>PWY-5257 | superpathway of pentose and pentitol degradation</th><td>4                                                                   </td><td>PWY-5257 | superpathway of pentose and pentitol degradation         </td><td> 58                                                                 </td></tr>\n",
       "\t<tr><th scope=row>SUCROSEUTIL2-PWY | sucrose degradation VII (sucrose 3-dehydrogenase)</th><td>5                                                                   </td><td>SUCROSEUTIL2-PWY | sucrose degradation VII (sucrose 3-dehydrogenase)</td><td> 49                                                                 </td></tr>\n",
       "\t<tr><th scope=row>ec00051 | Fructose and mannose metabolism</th><td>6                                                                   </td><td>ec00051 | Fructose and mannose metabolism                           </td><td>103                                                                 </td></tr>\n",
       "</tbody>\n",
       "</table>\n"
      ],
      "text/latex": [
       "\\begin{tabular}{r|lll}\n",
       "  & id & label & value\\\\\n",
       "\\hline\n",
       "\tec00520 \\textbar{} Amino sugar and nucleotide sugar metabolism & 1                                                                              & ec00520 \\textbar{} Amino sugar and nucleotide sugar metabolism                &  86                                                                           \\\\\n",
       "\tPWY-7734 \\textbar{} quinoxaline-2-carboxylate biosynthesis & 2                                                                              & PWY-7734 \\textbar{} quinoxaline-2-carboxylate biosynthesis                    &  51                                                                           \\\\\n",
       "\tec00053 \\textbar{} Ascorbate and aldarate metabolism & 3                                                                              & ec00053 \\textbar{} Ascorbate and aldarate metabolism                          & 100                                                                           \\\\\n",
       "\tPWY-5257 \\textbar{} superpathway of pentose and pentitol degradation & 4                                                                              & PWY-5257 \\textbar{} superpathway of pentose and pentitol degradation          &  58                                                                           \\\\\n",
       "\tSUCROSEUTIL2-PWY \\textbar{} sucrose degradation VII (sucrose 3-dehydrogenase) & 5                                                                              & SUCROSEUTIL2-PWY \\textbar{} sucrose degradation VII (sucrose 3-dehydrogenase) &  49                                                                           \\\\\n",
       "\tec00051 \\textbar{} Fructose and mannose metabolism & 6                                                                              & ec00051 \\textbar{} Fructose and mannose metabolism                            & 103                                                                           \\\\\n",
       "\\end{tabular}\n"
      ],
      "text/markdown": [
       "\n",
       "| <!--/--> | id | label | value | \n",
       "|---|---|---|---|---|---|\n",
       "| ec00520 | Amino sugar and nucleotide sugar metabolism | 1                                                                    | ec00520 | Amino sugar and nucleotide sugar metabolism                |  86                                                                  | \n",
       "| PWY-7734 | quinoxaline-2-carboxylate biosynthesis | 2                                                                    | PWY-7734 | quinoxaline-2-carboxylate biosynthesis                    |  51                                                                  | \n",
       "| ec00053 | Ascorbate and aldarate metabolism | 3                                                                    | ec00053 | Ascorbate and aldarate metabolism                          | 100                                                                  | \n",
       "| PWY-5257 | superpathway of pentose and pentitol degradation | 4                                                                    | PWY-5257 | superpathway of pentose and pentitol degradation          |  58                                                                  | \n",
       "| SUCROSEUTIL2-PWY | sucrose degradation VII (sucrose 3-dehydrogenase) | 5                                                                    | SUCROSEUTIL2-PWY | sucrose degradation VII (sucrose 3-dehydrogenase) |  49                                                                  | \n",
       "| ec00051 | Fructose and mannose metabolism | 6                                                                    | ec00051 | Fructose and mannose metabolism                            | 103                                                                  | \n",
       "\n",
       "\n"
      ],
      "text/plain": [
       "                                                                     id\n",
       "ec00520 | Amino sugar and nucleotide sugar metabolism                1 \n",
       "PWY-7734 | quinoxaline-2-carboxylate biosynthesis                    2 \n",
       "ec00053 | Ascorbate and aldarate metabolism                          3 \n",
       "PWY-5257 | superpathway of pentose and pentitol degradation          4 \n",
       "SUCROSEUTIL2-PWY | sucrose degradation VII (sucrose 3-dehydrogenase) 5 \n",
       "ec00051 | Fructose and mannose metabolism                            6 \n",
       "                                                                     label                                                               \n",
       "ec00520 | Amino sugar and nucleotide sugar metabolism                ec00520 | Amino sugar and nucleotide sugar metabolism               \n",
       "PWY-7734 | quinoxaline-2-carboxylate biosynthesis                    PWY-7734 | quinoxaline-2-carboxylate biosynthesis                   \n",
       "ec00053 | Ascorbate and aldarate metabolism                          ec00053 | Ascorbate and aldarate metabolism                         \n",
       "PWY-5257 | superpathway of pentose and pentitol degradation          PWY-5257 | superpathway of pentose and pentitol degradation         \n",
       "SUCROSEUTIL2-PWY | sucrose degradation VII (sucrose 3-dehydrogenase) SUCROSEUTIL2-PWY | sucrose degradation VII (sucrose 3-dehydrogenase)\n",
       "ec00051 | Fructose and mannose metabolism                            ec00051 | Fructose and mannose metabolism                           \n",
       "                                                                     value\n",
       "ec00520 | Amino sugar and nucleotide sugar metabolism                 86  \n",
       "PWY-7734 | quinoxaline-2-carboxylate biosynthesis                     51  \n",
       "ec00053 | Ascorbate and aldarate metabolism                          100  \n",
       "PWY-5257 | superpathway of pentose and pentitol degradation           58  \n",
       "SUCROSEUTIL2-PWY | sucrose degradation VII (sucrose 3-dehydrogenase)  49  \n",
       "ec00051 | Fructose and mannose metabolism                            103  "
      ]
     },
     "metadata": {},
     "output_type": "display_data"
    },
    {
     "data": {
      "text/html": [
       "<table>\n",
       "<thead><tr><th scope=col>from</th><th scope=col>to</th><th scope=col>dist_jaccard</th><th scope=col>prop</th><th scope=col>width</th><th scope=col>length</th></tr></thead>\n",
       "<tbody>\n",
       "</tbody>\n",
       "</table>\n"
      ],
      "text/latex": [
       "\\begin{tabular}{r|llllll}\n",
       " from & to & dist\\_jaccard & prop & width & length\\\\\n",
       "\\hline\n",
       "\\end{tabular}\n"
      ],
      "text/markdown": [
       "\n",
       "from | to | dist_jaccard | prop | width | length | \n",
       "||\n",
       "\n",
       "\n"
      ],
      "text/plain": [
       "     from to dist_jaccard prop width length"
      ]
     },
     "metadata": {},
     "output_type": "display_data"
    }
   ],
   "source": [
    "head(nodes)\n",
    "head(edges)"
   ]
  },
  {
   "cell_type": "code",
   "execution_count": null,
   "metadata": {},
   "outputs": [],
   "source": []
  },
  {
   "cell_type": "markdown",
   "metadata": {},
   "source": [
    "```\n",
    "require(igraph, quietly = TRUE)\n",
    "gg <- graph_from_data_frame(vertices = nodes, d = edges, directed = FALSE)\n",
    "visIgraph(gg) %>% \n",
    "    visOptions(\n",
    "        nodesIdSelection = TRUE,\n",
    "        highlightNearest = list(\n",
    "            enabled = T, \n",
    "            degree = 2, \n",
    "            hover = T))\n",
    "```"
   ]
  },
  {
   "cell_type": "code",
   "execution_count": null,
   "metadata": {},
   "outputs": [],
   "source": [
    "visNetwork(nodes, edges, height = \"500px\", width = \"100%\") %>% \n",
    "    visOptions(\n",
    "        nodesIdSelection = TRUE,\n",
    "        highlightNearest = list(\n",
    "            enabled = T, \n",
    "            degree = 2, \n",
    "            hover = T))   "
   ]
  },
  {
   "cell_type": "code",
   "execution_count": 92,
   "metadata": {},
   "outputs": [
    {
     "data": {
      "text/html": [
       "<table>\n",
       "<thead><tr><th scope=col>id</th><th scope=col>label</th><th scope=col>group</th><th scope=col>value</th><th scope=col>title</th></tr></thead>\n",
       "<tbody>\n",
       "\t<tr><td>1                                      </td><td>Label 1                                </td><td>A                                      </td><td>1                                      </td><td>&lt;p&gt;1&lt;br&gt;Tooltip !&lt;/p&gt;</td></tr>\n",
       "\t<tr><td>2                                      </td><td>Label 2                                </td><td>A                                      </td><td>2                                      </td><td>&lt;p&gt;2&lt;br&gt;Tooltip !&lt;/p&gt;</td></tr>\n",
       "\t<tr><td>3                                      </td><td>Label 3                                </td><td>B                                      </td><td>3                                      </td><td>&lt;p&gt;3&lt;br&gt;Tooltip !&lt;/p&gt;</td></tr>\n",
       "\t<tr><td>4                                      </td><td>Label 4                                </td><td>C                                      </td><td>4                                      </td><td>&lt;p&gt;4&lt;br&gt;Tooltip !&lt;/p&gt;</td></tr>\n",
       "\t<tr><td>5                                      </td><td>Label 5                                </td><td>C                                      </td><td>5                                      </td><td>&lt;p&gt;5&lt;br&gt;Tooltip !&lt;/p&gt;</td></tr>\n",
       "\t<tr><td>6                                      </td><td>Label 6                                </td><td>C                                      </td><td>6                                      </td><td>&lt;p&gt;6&lt;br&gt;Tooltip !&lt;/p&gt;</td></tr>\n",
       "</tbody>\n",
       "</table>\n"
      ],
      "text/latex": [
       "\\begin{tabular}{r|lllll}\n",
       " id & label & group & value & title\\\\\n",
       "\\hline\n",
       "\t 1                     & Label 1               & A                     & 1                     & <p>1<br>Tooltip !</p>\\\\\n",
       "\t 2                     & Label 2               & A                     & 2                     & <p>2<br>Tooltip !</p>\\\\\n",
       "\t 3                     & Label 3               & B                     & 3                     & <p>3<br>Tooltip !</p>\\\\\n",
       "\t 4                     & Label 4               & C                     & 4                     & <p>4<br>Tooltip !</p>\\\\\n",
       "\t 5                     & Label 5               & C                     & 5                     & <p>5<br>Tooltip !</p>\\\\\n",
       "\t 6                     & Label 6               & C                     & 6                     & <p>6<br>Tooltip !</p>\\\\\n",
       "\\end{tabular}\n"
      ],
      "text/markdown": [
       "\n",
       "id | label | group | value | title | \n",
       "|---|---|---|---|---|---|\n",
       "| 1                     | Label 1               | A                     | 1                     | <p>1<br>Tooltip !</p> | \n",
       "| 2                     | Label 2               | A                     | 2                     | <p>2<br>Tooltip !</p> | \n",
       "| 3                     | Label 3               | B                     | 3                     | <p>3<br>Tooltip !</p> | \n",
       "| 4                     | Label 4               | C                     | 4                     | <p>4<br>Tooltip !</p> | \n",
       "| 5                     | Label 5               | C                     | 5                     | <p>5<br>Tooltip !</p> | \n",
       "| 6                     | Label 6               | C                     | 6                     | <p>6<br>Tooltip !</p> | \n",
       "\n",
       "\n"
      ],
      "text/plain": [
       "  id label   group value title                \n",
       "1 1  Label 1 A     1     <p>1<br>Tooltip !</p>\n",
       "2 2  Label 2 A     2     <p>2<br>Tooltip !</p>\n",
       "3 3  Label 3 B     3     <p>3<br>Tooltip !</p>\n",
       "4 4  Label 4 C     4     <p>4<br>Tooltip !</p>\n",
       "5 5  Label 5 C     5     <p>5<br>Tooltip !</p>\n",
       "6 6  Label 6 C     6     <p>6<br>Tooltip !</p>"
      ]
     },
     "metadata": {},
     "output_type": "display_data"
    },
    {
     "data": {
      "text/html": [
       "<table>\n",
       "<thead><tr><th scope=col>from</th><th scope=col>to</th><th scope=col>value</th><th scope=col>label</th><th scope=col>title</th></tr></thead>\n",
       "<tbody>\n",
       "\t<tr><td>8                                           </td><td>7                                           </td><td>10.809239                                   </td><td>Edge 1                                      </td><td>&lt;p&gt;1&lt;br&gt;Edge Tooltip !&lt;/p&gt;</td></tr>\n",
       "\t<tr><td>1                                           </td><td>6                                           </td><td> 9.692573                                   </td><td>Edge 2                                      </td><td>&lt;p&gt;2&lt;br&gt;Edge Tooltip !&lt;/p&gt;</td></tr>\n",
       "\t<tr><td>2                                           </td><td>5                                           </td><td> 9.920043                                   </td><td>Edge 3                                      </td><td>&lt;p&gt;3&lt;br&gt;Edge Tooltip !&lt;/p&gt;</td></tr>\n",
       "\t<tr><td>6                                           </td><td>3                                           </td><td> 9.476936                                   </td><td>Edge 4                                      </td><td>&lt;p&gt;4&lt;br&gt;Edge Tooltip !&lt;/p&gt;</td></tr>\n",
       "\t<tr><td>3                                           </td><td>4                                           </td><td> 8.071829                                   </td><td>Edge 5                                      </td><td>&lt;p&gt;5&lt;br&gt;Edge Tooltip !&lt;/p&gt;</td></tr>\n",
       "\t<tr><td>6                                           </td><td>2                                           </td><td> 9.792287                                   </td><td>Edge 6                                      </td><td>&lt;p&gt;6&lt;br&gt;Edge Tooltip !&lt;/p&gt;</td></tr>\n",
       "</tbody>\n",
       "</table>\n"
      ],
      "text/latex": [
       "\\begin{tabular}{r|lllll}\n",
       " from & to & value & label & title\\\\\n",
       "\\hline\n",
       "\t 8                          & 7                          & 10.809239                  & Edge 1                     & <p>1<br>Edge Tooltip !</p>\\\\\n",
       "\t 1                          & 6                          &  9.692573                  & Edge 2                     & <p>2<br>Edge Tooltip !</p>\\\\\n",
       "\t 2                          & 5                          &  9.920043                  & Edge 3                     & <p>3<br>Edge Tooltip !</p>\\\\\n",
       "\t 6                          & 3                          &  9.476936                  & Edge 4                     & <p>4<br>Edge Tooltip !</p>\\\\\n",
       "\t 3                          & 4                          &  8.071829                  & Edge 5                     & <p>5<br>Edge Tooltip !</p>\\\\\n",
       "\t 6                          & 2                          &  9.792287                  & Edge 6                     & <p>6<br>Edge Tooltip !</p>\\\\\n",
       "\\end{tabular}\n"
      ],
      "text/markdown": [
       "\n",
       "from | to | value | label | title | \n",
       "|---|---|---|---|---|---|\n",
       "| 8                          | 7                          | 10.809239                  | Edge 1                     | <p>1<br>Edge Tooltip !</p> | \n",
       "| 1                          | 6                          |  9.692573                  | Edge 2                     | <p>2<br>Edge Tooltip !</p> | \n",
       "| 2                          | 5                          |  9.920043                  | Edge 3                     | <p>3<br>Edge Tooltip !</p> | \n",
       "| 6                          | 3                          |  9.476936                  | Edge 4                     | <p>4<br>Edge Tooltip !</p> | \n",
       "| 3                          | 4                          |  8.071829                  | Edge 5                     | <p>5<br>Edge Tooltip !</p> | \n",
       "| 6                          | 2                          |  9.792287                  | Edge 6                     | <p>6<br>Edge Tooltip !</p> | \n",
       "\n",
       "\n"
      ],
      "text/plain": [
       "  from to value     label  title                     \n",
       "1 8    7  10.809239 Edge 1 <p>1<br>Edge Tooltip !</p>\n",
       "2 1    6   9.692573 Edge 2 <p>2<br>Edge Tooltip !</p>\n",
       "3 2    5   9.920043 Edge 3 <p>3<br>Edge Tooltip !</p>\n",
       "4 6    3   9.476936 Edge 4 <p>4<br>Edge Tooltip !</p>\n",
       "5 3    4   8.071829 Edge 5 <p>5<br>Edge Tooltip !</p>\n",
       "6 6    2   9.792287 Edge 6 <p>6<br>Edge Tooltip !</p>"
      ]
     },
     "metadata": {},
     "output_type": "display_data"
    }
   ],
   "source": [
    "nb <- 10\n",
    "nodes <- data.frame(id = 1:nb, label = paste(\"Label\", 1:nb),\n",
    " group = sample(LETTERS[1:3], nb, replace = TRUE), value = 1:nb,\n",
    " title = paste0(\"<p>\", 1:nb,\"<br>Tooltip !</p>\"), stringsAsFactors = FALSE)\n",
    "\n",
    "edges <- data.frame(from = trunc(runif(nb)*(nb-1))+1,\n",
    " to = trunc(runif(nb)*(nb-1))+1,\n",
    " value = rnorm(nb, 10), label = paste(\"Edge\", 1:nb),\n",
    " title = paste0(\"<p>\", 1:nb,\"<br>Edge Tooltip !</p>\"))\n",
    "\n",
    "head(nodes)\n",
    "head(edges)"
   ]
  }
 ],
 "metadata": {
  "kernelspec": {
   "display_name": "R",
   "language": "R",
   "name": "ir"
  },
  "language_info": {
   "codemirror_mode": "r",
   "file_extension": ".r",
   "mimetype": "text/x-r-source",
   "name": "R",
   "pygments_lexer": "r",
   "version": "3.4.1"
  }
 },
 "nbformat": 4,
 "nbformat_minor": 2
}
