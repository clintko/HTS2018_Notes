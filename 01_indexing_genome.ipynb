{
 "cells": [
  {
   "cell_type": "markdown",
   "metadata": {},
   "source": [
    "# Set environment"
   ]
  },
  {
   "cell_type": "code",
   "execution_count": 2,
   "metadata": {},
   "outputs": [],
   "source": [
    "source config_star.sh"
   ]
  },
  {
   "cell_type": "code",
   "execution_count": 17,
   "metadata": {},
   "outputs": [
    {
     "name": "stdout",
     "output_type": "stream",
     "text": [
      "\u001b[0m\u001b[01;34mgroup_d\u001b[0m  \u001b[01;34mgroup_F\u001b[0m  \u001b[01;34mgroup_z\u001b[0m  \u001b[01;34mTA_clint\u001b[0m\n"
     ]
    }
   ],
   "source": [
    "ls $SHARED_SPACE"
   ]
  },
  {
   "cell_type": "markdown",
   "metadata": {},
   "source": [
    "# Check input files"
   ]
  },
  {
   "cell_type": "code",
   "execution_count": 6,
   "metadata": {},
   "outputs": [
    {
     "name": "stdout",
     "output_type": "stream",
     "text": [
      "/shared_space/TA_clint/genome/Cryptococcus_neoformans_var_grubii_h99.CNA3.39.gtf\n",
      "/shared_space/TA_clint/genome/Cryptococcus_neoformans_var_grubii_h99.CNA3.dna.toplevel.fa\n"
     ]
    }
   ],
   "source": [
    "ls ${GENOME_DIR}/Cryptococcus*"
   ]
  },
  {
   "cell_type": "markdown",
   "metadata": {},
   "source": [
    "# Indexing genome"
   ]
  },
  {
   "cell_type": "markdown",
   "metadata": {},
   "source": [
    "run STAR in \"genomeGenerate\" mode to index genome"
   ]
  },
  {
   "cell_type": "code",
   "execution_count": 10,
   "metadata": {},
   "outputs": [
    {
     "name": "stdout",
     "output_type": "stream",
     "text": [
      "/shared_space/TA_clint/genome\n",
      "/shared_space/TA_clint/genome/Cryptococcus_neoformans_var_grubii_h99.CNA3.dna.toplevel.fa\n",
      "/shared_space/TA_clint/genome/Cryptococcus_neoformans_var_grubii_h99.CNA3.39.gtf\n",
      "/shared_space/TA_clint/star_out\n"
     ]
    }
   ],
   "source": [
    "echo ${GENOME_DIR}\n",
    "echo ${FASTA}\n",
    "echo ${GTF}\n",
    "echo ${STAR_OUT}"
   ]
  },
  {
   "cell_type": "markdown",
   "metadata": {},
   "source": [
    "### STAR has *a lot* of command line options!  So here is what the above command is doing:\n",
    "* **--runMode** genomeGenerate: index the genome\n",
    "* **--genomeDir** : output genome index files to this directory\n",
    "* **--genomeFastaFiles** : genome sequence file (in FASTA format)\n",
    "* **--sjdbGTFfile** : annotation file (in GTF format)\n",
    "* **--outFileNamePrefix** : prefix all output files with this string\n",
    "* **--genomeSAindexNbases** : selects string length for index, needs to be adjusted based on genome size, can also be made smaller to reduce memory usage at cost of speed\n",
    "\n",
    "---\n",
    "\n",
    "### from [STAR manual](http://labshare.cshl.edu/shares/gingeraslab/www-data/dobin/STAR/STAR.posix/doc/STARmanual.pdf)  \n",
    "- **--genomeSAindexNbases**  \n",
    "    - default: 14  \n",
    "    - int: length (bases) of the SA pre-indexing string. Typically between 10 and 15.  \n",
    "    - Longer strings will use much more memory, but allow faster searches.\n",
    "\n",
    "---\n",
    "\n",
    "### from [script]()\n",
    "```\n",
    "STAR \\\n",
    "    --runMode genomeGenerate \\\n",
    "    --genomeDir $GENOME_DIR \\\n",
    "    --genomeFastaFiles ${FASTA} \\\n",
    "    --sjdbGTFfile ${GTF} \\\n",
    "    --outFileNamePrefix ${STAR_OUT}/genome_ \\\n",
    "    --genomeSAindexNbases 11\n",
    "```"
   ]
  },
  {
   "cell_type": "code",
   "execution_count": 11,
   "metadata": {},
   "outputs": [
    {
     "name": "stdout",
     "output_type": "stream",
     "text": [
      "Aug 04 21:46:41 ..... started STAR run\n",
      "Aug 04 21:46:41 ... starting to generate Genome files\n",
      "Aug 04 21:46:41 ... starting to sort Suffix Array. This may take a long time...\n",
      "Aug 04 21:46:41 ... sorting Suffix Array chunks and saving them to disk...\n",
      "Aug 04 21:47:03 ... loading chunks from disk, packing SA...\n",
      "Aug 04 21:47:04 ... finished generating suffix array\n",
      "Aug 04 21:47:04 ... generating Suffix Array index\n",
      "Aug 04 21:47:05 ... completed Suffix Array index\n",
      "Aug 04 21:47:05 ..... processing annotations GTF\n",
      "Aug 04 21:47:06 ..... inserting junctions into the genome indices\n",
      "Aug 04 21:47:47 ... writing Genome to disk ...\n",
      "Aug 04 21:47:47 ... writing Suffix Array to disk ...\n",
      "Aug 04 21:47:48 ... writing SAindex to disk\n",
      "Aug 04 21:47:48 ..... finished successfully\n"
     ]
    }
   ],
   "source": [
    "STAR \\\n",
    "    --runMode             genomeGenerate     \\\n",
    "    --genomeDir           ${GENOME_DIR}      \\\n",
    "    --genomeFastaFiles    ${FASTA}           \\\n",
    "    --sjdbGTFfile         ${GTF}             \\\n",
    "    --outFileNamePrefix   ${STAR_OUT}/genome \\\n",
    "    --genomeSAindexNbases 11"
   ]
  },
  {
   "cell_type": "markdown",
   "metadata": {},
   "source": [
    "## check output"
   ]
  },
  {
   "cell_type": "code",
   "execution_count": 16,
   "metadata": {},
   "outputs": [
    {
     "name": "stdout",
     "output_type": "stream",
     "text": [
      "chrLength.txt\n",
      "chrNameLength.txt\n",
      "chrName.txt\n",
      "chrStart.txt\n",
      "Cryptococcus_neoformans_var_grubii_h99.CNA3.39.gtf\n",
      "Cryptococcus_neoformans_var_grubii_h99.CNA3.dna.toplevel.fa\n",
      "exonGeTrInfo.tab\n",
      "exonInfo.tab\n",
      "geneInfo.tab\n",
      "Genome\n",
      "genomeParameters.txt\n",
      "SA\n",
      "SAindex\n",
      "sjdbInfo.txt\n",
      "sjdbList.fromGTF.out.tab\n",
      "sjdbList.out.tab\n",
      "transcriptInfo.tab\n"
     ]
    }
   ],
   "source": [
    "ls ${GENOME_DIR}"
   ]
  }
 ],
 "metadata": {
  "kernelspec": {
   "display_name": "Bash",
   "language": "bash",
   "name": "bash"
  },
  "language_info": {
   "codemirror_mode": "shell",
   "file_extension": ".sh",
   "mimetype": "text/x-sh",
   "name": "bash"
  }
 },
 "nbformat": 4,
 "nbformat_minor": 2
}
