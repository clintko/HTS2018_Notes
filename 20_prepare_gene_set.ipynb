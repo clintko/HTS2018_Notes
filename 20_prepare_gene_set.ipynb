{
 "cells": [
  {
   "cell_type": "markdown",
   "metadata": {},
   "source": [
    "# Set environment"
   ]
  },
  {
   "cell_type": "code",
   "execution_count": 1,
   "metadata": {
    "scrolled": true
   },
   "outputs": [
    {
     "name": "stderr",
     "output_type": "stream",
     "text": [
      "Loading tidyverse: ggplot2\n",
      "Loading tidyverse: tibble\n",
      "Loading tidyverse: tidyr\n",
      "Loading tidyverse: readr\n",
      "Loading tidyverse: purrr\n",
      "Loading tidyverse: dplyr\n",
      "Conflicts with tidy packages ---------------------------------------------------\n",
      "filter(): dplyr, stats\n",
      "lag():    dplyr, stats\n",
      "Loading required package: S4Vectors\n",
      "Loading required package: stats4\n",
      "Loading required package: BiocGenerics\n",
      "Loading required package: parallel\n",
      "\n",
      "Attaching package: ‘BiocGenerics’\n",
      "\n",
      "The following objects are masked from ‘package:parallel’:\n",
      "\n",
      "    clusterApply, clusterApplyLB, clusterCall, clusterEvalQ,\n",
      "    clusterExport, clusterMap, parApply, parCapply, parLapply,\n",
      "    parLapplyLB, parRapply, parSapply, parSapplyLB\n",
      "\n",
      "The following objects are masked from ‘package:dplyr’:\n",
      "\n",
      "    combine, intersect, setdiff, union\n",
      "\n",
      "The following objects are masked from ‘package:stats’:\n",
      "\n",
      "    IQR, mad, sd, var, xtabs\n",
      "\n",
      "The following objects are masked from ‘package:base’:\n",
      "\n",
      "    anyDuplicated, append, as.data.frame, cbind, colMeans, colnames,\n",
      "    colSums, do.call, duplicated, eval, evalq, Filter, Find, get, grep,\n",
      "    grepl, intersect, is.unsorted, lapply, lengths, Map, mapply, match,\n",
      "    mget, order, paste, pmax, pmax.int, pmin, pmin.int, Position, rank,\n",
      "    rbind, Reduce, rowMeans, rownames, rowSums, sapply, setdiff, sort,\n",
      "    table, tapply, union, unique, unsplit, which, which.max, which.min\n",
      "\n",
      "\n",
      "Attaching package: ‘S4Vectors’\n",
      "\n",
      "The following objects are masked from ‘package:dplyr’:\n",
      "\n",
      "    first, rename\n",
      "\n",
      "The following object is masked from ‘package:tidyr’:\n",
      "\n",
      "    expand\n",
      "\n",
      "The following object is masked from ‘package:base’:\n",
      "\n",
      "    expand.grid\n",
      "\n",
      "Loading required package: IRanges\n",
      "\n",
      "Attaching package: ‘IRanges’\n",
      "\n",
      "The following objects are masked from ‘package:dplyr’:\n",
      "\n",
      "    collapse, desc, slice\n",
      "\n",
      "The following object is masked from ‘package:purrr’:\n",
      "\n",
      "    reduce\n",
      "\n",
      "Loading required package: GenomicRanges\n",
      "Loading required package: GenomeInfoDb\n",
      "Loading required package: SummarizedExperiment\n",
      "Loading required package: Biobase\n",
      "Welcome to Bioconductor\n",
      "\n",
      "    Vignettes contain introductory material; view with\n",
      "    'browseVignettes()'. To cite Bioconductor, see\n",
      "    'citation(\"Biobase\")', and for packages 'citation(\"pkgname\")'.\n",
      "\n",
      "Loading required package: DelayedArray\n",
      "Loading required package: matrixStats\n",
      "\n",
      "Attaching package: ‘matrixStats’\n",
      "\n",
      "The following objects are masked from ‘package:Biobase’:\n",
      "\n",
      "    anyMissing, rowMedians\n",
      "\n",
      "The following object is masked from ‘package:dplyr’:\n",
      "\n",
      "    count\n",
      "\n",
      "\n",
      "Attaching package: ‘DelayedArray’\n",
      "\n",
      "The following objects are masked from ‘package:matrixStats’:\n",
      "\n",
      "    colMaxs, colMins, colRanges, rowMaxs, rowMins, rowRanges\n",
      "\n",
      "The following object is masked from ‘package:base’:\n",
      "\n",
      "    apply\n",
      "\n",
      "\n",
      "Attaching package: ‘plotly’\n",
      "\n",
      "The following object is masked from ‘package:IRanges’:\n",
      "\n",
      "    slice\n",
      "\n",
      "The following object is masked from ‘package:S4Vectors’:\n",
      "\n",
      "    rename\n",
      "\n",
      "The following object is masked from ‘package:ggplot2’:\n",
      "\n",
      "    last_plot\n",
      "\n",
      "The following object is masked from ‘package:stats’:\n",
      "\n",
      "    filter\n",
      "\n",
      "The following object is masked from ‘package:graphics’:\n",
      "\n",
      "    layout\n",
      "\n"
     ]
    }
   ],
   "source": [
    "source(\"config_path.R\")\n",
    "source(\"util_path.R\")"
   ]
  },
  {
   "cell_type": "markdown",
   "metadata": {},
   "source": [
    "# Import Data"
   ]
  },
  {
   "cell_type": "code",
   "execution_count": 2,
   "metadata": {},
   "outputs": [
    {
     "name": "stderr",
     "output_type": "stream",
     "text": [
      "Warning message:\n",
      "“Missing column names filled in: 'X19' [19]”Parsed with column specification:\n",
      "cols(\n",
      "  `[Gene ID]` = col_character(),\n",
      "  `[source_id]` = col_character(),\n",
      "  `[Gene Name or Symbol]` = col_character(),\n",
      "  `[Organism]` = col_character(),\n",
      "  `[Computed GO Component IDs]` = col_character(),\n",
      "  `[Computed GO Components]` = col_character(),\n",
      "  `[Computed GO Function IDs]` = col_character(),\n",
      "  `[Computed GO Functions]` = col_character(),\n",
      "  `[Computed GO Process IDs]` = col_character(),\n",
      "  `[Computed GO Processes]` = col_character(),\n",
      "  `[Curated GO Component IDs]` = col_character(),\n",
      "  `[Curated GO Components]` = col_character(),\n",
      "  `[Curated GO Function IDs]` = col_character(),\n",
      "  `[Curated GO Functions]` = col_character(),\n",
      "  `[Curated GO Process IDs]` = col_character(),\n",
      "  `[Curated GO Processes]` = col_character(),\n",
      "  `[EC numbers]` = col_character(),\n",
      "  `[EC numbers from OrthoMCL]` = col_character(),\n",
      "  X19 = col_character()\n",
      ")\n"
     ]
    },
    {
     "data": {
      "text/html": [
       "<table>\n",
       "<thead><tr><th scope=col>gene</th><th scope=col>source_id</th><th scope=col>name</th><th scope=col>org</th><th scope=col>go_cc_comp_id</th><th scope=col>go_cc_comp_name</th><th scope=col>go_fc_comp_id</th><th scope=col>go_fc_comp_name</th><th scope=col>go_bp_comp_id</th><th scope=col>go_bp_comp_name</th><th scope=col>go_cc_curated_id</th><th scope=col>go_cc_curated_name</th><th scope=col>go_fc_curated_id</th><th scope=col>go_fc_curated_name</th><th scope=col>go_bp_curated_name</th><th scope=col>go_bp_curated_id</th><th scope=col>[EC numbers]</th><th scope=col>[EC numbers from OrthoMCL]</th><th scope=col>X19</th></tr></thead>\n",
       "<tbody>\n",
       "\t<tr><td>CNAG_00001                            </td><td>CNAG_00001-t26_1                      </td><td>N/A                                   </td><td>C. neoformans var. grubii H99         </td><td>N/A                                   </td><td>N/A                                   </td><td>N/A                                   </td><td>N/A                                   </td><td>N/A                                   </td><td>N/A                                   </td><td>N/A                                   </td><td>N/A                                   </td><td>N/A                                   </td><td>N/A                                   </td><td>N/A                                   </td><td>N/A                                   </td><td>N/A                                   </td><td>N/A                                   </td><td>NA                                    </td></tr>\n",
       "\t<tr><td>CNAG_00002                            </td><td>CNAG_00002-t26_1                      </td><td>N/A                                   </td><td>C. neoformans var. grubii H99         </td><td>N/A                                   </td><td>N/A                                   </td><td>N/A                                   </td><td>N/A                                   </td><td>N/A                                   </td><td>N/A                                   </td><td>N/A                                   </td><td>N/A                                   </td><td>N/A                                   </td><td>N/A                                   </td><td>N/A                                   </td><td>N/A                                   </td><td>N/A                                   </td><td>3.5.1.- (In linear amides.)           </td><td>NA                                    </td></tr>\n",
       "\t<tr><td>CNAG_00003                            </td><td>CNAG_00003-t26_1                      </td><td>N/A                                   </td><td>C. neoformans var. grubii H99         </td><td>GO:0016021                            </td><td>integral component of membrane        </td><td>N/A                                   </td><td>N/A                                   </td><td>GO:0055085                            </td><td>transmembrane transport               </td><td>N/A                                   </td><td>N/A                                   </td><td>N/A                                   </td><td>N/A                                   </td><td>N/A                                   </td><td>N/A                                   </td><td>N/A                                   </td><td>N/A                                   </td><td>NA                                    </td></tr>\n",
       "\t<tr><td>CNAG_00004                            </td><td>CNAG_00004-t26_1                      </td><td>N/A                                   </td><td>C. neoformans var. grubii H99         </td><td>GO:0005634                            </td><td>nucleus                               </td><td>GO:0003677, GO:0008270                </td><td>DNA binding, zinc ion binding         </td><td>GO:0006351                            </td><td>transcription, DNA-templated          </td><td>N/A                                   </td><td>N/A                                   </td><td>N/A                                   </td><td>N/A                                   </td><td>N/A                                   </td><td>N/A                                   </td><td>N/A                                   </td><td>N/A                                   </td><td>NA                                    </td></tr>\n",
       "\t<tr><td>CNAG_00005                            </td><td>CNAG_00005-t26_1                      </td><td>N/A                                   </td><td>C. neoformans var. grubii H99         </td><td>N/A                                   </td><td>N/A                                   </td><td>N/A                                   </td><td>N/A                                   </td><td>N/A                                   </td><td>N/A                                   </td><td>N/A                                   </td><td>N/A                                   </td><td>N/A                                   </td><td>N/A                                   </td><td>N/A                                   </td><td>N/A                                   </td><td>N/A                                   </td><td>3.1.1.- (Carboxylic ester hydrolases.)</td><td>NA                                    </td></tr>\n",
       "\t<tr><td>CNAG_00006                            </td><td>CNAG_00006-t26_1                      </td><td>N/A                                   </td><td>C. neoformans var. grubii H99         </td><td>N/A                                   </td><td>N/A                                   </td><td>N/A                                   </td><td>N/A                                   </td><td>N/A                                   </td><td>N/A                                   </td><td>N/A                                   </td><td>N/A                                   </td><td>N/A                                   </td><td>N/A                                   </td><td>N/A                                   </td><td>N/A                                   </td><td>N/A                                   </td><td>N/A                                   </td><td>NA                                    </td></tr>\n",
       "</tbody>\n",
       "</table>\n"
      ],
      "text/latex": [
       "\\begin{tabular}{r|lllllllllllllllllll}\n",
       " gene & source\\_id & name & org & go\\_cc\\_comp\\_id & go\\_cc\\_comp\\_name & go\\_fc\\_comp\\_id & go\\_fc\\_comp\\_name & go\\_bp\\_comp\\_id & go\\_bp\\_comp\\_name & go\\_cc\\_curated\\_id & go\\_cc\\_curated\\_name & go\\_fc\\_curated\\_id & go\\_fc\\_curated\\_name & go\\_bp\\_curated\\_name & go\\_bp\\_curated\\_id & {[}EC numbers{]} & {[}EC numbers from OrthoMCL{]} & X19\\\\\n",
       "\\hline\n",
       "\t CNAG\\_00001                           & CNAG\\_00001-t26\\_1                   & N/A                                    & C. neoformans var. grubii H99          & N/A                                    & N/A                                    & N/A                                    & N/A                                    & N/A                                    & N/A                                    & N/A                                    & N/A                                    & N/A                                    & N/A                                    & N/A                                    & N/A                                    & N/A                                    & N/A                                    & NA                                    \\\\\n",
       "\t CNAG\\_00002                           & CNAG\\_00002-t26\\_1                   & N/A                                    & C. neoformans var. grubii H99          & N/A                                    & N/A                                    & N/A                                    & N/A                                    & N/A                                    & N/A                                    & N/A                                    & N/A                                    & N/A                                    & N/A                                    & N/A                                    & N/A                                    & N/A                                    & 3.5.1.- (In linear amides.)            & NA                                    \\\\\n",
       "\t CNAG\\_00003                           & CNAG\\_00003-t26\\_1                   & N/A                                    & C. neoformans var. grubii H99          & GO:0016021                             & integral component of membrane         & N/A                                    & N/A                                    & GO:0055085                             & transmembrane transport                & N/A                                    & N/A                                    & N/A                                    & N/A                                    & N/A                                    & N/A                                    & N/A                                    & N/A                                    & NA                                    \\\\\n",
       "\t CNAG\\_00004                           & CNAG\\_00004-t26\\_1                   & N/A                                    & C. neoformans var. grubii H99          & GO:0005634                             & nucleus                                & GO:0003677, GO:0008270                 & DNA binding, zinc ion binding          & GO:0006351                             & transcription, DNA-templated           & N/A                                    & N/A                                    & N/A                                    & N/A                                    & N/A                                    & N/A                                    & N/A                                    & N/A                                    & NA                                    \\\\\n",
       "\t CNAG\\_00005                           & CNAG\\_00005-t26\\_1                   & N/A                                    & C. neoformans var. grubii H99          & N/A                                    & N/A                                    & N/A                                    & N/A                                    & N/A                                    & N/A                                    & N/A                                    & N/A                                    & N/A                                    & N/A                                    & N/A                                    & N/A                                    & N/A                                    & 3.1.1.- (Carboxylic ester hydrolases.) & NA                                    \\\\\n",
       "\t CNAG\\_00006                           & CNAG\\_00006-t26\\_1                   & N/A                                    & C. neoformans var. grubii H99          & N/A                                    & N/A                                    & N/A                                    & N/A                                    & N/A                                    & N/A                                    & N/A                                    & N/A                                    & N/A                                    & N/A                                    & N/A                                    & N/A                                    & N/A                                    & N/A                                    & NA                                    \\\\\n",
       "\\end{tabular}\n"
      ],
      "text/markdown": [
       "\n",
       "gene | source_id | name | org | go_cc_comp_id | go_cc_comp_name | go_fc_comp_id | go_fc_comp_name | go_bp_comp_id | go_bp_comp_name | go_cc_curated_id | go_cc_curated_name | go_fc_curated_id | go_fc_curated_name | go_bp_curated_name | go_bp_curated_id | [EC numbers] | [EC numbers from OrthoMCL] | X19 | \n",
       "|---|---|---|---|---|---|\n",
       "| CNAG_00001                             | CNAG_00001-t26_1                       | N/A                                    | C. neoformans var. grubii H99          | N/A                                    | N/A                                    | N/A                                    | N/A                                    | N/A                                    | N/A                                    | N/A                                    | N/A                                    | N/A                                    | N/A                                    | N/A                                    | N/A                                    | N/A                                    | N/A                                    | NA                                     | \n",
       "| CNAG_00002                             | CNAG_00002-t26_1                       | N/A                                    | C. neoformans var. grubii H99          | N/A                                    | N/A                                    | N/A                                    | N/A                                    | N/A                                    | N/A                                    | N/A                                    | N/A                                    | N/A                                    | N/A                                    | N/A                                    | N/A                                    | N/A                                    | 3.5.1.- (In linear amides.)            | NA                                     | \n",
       "| CNAG_00003                             | CNAG_00003-t26_1                       | N/A                                    | C. neoformans var. grubii H99          | GO:0016021                             | integral component of membrane         | N/A                                    | N/A                                    | GO:0055085                             | transmembrane transport                | N/A                                    | N/A                                    | N/A                                    | N/A                                    | N/A                                    | N/A                                    | N/A                                    | N/A                                    | NA                                     | \n",
       "| CNAG_00004                             | CNAG_00004-t26_1                       | N/A                                    | C. neoformans var. grubii H99          | GO:0005634                             | nucleus                                | GO:0003677, GO:0008270                 | DNA binding, zinc ion binding          | GO:0006351                             | transcription, DNA-templated           | N/A                                    | N/A                                    | N/A                                    | N/A                                    | N/A                                    | N/A                                    | N/A                                    | N/A                                    | NA                                     | \n",
       "| CNAG_00005                             | CNAG_00005-t26_1                       | N/A                                    | C. neoformans var. grubii H99          | N/A                                    | N/A                                    | N/A                                    | N/A                                    | N/A                                    | N/A                                    | N/A                                    | N/A                                    | N/A                                    | N/A                                    | N/A                                    | N/A                                    | N/A                                    | 3.1.1.- (Carboxylic ester hydrolases.) | NA                                     | \n",
       "| CNAG_00006                             | CNAG_00006-t26_1                       | N/A                                    | C. neoformans var. grubii H99          | N/A                                    | N/A                                    | N/A                                    | N/A                                    | N/A                                    | N/A                                    | N/A                                    | N/A                                    | N/A                                    | N/A                                    | N/A                                    | N/A                                    | N/A                                    | N/A                                    | NA                                     | \n",
       "\n",
       "\n"
      ],
      "text/plain": [
       "  gene       source_id        name org                           go_cc_comp_id\n",
       "1 CNAG_00001 CNAG_00001-t26_1 N/A  C. neoformans var. grubii H99 N/A          \n",
       "2 CNAG_00002 CNAG_00002-t26_1 N/A  C. neoformans var. grubii H99 N/A          \n",
       "3 CNAG_00003 CNAG_00003-t26_1 N/A  C. neoformans var. grubii H99 GO:0016021   \n",
       "4 CNAG_00004 CNAG_00004-t26_1 N/A  C. neoformans var. grubii H99 GO:0005634   \n",
       "5 CNAG_00005 CNAG_00005-t26_1 N/A  C. neoformans var. grubii H99 N/A          \n",
       "6 CNAG_00006 CNAG_00006-t26_1 N/A  C. neoformans var. grubii H99 N/A          \n",
       "  go_cc_comp_name                go_fc_comp_id         \n",
       "1 N/A                            N/A                   \n",
       "2 N/A                            N/A                   \n",
       "3 integral component of membrane N/A                   \n",
       "4 nucleus                        GO:0003677, GO:0008270\n",
       "5 N/A                            N/A                   \n",
       "6 N/A                            N/A                   \n",
       "  go_fc_comp_name               go_bp_comp_id go_bp_comp_name             \n",
       "1 N/A                           N/A           N/A                         \n",
       "2 N/A                           N/A           N/A                         \n",
       "3 N/A                           GO:0055085    transmembrane transport     \n",
       "4 DNA binding, zinc ion binding GO:0006351    transcription, DNA-templated\n",
       "5 N/A                           N/A           N/A                         \n",
       "6 N/A                           N/A           N/A                         \n",
       "  go_cc_curated_id go_cc_curated_name go_fc_curated_id go_fc_curated_name\n",
       "1 N/A              N/A                N/A              N/A               \n",
       "2 N/A              N/A                N/A              N/A               \n",
       "3 N/A              N/A                N/A              N/A               \n",
       "4 N/A              N/A                N/A              N/A               \n",
       "5 N/A              N/A                N/A              N/A               \n",
       "6 N/A              N/A                N/A              N/A               \n",
       "  go_bp_curated_name go_bp_curated_id [EC numbers]\n",
       "1 N/A                N/A              N/A         \n",
       "2 N/A                N/A              N/A         \n",
       "3 N/A                N/A              N/A         \n",
       "4 N/A                N/A              N/A         \n",
       "5 N/A                N/A              N/A         \n",
       "6 N/A                N/A              N/A         \n",
       "  [EC numbers from OrthoMCL]             X19\n",
       "1 N/A                                    NA \n",
       "2 3.5.1.- (In linear amides.)            NA \n",
       "3 N/A                                    NA \n",
       "4 N/A                                    NA \n",
       "5 3.1.1.- (Carboxylic ester hydrolases.) NA \n",
       "6 N/A                                    NA "
      ]
     },
     "metadata": {},
     "output_type": "display_data"
    }
   ],
   "source": [
    "dat_go_cne_h99 <- readr::read_tsv(file.path(INFODIR, \"go_all_cne_h99_Fungidb.tsv\"))\n",
    "#dat_go_cne_h99 <- dat_go_cne_h99 %>% select(-X10)\n",
    "dat_go_cne_h99 <- dat_go_cne_h99 %>% \n",
    "    rename(\n",
    "        gene = `[Gene ID]`,\n",
    "        source_id = `[source_id]`,\n",
    "        name = `[Gene Name or Symbol]`,\n",
    "        go_bp_curated_id   = `[Curated GO Processes]`,\n",
    "        go_bp_curated_name = `[Curated GO Process IDs]`,\n",
    "        go_cc_curated_id   = `[Curated GO Component IDs]`,\n",
    "        go_cc_curated_name = `[Curated GO Components]`,\n",
    "        go_fc_curated_id   = `[Curated GO Function IDs]`,\n",
    "        go_fc_curated_name = `[Curated GO Functions]`,\n",
    "        #ec_num = `[EC numbers]`,\n",
    "        org = `[Organism]`,\n",
    "        go_bp_comp_id   = `[Computed GO Process IDs]`,\n",
    "        go_bp_comp_name = `[Computed GO Processes]`,\n",
    "        go_cc_comp_id   = `[Computed GO Component IDs]`,\n",
    "        go_cc_comp_name = `[Computed GO Components]`,\n",
    "        go_fc_comp_id   = `[Computed GO Function IDs]`,\n",
    "        go_fc_comp_name = `[Computed GO Functions]`)\n",
    "\n",
    "head(dat_go_cne_h99)"
   ]
  },
  {
   "cell_type": "code",
   "execution_count": 3,
   "metadata": {},
   "outputs": [
    {
     "data": {
      "text/html": [
       "<table>\n",
       "<thead><tr><th scope=col>gene</th><th scope=col>go_bp_comp_id</th></tr></thead>\n",
       "<tbody>\n",
       "\t<tr><td>CNAG_00003 </td><td>GO:0055085 </td></tr>\n",
       "\t<tr><td>CNAG_00004 </td><td>GO:0006351 </td></tr>\n",
       "\t<tr><td>CNAG_00007 </td><td>GO:0006431 </td></tr>\n",
       "\t<tr><td>CNAG_00007 </td><td> GO:0006418</td></tr>\n",
       "\t<tr><td>CNAG_00010 </td><td>GO:0030001 </td></tr>\n",
       "\t<tr><td>CNAG_00010 </td><td> GO:0055085</td></tr>\n",
       "</tbody>\n",
       "</table>\n"
      ],
      "text/latex": [
       "\\begin{tabular}{r|ll}\n",
       " gene & go\\_bp\\_comp\\_id\\\\\n",
       "\\hline\n",
       "\t CNAG\\_00003 & GO:0055085  \\\\\n",
       "\t CNAG\\_00004 & GO:0006351  \\\\\n",
       "\t CNAG\\_00007 & GO:0006431  \\\\\n",
       "\t CNAG\\_00007 &  GO:0006418 \\\\\n",
       "\t CNAG\\_00010 & GO:0030001  \\\\\n",
       "\t CNAG\\_00010 &  GO:0055085 \\\\\n",
       "\\end{tabular}\n"
      ],
      "text/markdown": [
       "\n",
       "gene | go_bp_comp_id | \n",
       "|---|---|---|---|---|---|\n",
       "| CNAG_00003  | GO:0055085  | \n",
       "| CNAG_00004  | GO:0006351  | \n",
       "| CNAG_00007  | GO:0006431  | \n",
       "| CNAG_00007  |  GO:0006418 | \n",
       "| CNAG_00010  | GO:0030001  | \n",
       "| CNAG_00010  |  GO:0055085 | \n",
       "\n",
       "\n"
      ],
      "text/plain": [
       "  gene       go_bp_comp_id\n",
       "1 CNAG_00003 GO:0055085   \n",
       "2 CNAG_00004 GO:0006351   \n",
       "3 CNAG_00007 GO:0006431   \n",
       "4 CNAG_00007  GO:0006418  \n",
       "5 CNAG_00010 GO:0030001   \n",
       "6 CNAG_00010  GO:0055085  "
      ]
     },
     "metadata": {},
     "output_type": "display_data"
    },
    {
     "data": {
      "text/html": [
       "<table>\n",
       "<thead><tr><th scope=col>gene</th><th scope=col>go_fc_comp_id</th></tr></thead>\n",
       "<tbody>\n",
       "\t<tr><td>CNAG_00004 </td><td>GO:0003677 </td></tr>\n",
       "\t<tr><td>CNAG_00004 </td><td> GO:0008270</td></tr>\n",
       "\t<tr><td>CNAG_00007 </td><td>GO:0005524 </td></tr>\n",
       "\t<tr><td>CNAG_00007 </td><td> GO:0004812</td></tr>\n",
       "\t<tr><td>CNAG_00007 </td><td> GO:0004825</td></tr>\n",
       "\t<tr><td>CNAG_00007 </td><td> GO:0000166</td></tr>\n",
       "</tbody>\n",
       "</table>\n"
      ],
      "text/latex": [
       "\\begin{tabular}{r|ll}\n",
       " gene & go\\_fc\\_comp\\_id\\\\\n",
       "\\hline\n",
       "\t CNAG\\_00004 & GO:0003677  \\\\\n",
       "\t CNAG\\_00004 &  GO:0008270 \\\\\n",
       "\t CNAG\\_00007 & GO:0005524  \\\\\n",
       "\t CNAG\\_00007 &  GO:0004812 \\\\\n",
       "\t CNAG\\_00007 &  GO:0004825 \\\\\n",
       "\t CNAG\\_00007 &  GO:0000166 \\\\\n",
       "\\end{tabular}\n"
      ],
      "text/markdown": [
       "\n",
       "gene | go_fc_comp_id | \n",
       "|---|---|---|---|---|---|\n",
       "| CNAG_00004  | GO:0003677  | \n",
       "| CNAG_00004  |  GO:0008270 | \n",
       "| CNAG_00007  | GO:0005524  | \n",
       "| CNAG_00007  |  GO:0004812 | \n",
       "| CNAG_00007  |  GO:0004825 | \n",
       "| CNAG_00007  |  GO:0000166 | \n",
       "\n",
       "\n"
      ],
      "text/plain": [
       "  gene       go_fc_comp_id\n",
       "1 CNAG_00004 GO:0003677   \n",
       "2 CNAG_00004  GO:0008270  \n",
       "3 CNAG_00007 GO:0005524   \n",
       "4 CNAG_00007  GO:0004812  \n",
       "5 CNAG_00007  GO:0004825  \n",
       "6 CNAG_00007  GO:0000166  "
      ]
     },
     "metadata": {},
     "output_type": "display_data"
    },
    {
     "data": {
      "text/html": [
       "<table>\n",
       "<thead><tr><th scope=col>gene</th><th scope=col>go_cc_comp_id</th></tr></thead>\n",
       "<tbody>\n",
       "\t<tr><td>CNAG_00003</td><td>GO:0016021</td></tr>\n",
       "\t<tr><td>CNAG_00004</td><td>GO:0005634</td></tr>\n",
       "\t<tr><td>CNAG_00007</td><td>GO:0005737</td></tr>\n",
       "\t<tr><td>CNAG_00010</td><td>GO:0016020</td></tr>\n",
       "\t<tr><td>CNAG_00018</td><td>GO:0005634</td></tr>\n",
       "\t<tr><td>CNAG_00022</td><td>GO:0005739</td></tr>\n",
       "</tbody>\n",
       "</table>\n"
      ],
      "text/latex": [
       "\\begin{tabular}{r|ll}\n",
       " gene & go\\_cc\\_comp\\_id\\\\\n",
       "\\hline\n",
       "\t CNAG\\_00003 & GO:0016021  \\\\\n",
       "\t CNAG\\_00004 & GO:0005634  \\\\\n",
       "\t CNAG\\_00007 & GO:0005737  \\\\\n",
       "\t CNAG\\_00010 & GO:0016020  \\\\\n",
       "\t CNAG\\_00018 & GO:0005634  \\\\\n",
       "\t CNAG\\_00022 & GO:0005739  \\\\\n",
       "\\end{tabular}\n"
      ],
      "text/markdown": [
       "\n",
       "gene | go_cc_comp_id | \n",
       "|---|---|---|---|---|---|\n",
       "| CNAG_00003 | GO:0016021 | \n",
       "| CNAG_00004 | GO:0005634 | \n",
       "| CNAG_00007 | GO:0005737 | \n",
       "| CNAG_00010 | GO:0016020 | \n",
       "| CNAG_00018 | GO:0005634 | \n",
       "| CNAG_00022 | GO:0005739 | \n",
       "\n",
       "\n"
      ],
      "text/plain": [
       "  gene       go_cc_comp_id\n",
       "1 CNAG_00003 GO:0016021   \n",
       "2 CNAG_00004 GO:0005634   \n",
       "3 CNAG_00007 GO:0005737   \n",
       "4 CNAG_00010 GO:0016020   \n",
       "5 CNAG_00018 GO:0005634   \n",
       "6 CNAG_00022 GO:0005739   "
      ]
     },
     "metadata": {},
     "output_type": "display_data"
    }
   ],
   "source": [
    "preprocess <- function(dat, varname){\n",
    "    varname <- rlang::sym(varname)\n",
    "    dat     <- dat %>% \n",
    "        select(gene, !!varname) %>% \n",
    "        filter(!!varname != 'N/A') %>% \n",
    "        select(gene, !!varname) %>%\n",
    "        separate_rows(!!varname, sep = \",\") %>% \n",
    "        distinct\n",
    "    return(dat)\n",
    "}\n",
    "#varname <- \"go_bp_comp_id\"\n",
    "#varname <- rlang::sym(varname)\n",
    "#dat_go_bp <- dat_go_cne_h99 %>% select(gene, !!varname) %>% filter(!!varname != 'N/A') %>% distinct\n",
    "#head(dat_go_bp)\n",
    "dat_go_bp <- preprocess(dat_go_cne_h99, \"go_bp_comp_id\")\n",
    "dat_go_fc <- preprocess(dat_go_cne_h99, \"go_fc_comp_id\")\n",
    "dat_go_cc <- preprocess(dat_go_cne_h99, \"go_cc_comp_id\")\n",
    "head(dat_go_bp)\n",
    "head(dat_go_fc)\n",
    "head(dat_go_cc)"
   ]
  },
  {
   "cell_type": "code",
   "execution_count": 4,
   "metadata": {},
   "outputs": [],
   "source": [
    "write.table(data.frame(dat_go_bp$go_bp_comp_id), \n",
    "            file = file.path(INFODIR, \"go_id_bp.txt\"), \n",
    "            row.names = FALSE, col.names = FALSE, \n",
    "            quote = FALSE)\n",
    "\n",
    "write.table(data.frame(dat_go_fc$go_fc_comp_id), \n",
    "            file = file.path(INFODIR, \"go_id_fc.txt\"), \n",
    "            row.names = FALSE, col.names = FALSE, \n",
    "            quote = FALSE)\n",
    "\n",
    "write.table(data.frame(dat_go_cc$go_cc_comp_id), \n",
    "            file = file.path(INFODIR, \"go_id_cc.txt\"), \n",
    "            row.names = FALSE, col.names = FALSE, \n",
    "            quote = FALSE)"
   ]
  },
  {
   "cell_type": "markdown",
   "metadata": {},
   "source": [
    "# go info"
   ]
  },
  {
   "cell_type": "code",
   "execution_count": 5,
   "metadata": {},
   "outputs": [
    {
     "name": "stderr",
     "output_type": "stream",
     "text": [
      "Parsed with column specification:\n",
      "cols(\n",
      "  X1 = col_character(),\n",
      "  X2 = col_character(),\n",
      "  X3 = col_character(),\n",
      "  X4 = col_character()\n",
      ")\n",
      "Parsed with column specification:\n",
      "cols(\n",
      "  X1 = col_character(),\n",
      "  X2 = col_character(),\n",
      "  X3 = col_character(),\n",
      "  X4 = col_character()\n",
      ")\n",
      "Parsed with column specification:\n",
      "cols(\n",
      "  X1 = col_character(),\n",
      "  X2 = col_character(),\n",
      "  X3 = col_character(),\n",
      "  X4 = col_character()\n",
      ")\n"
     ]
    },
    {
     "data": {
      "text/html": [
       "<table>\n",
       "<thead><tr><th scope=col>id</th><th scope=col>name</th><th scope=col>type</th><th scope=col>desc</th></tr></thead>\n",
       "<tbody>\n",
       "\t<tr><td>GO:0000002                                                                                                                                                                                                                         </td><td>mitochondrial genome maintenance                                                                                                                                                                                                   </td><td>biological_process                                                                                                                                                                                                                 </td><td>The maintenance of the structure and integrity of the mitochondrial genome; includes replication and segregation of the mitochondrial chromosome.                                                                                  </td></tr>\n",
       "\t<tr><td>GO:0000045                                                                                                                                                                                                                         </td><td>autophagosome assembly                                                                                                                                                                                                             </td><td>biological_process                                                                                                                                                                                                                 </td><td>The formation of a double membrane-bounded structure, the autophagosome, that occurs when a specialized membrane sac, called the isolation membrane, starts to enclose a portion of the cytoplasm.                                 </td></tr>\n",
       "\t<tr><td>GO:0000077                                                                                                                                                                                                                         </td><td>DNA damage checkpoint                                                                                                                                                                                                              </td><td>biological_process                                                                                                                                                                                                                 </td><td>A cell cycle checkpoint that regulates progression through the cell cycle in response to DNA damage. A DNA damage checkpoint may blocks cell cycle progression (in G1, G2 or metaphase) or slow the rate at which S phase proceeds.</td></tr>\n",
       "</tbody>\n",
       "</table>\n"
      ],
      "text/latex": [
       "\\begin{tabular}{r|llll}\n",
       " id & name & type & desc\\\\\n",
       "\\hline\n",
       "\t GO:0000002                                                                                                                                                                                                                          & mitochondrial genome maintenance                                                                                                                                                                                                    & biological\\_process                                                                                                                                                                                                                & The maintenance of the structure and integrity of the mitochondrial genome; includes replication and segregation of the mitochondrial chromosome.                                                                                  \\\\\n",
       "\t GO:0000045                                                                                                                                                                                                                          & autophagosome assembly                                                                                                                                                                                                              & biological\\_process                                                                                                                                                                                                                & The formation of a double membrane-bounded structure, the autophagosome, that occurs when a specialized membrane sac, called the isolation membrane, starts to enclose a portion of the cytoplasm.                                 \\\\\n",
       "\t GO:0000077                                                                                                                                                                                                                          & DNA damage checkpoint                                                                                                                                                                                                               & biological\\_process                                                                                                                                                                                                                & A cell cycle checkpoint that regulates progression through the cell cycle in response to DNA damage. A DNA damage checkpoint may blocks cell cycle progression (in G1, G2 or metaphase) or slow the rate at which S phase proceeds.\\\\\n",
       "\\end{tabular}\n"
      ],
      "text/markdown": [
       "\n",
       "id | name | type | desc | \n",
       "|---|---|---|\n",
       "| GO:0000002                                                                                                                                                                                                                          | mitochondrial genome maintenance                                                                                                                                                                                                    | biological_process                                                                                                                                                                                                                  | The maintenance of the structure and integrity of the mitochondrial genome; includes replication and segregation of the mitochondrial chromosome.                                                                                   | \n",
       "| GO:0000045                                                                                                                                                                                                                          | autophagosome assembly                                                                                                                                                                                                              | biological_process                                                                                                                                                                                                                  | The formation of a double membrane-bounded structure, the autophagosome, that occurs when a specialized membrane sac, called the isolation membrane, starts to enclose a portion of the cytoplasm.                                  | \n",
       "| GO:0000077                                                                                                                                                                                                                          | DNA damage checkpoint                                                                                                                                                                                                               | biological_process                                                                                                                                                                                                                  | A cell cycle checkpoint that regulates progression through the cell cycle in response to DNA damage. A DNA damage checkpoint may blocks cell cycle progression (in G1, G2 or metaphase) or slow the rate at which S phase proceeds. | \n",
       "\n",
       "\n"
      ],
      "text/plain": [
       "  id         name                             type              \n",
       "1 GO:0000002 mitochondrial genome maintenance biological_process\n",
       "2 GO:0000045 autophagosome assembly           biological_process\n",
       "3 GO:0000077 DNA damage checkpoint            biological_process\n",
       "  desc                                                                                                                                                                                                                               \n",
       "1 The maintenance of the structure and integrity of the mitochondrial genome; includes replication and segregation of the mitochondrial chromosome.                                                                                  \n",
       "2 The formation of a double membrane-bounded structure, the autophagosome, that occurs when a specialized membrane sac, called the isolation membrane, starts to enclose a portion of the cytoplasm.                                 \n",
       "3 A cell cycle checkpoint that regulates progression through the cell cycle in response to DNA damage. A DNA damage checkpoint may blocks cell cycle progression (in G1, G2 or metaphase) or slow the rate at which S phase proceeds."
      ]
     },
     "metadata": {},
     "output_type": "display_data"
    },
    {
     "data": {
      "text/html": [
       "<table>\n",
       "<thead><tr><th scope=col>id</th><th scope=col>name</th><th scope=col>type</th><th scope=col>desc</th></tr></thead>\n",
       "<tbody>\n",
       "\t<tr><td>GO:0000030                                                                                                                                                            </td><td>mannosyltransferase activity                                                                                                                                          </td><td>molecular_function                                                                                                                                                    </td><td>Catalysis of the transfer of a mannosyl group to an acceptor molecule, typically another carbohydrate or a lipid.                                                     </td></tr>\n",
       "\t<tr><td>GO:0000049                                                                                                                                                            </td><td>tRNA binding                                                                                                                                                          </td><td>molecular_function                                                                                                                                                    </td><td>Interacting selectively and non-covalently with transfer RNA.                                                                                                         </td></tr>\n",
       "\t<tr><td>GO:0000062                                                                                                                                                            </td><td>fatty-acyl-CoA binding                                                                                                                                                </td><td>molecular_function                                                                                                                                                    </td><td>Interacting selectively and non-covalently with acyl-CoA, any derivative of coenzyme A in which the sulfhydryl group is in thiolester linkage with a fatty acyl group.</td></tr>\n",
       "</tbody>\n",
       "</table>\n"
      ],
      "text/latex": [
       "\\begin{tabular}{r|llll}\n",
       " id & name & type & desc\\\\\n",
       "\\hline\n",
       "\t GO:0000030                                                                                                                                                             & mannosyltransferase activity                                                                                                                                           & molecular\\_function                                                                                                                                                   & Catalysis of the transfer of a mannosyl group to an acceptor molecule, typically another carbohydrate or a lipid.                                                     \\\\\n",
       "\t GO:0000049                                                                                                                                                             & tRNA binding                                                                                                                                                           & molecular\\_function                                                                                                                                                   & Interacting selectively and non-covalently with transfer RNA.                                                                                                         \\\\\n",
       "\t GO:0000062                                                                                                                                                             & fatty-acyl-CoA binding                                                                                                                                                 & molecular\\_function                                                                                                                                                   & Interacting selectively and non-covalently with acyl-CoA, any derivative of coenzyme A in which the sulfhydryl group is in thiolester linkage with a fatty acyl group.\\\\\n",
       "\\end{tabular}\n"
      ],
      "text/markdown": [
       "\n",
       "id | name | type | desc | \n",
       "|---|---|---|\n",
       "| GO:0000030                                                                                                                                                             | mannosyltransferase activity                                                                                                                                           | molecular_function                                                                                                                                                     | Catalysis of the transfer of a mannosyl group to an acceptor molecule, typically another carbohydrate or a lipid.                                                      | \n",
       "| GO:0000049                                                                                                                                                             | tRNA binding                                                                                                                                                           | molecular_function                                                                                                                                                     | Interacting selectively and non-covalently with transfer RNA.                                                                                                          | \n",
       "| GO:0000062                                                                                                                                                             | fatty-acyl-CoA binding                                                                                                                                                 | molecular_function                                                                                                                                                     | Interacting selectively and non-covalently with acyl-CoA, any derivative of coenzyme A in which the sulfhydryl group is in thiolester linkage with a fatty acyl group. | \n",
       "\n",
       "\n"
      ],
      "text/plain": [
       "  id         name                         type              \n",
       "1 GO:0000030 mannosyltransferase activity molecular_function\n",
       "2 GO:0000049 tRNA binding                 molecular_function\n",
       "3 GO:0000062 fatty-acyl-CoA binding       molecular_function\n",
       "  desc                                                                                                                                                                  \n",
       "1 Catalysis of the transfer of a mannosyl group to an acceptor molecule, typically another carbohydrate or a lipid.                                                     \n",
       "2 Interacting selectively and non-covalently with transfer RNA.                                                                                                         \n",
       "3 Interacting selectively and non-covalently with acyl-CoA, any derivative of coenzyme A in which the sulfhydryl group is in thiolester linkage with a fatty acyl group."
      ]
     },
     "metadata": {},
     "output_type": "display_data"
    },
    {
     "data": {
      "text/html": [
       "<table>\n",
       "<thead><tr><th scope=col>id</th><th scope=col>name</th><th scope=col>type</th><th scope=col>desc</th></tr></thead>\n",
       "<tbody>\n",
       "\t<tr><td>GO:0000015                                                                                                                                                                                                                                                                                                                                                                                                                                                                                                                                                                                                                                                                                                                                     </td><td>phosphopyruvate hydratase complex                                                                                                                                                                                                                                                                                                                                                                                                                                                                                                                                                                                                                                                                                                              </td><td>cellular_component                                                                                                                                                                                                                                                                                                                                                                                                                                                                                                                                                                                                                                                                                                                             </td><td>A multimeric enzyme complex, usually a dimer or an octamer, that catalyzes the conversion of 2-phospho-D-glycerate to phosphoenolpyruvate and water.                                                                                                                                                                                                                                                                                                                                                                                                                                                                                                                                                                                           </td></tr>\n",
       "\t<tr><td>GO:0000124                                                                                                                                                                                                                                                                                                                                                                                                                                                                                                                                                                                                                                                                                                                                     </td><td>SAGA complex                                                                                                                                                                                                                                                                                                                                                                                                                                                                                                                                                                                                                                                                                                                                   </td><td>cellular_component                                                                                                                                                                                                                                                                                                                                                                                                                                                                                                                                                                                                                                                                                                                             </td><td>A SAGA-type histone acetyltransferase complex that contains Spt8 (in budding yeast) or a homolog thereof; additional polypeptides include Spt group, consisting of Spt7, Spt3, and Spt20/Ada5, which interact with the TATA-binding protein (TBP); the Ada group, consisting of Ada1, Ada2, Ada3, Ada4/Gcn5, and Ada5/Spt20, which is functionally linked to the nucleosomal HAT activity; Tra1, an ATM/PI-3 kinase-related protein that targets DNA-bound activators for recruitment to promoters; the TBP-associated factor (TAF) proteins, consisting of Taf5, Taf6, Taf9, Taf10, and Taf12, which mediate nucleosomal HAT activity and are thought to help recruit the basal transcription machinery; the ubiquitin specifc protease Ubp-8.</td></tr>\n",
       "\t<tr><td>GO:0000139                                                                                                                                                                                                                                                                                                                                                                                                                                                                                                                                                                                                                                                                                                                                     </td><td>Golgi membrane                                                                                                                                                                                                                                                                                                                                                                                                                                                                                                                                                                                                                                                                                                                                 </td><td>cellular_component                                                                                                                                                                                                                                                                                                                                                                                                                                                                                                                                                                                                                                                                                                                             </td><td>The lipid bilayer surrounding any of the compartments of the Golgi apparatus.                                                                                                                                                                                                                                                                                                                                                                                                                                                                                                                                                                                                                                                                  </td></tr>\n",
       "</tbody>\n",
       "</table>\n"
      ],
      "text/latex": [
       "\\begin{tabular}{r|llll}\n",
       " id & name & type & desc\\\\\n",
       "\\hline\n",
       "\t GO:0000015                                                                                                                                                                                                                                                                                                                                                                                                                                                                                                                                                                                                                                                                                                                                      & phosphopyruvate hydratase complex                                                                                                                                                                                                                                                                                                                                                                                                                                                                                                                                                                                                                                                                                                               & cellular\\_component                                                                                                                                                                                                                                                                                                                                                                                                                                                                                                                                                                                                                                                                                                                            & A multimeric enzyme complex, usually a dimer or an octamer, that catalyzes the conversion of 2-phospho-D-glycerate to phosphoenolpyruvate and water.                                                                                                                                                                                                                                                                                                                                                                                                                                                                                                                                                                                           \\\\\n",
       "\t GO:0000124                                                                                                                                                                                                                                                                                                                                                                                                                                                                                                                                                                                                                                                                                                                                      & SAGA complex                                                                                                                                                                                                                                                                                                                                                                                                                                                                                                                                                                                                                                                                                                                                    & cellular\\_component                                                                                                                                                                                                                                                                                                                                                                                                                                                                                                                                                                                                                                                                                                                            & A SAGA-type histone acetyltransferase complex that contains Spt8 (in budding yeast) or a homolog thereof; additional polypeptides include Spt group, consisting of Spt7, Spt3, and Spt20/Ada5, which interact with the TATA-binding protein (TBP); the Ada group, consisting of Ada1, Ada2, Ada3, Ada4/Gcn5, and Ada5/Spt20, which is functionally linked to the nucleosomal HAT activity; Tra1, an ATM/PI-3 kinase-related protein that targets DNA-bound activators for recruitment to promoters; the TBP-associated factor (TAF) proteins, consisting of Taf5, Taf6, Taf9, Taf10, and Taf12, which mediate nucleosomal HAT activity and are thought to help recruit the basal transcription machinery; the ubiquitin specifc protease Ubp-8.\\\\\n",
       "\t GO:0000139                                                                                                                                                                                                                                                                                                                                                                                                                                                                                                                                                                                                                                                                                                                                      & Golgi membrane                                                                                                                                                                                                                                                                                                                                                                                                                                                                                                                                                                                                                                                                                                                                  & cellular\\_component                                                                                                                                                                                                                                                                                                                                                                                                                                                                                                                                                                                                                                                                                                                            & The lipid bilayer surrounding any of the compartments of the Golgi apparatus.                                                                                                                                                                                                                                                                                                                                                                                                                                                                                                                                                                                                                                                                  \\\\\n",
       "\\end{tabular}\n"
      ],
      "text/markdown": [
       "\n",
       "id | name | type | desc | \n",
       "|---|---|---|\n",
       "| GO:0000015                                                                                                                                                                                                                                                                                                                                                                                                                                                                                                                                                                                                                                                                                                                                      | phosphopyruvate hydratase complex                                                                                                                                                                                                                                                                                                                                                                                                                                                                                                                                                                                                                                                                                                               | cellular_component                                                                                                                                                                                                                                                                                                                                                                                                                                                                                                                                                                                                                                                                                                                              | A multimeric enzyme complex, usually a dimer or an octamer, that catalyzes the conversion of 2-phospho-D-glycerate to phosphoenolpyruvate and water.                                                                                                                                                                                                                                                                                                                                                                                                                                                                                                                                                                                            | \n",
       "| GO:0000124                                                                                                                                                                                                                                                                                                                                                                                                                                                                                                                                                                                                                                                                                                                                      | SAGA complex                                                                                                                                                                                                                                                                                                                                                                                                                                                                                                                                                                                                                                                                                                                                    | cellular_component                                                                                                                                                                                                                                                                                                                                                                                                                                                                                                                                                                                                                                                                                                                              | A SAGA-type histone acetyltransferase complex that contains Spt8 (in budding yeast) or a homolog thereof; additional polypeptides include Spt group, consisting of Spt7, Spt3, and Spt20/Ada5, which interact with the TATA-binding protein (TBP); the Ada group, consisting of Ada1, Ada2, Ada3, Ada4/Gcn5, and Ada5/Spt20, which is functionally linked to the nucleosomal HAT activity; Tra1, an ATM/PI-3 kinase-related protein that targets DNA-bound activators for recruitment to promoters; the TBP-associated factor (TAF) proteins, consisting of Taf5, Taf6, Taf9, Taf10, and Taf12, which mediate nucleosomal HAT activity and are thought to help recruit the basal transcription machinery; the ubiquitin specifc protease Ubp-8. | \n",
       "| GO:0000139                                                                                                                                                                                                                                                                                                                                                                                                                                                                                                                                                                                                                                                                                                                                      | Golgi membrane                                                                                                                                                                                                                                                                                                                                                                                                                                                                                                                                                                                                                                                                                                                                  | cellular_component                                                                                                                                                                                                                                                                                                                                                                                                                                                                                                                                                                                                                                                                                                                              | The lipid bilayer surrounding any of the compartments of the Golgi apparatus.                                                                                                                                                                                                                                                                                                                                                                                                                                                                                                                                                                                                                                                                   | \n",
       "\n",
       "\n"
      ],
      "text/plain": [
       "  id         name                              type              \n",
       "1 GO:0000015 phosphopyruvate hydratase complex cellular_component\n",
       "2 GO:0000124 SAGA complex                      cellular_component\n",
       "3 GO:0000139 Golgi membrane                    cellular_component\n",
       "  desc                                                                                                                                                                                                                                                                                                                                                                                                                                                                                                                                                                                                                                                                                                                                           \n",
       "1 A multimeric enzyme complex, usually a dimer or an octamer, that catalyzes the conversion of 2-phospho-D-glycerate to phosphoenolpyruvate and water.                                                                                                                                                                                                                                                                                                                                                                                                                                                                                                                                                                                           \n",
       "2 A SAGA-type histone acetyltransferase complex that contains Spt8 (in budding yeast) or a homolog thereof; additional polypeptides include Spt group, consisting of Spt7, Spt3, and Spt20/Ada5, which interact with the TATA-binding protein (TBP); the Ada group, consisting of Ada1, Ada2, Ada3, Ada4/Gcn5, and Ada5/Spt20, which is functionally linked to the nucleosomal HAT activity; Tra1, an ATM/PI-3 kinase-related protein that targets DNA-bound activators for recruitment to promoters; the TBP-associated factor (TAF) proteins, consisting of Taf5, Taf6, Taf9, Taf10, and Taf12, which mediate nucleosomal HAT activity and are thought to help recruit the basal transcription machinery; the ubiquitin specifc protease Ubp-8.\n",
       "3 The lipid bilayer surrounding any of the compartments of the Golgi apparatus.                                                                                                                                                                                                                                                                                                                                                                                                                                                                                                                                                                                                                                                                  "
      ]
     },
     "metadata": {},
     "output_type": "display_data"
    }
   ],
   "source": [
    "dat_go_info_bp <- readr::read_tsv(file.path(INFODIR, \"go_info_bp_YeastMine.tsv\"), col_names = FALSE)\n",
    "colnames(dat_go_info_bp) <- c(\"id\", \"name\", \"type\", \"desc\")\n",
    "\n",
    "dat_go_info_fc <- readr::read_tsv(file.path(INFODIR, \"go_info_fc_YeastMine.tsv\"), col_names = FALSE)\n",
    "colnames(dat_go_info_fc) <- c(\"id\", \"name\", \"type\", \"desc\")\n",
    "\n",
    "dat_go_info_cc <- readr::read_tsv(file.path(INFODIR, \"go_info_cc_YeastMine.tsv\"), col_names = FALSE)\n",
    "colnames(dat_go_info_cc) <- c(\"id\", \"name\", \"type\", \"desc\")\n",
    "\n",
    "head(dat_go_info_bp, 3)\n",
    "head(dat_go_info_fc, 3)\n",
    "head(dat_go_info_cc, 3)"
   ]
  },
  {
   "cell_type": "code",
   "execution_count": 6,
   "metadata": {},
   "outputs": [
    {
     "data": {
      "text/html": [
       "<table>\n",
       "<thead><tr><th scope=col>gene</th><th scope=col>id</th><th scope=col>name</th><th scope=col>type</th><th scope=col>desc</th><th scope=col>label</th></tr></thead>\n",
       "<tbody>\n",
       "\t<tr><td>CNAG_00003                                                                                                                                                                                                                                                                                                                                  </td><td>GO:0055085                                                                                                                                                                                                                                                                                                                                  </td><td>transmembrane transport                                                                                                                                                                                                                                                                                                                     </td><td>biological_process                                                                                                                                                                                                                                                                                                                          </td><td>The process in which a solute is transported across a lipid bilayer, from one side of a membrane to the other.                                                                                                                                                                                                                              </td><td>GO:0055085 | transmembrane transport                                                                                                                                                                                                                                                                                                        </td></tr>\n",
       "\t<tr><td>CNAG_00004                                                                                                                                                                                                                                                                                                                                  </td><td>GO:0006351                                                                                                                                                                                                                                                                                                                                  </td><td>transcription, DNA-templated                                                                                                                                                                                                                                                                                                                </td><td>biological_process                                                                                                                                                                                                                                                                                                                          </td><td>The cellular synthesis of RNA on a template of DNA.                                                                                                                                                                                                                                                                                         </td><td>GO:0006351 | transcription, DNA-templated                                                                                                                                                                                                                                                                                                   </td></tr>\n",
       "\t<tr><td>CNAG_00007                                                                                                                                                                                                                                                                                                                                  </td><td>GO:0006431                                                                                                                                                                                                                                                                                                                                  </td><td>methionyl-tRNA aminoacylation                                                                                                                                                                                                                                                                                                               </td><td>biological_process                                                                                                                                                                                                                                                                                                                          </td><td>The process of coupling methionine to methionyl-tRNA, catalyzed by methionyl-tRNA synthetase. The methionyl-tRNA synthetase is a  class-I synthetase. The activated amino acid is transferred to the 2'-OH group of a methionine-accetping tRNA. The 2'-O-aminoacyl-tRNA will ultimately migrate to the 3' position via transesterification.</td><td>GO:0006431 | methionyl-tRNA aminoacylation                                                                                                                                                                                                                                                                                                  </td></tr>\n",
       "</tbody>\n",
       "</table>\n"
      ],
      "text/latex": [
       "\\begin{tabular}{r|llllll}\n",
       " gene & id & name & type & desc & label\\\\\n",
       "\\hline\n",
       "\t CNAG\\_00003                                                                                                                                                                                                                                                                                                                                 & GO:0055085                                                                                                                                                                                                                                                                                                                                   & transmembrane transport                                                                                                                                                                                                                                                                                                                      & biological\\_process                                                                                                                                                                                                                                                                                                                         & The process in which a solute is transported across a lipid bilayer, from one side of a membrane to the other.                                                                                                                                                                                                                               & GO:0055085 \\textbar{} transmembrane transport                                                                                                                                                                                                                                                                                              \\\\\n",
       "\t CNAG\\_00004                                                                                                                                                                                                                                                                                                                                 & GO:0006351                                                                                                                                                                                                                                                                                                                                   & transcription, DNA-templated                                                                                                                                                                                                                                                                                                                 & biological\\_process                                                                                                                                                                                                                                                                                                                         & The cellular synthesis of RNA on a template of DNA.                                                                                                                                                                                                                                                                                          & GO:0006351 \\textbar{} transcription, DNA-templated                                                                                                                                                                                                                                                                                         \\\\\n",
       "\t CNAG\\_00007                                                                                                                                                                                                                                                                                                                                 & GO:0006431                                                                                                                                                                                                                                                                                                                                   & methionyl-tRNA aminoacylation                                                                                                                                                                                                                                                                                                                & biological\\_process                                                                                                                                                                                                                                                                                                                         & The process of coupling methionine to methionyl-tRNA, catalyzed by methionyl-tRNA synthetase. The methionyl-tRNA synthetase is a  class-I synthetase. The activated amino acid is transferred to the 2'-OH group of a methionine-accetping tRNA. The 2'-O-aminoacyl-tRNA will ultimately migrate to the 3' position via transesterification. & GO:0006431 \\textbar{} methionyl-tRNA aminoacylation                                                                                                                                                                                                                                                                                        \\\\\n",
       "\\end{tabular}\n"
      ],
      "text/markdown": [
       "\n",
       "gene | id | name | type | desc | label | \n",
       "|---|---|---|\n",
       "| CNAG_00003                                                                                                                                                                                                                                                                                                                                   | GO:0055085                                                                                                                                                                                                                                                                                                                                   | transmembrane transport                                                                                                                                                                                                                                                                                                                      | biological_process                                                                                                                                                                                                                                                                                                                           | The process in which a solute is transported across a lipid bilayer, from one side of a membrane to the other.                                                                                                                                                                                                                               | GO:0055085 | transmembrane transport                                                                                                                                                                                                                                                                                                         | \n",
       "| CNAG_00004                                                                                                                                                                                                                                                                                                                                   | GO:0006351                                                                                                                                                                                                                                                                                                                                   | transcription, DNA-templated                                                                                                                                                                                                                                                                                                                 | biological_process                                                                                                                                                                                                                                                                                                                           | The cellular synthesis of RNA on a template of DNA.                                                                                                                                                                                                                                                                                          | GO:0006351 | transcription, DNA-templated                                                                                                                                                                                                                                                                                                    | \n",
       "| CNAG_00007                                                                                                                                                                                                                                                                                                                                   | GO:0006431                                                                                                                                                                                                                                                                                                                                   | methionyl-tRNA aminoacylation                                                                                                                                                                                                                                                                                                                | biological_process                                                                                                                                                                                                                                                                                                                           | The process of coupling methionine to methionyl-tRNA, catalyzed by methionyl-tRNA synthetase. The methionyl-tRNA synthetase is a  class-I synthetase. The activated amino acid is transferred to the 2'-OH group of a methionine-accetping tRNA. The 2'-O-aminoacyl-tRNA will ultimately migrate to the 3' position via transesterification. | GO:0006431 | methionyl-tRNA aminoacylation                                                                                                                                                                                                                                                                                                   | \n",
       "\n",
       "\n"
      ],
      "text/plain": [
       "  gene       id         name                          type              \n",
       "1 CNAG_00003 GO:0055085 transmembrane transport       biological_process\n",
       "2 CNAG_00004 GO:0006351 transcription, DNA-templated  biological_process\n",
       "3 CNAG_00007 GO:0006431 methionyl-tRNA aminoacylation biological_process\n",
       "  desc                                                                                                                                                                                                                                                                                                                                        \n",
       "1 The process in which a solute is transported across a lipid bilayer, from one side of a membrane to the other.                                                                                                                                                                                                                              \n",
       "2 The cellular synthesis of RNA on a template of DNA.                                                                                                                                                                                                                                                                                         \n",
       "3 The process of coupling methionine to methionyl-tRNA, catalyzed by methionyl-tRNA synthetase. The methionyl-tRNA synthetase is a  class-I synthetase. The activated amino acid is transferred to the 2'-OH group of a methionine-accetping tRNA. The 2'-O-aminoacyl-tRNA will ultimately migrate to the 3' position via transesterification.\n",
       "  label                                     \n",
       "1 GO:0055085 | transmembrane transport      \n",
       "2 GO:0006351 | transcription, DNA-templated \n",
       "3 GO:0006431 | methionyl-tRNA aminoacylation"
      ]
     },
     "metadata": {},
     "output_type": "display_data"
    },
    {
     "data": {
      "text/html": [
       "<table>\n",
       "<thead><tr><th scope=col>gene</th><th scope=col>id</th><th scope=col>name</th><th scope=col>type</th><th scope=col>desc</th><th scope=col>label</th></tr></thead>\n",
       "<tbody>\n",
       "\t<tr><td>CNAG_00004                                                                                                                            </td><td>GO:0003677                                                                                                                            </td><td>DNA binding                                                                                                                           </td><td>molecular_function                                                                                                                    </td><td>Any molecular function by which a gene product interacts selectively and non-covalently with DNA (deoxyribonucleic acid).             </td><td>GO:0003677 | DNA binding                                                                                                              </td></tr>\n",
       "\t<tr><td>CNAG_00007                                                                                                                            </td><td>GO:0005524                                                                                                                            </td><td>ATP binding                                                                                                                           </td><td>molecular_function                                                                                                                    </td><td>Interacting selectively and non-covalently with ATP, adenosine 5'-triphosphate, a universally important coenzyme and enzyme regulator.</td><td>GO:0005524 | ATP binding                                                                                                              </td></tr>\n",
       "\t<tr><td>CNAG_00009                                                                                                                            </td><td>GO:0005509                                                                                                                            </td><td>calcium ion binding                                                                                                                   </td><td>molecular_function                                                                                                                    </td><td>Interacting selectively and non-covalently with calcium ions (Ca2+).                                                                  </td><td>GO:0005509 | calcium ion binding                                                                                                      </td></tr>\n",
       "</tbody>\n",
       "</table>\n"
      ],
      "text/latex": [
       "\\begin{tabular}{r|llllll}\n",
       " gene & id & name & type & desc & label\\\\\n",
       "\\hline\n",
       "\t CNAG\\_00004                                                                                                                           & GO:0003677                                                                                                                             & DNA binding                                                                                                                            & molecular\\_function                                                                                                                   & Any molecular function by which a gene product interacts selectively and non-covalently with DNA (deoxyribonucleic acid).              & GO:0003677 \\textbar{} DNA binding                                                                                                    \\\\\n",
       "\t CNAG\\_00007                                                                                                                           & GO:0005524                                                                                                                             & ATP binding                                                                                                                            & molecular\\_function                                                                                                                   & Interacting selectively and non-covalently with ATP, adenosine 5'-triphosphate, a universally important coenzyme and enzyme regulator. & GO:0005524 \\textbar{} ATP binding                                                                                                    \\\\\n",
       "\t CNAG\\_00009                                                                                                                           & GO:0005509                                                                                                                             & calcium ion binding                                                                                                                    & molecular\\_function                                                                                                                   & Interacting selectively and non-covalently with calcium ions (Ca2+).                                                                   & GO:0005509 \\textbar{} calcium ion binding                                                                                            \\\\\n",
       "\\end{tabular}\n"
      ],
      "text/markdown": [
       "\n",
       "gene | id | name | type | desc | label | \n",
       "|---|---|---|\n",
       "| CNAG_00004                                                                                                                             | GO:0003677                                                                                                                             | DNA binding                                                                                                                            | molecular_function                                                                                                                     | Any molecular function by which a gene product interacts selectively and non-covalently with DNA (deoxyribonucleic acid).              | GO:0003677 | DNA binding                                                                                                               | \n",
       "| CNAG_00007                                                                                                                             | GO:0005524                                                                                                                             | ATP binding                                                                                                                            | molecular_function                                                                                                                     | Interacting selectively and non-covalently with ATP, adenosine 5'-triphosphate, a universally important coenzyme and enzyme regulator. | GO:0005524 | ATP binding                                                                                                               | \n",
       "| CNAG_00009                                                                                                                             | GO:0005509                                                                                                                             | calcium ion binding                                                                                                                    | molecular_function                                                                                                                     | Interacting selectively and non-covalently with calcium ions (Ca2+).                                                                   | GO:0005509 | calcium ion binding                                                                                                       | \n",
       "\n",
       "\n"
      ],
      "text/plain": [
       "  gene       id         name                type              \n",
       "1 CNAG_00004 GO:0003677 DNA binding         molecular_function\n",
       "2 CNAG_00007 GO:0005524 ATP binding         molecular_function\n",
       "3 CNAG_00009 GO:0005509 calcium ion binding molecular_function\n",
       "  desc                                                                                                                                  \n",
       "1 Any molecular function by which a gene product interacts selectively and non-covalently with DNA (deoxyribonucleic acid).             \n",
       "2 Interacting selectively and non-covalently with ATP, adenosine 5'-triphosphate, a universally important coenzyme and enzyme regulator.\n",
       "3 Interacting selectively and non-covalently with calcium ions (Ca2+).                                                                  \n",
       "  label                           \n",
       "1 GO:0003677 | DNA binding        \n",
       "2 GO:0005524 | ATP binding        \n",
       "3 GO:0005509 | calcium ion binding"
      ]
     },
     "metadata": {},
     "output_type": "display_data"
    },
    {
     "data": {
      "text/html": [
       "<table>\n",
       "<thead><tr><th scope=col>gene</th><th scope=col>id</th><th scope=col>name</th><th scope=col>type</th><th scope=col>desc</th><th scope=col>label</th></tr></thead>\n",
       "<tbody>\n",
       "\t<tr><td>CNAG_00003                                                                                                                                                                                                                                                                                                                                            </td><td>GO:0016021                                                                                                                                                                                                                                                                                                                                            </td><td>integral component of membrane                                                                                                                                                                                                                                                                                                                        </td><td>cellular_component                                                                                                                                                                                                                                                                                                                                    </td><td>The component of a membrane consisting of the gene products and protein complexes having at least some part of their peptide sequence embedded in the hydrophobic region of the membrane.                                                                                                                                                             </td><td>GO:0016021 | integral component of membrane                                                                                                                                                                                                                                                                                                           </td></tr>\n",
       "\t<tr><td>CNAG_00004                                                                                                                                                                                                                                                                                                                                            </td><td>GO:0005634                                                                                                                                                                                                                                                                                                                                            </td><td>nucleus                                                                                                                                                                                                                                                                                                                                               </td><td>cellular_component                                                                                                                                                                                                                                                                                                                                    </td><td>A membrane-bounded organelle of eukaryotic cells in which chromosomes are housed and replicated. In most cells, the nucleus contains all of the cell's chromosomes except the organellar chromosomes, and is the site of RNA synthesis and processing. In some species, or in specialized cell types, RNA metabolism or DNA replication may be absent.</td><td>GO:0005634 | nucleus                                                                                                                                                                                                                                                                                                                                  </td></tr>\n",
       "\t<tr><td>CNAG_00007                                                                                                                                                                                                                                                                                                                                            </td><td>GO:0005737                                                                                                                                                                                                                                                                                                                                            </td><td>cytoplasm                                                                                                                                                                                                                                                                                                                                             </td><td>cellular_component                                                                                                                                                                                                                                                                                                                                    </td><td>All of the contents of a cell excluding the plasma membrane and nucleus, but including other subcellular structures.                                                                                                                                                                                                                                  </td><td>GO:0005737 | cytoplasm                                                                                                                                                                                                                                                                                                                                </td></tr>\n",
       "</tbody>\n",
       "</table>\n"
      ],
      "text/latex": [
       "\\begin{tabular}{r|llllll}\n",
       " gene & id & name & type & desc & label\\\\\n",
       "\\hline\n",
       "\t CNAG\\_00003                                                                                                                                                                                                                                                                                                                                           & GO:0016021                                                                                                                                                                                                                                                                                                                                             & integral component of membrane                                                                                                                                                                                                                                                                                                                         & cellular\\_component                                                                                                                                                                                                                                                                                                                                   & The component of a membrane consisting of the gene products and protein complexes having at least some part of their peptide sequence embedded in the hydrophobic region of the membrane.                                                                                                                                                              & GO:0016021 \\textbar{} integral component of membrane                                                                                                                                                                                                                                                                                                 \\\\\n",
       "\t CNAG\\_00004                                                                                                                                                                                                                                                                                                                                           & GO:0005634                                                                                                                                                                                                                                                                                                                                             & nucleus                                                                                                                                                                                                                                                                                                                                                & cellular\\_component                                                                                                                                                                                                                                                                                                                                   & A membrane-bounded organelle of eukaryotic cells in which chromosomes are housed and replicated. In most cells, the nucleus contains all of the cell's chromosomes except the organellar chromosomes, and is the site of RNA synthesis and processing. In some species, or in specialized cell types, RNA metabolism or DNA replication may be absent. & GO:0005634 \\textbar{} nucleus                                                                                                                                                                                                                                                                                                                        \\\\\n",
       "\t CNAG\\_00007                                                                                                                                                                                                                                                                                                                                           & GO:0005737                                                                                                                                                                                                                                                                                                                                             & cytoplasm                                                                                                                                                                                                                                                                                                                                              & cellular\\_component                                                                                                                                                                                                                                                                                                                                   & All of the contents of a cell excluding the plasma membrane and nucleus, but including other subcellular structures.                                                                                                                                                                                                                                   & GO:0005737 \\textbar{} cytoplasm                                                                                                                                                                                                                                                                                                                      \\\\\n",
       "\\end{tabular}\n"
      ],
      "text/markdown": [
       "\n",
       "gene | id | name | type | desc | label | \n",
       "|---|---|---|\n",
       "| CNAG_00003                                                                                                                                                                                                                                                                                                                                             | GO:0016021                                                                                                                                                                                                                                                                                                                                             | integral component of membrane                                                                                                                                                                                                                                                                                                                         | cellular_component                                                                                                                                                                                                                                                                                                                                     | The component of a membrane consisting of the gene products and protein complexes having at least some part of their peptide sequence embedded in the hydrophobic region of the membrane.                                                                                                                                                              | GO:0016021 | integral component of membrane                                                                                                                                                                                                                                                                                                            | \n",
       "| CNAG_00004                                                                                                                                                                                                                                                                                                                                             | GO:0005634                                                                                                                                                                                                                                                                                                                                             | nucleus                                                                                                                                                                                                                                                                                                                                                | cellular_component                                                                                                                                                                                                                                                                                                                                     | A membrane-bounded organelle of eukaryotic cells in which chromosomes are housed and replicated. In most cells, the nucleus contains all of the cell's chromosomes except the organellar chromosomes, and is the site of RNA synthesis and processing. In some species, or in specialized cell types, RNA metabolism or DNA replication may be absent. | GO:0005634 | nucleus                                                                                                                                                                                                                                                                                                                                   | \n",
       "| CNAG_00007                                                                                                                                                                                                                                                                                                                                             | GO:0005737                                                                                                                                                                                                                                                                                                                                             | cytoplasm                                                                                                                                                                                                                                                                                                                                              | cellular_component                                                                                                                                                                                                                                                                                                                                     | All of the contents of a cell excluding the plasma membrane and nucleus, but including other subcellular structures.                                                                                                                                                                                                                                   | GO:0005737 | cytoplasm                                                                                                                                                                                                                                                                                                                                 | \n",
       "\n",
       "\n"
      ],
      "text/plain": [
       "  gene       id         name                           type              \n",
       "1 CNAG_00003 GO:0016021 integral component of membrane cellular_component\n",
       "2 CNAG_00004 GO:0005634 nucleus                        cellular_component\n",
       "3 CNAG_00007 GO:0005737 cytoplasm                      cellular_component\n",
       "  desc                                                                                                                                                                                                                                                                                                                                                  \n",
       "1 The component of a membrane consisting of the gene products and protein complexes having at least some part of their peptide sequence embedded in the hydrophobic region of the membrane.                                                                                                                                                             \n",
       "2 A membrane-bounded organelle of eukaryotic cells in which chromosomes are housed and replicated. In most cells, the nucleus contains all of the cell's chromosomes except the organellar chromosomes, and is the site of RNA synthesis and processing. In some species, or in specialized cell types, RNA metabolism or DNA replication may be absent.\n",
       "3 All of the contents of a cell excluding the plasma membrane and nucleus, but including other subcellular structures.                                                                                                                                                                                                                                  \n",
       "  label                                      \n",
       "1 GO:0016021 | integral component of membrane\n",
       "2 GO:0005634 | nucleus                       \n",
       "3 GO:0005737 | cytoplasm                     "
      ]
     },
     "metadata": {},
     "output_type": "display_data"
    }
   ],
   "source": [
    "dat <- dat_go_bp\n",
    "dat_info <- dat_go_info_bp\n",
    "dat <- dat %>% \n",
    "    rename(id = go_bp_comp_id) %>%\n",
    "    filter(id != 'N/A') %>% \n",
    "    select(gene, id) %>%\n",
    "    separate_rows(id, sep = \",\") %>% \n",
    "    left_join(dat_info, by = \"id\") %>% \n",
    "    mutate(label = paste(id, name, sep = \" | \")) %>%\n",
    "    na.omit\n",
    "dat_go_bp_annot <- dat\n",
    "\n",
    "dat <- dat_go_fc\n",
    "dat_info <- dat_go_info_fc\n",
    "dat <- dat %>%\n",
    "    rename(id = go_fc_comp_id) %>%\n",
    "    filter(id != 'N/A') %>% \n",
    "    select(gene, id) %>%\n",
    "    separate_rows(id, sep = \",\") %>% \n",
    "    left_join(dat_info, by = \"id\") %>% \n",
    "    mutate(label = paste(id, name, sep = \" | \")) %>%\n",
    "    na.omit\n",
    "dat_go_fc_annot <- dat\n",
    "\n",
    "dat <- dat_go_cc\n",
    "dat_info <- dat_go_info_cc\n",
    "dat <- dat %>%\n",
    "    rename(id = go_cc_comp_id) %>%\n",
    "    filter(id != 'N/A') %>% \n",
    "    select(gene, id) %>%\n",
    "    separate_rows(id, sep = \",\") %>% \n",
    "    left_join(dat_info, by = \"id\") %>% \n",
    "    mutate(label = paste(id, name, sep = \" | \")) %>%\n",
    "    na.omit\n",
    "dat_go_cc_annot <- dat\n",
    "\n",
    "head(dat_go_bp_annot, 3)\n",
    "head(dat_go_fc_annot, 3)\n",
    "head(dat_go_cc_annot, 3)"
   ]
  },
  {
   "cell_type": "code",
   "execution_count": 7,
   "metadata": {},
   "outputs": [
    {
     "data": {
      "text/html": [
       "<dl>\n",
       "\t<dt>$`GO:0000002 | mitochondrial genome maintenance`</dt>\n",
       "\t\t<dd>'CNAG_04267'</dd>\n",
       "\t<dt>$`GO:0000045 | autophagosome assembly`</dt>\n",
       "\t\t<dd>'CNAG_07645'</dd>\n",
       "</dl>\n"
      ],
      "text/latex": [
       "\\begin{description}\n",
       "\\item[\\$`GO:0000002 \\textbar{} mitochondrial genome maintenance`] 'CNAG\\_04267'\n",
       "\\item[\\$`GO:0000045 \\textbar{} autophagosome assembly`] 'CNAG\\_07645'\n",
       "\\end{description}\n"
      ],
      "text/markdown": [
       "$`GO:0000002 | mitochondrial genome maintenance`\n",
       ":   'CNAG_04267'\n",
       "$`GO:0000045 | autophagosome assembly`\n",
       ":   'CNAG_07645'\n",
       "\n",
       "\n"
      ],
      "text/plain": [
       "$`GO:0000002 | mitochondrial genome maintenance`\n",
       "[1] \"CNAG_04267\"\n",
       "\n",
       "$`GO:0000045 | autophagosome assembly`\n",
       "[1] \"CNAG_07645\"\n"
      ]
     },
     "metadata": {},
     "output_type": "display_data"
    },
    {
     "data": {
      "text/html": [
       "<dl>\n",
       "\t<dt>$`GO:0000030 | mannosyltransferase activity`</dt>\n",
       "\t\t<dd><ol class=list-inline>\n",
       "\t<li>'CNAG_00996'</li>\n",
       "\t<li>'CNAG_03832'</li>\n",
       "\t<li>'CNAG_04763'</li>\n",
       "\t<li>'CNAG_06834'</li>\n",
       "</ol>\n",
       "</dd>\n",
       "\t<dt>$`GO:0000049 | tRNA binding`</dt>\n",
       "\t\t<dd><ol class=list-inline>\n",
       "\t<li>'CNAG_02122'</li>\n",
       "\t<li>'CNAG_03005'</li>\n",
       "\t<li>'CNAG_05827'</li>\n",
       "</ol>\n",
       "</dd>\n",
       "</dl>\n"
      ],
      "text/latex": [
       "\\begin{description}\n",
       "\\item[\\$`GO:0000030 \\textbar{} mannosyltransferase activity`] \\begin{enumerate*}\n",
       "\\item 'CNAG\\_00996'\n",
       "\\item 'CNAG\\_03832'\n",
       "\\item 'CNAG\\_04763'\n",
       "\\item 'CNAG\\_06834'\n",
       "\\end{enumerate*}\n",
       "\n",
       "\\item[\\$`GO:0000049 \\textbar{} tRNA binding`] \\begin{enumerate*}\n",
       "\\item 'CNAG\\_02122'\n",
       "\\item 'CNAG\\_03005'\n",
       "\\item 'CNAG\\_05827'\n",
       "\\end{enumerate*}\n",
       "\n",
       "\\end{description}\n"
      ],
      "text/markdown": [
       "$`GO:0000030 | mannosyltransferase activity`\n",
       ":   1. 'CNAG_00996'\n",
       "2. 'CNAG_03832'\n",
       "3. 'CNAG_04763'\n",
       "4. 'CNAG_06834'\n",
       "\n",
       "\n",
       "\n",
       "$`GO:0000049 | tRNA binding`\n",
       ":   1. 'CNAG_02122'\n",
       "2. 'CNAG_03005'\n",
       "3. 'CNAG_05827'\n",
       "\n",
       "\n",
       "\n",
       "\n",
       "\n"
      ],
      "text/plain": [
       "$`GO:0000030 | mannosyltransferase activity`\n",
       "[1] \"CNAG_00996\" \"CNAG_03832\" \"CNAG_04763\" \"CNAG_06834\"\n",
       "\n",
       "$`GO:0000049 | tRNA binding`\n",
       "[1] \"CNAG_02122\" \"CNAG_03005\" \"CNAG_05827\"\n"
      ]
     },
     "metadata": {},
     "output_type": "display_data"
    },
    {
     "data": {
      "text/html": [
       "<dl>\n",
       "\t<dt>$`GO:0000015 | phosphopyruvate hydratase complex`</dt>\n",
       "\t\t<dd><ol class=list-inline>\n",
       "\t<li>'CNAG_03072'</li>\n",
       "\t<li>'CNAG_06868'</li>\n",
       "</ol>\n",
       "</dd>\n",
       "\t<dt>$`GO:0000124 | SAGA complex`</dt>\n",
       "\t\t<dd><ol class=list-inline>\n",
       "\t<li>'CNAG_01396'</li>\n",
       "\t<li>'CNAG_04512'</li>\n",
       "</ol>\n",
       "</dd>\n",
       "</dl>\n"
      ],
      "text/latex": [
       "\\begin{description}\n",
       "\\item[\\$`GO:0000015 \\textbar{} phosphopyruvate hydratase complex`] \\begin{enumerate*}\n",
       "\\item 'CNAG\\_03072'\n",
       "\\item 'CNAG\\_06868'\n",
       "\\end{enumerate*}\n",
       "\n",
       "\\item[\\$`GO:0000124 \\textbar{} SAGA complex`] \\begin{enumerate*}\n",
       "\\item 'CNAG\\_01396'\n",
       "\\item 'CNAG\\_04512'\n",
       "\\end{enumerate*}\n",
       "\n",
       "\\end{description}\n"
      ],
      "text/markdown": [
       "$`GO:0000015 | phosphopyruvate hydratase complex`\n",
       ":   1. 'CNAG_03072'\n",
       "2. 'CNAG_06868'\n",
       "\n",
       "\n",
       "\n",
       "$`GO:0000124 | SAGA complex`\n",
       ":   1. 'CNAG_01396'\n",
       "2. 'CNAG_04512'\n",
       "\n",
       "\n",
       "\n",
       "\n",
       "\n"
      ],
      "text/plain": [
       "$`GO:0000015 | phosphopyruvate hydratase complex`\n",
       "[1] \"CNAG_03072\" \"CNAG_06868\"\n",
       "\n",
       "$`GO:0000124 | SAGA complex`\n",
       "[1] \"CNAG_01396\" \"CNAG_04512\"\n"
      ]
     },
     "metadata": {},
     "output_type": "display_data"
    }
   ],
   "source": [
    "dat <- dat_go_bp_annot\n",
    "gset_go_bp <- split(dat$gene, dat$label)\n",
    "\n",
    "dat <- dat_go_fc_annot\n",
    "gset_go_fc <- split(dat$gene, dat$label)\n",
    "\n",
    "dat <- dat_go_cc_annot\n",
    "gset_go_cc <- split(dat$gene, dat$label)\n",
    "\n",
    "\n",
    "head(gset_go_bp, 2)\n",
    "head(gset_go_fc, 2)\n",
    "head(gset_go_cc, 2)"
   ]
  },
  {
   "cell_type": "code",
   "execution_count": 8,
   "metadata": {},
   "outputs": [
    {
     "data": {
      "text/html": [
       "<strong>/shared_space/TA_clint/analysis_output/out/HTS-GO-Info.RData:</strong> 'ab425c3f0909746bea5b0d229dff9ff7'"
      ],
      "text/latex": [
       "\\textbf{/shared\\textbackslash{}\\_space/TA\\textbackslash{}\\_clint/analysis\\textbackslash{}\\_output/out/HTS-GO-Info.RData:} 'ab425c3f0909746bea5b0d229dff9ff7'"
      ],
      "text/markdown": [
       "**/shared_space/TA_clint/analysis_output/out/HTS-GO-Info.RData:** 'ab425c3f0909746bea5b0d229dff9ff7'"
      ],
      "text/plain": [
       "/shared_space/TA_clint/analysis_output/out/HTS-GO-Info.RData \n",
       "                          \"ab425c3f0909746bea5b0d229dff9ff7\" "
      ]
     },
     "metadata": {},
     "output_type": "display_data"
    }
   ],
   "source": [
    "outfile <- file.path(OUTDIR, \"HTS-GO-Info.RData\")\n",
    "\n",
    "save(\n",
    "    dat_go_cne_h99,\n",
    "    \n",
    "    dat_go_info_bp,\n",
    "    dat_go_info_fc,\n",
    "    dat_go_info_cc,\n",
    "    \n",
    "    dat_go_bp_annot,\n",
    "    dat_go_fc_annot, \n",
    "    dat_go_cc_annot, \n",
    "    \n",
    "    gset_go_bp,\n",
    "    gset_go_fc,\n",
    "    gset_go_cc,\n",
    "    \n",
    "    file = outfile)\n",
    "\n",
    "tools::md5sum(outfile)"
   ]
  }
 ],
 "metadata": {
  "kernelspec": {
   "display_name": "R",
   "language": "R",
   "name": "ir"
  },
  "language_info": {
   "codemirror_mode": "r",
   "file_extension": ".r",
   "mimetype": "text/x-r-source",
   "name": "R",
   "pygments_lexer": "r",
   "version": "3.4.1"
  }
 },
 "nbformat": 4,
 "nbformat_minor": 2
}
