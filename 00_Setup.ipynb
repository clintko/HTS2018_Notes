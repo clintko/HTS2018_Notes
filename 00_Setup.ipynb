{
 "cells": [
  {
   "cell_type": "markdown",
   "metadata": {},
   "source": [
    "# set environment"
   ]
  },
  {
   "cell_type": "code",
   "execution_count": 27,
   "metadata": {},
   "outputs": [],
   "source": [
    "source config_star.sh"
   ]
  },
  {
   "cell_type": "markdown",
   "metadata": {},
   "source": [
    "```\n",
    "export SHARED_SPACE=\"/shared_space\"\n",
    "export CUROUT=\"${SHARED_SPACE}/TA_clint\"\n",
    "export TRIMMED=$CUROUT/trimmed_fastqs\n",
    "export MYINFO=$CUROUT/myinfo\n",
    "export GENOME_DIR=$CUROUT/genome\n",
    "export STAR_OUT=$CUROUT/star_out\n",
    "export FASTA=${GENOME_DIR}/Cryptococcus_neoformans_var_grubii_h99.CNA3.dna.toplevel.fa\n",
    "export GTF=${GENOME_DIR}/Cryptococcus_neoformans_var_grubii_h99.CNA3.39.gtf\n",
    "export COUNT_OUT=$CUROUT/count_out\n",
    "export QC=$CUROUT/qc_output\n",
    "export IGV_DIR=\"$CUROUT/igv\"\n",
    "export ADAPTERS=$MYINFO/neb_e7600_adapters.fasta\n",
    "```"
   ]
  },
  {
   "cell_type": "markdown",
   "metadata": {},
   "source": [
    "Recursive listing the shared space"
   ]
  },
  {
   "cell_type": "code",
   "execution_count": 16,
   "metadata": {},
   "outputs": [
    {
     "name": "stdout",
     "output_type": "stream",
     "text": [
      "/shared_space:\n",
      "\u001b[0m\u001b[01;34mgroup_d\u001b[0m  \u001b[01;34mgroup_F\u001b[0m  \u001b[01;34mgroup_z\u001b[0m\n",
      "\n",
      "/shared_space/group_d:\n",
      "\n",
      "/shared_space/group_F:\n",
      "\n",
      "/shared_space/group_z:\n"
     ]
    }
   ],
   "source": [
    "ls -R $SHARED_SPACE"
   ]
  },
  {
   "cell_type": "code",
   "execution_count": 26,
   "metadata": {},
   "outputs": [
    {
     "name": "stdout",
     "output_type": "stream",
     "text": [
      "drwxrwxr-x 6 jovyan 1000 4096 Aug  4 21:26 \u001b[0m\u001b[01;34m/shared_space\u001b[0m\n"
     ]
    }
   ],
   "source": [
    "ls -ltrd $SHARED_SPACE"
   ]
  },
  {
   "cell_type": "markdown",
   "metadata": {},
   "source": [
    "# set directories"
   ]
  },
  {
   "cell_type": "code",
   "execution_count": 15,
   "metadata": {},
   "outputs": [
    {
     "name": "stdout",
     "output_type": "stream",
     "text": [
      "/shared_space/TA_clint\n"
     ]
    }
   ],
   "source": [
    "echo $CUROUT"
   ]
  },
  {
   "cell_type": "code",
   "execution_count": 17,
   "metadata": {},
   "outputs": [],
   "source": [
    "mkdir -p ${CUROUT}     # output folder\n",
    "mkdir -p ${QC}         # fastqc\n",
    "mkdir -p ${TRIMMED}    # fastq-mcf\n",
    "mkdir -p ${MYINFO}     # adapter\n",
    "mkdir -p ${GENOME_DIR} # STAR indexing genome\n",
    "mkdir -p ${STAR_OUT}   # STAR mapping\n",
    "mkdir -p ${COUNT_OUT}"
   ]
  },
  {
   "cell_type": "markdown",
   "metadata": {},
   "source": [
    "# Adapter"
   ]
  },
  {
   "cell_type": "code",
   "execution_count": 18,
   "metadata": {},
   "outputs": [
    {
     "name": "stdout",
     "output_type": "stream",
     "text": [
      "/shared_space/TA_clint/myinfo\n"
     ]
    }
   ],
   "source": [
    "echo $MYINFO"
   ]
  },
  {
   "cell_type": "code",
   "execution_count": 19,
   "metadata": {},
   "outputs": [],
   "source": [
    "echo \">Adapter\"                            > $MYINFO/neb_e7600_adapters.fasta\n",
    "echo \"AGATCGGAAGAGCACACGTCTGAACTCCAGTCA\"  >> $MYINFO/neb_e7600_adapters.fasta\n",
    "echo \">AdapterRead2\"                      >> $MYINFO/neb_e7600_adapters.fasta\n",
    "echo \"AGATCGGAAGAGCGTCGTGTAGGGAAAGAGTGT\"  >> $MYINFO/neb_e7600_adapters.fasta\n",
    "echo \">Adapter_rc\"                        >> $MYINFO/neb_e7600_adapters.fasta\n",
    "echo \"TGACTGGAGTTCAGACGTGTGCTCTTCCGATCT\"  >> $MYINFO/neb_e7600_adapters.fasta\n",
    "echo \">AdapterRead2_rc\"                   >> $MYINFO/neb_e7600_adapters.fasta\n",
    "echo \"ACACTCTTTCCCTACACGACGCTCTTCCGATCT\"  >> $MYINFO/neb_e7600_adapters.fasta"
   ]
  },
  {
   "cell_type": "code",
   "execution_count": 20,
   "metadata": {},
   "outputs": [
    {
     "name": "stdout",
     "output_type": "stream",
     "text": [
      "neb_e7600_adapters.fasta\n"
     ]
    }
   ],
   "source": [
    "ls $MYINFO"
   ]
  },
  {
   "cell_type": "code",
   "execution_count": 22,
   "metadata": {},
   "outputs": [
    {
     "name": "stdout",
     "output_type": "stream",
     "text": [
      ">Adapter\n",
      "AGATCGGAAGAGCACACGTCTGAACTCCAGTCA\n",
      ">AdapterRead2\n",
      "AGATCGGAAGAGCGTCGTGTAGGGAAAGAGTGT\n",
      ">Adapter_rc\n",
      "TGACTGGAGTTCAGACGTGTGCTCTTCCGATCT\n",
      ">AdapterRead2_rc\n",
      "ACACTCTTTCCCTACACGACGCTCTTCCGATCT\n"
     ]
    }
   ],
   "source": [
    "cat $ADAPTERS"
   ]
  },
  {
   "cell_type": "markdown",
   "metadata": {},
   "source": [
    "# genome files (FASTA and GTF file)"
   ]
  },
  {
   "cell_type": "code",
   "execution_count": 24,
   "metadata": {},
   "outputs": [
    {
     "name": "stdout",
     "output_type": "stream",
     "text": [
      "/shared_space/TA_clint/genome\n"
     ]
    }
   ],
   "source": [
    "echo ${GENOME_DIR}"
   ]
  },
  {
   "cell_type": "code",
   "execution_count": 23,
   "metadata": {},
   "outputs": [
    {
     "name": "stdout",
     "output_type": "stream",
     "text": [
      "2018-08-04 21:32:51 URL: ftp://ftp.ensemblgenomes.org/pub/release-39/fungi/gtf/fungi_basidiomycota1_collection/cryptococcus_neoformans_var_grubii_h99/Cryptococcus_neoformans_var_grubii_h99.CNA3.39.gtf.gz [1796344] -> \"/shared_space/TA_clint/genome/Cryptococcus_neoformans_var_grubii_h99.CNA3.39.gtf.gz\" [1]\n",
      "2018-08-04 21:32:53 URL: ftp://ftp.ensemblgenomes.org/pub/release-39/fungi/fasta/fungi_basidiomycota1_collection/cryptococcus_neoformans_var_grubii_h99/dna/Cryptococcus_neoformans_var_grubii_h99.CNA3.dna.toplevel.fa.gz [5922212] -> \"/shared_space/TA_clint/genome/Cryptococcus_neoformans_var_grubii_h99.CNA3.dna.toplevel.fa.gz\" [1]\n"
     ]
    }
   ],
   "source": [
    "### Download\n",
    "wget --no-verbose --directory-prefix ${GENOME_DIR} \"ftp://ftp.ensemblgenomes.org/pub/release-39/fungi/gtf/fungi_basidiomycota1_collection/cryptococcus_neoformans_var_grubii_h99/Cryptococcus_neoformans_var_grubii_h99.CNA3.39.gtf.gz\"\n",
    "wget --no-verbose --directory-prefix ${GENOME_DIR} \"ftp://ftp.ensemblgenomes.org/pub/release-39/fungi/fasta/fungi_basidiomycota1_collection/cryptococcus_neoformans_var_grubii_h99/dna/Cryptococcus_neoformans_var_grubii_h99.CNA3.dna.toplevel.fa.gz\"\n",
    "\n",
    "### unzip the files\n",
    "gunzip ${GENOME_DIR}/Cryptococcus_neoformans_var_grubii_h99.CNA3.39.gtf.gz\n",
    "gunzip ${GENOME_DIR}/Cryptococcus_neoformans_var_grubii_h99.CNA3.dna.toplevel.fa.gz "
   ]
  },
  {
   "cell_type": "code",
   "execution_count": 25,
   "metadata": {},
   "outputs": [
    {
     "name": "stdout",
     "output_type": "stream",
     "text": [
      "/shared_space/TA_clint/genome/Cryptococcus_neoformans_var_grubii_h99.CNA3.39.gtf\n",
      "/shared_space/TA_clint/genome/Cryptococcus_neoformans_var_grubii_h99.CNA3.dna.toplevel.fa\n"
     ]
    }
   ],
   "source": [
    "ls ${GENOME_DIR}/Cryptococcus*"
   ]
  },
  {
   "cell_type": "markdown",
   "metadata": {},
   "source": [
    "# Directory for Download"
   ]
  },
  {
   "cell_type": "code",
   "execution_count": 28,
   "metadata": {},
   "outputs": [
    {
     "name": "stdout",
     "output_type": "stream",
     "text": [
      "/home/jovyan/work/scratch/TA_clint/igv\n"
     ]
    }
   ],
   "source": [
    "echo $IGV_DIR"
   ]
  },
  {
   "cell_type": "code",
   "execution_count": 31,
   "metadata": {},
   "outputs": [],
   "source": [
    "mkdir -p $IGV_DIR"
   ]
  },
  {
   "cell_type": "markdown",
   "metadata": {},
   "source": [
    "# Arrange scripts"
   ]
  },
  {
   "cell_type": "markdown",
   "metadata": {},
   "source": [
    "Notebooks in   \n",
    "/home/jovyan/work/HTS2018-notebooks/bioinformatics/fastqc.ipynb"
   ]
  },
  {
   "cell_type": "markdown",
   "metadata": {},
   "source": [
    "## [Configuration](../HTS2018-notebooks/bioinformatics/bioinf_intro_config.sh)\n",
    "\n",
    "```\n",
    "set -u\n",
    "\n",
    "# Input\n",
    "export DATA_BASE=\"/data/hts2018_pilot\"\n",
    "export RAW_FASTQS=\"$DATA_BASE/Granek_4837_180427A5\"\n",
    "\n",
    "# Output\n",
    "export CUROUT=$HOME/work/scratch/bioinf_intro\n",
    "export TRIMMED=$CUROUT/trimmed_fastqs\n",
    "export MYINFO=$CUROUT/myinfo\n",
    "export GENOME_DIR=$CUROUT/genome\n",
    "export STAR_OUT=$CUROUT/star_out\n",
    "export FASTA=${GENOME_DIR}/Cryptococcus_neoformans_var_grubii_h99.CNA3.dna.toplevel.fa\n",
    "export GTF=${GENOME_DIR}/Cryptococcus_neoformans_var_grubii_h99.CNA3.39.gtf\n",
    "export COUNT_OUT=$CUROUT/count_out\n",
    "export QC=$CUROUT/qc_output\n",
    "export IGV_DIR=\"$CUROUT/igv\"\n",
    "export ADAPTERS=$MYINFO/neb_e7600_adapters.fasta\n",
    "```"
   ]
  },
  {
   "cell_type": "markdown",
   "metadata": {},
   "source": [
    "## [Quality Control: fastqc](../HTS2018-notebooks/bioinformatics/fastqc.ipynb)\n",
    "```\n",
    "fastqc --extract $RAW_FASTQS/27_MA_P_S38_L002_R1_001.fastq.gz -o $QC\n",
    "```"
   ]
  },
  {
   "cell_type": "markdown",
   "metadata": {},
   "source": [
    "## [Trimming and Filtering](../HTS2018-notebooks/bioinformatics/fastq_trimming.ipynb)\n",
    "\n",
    "**Adapter**\n",
    "```\n",
    ">Adapter\n",
    "AGATCGGAAGAGCACACGTCTGAACTCCAGTCA\n",
    ">AdapterRead2\n",
    "AGATCGGAAGAGCGTCGTGTAGGGAAAGAGTGT\n",
    ">Adapter_rc\n",
    "TGACTGGAGTTCAGACGTGTGCTCTTCCGATCT\n",
    ">AdapterRead2_rc\n",
    "ACACTCTTTCCCTACACGACGCTCTTCCGATCT\n",
    "```\n",
    "**fastq-mcf**\n",
    "```\n",
    "fastq-mcf $MYINFO/neb_e7600_adapters.fasta \\\n",
    "    $RAW_FASTQS/27_MA_P_S38_L002_R1_001.fastq.gz \\\n",
    "    -q 20 -x 0.5 \\\n",
    "    -o $TRIMMED/27_MA_P_S38_L002_R1_001.trim.fastq.gz\n",
    "```"
   ]
  },
  {
   "cell_type": "markdown",
   "metadata": {},
   "source": [
    "## [Download and Index Genome](../HTS2018-notebooks/bioinformatics/genome_prep.ipynb)\n",
    "\n",
    "**Download genome**\n",
    "```\n",
    "wget --no-verbose --directory-prefix ${GENOME_DIR} \"ftp://ftp.ensemblgenomes.org/pub/release-39/fungi/gtf/fungi_basidiomycota1_collection/cryptococcus_neoformans_var_grubii_h99/Cryptococcus_neoformans_var_grubii_h99.CNA3.39.gtf.gz\"\n",
    "\n",
    "wget --no-verbose --directory-prefix ${GENOME_DIR} \"ftp://ftp.ensemblgenomes.org/pub/release-39/fungi/fasta/fungi_basidiomycota1_collection/cryptococcus_neoformans_var_grubii_h99/dna/Cryptococcus_neoformans_var_grubii_h99.CNA3.dna.toplevel.fa.gz\"\n",
    "```\n",
    "\n",
    "**unzip genome**\n",
    "```\n",
    "gunzip ${GENOME_DIR}/Cryptococcus_neoformans_var_grubii_h99.CNA3.39.gtf.gz\n",
    "\n",
    "gunzip ${GENOME_DIR}/Cryptococcus_neoformans_var_grubii_h99.CNA3.dna.toplevel.fa.gz\n",
    "```\n",
    "\n",
    "**assign genome directories**\n",
    "```\n",
    "FASTA=${GENOME_DIR}/Cryptococcus_neoformans_var_grubii_h99.CNA3.dna.toplevel.fa\n",
    "GTF=${GENOME_DIR}/Cryptococcus_neoformans_var_grubii_h99.CNA3.39.gtf\n",
    "```\n",
    "\n",
    "**STAR index genome**\n",
    "```\n",
    "STAR \\\n",
    "    --runMode genomeGenerate \\\n",
    "    --genomeDir $GENOME_DIR \\\n",
    "    --genomeFastaFiles ${FASTA} \\\n",
    "    --sjdbGTFfile ${GTF} \\\n",
    "    --outFileNamePrefix ${STAR_OUT}/genome_ \\\n",
    "    --genomeSAindexNbases 11\n",
    "```"
   ]
  },
  {
   "cell_type": "markdown",
   "metadata": {},
   "source": [
    "## [mapping](../HTS2018-notebooks/bioinformatics/mapping.ipynb)\n",
    "\n",
    "**Mapping Reads to a Reference Genome**\n",
    "```\n",
    "STAR \\\n",
    "    --runMode alignReads \\\n",
    "    --twopassMode None \\\n",
    "    --genomeDir $GENOME_DIR \\\n",
    "    --readFilesIn $TRIMMED/27_MA_P_S38_L002_R1_001.trim.fastq.gz \\\n",
    "    --readFilesCommand gunzip -c \\\n",
    "    --outFileNamePrefix ${STAR_OUT}/27_MA_P_S38_L002_R1_ \\\n",
    "    --quantMode GeneCounts \\\n",
    "    --outSAMtype BAM Unsorted \\\n",
    "    --outSAMunmapped Within\n",
    "```"
   ]
  },
  {
   "cell_type": "markdown",
   "metadata": {},
   "source": [
    "## [counting](../HTS2018-notebooks/bioinformatics/counting.ipynb)\n",
    "```\n",
    "htseq-count --quiet \\\n",
    "    --format=bam \\\n",
    "    --stranded=reverse \\\n",
    "    ${STAR_OUT}/27_MA_P_S38_L002_R1_Aligned.out.bam \\\n",
    "    $GTF > ${COUNT_OUT}/27_MA_P_S38_L002_R1.tsv\n",
    "```"
   ]
  },
  {
   "cell_type": "markdown",
   "metadata": {},
   "source": [
    "## [making_generic_commands](../HTS2018-notebooks/bioinformatics/making_generic_commands.ipynb)\n",
    "```\n",
    "FASTQ=\"27_MA_P_S38_L002_R1\"\n",
    "echo \"TRIMING: $FASTQ\"\n",
    "fastq-mcf $MYINFO/neb_e7600_adapters.fasta \\\n",
    "    $RAW_FASTQS/${FASTQ}_001.fastq.gz \\\n",
    "        -q 20 -x 0.5 \\\n",
    "        -o $TRIMMED/${FASTQ}_001.trim.fastq.gz\n",
    "\n",
    "FASTQ=\"27_MA_P_S38_L002_R1\"\n",
    "echo \"MAPPING: $FASTQ\"\n",
    "STAR \\\n",
    "    --runMode alignReads \\\n",
    "    --twopassMode None \\\n",
    "    --genomeDir $GENOME_DIR \\\n",
    "    --readFilesIn $TRIMMED/${FASTQ}_001.trim.fastq.gz \\\n",
    "    --readFilesCommand gunzip -c \\\n",
    "    --outFileNamePrefix ${STAR_OUT}/${FASTQ}_ \\\n",
    "    --quantMode GeneCounts \\\n",
    "    --outSAMtype None\n",
    "```"
   ]
  },
  {
   "cell_type": "markdown",
   "metadata": {},
   "source": [
    "## [making_a_pipeline](../HTS2018-notebooks/bioinformatics/making_a_pipeline.ipynb)\n",
    "```\n",
    "FASTQ=\"27_MA_P_S38_L002_R1\"\n",
    "echo \"---------------- TRIMMING: $FASTQ ----------------\"\n",
    "fastq-mcf $MYINFO/neb_e7600_adapters.fasta \\\n",
    "    $RAW_FASTQS/${FASTQ}_001.fastq.gz \\\n",
    "        -q 20 -x 0.5 \\\n",
    "        -o $TRIMMED/${FASTQ}_001.trim.fastq.gz\n",
    "        \n",
    "echo \"---------------- MAPPING: $FASTQ ----------------\"\n",
    "STAR \\\n",
    "    --runMode alignReads \\\n",
    "    --twopassMode None \\\n",
    "    --genomeDir $GENOME_DIR \\\n",
    "    --readFilesIn $TRIMMED/${FASTQ}_001.trim.fastq.gz \\\n",
    "    --readFilesCommand gunzip -c \\\n",
    "    --outFileNamePrefix ${STAR_OUT}/${FASTQ}_ \\\n",
    "    --quantMode GeneCounts \\\n",
    "    --outSAMtype None\n",
    "```"
   ]
  },
  {
   "cell_type": "markdown",
   "metadata": {},
   "source": [
    "## [Pipeline in a Loop](../HTS2018-notebooks/bioinformatics/loop_pipeline.ipynb)\n",
    "\n",
    "```\n",
    "for FASTQ in 27_MA_P_S38_L002_R1\n",
    "    do\n",
    "        echo \"---------------- TRIMMING: $FASTQ ----------------\"\n",
    "        fastq-mcf \\\n",
    "            $MYINFO/neb_e7600_adapters.fasta \\\n",
    "            $RAW_FASTQS/${FASTQ}_001.fastq.gz \\\n",
    "            -q 20 -x 0.5 \\\n",
    "            -o $TRIMMED/${FASTQ}_001.trim.fastq.gz\n",
    "        \n",
    "        echo \"---------------- MAPPING: $FASTQ ----------------\"\n",
    "        STAR \\\n",
    "            --runMode alignReads \\\n",
    "            --twopassMode None \\\n",
    "            --genomeDir $GENOME_DIR \\\n",
    "            --readFilesIn $TRIMMED/${FASTQ}_001.trim.fastq.gz \\\n",
    "            --readFilesCommand gunzip -c \\\n",
    "            --outFileNamePrefix ${STAR_OUT}/${FASTQ}_ \\\n",
    "            --quantMode GeneCounts \\\n",
    "            --outSAMtype None\n",
    "    done\n",
    "```"
   ]
  },
  {
   "cell_type": "markdown",
   "metadata": {},
   "source": [
    "## [Running Multiple FASTQs](multifastq_loop_pipeline.ipynb)\n",
    "```\n",
    "for FASTQ in 27_MA_P_S38_L002_R1 27_MA_P_S38_L001_R1\n",
    "    do\n",
    "        echo \"---------------- TRIMMING: $FASTQ ----------------\"\n",
    "        fastq-mcf \\\n",
    "            $MYINFO/neb_e7600_adapters.fasta \\\n",
    "            $RAW_FASTQS/${FASTQ}_001.fastq.gz \\\n",
    "            -q 20 -x 0.5 \\\n",
    "            -o $TRIMMED/${FASTQ}_001.trim.fastq.gz\n",
    "        \n",
    "        echo \"---------------- MAPPING: $FASTQ ----------------\"\n",
    "        STAR \\\n",
    "            --runMode alignReads \\\n",
    "            --twopassMode None \\\n",
    "            --genomeDir $GENOME_DIR \\\n",
    "            --readFilesIn $TRIMMED/${FASTQ}_001.trim.fastq.gz \\\n",
    "            --readFilesCommand gunzip -c \\\n",
    "            --outFileNamePrefix ${STAR_OUT}/${FASTQ}_ \\\n",
    "            --quantMode GeneCounts \\\n",
    "            --outSAMtype None\n",
    "    done\n",
    "```"
   ]
  },
  {
   "cell_type": "markdown",
   "metadata": {},
   "source": [
    "## [Looping with Globs](glob_loop.ipynb)\n",
    "\n",
    "we are grabbing the full path, and we need to manipulate it so that we can generate output file names that are different than the input, and put the output in different directories.  We can do all this with the `basename` bash function. The simple form of `basename` removes the whole directory portion of a path and just returns the filename\n",
    "\n",
    "```\n",
    "for FASTQ in $RAW_FASTQS/27_MA_P_S38_L00[1-2]_R1_001.fastq.gz\n",
    "    do\n",
    "        echo \"FULL PATH IS: ${FASTQ}\"\n",
    "        echo \"basename gives us: $(basename ${FASTQ})\"\n",
    "        echo \"\"\n",
    "    done\n",
    "    \n",
    "for FASTQ in $RAW_FASTQS/27_MA_P_S38_L00[1-2]_R1_001.fastq.gz\n",
    "    do\n",
    "        echo \"FULL PATH IS: ${FASTQ}\"\n",
    "        echo \"basename gives us: $(basename ${FASTQ} '_001.fastq.gz')\"\n",
    "        echo \"\"\n",
    "    done\n",
    "```\n",
    "\n",
    "With globs and basename in our toolbox, we are ready to conquer the world or at least run multiple FASTQs through our pipeline, without breaking a sweat!\n",
    "\n",
    "```\n",
    "for FASTQ in $RAW_FASTQS/27_MA_P_S38_L00[1-2]_R1_001.fastq.gz\n",
    "    do\n",
    "        FASTQ_BASE=\"$(basename ${FASTQ} '_001.fastq.gz')\"\n",
    "        echo \"---------------- TRIMMING: $FASTQ_BASE ----------------\"\n",
    "        fastq-mcf \\\n",
    "            $MYINFO/neb_e7600_adapters.fasta \\\n",
    "            $RAW_FASTQS/${FASTQ_BASE}_001.fastq.gz \\\n",
    "            -q 20 -x 0.5 \\\n",
    "            -o $TRIMMED/${FASTQ_BASE}_001.trim.fastq.gz\n",
    "        \n",
    "        echo \"---------------- MAPPING: $FASTQ_BASE ----------------\"\n",
    "        STAR \\\n",
    "            --runMode alignReads \\\n",
    "            --twopassMode None \\\n",
    "            --genomeDir $GENOME_DIR \\\n",
    "            --readFilesIn $TRIMMED/${FASTQ_BASE}_001.trim.fastq.gz \\\n",
    "            --readFilesCommand gunzip -c \\\n",
    "            --outFileNamePrefix ${STAR_OUT}/${FASTQ_BASE}_ \\\n",
    "            --quantMode GeneCounts \\\n",
    "            --outSAMtype BAM SortedByCoordinate\n",
    "    done\n",
    "```"
   ]
  },
  {
   "cell_type": "markdown",
   "metadata": {},
   "source": [
    "## [IGV visualization](igv_visualization.ipynb)\n",
    "\n",
    "**IGV needs indices for the BAM files.**\n",
    "\n",
    "```\n",
    "for BAM in ${STAR_OUT}/*_Aligned.sortedByCoord.out.bam\n",
    "    do\n",
    "        echo $BAM\n",
    "        samtools index $BAM\n",
    "    done\n",
    "```\n",
    "\n",
    "**Download the tarball**\n",
    "```\n",
    "ls -ltr ${STAR_OUT}\n",
    "ln -s ${STAR_OUT}/*.bam* $GTF $FASTA $IGV_DIR\n",
    "tar --dereference \\\n",
    "    --create \\\n",
    "    --gzip \\\n",
    "    --verbose \\\n",
    "    --file $CUROUT/stuff_for_igv.tgz \\\n",
    "    --directory $CUROUT \\\n",
    "    $(basename $IGV_DIR)\n",
    "```"
   ]
  },
  {
   "cell_type": "markdown",
   "metadata": {},
   "source": [
    "## [Shorter Introns](igv_shorter_introns.ipynb)\n",
    "\n",
    "**Run with shorter intron limit**\n",
    "\n",
    "```\n",
    "for FASTQ in $RAW_FASTQS/27_MA_P_S38_L00[1]_R1_001.fastq.gz\n",
    "    do\n",
    "        FASTQ_BASE=\"$(basename ${FASTQ} '_001.fastq.gz')\"\n",
    "        echo \"---------------- TRIMMING: $FASTQ_BASE ----------------\"\n",
    "        fastq-mcf \\\n",
    "            $MYINFO/neb_e7600_adapters.fasta \\\n",
    "            $RAW_FASTQS/${FASTQ_BASE}_001.fastq.gz \\\n",
    "            -q 20 -x 0.5 \\\n",
    "            -o $TRIMMED/${FASTQ_BASE}_001.trim.fastq.gz\n",
    "        \n",
    "        echo \"---------------- MAPPING: $FASTQ_BASE ----------------\"\n",
    "        STAR \\\n",
    "            --runMode alignReads \\\n",
    "            --twopassMode None \\\n",
    "            --genomeDir $GENOME_DIR \\\n",
    "            --readFilesIn $TRIMMED/${FASTQ_BASE}_001.trim.fastq.gz \\\n",
    "            --readFilesCommand gunzip -c \\\n",
    "            --outFileNamePrefix ${STAR_OUT}/${FASTQ_BASE}_short_introns_ \\\n",
    "            --quantMode GeneCounts \\\n",
    "            --outSAMtype BAM SortedByCoordinate \\\n",
    "            --alignIntronMax 5000 \\\n",
    "            --outSJfilterIntronMaxVsReadN 500 1000 2000 \\\n",
    "            \n",
    "        echo \"---------------- INDEXING BAM: $FASTQ_BASE ----------------\"\n",
    "        samtools index ${STAR_OUT}/${FASTQ_BASE}_short_introns_Aligned.sortedByCoord.out.bam\n",
    "    done\n",
    "```\n",
    "\n",
    "**Download files**\n",
    "\n",
    "```\n",
    "ls -ltr ${STAR_OUT}\n",
    "### Link Directory\n",
    "ln -s ${STAR_OUT}/*.bam* $GTF $FASTA $IGV_DIR\n",
    "\n",
    "### Tarring\n",
    "tar --dereference \\\n",
    "    --create \\\n",
    "    --gzip \\\n",
    "    --verbose \\\n",
    "    --file $CUROUT/stuff_for_igv.tgz \\\n",
    "    --directory $CUROUT \\\n",
    "    $(basename $IGV_DIR)\n",
    "```"
   ]
  },
  {
   "cell_type": "code",
   "execution_count": null,
   "metadata": {},
   "outputs": [],
   "source": []
  }
 ],
 "metadata": {
  "kernelspec": {
   "display_name": "Bash",
   "language": "bash",
   "name": "bash"
  },
  "language_info": {
   "codemirror_mode": "shell",
   "file_extension": ".sh",
   "mimetype": "text/x-sh",
   "name": "bash"
  }
 },
 "nbformat": 4,
 "nbformat_minor": 2
}
