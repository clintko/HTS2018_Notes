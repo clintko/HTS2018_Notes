{
 "cells": [
  {
   "cell_type": "markdown",
   "metadata": {},
   "source": [
    "# Set environment"
   ]
  },
  {
   "cell_type": "code",
   "execution_count": 35,
   "metadata": {
    "scrolled": true
   },
   "outputs": [],
   "source": [
    "source(\"config_path.R\")"
   ]
  },
  {
   "cell_type": "markdown",
   "metadata": {},
   "source": [
    "# Import Data"
   ]
  },
  {
   "cell_type": "code",
   "execution_count": 36,
   "metadata": {},
   "outputs": [
    {
     "name": "stderr",
     "output_type": "stream",
     "text": [
      "The following objects are masked from file:/shared_space/TA_clint/analysis_output/out/HTS-GroupAll-DESeq.RData (pos = 6):\n",
      "\n",
      "    columnData, countData, dds, gene_exp, res_media_h99, res_media_mar,\n",
      "    res_strain_tc, res_strain_ypd, rlgexp, vomexp, vstexp\n",
      "\n"
     ]
    }
   ],
   "source": [
    "attach(file.path(OUTDIR, \"HTS-GroupAll-DESeq.RData\"))"
   ]
  },
  {
   "cell_type": "code",
   "execution_count": 37,
   "metadata": {},
   "outputs": [
    {
     "name": "stderr",
     "output_type": "stream",
     "text": [
      "The following objects are masked from file:/shared_space/TA_clint/analysis_output/out/HTS-GO-Info.RData (pos = 5):\n",
      "\n",
      "    dat_go_bp_annot, dat_go_cc_annot, dat_go_cne_h99, dat_go_fc_annot,\n",
      "    dat_go_info_bp, dat_go_info_cc, dat_go_info_fc, gset_go_bp,\n",
      "    gset_go_cc, gset_go_fc\n",
      "\n",
      "The following objects are masked from file:/shared_space/TA_clint/analysis_output/out/HTS-GO-Info.RData (pos = 6):\n",
      "\n",
      "    dat_go_bp_annot, dat_go_cc_annot, dat_go_cne_h99, dat_go_fc_annot,\n",
      "    dat_go_info_bp, dat_go_info_cc, dat_go_info_fc\n",
      "\n"
     ]
    }
   ],
   "source": [
    "attach(file.path(OUTDIR, \"HTS-GO-Info.RData\"))"
   ]
  },
  {
   "cell_type": "code",
   "execution_count": 38,
   "metadata": {},
   "outputs": [],
   "source": [
    "gage_wrapper <- function(rld, gset, crt, trt){\n",
    "    gage::gage(\n",
    "        assay(rld),\n",
    "        gsets = gset,\n",
    "        use.fold = FALSE,\n",
    "                      \n",
    "        ### reference condition or phenotype \n",
    "        ### (i.e. the control group) \n",
    "        ref  = which(colData(rld)[[\"Group\"]] == crt), \n",
    "    \n",
    "        ### a numeric vector of column numbers for \n",
    "        ### the target condition or phenotype \n",
    "        ### (i.e.the experiment group)\n",
    "        samp = which(colData(rld)[[\"Group\"]] == trt),\n",
    "        compare = \"unpaired\",\n",
    "                        \n",
    "        ### he effective gene set size, \n",
    "        ### i.e. the number of genes included in the gene set test\n",
    "        set.size = c(10, 500),\n",
    "                      \n",
    "        ### provide two sided test \"greater\" & \"less\"\n",
    "        same.dir = TRUE)\n",
    "} # end func"
   ]
  },
  {
   "cell_type": "markdown",
   "metadata": {},
   "source": [
    "# 01 YPD -> TC in H99"
   ]
  },
  {
   "cell_type": "code",
   "execution_count": 39,
   "metadata": {},
   "outputs": [],
   "source": [
    "gageres_media_h99 <- list()\n",
    "gageres_media_h99$bp <- gage_wrapper(rlgexp, gset_go_bp, \"YPDH99\", \"TCH99\")\n",
    "gageres_media_h99$fc <- gage_wrapper(rlgexp, gset_go_fc, \"YPDH99\", \"TCH99\")\n",
    "gageres_media_h99$cc <- gage_wrapper(rlgexp, gset_go_cc, \"YPDH99\", \"TCH99\")"
   ]
  },
  {
   "cell_type": "markdown",
   "metadata": {},
   "source": [
    "# 02 YPD -> TC in mar1d"
   ]
  },
  {
   "cell_type": "code",
   "execution_count": 40,
   "metadata": {},
   "outputs": [],
   "source": [
    "gageres_media_mar <- list()\n",
    "gageres_media_mar$bp <- gage_wrapper(rlgexp, gset_go_bp, \"YPDmar1d\", \"TCmar1d\")\n",
    "gageres_media_mar$fc <- gage_wrapper(rlgexp, gset_go_fc, \"YPDmar1d\", \"TCmar1d\")\n",
    "gageres_media_mar$cc <- gage_wrapper(rlgexp, gset_go_cc, \"YPDmar1d\", \"TCmar1d\")"
   ]
  },
  {
   "cell_type": "markdown",
   "metadata": {},
   "source": [
    "# 03 H99 vs mar1d in YPD"
   ]
  },
  {
   "cell_type": "code",
   "execution_count": 41,
   "metadata": {},
   "outputs": [],
   "source": [
    "gageres_strain_ypd <- list()\n",
    "gageres_strain_ypd$bp <- gage_wrapper(rlgexp, gset_go_bp, \"YPDH99\", \"YPDmar1d\")\n",
    "gageres_strain_ypd$fc <- gage_wrapper(rlgexp, gset_go_fc, \"YPDH99\", \"YPDmar1d\")\n",
    "gageres_strain_ypd$cc <- gage_wrapper(rlgexp, gset_go_cc, \"YPDH99\", \"YPDmar1d\")"
   ]
  },
  {
   "cell_type": "markdown",
   "metadata": {},
   "source": [
    "# 04 H99 vs mar1d in TC"
   ]
  },
  {
   "cell_type": "code",
   "execution_count": 42,
   "metadata": {},
   "outputs": [],
   "source": [
    "gageres_strain_tc <- list()\n",
    "gageres_strain_tc$bp <- gage_wrapper(rlgexp, gset_go_bp, \"TCH99\", \"TCmar1d\")\n",
    "gageres_strain_tc$fc <- gage_wrapper(rlgexp, gset_go_fc, \"TCH99\", \"TCmar1d\")\n",
    "gageres_strain_tc$cc <- gage_wrapper(rlgexp, gset_go_cc, \"TCH99\", \"TCmar1d\")"
   ]
  },
  {
   "cell_type": "code",
   "execution_count": 44,
   "metadata": {},
   "outputs": [
    {
     "data": {
      "text/html": [
       "<strong>/shared_space/TA_clint/analysis_output/out/HTS-GroupAll-gage-go.RData:</strong> 'a7303250f27620b6c74f54dc3fb47b95'"
      ],
      "text/latex": [
       "\\textbf{/shared\\textbackslash{}\\_space/TA\\textbackslash{}\\_clint/analysis\\textbackslash{}\\_output/out/HTS-GroupAll-gage-go.RData:} 'a7303250f27620b6c74f54dc3fb47b95'"
      ],
      "text/markdown": [
       "**/shared_space/TA_clint/analysis_output/out/HTS-GroupAll-gage-go.RData:** 'a7303250f27620b6c74f54dc3fb47b95'"
      ],
      "text/plain": [
       "/shared_space/TA_clint/analysis_output/out/HTS-GroupAll-gage-go.RData \n",
       "                                   \"a7303250f27620b6c74f54dc3fb47b95\" "
      ]
     },
     "metadata": {},
     "output_type": "display_data"
    }
   ],
   "source": [
    "#outfile <- file.path(OUTDIR, \"HTS-GroupB-DESeq.RData\")\n",
    "outfile <- file.path(OUTDIR, \"HTS-GroupAll-gage-go.RData\")\n",
    "\n",
    "save(gageres_media_h99,\n",
    "     gageres_media_mar,\n",
    "     gageres_strain_ypd,\n",
    "     gageres_strain_tc,\n",
    "     file = outfile)\n",
    "\n",
    "tools::md5sum(outfile)"
   ]
  },
  {
   "cell_type": "markdown",
   "metadata": {},
   "source": [
    "# Compare"
   ]
  },
  {
   "cell_type": "code",
   "execution_count": null,
   "metadata": {},
   "outputs": [],
   "source": [
    "source()\n",
    "attach()"
   ]
  },
  {
   "cell_type": "code",
   "execution_count": 142,
   "metadata": {},
   "outputs": [],
   "source": [
    "great_media_h99  <- gageres_media_h99$bp[[\"greater\"]]  %>% as.data.frame %>% rownames_to_column(\"name\") %>% filter(p.val < 0.05, q.val < 0.2)\n",
    "great_media_mar  <- gageres_media_mar$bp[[\"greater\"]]  %>% as.data.frame %>% rownames_to_column(\"name\") %>% filter(p.val < 0.05, q.val < 0.2)\n",
    "great_strain_ypd <- gageres_strain_ypd$bp[[\"greater\"]] %>% as.data.frame %>% rownames_to_column(\"name\") %>% filter(p.val < 0.05, q.val < 0.2)\n",
    "great_strain_tc  <- gageres_strain_tc$bp[[\"greater\"]]  %>% as.data.frame %>% rownames_to_column(\"name\") %>% filter(p.val < 0.05, q.val < 0.2)"
   ]
  },
  {
   "cell_type": "code",
   "execution_count": 143,
   "metadata": {},
   "outputs": [
    {
     "data": {
      "text/html": [
       "4"
      ],
      "text/latex": [
       "4"
      ],
      "text/markdown": [
       "4"
      ],
      "text/plain": [
       "[1] 4"
      ]
     },
     "metadata": {},
     "output_type": "display_data"
    },
    {
     "data": {
      "text/html": [
       "6"
      ],
      "text/latex": [
       "6"
      ],
      "text/markdown": [
       "6"
      ],
      "text/plain": [
       "[1] 6"
      ]
     },
     "metadata": {},
     "output_type": "display_data"
    },
    {
     "data": {
      "text/html": [
       "5"
      ],
      "text/latex": [
       "5"
      ],
      "text/markdown": [
       "5"
      ],
      "text/plain": [
       "[1] 5"
      ]
     },
     "metadata": {},
     "output_type": "display_data"
    },
    {
     "data": {
      "text/html": [
       "9"
      ],
      "text/latex": [
       "9"
      ],
      "text/markdown": [
       "9"
      ],
      "text/plain": [
       "[1] 9"
      ]
     },
     "metadata": {},
     "output_type": "display_data"
    }
   ],
   "source": [
    "great_media_h99 %>% nrow\n",
    "great_media_mar %>% nrow\n",
    "great_strain_ypd%>% nrow\n",
    "great_strain_tc%>% nrow"
   ]
  },
  {
   "cell_type": "code",
   "execution_count": 144,
   "metadata": {},
   "outputs": [],
   "source": [
    "less_media_h99  <- gageres_media_h99$bp[[\"less\"]]  %>% as.data.frame %>% rownames_to_column(\"name\") %>% filter(p.val < 0.05, q.val < 0.2)\n",
    "less_media_mar  <- gageres_media_mar$bp[[\"less\"]]  %>% as.data.frame %>% rownames_to_column(\"name\") %>% filter(p.val < 0.05, q.val < 0.2)\n",
    "less_strain_ypd <- gageres_strain_ypd$bp[[\"less\"]] %>% as.data.frame %>% rownames_to_column(\"name\") %>% filter(p.val < 0.05, q.val < 0.2)\n",
    "less_strain_tc  <- gageres_strain_tc$bp[[\"less\"]]  %>% as.data.frame %>% rownames_to_column(\"name\") %>% filter(p.val < 0.05, q.val < 0.2)"
   ]
  },
  {
   "cell_type": "code",
   "execution_count": 128,
   "metadata": {},
   "outputs": [
    {
     "data": {
      "text/html": [
       "8"
      ],
      "text/latex": [
       "8"
      ],
      "text/markdown": [
       "8"
      ],
      "text/plain": [
       "[1] 8"
      ]
     },
     "metadata": {},
     "output_type": "display_data"
    },
    {
     "data": {
      "text/html": [
       "7"
      ],
      "text/latex": [
       "7"
      ],
      "text/markdown": [
       "7"
      ],
      "text/plain": [
       "[1] 7"
      ]
     },
     "metadata": {},
     "output_type": "display_data"
    },
    {
     "data": {
      "text/html": [
       "1"
      ],
      "text/latex": [
       "1"
      ],
      "text/markdown": [
       "1"
      ],
      "text/plain": [
       "[1] 1"
      ]
     },
     "metadata": {},
     "output_type": "display_data"
    },
    {
     "data": {
      "text/html": [
       "1"
      ],
      "text/latex": [
       "1"
      ],
      "text/markdown": [
       "1"
      ],
      "text/plain": [
       "[1] 1"
      ]
     },
     "metadata": {},
     "output_type": "display_data"
    }
   ],
   "source": [
    "less_media_h99 %>% nrow\n",
    "less_media_mar %>% nrow\n",
    "less_strain_ypd%>% nrow\n",
    "less_strain_tc%>% nrow"
   ]
  },
  {
   "cell_type": "code",
   "execution_count": 85,
   "metadata": {},
   "outputs": [
    {
     "data": {
      "text/html": [
       "<table>\n",
       "<thead><tr><th scope=col>name</th><th scope=col>p.geomean</th><th scope=col>stat.mean</th><th scope=col>p.val</th><th scope=col>q.val</th><th scope=col>set.size</th><th scope=col>exp1</th></tr></thead>\n",
       "<tbody>\n",
       "\t<tr><td>GO:0005975 | carbohydrate metabolic process</td><td>0.0001925656                               </td><td>3.635868                                   </td><td>0.0001925656                               </td><td>0.007702623                                </td><td> 73                                        </td><td>0.0001925656                               </td></tr>\n",
       "\t<tr><td>GO:0055085 | transmembrane transport       </td><td>0.0011672477                               </td><td>3.062206                                   </td><td>0.0011672477                               </td><td>0.023344954                                </td><td>217                                        </td><td>0.0011672477                               </td></tr>\n",
       "</tbody>\n",
       "</table>\n"
      ],
      "text/latex": [
       "\\begin{tabular}{r|lllllll}\n",
       " name & p.geomean & stat.mean & p.val & q.val & set.size & exp1\\\\\n",
       "\\hline\n",
       "\t GO:0005975 \\textbar{} carbohydrate metabolic process & 0.0001925656                                          & 3.635868                                              & 0.0001925656                                          & 0.007702623                                           &  73                                                   & 0.0001925656                                         \\\\\n",
       "\t GO:0055085 \\textbar{} transmembrane transport        & 0.0011672477                                          & 3.062206                                              & 0.0011672477                                          & 0.023344954                                           & 217                                                   & 0.0011672477                                         \\\\\n",
       "\\end{tabular}\n"
      ],
      "text/markdown": [
       "\n",
       "name | p.geomean | stat.mean | p.val | q.val | set.size | exp1 | \n",
       "|---|---|\n",
       "| GO:0005975 | carbohydrate metabolic process | 0.0001925656                                | 3.635868                                    | 0.0001925656                                | 0.007702623                                 |  73                                         | 0.0001925656                                | \n",
       "| GO:0055085 | transmembrane transport        | 0.0011672477                                | 3.062206                                    | 0.0011672477                                | 0.023344954                                 | 217                                         | 0.0011672477                                | \n",
       "\n",
       "\n"
      ],
      "text/plain": [
       "  name                                        p.geomean    stat.mean\n",
       "1 GO:0005975 | carbohydrate metabolic process 0.0001925656 3.635868 \n",
       "2 GO:0055085 | transmembrane transport        0.0011672477 3.062206 \n",
       "  p.val        q.val       set.size exp1        \n",
       "1 0.0001925656 0.007702623  73      0.0001925656\n",
       "2 0.0011672477 0.023344954 217      0.0011672477"
      ]
     },
     "metadata": {},
     "output_type": "display_data"
    }
   ],
   "source": [
    "great_media_h99"
   ]
  },
  {
   "cell_type": "code",
   "execution_count": 112,
   "metadata": {},
   "outputs": [
    {
     "data": {
      "text/html": [
       "<table>\n",
       "<thead><tr><th scope=col>name</th><th scope=col>p.geomean</th><th scope=col>stat.mean</th><th scope=col>p.val</th><th scope=col>q.val</th><th scope=col>set.size</th><th scope=col>exp1</th></tr></thead>\n",
       "<tbody>\n",
       "\t<tr><td>GO:0005975 | carbohydrate metabolic process            </td><td>8.289447e-07                                           </td><td>4.998229                                               </td><td>8.289447e-07                                           </td><td>3.315779e-05                                           </td><td> 73                                                    </td><td>8.289447e-07                                           </td></tr>\n",
       "\t<tr><td>GO:0055085 | transmembrane transport                   </td><td>2.983937e-03                                           </td><td>2.763286                                               </td><td>2.983937e-03                                           </td><td>5.967874e-02                                           </td><td>217                                                    </td><td>2.983937e-03                                           </td></tr>\n",
       "\t<tr><td>GO:0008152 | metabolic process                         </td><td>7.000528e-03                                           </td><td>2.468848                                               </td><td>7.000528e-03                                           </td><td>8.445875e-02                                           </td><td>188                                                    </td><td>7.000528e-03                                           </td></tr>\n",
       "\t<tr><td>GO:0006629 | lipid metabolic process                   </td><td>1.028764e-02                                           </td><td>2.438668                                               </td><td>1.028764e-02                                           </td><td>8.445875e-02                                           </td><td> 17                                                    </td><td>1.028764e-02                                           </td></tr>\n",
       "\t<tr><td>GO:0006355 | regulation of transcription, DNA-templated</td><td>1.055734e-02                                           </td><td>2.316060                                               </td><td>1.055734e-02                                           </td><td>8.445875e-02                                           </td><td>185                                                    </td><td>1.055734e-02                                           </td></tr>\n",
       "\t<tr><td>GO:0007165 | signal transduction                       </td><td>1.284965e-02                                           </td><td>2.344728                                               </td><td>1.284965e-02                                           </td><td>8.566434e-02                                           </td><td> 17                                                    </td><td>1.284965e-02                                           </td></tr>\n",
       "</tbody>\n",
       "</table>\n"
      ],
      "text/latex": [
       "\\begin{tabular}{r|lllllll}\n",
       " name & p.geomean & stat.mean & p.val & q.val & set.size & exp1\\\\\n",
       "\\hline\n",
       "\t GO:0005975 \\textbar{} carbohydrate metabolic process             & 8.289447e-07                                                      & 4.998229                                                          & 8.289447e-07                                                      & 3.315779e-05                                                      &  73                                                               & 8.289447e-07                                                     \\\\\n",
       "\t GO:0055085 \\textbar{} transmembrane transport                    & 2.983937e-03                                                      & 2.763286                                                          & 2.983937e-03                                                      & 5.967874e-02                                                      & 217                                                               & 2.983937e-03                                                     \\\\\n",
       "\t GO:0008152 \\textbar{} metabolic process                          & 7.000528e-03                                                      & 2.468848                                                          & 7.000528e-03                                                      & 8.445875e-02                                                      & 188                                                               & 7.000528e-03                                                     \\\\\n",
       "\t GO:0006629 \\textbar{} lipid metabolic process                    & 1.028764e-02                                                      & 2.438668                                                          & 1.028764e-02                                                      & 8.445875e-02                                                      &  17                                                               & 1.028764e-02                                                     \\\\\n",
       "\t GO:0006355 \\textbar{} regulation of transcription, DNA-templated & 1.055734e-02                                                      & 2.316060                                                          & 1.055734e-02                                                      & 8.445875e-02                                                      & 185                                                               & 1.055734e-02                                                     \\\\\n",
       "\t GO:0007165 \\textbar{} signal transduction                        & 1.284965e-02                                                      & 2.344728                                                          & 1.284965e-02                                                      & 8.566434e-02                                                      &  17                                                               & 1.284965e-02                                                     \\\\\n",
       "\\end{tabular}\n"
      ],
      "text/markdown": [
       "\n",
       "name | p.geomean | stat.mean | p.val | q.val | set.size | exp1 | \n",
       "|---|---|---|---|---|---|\n",
       "| GO:0005975 | carbohydrate metabolic process             | 8.289447e-07                                            | 4.998229                                                | 8.289447e-07                                            | 3.315779e-05                                            |  73                                                     | 8.289447e-07                                            | \n",
       "| GO:0055085 | transmembrane transport                    | 2.983937e-03                                            | 2.763286                                                | 2.983937e-03                                            | 5.967874e-02                                            | 217                                                     | 2.983937e-03                                            | \n",
       "| GO:0008152 | metabolic process                          | 7.000528e-03                                            | 2.468848                                                | 7.000528e-03                                            | 8.445875e-02                                            | 188                                                     | 7.000528e-03                                            | \n",
       "| GO:0006629 | lipid metabolic process                    | 1.028764e-02                                            | 2.438668                                                | 1.028764e-02                                            | 8.445875e-02                                            |  17                                                     | 1.028764e-02                                            | \n",
       "| GO:0006355 | regulation of transcription, DNA-templated | 1.055734e-02                                            | 2.316060                                                | 1.055734e-02                                            | 8.445875e-02                                            | 185                                                     | 1.055734e-02                                            | \n",
       "| GO:0007165 | signal transduction                        | 1.284965e-02                                            | 2.344728                                                | 1.284965e-02                                            | 8.566434e-02                                            |  17                                                     | 1.284965e-02                                            | \n",
       "\n",
       "\n"
      ],
      "text/plain": [
       "  name                                                    p.geomean   \n",
       "1 GO:0005975 | carbohydrate metabolic process             8.289447e-07\n",
       "2 GO:0055085 | transmembrane transport                    2.983937e-03\n",
       "3 GO:0008152 | metabolic process                          7.000528e-03\n",
       "4 GO:0006629 | lipid metabolic process                    1.028764e-02\n",
       "5 GO:0006355 | regulation of transcription, DNA-templated 1.055734e-02\n",
       "6 GO:0007165 | signal transduction                        1.284965e-02\n",
       "  stat.mean p.val        q.val        set.size exp1        \n",
       "1 4.998229  8.289447e-07 3.315779e-05  73      8.289447e-07\n",
       "2 2.763286  2.983937e-03 5.967874e-02 217      2.983937e-03\n",
       "3 2.468848  7.000528e-03 8.445875e-02 188      7.000528e-03\n",
       "4 2.438668  1.028764e-02 8.445875e-02  17      1.028764e-02\n",
       "5 2.316060  1.055734e-02 8.445875e-02 185      1.055734e-02\n",
       "6 2.344728  1.284965e-02 8.566434e-02  17      1.284965e-02"
      ]
     },
     "metadata": {},
     "output_type": "display_data"
    }
   ],
   "source": [
    "great_media_mar"
   ]
  },
  {
   "cell_type": "code",
   "execution_count": 90,
   "metadata": {},
   "outputs": [
    {
     "data": {
      "text/html": [
       "<table>\n",
       "<thead><tr><th scope=col>name</th><th scope=col>p.geomean</th><th scope=col>stat.mean</th><th scope=col>p.val</th><th scope=col>q.val</th><th scope=col>set.size</th><th scope=col>exp1</th></tr></thead>\n",
       "<tbody>\n",
       "\t<tr><td>GO:0006260 | DNA replication             </td><td>9.995309e-06                             </td><td>4.774314                                 </td><td>9.995309e-06                             </td><td>0.0003790192                             </td><td> 25                                      </td><td>9.995309e-06                             </td></tr>\n",
       "\t<tr><td>GO:0006364 | rRNA processing             </td><td>1.895096e-05                             </td><td>5.560152                                 </td><td>1.895096e-05                             </td><td>0.0003790192                             </td><td> 10                                      </td><td>1.895096e-05                             </td></tr>\n",
       "\t<tr><td>GO:0006412 | translation                 </td><td>1.782307e-04                             </td><td>3.671655                                 </td><td>1.782307e-04                             </td><td>0.0023764095                             </td><td>106                                      </td><td>1.782307e-04                             </td></tr>\n",
       "\t<tr><td>GO:0006351 | transcription, DNA-templated</td><td>9.484122e-04                             </td><td>3.227181                                 </td><td>9.484122e-04                             </td><td>0.0094841220                             </td><td> 39                                      </td><td>9.484122e-04                             </td></tr>\n",
       "\t<tr><td>GO:0006396 | RNA processing              </td><td>6.216762e-03                             </td><td>2.613073                                 </td><td>6.216762e-03                             </td><td>0.0497340955                             </td><td> 22                                      </td><td>6.216762e-03                             </td></tr>\n",
       "</tbody>\n",
       "</table>\n"
      ],
      "text/latex": [
       "\\begin{tabular}{r|lllllll}\n",
       " name & p.geomean & stat.mean & p.val & q.val & set.size & exp1\\\\\n",
       "\\hline\n",
       "\t GO:0006260 \\textbar{} DNA replication              & 9.995309e-06                                        & 4.774314                                            & 9.995309e-06                                        & 0.0003790192                                        &  25                                                 & 9.995309e-06                                       \\\\\n",
       "\t GO:0006364 \\textbar{} rRNA processing              & 1.895096e-05                                        & 5.560152                                            & 1.895096e-05                                        & 0.0003790192                                        &  10                                                 & 1.895096e-05                                       \\\\\n",
       "\t GO:0006412 \\textbar{} translation                  & 1.782307e-04                                        & 3.671655                                            & 1.782307e-04                                        & 0.0023764095                                        & 106                                                 & 1.782307e-04                                       \\\\\n",
       "\t GO:0006351 \\textbar{} transcription, DNA-templated & 9.484122e-04                                        & 3.227181                                            & 9.484122e-04                                        & 0.0094841220                                        &  39                                                 & 9.484122e-04                                       \\\\\n",
       "\t GO:0006396 \\textbar{} RNA processing               & 6.216762e-03                                        & 2.613073                                            & 6.216762e-03                                        & 0.0497340955                                        &  22                                                 & 6.216762e-03                                       \\\\\n",
       "\\end{tabular}\n"
      ],
      "text/markdown": [
       "\n",
       "name | p.geomean | stat.mean | p.val | q.val | set.size | exp1 | \n",
       "|---|---|---|---|---|\n",
       "| GO:0006260 | DNA replication              | 9.995309e-06                              | 4.774314                                  | 9.995309e-06                              | 0.0003790192                              |  25                                       | 9.995309e-06                              | \n",
       "| GO:0006364 | rRNA processing              | 1.895096e-05                              | 5.560152                                  | 1.895096e-05                              | 0.0003790192                              |  10                                       | 1.895096e-05                              | \n",
       "| GO:0006412 | translation                  | 1.782307e-04                              | 3.671655                                  | 1.782307e-04                              | 0.0023764095                              | 106                                       | 1.782307e-04                              | \n",
       "| GO:0006351 | transcription, DNA-templated | 9.484122e-04                              | 3.227181                                  | 9.484122e-04                              | 0.0094841220                              |  39                                       | 9.484122e-04                              | \n",
       "| GO:0006396 | RNA processing               | 6.216762e-03                              | 2.613073                                  | 6.216762e-03                              | 0.0497340955                              |  22                                       | 6.216762e-03                              | \n",
       "\n",
       "\n"
      ],
      "text/plain": [
       "  name                                      p.geomean    stat.mean p.val       \n",
       "1 GO:0006260 | DNA replication              9.995309e-06 4.774314  9.995309e-06\n",
       "2 GO:0006364 | rRNA processing              1.895096e-05 5.560152  1.895096e-05\n",
       "3 GO:0006412 | translation                  1.782307e-04 3.671655  1.782307e-04\n",
       "4 GO:0006351 | transcription, DNA-templated 9.484122e-04 3.227181  9.484122e-04\n",
       "5 GO:0006396 | RNA processing               6.216762e-03 2.613073  6.216762e-03\n",
       "  q.val        set.size exp1        \n",
       "1 0.0003790192  25      9.995309e-06\n",
       "2 0.0003790192  10      1.895096e-05\n",
       "3 0.0023764095 106      1.782307e-04\n",
       "4 0.0094841220  39      9.484122e-04\n",
       "5 0.0497340955  22      6.216762e-03"
      ]
     },
     "metadata": {},
     "output_type": "display_data"
    }
   ],
   "source": [
    "great_strain_ypd"
   ]
  },
  {
   "cell_type": "code",
   "execution_count": 54,
   "metadata": {},
   "outputs": [
    {
     "data": {
      "text/html": [
       "<table>\n",
       "<thead><tr><th scope=col>name</th><th scope=col>p.geomean</th><th scope=col>stat.mean</th><th scope=col>p.val</th><th scope=col>q.val</th><th scope=col>set.size</th><th scope=col>exp1</th></tr></thead>\n",
       "<tbody>\n",
       "\t<tr><td>GO:0006412 | translation    </td><td>0.0001465249                </td><td>3.715852                    </td><td>0.0001465249                </td><td>0.005860995                 </td><td>106                         </td><td>0.0001465249                </td></tr>\n",
       "\t<tr><td>GO:0006260 | DNA replication</td><td>0.0004373302                </td><td>3.565956                    </td><td>0.0004373302                </td><td>0.008746605                 </td><td> 25                         </td><td>0.0004373302                </td></tr>\n",
       "</tbody>\n",
       "</table>\n"
      ],
      "text/latex": [
       "\\begin{tabular}{r|lllllll}\n",
       " name & p.geomean & stat.mean & p.val & q.val & set.size & exp1\\\\\n",
       "\\hline\n",
       "\t GO:0006412 \\textbar{} translation     & 0.0001465249                           & 3.715852                               & 0.0001465249                           & 0.005860995                            & 106                                    & 0.0001465249                          \\\\\n",
       "\t GO:0006260 \\textbar{} DNA replication & 0.0004373302                           & 3.565956                               & 0.0004373302                           & 0.008746605                            &  25                                    & 0.0004373302                          \\\\\n",
       "\\end{tabular}\n"
      ],
      "text/markdown": [
       "\n",
       "name | p.geomean | stat.mean | p.val | q.val | set.size | exp1 | \n",
       "|---|---|\n",
       "| GO:0006412 | translation     | 0.0001465249                 | 3.715852                     | 0.0001465249                 | 0.005860995                  | 106                          | 0.0001465249                 | \n",
       "| GO:0006260 | DNA replication | 0.0004373302                 | 3.565956                     | 0.0004373302                 | 0.008746605                  |  25                          | 0.0004373302                 | \n",
       "\n",
       "\n"
      ],
      "text/plain": [
       "  name                         p.geomean    stat.mean p.val        q.val      \n",
       "1 GO:0006412 | translation     0.0001465249 3.715852  0.0001465249 0.005860995\n",
       "2 GO:0006260 | DNA replication 0.0004373302 3.565956  0.0004373302 0.008746605\n",
       "  set.size exp1        \n",
       "1 106      0.0001465249\n",
       "2  25      0.0004373302"
      ]
     },
     "metadata": {},
     "output_type": "display_data"
    }
   ],
   "source": [
    "great_strain_tc"
   ]
  },
  {
   "cell_type": "code",
   "execution_count": 70,
   "metadata": {},
   "outputs": [
    {
     "data": {
      "text/html": [
       "<table>\n",
       "<thead><tr><th scope=col>name</th><th scope=col>p.geomean</th><th scope=col>stat.mean</th><th scope=col>p.val</th><th scope=col>q.val</th><th scope=col>set.size</th><th scope=col>exp1</th></tr></thead>\n",
       "<tbody>\n",
       "\t<tr><td>GO:0006412 | translation                           </td><td>2.470414e-37                                       </td><td>-15.881602                                         </td><td>2.470414e-37                                       </td><td>9.881654e-36                                       </td><td>106                                                </td><td>2.470414e-37                                       </td></tr>\n",
       "\t<tr><td>GO:0006351 | transcription, DNA-templated          </td><td>4.237494e-05                                       </td><td> -4.155858                                         </td><td>4.237494e-05                                       </td><td>8.474989e-04                                       </td><td> 39                                                </td><td>4.237494e-05                                       </td></tr>\n",
       "\t<tr><td>GO:0006364 | rRNA processing                       </td><td>1.441801e-04                                       </td><td> -4.673456                                         </td><td>1.441801e-04                                       </td><td>1.922401e-03                                       </td><td> 10                                                </td><td>1.441801e-04                                       </td></tr>\n",
       "\t<tr><td>GO:0006413 | translational initiation              </td><td>5.598652e-04                                       </td><td> -3.662656                                         </td><td>5.598652e-04                                       </td><td>5.084740e-03                                       </td><td> 14                                                </td><td>5.598652e-04                                       </td></tr>\n",
       "\t<tr><td>GO:0044267 | cellular protein metabolic process    </td><td>6.355925e-04                                       </td><td> -3.934082                                         </td><td>6.355925e-04                                       </td><td>5.084740e-03                                       </td><td> 10                                                </td><td>6.355925e-04                                       </td></tr>\n",
       "\t<tr><td>GO:0015986 | ATP synthesis coupled proton transport</td><td>4.720332e-03                                       </td><td> -2.921311                                         </td><td>4.720332e-03                                       </td><td>3.146888e-02                                       </td><td> 10                                                </td><td>4.720332e-03                                       </td></tr>\n",
       "\t<tr><td>GO:0006396 | RNA processing                        </td><td>6.443605e-03                                       </td><td> -2.603140                                         </td><td>6.443605e-03                                       </td><td>3.682060e-02                                       </td><td> 22                                                </td><td>6.443605e-03                                       </td></tr>\n",
       "</tbody>\n",
       "</table>\n"
      ],
      "text/latex": [
       "\\begin{tabular}{r|lllllll}\n",
       " name & p.geomean & stat.mean & p.val & q.val & set.size & exp1\\\\\n",
       "\\hline\n",
       "\t GO:0006412 \\textbar{} translation                            & 2.470414e-37                                                  & -15.881602                                                    & 2.470414e-37                                                  & 9.881654e-36                                                  & 106                                                           & 2.470414e-37                                                 \\\\\n",
       "\t GO:0006351 \\textbar{} transcription, DNA-templated           & 4.237494e-05                                                  &  -4.155858                                                    & 4.237494e-05                                                  & 8.474989e-04                                                  &  39                                                           & 4.237494e-05                                                 \\\\\n",
       "\t GO:0006364 \\textbar{} rRNA processing                        & 1.441801e-04                                                  &  -4.673456                                                    & 1.441801e-04                                                  & 1.922401e-03                                                  &  10                                                           & 1.441801e-04                                                 \\\\\n",
       "\t GO:0006413 \\textbar{} translational initiation               & 5.598652e-04                                                  &  -3.662656                                                    & 5.598652e-04                                                  & 5.084740e-03                                                  &  14                                                           & 5.598652e-04                                                 \\\\\n",
       "\t GO:0044267 \\textbar{} cellular protein metabolic process     & 6.355925e-04                                                  &  -3.934082                                                    & 6.355925e-04                                                  & 5.084740e-03                                                  &  10                                                           & 6.355925e-04                                                 \\\\\n",
       "\t GO:0015986 \\textbar{} ATP synthesis coupled proton transport & 4.720332e-03                                                  &  -2.921311                                                    & 4.720332e-03                                                  & 3.146888e-02                                                  &  10                                                           & 4.720332e-03                                                 \\\\\n",
       "\t GO:0006396 \\textbar{} RNA processing                         & 6.443605e-03                                                  &  -2.603140                                                    & 6.443605e-03                                                  & 3.682060e-02                                                  &  22                                                           & 6.443605e-03                                                 \\\\\n",
       "\\end{tabular}\n"
      ],
      "text/markdown": [
       "\n",
       "name | p.geomean | stat.mean | p.val | q.val | set.size | exp1 | \n",
       "|---|---|---|---|---|---|---|\n",
       "| GO:0006412 | translation                            | 2.470414e-37                                        | -15.881602                                          | 2.470414e-37                                        | 9.881654e-36                                        | 106                                                 | 2.470414e-37                                        | \n",
       "| GO:0006351 | transcription, DNA-templated           | 4.237494e-05                                        |  -4.155858                                          | 4.237494e-05                                        | 8.474989e-04                                        |  39                                                 | 4.237494e-05                                        | \n",
       "| GO:0006364 | rRNA processing                        | 1.441801e-04                                        |  -4.673456                                          | 1.441801e-04                                        | 1.922401e-03                                        |  10                                                 | 1.441801e-04                                        | \n",
       "| GO:0006413 | translational initiation               | 5.598652e-04                                        |  -3.662656                                          | 5.598652e-04                                        | 5.084740e-03                                        |  14                                                 | 5.598652e-04                                        | \n",
       "| GO:0044267 | cellular protein metabolic process     | 6.355925e-04                                        |  -3.934082                                          | 6.355925e-04                                        | 5.084740e-03                                        |  10                                                 | 6.355925e-04                                        | \n",
       "| GO:0015986 | ATP synthesis coupled proton transport | 4.720332e-03                                        |  -2.921311                                          | 4.720332e-03                                        | 3.146888e-02                                        |  10                                                 | 4.720332e-03                                        | \n",
       "| GO:0006396 | RNA processing                         | 6.443605e-03                                        |  -2.603140                                          | 6.443605e-03                                        | 3.682060e-02                                        |  22                                                 | 6.443605e-03                                        | \n",
       "\n",
       "\n"
      ],
      "text/plain": [
       "  name                                                p.geomean    stat.mean \n",
       "1 GO:0006412 | translation                            2.470414e-37 -15.881602\n",
       "2 GO:0006351 | transcription, DNA-templated           4.237494e-05  -4.155858\n",
       "3 GO:0006364 | rRNA processing                        1.441801e-04  -4.673456\n",
       "4 GO:0006413 | translational initiation               5.598652e-04  -3.662656\n",
       "5 GO:0044267 | cellular protein metabolic process     6.355925e-04  -3.934082\n",
       "6 GO:0015986 | ATP synthesis coupled proton transport 4.720332e-03  -2.921311\n",
       "7 GO:0006396 | RNA processing                         6.443605e-03  -2.603140\n",
       "  p.val        q.val        set.size exp1        \n",
       "1 2.470414e-37 9.881654e-36 106      2.470414e-37\n",
       "2 4.237494e-05 8.474989e-04  39      4.237494e-05\n",
       "3 1.441801e-04 1.922401e-03  10      1.441801e-04\n",
       "4 5.598652e-04 5.084740e-03  14      5.598652e-04\n",
       "5 6.355925e-04 5.084740e-03  10      6.355925e-04\n",
       "6 4.720332e-03 3.146888e-02  10      4.720332e-03\n",
       "7 6.443605e-03 3.682060e-02  22      6.443605e-03"
      ]
     },
     "metadata": {},
     "output_type": "display_data"
    }
   ],
   "source": [
    "less_media_h99"
   ]
  },
  {
   "cell_type": "code",
   "execution_count": 50,
   "metadata": {},
   "outputs": [
    {
     "data": {
      "text/html": [
       "<table>\n",
       "<thead><tr><th scope=col>name</th><th scope=col>p.geomean</th><th scope=col>stat.mean</th><th scope=col>p.val</th><th scope=col>q.val</th><th scope=col>set.size</th><th scope=col>exp1</th></tr></thead>\n",
       "<tbody>\n",
       "\t<tr><td>GO:0006412 | translation                           </td><td>4.496196e-39                                       </td><td>-17.202390                                         </td><td>4.496196e-39                                       </td><td>1.798478e-37                                       </td><td>106                                                </td><td>4.496196e-39                                       </td></tr>\n",
       "\t<tr><td>GO:0006351 | transcription, DNA-templated          </td><td>4.510585e-06                                       </td><td> -4.794394                                         </td><td>4.510585e-06                                       </td><td>9.021169e-05                                       </td><td> 39                                                </td><td>4.510585e-06                                       </td></tr>\n",
       "\t<tr><td>GO:0006364 | rRNA processing                       </td><td>2.998514e-05                                       </td><td> -5.209959                                         </td><td>2.998514e-05                                       </td><td>3.998019e-04                                       </td><td> 10                                                </td><td>2.998514e-05                                       </td></tr>\n",
       "\t<tr><td>GO:0006396 | RNA processing                        </td><td>8.519377e-04                                       </td><td> -3.357292                                         </td><td>8.519377e-04                                       </td><td>8.519377e-03                                       </td><td> 22                                                </td><td>8.519377e-04                                       </td></tr>\n",
       "\t<tr><td>GO:0006413 | translational initiation              </td><td>2.070595e-03                                       </td><td> -3.148294                                         </td><td>2.070595e-03                                       </td><td>1.656476e-02                                       </td><td> 14                                                </td><td>2.070595e-03                                       </td></tr>\n",
       "\t<tr><td>GO:0015986 | ATP synthesis coupled proton transport</td><td>3.148104e-03                                       </td><td> -3.242954                                         </td><td>3.148104e-03                                       </td><td>2.098736e-02                                       </td><td> 10                                                </td><td>3.148104e-03                                       </td></tr>\n",
       "\t<tr><td>GO:0044267 | cellular protein metabolic process    </td><td>6.867410e-03                                       </td><td> -2.744037                                         </td><td>6.867410e-03                                       </td><td>3.924234e-02                                       </td><td> 10                                                </td><td>6.867410e-03                                       </td></tr>\n",
       "</tbody>\n",
       "</table>\n"
      ],
      "text/latex": [
       "\\begin{tabular}{r|lllllll}\n",
       " name & p.geomean & stat.mean & p.val & q.val & set.size & exp1\\\\\n",
       "\\hline\n",
       "\t GO:0006412 \\textbar{} translation                            & 4.496196e-39                                                  & -17.202390                                                    & 4.496196e-39                                                  & 1.798478e-37                                                  & 106                                                           & 4.496196e-39                                                 \\\\\n",
       "\t GO:0006351 \\textbar{} transcription, DNA-templated           & 4.510585e-06                                                  &  -4.794394                                                    & 4.510585e-06                                                  & 9.021169e-05                                                  &  39                                                           & 4.510585e-06                                                 \\\\\n",
       "\t GO:0006364 \\textbar{} rRNA processing                        & 2.998514e-05                                                  &  -5.209959                                                    & 2.998514e-05                                                  & 3.998019e-04                                                  &  10                                                           & 2.998514e-05                                                 \\\\\n",
       "\t GO:0006396 \\textbar{} RNA processing                         & 8.519377e-04                                                  &  -3.357292                                                    & 8.519377e-04                                                  & 8.519377e-03                                                  &  22                                                           & 8.519377e-04                                                 \\\\\n",
       "\t GO:0006413 \\textbar{} translational initiation               & 2.070595e-03                                                  &  -3.148294                                                    & 2.070595e-03                                                  & 1.656476e-02                                                  &  14                                                           & 2.070595e-03                                                 \\\\\n",
       "\t GO:0015986 \\textbar{} ATP synthesis coupled proton transport & 3.148104e-03                                                  &  -3.242954                                                    & 3.148104e-03                                                  & 2.098736e-02                                                  &  10                                                           & 3.148104e-03                                                 \\\\\n",
       "\t GO:0044267 \\textbar{} cellular protein metabolic process     & 6.867410e-03                                                  &  -2.744037                                                    & 6.867410e-03                                                  & 3.924234e-02                                                  &  10                                                           & 6.867410e-03                                                 \\\\\n",
       "\\end{tabular}\n"
      ],
      "text/markdown": [
       "\n",
       "name | p.geomean | stat.mean | p.val | q.val | set.size | exp1 | \n",
       "|---|---|---|---|---|---|---|\n",
       "| GO:0006412 | translation                            | 4.496196e-39                                        | -17.202390                                          | 4.496196e-39                                        | 1.798478e-37                                        | 106                                                 | 4.496196e-39                                        | \n",
       "| GO:0006351 | transcription, DNA-templated           | 4.510585e-06                                        |  -4.794394                                          | 4.510585e-06                                        | 9.021169e-05                                        |  39                                                 | 4.510585e-06                                        | \n",
       "| GO:0006364 | rRNA processing                        | 2.998514e-05                                        |  -5.209959                                          | 2.998514e-05                                        | 3.998019e-04                                        |  10                                                 | 2.998514e-05                                        | \n",
       "| GO:0006396 | RNA processing                         | 8.519377e-04                                        |  -3.357292                                          | 8.519377e-04                                        | 8.519377e-03                                        |  22                                                 | 8.519377e-04                                        | \n",
       "| GO:0006413 | translational initiation               | 2.070595e-03                                        |  -3.148294                                          | 2.070595e-03                                        | 1.656476e-02                                        |  14                                                 | 2.070595e-03                                        | \n",
       "| GO:0015986 | ATP synthesis coupled proton transport | 3.148104e-03                                        |  -3.242954                                          | 3.148104e-03                                        | 2.098736e-02                                        |  10                                                 | 3.148104e-03                                        | \n",
       "| GO:0044267 | cellular protein metabolic process     | 6.867410e-03                                        |  -2.744037                                          | 6.867410e-03                                        | 3.924234e-02                                        |  10                                                 | 6.867410e-03                                        | \n",
       "\n",
       "\n"
      ],
      "text/plain": [
       "  name                                                p.geomean    stat.mean \n",
       "1 GO:0006412 | translation                            4.496196e-39 -17.202390\n",
       "2 GO:0006351 | transcription, DNA-templated           4.510585e-06  -4.794394\n",
       "3 GO:0006364 | rRNA processing                        2.998514e-05  -5.209959\n",
       "4 GO:0006396 | RNA processing                         8.519377e-04  -3.357292\n",
       "5 GO:0006413 | translational initiation               2.070595e-03  -3.148294\n",
       "6 GO:0015986 | ATP synthesis coupled proton transport 3.148104e-03  -3.242954\n",
       "7 GO:0044267 | cellular protein metabolic process     6.867410e-03  -2.744037\n",
       "  p.val        q.val        set.size exp1        \n",
       "1 4.496196e-39 1.798478e-37 106      4.496196e-39\n",
       "2 4.510585e-06 9.021169e-05  39      4.510585e-06\n",
       "3 2.998514e-05 3.998019e-04  10      2.998514e-05\n",
       "4 8.519377e-04 8.519377e-03  22      8.519377e-04\n",
       "5 2.070595e-03 1.656476e-02  14      2.070595e-03\n",
       "6 3.148104e-03 2.098736e-02  10      3.148104e-03\n",
       "7 6.867410e-03 3.924234e-02  10      6.867410e-03"
      ]
     },
     "metadata": {},
     "output_type": "display_data"
    }
   ],
   "source": [
    "less_media_mar"
   ]
  },
  {
   "cell_type": "code",
   "execution_count": 55,
   "metadata": {},
   "outputs": [
    {
     "data": {
      "text/html": [
       "<table>\n",
       "<thead><tr><th scope=col>name</th><th scope=col>p.geomean</th><th scope=col>stat.mean</th><th scope=col>p.val</th><th scope=col>q.val</th><th scope=col>set.size</th><th scope=col>exp1</th></tr></thead>\n",
       "<tbody>\n",
       "\t<tr><td>GO:0005975 | carbohydrate metabolic process</td><td>0.0005785902                               </td><td>-3.315923                                  </td><td>0.0005785902                               </td><td>0.02314361                                 </td><td>73                                         </td><td>0.0005785902                               </td></tr>\n",
       "</tbody>\n",
       "</table>\n"
      ],
      "text/latex": [
       "\\begin{tabular}{r|lllllll}\n",
       " name & p.geomean & stat.mean & p.val & q.val & set.size & exp1\\\\\n",
       "\\hline\n",
       "\t GO:0005975 \\textbar{} carbohydrate metabolic process & 0.0005785902                                          & -3.315923                                             & 0.0005785902                                          & 0.02314361                                            & 73                                                    & 0.0005785902                                         \\\\\n",
       "\\end{tabular}\n"
      ],
      "text/markdown": [
       "\n",
       "name | p.geomean | stat.mean | p.val | q.val | set.size | exp1 | \n",
       "|---|\n",
       "| GO:0005975 | carbohydrate metabolic process | 0.0005785902                                | -3.315923                                   | 0.0005785902                                | 0.02314361                                  | 73                                          | 0.0005785902                                | \n",
       "\n",
       "\n"
      ],
      "text/plain": [
       "  name                                        p.geomean    stat.mean\n",
       "1 GO:0005975 | carbohydrate metabolic process 0.0005785902 -3.315923\n",
       "  p.val        q.val      set.size exp1        \n",
       "1 0.0005785902 0.02314361 73       0.0005785902"
      ]
     },
     "metadata": {},
     "output_type": "display_data"
    }
   ],
   "source": [
    "less_strain_ypd"
   ]
  },
  {
   "cell_type": "code",
   "execution_count": 56,
   "metadata": {},
   "outputs": [
    {
     "data": {
      "text/html": [
       "<table>\n",
       "<thead><tr><th scope=col>name</th><th scope=col>p.geomean</th><th scope=col>stat.mean</th><th scope=col>p.val</th><th scope=col>q.val</th><th scope=col>set.size</th><th scope=col>exp1</th></tr></thead>\n",
       "<tbody>\n",
       "\t<tr><td>GO:0006886 | intracellular protein transport</td><td>0.000858987                                 </td><td>-3.208737                                   </td><td>0.000858987                                 </td><td>0.03435948                                  </td><td>63                                          </td><td>0.000858987                                 </td></tr>\n",
       "</tbody>\n",
       "</table>\n"
      ],
      "text/latex": [
       "\\begin{tabular}{r|lllllll}\n",
       " name & p.geomean & stat.mean & p.val & q.val & set.size & exp1\\\\\n",
       "\\hline\n",
       "\t GO:0006886 \\textbar{} intracellular protein transport & 0.000858987                                            & -3.208737                                              & 0.000858987                                            & 0.03435948                                             & 63                                                     & 0.000858987                                           \\\\\n",
       "\\end{tabular}\n"
      ],
      "text/markdown": [
       "\n",
       "name | p.geomean | stat.mean | p.val | q.val | set.size | exp1 | \n",
       "|---|\n",
       "| GO:0006886 | intracellular protein transport | 0.000858987                                  | -3.208737                                    | 0.000858987                                  | 0.03435948                                   | 63                                           | 0.000858987                                  | \n",
       "\n",
       "\n"
      ],
      "text/plain": [
       "  name                                         p.geomean   stat.mean\n",
       "1 GO:0006886 | intracellular protein transport 0.000858987 -3.208737\n",
       "  p.val       q.val      set.size exp1       \n",
       "1 0.000858987 0.03435948 63       0.000858987"
      ]
     },
     "metadata": {},
     "output_type": "display_data"
    }
   ],
   "source": [
    "less_strain_tc"
   ]
  },
  {
   "cell_type": "code",
   "execution_count": 145,
   "metadata": {},
   "outputs": [
    {
     "data": {
      "image/png": "[encoded data removed]",
      "text/plain": [
       "plot without title"
      ]
     },
     "metadata": {},
     "output_type": "display_data"
    }
   ],
   "source": [
    "options(repr.plot.width = 10, repr.plot.height = 3)\n",
    "\n",
    "tmp <- bind_rows(great_media_h99, less_media_h99) %>% arrange(stat.mean)\n",
    "tmp$name <- factor(tmp$name, levels = tmp$name)\n",
    "\n",
    "gp <- ggplot(tmp, aes(x = name, y = stat.mean)) + \n",
    "    geom_bar(stat=\"identity\") + \n",
    "    coord_flip() + theme_bw() + \n",
    "    labs(y = \"stat.mean\", x = \"Biological Process\") +\n",
    "    ggtitle(\"YPD -> TC | H99\")\n",
    "print(gp)"
   ]
  },
  {
   "cell_type": "code",
   "execution_count": 146,
   "metadata": {},
   "outputs": [
    {
     "data": {
      "image/png": "[encoded data removed]",
      "text/plain": [
       "plot without title"
      ]
     },
     "metadata": {},
     "output_type": "display_data"
    }
   ],
   "source": [
    "options(repr.plot.width = 10, repr.plot.height = 3)\n",
    "\n",
    "tmp <- bind_rows(great_media_mar, less_media_mar) %>% arrange(stat.mean)\n",
    "tmp$name <- factor(tmp$name, levels = tmp$name)\n",
    "\n",
    "gp <- ggplot(tmp, aes(x = name, y = stat.mean)) + \n",
    "    geom_bar(stat=\"identity\") + \n",
    "    coord_flip() + theme_bw() + \n",
    "    labs(y = \"stat.mean\", x = \"Biological Process\") +\n",
    "    ggtitle(\"YPD -> TC | mar1d\")\n",
    "print(gp)"
   ]
  },
  {
   "cell_type": "code",
   "execution_count": 147,
   "metadata": {},
   "outputs": [
    {
     "data": {
      "image/png": "[encoded data removed]",
      "text/plain": [
       "plot without title"
      ]
     },
     "metadata": {},
     "output_type": "display_data"
    }
   ],
   "source": [
    "options(repr.plot.width = 10, repr.plot.height = 3)\n",
    "\n",
    "tmp <- bind_rows(great_strain_ypd, less_strain_ypd) %>% arrange(stat.mean)\n",
    "tmp$name <- factor(tmp$name, levels = tmp$name)\n",
    "\n",
    "gp <- ggplot(tmp, aes(x = name, y = stat.mean)) + \n",
    "    geom_bar(stat=\"identity\") + \n",
    "    coord_flip() + theme_bw() + \n",
    "    labs(y = \"stat.mean\", x = \"Biological Process\") +\n",
    "    ggtitle(\"mar1d (mutant) vs H99 (WT) | YPD\")\n",
    "print(gp)"
   ]
  },
  {
   "cell_type": "code",
   "execution_count": 148,
   "metadata": {},
   "outputs": [
    {
     "data": {
      "image/png": "[encoded data removed]",
      "text/plain": [
       "plot without title"
      ]
     },
     "metadata": {},
     "output_type": "display_data"
    }
   ],
   "source": [
    "options(repr.plot.width = 10, repr.plot.height = 3)\n",
    "\n",
    "tmp <- bind_rows(great_strain_tc, less_strain_tc) %>% arrange(stat.mean)\n",
    "tmp$name <- factor(tmp$name, levels = tmp$name)\n",
    "\n",
    "gp <- ggplot(tmp, aes(x = name, y = stat.mean)) + \n",
    "    geom_bar(stat=\"identity\") + \n",
    "    coord_flip() + theme_bw() + \n",
    "    labs(y = \"stat.mean\", x = \"Biological Process\") +\n",
    "    ggtitle(\"mar1d (mutant) vs H99 (WT) | TC\")\n",
    "print(gp)"
   ]
  },
  {
   "cell_type": "code",
   "execution_count": null,
   "metadata": {},
   "outputs": [],
   "source": []
  },
  {
   "cell_type": "code",
   "execution_count": null,
   "metadata": {},
   "outputs": [],
   "source": []
  },
  {
   "cell_type": "code",
   "execution_count": null,
   "metadata": {},
   "outputs": [],
   "source": []
  },
  {
   "cell_type": "code",
   "execution_count": 22,
   "metadata": {},
   "outputs": [],
   "source": [
    "tmp1 <- gageres_media_h99$bp[[\"greater\"]]  %>% as.data.frame %>% rownames_to_column(\"name\") %>% filter(p.val < 0.05)\n",
    "tmp2 <- gageres_media_mar$bp[[\"greater\"]]  %>% as.data.frame %>% rownames_to_column(\"name\") %>% filter(p.val < 0.05)\n",
    "tmp3 <- gageres_strain_ypd$bp[[\"greater\"]] %>% as.data.frame %>% rownames_to_column(\"name\") %>% filter(p.val < 0.05)\n",
    "tmp4 <- gageres_strain_tc$bp[[\"greater\"]]  %>% as.data.frame %>% rownames_to_column(\"name\") %>% filter(p.val < 0.05)"
   ]
  },
  {
   "cell_type": "code",
   "execution_count": 28,
   "metadata": {},
   "outputs": [
    {
     "data": {
      "text/html": [
       "<table>\n",
       "<thead><tr><th scope=col>name</th><th scope=col>p.geomean</th><th scope=col>stat.mean</th><th scope=col>p.val</th><th scope=col>q.val</th><th scope=col>set.size</th><th scope=col>exp1</th></tr></thead>\n",
       "<tbody>\n",
       "\t<tr><td>GO:0005975 | carbohydrate metabolic process            </td><td>8.469824e-05                                           </td><td>3.863148                                               </td><td>8.469824e-05                                           </td><td>0.003387929                                            </td><td> 73                                                    </td><td>8.469824e-05                                           </td></tr>\n",
       "\t<tr><td>GO:0055085 | transmembrane transport                   </td><td>3.194852e-04                                           </td><td>3.439690                                               </td><td>3.194852e-04                                           </td><td>0.006389704                                            </td><td>217                                                    </td><td>3.194852e-04                                           </td></tr>\n",
       "\t<tr><td>GO:0006355 | regulation of transcription, DNA-templated</td><td>1.335641e-02                                           </td><td>2.224637                                               </td><td>1.335641e-02                                           </td><td>0.141595633                                            </td><td>185                                                    </td><td>1.335641e-02                                           </td></tr>\n",
       "\t<tr><td>GO:0006629 | lipid metabolic process                   </td><td>1.415956e-02                                           </td><td>2.302403                                               </td><td>1.415956e-02                                           </td><td>0.141595633                                            </td><td> 17                                                    </td><td>1.415956e-02                                           </td></tr>\n",
       "\t<tr><td>GO:0007165 | signal transduction                       </td><td>2.531501e-02                                           </td><td>2.038223                                               </td><td>2.531501e-02                                           </td><td>0.202520105                                            </td><td> 17                                                    </td><td>2.531501e-02                                           </td></tr>\n",
       "</tbody>\n",
       "</table>\n"
      ],
      "text/latex": [
       "\\begin{tabular}{r|lllllll}\n",
       " name & p.geomean & stat.mean & p.val & q.val & set.size & exp1\\\\\n",
       "\\hline\n",
       "\t GO:0005975 \\textbar{} carbohydrate metabolic process             & 8.469824e-05                                                      & 3.863148                                                          & 8.469824e-05                                                      & 0.003387929                                                       &  73                                                               & 8.469824e-05                                                     \\\\\n",
       "\t GO:0055085 \\textbar{} transmembrane transport                    & 3.194852e-04                                                      & 3.439690                                                          & 3.194852e-04                                                      & 0.006389704                                                       & 217                                                               & 3.194852e-04                                                     \\\\\n",
       "\t GO:0006355 \\textbar{} regulation of transcription, DNA-templated & 1.335641e-02                                                      & 2.224637                                                          & 1.335641e-02                                                      & 0.141595633                                                       & 185                                                               & 1.335641e-02                                                     \\\\\n",
       "\t GO:0006629 \\textbar{} lipid metabolic process                    & 1.415956e-02                                                      & 2.302403                                                          & 1.415956e-02                                                      & 0.141595633                                                       &  17                                                               & 1.415956e-02                                                     \\\\\n",
       "\t GO:0007165 \\textbar{} signal transduction                        & 2.531501e-02                                                      & 2.038223                                                          & 2.531501e-02                                                      & 0.202520105                                                       &  17                                                               & 2.531501e-02                                                     \\\\\n",
       "\\end{tabular}\n"
      ],
      "text/markdown": [
       "\n",
       "name | p.geomean | stat.mean | p.val | q.val | set.size | exp1 | \n",
       "|---|---|---|---|---|\n",
       "| GO:0005975 | carbohydrate metabolic process             | 8.469824e-05                                            | 3.863148                                                | 8.469824e-05                                            | 0.003387929                                             |  73                                                     | 8.469824e-05                                            | \n",
       "| GO:0055085 | transmembrane transport                    | 3.194852e-04                                            | 3.439690                                                | 3.194852e-04                                            | 0.006389704                                             | 217                                                     | 3.194852e-04                                            | \n",
       "| GO:0006355 | regulation of transcription, DNA-templated | 1.335641e-02                                            | 2.224637                                                | 1.335641e-02                                            | 0.141595633                                             | 185                                                     | 1.335641e-02                                            | \n",
       "| GO:0006629 | lipid metabolic process                    | 1.415956e-02                                            | 2.302403                                                | 1.415956e-02                                            | 0.141595633                                             |  17                                                     | 1.415956e-02                                            | \n",
       "| GO:0007165 | signal transduction                        | 2.531501e-02                                            | 2.038223                                                | 2.531501e-02                                            | 0.202520105                                             |  17                                                     | 2.531501e-02                                            | \n",
       "\n",
       "\n"
      ],
      "text/plain": [
       "  name                                                    p.geomean   \n",
       "1 GO:0005975 | carbohydrate metabolic process             8.469824e-05\n",
       "2 GO:0055085 | transmembrane transport                    3.194852e-04\n",
       "3 GO:0006355 | regulation of transcription, DNA-templated 1.335641e-02\n",
       "4 GO:0006629 | lipid metabolic process                    1.415956e-02\n",
       "5 GO:0007165 | signal transduction                        2.531501e-02\n",
       "  stat.mean p.val        q.val       set.size exp1        \n",
       "1 3.863148  8.469824e-05 0.003387929  73      8.469824e-05\n",
       "2 3.439690  3.194852e-04 0.006389704 217      3.194852e-04\n",
       "3 2.224637  1.335641e-02 0.141595633 185      1.335641e-02\n",
       "4 2.302403  1.415956e-02 0.141595633  17      1.415956e-02\n",
       "5 2.038223  2.531501e-02 0.202520105  17      2.531501e-02"
      ]
     },
     "metadata": {},
     "output_type": "display_data"
    }
   ],
   "source": [
    "tmp1"
   ]
  },
  {
   "cell_type": "code",
   "execution_count": 34,
   "metadata": {},
   "outputs": [
    {
     "data": {
      "text/html": [
       "<table>\n",
       "<thead><tr><th scope=col>name</th><th scope=col>p.geomean</th><th scope=col>stat.mean</th><th scope=col>p.val</th><th scope=col>q.val</th><th scope=col>set.size</th><th scope=col>exp1</th></tr></thead>\n",
       "<tbody>\n",
       "\t<tr><td>GO:0005737 | cytoplasm</td><td>0.04580827            </td><td>1.694553              </td><td>0.04580827            </td><td>0.4122744             </td><td>108                   </td><td>0.04580827            </td></tr>\n",
       "</tbody>\n",
       "</table>\n"
      ],
      "text/latex": [
       "\\begin{tabular}{r|lllllll}\n",
       " name & p.geomean & stat.mean & p.val & q.val & set.size & exp1\\\\\n",
       "\\hline\n",
       "\t GO:0005737 \\textbar{} cytoplasm & 0.04580827                       & 1.694553                         & 0.04580827                       & 0.4122744                        & 108                              & 0.04580827                      \\\\\n",
       "\\end{tabular}\n"
      ],
      "text/markdown": [
       "\n",
       "name | p.geomean | stat.mean | p.val | q.val | set.size | exp1 | \n",
       "|---|\n",
       "| GO:0005737 | cytoplasm | 0.04580827             | 1.694553               | 0.04580827             | 0.4122744              | 108                    | 0.04580827             | \n",
       "\n",
       "\n"
      ],
      "text/plain": [
       "  name                   p.geomean  stat.mean p.val      q.val     set.size\n",
       "1 GO:0005737 | cytoplasm 0.04580827 1.694553  0.04580827 0.4122744 108     \n",
       "  exp1      \n",
       "1 0.04580827"
      ]
     },
     "metadata": {},
     "output_type": "display_data"
    }
   ],
   "source": [
    "tmp4"
   ]
  },
  {
   "cell_type": "code",
   "execution_count": 24,
   "metadata": {},
   "outputs": [
    {
     "name": "stdout",
     "output_type": "stream",
     "text": [
      "[1] \"GO:0008152 | metabolic process\"\n"
     ]
    }
   ],
   "source": [
    "print(setdiff(tmp2$name, tmp1$name) %>% sort)"
   ]
  },
  {
   "cell_type": "code",
   "execution_count": 25,
   "metadata": {},
   "outputs": [
    {
     "name": "stdout",
     "output_type": "stream",
     "text": [
      "[1] \"GO:0006281 | DNA repair\"        \"GO:0006457 | protein folding\"  \n",
      "[3] \"GO:0007049 | cell cycle\"        \"GO:0008152 | metabolic process\"\n"
     ]
    }
   ],
   "source": [
    "print(setdiff(tmp4$name, tmp3$name) %>% sort)"
   ]
  },
  {
   "cell_type": "code",
   "execution_count": null,
   "metadata": {},
   "outputs": [],
   "source": []
  },
  {
   "cell_type": "code",
   "execution_count": 29,
   "metadata": {},
   "outputs": [],
   "source": [
    "tmp1 <- gageres_media_h99$cc[[\"greater\"]]  %>% as.data.frame %>% rownames_to_column(\"name\") %>% filter(p.val < 0.05)\n",
    "tmp2 <- gageres_media_mar$cc[[\"greater\"]]  %>% as.data.frame %>% rownames_to_column(\"name\") %>% filter(p.val < 0.05)\n",
    "tmp3 <- gageres_strain_ypd$cc[[\"greater\"]] %>% as.data.frame %>% rownames_to_column(\"name\") %>% filter(p.val < 0.05)\n",
    "tmp4 <- gageres_strain_tc$cc[[\"greater\"]]  %>% as.data.frame %>% rownames_to_column(\"name\") %>% filter(p.val < 0.05)"
   ]
  },
  {
   "cell_type": "code",
   "execution_count": 32,
   "metadata": {},
   "outputs": [
    {
     "data": {
      "text/html": [
       "<table>\n",
       "<thead><tr><th scope=col>name</th><th scope=col>p.geomean</th><th scope=col>stat.mean</th><th scope=col>p.val</th><th scope=col>q.val</th><th scope=col>set.size</th><th scope=col>exp1</th></tr></thead>\n",
       "<tbody>\n",
       "\t<tr><td>GO:0016021 | integral component of membrane</td><td>4.015234e-06                               </td><td>4.498759                                   </td><td>4.015234e-06                               </td><td>0.0000361371                               </td><td>343                                        </td><td>4.015234e-06                               </td></tr>\n",
       "\t<tr><td>GO:0016020 | membrane                      </td><td>1.578143e-02                               </td><td>2.160686                                   </td><td>1.578143e-02                               </td><td>0.0710164504                               </td><td>142                                        </td><td>1.578143e-02                               </td></tr>\n",
       "</tbody>\n",
       "</table>\n"
      ],
      "text/latex": [
       "\\begin{tabular}{r|lllllll}\n",
       " name & p.geomean & stat.mean & p.val & q.val & set.size & exp1\\\\\n",
       "\\hline\n",
       "\t GO:0016021 \\textbar{} integral component of membrane & 4.015234e-06                                          & 4.498759                                              & 4.015234e-06                                          & 0.0000361371                                          & 343                                                   & 4.015234e-06                                         \\\\\n",
       "\t GO:0016020 \\textbar{} membrane                       & 1.578143e-02                                          & 2.160686                                              & 1.578143e-02                                          & 0.0710164504                                          & 142                                                   & 1.578143e-02                                         \\\\\n",
       "\\end{tabular}\n"
      ],
      "text/markdown": [
       "\n",
       "name | p.geomean | stat.mean | p.val | q.val | set.size | exp1 | \n",
       "|---|---|\n",
       "| GO:0016021 | integral component of membrane | 4.015234e-06                                | 4.498759                                    | 4.015234e-06                                | 0.0000361371                                | 343                                         | 4.015234e-06                                | \n",
       "| GO:0016020 | membrane                       | 1.578143e-02                                | 2.160686                                    | 1.578143e-02                                | 0.0710164504                                | 142                                         | 1.578143e-02                                | \n",
       "\n",
       "\n"
      ],
      "text/plain": [
       "  name                                        p.geomean    stat.mean\n",
       "1 GO:0016021 | integral component of membrane 4.015234e-06 4.498759 \n",
       "2 GO:0016020 | membrane                       1.578143e-02 2.160686 \n",
       "  p.val        q.val        set.size exp1        \n",
       "1 4.015234e-06 0.0000361371 343      4.015234e-06\n",
       "2 1.578143e-02 0.0710164504 142      1.578143e-02"
      ]
     },
     "metadata": {},
     "output_type": "display_data"
    }
   ],
   "source": [
    "tmp1"
   ]
  },
  {
   "cell_type": "code",
   "execution_count": 33,
   "metadata": {},
   "outputs": [
    {
     "data": {
      "text/html": [
       "<table>\n",
       "<thead><tr><th scope=col>name</th><th scope=col>p.geomean</th><th scope=col>stat.mean</th><th scope=col>p.val</th><th scope=col>q.val</th><th scope=col>set.size</th><th scope=col>exp1</th></tr></thead>\n",
       "<tbody>\n",
       "\t<tr><td>GO:0005737 | cytoplasm</td><td>0.04580827            </td><td>1.694553              </td><td>0.04580827            </td><td>0.4122744             </td><td>108                   </td><td>0.04580827            </td></tr>\n",
       "</tbody>\n",
       "</table>\n"
      ],
      "text/latex": [
       "\\begin{tabular}{r|lllllll}\n",
       " name & p.geomean & stat.mean & p.val & q.val & set.size & exp1\\\\\n",
       "\\hline\n",
       "\t GO:0005737 \\textbar{} cytoplasm & 0.04580827                       & 1.694553                         & 0.04580827                       & 0.4122744                        & 108                              & 0.04580827                      \\\\\n",
       "\\end{tabular}\n"
      ],
      "text/markdown": [
       "\n",
       "name | p.geomean | stat.mean | p.val | q.val | set.size | exp1 | \n",
       "|---|\n",
       "| GO:0005737 | cytoplasm | 0.04580827             | 1.694553               | 0.04580827             | 0.4122744              | 108                    | 0.04580827             | \n",
       "\n",
       "\n"
      ],
      "text/plain": [
       "  name                   p.geomean  stat.mean p.val      q.val     set.size\n",
       "1 GO:0005737 | cytoplasm 0.04580827 1.694553  0.04580827 0.4122744 108     \n",
       "  exp1      \n",
       "1 0.04580827"
      ]
     },
     "metadata": {},
     "output_type": "display_data"
    }
   ],
   "source": [
    "tmp4"
   ]
  },
  {
   "cell_type": "code",
   "execution_count": 30,
   "metadata": {},
   "outputs": [
    {
     "name": "stdout",
     "output_type": "stream",
     "text": [
      "character(0)\n"
     ]
    }
   ],
   "source": [
    "print(setdiff(tmp2$name, tmp1$name) %>% sort)"
   ]
  },
  {
   "cell_type": "code",
   "execution_count": 31,
   "metadata": {},
   "outputs": [
    {
     "name": "stdout",
     "output_type": "stream",
     "text": [
      "character(0)\n"
     ]
    }
   ],
   "source": [
    "print(setdiff(tmp4$name, tmp3$name) %>% sort)"
   ]
  },
  {
   "cell_type": "code",
   "execution_count": null,
   "metadata": {},
   "outputs": [],
   "source": []
  },
  {
   "cell_type": "code",
   "execution_count": null,
   "metadata": {},
   "outputs": [],
   "source": []
  },
  {
   "cell_type": "code",
   "execution_count": null,
   "metadata": {},
   "outputs": [],
   "source": []
  },
  {
   "cell_type": "code",
   "execution_count": null,
   "metadata": {},
   "outputs": [],
   "source": []
  },
  {
   "cell_type": "code",
   "execution_count": null,
   "metadata": {},
   "outputs": [],
   "source": []
  },
  {
   "cell_type": "code",
   "execution_count": null,
   "metadata": {},
   "outputs": [],
   "source": []
  }
 ],
 "metadata": {
  "kernelspec": {
   "display_name": "R",
   "language": "R",
   "name": "ir"
  },
  "language_info": {
   "codemirror_mode": "r",
   "file_extension": ".r",
   "mimetype": "text/x-r-source",
   "name": "R",
   "pygments_lexer": "r",
   "version": "3.4.1"
  }
 },
 "nbformat": 4,
 "nbformat_minor": 2
}
