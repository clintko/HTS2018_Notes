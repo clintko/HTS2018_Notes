{
 "cells": [
  {
   "cell_type": "markdown",
   "metadata": {},
   "source": [
    "- 00_Setup\n",
    "- 01_indexing_genome\n",
    "- 02_process_one_file\n",
    "- 03_process_groupB_files\n",
    "- 11_read_counts\n",
    "- 12_DESeq_model\n",
    "    - model\n",
    "        - additive\n",
    "        - multiplicative\n",
    "    - normalization\n",
    "        - rlog, vst\n",
    "- 13_explor??\n",
    "    - slides stat-network\n",
    "        - distribution\n",
    "        - rank(mean) vs sd\n",
    "    - clustering dendrogram\n",
    "    - PCA, tsne\n",
    "    - heatmap???\n",
    "- 21_differential_expression\n",
    "    - volcano plot\n",
    "    - DE plot\n",
    "    - \n",
    "- 22_coexp_network\n",
    "    - igraph\n",
    "- 23_gene_set_analysis\n",
    "    - GO biological process\n",
    "    - KEGG"
   ]
  }
 ],
 "metadata": {
  "kernelspec": {
   "display_name": "Bash",
   "language": "bash",
   "name": "bash"
  },
  "language_info": {
   "codemirror_mode": "shell",
   "file_extension": ".sh",
   "mimetype": "text/x-sh",
   "name": "bash"
  }
 },
 "nbformat": 4,
 "nbformat_minor": 2
}
