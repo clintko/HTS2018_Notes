{
 "cells": [
  {
   "cell_type": "markdown",
   "metadata": {},
   "source": [
    "# Set environment"
   ]
  },
  {
   "cell_type": "code",
   "execution_count": 1,
   "metadata": {
    "scrolled": true
   },
   "outputs": [
    {
     "name": "stderr",
     "output_type": "stream",
     "text": [
      "Loading tidyverse: ggplot2\n",
      "Loading tidyverse: tibble\n",
      "Loading tidyverse: tidyr\n",
      "Loading tidyverse: readr\n",
      "Loading tidyverse: purrr\n",
      "Loading tidyverse: dplyr\n",
      "Conflicts with tidy packages ---------------------------------------------------\n",
      "filter(): dplyr, stats\n",
      "lag():    dplyr, stats\n",
      "Loading required package: S4Vectors\n",
      "Loading required package: stats4\n",
      "Loading required package: BiocGenerics\n",
      "Loading required package: parallel\n",
      "\n",
      "Attaching package: ‘BiocGenerics’\n",
      "\n",
      "The following objects are masked from ‘package:parallel’:\n",
      "\n",
      "    clusterApply, clusterApplyLB, clusterCall, clusterEvalQ,\n",
      "    clusterExport, clusterMap, parApply, parCapply, parLapply,\n",
      "    parLapplyLB, parRapply, parSapply, parSapplyLB\n",
      "\n",
      "The following objects are masked from ‘package:dplyr’:\n",
      "\n",
      "    combine, intersect, setdiff, union\n",
      "\n",
      "The following objects are masked from ‘package:stats’:\n",
      "\n",
      "    IQR, mad, sd, var, xtabs\n",
      "\n",
      "The following objects are masked from ‘package:base’:\n",
      "\n",
      "    anyDuplicated, append, as.data.frame, cbind, colMeans, colnames,\n",
      "    colSums, do.call, duplicated, eval, evalq, Filter, Find, get, grep,\n",
      "    grepl, intersect, is.unsorted, lapply, lengths, Map, mapply, match,\n",
      "    mget, order, paste, pmax, pmax.int, pmin, pmin.int, Position, rank,\n",
      "    rbind, Reduce, rowMeans, rownames, rowSums, sapply, setdiff, sort,\n",
      "    table, tapply, union, unique, unsplit, which, which.max, which.min\n",
      "\n",
      "\n",
      "Attaching package: ‘S4Vectors’\n",
      "\n",
      "The following objects are masked from ‘package:dplyr’:\n",
      "\n",
      "    first, rename\n",
      "\n",
      "The following object is masked from ‘package:tidyr’:\n",
      "\n",
      "    expand\n",
      "\n",
      "The following object is masked from ‘package:base’:\n",
      "\n",
      "    expand.grid\n",
      "\n",
      "Loading required package: IRanges\n",
      "\n",
      "Attaching package: ‘IRanges’\n",
      "\n",
      "The following objects are masked from ‘package:dplyr’:\n",
      "\n",
      "    collapse, desc, slice\n",
      "\n",
      "The following object is masked from ‘package:purrr’:\n",
      "\n",
      "    reduce\n",
      "\n",
      "Loading required package: GenomicRanges\n",
      "Loading required package: GenomeInfoDb\n",
      "Loading required package: SummarizedExperiment\n",
      "Loading required package: Biobase\n",
      "Welcome to Bioconductor\n",
      "\n",
      "    Vignettes contain introductory material; view with\n",
      "    'browseVignettes()'. To cite Bioconductor, see\n",
      "    'citation(\"Biobase\")', and for packages 'citation(\"pkgname\")'.\n",
      "\n",
      "Loading required package: DelayedArray\n",
      "Loading required package: matrixStats\n",
      "\n",
      "Attaching package: ‘matrixStats’\n",
      "\n",
      "The following objects are masked from ‘package:Biobase’:\n",
      "\n",
      "    anyMissing, rowMedians\n",
      "\n",
      "The following object is masked from ‘package:dplyr’:\n",
      "\n",
      "    count\n",
      "\n",
      "\n",
      "Attaching package: ‘DelayedArray’\n",
      "\n",
      "The following objects are masked from ‘package:matrixStats’:\n",
      "\n",
      "    colMaxs, colMins, colRanges, rowMaxs, rowMins, rowRanges\n",
      "\n",
      "The following object is masked from ‘package:base’:\n",
      "\n",
      "    apply\n",
      "\n",
      "\n",
      "Attaching package: ‘plotly’\n",
      "\n",
      "The following object is masked from ‘package:IRanges’:\n",
      "\n",
      "    slice\n",
      "\n",
      "The following object is masked from ‘package:S4Vectors’:\n",
      "\n",
      "    rename\n",
      "\n",
      "The following object is masked from ‘package:ggplot2’:\n",
      "\n",
      "    last_plot\n",
      "\n",
      "The following object is masked from ‘package:stats’:\n",
      "\n",
      "    filter\n",
      "\n",
      "The following object is masked from ‘package:graphics’:\n",
      "\n",
      "    layout\n",
      "\n"
     ]
    }
   ],
   "source": [
    "source(\"config_path.R\")"
   ]
  },
  {
   "cell_type": "markdown",
   "metadata": {},
   "source": [
    "# Import Data"
   ]
  },
  {
   "cell_type": "code",
   "execution_count": 2,
   "metadata": {},
   "outputs": [],
   "source": [
    "attach(file.path(OUTDIR, \"HTS-GroupAll-DESeq.RData\"))"
   ]
  },
  {
   "cell_type": "code",
   "execution_count": 6,
   "metadata": {},
   "outputs": [
    {
     "name": "stderr",
     "output_type": "stream",
     "text": [
      "The following objects are masked from file:/shared_space/TA_clint/analysis_output/out/HTS-GO-Info.RData (pos = 3):\n",
      "\n",
      "    dat_go_bp_annot, dat_go_cc_annot, dat_go_cne_h99, dat_go_fc_annot,\n",
      "    dat_go_info_bp, dat_go_info_cc, dat_go_info_fc\n",
      "\n"
     ]
    }
   ],
   "source": [
    "attach(file.path(OUTDIR, \"HTS-GO-Info.RData\"))"
   ]
  },
  {
   "cell_type": "code",
   "execution_count": 10,
   "metadata": {},
   "outputs": [],
   "source": [
    "gage_wrapper <- function(rld, gset, crt, trt){\n",
    "    gage::gage(\n",
    "        assay(rld),\n",
    "        gsets = gset,\n",
    "        use.fold = FALSE,\n",
    "                      \n",
    "        ### reference condition or phenotype \n",
    "        ### (i.e. the control group) \n",
    "        ref  = which(colData(rld)[[\"Group\"]] == crt), \n",
    "    \n",
    "        ### a numeric vector of column numbers for \n",
    "        ### the target condition or phenotype \n",
    "        ### (i.e.the experiment group)\n",
    "        samp = which(colData(rld)[[\"Group\"]] == trt),\n",
    "        compare = \"unpaired\",\n",
    "                        \n",
    "        ### he effective gene set size, \n",
    "        ### i.e. the number of genes included in the gene set test\n",
    "        set.size = c(10, 500),\n",
    "                      \n",
    "        ### provide two sided test \"greater\" & \"less\"\n",
    "        same.dir = TRUE)\n",
    "} # end func"
   ]
  },
  {
   "cell_type": "markdown",
   "metadata": {},
   "source": [
    "# 01 YPD -> TC in H99"
   ]
  },
  {
   "cell_type": "code",
   "execution_count": 17,
   "metadata": {},
   "outputs": [],
   "source": [
    "gageres_media_h99 <- list()\n",
    "gageres_media_h99$bp <- gage_wrapper(rlgexp, gset_go_bp, \"YPDH99\", \"TCH99\")\n",
    "gageres_media_h99$fc <- gage_wrapper(rlgexp, gset_go_fc, \"YPDH99\", \"TCH99\")\n",
    "gageres_media_h99$cc <- gage_wrapper(rlgexp, gset_go_cc, \"YPDH99\", \"TCH99\")"
   ]
  },
  {
   "cell_type": "markdown",
   "metadata": {},
   "source": [
    "# 02 YPD -> TC in mar1d"
   ]
  },
  {
   "cell_type": "code",
   "execution_count": 18,
   "metadata": {},
   "outputs": [],
   "source": [
    "gageres_media_mar <- list()\n",
    "gageres_media_mar$bp <- gage_wrapper(rlgexp, gset_go_bp, \"YPDmar1d\", \"TCmar1d\")\n",
    "gageres_media_mar$fc <- gage_wrapper(rlgexp, gset_go_fc, \"YPDmar1d\", \"TCmar1d\")\n",
    "gageres_media_mar$cc <- gage_wrapper(rlgexp, gset_go_cc, \"YPDmar1d\", \"TCmar1d\")"
   ]
  },
  {
   "cell_type": "markdown",
   "metadata": {},
   "source": [
    "# 03 H99 vs mar1d in YPD"
   ]
  },
  {
   "cell_type": "code",
   "execution_count": 19,
   "metadata": {},
   "outputs": [],
   "source": [
    "gageres_strain_ypd <- list()\n",
    "gageres_strain_ypd$bp <- gage_wrapper(rlgexp, gset_go_bp, \"YPDH99\", \"YPDmar1d\")\n",
    "gageres_strain_ypd$fc <- gage_wrapper(rlgexp, gset_go_fc, \"YPDH99\", \"YPDmar1d\")\n",
    "gageres_strain_ypd$cc <- gage_wrapper(rlgexp, gset_go_cc, \"YPDH99\", \"YPDmar1d\")"
   ]
  },
  {
   "cell_type": "markdown",
   "metadata": {},
   "source": [
    "# 04 H99 vs mar1d in TC"
   ]
  },
  {
   "cell_type": "code",
   "execution_count": 20,
   "metadata": {},
   "outputs": [],
   "source": [
    "gageres_strain_tc <- list()\n",
    "gageres_strain_tc$bp <- gage_wrapper(rlgexp, gset_go_bp, \"TCH99\", \"TCmar1d\")\n",
    "gageres_strain_tc$fc <- gage_wrapper(rlgexp, gset_go_fc, \"TCH99\", \"TCmar1d\")\n",
    "gageres_strain_tc$cc <- gage_wrapper(rlgexp, gset_go_cc, \"TCH99\", \"TCmar1d\")"
   ]
  },
  {
   "cell_type": "markdown",
   "metadata": {},
   "source": [
    "# Compare"
   ]
  },
  {
   "cell_type": "code",
   "execution_count": 22,
   "metadata": {},
   "outputs": [],
   "source": [
    "tmp1 <- gageres_media_h99$bp[[\"greater\"]]  %>% as.data.frame %>% rownames_to_column(\"name\") %>% filter(p.val < 0.05)\n",
    "tmp2 <- gageres_media_mar$bp[[\"greater\"]]  %>% as.data.frame %>% rownames_to_column(\"name\") %>% filter(p.val < 0.05)\n",
    "tmp3 <- gageres_strain_ypd$bp[[\"greater\"]] %>% as.data.frame %>% rownames_to_column(\"name\") %>% filter(p.val < 0.05)\n",
    "tmp4 <- gageres_strain_tc$bp[[\"greater\"]]  %>% as.data.frame %>% rownames_to_column(\"name\") %>% filter(p.val < 0.05)"
   ]
  },
  {
   "cell_type": "code",
   "execution_count": 28,
   "metadata": {},
   "outputs": [
    {
     "data": {
      "text/html": [
       "<table>\n",
       "<thead><tr><th scope=col>name</th><th scope=col>p.geomean</th><th scope=col>stat.mean</th><th scope=col>p.val</th><th scope=col>q.val</th><th scope=col>set.size</th><th scope=col>exp1</th></tr></thead>\n",
       "<tbody>\n",
       "\t<tr><td>GO:0005975 | carbohydrate metabolic process            </td><td>8.469824e-05                                           </td><td>3.863148                                               </td><td>8.469824e-05                                           </td><td>0.003387929                                            </td><td> 73                                                    </td><td>8.469824e-05                                           </td></tr>\n",
       "\t<tr><td>GO:0055085 | transmembrane transport                   </td><td>3.194852e-04                                           </td><td>3.439690                                               </td><td>3.194852e-04                                           </td><td>0.006389704                                            </td><td>217                                                    </td><td>3.194852e-04                                           </td></tr>\n",
       "\t<tr><td>GO:0006355 | regulation of transcription, DNA-templated</td><td>1.335641e-02                                           </td><td>2.224637                                               </td><td>1.335641e-02                                           </td><td>0.141595633                                            </td><td>185                                                    </td><td>1.335641e-02                                           </td></tr>\n",
       "\t<tr><td>GO:0006629 | lipid metabolic process                   </td><td>1.415956e-02                                           </td><td>2.302403                                               </td><td>1.415956e-02                                           </td><td>0.141595633                                            </td><td> 17                                                    </td><td>1.415956e-02                                           </td></tr>\n",
       "\t<tr><td>GO:0007165 | signal transduction                       </td><td>2.531501e-02                                           </td><td>2.038223                                               </td><td>2.531501e-02                                           </td><td>0.202520105                                            </td><td> 17                                                    </td><td>2.531501e-02                                           </td></tr>\n",
       "</tbody>\n",
       "</table>\n"
      ],
      "text/latex": [
       "\\begin{tabular}{r|lllllll}\n",
       " name & p.geomean & stat.mean & p.val & q.val & set.size & exp1\\\\\n",
       "\\hline\n",
       "\t GO:0005975 \\textbar{} carbohydrate metabolic process             & 8.469824e-05                                                      & 3.863148                                                          & 8.469824e-05                                                      & 0.003387929                                                       &  73                                                               & 8.469824e-05                                                     \\\\\n",
       "\t GO:0055085 \\textbar{} transmembrane transport                    & 3.194852e-04                                                      & 3.439690                                                          & 3.194852e-04                                                      & 0.006389704                                                       & 217                                                               & 3.194852e-04                                                     \\\\\n",
       "\t GO:0006355 \\textbar{} regulation of transcription, DNA-templated & 1.335641e-02                                                      & 2.224637                                                          & 1.335641e-02                                                      & 0.141595633                                                       & 185                                                               & 1.335641e-02                                                     \\\\\n",
       "\t GO:0006629 \\textbar{} lipid metabolic process                    & 1.415956e-02                                                      & 2.302403                                                          & 1.415956e-02                                                      & 0.141595633                                                       &  17                                                               & 1.415956e-02                                                     \\\\\n",
       "\t GO:0007165 \\textbar{} signal transduction                        & 2.531501e-02                                                      & 2.038223                                                          & 2.531501e-02                                                      & 0.202520105                                                       &  17                                                               & 2.531501e-02                                                     \\\\\n",
       "\\end{tabular}\n"
      ],
      "text/markdown": [
       "\n",
       "name | p.geomean | stat.mean | p.val | q.val | set.size | exp1 | \n",
       "|---|---|---|---|---|\n",
       "| GO:0005975 | carbohydrate metabolic process             | 8.469824e-05                                            | 3.863148                                                | 8.469824e-05                                            | 0.003387929                                             |  73                                                     | 8.469824e-05                                            | \n",
       "| GO:0055085 | transmembrane transport                    | 3.194852e-04                                            | 3.439690                                                | 3.194852e-04                                            | 0.006389704                                             | 217                                                     | 3.194852e-04                                            | \n",
       "| GO:0006355 | regulation of transcription, DNA-templated | 1.335641e-02                                            | 2.224637                                                | 1.335641e-02                                            | 0.141595633                                             | 185                                                     | 1.335641e-02                                            | \n",
       "| GO:0006629 | lipid metabolic process                    | 1.415956e-02                                            | 2.302403                                                | 1.415956e-02                                            | 0.141595633                                             |  17                                                     | 1.415956e-02                                            | \n",
       "| GO:0007165 | signal transduction                        | 2.531501e-02                                            | 2.038223                                                | 2.531501e-02                                            | 0.202520105                                             |  17                                                     | 2.531501e-02                                            | \n",
       "\n",
       "\n"
      ],
      "text/plain": [
       "  name                                                    p.geomean   \n",
       "1 GO:0005975 | carbohydrate metabolic process             8.469824e-05\n",
       "2 GO:0055085 | transmembrane transport                    3.194852e-04\n",
       "3 GO:0006355 | regulation of transcription, DNA-templated 1.335641e-02\n",
       "4 GO:0006629 | lipid metabolic process                    1.415956e-02\n",
       "5 GO:0007165 | signal transduction                        2.531501e-02\n",
       "  stat.mean p.val        q.val       set.size exp1        \n",
       "1 3.863148  8.469824e-05 0.003387929  73      8.469824e-05\n",
       "2 3.439690  3.194852e-04 0.006389704 217      3.194852e-04\n",
       "3 2.224637  1.335641e-02 0.141595633 185      1.335641e-02\n",
       "4 2.302403  1.415956e-02 0.141595633  17      1.415956e-02\n",
       "5 2.038223  2.531501e-02 0.202520105  17      2.531501e-02"
      ]
     },
     "metadata": {},
     "output_type": "display_data"
    }
   ],
   "source": [
    "tmp1"
   ]
  },
  {
   "cell_type": "code",
   "execution_count": 34,
   "metadata": {},
   "outputs": [
    {
     "data": {
      "text/html": [
       "<table>\n",
       "<thead><tr><th scope=col>name</th><th scope=col>p.geomean</th><th scope=col>stat.mean</th><th scope=col>p.val</th><th scope=col>q.val</th><th scope=col>set.size</th><th scope=col>exp1</th></tr></thead>\n",
       "<tbody>\n",
       "\t<tr><td>GO:0005737 | cytoplasm</td><td>0.04580827            </td><td>1.694553              </td><td>0.04580827            </td><td>0.4122744             </td><td>108                   </td><td>0.04580827            </td></tr>\n",
       "</tbody>\n",
       "</table>\n"
      ],
      "text/latex": [
       "\\begin{tabular}{r|lllllll}\n",
       " name & p.geomean & stat.mean & p.val & q.val & set.size & exp1\\\\\n",
       "\\hline\n",
       "\t GO:0005737 \\textbar{} cytoplasm & 0.04580827                       & 1.694553                         & 0.04580827                       & 0.4122744                        & 108                              & 0.04580827                      \\\\\n",
       "\\end{tabular}\n"
      ],
      "text/markdown": [
       "\n",
       "name | p.geomean | stat.mean | p.val | q.val | set.size | exp1 | \n",
       "|---|\n",
       "| GO:0005737 | cytoplasm | 0.04580827             | 1.694553               | 0.04580827             | 0.4122744              | 108                    | 0.04580827             | \n",
       "\n",
       "\n"
      ],
      "text/plain": [
       "  name                   p.geomean  stat.mean p.val      q.val     set.size\n",
       "1 GO:0005737 | cytoplasm 0.04580827 1.694553  0.04580827 0.4122744 108     \n",
       "  exp1      \n",
       "1 0.04580827"
      ]
     },
     "metadata": {},
     "output_type": "display_data"
    }
   ],
   "source": [
    "tmp4"
   ]
  },
  {
   "cell_type": "code",
   "execution_count": 24,
   "metadata": {},
   "outputs": [
    {
     "name": "stdout",
     "output_type": "stream",
     "text": [
      "[1] \"GO:0008152 | metabolic process\"\n"
     ]
    }
   ],
   "source": [
    "print(setdiff(tmp2$name, tmp1$name) %>% sort)"
   ]
  },
  {
   "cell_type": "code",
   "execution_count": 25,
   "metadata": {},
   "outputs": [
    {
     "name": "stdout",
     "output_type": "stream",
     "text": [
      "[1] \"GO:0006281 | DNA repair\"        \"GO:0006457 | protein folding\"  \n",
      "[3] \"GO:0007049 | cell cycle\"        \"GO:0008152 | metabolic process\"\n"
     ]
    }
   ],
   "source": [
    "print(setdiff(tmp4$name, tmp3$name) %>% sort)"
   ]
  },
  {
   "cell_type": "code",
   "execution_count": null,
   "metadata": {},
   "outputs": [],
   "source": []
  },
  {
   "cell_type": "code",
   "execution_count": 29,
   "metadata": {},
   "outputs": [],
   "source": [
    "tmp1 <- gageres_media_h99$cc[[\"greater\"]]  %>% as.data.frame %>% rownames_to_column(\"name\") %>% filter(p.val < 0.05)\n",
    "tmp2 <- gageres_media_mar$cc[[\"greater\"]]  %>% as.data.frame %>% rownames_to_column(\"name\") %>% filter(p.val < 0.05)\n",
    "tmp3 <- gageres_strain_ypd$cc[[\"greater\"]] %>% as.data.frame %>% rownames_to_column(\"name\") %>% filter(p.val < 0.05)\n",
    "tmp4 <- gageres_strain_tc$cc[[\"greater\"]]  %>% as.data.frame %>% rownames_to_column(\"name\") %>% filter(p.val < 0.05)"
   ]
  },
  {
   "cell_type": "code",
   "execution_count": 32,
   "metadata": {},
   "outputs": [
    {
     "data": {
      "text/html": [
       "<table>\n",
       "<thead><tr><th scope=col>name</th><th scope=col>p.geomean</th><th scope=col>stat.mean</th><th scope=col>p.val</th><th scope=col>q.val</th><th scope=col>set.size</th><th scope=col>exp1</th></tr></thead>\n",
       "<tbody>\n",
       "\t<tr><td>GO:0016021 | integral component of membrane</td><td>4.015234e-06                               </td><td>4.498759                                   </td><td>4.015234e-06                               </td><td>0.0000361371                               </td><td>343                                        </td><td>4.015234e-06                               </td></tr>\n",
       "\t<tr><td>GO:0016020 | membrane                      </td><td>1.578143e-02                               </td><td>2.160686                                   </td><td>1.578143e-02                               </td><td>0.0710164504                               </td><td>142                                        </td><td>1.578143e-02                               </td></tr>\n",
       "</tbody>\n",
       "</table>\n"
      ],
      "text/latex": [
       "\\begin{tabular}{r|lllllll}\n",
       " name & p.geomean & stat.mean & p.val & q.val & set.size & exp1\\\\\n",
       "\\hline\n",
       "\t GO:0016021 \\textbar{} integral component of membrane & 4.015234e-06                                          & 4.498759                                              & 4.015234e-06                                          & 0.0000361371                                          & 343                                                   & 4.015234e-06                                         \\\\\n",
       "\t GO:0016020 \\textbar{} membrane                       & 1.578143e-02                                          & 2.160686                                              & 1.578143e-02                                          & 0.0710164504                                          & 142                                                   & 1.578143e-02                                         \\\\\n",
       "\\end{tabular}\n"
      ],
      "text/markdown": [
       "\n",
       "name | p.geomean | stat.mean | p.val | q.val | set.size | exp1 | \n",
       "|---|---|\n",
       "| GO:0016021 | integral component of membrane | 4.015234e-06                                | 4.498759                                    | 4.015234e-06                                | 0.0000361371                                | 343                                         | 4.015234e-06                                | \n",
       "| GO:0016020 | membrane                       | 1.578143e-02                                | 2.160686                                    | 1.578143e-02                                | 0.0710164504                                | 142                                         | 1.578143e-02                                | \n",
       "\n",
       "\n"
      ],
      "text/plain": [
       "  name                                        p.geomean    stat.mean\n",
       "1 GO:0016021 | integral component of membrane 4.015234e-06 4.498759 \n",
       "2 GO:0016020 | membrane                       1.578143e-02 2.160686 \n",
       "  p.val        q.val        set.size exp1        \n",
       "1 4.015234e-06 0.0000361371 343      4.015234e-06\n",
       "2 1.578143e-02 0.0710164504 142      1.578143e-02"
      ]
     },
     "metadata": {},
     "output_type": "display_data"
    }
   ],
   "source": [
    "tmp1"
   ]
  },
  {
   "cell_type": "code",
   "execution_count": 33,
   "metadata": {},
   "outputs": [
    {
     "data": {
      "text/html": [
       "<table>\n",
       "<thead><tr><th scope=col>name</th><th scope=col>p.geomean</th><th scope=col>stat.mean</th><th scope=col>p.val</th><th scope=col>q.val</th><th scope=col>set.size</th><th scope=col>exp1</th></tr></thead>\n",
       "<tbody>\n",
       "\t<tr><td>GO:0005737 | cytoplasm</td><td>0.04580827            </td><td>1.694553              </td><td>0.04580827            </td><td>0.4122744             </td><td>108                   </td><td>0.04580827            </td></tr>\n",
       "</tbody>\n",
       "</table>\n"
      ],
      "text/latex": [
       "\\begin{tabular}{r|lllllll}\n",
       " name & p.geomean & stat.mean & p.val & q.val & set.size & exp1\\\\\n",
       "\\hline\n",
       "\t GO:0005737 \\textbar{} cytoplasm & 0.04580827                       & 1.694553                         & 0.04580827                       & 0.4122744                        & 108                              & 0.04580827                      \\\\\n",
       "\\end{tabular}\n"
      ],
      "text/markdown": [
       "\n",
       "name | p.geomean | stat.mean | p.val | q.val | set.size | exp1 | \n",
       "|---|\n",
       "| GO:0005737 | cytoplasm | 0.04580827             | 1.694553               | 0.04580827             | 0.4122744              | 108                    | 0.04580827             | \n",
       "\n",
       "\n"
      ],
      "text/plain": [
       "  name                   p.geomean  stat.mean p.val      q.val     set.size\n",
       "1 GO:0005737 | cytoplasm 0.04580827 1.694553  0.04580827 0.4122744 108     \n",
       "  exp1      \n",
       "1 0.04580827"
      ]
     },
     "metadata": {},
     "output_type": "display_data"
    }
   ],
   "source": [
    "tmp4"
   ]
  },
  {
   "cell_type": "code",
   "execution_count": 30,
   "metadata": {},
   "outputs": [
    {
     "name": "stdout",
     "output_type": "stream",
     "text": [
      "character(0)\n"
     ]
    }
   ],
   "source": [
    "print(setdiff(tmp2$name, tmp1$name) %>% sort)"
   ]
  },
  {
   "cell_type": "code",
   "execution_count": 31,
   "metadata": {},
   "outputs": [
    {
     "name": "stdout",
     "output_type": "stream",
     "text": [
      "character(0)\n"
     ]
    }
   ],
   "source": [
    "print(setdiff(tmp4$name, tmp3$name) %>% sort)"
   ]
  },
  {
   "cell_type": "code",
   "execution_count": null,
   "metadata": {},
   "outputs": [],
   "source": []
  },
  {
   "cell_type": "code",
   "execution_count": null,
   "metadata": {},
   "outputs": [],
   "source": []
  },
  {
   "cell_type": "code",
   "execution_count": null,
   "metadata": {},
   "outputs": [],
   "source": []
  },
  {
   "cell_type": "code",
   "execution_count": null,
   "metadata": {},
   "outputs": [],
   "source": []
  },
  {
   "cell_type": "code",
   "execution_count": null,
   "metadata": {},
   "outputs": [],
   "source": []
  },
  {
   "cell_type": "code",
   "execution_count": null,
   "metadata": {},
   "outputs": [],
   "source": []
  }
 ],
 "metadata": {
  "kernelspec": {
   "display_name": "R",
   "language": "R",
   "name": "ir"
  },
  "language_info": {
   "codemirror_mode": "r",
   "file_extension": ".r",
   "mimetype": "text/x-r-source",
   "name": "R",
   "pygments_lexer": "r",
   "version": "3.4.1"
  }
 },
 "nbformat": 4,
 "nbformat_minor": 2
}
